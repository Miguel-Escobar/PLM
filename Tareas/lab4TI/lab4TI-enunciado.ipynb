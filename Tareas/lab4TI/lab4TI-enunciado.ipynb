{
 "cells": [
  {
   "cell_type": "markdown",
   "id": "4dbf4050",
   "metadata": {},
   "source": [
    "# Laboratorio 4: Programación Lineal Mixta (MA4702, otoño 2023)\n",
    "\n",
    "Fecha: 31 de Mayo, 2023.<br/>\n",
    "Profesor: Marcos Kiwi.<br/>\n",
    "Auxiliares: Benjamín Jauregui y Cristián Palma.<br/>\n",
    "\n",
    "## Preliminares\n",
    "\n",
    "Este laboratorio consta de 2 etapas. Una Tarea Introductoria (TI) y una etapa de Trabajo Presencial (TP). La nota global del laboratorio será 40 % (TI) + 60 % (TP).\n",
    "\n",
    "La tarea introductoria es de carácter estrictamente individual. La etapa presencial es de carácter grupal. \n",
    "\n",
    "\n",
    "## Laboratorio 4: Tarea Introductoria (TI)\n",
    "\n",
    "## Instrucciones\n",
    "\n",
    "* La respuesta a esta tarea consiste en completar este mismo archivo `.ipnyb` y entregarlo a través de Tareas en UCursos, antes de las **14:15 del miércoles 31 de mayo de 2023** (Se descontará 1.0 pts. por cada 15 minutos o fracción de atraso.)\n",
    "\n",
    "* Realice esta primera tarea de manera **individual**. Bajo ningún motivo discuta sus respuestas, ni comparta o deje a disposición los archivos con sus compañeros. Se hará un estudio de similitudes entre los archivos resultantes para detectar posibles plagios."
   ]
  },
  {
   "cell_type": "markdown",
   "id": "4c02f37e",
   "metadata": {},
   "source": [
    "<div class=\"alert alert-block alert-warning\">\n",
    "    Advertencia: Si en el archivo que entregue alguna de las celdas arroja un mensaje de error al ejecutar, o el código entra en un loop infinito y no retorna con ninguna salida, Ud. deberá agregar una nota al respecto, explicando cuál cree que es el problema. Si no lo hace, se le penalizará adicionalmente.               \n",
    "</div>\n"
   ]
  },
  {
   "cell_type": "markdown",
   "id": "2d9b8b2b",
   "metadata": {},
   "source": [
    "## Datos personales\n",
    "\n",
    "<div class=\"alert alert-block alert-success\">\n",
    "    Indique su nombre: <br/>              \n",
    "</div>\n"
   ]
  },
  {
   "cell_type": "markdown",
   "id": "8c0ab6cc",
   "metadata": {},
   "source": [
    "## Introducción: *Uncapacitated Facility Location (UFL)*\n",
    "\n",
    "El objetivo de esta tarea es familiarizarse con el problema denominado *Uncapacitated Facility Location*, establecer algunos resultados preliminares que permiten abordarlo a través del método de relajación Lagrangiana, e implementar algunas rutinas para resolverlo computacionalmente. \n"
   ]
  },
  {
   "cell_type": "markdown",
   "id": "5bf65643",
   "metadata": {},
   "source": [
    "En el problema UFL, un conjunto de clientes $\\mathcal C$ debe ser servido desde un conjunto potencial de localizacones $\\mathcal L$. \n",
    "El costo de habilitar la localización $\\ell\\in\\mathcal L$ es $f_{\\ell}\\geq 0$ mientras que la utilidad de servir al cliente $c\\in\\mathcal C$ desde $\\ell\\in\\mathcal L$ es $u_{c,\\ell}\\in\\mathbb{R}$.\n",
    "Se quiere maximizar la utilidad sujeto a servir a todos los clientes, es decir, se quiere determinar:\n",
    "$$\n",
    "\\begin{array}{rlll}\n",
    "(UFL):\\  z_{UFL} = & \\max_{x, y} \\sum_{c\\in\\mathcal C}\\sum_{\\ell\\in\\mathcal L}u_{c,\\ell}y_{c,\\ell}-\\sum_{\\ell\\in\\mathcal L} f_\\ell x_\\ell \\\\\n",
    "\\text{s.a.} & \\sum_{\\ell\\in\\mathcal{L}}y_{c,\\ell} = 1, & \\forall c\\in\\mathcal C, \\\\\n",
    "& y_{c,\\ell} \\leq x_{\\ell}, & \\forall c\\in\\mathcal C, \\forall \\ell\\in\\mathcal{L}, \\\\\n",
    "& y_{c,\\ell}\\geq 0, & \\forall c\\in\\mathcal{C}, \\forall \\ell\\in\\mathcal{L}, \\\\\n",
    "& x_{\\ell}\\in\\{0,1\\}, & \\forall \\ell\\in\\mathcal{L}.\n",
    "\\end{array}\n",
    "$$\n",
    "\n",
    "Las variables $x_\\ell$ indican si la localización $\\ell$ está o no habilitada, y las variables $y_{c,\\ell}$ si el cliente $c$ es servido o no desde la localización $\\ell$. La primera familia de restricciones representa que cada cliente debe ser servido desde cierta localización. La segunda colección de restricciones indica que un cliente puede ser servido solo desde una localización habilitada."
   ]
  },
  {
   "cell_type": "markdown",
   "id": "0ef71156",
   "metadata": {},
   "source": [
    "## Ejercicio 1\n",
    "\n",
    "1a) Para $x\\in\\{0,1\\}^{\\mathcal L}$, se define:\n",
    "\n",
    "$$\n",
    "\\begin{array}{rrlll}\n",
    " (UFL_x): & z_{UFL}(x) = & \\max_{y} \\sum_{c\\in\\mathcal C}\\sum_{\\ell\\in\\mathcal L}u_{c,\\ell}y_{c,\\ell}-\\sum_{\\ell\\in\\mathcal L} f_\\ell x_\\ell \\\\\n",
    "& \\text{s.a.} & \\sum_{\\ell\\in\\mathcal{L}}y_{c,\\ell} = 1, & \\forall c\\in\\mathcal C, \\\\\n",
    "& & y_{c,\\ell} \\leq x_{\\ell}, & \\forall c\\in\\mathcal C, \\forall \\ell\\in\\mathcal{L}, \\\\\n",
    "& & y_{c,\\ell}\\geq 0, & \\forall c\\in\\mathcal{C}, \\forall \\ell\\in\\mathcal{L}.\n",
    "\\end{array}\n",
    "$$\n",
    "\n",
    "Pruebe que \n",
    "\n",
    "$$\n",
    "z_{UFL}(x) = \\sum_{c\\in\\mathcal C}\\max_{\\ell\\in\\mathcal L:x_\\ell=1} u_{c,\\ell} - \\sum_{\\ell\\in\\mathcal L : x_\\ell=1} f_{\\ell}.\n",
    "$$"
   ]
  },
  {
   "cell_type": "markdown",
   "id": "022d3794",
   "metadata": {},
   "source": [
    "<div class=\"alert alert-block alert-warning\">\n",
    "    Respuesta Ejercicio 1a: \n",
    "</div>\n"
   ]
  },
  {
   "cell_type": "markdown",
   "id": "5415fb1c",
   "metadata": {},
   "source": [
    "1b) Sea $\\mu\\in\\mathbb{R}^{\\mathcal C}$ y considere la siguiente relajación Lagrangiana de $(UFL)$, \n",
    "\n",
    "$$\n",
    "\\begin{array}{rrll}\n",
    "(LR_{\\mu}): & z_{LR}(\\mu) = & \\max_{x,y}\\sum_{c\\in\\mathcal C}\\sum_{\\ell\\in\\mathcal L} (u_{c,\\ell}-\\mu_c)y_{c,\\ell}-\\sum_{\\ell\\in\\mathcal L}f_{\\ell}x_{\\ell}+\\sum_{c\\in\\mathcal C}\\mu_c, \\\\\n",
    "& \\text{s.a.} & 0\\leq y_{c,\\ell}\\leq x_{\\ell}, & \\forall c\\in\\mathcal C, \\forall \\ell\\in\\mathcal L.\n",
    "\\end{array}\n",
    "$$\n",
    "\n",
    "En lo que sigue, para $a\\in\\mathbb{R}$, denotamos $\\max\\{a,0\\}$ por $(a)^+$.\n",
    "\n",
    "Pruebe que se tienen las siguientes afirmaciones:\n",
    "1. $z_{LR}(\\mu) = \\sum_{\\ell\\in\\mathcal L}\\big(\\sum_{c\\in\\mathcal C} (u_{c,\\ell}-\\mu_{c})^+-f_{\\ell}\\big)^+ + \\sum_{c\\in\\mathcal C}\\mu_c$.\n",
    "\n",
    "2. Un subgradiente $s\\in\\mathbb{R}^{\\mathcal C}$ de $z_{LR}(\\mu)$ en $\\mu=\\mu^0\\in\\{0,1\\}^{\\mathcal{C}}$ está dada por $s_c=1-\\sum_{c\\in\\mathcal{C}}y_{c,\\ell}(\\mu^0)$ para $c\\in\\mathcal C$, donde:\n",
    "\n",
    "$$\n",
    "y_{c,\\ell}(\\mu^0) = \\begin{cases}\n",
    "1, & \\text{si $u_{c,\\ell}>\\mu^0_c$ y $\\sum_{c\\in\\mathcal{C}}(u_{c,\\ell}-\\mu^0_c)^+> f_\\ell$}, \\\\\n",
    "0, & \\text{si no.}\n",
    "\\end{cases}\n",
    "$$"
   ]
  },
  {
   "cell_type": "markdown",
   "id": "be51c1e8",
   "metadata": {},
   "source": [
    "<div class=\"alert alert-block alert-warning\">\n",
    "    Respuesta Ejercicio 1b: \n",
    "</div>\n"
   ]
  },
  {
   "cell_type": "markdown",
   "id": "185eac44",
   "metadata": {},
   "source": [
    "## Ejercicio 2\n",
    "\n",
    "2a) Complete el código de la siguiente celda para que la función `mdlUFL()`, dados:\n",
    "\n",
    "* `util[]` matriz a coeficientes reales de tamaño $|\\mathcal{C}|\\times|\\mathcal{L}|$ que representa $u\\in\\mathbb{R}^{\\mathcal{C}\\times\\mathcal{L}}$, y\n",
    "* `costo[]` vector a coeficientes reales positivos de dimensión $|\\mathcal{L}|$ que representa $f\\in\\mathbb{R}_+^{\\mathcal L}$,\n",
    "\n",
    "retorne un modelo en `JuMP/Gurobi` de $(UFL)$ y el correspondiente vector de variables $x$. "
   ]
  },
  {
   "cell_type": "code",
   "execution_count": null,
   "id": "fd37250b",
   "metadata": {},
   "outputs": [],
   "source": [
    "using JuMP, Gurobi;           \n",
    "\n",
    "const GUROBI_ENV = Gurobi.Env() \n",
    "\n",
    "function mdlUFL(util, costo)   \n",
    "    # Comenzar a completar código aquí.\n",
    "    \n",
    "    ...\n",
    "    \n",
    "    # Terminar de completar código aquí.\n",
    "end"
   ]
  },
  {
   "cell_type": "markdown",
   "id": "b7b5a2a7",
   "metadata": {},
   "source": [
    "El `.zip` que se distribuyó junto con el enunciado de este laboratorio contiene (en el directorio `datTI`) un par de archivos que describen una instancia de $(UFL)$. Esta instancia corresponde a un conjunto de clientes distribuidos en el plano cartesiano y una colección de localizaciones, también distribuida en el plano cartesiano, así como los correspondientes costos de habilitarlas.\n",
    "\n",
    "También se provee el archivo `lab4-funcionalidad.jl` donde se implementa:\n",
    "* la función `cargaInst()` que lee  desde los archivos correspondientes instancias de $(UFL)$, y\n",
    "* otras funciones que permiten visualizar gráficamente soluciones óptimas de $(UFL_x)$ dado un vector indicatriz $x$ de localizaciones habilitadas. \n",
    "\n",
    "Ejecute la siguiente celda para resolver y visualizar la solución de su modelo en la instancia que se provee:"
   ]
  },
  {
   "cell_type": "code",
   "execution_count": null,
   "id": "b7abfcef",
   "metadata": {
    "scrolled": true
   },
   "outputs": [],
   "source": [
    "using DelimitedFiles \n",
    "dirInst = \"datTI\";            # Directorio con el archivo de la instancia Tarea Introductoria.\n",
    "\n",
    "include(\"lab4-funcionalidad.jl\");\n",
    "\n",
    "util, costo = cargaInst(dirInst,\"i001\")\n",
    "mdl, x = mdlUFL(util, costo)\n",
    "optimize!(mdl)\n",
    "\n",
    "if termination_status(mdl) == MOI.OPTIMAL                      \n",
    "    println( \"optimo = \", objective_value(mdl) )\n",
    "    arcos = genArcos( value.(x), util )\n",
    "    dibuja( Clnt, Fclt, arcos )\n",
    "elseif termination_status(mdl) == MOI.INFEASIBLE\n",
    "    println( \"infactible\" )\n",
    "elseif termination_status(mdl) == MOI.DUAL_INFEASIBLE\n",
    "    println( \"no_acotado\" )\n",
    "end   \n"
   ]
  },
  {
   "cell_type": "markdown",
   "id": "e8cc4a85",
   "metadata": {},
   "source": [
    "2b) Usando lo demostrado en el Ejercicio 1b), complete el código de la siguiente celda para que la función `zLR()`, dados:\n",
    "\n",
    "* `mu[]` vector a coeficientes reales de dimensión $|\\mathcal{C}|$ que representa los multiplicadores de Lagrance $\\mu\\in\\mathbb{R}^{\\mathcal C}$, y\n",
    "\n",
    "* `util[]` y `costo[]` como en el Ejercicio 2a),\n",
    "\n",
    "retorne el valor de $z_{LR}(\\mu)$. "
   ]
  },
  {
   "cell_type": "code",
   "execution_count": null,
   "id": "c206ad0f",
   "metadata": {},
   "outputs": [],
   "source": [
    "function zLR(mu, util, costo)\n",
    "    # Comenzar a completar código aquí.\n",
    "    \n",
    "    ...\n",
    "    \n",
    "    # Terminar de completar código aquí.\n",
    "end"
   ]
  },
  {
   "cell_type": "markdown",
   "id": "8388c59b",
   "metadata": {},
   "source": [
    "Ejecute la siguiente celda para determinar el valor de $z_{LR}(\\mu^0)$ para la instancia del Ejercicio 2a), donde $\\mu^0$ es un valor inicial de los multiplicadores de Lagrange elegido de forma que $\\mu^0_c$ sea el segundo mayor (sobre los $\\ell\\in\\mathcal{L}$) valor de $u_{c,\\ell}$.\n",
    "\n",
    "**Nota:** La función `initMu()`, dado `util[]`, inicializa `mu[]` a $\\mu^0$."
   ]
  },
  {
   "cell_type": "code",
   "execution_count": null,
   "id": "faefa3f3",
   "metadata": {},
   "outputs": [],
   "source": [
    "function initMu(util)\n",
    "    # Dada la matriz de utilidad de UFL, retorna un vector de valores iniciales para \n",
    "    # la relajación lagrangiana LR(mu)\n",
    "    cardC = size(util,1);\n",
    "\n",
    "    mu = zeros(cardC);\n",
    "    for c in 1:cardC\n",
    "        mu[c] = (reverse(sort(util[c,:])))[2];\n",
    "    end\n",
    "\n",
    "    return mu\n",
    "end\n",
    "\n",
    "mu = initMu(util)\n",
    "println( \"zLR(mu) = \", zLR(mu, util, costo) )"
   ]
  },
  {
   "cell_type": "markdown",
   "id": "974d6a99",
   "metadata": {},
   "source": [
    "Observe que el valor obtenido para $z_{LR}(\\mu^0)$ es bastante superior al óptimo $z_{UFL}$. En la parte presencial del laboratorio veremos como mejorar esta cota usando el algoritmo del subgradiente y como usar las cotas obtenidas junto con soluciones factibles para acelerar el método de *Branch & Bound* al aplicarlo a $(UFL)$."
   ]
  }
 ],
 "metadata": {
  "kernelspec": {
   "display_name": "Julia 1.8.5",
   "language": "julia",
   "name": "julia-1.8"
  },
  "language_info": {
   "file_extension": ".jl",
   "mimetype": "application/julia",
   "name": "julia",
   "version": "1.8.5"
  }
 },
 "nbformat": 4,
 "nbformat_minor": 5
}
