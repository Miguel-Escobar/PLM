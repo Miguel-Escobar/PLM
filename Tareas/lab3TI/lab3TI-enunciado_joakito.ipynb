{
 "cells": [
  {
   "cell_type": "markdown",
   "id": "4dbf4050",
   "metadata": {},
   "source": [
    "# Laboratorio 3: Programación Lineal Mixta (MA4702, otoño 2023)\n",
    "\n",
    "Fecha: 17 de Mayo, 2023.<br/>\n",
    "Profesor: Marcos Kiwi.<br/>\n",
    "Auxiliares: Benjamín Jauregui y Cristián Palma.<br/>\n",
    "\n",
    "## Preliminares\n",
    "\n",
    "Este laboratorio consta de 3 etapas. Una tarea introductoria, una etapa presencial y otra no-presencial.\n",
    "La nota global del laboratorio será 30 % (TI) + 40 % (TP) + 30 % (TNP), donde (TI) es la nota de la tarea\n",
    "introductoria, (TP) la nota del trabajo presencial y (TNP) la nota del trabajo no presencial.\n",
    "\n",
    "La tarea introductoria es de carácter estrictamente individual. La etapa presencial y no-presencial son de carácter grupal. \n",
    "\n",
    "## Laboratorio 3: Tarea Introductoria (TI)\n",
    "\n",
    "## Instrucciones\n",
    "\n",
    "* La respuesta a esta tarea consiste en completar este mismo archivo `.ipnyb` y entregarlo a través de Tareas en UCursos, antes de las **14:15 del miércoles 17 de mayo de 2023** (Se descontará 1.0 pts. por cada 15 minutos o fracción de atraso.)\n",
    "\n",
    "* Realice esta primera tarea de manera **individual**. Bajo ningún motivo discuta sus respuestas, ni comparta o deje a disposición los archivos con sus compañeros. Se hará un estudio de similitudes entre los archivos resultantes para detectar posibles plagios."
   ]
  },
  {
   "cell_type": "markdown",
   "id": "4c02f37e",
   "metadata": {},
   "source": [
    "<div class=\"alert alert-block alert-warning\">\n",
    "    Advertencia: Si en el archivo que entregue alguna de las celdas arroja un mensaje de error al ejecutar o el código entra en un loop infinito y no retorna con ninguna salida, Ud. deberá agregar una nota al respecto, explicando cual cree que es el problema. Si no lo hace, se le penalizará adicionalmente.               \n",
    "</div>\n"
   ]
  },
  {
   "cell_type": "markdown",
   "id": "2d9b8b2b",
   "metadata": {},
   "source": [
    "## Datos personales\n",
    "\n",
    "<div class=\"alert alert-block alert-success\">\n",
    "    Indique su nombre: Joaquín Márquez<br/>              \n",
    "</div>\n"
   ]
  },
  {
   "cell_type": "markdown",
   "id": "8c0ab6cc",
   "metadata": {},
   "source": [
    "## Introducción\n",
    "\n",
    "El objetivo de esta Tarea Introductoria es familiarizarse con formulaciones extendidas de problemas combinatoriales. En particular, del *Cutting Stock Problem (CSP)*.\n"
   ]
  },
  {
   "cell_type": "markdown",
   "id": "5bf65643",
   "metadata": {},
   "source": [
    "Suponga que se tiene un inventario ilimitado de barras de largo $W\\in\\mathbb{N}$. Suponga además que para $i\\in [m]$ hay una demanda de $d_i\\in\\mathbb{N}$ barras de largo $w_i$. Sin pérdida de generalidad, en lo que sigue asumimos que $w_1>w_2>...>w_m$.\n",
    "\n",
    "El CSP consiste en satisfacer la demanda usando el mínimo número de barras del inventario. Se propone formular CSP como un problema de minimización de flujo en el digrafo $G=(V,A)$ donde $V=\\{0,1,...,W\\}$ y \n",
    "$$\n",
    "A = \\{ (u,v)\\in V^2 \\mid v-u\\in\\{w_1,...,w_m\\}\\} \\cup \\{(u,v)\\in V^2 \\mid v=u+1\\}.\n",
    "$$\n",
    "**Nota:** Por simplicidad, asuma que $w_i\\neq 1$ para todo $i\\in [m]$."
   ]
  },
  {
   "cell_type": "markdown",
   "id": "0ef71156",
   "metadata": {},
   "source": [
    "## Ejercicio 1\n",
    "\n",
    "1a) Basándose en que un $(0,W)$-dicamino en $G$ representa un patrón de corte de una barra de largo $W$ y que tal dicamino está determinado por un $(0,W)$-flujo unitario en $G$, formule el CSP como un PLE."
   ]
  },
  {
   "cell_type": "markdown",
   "id": "022d3794",
   "metadata": {},
   "source": [
    "<div class=\"alert alert-block alert-warning\">\n",
    "    Respuesta Ejercicio 1a\n",
    "</div>\n",
    "Veamos que, en efecto, todo $(0,W)$-dicamino en $G$ representa un patrón de corte en una barra de largo $W$. ¿Cómo logramos esto? Pues considerando que si tenemos un $(0,W)$-dicamino $C=0u_1\\cdots u_{n-1}W$, entonces podemos notar que, dado que $w_i\\not=1$, entonces todos las aristas $u_iu_{i+1}$ que son de la forma tal que $u_{i+1}-u_i = w_i\\in \\{w_k\\}_{k=1}^m$, representan un corte de tamaño $w_i$, y cuando $u_{i+1}-u_i=1$, entonces tendríamos que no son usados para ningún elemento del pedido.\n",
    "    \n",
    "Podríamos considerar entonces la superposición de tantos caminos como queramos, estos dicaminos tienen flujo $1$ en ese sentido (ya que sería ir recorriendo de igual \"ritmo\" cada nodo que se recorre). Podríamos sumar cuantos caminos queramos y en estos se cumple que es un flujo, ya que se puede descomponer por caminos de valor constante en cada caso (en este caso es mejor aún, porque ese valor es $1$).\n",
    "\n",
    "Perfecto entonces, podemos escribir esto como un flujo, luego debemos agregarle la restricción de que la cantidad de elementos que representan un corte de tamaño $w_i$ sean iguales (o mayores) a la demanda. Sin pérdida de generalidad se pueden tomar como igualdad, ya que si tenemos una desigualdad estricta en algún caso $d_j$, podemos descomponer en dicaminos el flujo que vamos a optimzar, existirá algún dicamino con almenos un $x_{i,i+w_j}$ en él. Podemos reemplazarlo por una sucesión de aristas $x_{i,i+1}x_{i+1,i+2},\\cdots, x_{i+w_j-1, i+w_j}$. Se mantiene en cualquier caso el flujo total ya que el número de dicaminos se mantiene constante. Así obtenemos el siguiente problema:\n",
    "\\begin{align*}\n",
    "\\min &\\sum_{i=0}^{W} x_{i,W}\\\\\n",
    "\\text{s.a. } & x \\text{ flujo}\\\\\n",
    "& \\sum_{i=0}^{W} x_{i,i+w_j} &=& d_j & (\\forall j\\in[m])\\\\\n",
    "& x_e &\\geq& 0 & (\\forall e \\in A)\n",
    "\\end{align*}\n",
    "Recordando que la característica esencial del flujo es que las cosas no se crean ni destruyen, salvo en los extremos, la formulación se vuelve:\n",
    "\\begin{align*}\n",
    "\\min &\\sum_{i=0}^{W} x_{i,W}\\\\\n",
    "\\text{s.a. } & \\sum_{j=0}^W x_{j,i} &=& \\sum_{j=0}^W x_{i,j} & (\\forall i \\in [W-1]\\backslash\\{0\\})\\\\\n",
    "& \\sum_{i=0}^{W} x_{i,i+w_j} &=& d_j & (\\forall j\\in[m])\\\\\n",
    "& x_e &\\geq& 0 & (\\forall e \\in A)\\\\\n",
    "& x_e &\\in& \\mathbb{N} & (\\forall e\\in A)\n",
    "\\end{align*}\n",
    "Donde por temas de nomenclatura, cuando $i+w_j>W$, vamos a considerarlo como una suma vacía (es decir, se cuenta cada sumatoria allí hasta que el $i+w_j$ no sea válido)."
   ]
  },
  {
   "cell_type": "markdown",
   "id": "61bcada2",
   "metadata": {},
   "source": [
    "1b) Complete (donde se indica) el código de la siguiente celda de forma que la función `csp1(dtsInst)` optimice y retorne una formulación en `JuMP` de $(CSP)$ para la instancia que se especifica a través del arreglo `dstInst` (ver comentarios en el código que indican como se codifica la instancia). "
   ]
  },
  {
   "cell_type": "code",
   "execution_count": 13,
   "id": "cc0c59af",
   "metadata": {
    "scrolled": true
   },
   "outputs": [
    {
     "name": "stdout",
     "output_type": "stream",
     "text": [
      "Set parameter Username\r\n",
      "Academic license - for non-commercial use only - expires 2024-03-09\r\n"
     ]
    },
    {
     "name": "stderr",
     "output_type": "stream",
     "text": [
      "WARNING: redefinition of constant GUROBI_ENV. This may fail, cause incorrect answers, or produce other errors.\n"
     ]
    },
    {
     "ename": "LoadError",
     "evalue": "syntax: missing comma or ) in argument list",
     "output_type": "error",
     "traceback": [
      "syntax: missing comma or ) in argument list",
      "",
      "Stacktrace:",
      " [1] top-level scope",
      "   @ In[13]:28"
     ]
    }
   ],
   "source": [
    "using JuMP, Gurobi;\n",
    "const GUROBI_ENV = Gurobi.Env();\n",
    "\n",
    "function csp1(dtsInst)\n",
    "  # Función que crea el modelo a resolver.\n",
    "\n",
    "  mdl = Model(optimizer_with_attributes(() -> Gurobi.Optimizer(GUROBI_ENV), \"OutputFlag\" => 0));\n",
    "\n",
    "  W = dtsInst[1];              # Largo barras en inventario.\n",
    "  m = (size(dtsInst,2)-1) ÷ 2  # No. de largos distintos de barras a cortar.\n",
    "  wgh = dtsInst[2:m+1];        # Largos de las m barras que se pueden cortar (wgh[1] > wgh[2] > ... > wgh[m])\n",
    "  d = dtsInst[m+2:2m+1];       # d[i] = demanda por barras de largo wgh[i]\n",
    "    \n",
    "  # \n",
    "  # Crear modelo\n",
    "  #\n",
    "  # Comenzar a agregar código a continuación.\n",
    "  @variable(mdl, z[i=1:W,j=1:W],Int)\n",
    "  # Esto da que las variables que trabajaremos sean enteras.\n",
    "  @objective(mdl, Min, sum(z[i,W] for i=1:W))\n",
    "  # Ahí tenemos lista la función objetivo\n",
    "  @constraint(mdl,[j=2:W-1], sum(z[j,i] for i=1:W) == sum(z[i,j] for i=1:W)) # Definición flujo\n",
    "  @constraint(mdl,[j=1:m], sum(z[i,i+wgh[j]] for i=1:(W-wgh[j])) == d[j]) # Cumple la demanda de forma exacta\n",
    "  @constraint(mdl,[j=1:W-1], z[j,j+1] >= 0) # Restricción sobre los vecinos inmediatos\n",
    "  @constraint(mdl,[j=1:m, i=1:W-wgh[j]], z[i,i+wgh[j]] >= 0) # Restricción sobre los representantes de las barras w_j\n",
    "  for i=1:W\n",
    "      for j=1:W\n",
    "          if (i-j !in wgh) && (i-j != 1)\n",
    "              @constraint(mdl, z[i,j] == 0) # No tomará el resto de posibles caminos.\n",
    "          end\n",
    "      end\n",
    "  end\n",
    "  # Terminar de agregar código.\n",
    "  @time optimize!(mdl)\n",
    "    \n",
    "  return mdl\n",
    "end"
   ]
  },
  {
   "cell_type": "markdown",
   "id": "7e1affbd",
   "metadata": {},
   "source": [
    "No sé porque no compila, creo que escribí algo mal en el ciclo for. Pero la idea era fijar todas las posibles \"aristas restantes\" con capacidad 0 por así decirlo."
   ]
  },
  {
   "cell_type": "markdown",
   "id": "9a29df6d",
   "metadata": {},
   "source": [
    "Ejecute la siguiente celda para resolver las instancias que se proveen."
   ]
  },
  {
   "cell_type": "code",
   "execution_count": 6,
   "id": "1a544034",
   "metadata": {
    "scrolled": false
   },
   "outputs": [
    {
     "name": "stdout",
     "output_type": "stream",
     "text": [
      "============================================================\n",
      "Instancia csp-i001.txt\n",
      "============================================================\n",
      "  0.072386 seconds (1.30 k allocations: 111.891 KiB)\n",
      "============================================================\n",
      "Instancia csp-i002.txt\n",
      "============================================================\n",
      "  0.006536 seconds (1.13 k allocations: 98.484 KiB)\n",
      "============================================================\n",
      "Instancia csp-i003.txt\n",
      "============================================================\n",
      "  0.010974 seconds (929 allocations: 82.422 KiB)\n",
      "============================================================\n",
      "Instancia csp-i004.txt\n",
      "============================================================\n",
      "  1.382409 seconds (2.02 M allocations: 207.114 MiB)\n",
      "============================================================\n",
      "Instancia csp-i005.txt\n",
      "============================================================\n",
      "  0.051340 seconds (83.26 k allocations: 8.651 MiB)\n",
      "============================================================\n",
      "Instancia csp-i006.txt\n",
      "============================================================\n",
      "  4.821919 seconds (8.04 M allocations: 841.280 MiB, 12.34% gc time)\n",
      "============================================================\n",
      "Instancia csp-i007.txt\n",
      "============================================================\n",
      " 32.684542 seconds (32.10 M allocations: 3.297 GiB, 14.06% gc time)\n",
      "\n",
      "RESUMEN:\n",
      "Instancia | Valor \n",
      "   1         0.0\n",
      "   2         0.0\n",
      "   3         0.0\n",
      "   4         0.0\n",
      "   5         0.0\n",
      "   6         0.0\n",
      "   7         0.0\n"
     ]
    }
   ],
   "source": [
    "using DelimitedFiles;\n",
    "\n",
    "dirInst = \"dirTI\";      # Directorio con archivos de instancias.\n",
    "\n",
    "rslt1 = [];\n",
    "for fn in readdir(dirInst)\n",
    "  dtsInst = readdlm(joinpath(dirInst,fn), ',', Int64, '\\n')\n",
    "\n",
    "  println( repeat('=', 60) );\n",
    "  println( \"Instancia \", fn );\n",
    "  println( repeat('=', 60) );\n",
    "  mdl = csp1(dtsInst)\n",
    "  if termination_status(mdl) == MOI.OPTIMAL\n",
    "    obj = objective_value(mdl);\n",
    "  else\n",
    "    obj = Inf\n",
    "  end\n",
    "\n",
    "  # Guarda estadísticas para análisis posterior.\n",
    "  push!(rslt1, obj);\n",
    "end\n",
    "\n",
    "# Imprime resumen de resultados.\n",
    "println( \"\" ); println( \"RESUMEN:\")\n",
    "println( \"Instancia | Valor \" );\n",
    "for i in 1:size(rslt1,1)\n",
    "  print( \"   \", i, \"         \")\n",
    "  println( rslt1[i] ) \n",
    "end"
   ]
  },
  {
   "cell_type": "markdown",
   "id": "599a8814",
   "metadata": {},
   "source": [
    "## Ejercicio 2\n",
    "\n",
    "Se definen: \n",
    "\n",
    "1. $A_1=\\{(u,u+1)\\in A \\mid u < w_m\\}$. \n",
    "2. $A_2=\\cup_{j\\in [m]} A_2(j)$ donde $A_2(j)=\\{(v,v+w_j)\\in A \\mid v\\neq 0, \\forall i\\in [j], (v-w_{i},v)\\not\\in A\\}$ para todo $j\\in [m]$.\n",
    "3. $A_3=\\cup_{j\\in [m]} A_3(j)$ donde $A_3(j)=\\{(v,v+w_j)\\in A \\mid (v-kw_j,v-(k-1)w_j)\\in A, \\forall k\\in [d]\\}$.\n",
    "\n",
    "Sea $A'=A\\setminus (A_1\\cup A_2\\cup A_3)$ y $(CSP')$ su formulación de $(CSP)$ pero considerando ahora $A'$ en reemplazo de $A$ (equivalentemente, $(CSP')$ es la formulación análoga a de $(CSP)$ de la parte anterior pero considerando el grafo $G'=(V,A')$ en vez de $G=(V,A)$). Sea $z'$ el valor óptimo de $(CSP')$.\n",
    "\n",
    "Pruebe que $z=z'$.\n"
   ]
  },
  {
   "cell_type": "markdown",
   "id": "db5a369f",
   "metadata": {},
   "source": [
    "<div class=\"alert alert-block alert-warning\">\n",
    "    Respuesta Ejercicio 2:  \n",
    "    \n",
    "    \n",
    "    \n",
    "    \n",
    "    \n",
    "</div>\n"
   ]
  },
  {
   "cell_type": "markdown",
   "id": "01a001d3",
   "metadata": {},
   "source": [
    "La idea en este ejercicio es reducir la cantidad de simetrías del problema, ya que si tenemos una solución, en cada camino podemos armar, por como está creado el grafo, un reordenamiento de dichas aristas y seguiría siendo solución, esto da un gran problema para cuando se optimiza el caso. $A_1$ lo que hace es decir que la primera arista sí o sí debe representar una barra útil (dice menor a $w_m$ porque es la menor, entonces quitamos todas las aristas que solo se podían formar concatenando aristas que representaban el no utilizar una parte de la barra).\n",
    "\n",
    "El $A_2$ representa que las aristas estén en orden según el largo que utilizarán, en este caso es en orden creciente (si la primera es la más pequeña, la siguiente debe ser algo más larga, de la contrario ocurre la restricción que dice ahí de que se tomó una arista menor o igual después) Nótese que esta sólo excluye las primeras, la $A_3$ completa el trabajo extendiendo esta noción a las siguientes. con $k$ y $k-1$.\n",
    "\n",
    "Esto solo impone una noción de \"ordenamiento\" en los flujos que se van a optimizar, eliminando una simetría (de forma parcial por excluir el $A_3$ para este desarrollo). Por esto, ya que esto da un subconjunto pero como es reordenamiento la solución $z$ se puede transformar en $z'$, tenemos que deben ser iguales."
   ]
  }
 ],
 "metadata": {
  "kernelspec": {
   "display_name": "Julia 1.8.5",
   "language": "julia",
   "name": "julia-1.8"
  },
  "language_info": {
   "file_extension": ".jl",
   "mimetype": "application/julia",
   "name": "julia",
   "version": "1.8.5"
  }
 },
 "nbformat": 4,
 "nbformat_minor": 5
}
