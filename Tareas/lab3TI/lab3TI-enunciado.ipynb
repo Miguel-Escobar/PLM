{
 "cells": [
  {
   "cell_type": "markdown",
   "id": "4dbf4050",
   "metadata": {},
   "source": [
    "# Laboratorio 3: Programación Lineal Mixta (MA4702, otoño 2023)\n",
    "\n",
    "Fecha: 17 de Mayo, 2023.<br/>\n",
    "Profesor: Marcos Kiwi.<br/>\n",
    "Auxiliares: Benjamín Jauregui y Cristián Palma.<br/>\n",
    "\n",
    "## Preliminares\n",
    "\n",
    "Este laboratorio consta de 3 etapas. Una tarea introductoria, una etapa presencial y otra no-presencial.\n",
    "La nota global del laboratorio será 30 % (TI) + 40 % (TP) + 30 % (TNP), donde (TI) es la nota de la tarea\n",
    "introductoria, (TP) la nota del trabajo presencial y (TNP) la nota del trabajo no presencial.\n",
    "\n",
    "La tarea introductoria es de carácter estrictamente individual. La etapa presencial y no-presencial son de carácter grupal. \n",
    "\n",
    "## Laboratorio 3: Tarea Introductoria (TI)\n",
    "\n",
    "## Instrucciones\n",
    "\n",
    "* La respuesta a esta tarea consiste en completar este mismo archivo `.ipnyb` y entregarlo a través de Tareas en UCursos, antes de las **14:15 del miércoles 17 de mayo de 2023** (Se descontará 1.0 pts. por cada 15 minutos o fracción de atraso.)\n",
    "\n",
    "* Realice esta primera tarea de manera **individual**. Bajo ningún motivo discuta sus respuestas, ni comparta o deje a disposición los archivos con sus compañeros. Se hará un estudio de similitudes entre los archivos resultantes para detectar posibles plagios."
   ]
  },
  {
   "cell_type": "markdown",
   "id": "4c02f37e",
   "metadata": {},
   "source": [
    "<div class=\"alert alert-block alert-warning\">\n",
    "    Advertencia: Si en el archivo que entregue alguna de las celdas arroja un mensaje de error al ejecutar o el código entra en un loop infinito y no retorna con ninguna salida, Ud. deberá agregar una nota al respecto, explicando cual cree que es el problema. Si no lo hace, se le penalizará adicionalmente.               \n",
    "</div>\n"
   ]
  },
  {
   "attachments": {},
   "cell_type": "markdown",
   "id": "2d9b8b2b",
   "metadata": {},
   "source": [
    "## Datos personales\n",
    "\n",
    "<div class=\"alert alert-block alert-success\">\n",
    "    Indique su nombre: Miguel Escobar<br/>              \n",
    "</div>\n"
   ]
  },
  {
   "cell_type": "markdown",
   "id": "8c0ab6cc",
   "metadata": {},
   "source": [
    "## Introducción\n",
    "\n",
    "El objetivo de esta Tarea Introductoria es familiarizarse con formulaciones extendidas de problemas combinatoriales. En particular, del *Cutting Stock Problem (CSP)*.\n"
   ]
  },
  {
   "cell_type": "markdown",
   "id": "5bf65643",
   "metadata": {},
   "source": [
    "Suponga que se tiene un inventario ilimitado de barras de largo $W\\in\\mathbb{N}$. Suponga además que para $i\\in [m]$ hay una demanda de $d_i\\in\\mathbb{N}$ barras de largo $w_i$. Sin pérdida de generalidad, en lo que sigue asumimos que $w_1>w_2>...>w_m$.\n",
    "\n",
    "El CSP consiste en satisfacer la demanda usando el mínimo número de barras del inventario. Se propone formular CSP como un problema de minimización de flujo en el digrafo $G=(V,A)$ donde $V=\\{0,1,...,W\\}$ y \n",
    "$$\n",
    "A = \\{ (u,v)\\in V^2 \\mid v-u\\in\\{w_1,...,w_m\\}\\} \\cup \\{(u,v)\\in V^2 \\mid v=u+1\\}.\n",
    "$$\n",
    "**Nota:** Por simplicidad, asuma que $w_i\\neq 1$ para todo $i\\in [m]$."
   ]
  },
  {
   "cell_type": "markdown",
   "id": "0ef71156",
   "metadata": {},
   "source": [
    "## Ejercicio 1\n",
    "\n",
    "1a) Basándose en que un $(0,W)$-dicamino en $G$ representa un patrón de corte de una barra de largo $W$ y que tal dicamino está determinado por un $(0,W)$-flujo unitario en $G$, formule el CSP como un PLE."
   ]
  },
  {
   "attachments": {},
   "cell_type": "markdown",
   "id": "022d3794",
   "metadata": {},
   "source": [
    "\n",
    "Respuesta Ejercicio 1a: \n",
    "\n",
    "El problema consiste en minimizar el número de dicaminos desde $0$ a $W$, ya que cada dicamino es una barra que cortamos (y por ende utilizamos). La función objetivo entonces tiene que representar este número de dicaminos, que es entero. La restricción consiste en que el flujo que salga tiene que ser el mismo que entra para todo vértice salvo el sumidero y la fuente, además de que se cumpla la demanda. Esto es, que hayan $d_j$ dicaminos que incluyan una arista tipo $(i, i+w_j)$. El hecho de que no hay demandas unitarias significa que puedo considerar, sin pérdida de generalidad, que hay exactamente $d_j$ dicaminos que cumplen esto, pues de lo contrario simplemente lo transformo en union de aristas $(i, i+1)$. Sea entonces $x_{i, j}$ el flujo desde del vértice $i \\in V$ a $j \\in V$. Considero que es 0 cuando la arista no está en el digrafo.\n",
    "\n",
    "(PLE):                                                 $$\\textrm{min}\\sum_{j \\in V} x_{0, j}$$\n",
    "\n",
    "s.a:   $$\\sum_{j \\in V} x_{i, j} - \\sum_{j \\in V} x_{j, i} = 0 ,  \\forall i \\in V - \\{0, W\\} \\textrm{         (restricción de flujo)}$$  \n",
    "       $$\\sum_{n \\in V} x_{n,n+w_i} = d_i, \\forall i \\in [m]$$\n",
    "\n"
   ]
  },
  {
   "cell_type": "markdown",
   "id": "61bcada2",
   "metadata": {},
   "source": [
    "1b) Complete (donde se indica) el código de la siguiente celda de forma que la función `csp1(dtsInst)` optimice y retorne una formulación en `JuMP` de $(CSP)$ para la instancia que se especifica a través del arreglo `dstInst` (ver comentarios en el código que indican como se codifica la instancia). "
   ]
  },
  {
   "cell_type": "code",
   "execution_count": 1,
   "id": "cc0c59af",
   "metadata": {},
   "outputs": [
    {
     "name": "stdout",
     "output_type": "stream",
     "text": [
      "Set parameter Username\n",
      "Academic license - for non-commercial use only - expires 2024-05-16\n"
     ]
    },
    {
     "ename": "ErrorException",
     "evalue": "syntax: invalid identifier name \"...\"",
     "output_type": "error",
     "traceback": [
      "syntax: invalid identifier name \"...\"\n",
      "\n",
      "Stacktrace:\n",
      " [1] top-level scope\n",
      "   @ ~/github/PLM/Tareas/lab3TI/lab3TI-enunciado.ipynb:19"
     ]
    }
   ],
   "source": [
    "using JuMP, Gurobi;\n",
    "const GUROBI_ENV = Gurobi.Env();\n",
    "\n",
    "function csp1(dtsInst)\n",
    "  # Función que crea el modelo a resolver.\n",
    "\n",
    "  mdl = Model(optimizer_with_attributes(() -> Gurobi.Optimizer(GUROBI_ENV), \"OutputFlag\" => 0));\n",
    "\n",
    "  W = dtsInst[1];              # Largo barras en inventario.\n",
    "  m = (size(dtsInst,2)-1) ÷ 2  # No. de largos distintos de barras a cortar.\n",
    "  wgh = dtsInst[2:m+1];        # Largos de las m barras que se pueden cortar (wgh[1] > wgh[2] > ... > wgh[m])\n",
    "  d = dtsInst[m+2:2m+1];       # d[i] = demanda por barras de largo wgh[i]\n",
    "    \n",
    "  # \n",
    "  # Crear modelo\n",
    "  #\n",
    "  # Comenzar a agregar código a continuación.\n",
    "    \n",
    "  ...  \n",
    "  ...\n",
    "    \n",
    "  # Terminar de agregar código.\n",
    "  @time optimize!(mdl)\n",
    "    \n",
    "  return mdl\n",
    "end"
   ]
  },
  {
   "cell_type": "markdown",
   "id": "9a29df6d",
   "metadata": {},
   "source": [
    "Ejecute la siguiente celda para resolver las instancias que se proveen."
   ]
  },
  {
   "cell_type": "code",
   "execution_count": null,
   "id": "1a544034",
   "metadata": {},
   "outputs": [],
   "source": [
    "using DelimitedFiles;\n",
    "\n",
    "dirInst = \"dirTI\";      # Directorio con archivos de instancias.\n",
    "\n",
    "rslt1 = [];\n",
    "for fn in readdir(dirInst)\n",
    "  dtsInst = readdlm(joinpath(dirInst,fn), ',', Int64, '\\n')\n",
    "\n",
    "  println( repeat('=', 60) );\n",
    "  println( \"Instancia \", fn );\n",
    "  println( repeat('=', 60) );\n",
    "  mdl = csp1(dtsInst)\n",
    "  if termination_status(mdl) == MOI.OPTIMAL\n",
    "    obj = objective_value(mdl);\n",
    "  else\n",
    "    obj = Inf\n",
    "  end\n",
    "\n",
    "  # Guarda estadísticas para análisis posterior.\n",
    "  push!(rslt1, obj);\n",
    "end\n",
    "\n",
    "# Imprime resumen de resultados.\n",
    "println( \"\" ); println( \"RESUMEN:\")\n",
    "println( \"Instancia | Valor \" );\n",
    "for i in 1:size(rslt1,1)\n",
    "  print( \"   \", i, \"         \")\n",
    "  println( rslt1[i] ) \n",
    "end"
   ]
  },
  {
   "cell_type": "markdown",
   "id": "599a8814",
   "metadata": {},
   "source": [
    "## Ejercicio 2\n",
    "\n",
    "Se definen: \n",
    "\n",
    "1. $A_1=\\{(u,u+1)\\in A \\mid u < w_m\\}$. \n",
    "2. $A_2=\\cup_{j\\in [m]} A_2(j)$ donde $A_2(j)=\\{(v,v+w_j)\\in A \\mid v\\neq 0, \\forall i\\in [j], (v-w_{i},v)\\not\\in A\\}$ para todo $j\\in [m]$.\n",
    "3. $A_3=\\cup_{j\\in [m]} A_3(j)$ donde $A_3(j)=\\{(v,v+w_j)\\in A \\mid (v-kw_j,v-(k-1)w_j)\\in A, \\forall k\\in [d]\\}$.\n",
    "\n",
    "Sea $A'=A\\setminus (A_1\\cup A_2\\cup A_3)$ y $(CSP')$ su formulación de $(CSP)$ pero considerando ahora $A'$ en reemplazo de $A$ (equivalentemente, $(CSP')$ es la formulación análoga a de $(CSP)$ de la parte anterior pero considerando el grafo $G'=(V,A')$ en vez de $G=(V,A)$). Sea $z'$ el valor óptimo de $(CSP')$.\n",
    "\n",
    "Pruebe que $z=z'$.\n"
   ]
  },
  {
   "cell_type": "markdown",
   "id": "db5a369f",
   "metadata": {},
   "source": [
    "<div class=\"alert alert-block alert-warning\">\n",
    "    Respuesta Ejercicio 2:  \n",
    "    \n",
    "    \n",
    "    \n",
    "    \n",
    "    \n",
    "</div>\n"
   ]
  },
  {
   "cell_type": "code",
   "execution_count": null,
   "id": "b5bd261a",
   "metadata": {},
   "outputs": [],
   "source": []
  }
 ],
 "metadata": {
  "kernelspec": {
   "display_name": "Julia 1.9.0",
   "language": "julia",
   "name": "julia-1.9"
  },
  "language_info": {
   "file_extension": ".jl",
   "mimetype": "application/julia",
   "name": "julia",
   "version": "1.9.0"
  }
 },
 "nbformat": 4,
 "nbformat_minor": 5
}
