{
 "cells": [
  {
   "cell_type": "markdown",
   "metadata": {},
   "source": [
    "# Laboratorio 1: Programación Lineal Mixta (MA4702, otoño 2023)\n",
    "\n",
    "Profesor: Marcos Kiwi.<br/>\n",
    "Auxiliares: Benjamín Jauregui y Cristián Palma.<br/>\n",
    "\n",
    "## Preliminares\n",
    "\n",
    "Este laboratorio consta de 3 etapas. Una tarea introductoria, una etapa presencial y otra no-presencial.\n",
    "La nota global del laboratorio será 30 % (TI) + 40 % (TP) + 30 % (TNP), donde (TI) es la nota de la tarea\n",
    "introductoria, (TP) la nota del trabajo presencial y (TNP) la nota del trabajo no presencial.\n",
    "\n",
    "La tarea introductoria es de carácter estrictamente individual. La etapa presencial y no-presencial son de carácter grupal. \n",
    "\n",
    "## Laboratorio 1: Tarea Presencial (TP) y Tarea No-presencial (TNP)\n",
    "\n",
    "\n",
    "# Instrucciones.\n",
    "\n",
    "En la parte presencial del laboratorio, realice las siguientes actividades:\n",
    "\n",
    "* Complete la celda “A. Datos grupo”.\n",
    "* Descargue los archivos y funciones auxiliares de UCursos (todos deben quedar en el mismo directorio en que está almacenado este archivo).\n",
    "* Complete la sección \"B. preparación\".\n",
    "* Lea el enunciado y complete los ejercicios 1, 2 y 3.\n",
    "* Envíe el archivo .ipynb por el módulo de tareas de UCursos en la TAREA: Laboratorio 1 presencial. \n",
    "* Plazo de entrega: **miércoles 29 de marzo a las 18:00** (se descontará 0.5 pts. por cada 15 min o fracción de atraso).\n",
    "\n",
    "En la parte no presencial del laboratorio, realice las siguientes actividades:\n",
    "\n",
    "* Complete todos los ejercicios\n",
    "* Envíe el archivo .ipynb por el módulo de tareas de UCursos en la TAREA: Laboratorio 1 completo.\n",
    "* Plazo de entrega: **viernes 31 de marzo a las 22:00** (se descontará 0.5 pts. por cada hora de atraso).\n",
    "\n"
   ]
  },
  {
   "attachments": {},
   "cell_type": "markdown",
   "metadata": {},
   "source": [
    "## A. Datos del grupo\n",
    "\n",
    "<div class=\"alert alert-block alert-success\">&nbsp;\n",
    "\n",
    "- Número o identificador del Grupo: 9\n",
    "    \n",
    "- Integrante 1: Miguel Escobar\n",
    "\n",
    "- Integrante 2: Nicolás Fuenzalida     </div>\n"
   ]
  },
  {
   "cell_type": "markdown",
   "metadata": {},
   "source": [
    "## B. Preparación\n",
    "\n",
    "Usaremos los paquetes JuMP, Gurobi, Distances, Plots, Graphs y Combinatorics.\n",
    "A continuación, descomente las líneas pertinentes si no tiene instalados los respectivos paquetes y asegúrese de tener la última versión de JuMP corriendo (1.9.0 a marzo de 2023)"
   ]
  },
  {
   "cell_type": "code",
   "execution_count": null,
   "metadata": {},
   "outputs": [],
   "source": [
    "import Pkg\n",
    "#Pkg.add(\"Distances\")        # Para instalar Distances\n",
    "#Pkg.add(\"Plots\")            # Para instalar Plots\n",
    "#Pkg.add(\"Graphs\")           # Para instalar Graphs\n",
    "#Pkg.add(\"Combinatorics\")    # Para instalar Combinatorics\n",
    "#Pkg.update(\"JuMP\")          # Para acutalizar JuMP\n",
    "Pkg.status(\"JuMP\")\n"
   ]
  },
  {
   "cell_type": "code",
   "execution_count": 16,
   "metadata": {},
   "outputs": [
    {
     "name": "stdout",
     "output_type": "stream",
     "text": [
      "Set parameter Username\r\n",
      "Academic license - for non-commercial use only - expires 2024-03-22\r\n"
     ]
    },
    {
     "name": "stderr",
     "output_type": "stream",
     "text": [
      "WARNING: redefinition of constant GUROBI_ENV. This may fail, cause incorrect answers, or produce other errors.\n"
     ]
    },
    {
     "data": {
      "text/plain": [
       "Gurobi.Env(Ptr{Nothing} @0x00000284f40fe780, false, 0)"
      ]
     },
     "metadata": {},
     "output_type": "display_data"
    }
   ],
   "source": [
    "using JuMP, Gurobi, Distances, Plots, Graphs, Combinatorics\n",
    "const GUROBI_ENV = Gurobi.Env()      #Esta referencia  nos servirá para usar solo un ambiente de Gurobi."
   ]
  },
  {
   "cell_type": "markdown",
   "metadata": {},
   "source": [
    "* En este problema calcularemos árboles generadores de peso mínimo con restricciones en los grados que conectan puntos en el plano. \n",
    "\n",
    "Para cargar los archivos de entrada y visualizar información usaremos algunas funciones pre-escritas. El archivo \"lab1-funciones.jl\", descrito a continuación, tiene las funciones que necesitaremos.\n",
    "\n",
    "```julia\n",
    "dibuja(coordx,coordy,arcos)\n",
    "# Recibe dos arreglos de N valores donde (coordx[i],coordy[i]) son las coordenadas del punto i.\n",
    "# Recibe además una matriz arcos de N x N, donde arcos[i,j] es el peso del arco [i,j]\n",
    "# Dibuja los N puntos en el plano y dibuja los arcos con ancho de linea proporcional al peso.\n",
    "\n",
    "lee_archivo(nombre_archivo)\n",
    "# Recibe un archivo con las coordenadas de N puntos, devolviendo N, las coordenadas x, las coordenadas y, \n",
    "# y un vector de restricción de grado b.\n",
    "\n",
    "componente_conexa(A)\n",
    "# Recibe una matriz de adyacencia A de un digrafo G, ignora la orientación de los arcos y retorna un \n",
    "# arreglo cuyos elementos son arreglos de enteros (tantos elementos como componentes conexas tenga el \n",
    "# digrafo G). Cada uno de los arreglos de enteros corresponde a los índices de los vértices de una \n",
    "# componente conexa de G.\n",
    "```\n",
    "\n",
    "* Cargue el archivo empleando el siguiente comando:"
   ]
  },
  {
   "cell_type": "code",
   "execution_count": 17,
   "metadata": {},
   "outputs": [],
   "source": [
    "include(\"lab1-funcionalidad.jl\");"
   ]
  },
  {
   "cell_type": "markdown",
   "metadata": {},
   "source": [
    "* Pruebe las funciones auxiliares cargando el archivo \"lab1-ejemplo3.txt\" (con 25 puntos), y dándole peso a algunas aristas como sigue:"
   ]
  },
  {
   "cell_type": "code",
   "execution_count": null,
   "metadata": {
    "scrolled": false
   },
   "outputs": [],
   "source": [
    "N,x_pos,y_pos=lee_archivo(\"lab1-ejemplo4.txt\")\n",
    "aristas_ejemplo=zeros(N,N)\n",
    "aristas_ejemplo[11,14]=1\n",
    "aristas_ejemplo[1,20]=0.1\n",
    "aristas_ejemplo[18,23]=0.5\n",
    "for i in 1:5\n",
    "    for j in 2:9\n",
    "        aristas_ejemplo[i, j ] = 0.1\n",
    "\n",
    "    end\n",
    "end\n",
    "\n",
    "dibuja(x_pos,y_pos,aristas_ejemplo)"
   ]
  },
  {
   "cell_type": "code",
   "execution_count": null,
   "metadata": {},
   "outputs": [],
   "source": [
    "length(y_pos)\n",
    "\n"
   ]
  },
  {
   "cell_type": "markdown",
   "metadata": {},
   "source": [
    "* Pruebe como generar todos los subconjuntos propios de [1 2 3] usando la función ```powerset()``` del paquete Combinatorics."
   ]
  },
  {
   "cell_type": "code",
   "execution_count": null,
   "metadata": {},
   "outputs": [],
   "source": [
    "N = 4\n",
    "for S in powerset(1:N)\n",
    "    println(typeof(S))\n",
    "\n",
    "end\n",
    "\n"
   ]
  },
  {
   "cell_type": "markdown",
   "metadata": {},
   "source": [
    "## Formulación como PLE\n",
    "\n",
    "Las instancias del problema del árbol generador de peso mínimo con restricción en los grados están determinadas por una función $c:E\\to\\mathbb{R}_+$ donde $c(e)$ representa la distancia (o peso) del arco $e$ de $G$. Este problema es NP-completo y difícil de abordar en toda generalidad.\n",
    "\n",
    "Sin pérdida de generalidad, podemos asumir que $G$ es grafo completo (extendiendo $c(\\cdot)$ asignándole un peso muy grande a los “arcos” que no están en $G$). Como se adelantó en la parte previa al laboratorio, el problema que nos interesa estudiar se puede formular como un programa entero. Concretamente, sea $G=(V,E)$ un grafo completo (no dirigido y sin bucles).  Denotamos por $b_v\\in\\mathbb{N}$ la cota superior en el grado del vértice $v\\in V$ en el árbol generador. Consideremos el siguiente programa lineal binario:\n",
    "\n",
    "$$\n",
    "\\begin{array}{rlllr}\n",
    "& \\min_{z} \\sum_{e\\in E}c_{e}z_{e} \\\\\n",
    "s.a. & \\\\\n",
    "& \\sum_{e\\in E} z_{e} = |V|-1, \\\\\n",
    "& \\sum_{e\\in \\delta(S)} z_{e} \\geq 1, & \\forall\\emptyset\\subsetneq S\\subsetneq V,\n",
    "& \\text{(restricción de cortes)}\\\\\n",
    "& 1 \\leq \\sum_{e=\\{u,w\\}\\in E:v\\in\\{u,w\\}} z_{e} \\leq b_v, & \\forall v\\in V, \\\\\n",
    "& z_e\\in\\{0,1\\}, \\forall e\\in E. \\\\\n",
    "\\end{array}\n",
    "$$\n",
    "\n",
    "Una forma alternativa que se presta mejor para trabajar en Julia/JuMP/Gurobi consiste en definir $c_{u,v}=c(\\{u,v\\})$, trabajar con variables $z_{u,v}$ con $u,v\\in V$ y usar la siguiente formulación equivalente:\n",
    "$$\n",
    "\\begin{array}{rlllr}\n",
    "(M_1): & \\min_{z} \\frac12\\sum_{u,v\\in V}c_{u,v}z_{u,v} \\\\\n",
    "s.a. & \\\\\n",
    "& z_{u,u} = 0, & \\forall u\\in V, \\\\\n",
    "& z_{u,v} = z_{v,u}, & \\forall u,v\\in V, \\\\\n",
    "& \\sum_{u,v\\in V} z_{u,v} = 2(|V|-1), \\\\\n",
    "& \\sum_{u,v\\in V: u\\in S, v\\not\\in S} z_{u,v} \\geq 1, & \\forall\\emptyset\\subsetneq S\\subsetneq V,\n",
    "& \\text{(restricción de cortes)}\\\\\n",
    "& 1 \\leq \\sum_{u\\in V} z_{u,v} \\leq b_v, & \\forall v\\in V, \\\\\n",
    "& z_{u,v}\\in\\{0,1\\}, \\forall u,v\\in V. \\\\\n",
    "\\end{array}\n",
    "$$\n",
    "**Nota:** Si bien hemos algo más que duplicado la cantidad de variables, las nuevas variables están ya sea fijas, o completamente determinadas por las variables antiguas. Los solvers manejan bien estas situaciones y no se ven mayormente impactados en su eficiencia. \n",
    "\n",
    "Como se puede apreciar, $(M_1)$ tiene una cantidad exponencial (en $|V|$) de restricciones. Inclusive la relajación de $(M_1)$, donde la condición $z_{u,v}\\in\\{0,1\\}$ se reemplaza por $0\\leq z_{u,v}\\leq 1$ resulta,  en la práctica, imposible de resolver salvo para valores de $|V|$ pequeños.\n",
    "\n",
    "## Ejercicio 1\n",
    "Para comenzar, estudiemos como crece el tiempo requerido para la formulación y/o resolución de la relajación $(RM_1)$.  Esto además servirá para recordar como se escribe un PLM en JuMP y familiarizarse con funciones de Julia para medir tiempos de ejecución.\n",
    "\n",
    "Complete la siguiente plantilla:"
   ]
  },
  {
   "cell_type": "code",
   "execution_count": null,
   "metadata": {},
   "outputs": [],
   "source": [
    "function resuelveM1(nombre_archivo)\n",
    "## Resuelve M1, devuelve el valor y dibuja la solución\n",
    "  \n",
    "    #Cargar datos del archivo\n",
    "    N,x_pos,y_pos,b = lee_archivo(nombre_archivo)\n",
    "    \n",
    "    #Crear un modelo nuevo. \n",
    "    #la variable GUROBI_ENV creada permite reutilizar el ambiente de Gurobi en vez de crear uno nuevo cada\n",
    "    #vez que creamos un modelo (en particular, ya no saldrán múltiples mensajes sobre la licencia académica)\n",
    "    M1 = Model(optimizer_with_attributes(() -> Gurobi.Optimizer(GUROBI_ENV),\"OutputFlag\" => 1))\n",
    "\n",
    "    #Crear variables, z es binaria.\n",
    "    @variable(M1, z[1:N, 1:N], Bin)\n",
    "    #Crear objetivo (usamos \"euclidean\" del paquete Distances para calcular la distancia euclideana)\n",
    "    #Usar euclidean([x_pos[i],y_pos[i]],[x_pos[j],y_pos[j]] para calcular peso del arco entre el punto i y j.\n",
    "    @objective(M1, Min, .5*sum(euclidean([x_pos[i], y_pos[i]], [x_pos[j], y_pos[j]])*z[i, j] for i in 1:N, j in 1:N))   #Crear restricciones\n",
    "    @constraints(M1, begin\n",
    "         [u ∈ 1:N], z[u, u] == 0\n",
    "         [u ∈ 1:N, v ∈ 1:N], z[v, u] - z[u, v] == 0\n",
    "         sum(z[u, v] for u in 1:N, v in 1:N) == 2*(N-1)\n",
    "         [S ∈ powerset(1:N, 1, N-1)], sum([z[u, v] for u in S, v in 1:N if v ∉ S]) ≥ 1\n",
    "         [v ∈ 1:N], 1 ≤ sum(z[u, v] for u in 1:N) ≤ b[v]\n",
    "    end)\n",
    "    \n",
    "    #optimizar! (en un grafo completo el modelo es siempre factible si N>1, sum(b)=2*(N-1), y b >= 1)\n",
    "    optimize!(M1)\n",
    "    \n",
    "    #dibuja y retorna\n",
    "    valor =  objective_value(M1)\n",
    "    dibuja(x_pos,y_pos,value.(z))\n",
    "    return valor \n",
    "end"
   ]
  },
  {
   "cell_type": "markdown",
   "metadata": {},
   "source": [
    "* Grafique los puntos descritos por el archivo de entrada “lab1-ejemplo1.txt” (12 puntos). \n",
    "\n",
    "**Nota:** En todas las instancias con que trabajaremos durante el laboratorio, la restricción en el grado máximo de cada nodo se ha fijado de la misma forma, específicamente igual a $3$."
   ]
  },
  {
   "cell_type": "code",
   "execution_count": null,
   "metadata": {},
   "outputs": [],
   "source": [
    "N,x_pos,y_pos, b=lee_archivo(\"lab1-ejemplo1.txt\")\n",
    "dibuja(x_pos,y_pos,zeros(N,N))\n",
    "println(b, N)\n"
   ]
  },
  {
   "cell_type": "markdown",
   "metadata": {},
   "source": [
    "* Ahora resuelva y grafique las instancias descritas en los archivos \"lab1-ejemplo1.txt\", \"lab1-ejemplo2.txt\", \"lab1-ejemplo3.txt\" (si tiene problemas en la ejecución del último, coméntelo y no lo realice)."
   ]
  },
  {
   "cell_type": "code",
   "execution_count": null,
   "metadata": {},
   "outputs": [],
   "source": [
    "@time resuelveM1(\"lab1-ejemplo1.txt\")\n",
    "@time resuelveM1(\"lab1-ejemplo2.txt\")\n",
    "@time resuelveM1(\"lab1-ejemplo3.txt\")"
   ]
  },
  {
   "cell_type": "code",
   "execution_count": null,
   "metadata": {},
   "outputs": [],
   "source": [
    "Repita la ejecución, pero ahora midiendo la memoria utilizada (observe lo rápido que aumenta)."
   ]
  },
  {
   "cell_type": "code",
   "execution_count": null,
   "metadata": {},
   "outputs": [],
   "source": [
    "m1 = @allocated resuelveM1(\"lab1-ejemplo1.txt\");\n",
    "m2 = @allocated resuelveM1(\"lab1-ejemplo2.txt\");\n",
    "m3 = @allocated resuelveM1(\"lab1-ejemplo3.txt\");\n",
    "println( \"Bytes allocated: \", m1, \" \", m2, \" \", m3)"
   ]
  },
  {
   "cell_type": "markdown",
   "metadata": {},
   "source": [
    "## Resolución iterativa mediante generación de filas (planos cortantes).\n",
    "\n",
    "Para resolver $(M_1)$, intentaremos la siguiente estrategia:\n",
    "\n",
    "1. Crear un modelo con variables **integrales** sin restricción de corte y resolverlo.\n",
    "   Notar que si $z$ es el vector solución, entonces $z$ es una indicatriz de un subconjunto de arcos de $G$, por lo que define un subgrafo $G_z$ de $G$.  \n",
    "2. Mientras $G_z$ no sea un árbol, determinamos una de sus componentes conexas y definimos $S=V(G_z)$. Notar que la restricción $z(\\delta(S))\\geq 1$ es violada. **La agregamos al modelo y volvemos a resolver**\n",
    "3. Cuando $G_z$ es un árbol, $z$ es solución óptima."
   ]
  },
  {
   "cell_type": "markdown",
   "metadata": {},
   "source": [
    "## Ejercicio 2\n",
    "\n",
    "Cree el modelo PC (por \"Planos Cortantes\") en Gurobi **sin incluir las restricciones de corte** completando la siguiente celda. Luego, resuélva el modelo y dibuje la salida usando la función dibujar. "
   ]
  },
  {
   "cell_type": "code",
   "execution_count": null,
   "metadata": {},
   "outputs": [],
   "source": [
    "#Cargar los datos de la instancia descrita en el archivo \"lab1-ejemplo3.txt\" (25 puntos).\n",
    "N,x_pos,y_pos,b=lee_archivo(\"lab1-ejemplo3.txt\")\n",
    "\n",
    "#Modelo PC\n",
    "PC = Model(optimizer_with_attributes(() -> Gurobi.Optimizer(GUROBI_ENV),\"OutputFlag\" => 0)); #sin salida esta vez\n",
    "\n",
    "#Crear modelo PC\n",
    "\n",
    "@variable(PC, z[1:N, 1:N], Bin)\n",
    "#Crear objetivo (usamos \"euclidean\" del paquete Distances para calcular la distancia euclideana)\n",
    "#Usar euclidean([x_pos[i],y_pos[i]],[x_pos[j],y_pos[j]] para calcular peso del arco entre el punto i y j.\n",
    "@objective(PC, Min, .5*sum(euclidean([x_pos[i], y_pos[i]], [x_pos[j], y_pos[j]])*z[i, j] for i in 1:N, j in 1:N))   #Crear restricciones\n",
    "@constraints(PC, begin\n",
    "     [u ∈ 1:N], z[u, u] == 0\n",
    "     [u ∈ 1:N, v ∈ 1:N], z[v, u] - z[u, v] == 0\n",
    "     sum(z[u, v] for u in 1:N, v in 1:N) == 2*(N-1)\n",
    "#     [S ∈ powerset(1:N, 1, N-1)], sum([z[u, v] for u in S, v in 1:N if v ∉ S]) ≥ 1\n",
    "     [v ∈ 1:N], 1 ≤ sum(z[u, v] for u in 1:N) ≤ b[v]\n",
    "end)"
   ]
  },
  {
   "cell_type": "code",
   "execution_count": null,
   "metadata": {},
   "outputs": [],
   "source": [
    "#Optimice PC y dibuje el resultado obtenido.\n",
    "optimize!(PC)\n",
    "dibuja(x_pos,y_pos,value.(z))"
   ]
  },
  {
   "cell_type": "markdown",
   "metadata": {},
   "source": [
    "La función ```componente_conexa()``` (del archivo “lab1-funcionalidad.jl”) determina una componente conexa que contiene al primer punto de la instancia de entrada. Úsela para encontrar una componente conexa de $G_z$. Luego, si la componente no es igual a $V$, agregue a PC la restricción asociada al corte encontrado. Optimice y dibuje su nueva solución."
   ]
  },
  {
   "cell_type": "code",
   "execution_count": null,
   "metadata": {},
   "outputs": [],
   "source": [
    "# Ejecutar función\n",
    "compnts=componente_conexa(value.(z));\n",
    "println(compnts)\n",
    "corte = compnts[1]"
   ]
  },
  {
   "cell_type": "code",
   "execution_count": null,
   "metadata": {},
   "outputs": [],
   "source": [
    "#agregar nueva fila (restricción violada determinada por corte) a PC\n",
    "@constraint(PC,\n",
    "[S in compnts], sum([z[u, v] for u ∈ S, v ∈ 1:N if v ∉ S]) ≥ 1)\n",
    "#sum([z[u, v] for u ∈ corte, v ∈ 1:N if v ∉ corte]) ≥ 1)\n",
    "#optimice nuevamente y dibuje\n",
    "optimize!(PC)\n",
    "dibuja(x_pos,y_pos,value.(z))"
   ]
  },
  {
   "cell_type": "markdown",
   "metadata": {
    "scrolled": false
   },
   "source": [
    "## Ejercicio 3\n",
    "\n",
    "En este ejercicio debe automatizar la generación de filas. Para esto\n",
    "\n",
    "Complete primero la siguiente plantilla"
   ]
  },
  {
   "cell_type": "code",
   "execution_count": null,
   "metadata": {},
   "outputs": [],
   "source": [
    "function resuelvePC(nombre_archivo,flag,maxIter)\n",
    "    # nombre_archivo: archivo que describe instancia de entrada\n",
    "    # flag: true o false\n",
    "    #       si true: Agregar 1 restricción (la asociada al corte que contiene al punto 1)\n",
    "    #       si false: Agregar 1 restricción por cada componente conexa encontrada. \n",
    "    # maxIter: Número máximo de iteraciones a realizar\n",
    "    \n",
    "    # recuperar N y puntos del archivo \n",
    "    N,x_pos,y_pos,b = lee_archivo(nombre_archivo)\n",
    "    # Crear modelo PC inicial \n",
    "    P = Model(optimizer_with_attributes(() -> Gurobi.Optimizer(GUROBI_ENV),\"OutputFlag\" => 0)) #sin salida esta vez\n",
    "    @variable(P, z[1:N, 1:N], Bin)\n",
    "    @objective(P, Min, .5*sum(euclidean([x_pos[i], y_pos[i]], [x_pos[j], y_pos[j]])*z[i, j] for i in 1:N, j in 1:N))   #Crear restricciones\n",
    "    @constraints(P, begin\n",
    "      [u ∈ 1:N], z[u, u] == 0\n",
    "      [u ∈ 1:N, v ∈ 1:N], z[v, u] - z[u, v] == 0\n",
    "      sum(z[u, v] for u in 1:N, v in 1:N) == 2*(N-1)\n",
    "      [v ∈ 1:N], 1 ≤ sum(z[u, v] for u in 1:N) ≤ b[v]\n",
    "    end)\n",
    "\n",
    "    itera=1\n",
    "    while (itera <= maxIter) \n",
    "      ## optimizar, encontrar componentes conexas y agregar 1 o todas dependiendo del valor de flag\n",
    "      optimize!(P)\n",
    "      cmpnts = componente_conexa(value.(z))\n",
    "      corte = cmpnts[1]\n",
    "      if corte == 1:N\n",
    "        break\n",
    "      end\n",
    "      if flag\n",
    "        @constraint(P, sum([z[u, v] for u ∈ corte, v ∈ 1:N if v ∉ corte]) ≥ 1)\n",
    "      else\n",
    "        @constraint(P, \n",
    "        [S ∈ cmpnts], sum([z[u, v] for u ∈ S, v ∈ 1:N if v ∉ S]) ≥ 1)\n",
    "      end\n",
    "      itera=itera+1\n",
    "    end \n",
    "    optimize!(P)\n",
    "    dibuja(x_pos,y_pos,value.(z))\n",
    "end"
   ]
  },
  {
   "cell_type": "markdown",
   "metadata": {},
   "source": [
    "Ejecute su función en un par de instancias, encontrando los árboles generadores de peso mínimo con restricciones de grados."
   ]
  },
  {
   "cell_type": "code",
   "execution_count": null,
   "metadata": {},
   "outputs": [],
   "source": [
    "@time resuelvePC(\"lab1-ejemplo3.txt\",true,30)\n",
    "@time resuelvePC(\"lab1-ejemplo3.txt\",false,30)"
   ]
  },
  {
   "cell_type": "code",
   "execution_count": null,
   "metadata": {},
   "outputs": [],
   "source": [
    "@time resuelvePC(\"lab1-ejemplo4.txt\",true,30)\n",
    "@time resuelvePC(\"lab1-ejemplo4.txt\",false,30)"
   ]
  },
  {
   "cell_type": "markdown",
   "metadata": {},
   "source": [
    "## Implementación mediante generación de filas usando lazy-constraints-callbacks.\n",
    "\n",
    "La técnica anterior permite resolver el problema de árboles generadores de peso mínimo con restricciones de grado para instancias de tamaño moderado resolviendo una serie de PLEs con más y más restricciones. \n",
    "\n",
    "Una manera de hacer este proceso más eficiente es realizar una sola ejecución de branch and bound \n",
    "y agregar restricciones al modelo no al final del mismo sino cada vez que se encuentra un incumbente.\n",
    "Los solvers modernos permiten pausar branch and bound en algunos puntos clave, luego llamar a una función externa y finalmente despausar la ejecución (a esto se le llama un callback) y al procedmiento resultante se le llama branch and cut.\n",
    "\n",
    "En esta sección implementaremos una función callback del tipo lazy-constraint.\n",
    "Básicamente, una lazy-constraint es una restricción que no se revisa desde el principio de la ejecución sino que solo es agregada al modelo una vez que encontramos un incumbente que no la satisface.\n",
    "\n",
    "Es posible darle al solver una lista de lazy-constraints desde el principio o generarla vía callbacks.\n",
    "\n",
    "El modo de implementar una función callback en JuMP+Gurobi (en genérico) es como sigue:\n",
    "```julia\n",
    "    #se crea un modelo (para este ejemplo, supongamos que tiene una variable x\n",
    "    model = Model(... \n",
    "    @variable(model, x, ...\n",
    "    @objective(model, ...\n",
    "    @constraints(model, ...\n",
    "\n",
    "    #esta función se llamará cuando Gurobi piensa que tiene una solución entera incumbente\n",
    "    function mi_callback(cb_data)\n",
    "        #comando para recuperar valor de la variable x y guardarlo en una variable temporal\n",
    "        x_val = callback_value(cb_data, x)\n",
    "\n",
    "        #Nota: la implementación actual de Gurobi podría llamar a esta función cuando la solución es \n",
    "        #      fraccional por lo que conviene revisar integralidad.\n",
    "        \n",
    "        tolerancia=0.001\n",
    "        if !(abs(x-round(x))<tolerancia)\n",
    "          display(string(\"callback en solución fraccional\"))\n",
    "          return nothing\n",
    "        end\n",
    "        \n",
    "        #sabemos que x es integral\n",
    "        #buscar restriccion a agregar\n",
    "        ..\n",
    "        restriccion_nueva = @build_constraint( .. restriccion ..)\n",
    "        MOI.submit(model, MOI.LazyConstraint(cb_data), restriccion)\n",
    "        end\n",
    "    end\n",
    "\n",
    "    #mandar función callback al solver.\n",
    "    MOI.set(model, MOI.LazyConstraintCallback(), mi_callback)\n",
    "\n",
    "    #si optimizamos, el solver usará la función callback para confirmar factibilidad de sus \n",
    "    #soluciones, agregando restricciones si es necesario\n",
    "```"
   ]
  },
  {
   "cell_type": "markdown",
   "metadata": {},
   "source": [
    "## Ejercicio 4. \n",
    " \n",
    "Complete la siguiente plantilla para resolver PC usando callbacks.\n"
   ]
  },
  {
   "cell_type": "code",
   "execution_count": 24,
   "metadata": {},
   "outputs": [
    {
     "data": {
      "text/plain": [
       "resuelvePCconCallbacks (generic function with 1 method)"
      ]
     },
     "metadata": {},
     "output_type": "display_data"
    }
   ],
   "source": [
    "function resuelvePCconCallbacks(nombrearchivo, flag)\n",
    "    # flag: true o false\n",
    "    #       si false: suprimir parte de la salida\n",
    "    \n",
    "    # recuperar N y puntos del archivo \n",
    "    N,x_pos,y_pos,b = lee_archivo(nombrearchivo)\n",
    "    \n",
    "   \n",
    "    # Crear modelo PCcall inicial (sin restricciones de corte)\n",
    "    PCcall = Model(optimizer_with_attributes(() -> Gurobi.Optimizer(GUROBI_ENV),\"OutputFlag\" => 0)) \n",
    "    @variable(PCcall, z[1:N, 1:N], Bin)\n",
    "    @objective(PCcall, Min, .5*sum(euclidean([x_pos[i], y_pos[i]], [x_pos[j], y_pos[j]])*z[i, j] for i in 1:N, j in 1:N))   #Crear restricciones\n",
    "    @constraints(PCcall, begin\n",
    "      [u ∈ 1:N], z[u, u] == 0\n",
    "      [u ∈ 1:N, v ∈ 1:N], z[v, u] - z[u, v] == 0\n",
    "      sum(z[u, v] for u in 1:N, v in 1:N) == 2*(N-1)\n",
    "      [v ∈ 1:N], 1 ≤ sum(z[u, v] for u in 1:N) ≤ b[v]\n",
    "    end)\n",
    "    \n",
    "    \n",
    "    #implementar función callback\n",
    "        \n",
    "    function mi_callback(cb_data)\n",
    "        if flag \n",
    "          display(string(\"Ejecutando callback\"))\n",
    "        end\n",
    "        #Recupera valores de z[i,j] de cb_data\n",
    "        z_val = [callback_value(cb_data, z[i, j]) for i in 1:N, j in 1:N]\n",
    "        #Revisar fraccionalidad (retornar si es fraccional).\n",
    "        #Si flag==true y la solución es fraccional, ejecutar además el siguiente comando:\n",
    "        #  display(string(\"callback en solución fraccional\"))\n",
    "        tolerancia=0.001\n",
    "        if !(sum(abs.(z_val-round.(z_val)))<tolerancia)\n",
    "          display(string(\"callback en solución fraccional\"))\n",
    "          return nothing\n",
    "        end\n",
    "        \n",
    "        #Encontrar componentes conexas.\n",
    "        cmpnts = componente_conexa(z_val)\n",
    "        corte = cmpnts[1]\n",
    "        if corte == 1:N\n",
    "          return nothing\n",
    "        end\n",
    "        if flag\n",
    "          r = @build_constraint(sum([z[u, v] for u ∈ corte, v ∈ 1:N if v ∉ corte]) ≥1)\n",
    "          display(string(\"Agregando componentes: \", cmpnts))\n",
    "        else\n",
    "          for corte in cmpnts\n",
    "            r = @build_constraint(sum([z[u, v] for u ∈ corte, v ∈ 1:N if v ∉ corte]) ≥1)\n",
    "          end\n",
    "        end\n",
    "        MOI.submit(PCcall, MOI.LazyConstraint(cb_data), r)\n",
    "\n",
    "        #Si hay restricciones de corte violadas, agregar 1 o todas dependiendo del valor de flag.\n",
    "    end                        \n",
    "    \n",
    "    #mandar función callback al solver.\n",
    "    MOI.set(PCcall, MOI.LazyConstraintCallback(), mi_callback)\n",
    "\n",
    "    #Optimizar, reportar solución y dibujar.\n",
    "    optimize!(PCcall)\n",
    "    dibuja(x_pos, y_pos, value.(PCcall[:z]))\n",
    "    display(string(\"Árbol óptimo encontrado, de largo \", objective_value(PCcall)))\n",
    "    return objective_value(PCcall)\n",
    "end"
   ]
  },
  {
   "cell_type": "markdown",
   "metadata": {},
   "source": [
    "Ejecute su función en las instancias que se indican a continuación, encontrando los árboles óptimos (si se topa con problemas de memoria, tiempo, muerte del Kernel, etc., comente los comandos problemáticos y agregue una nota explicando por qué no pudo ejecutarlo)."
   ]
  },
  {
   "cell_type": "code",
   "execution_count": 25,
   "metadata": {},
   "outputs": [],
   "source": [
    "@time resuelvePCconCallbacks(\"lab1-ejemplo4.txt\",true)"
   ]
  },
  {
   "cell_type": "code",
   "execution_count": null,
   "metadata": {},
   "outputs": [],
   "source": [
    "@time resuelvePCconCallbacks(\"lab1-ejemplo5.txt\",false)"
   ]
  },
  {
   "cell_type": "code",
   "execution_count": null,
   "metadata": {},
   "outputs": [],
   "source": [
    "@time resuelvePCconCallbacks(\"lab1-ejemplo6.txt\",false)"
   ]
  },
  {
   "cell_type": "code",
   "execution_count": null,
   "metadata": {},
   "outputs": [],
   "source": [
    "@time resuelvePCconCallbacks(\"lab1-ejemplo7.txt\",false)"
   ]
  },
  {
   "cell_type": "code",
   "execution_count": null,
   "metadata": {},
   "outputs": [],
   "source": []
  }
 ],
 "metadata": {
  "kernelspec": {
   "display_name": "Julia 1.8.5",
   "language": "julia",
   "name": "julia-1.8"
  },
  "language_info": {
   "file_extension": ".jl",
   "mimetype": "application/julia",
   "name": "julia",
   "version": "1.8.5"
  }
 },
 "nbformat": 4,
 "nbformat_minor": 2
}
