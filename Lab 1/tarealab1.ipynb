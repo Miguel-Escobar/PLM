{
 "cells": [
  {
   "cell_type": "markdown",
   "id": "4dbf4050",
   "metadata": {},
   "source": [
    "# Laboratorio 1: Programación Lineal Mixta (MA4702, otoño 2023)\n",
    "\n",
    "Profesor: Marcos Kiwi.<br/>\n",
    "Auxiliares: Benjamín Jauregui y Cristián Palma.<br/>\n",
    "\n",
    "## Preliminares\n",
    "\n",
    "Este laboratorio consta de 3 etapas. Una tarea introductoria, una etapa presencial y otra no-presencial.\n",
    "La nota global del laboratorio será 30 % (TI) + 40 % (TP) + 30 % (TNP), donde (TI) es la nota de la tarea\n",
    "introductoria, (TP) la nota del trabajo presencial y (TNP) la nota del trabajo no presencial.\n",
    "\n",
    "La tarea introductoria es de carácter estrictamente individual. Las etapas presencial y no-presencial son de carácter grupal. \n",
    "\n",
    "## Instrucciones\n",
    "\n",
    "1. La respuesta a esta tarea consiste en completar este mismo archivo `.ipnyb` y entregalo a través de Tareas en UCursos, antes de las **14:15 del miércoles 29 de marzo de 2023** (Se descontará 1.0 pts por cada 15 minutos o fracción de atraso.)\n",
    "\n",
    "2. Realice esta primera tarea de manera **individual**. Bajo ningún motivo discuta sus respuestas, ni comparta o deje a disposición los archivos con sus compañeros. Se hará un estudio de similitudes entre los archivos resultantes para detectar posibles plagios."
   ]
  },
  {
   "attachments": {},
   "cell_type": "markdown",
   "id": "2d9b8b2b",
   "metadata": {},
   "source": [
    "## Datos personales\n",
    "\n",
    "<div class=\"alert alert-block alert-success\">\n",
    "    Indique su nombre: Miguel<br/>              \n",
    "    Indique su RUT:  20.664.682-9 <br/>\n",
    "    Escriba los dos dígitos de su RUT menos significativos, **no nulos** y *distintos entre si** (sin incluir el dígito verificador): 26      </div>\n"
   ]
  },
  {
   "cell_type": "code",
   "execution_count": 1,
   "id": "e7886b6e",
   "metadata": {},
   "outputs": [
    {
     "data": {
      "text/plain": [
       "6"
      ]
     },
     "metadata": {},
     "output_type": "display_data"
    }
   ],
   "source": [
    "# Fije las dos siguientes variables a los valores que obtuvo en el paso anterior.\n",
    "d1 = 2\n",
    "d2 = 6"
   ]
  },
  {
   "cell_type": "markdown",
   "id": "8c0ab6cc",
   "metadata": {},
   "source": [
    "## Introducción\n",
    "\n",
    "En muchas aplicaciones que involucran redes, un problema que aparece a menudo es el encontrar, en un grafo con pesos, un árbol generador de peso mínimo que respete ciertas restricciones. Consideraremos el caso en que hay restricciones (cotas superiores) en los grados de los vértices del árbol generador. Este tipo de problemas surgen frecuentemente en redes de comunicación, donde las restricciones en los grados de los vértices representan, por ejemplo, el número de interfaces disponibles en un equipo o la capacidad del mismo. \n",
    "\n",
    "Formalmente, sea $G=(V,E)$ un grafo completo (no dirigido y sin bucles).  Denotamos por $b_v\\in\\mathbb{N}$ la cota superior en el grado del vértice $v\\in V$ en el árbol generador. Consideremos el siguiente programa lineal mixto:\n",
    "\n",
    "$$\n",
    "\\begin{array}{rllll}\n",
    "(M_1): & \\min_{u,v\\in V} \\sum_{u,v\\in V}c_{u,v}x_{u,v} \\\\\n",
    "s.a. & \\\\\n",
    "& \\sum_{v\\in V} x_{u,v}-d_u = 0, & \\forall u\\in V, \\\\\n",
    "& \\sum_{v\\in V} d_v = 2(|V|-1), \\\\\n",
    "& \\sum_{u,v\\in S} x_{u,v} \\leq |S|-1, & \\forall\\emptyset\\subsetneq S\\subsetneq V, & (*) \\\\\n",
    "& 1 \\leq d_v \\leq b_v, & \\forall v\\in V, \\\\\n",
    "& x_{u,v}\\in\\{0,1\\}, \\forall u,v\\in V, \\\\\n",
    "& d_v\\in\\mathbb{R}, \\forall v\\in V.\n",
    "\\end{array}\n",
    "$$"
   ]
  },
  {
   "cell_type": "markdown",
   "id": "564b6e48",
   "metadata": {},
   "source": [
    "## Ejercicio 1\n",
    "\n",
    "Pruebe que $x$ es solución factible de $(M_1)$ ssi $x$ es la indicatriz de los arcos de un árbol generador $T$ de $G$ tal que para todo $v\\in V$, el grado de $v$ en $T$ es a lo más $b_v$."
   ]
  },
  {
   "attachments": {},
   "cell_type": "markdown",
   "id": "e928c3ef",
   "metadata": {},
   "source": [
    "<div class=\"alert alert-block alert-success\">Respuesta: \n",
    "\n",
    "$\\Rightarrow$ Sea $\\{x_{u,v} \\in \\{0,1\\}\\}$ solución factible de $M_1$, consideremos el arbol $T = (V, E^*)$ donde $E^* = \\{uv \\in E | x_{u,v} = 1\\}$. Verifiquemos que es arbol generador usando el hecho que T es arbol generador ssi T es acíclico con $|E^*|=|V|-1$.\n",
    "\n",
    "(i) Acíclico: La restricción: $$\\sum_{u,v\\in S} x_{u,v} \\leq |S|-1, \\forall\\emptyset\\subsetneq S\\subsetneq V$$ nos garantiza que es acíclico, pues de existir un ciclo con nodos $S \\subseteq V$ este cumpliría que: $$\\sum_{u,v\\in S} x_{u,v} = |S| > |S| - 1$$\n",
    "\n",
    "(ii) $|E^*|=|V|-1$: Notando que $\\sum_{v\\in V} x_{u,v}-d_u = 0$ implica que $d_u$ es el grado del nodo $u$ (cuenta las aristas salientes del nodo $u$), usamos el hecho de que:\n",
    "$$\n",
    " |E^*| = \\frac{\\sum_{u \\in V} gr(u)}{2} = \\frac{\\sum_{u \\in V} d_u}{2}\n",
    "$$ \n",
    "Junto con: \n",
    "$$\n",
    " \\sum_{v\\in V} d_v = 2(|V|-1)\n",
    "$$ \n",
    "Obtenemos al reemplazar: $|E^*| = (|V|-1)$.\n",
    "\n",
    "Con esto podemos concluir que T es arbol generador de V, ahora basta usar que $\\forall v \\in V, 1 \\leq d_v = gr(v) \\leq b_v$ para justificar que el grado de $v$ en $T$ es a lo más $b_v$.\n",
    "\n",
    "$\\Leftarrow$ Sea $T = (V, E^*)$ un árbol generador de G que cumpla que $\\forall v \\in V, gr(v) \\leq b_v$. Luego, considerese $\\{x_{u,v}\\}$ tal que $x_{u,v} = 1$ ssi $uv \\in E^*$ y 0 sino. Luego, $x_{u,v} \\in \\{0,1\\}$. La restricción 1 simplemente nos define $d_v$ como el $gr(v)$, luego es directo que la restricción 2 se cumple, pues $|E^*| = |V| + 1$ y por cada $uv \\in E^*$, $\\sum_{v \\in V} gr(v)$ incrementa por 2. Como $d_v$ no es más que el grado de $v$, la restricción 2 se cumple. La restricción 3 se debe cumplir para todo grafo acíclico, es un resultado conocido que $\\forall G = (V, E)$ grafo acíclico, $|E| \\leq |V| - 1$. Esto se debe cumplir para todo subgrafo, pues todo subgrafo de acíclico es acíclico, la restricción 3 sigue. La restricción 4 se tiene por conexidad ($\\forall v \\in V, gr(v) \\geq 1$) y por la cota de los nodos ($\\forall v \\in V, gr(v) \\leq b_v$).\n",
    "\n",
    "\n",
    "\n",
    "\n",
    "\n",
    "\n",
    "\n",
    "\n",
    "\n",
    "</div>\n",
    "    \n"
   ]
  },
  {
   "cell_type": "markdown",
   "id": "dc34fcf2",
   "metadata": {},
   "source": [
    "Sea $(M_2)$ el programa lineal mixto que se obtiene al reemplazar $(*)$ en $(M_1)$ por\n",
    "$$\n",
    "\\sum_{u\\in S, v\\not\\in S} x_{u,v} \\geq 1, \\qquad \\forall\\emptyset\\subsetneq S\\subsetneq V. \\qquad (**)\n",
    "$$\n",
    "Pruebe que $x$ es solución factible de $(M_1)$ ssi $x$ es solución factible de $(M_2)$."
   ]
  },
  {
   "attachments": {},
   "cell_type": "markdown",
   "id": "bd06380b",
   "metadata": {},
   "source": [
    "<div class=\"alert alert-block alert-success\">Respuesta:\n",
    "\n",
    "Ahora, basta usar otra caracterización de árboles generadores. Si en $(M_1)$ usamos aciclicidad y $|E^*|=|V|-1$, ahora usamos conexidad y $|E^*|=|V|-1$. El argumento para $|E^*|=|V|-1$ es igual al anterior, por lo tanto sólo hay que notar que $(**) \\Rightarrow$ conexidad, ya que de existir 2 conjuntos de nodos disconexos, llámese $S$ y $S^c$, entonces $\\sum_{u\\in S, v\\not\\in S} x_{u,v} = 0$ (por disconexidad).\n",
    "\n",
    "El argumento para la implicancia inversa es igual, salvo que se observa que para todo conexo (como el arbol T) se debe cumplir $(**)$ ya que conexidad implica que siempre hay una arista uniendo 2 conjuntos de nodos, como mínimo. La propiedad $(**)$ sigue.\n",
    "\n",
    "\n",
    "</div>"
   ]
  },
  {
   "cell_type": "markdown",
   "id": "1799fc02",
   "metadata": {},
   "source": [
    "## Ejercicio 2\n",
    "\n",
    "Usando funcionalidad de Julia/JuMP o algún paquete/programa de Julia que encuentre en Internet, resuelva el problema de $st$-flujo máximo que dada:\n",
    "* una matriz $U=(u_{i,j})_{i,j\\in [n]}$ a coeficientes en $[0,1]$ con $0$'s en y bajo la diagonal, y  \n",
    "* los dos dígitos $d1$ y $d2$ obtenidos a partir de su RUT,\n",
    "\n",
    "determine si en el grafo completo en los vértices $[n]$ con capacidad $u_{i,j}$ en el arco $\\{i,j\\}$, $i<j$, existe algún $S\\subsetneq V$ que contiene a $\\{d1,d2\\}$ tq $\\sum_{i\\in S,j\\not\\in S}u_{i,j}< 1$, o concluya que tal conjunto $S$ no existe. Su código debe retornar un arreglo, llamado `ArrSolucn`, con los índices de los vértices en $S$. Si $S$ no existe, retorne `ArrSolucn = []`.  \n",
    "\n",
    "Ejecute su código sobre la instancia de la matriz $U$ que se provee a continuación (solo modifique la parte donde dice \"Incluya su código a continuación\"):"
   ]
  },
  {
   "cell_type": "code",
   "execution_count": null,
   "id": "56d4464e",
   "metadata": {},
   "outputs": [],
   "source": [
    "# Matriz U\n",
    "n = 32;\n",
    "fil = [2 1 4 8 2 3 3 7 6 3 15 10 10 13 16 15 6 8 14 13 19 20 18 17 2 3 9 14 19 23 25];\n",
    "col = [8 2 10 14 23 23 27 30 12 14 16 12 21 19 30 26 23 20 24 19 22 24 31 31 27 28 31 25 27 32 26];\n",
    "cap = [0.96 0.54 0.41 0.91 0.58 0.13 0.33 0.94 0.81 0.46 0.74 0.17 0.22 0.45 0.80 0.24 0.77 0.90 0.98 0.26 0.79 0.39 0.14 0.34 0.72 0.49 0.99 0.62 0.36 0.71 0.01];\n",
    "\n",
    "# Inicialización de U y ArrSolucn\n",
    "U = zeros(n,n);\n",
    "for k in 1:length(fil)\n",
    "    U[fil[k],col[k]] = cap[k];\n",
    "end\n",
    "ArrSolucn = []\n",
    "\n",
    "# Incluya su código a continuación (si su código utiliza algún paquete que haya requerido instalación, \n",
    "# indique el nombre del paquete en una línea comentada)\n",
    "\n",
    "\n",
    "\n",
    "# Imprima el resultado\n",
    "println(ArrSolucn)"
   ]
  },
  {
   "cell_type": "markdown",
   "id": "821d6248",
   "metadata": {},
   "source": [
    "**Nota:** Su código ejecutará sobre otras instancias, por lo que no debe depender de los valores específicos de `n`, `fil`, `col`, `cap`, `d1`, `d2`.\n",
    "\n",
    "En la etapa presencial veremos como aprovechar la posibilidad de eficientemente determinar desigualdades como $(**)$ para iterativamente intentar resolver $(M_2)$ con el método de planos cortantes."
   ]
  },
  {
   "cell_type": "code",
   "execution_count": null,
   "id": "80e0271e",
   "metadata": {},
   "outputs": [],
   "source": []
  }
 ],
 "metadata": {
  "kernelspec": {
   "display_name": "Julia 1.8.5",
   "language": "julia",
   "name": "julia-1.8"
  },
  "language_info": {
   "file_extension": ".jl",
   "mimetype": "application/julia",
   "name": "julia",
   "version": "1.8.5"
  }
 },
 "nbformat": 4,
 "nbformat_minor": 5
}
