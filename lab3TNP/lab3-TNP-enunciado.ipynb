{
 "cells": [
  {
   "cell_type": "markdown",
   "metadata": {},
   "source": [
    "# Laboratorio 3: Programación Lineal Mixta (MA4702, otoño 2023)\n",
    "\n",
    "Miércoles 17 de Mayo.<br/>\n",
    "Profesor: Marcos Kiwi.<br/>\n",
    "Auxiliares: Benjamín Jauregui y Cristián Palma.<br/>\n",
    "\n",
    "## Preliminares\n",
    "\n",
    "Este laboratorio consta de 3 etapas. Un trabajo introductorio, una etapa presencial y otra no-presencial.\n",
    "La nota global del laboratorio será 30 % (TI) + 40 % (TP) + 30 % (TNP), donde (TI) es la nota del trabajo introductorio, (TP) la nota del trabajo presencial y (TNP) la nota del trabajo no presencial.\n",
    "\n",
    "El trabajo introductorio es de carácter estrictamente individual. La etapa presencial y no-presencial son de carácter grupal. \n",
    "\n",
    "\n",
    "# Laboratorio 3: Trabajo No-presencial (TNP)\n",
    "\n",
    "\n",
    "## Instrucciones.\n",
    "\n",
    "En la parte no presencial del laboratorio, realice las siguientes actividades:\n",
    "\n",
    "* Complete el ejercicio 3.\n",
    "* Envíe este archivo .ipynb por el módulo de tareas de UCursos en la TAREA: Laboratorio 3 completo.\n",
    "* Plazo de entrega: **Sábado 20 de abril a las 18:00** (se descontará 0.5 pts. por cada hora de atraso).\n"
   ]
  },
  {
   "cell_type": "markdown",
   "metadata": {},
   "source": [
    "<div class=\"alert alert-block alert-warning\">\n",
    "    Advertencia: Si en el archivo que entregue alguna de las celdas arroja un mensaje de error al ejecutar o el código entra en un loop infinito y no retorna con ninguna salida, Ud. deberá agregar una nota al respecto, explicando cuál cree que es el problema. Si no lo hace, se le penalizará adicionalmente.               \n",
    "</div>\n"
   ]
  },
  {
   "cell_type": "markdown",
   "metadata": {},
   "source": [
    "## A. Datos del grupo\n",
    "\n",
    "<div class=\"alert alert-block alert-success\">\n",
    "\n",
    "- Número o identificador del Grupo: \n",
    "    \n",
    "- Integrante 1: XXX\n",
    "\n",
    "- Integrante 2: YYY     </div>\n"
   ]
  },
  {
   "cell_type": "markdown",
   "metadata": {},
   "source": [
    "## B. Preparación\n",
    "\n",
    "Desempaque el `.zip` del laboratorio en su directorio de trabajo manteniendo la estructura de sub-directorios en que vienen empaquetados los archivos. \n",
    "\n"
   ]
  },
  {
   "cell_type": "markdown",
   "metadata": {},
   "source": [
    "## Ejercicio 3\n",
    "\n",
    "En esta etapa continuamos desarrollando la temática discutida en la Etapa Presencial y consideramos la misma notación utilizada.\n",
    "\n",
    "Para cada una de las instancias proveídas en la Etapa Presencial del Laboratorio, se le pide resolver iterativamente $(RMP)$ y el correspondiente $(DMP)$ incorporando en cada iteración una nueva columna a $(RMP)$ de acuerdo al resultado del *Pricing Problem* y hasta que el valor óptimo del *Pricing Problem* sea no-negativo.\n",
    "\n",
    "Para realizar lo pedido, use como base el código de la siguiente celda:"
   ]
  },
  {
   "cell_type": "code",
   "execution_count": null,
   "metadata": {},
   "outputs": [],
   "source": [
    "using DelimitedFiles, JuMP, Gurobi;           \n",
    "dirInst = \"dirTNP\";            # Directorio con el archivo de instancias para el ejercicio 1.\n",
    "const GUROBI_ENV = Gurobi.Env() \n",
    "\n",
    "function funcRMP(W,Paths,Pcst)\n",
    "\n",
    "    rmp = Model(optimizer_with_attributes(() -> Gurobi.Optimizer(GUROBI_ENV), \"OutputFlag\" => 0, \"Presolve\" => 0)); \n",
    "\n",
    "    #\n",
    "    # Agregar código a partir de aquí.\n",
    "    #    \n",
    "    n = size(W,1);\n",
    "    N = size(Paths,1);\n",
    "    @variable(rmp, x[1:N] >= 0);\n",
    "    @constraint(rmp, cnstr[v in 2:n-1], sum( x[i] for i in 1:N if v in Paths[i] ) >= 1);\n",
    "    @objective(rmp, Min, sum(Pcst[i]*x[i] for i in 1:N) );\n",
    "    #\n",
    "    # Parar de agregar código aquí.\n",
    "    #\n",
    "    \n",
    "    return rmp, cnstr;  # cnstr[] debe ser un arreglo de referencias a las |C| restricciones (*) de (RMP).\n",
    "                        # Ver: https://jump.dev/JuMP.jl/stable/manual/constraints/#jump_constraints\n",
    "end"
   ]
  },
  {
   "cell_type": "markdown",
   "metadata": {},
   "source": [
    "En la siguiente celda copie el código de la función `pricingProb(W,y,m)` que creó durante la Etapa Presencial (complete y verifique su código si no lo alcanzó a hacer durante la Etapa Presencial)."
   ]
  },
  {
   "cell_type": "code",
   "execution_count": null,
   "metadata": {},
   "outputs": [],
   "source": [
    "function pricingProb(W,y,m)\n",
    "    # W: matriz de n x n que codifica a \\widetilde{w}.\n",
    "    # y: vector de dimensión n de variables duales de (RMP) como en el enunciado (con y_s = y_t = 0).\n",
    "    # m: largo máximo de los (s,t)-dicaminos.\n",
    "    #\n",
    "    \n",
    "    ...\n",
    "    \n",
    "end"
   ]
  },
  {
   "cell_type": "markdown",
   "metadata": {},
   "source": [
    "Complete el código de la siguiente celda (copie, donde se indica, el código que agregó en el Ejercicio 1b)) e inicialice (donde se índica) el arreglo con los valores de las variables duales. Finalmente, adapte (donde se indica) el código para resolver a optimalidad la relajación de $(MP)$ (hasta que el *Pricing Problem* asociado a $(RMP)$ se haga no-negativo).  "
   ]
  },
  {
   "cell_type": "code",
   "execution_count": null,
   "metadata": {},
   "outputs": [],
   "source": [
    "tmpFrm=[]; tmpRes=[]; cardC=[]; val=[]; name=[]; sts=[];  \n",
    "for fn in readdir(dirInst)\n",
    "    W = readdlm(joinpath(dirInst,fn), ',', Int64, '\\n')\n",
    "    n = size(W,1);\n",
    "    s = 1;\n",
    "    t = n;\n",
    "    Paths = [];  Pcst = [];\n",
    "\n",
    "    #\n",
    "    # Inicialización de \\mathcal{Q}: Copiar código del Ejercicio 1b)\n",
    "    #\n",
    "\n",
    "    ...\n",
    "    \n",
    "    #\n",
    "    # Parar de copiar código del Ejercicio 1 aquí.\n",
    "    # \n",
    "    \n",
    "    valPrcDicamn = -Inf;\n",
    "    while valPrcDicamn < 0.0\n",
    "        append!( name, [fn] );                                          # Guarda nombre del archivo con instancia\n",
    "        append!( tmpFrm, @elapsed mdl,cnstr=funcRMP(W,Paths,Pcst) );    # Guarda tiempo requerido en formular (RMP)\n",
    "        append!( tmpRes, @elapsed optimize!(mdl) );\t                    # Guarda tiempo requerido en resolver (RMP)\n",
    "        append!( cardC, size(W,1)-2 );                                  # Guarda cardinalidad de conjunto C\n",
    "        if termination_status(mdl) == MOI.OPTIMAL                       # Guarda status de término y valor objetivo.\n",
    "            append!( sts, [\"optimo\"] );\n",
    "            append!( val, objective_value(mdl) );\n",
    "        elseif termination_status(mdl) == MOI.INFEASIBLE\n",
    "            append!( sts, [\"infactible\"] );\n",
    "            append!( val, [Inf]);\n",
    "        elseif termination_status(mdl) == MOI.DUAL_INFEASIBLE\n",
    "            append!( sts, [\"no_acotado\"] );\n",
    "            append!( val, [-Inf]);\n",
    "        end       \n",
    "    \n",
    "  \n",
    "        # Inicializar el arreglo y[] con los valores de las variables duales. Puede serle útil\n",
    "        # consultar la documentación de las funciones has_duals() y dual() de JuMP has_duals().\n",
    "        y = zeros(n)\n",
    "\n",
    "        # Termino de inicialización de arreglo y[]\n",
    "        \n",
    "        dicamn, valPrcDicamn = pricingProb(W,y,3);\n",
    "\n",
    "        # Comenzar a adaptar código aquí\n",
    "        \n",
    "        ...\n",
    "        \n",
    "        # Terminar de adaptar código aquí\n",
    "    end\n",
    "end\n",
    "\n",
    "#\n",
    "# NO MODIFICAR A CONTINUACION\n",
    "#\n",
    "# Imprime estadísticas relativas a las instancias resueltas.\n",
    "println()\n",
    "for i in 1:length(name)\n",
    "    println( \"Instancia = \", name[i] );\n",
    "    println( \"  |C| = \", cardC[i] );\n",
    "    println( \"  Tmp. formulación = \", tmpRes[i] );\n",
    "    println( \"  Tmp. resolución = \", tmpRes[i] );\n",
    "    println( \"  valor obj. = \", val[i] );\n",
    "    println( \"  status = \", sts[i] );\n",
    "    println( \"  prcDicamn = \", prcDicamn[i] );\n",
    "    println( \"  prcPesoDicamn = \", prcPesoDicamn[i] );\n",
    "    println()\n",
    "end\n"
   ]
  },
  {
   "cell_type": "markdown",
   "metadata": {},
   "source": [
    "Observe que en algunos casos la convergencia es a un valor no integral, lo que significa que la solución óptima de la relajación de $(MP)$ encontrada no es integral -- para llegar a una solución integral habría que hacer *Branch&Price*."
   ]
  },
  {
   "cell_type": "markdown",
   "metadata": {},
   "source": [
    "<div class=\"alert alert-block alert-danger\">Es aconsejable (pero no lo incluya en la respuesta que entregue) que genere resultados intermedios. En particular, que le permitan visualizar cómo va decreciendo el valor óptimo de $(RMP)$.</div>"
   ]
  }
 ],
 "metadata": {
  "kernelspec": {
   "display_name": "Julia 1.8.5",
   "language": "julia",
   "name": "julia-1.8"
  },
  "language_info": {
   "file_extension": ".jl",
   "mimetype": "application/julia",
   "name": "julia",
   "version": "1.8.5"
  }
 },
 "nbformat": 4,
 "nbformat_minor": 2
}
