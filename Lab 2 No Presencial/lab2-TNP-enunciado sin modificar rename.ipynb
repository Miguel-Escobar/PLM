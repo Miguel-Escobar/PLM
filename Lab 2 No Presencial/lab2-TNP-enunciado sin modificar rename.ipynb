{
 "cells": [
  {
   "cell_type": "markdown",
   "metadata": {},
   "source": [
    "# Laboratorio 2: Programación Lineal Mixta (MA4702, otoño 2023)\n",
    "\n",
    "Miércoles 19 de Abril.<br/>\n",
    "Profesor: Marcos Kiwi.<br/>\n",
    "Auxiliares: Benjamín Jauregui y Cristián Palma.<br/>\n",
    "\n",
    "## Preliminares\n",
    "\n",
    "Este laboratorio consta de 3 etapas. Un trabajo introductorio, una etapa presencial y otra no-presencial.\n",
    "La nota global del laboratorio será 30 % (TI) + 40 % (TP) + 30 % (TNP), donde (TI) es la nota del trabajo introductorio, (TP) la nota del trabajo presencial y (TNP) la nota del trabajo no presencial.\n",
    "\n",
    "El trabajo introductorio es de carácter estrictamente individual. La etapa presencial y no-presencial son de carácter grupal. \n",
    "\n",
    "# Laboratorio 2: Trabajo No-presencial (TNP)\n",
    "\n",
    "\n",
    "## Instrucciones.\n",
    "\n",
    "En la parte no presencial del laboratorio, realices las siguientes actividades:\n",
    "\n",
    "* Complete el ejercicio 4.\n",
    "* Envíe este archivo .ipynb junto con el archivo `lab2-TNP.jl` modificado (ver indicaciones más adelante) por el módulo de tareas de UCursos en la TAREA: Laboratorio 2 completo.\n",
    "* Plazo de entrega: **lunes 24 de abril a las 22:00** (se descontará 0.5 pts. por cada hora de atraso).\n",
    "\n"
   ]
  },
  {
   "cell_type": "markdown",
   "metadata": {},
   "source": [
    "<div class=\"alert alert-block alert-warning\">\n",
    "    Advertencia: Si en el archivo que entregue alguna de las celdas arroja un mensaje de error al ejecutar o el código entra en un loop infinito y no retorna con ninguna salida, Ud. deberá agregar una nota al respecto, explicando cual cree que es el problema. Si no lo hace, se le penalizará adicionalmente.               \n",
    "</div>\n"
   ]
  },
  {
   "cell_type": "markdown",
   "metadata": {},
   "source": [
    "## A. Datos del grupo\n",
    "\n",
    "<div class=\"alert alert-block alert-success\">\n",
    "\n",
    "- Número o identificador del Grupo: \n",
    "    \n",
    "- Integrante 1: XXX\n",
    "\n",
    "- Integrante 2: YYY     </div>\n"
   ]
  },
  {
   "cell_type": "markdown",
   "metadata": {},
   "source": [
    "## B. Preparación\n",
    "\n",
    "Desempaque el `.zip`, de la parte no-presencial del laboratorio, en su directorio de trabajo manteniendo la estructura de sub-directorios en que vienen empaquetados los archivos. Entre los archivos descargados encontrará `lab2TNP-Structs.jl` que es esencialmente el mismo archivo de *struct*'s de la parte presencial del laboratorio. \n",
    "\n",
    "Seguiremos usando el paquete \"DelimitedFiles\" para leer archivos. Ejecute la siguiente celda."
   ]
  },
  {
   "cell_type": "code",
   "execution_count": null,
   "metadata": {},
   "outputs": [],
   "source": [
    "using DelimitedFiles\n",
    "include(\"lab2TNP-Structs.jl\");"
   ]
  },
  {
   "cell_type": "markdown",
   "metadata": {},
   "source": [
    "## Ejercicio 4. Coloreamiento de grafos.\n",
    " \n",
    "Un problema clásico de teoría de grafos es determinar el número cromático $\\chi(G)$ de un grafo (no-dirigido) $G=(V,E)$. Dicho número se define como el menor valor de $k\\in\\mathbb{N}$ tal que existe una forma de asignarle a cada vértice de $G$ un único color $c(v)$ en $[k]$ de forma que los vértices en los extremos de cada arista en de $G$ queden con colores distintos. Formalmente, $\\chi(G)$ es el menor entero $k$ tal que existe una función $c:V\\to [k]$ para la cual $c(u)\\neq c(v)$ cualquiera sea la arista $uv\\in E$.\n",
    "\n",
    "Calcular el número cromático de un grafo $G$ en $n$ vértices se puede formular, de distintas maneras, como un programa lineal entero. Por ejemplo, usando variables binarias $x_{v,i}$ y $w_i$ donde $x_{v,i}=1$ representa que al vértice $v$ se le asigna el color $i$ y $w_i=1$ representa que a algún vértice se le asigna el color $i$, dando lugar a la siguiente formulación:\n",
    "$$\n",
    "\\begin{array}{rlllr}\n",
    "(Col) & \\min_{x} \\sum_{i\\in [n]} w_i \\\\\n",
    "s.a. & \\sum_{i\\in [n]} x_{v,i}=1, & \\forall v\\in V, \\\\\n",
    "& x_{u,i} + x_{v,i} \\leq 1, & \\forall i\\in [n], \\forall uv\\in E, \\\\\n",
    "& x_{v,i} \\leq w_i, & \\forall v\\in V, \\forall i\\in [n], \\\\\n",
    "& x_{v,i}\\in\\{0,1\\}, \\forall v\\in V, \\forall i\\in [n], \\\\\n",
    "& w_i \\in \\{0,1\\}, \\forall i\\in [n].\n",
    "\\end{array}\n",
    "$$\n",
    "\n",
    "En este ejercicio se le pide formular el problema de determinar el número cromático de un grafo como un programa lineal entero (no necesariamente como se indica más arriba) y resolver su relajación mediante la técnica de BnB basándose en los códigos utilizados en las etapas previas de este laboratorio. Su solución debe implementar al menos 2 de las siguientes 3 estrategias además del BnB clásico:\n",
    "* Estar basado en una formulación que no adolezca del problema de simetrías (al menos no con la severidad con que está presente en $(Col)$), o basarse en una extensión de $(Col)$ en la que se agreguen restricciones adicionales para romper simetrías.\n",
    "* Implementar la técnica de *warm-start*.\n",
    "* Implementar la técnica de ramificación conocida como *strong branching*. En esta técnica, dado un nodo del árbol de BnB que representa un PL de valor óptimo $z$, se fija cada variable $i$ del PL (por concretitud, asumimos que el programa es binario y de minimización), en $0$ y en $1$, y se resuelven ambos sub-problemas. Sean $z_i^0$ y $z_i^1$ valores óptimos de los sub-problemas. Definimos además $\\Delta_i^+=z_i^1-z$ y $\\Delta^-_i=z_i^0-z$ (observar que si $z_i^1$ o $z_i^0$ es igual a $+\\infty$ el sub-problema correspondiente es infactible y se puede fijar la variable $i$ sin tener que ramificar el nodo del árbol BnB). *Strong branching* consiste en elegir para ramificar la variable $i$ que maximiza $score(\\Delta_i^+,\\Delta_i^-)$ para alguna función $score(\\cdot,\\cdot)$ apropiada, usualmente $score(a,b)=\\min\\{a,b\\}$. \n",
    "\n",
    "**Nota 1:** No hay una única forma de abordar este ejercicio. Está permitido (y es deseable) que investigue en la literatura, en Internet, etc., formas de abordarlo. Eso sí, cite las fuentes en las que se basó. No está permitido discutir ni compartir con otros grupos las referencias, links, o ideas en las que se base. \n",
    "\n",
    "**Nota 2:** Si lo requiere, puede usar paquetes de `Julia` que no hayamos usado en el curso, pero en ese caso, incluya (comentadas) en su código las líneas que permiten identificar, instalar y cargar dichos paquetes. \n",
    "\n",
    "**Nota 3:** Si alguna de las instancias que se proveen le causa problemas a su código, o se demoran demasiado, o no puede resolverlas por alguna otra razón, agregue en el lugar apropiado condiciones para que su código no las considere.\n",
    "\n",
    "Se proveen archivos de instancias en el sub-directorio `dirTNP/`. Cada línea de un archivo de instancia tiene la forma \"$i,j$\" que representa que en el grafo correspondiente hay una arista cuyos extremos son los vértices $i$ y $j$. Las instancias descritas son grafos simples (i.e., sin búcles ni multi-arcos) y son conexos. "
   ]
  },
  {
   "cell_type": "markdown",
   "metadata": {},
   "source": [
    "Como punto de partida se provee un código en el archivo `lab2-TNP.jl`, el cual puede modificar de la forma que estime conveniente y/o requiera. **Ud. deberá entregar junto con este Jupyter notebook el archivo `lab2-TNP.jl` modificado**. El referido código usa la formulación $(Col)$ para el problema del cálculo de $\\chi(G)$ (Ud. puede cambiar esta formulación si lo desea), realiza un *cold-start*, y ramifica en la variable fraccionaria de índice menor. Para correr el código, ejecute la última celda de este arcjovp. **Nota: El código solo resuelve la primera de las instancias proveídas en un tiempo razonable**."
   ]
  },
  {
   "cell_type": "markdown",
   "metadata": {},
   "source": [
    "<div class=\"alert alert-block alert-danger\">Nota Importante: Lamentablemente, el código base que hemos estado usando en este laboratorio, asume que las variables del model a resolver están indexadas $x_1,x_2,...$. Para el problema del coloreo, esto no es lo más adecuado. Como un parche, hemos asumido que $V=[n]$, mapeado la variable $x_{v,i}$ de $(Col)$ a $x_{n(v-1)+i}$, y la variable $w_i$ a $x_{n^2+i}$</div>"
   ]
  },
  {
   "cell_type": "markdown",
   "metadata": {},
   "source": [
    "Para facilitar la corrección, en la siguiente celda incluya una breve discusión de las estrategias implementadas y las modificaciones hechas al código base."
   ]
  },
  {
   "cell_type": "markdown",
   "metadata": {},
   "source": [
    "<div class=\"alert alert-block alert-warning\"> \n",
    "   Discusión estrategias implementadas: \n",
    "    \n",
    "    \n",
    "</div>"
   ]
  },
  {
   "cell_type": "code",
   "execution_count": null,
   "metadata": {},
   "outputs": [],
   "source": [
    "include(\"lab2-TNP.jl\")\n",
    "dirInst = \"dirTNP\";  \n",
    "orgn = [];\n",
    "\n",
    "for fn in readdir(dirInst)\n",
    "  E = readdlm(joinpath(dirInst,fn), ',', Int64, '\\n')\n",
    "\n",
    "  println( \"out \", repeat('=', 60) );\n",
    "  println( \"out Instancia \", fn );\n",
    "  println( \"out \", repeat('=', 60) );\n",
    "  status = bnb()\n",
    "  print(status)\n",
    "\n",
    "  println(\"out tree up/down bounds \", status.upper_bound, \"/\", status.lower_bound )\n",
    "\n",
    "  # Guarda estadísticas para análisis posterior.\n",
    "  push!(orgn, [profundidad(status.root), nodos(status.root)]);\n",
    "    \n",
    "  # Para evitar mensajes de error por generar salidas muy grandes.\n",
    "  flush(stdout) \n",
    "  if isdefined(Main, :IJulia)\n",
    "    Main.IJulia.stdio_bytes[] = 0\n",
    "  end\n",
    "end\n",
    "\n",
    "# Imprime características de los árboles BnB generados para cada instancia.\n",
    "println( \"\" ); println( \"RESUMEN:\")\n",
    "println( \"Instancia: profunidad / nodos\" );\n",
    "for i in 1:size(orgn,1)\n",
    "  print( \"        \", i, \": \")\n",
    "  prof, nds = orgn[i];\n",
    "  println( \" orgn = \", prof, \" / \", nds ) \n",
    "end\n"
   ]
  },
  {
   "cell_type": "code",
   "execution_count": null,
   "metadata": {},
   "outputs": [],
   "source": []
  }
 ],
 "metadata": {
  "kernelspec": {
   "display_name": "Julia 1.8.5",
   "language": "julia",
   "name": "julia-1.8"
  },
  "language_info": {
   "file_extension": ".jl",
   "mimetype": "application/julia",
   "name": "julia",
   "version": "1.8.5"
  }
 },
 "nbformat": 4,
 "nbformat_minor": 2
}
