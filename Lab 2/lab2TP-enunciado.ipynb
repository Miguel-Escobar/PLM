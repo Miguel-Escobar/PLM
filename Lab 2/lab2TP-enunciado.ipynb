{
 "cells": [
  {
   "cell_type": "markdown",
   "metadata": {},
   "source": [
    "# Laboratorio 2: Programación Lineal Mixta (MA4702, otoño 2023)\n",
    "\n",
    "Miércoles 19 de Abril.<br/>\n",
    "Profesor: Marcos Kiwi.<br/>\n",
    "Auxiliares: Benjamín Jauregui y Cristián Palma.<br/>\n",
    "\n",
    "## Preliminares\n",
    "\n",
    "Este laboratorio consta de 3 etapas. Un trabajo introductorio, una etapa presencial y otra no-presencial.\n",
    "La nota global del laboratorio será 30 % (TI) + 40 % (TP) + 30 % (TNP), donde (TI) es la nota del trabajo introductorio, (TP) la nota del trabajo presencial y (TNP) la nota del trabajo no presencial.\n",
    "\n",
    "El trabajo introductorio es de carácter estrictamente individual. La etapa presencial y no-presencial son de carácter grupal. \n",
    "\n",
    "# Laboratorio 2: Trabajo Presencial (TP)\n",
    "\n",
    "\n",
    "## Instrucciones.\n",
    "\n",
    "En la parte presencial del laboratorio, realice las siguientes actividades:\n",
    "\n",
    "* Complete la celda “A. Datos grupo”.\n",
    "* Descargue los archivos y funciones auxiliares de UCursos (todos deben quedar en el mismo directorio en que está almacenado este archivo).\n",
    "* Complete la sección \"B. preparación\".\n",
    "* Lea el enunciado y complete los ejercicios 1, 2 y 3.\n",
    "* Envíe el archivo .ipynb por el módulo de tareas de UCursos en la TAREA: Laboratorio 2 presencial. \n",
    "* Plazo de entrega: **miércoles 19 de abril a las 18:00** (se descontará 0.5 pts. por cada 15 min o fracción de atraso).\n"
   ]
  },
  {
   "cell_type": "markdown",
   "metadata": {},
   "source": [
    "<div class=\"alert alert-block alert-warning\">\n",
    "    Advertencia: Si en el archivo que entregue alguna de las celdas arroja un mensaje de error al ejecutar o el código entra en un loop infinito y no retorna con ninguna salida, Ud. deberá agregar una nota al respecto, explicando cual cree que es el problema. Si no lo hace, se le penalizará adicionalmente.               \n",
    "</div>\n"
   ]
  },
  {
   "cell_type": "markdown",
   "metadata": {},
   "source": [
    "## A. Datos del grupo\n",
    "\n",
    "<div class=\"alert alert-block alert-success\">\n",
    "\n",
    "- Número o identificador del Grupo: \n",
    "    \n",
    "- Integrante 1: XXX\n",
    "\n",
    "- Integrante 2: YYY     </div>\n"
   ]
  },
  {
   "cell_type": "markdown",
   "metadata": {},
   "source": [
    "## B. Preparación\n",
    "\n",
    "Desempaque el `.zip` del laboratorio en su directorio de trabajo manteniendo la estructura de sub-directorios en que vienen empaquetados los archivos. Entre los archivos descargados encontrará `lab2TP-Structs.jl` que es esencialmente el mismo archivo de *struct*'s del trabajo introductorio. \n",
    "\n",
    "Usaremos el paquete \"DelimitedFiles\". A continuación, descomente las líneas pertinentes si no tiene instalado el respectivo paquete."
   ]
  },
  {
   "cell_type": "code",
   "execution_count": 2,
   "metadata": {},
   "outputs": [],
   "source": [
    "# import Pkg\n",
    "# #Pkg.add(\"DelimitedFiles\")   # Para instalar DelimitedFiles\n",
    "using DelimitedFiles\n",
    "include(\"lab2TP-Structs.jl\");"
   ]
  },
  {
   "cell_type": "markdown",
   "metadata": {},
   "source": [
    "Los sub-directorios `dirTP1/`, `dirTP2/` y `dirTP3/` contienen archivos de instancias, un directorio por cada uno de los ejercicios a realizar en la etapa presencial. Cada instancia corresponde a un problema de empaquetamiento, es decir, de la forma:\n",
    "\n",
    "$$\n",
    "\\begin{array}{rlllr}\n",
    "(PCK) & \\max_{x} c^Tx \\\\\n",
    "s.a. & Ax\\leq b, \\\\\n",
    "& x_i\\in\\{0,1\\}^n, \\forall i\\in [n]. \\\\\n",
    "\\end{array}\n",
    "$$\n",
    "\n",
    "donde $A\\in\\mathbb{N}^{m\\times n}$, $b\\in\\mathbb{N}^m$ y $c\\in\\mathbb{N}^n$. \n",
    "La codificación de $(PCK)$ en un archivo de instancia consta\n",
    "de $(m+1)$ líneas cada una consistente de $(n+1)$ enteros separados\n",
    "por comas. \n",
    "La línea $i$, con $i\\in [m]$,\n",
    "representa la $i$-ésima fila de $A$ (i.e., $A_{i,\\star}$) seguido de $b_i$.\n",
    "La última línea representa las coordenadas del vector\n",
    "$c$ seguidas de $-1$.\n",
    "\n"
   ]
  },
  {
   "cell_type": "markdown",
   "metadata": {},
   "source": [
    "## Ejercicio 1: Branching\n",
    "\n",
    "El archivo `lab2TP-BnB-P1.jl` contiene esencialmente el mismo código que el archivo `lab2TI-BnB.jl` del trabajo introductorio. Ambos programas aplican la técnica de BnB para resolver programas lineales enteros escogiendo la variable $x_i$ en la cual bifurcar para cada nodo del árbol como aquella de menor índice que tenga valor fraccional. La función responsable de calcular el referido índice es `find_branching_variable()`. Su código se incluye a continuación: \n",
    "\n",
    "```julia \n",
    "function find_branching_variable(sol::Array{Float64,1}, current_node::BBNode)\n",
    "  # Only called on non-integer solution sol. \n",
    "\n",
    "  n_vars = length(sol)\n",
    "  for s in 1:n_vars\n",
    "    v = sol[s]\n",
    "    if v > integer_precision && v < 1 - integer_precision && ! is_variable_branched_on(current_node, s)\n",
    "      return s\n",
    "    end\n",
    "  end\n",
    "  println(\" -> Where shall I branch?\")    # Warning message.\n",
    "end\n",
    "```\n",
    "Otras estrategias de selección de variables para bifurcar son al azar (entre todas las variables fraccionales), de acuerdo a prioridades proveídas por el usuario, bifurcar en la variable más fraccional, y estrategias avanzadas como pseudo-costos, *lookahead*, *strong branching*, etc.\n",
    "\n",
    "Ejecute a continuación la siguiente celda y observe el gran número de nodos del árbol BnB que se genera en cada caso (Nota: Para no exceder el límite de bytes posibles de desplegar como resultado de una ejecución de una celda de Jupyter Notebook, solo se muestra información descriptiva de los 500 o 1000 primeros nodos del árbold BnB generado)."
   ]
  },
  {
   "cell_type": "code",
   "execution_count": null,
   "metadata": {},
   "outputs": [],
   "source": [
    "include(\"lab2TP-BnB-P1.jl\");   # Código base para ejercicio 1 del trabajo presencial.\n",
    "dirInst = \"dirTP1\";            # Directorio con el archivo de instancias para el ejercicio 1.\n",
    "\n",
    "function find_branching_variable(sol::Array{Float64,1}, current_node::BBNode)\n",
    "  # Función que determina el índice s de la variable en la cual bifurcar.\n",
    "  # Solo se llama cuando sol, una solución factible, es no integral.  \n",
    "  #\n",
    "  n_vars = length(sol)\n",
    "  for s in 1:n_vars\n",
    "    v = sol[s]\n",
    "    if ( v > integer_precision ) && ( v < 1 - integer_precision ) && ! is_variable_branched_on(current_node, s)\n",
    "      return s   # Retorna menor índice fraccional.\n",
    "    end\n",
    "  end\n",
    "  println(\" -> Where shall I branch?\")    # Warning message.\n",
    "end\n",
    "\n",
    "orgn1 = [];\n",
    "for fn in readdir(dirInst)\n",
    "  W = readdlm(joinpath(dirInst,fn), ',', Int64, '\\n')\n",
    "\n",
    "  println( \"out \", repeat('=', 60) );\n",
    "  println( \"out Instancia \", fn );\n",
    "  println( \"out \", repeat('=', 60) );\n",
    "  status = bnb()\n",
    "  print(status)\n",
    "\n",
    "  println(\"out tree up/down bounds \", status.upper_bound, \"/\", status.lower_bound )\n",
    "\n",
    "  # Guarda estadísticas para análisis posterior.\n",
    "  push!(orgn1, [profundidad(status.root), nodos(status.root)]);\n",
    "    \n",
    "  # Para evitar mensajes de error por generar salidas muy grandes.\n",
    "  flush(stdout) \n",
    "  if isdefined(Main, :IJulia)\n",
    "    Main.IJulia.stdio_bytes[] = 0\n",
    "  end\n",
    "end\n",
    "\n",
    "# Imprime características de los árboles BnB generados para cada instancia.\n",
    "println( \"\" ); println( \"RESUMEN:\")\n",
    "println( \"Instancia: profunidad / nodos\" );\n",
    "for i in 1:size(orgn1,1)\n",
    "  print( \"        \", i, \": \")\n",
    "  prof1, nodos1 = orgn1[i];\n",
    "  println( \" orgn = \", prof1, \" / \", nodos1 ) \n",
    "end"
   ]
  },
  {
   "cell_type": "markdown",
   "metadata": {},
   "source": [
    "A continuación, modifique la función `find_branching_varible()` de la última celda para que implemente la estrategia de bifurcación en la variable más fraccional, es decir, asumiendo que las variables del modelo son $x_1,...,x_n$, la citada función deberá retornar el índice $i$ tal que $\\min\\{x_i,1-x_i\\}$ es máximo (en caso de empates retorna el índice menor). Una vez realizada la modificación, ejecute la celda."
   ]
  },
  {
   "cell_type": "code",
   "execution_count": 3,
   "metadata": {},
   "outputs": [
    {
     "name": "stdout",
     "output_type": "stream",
     "text": [
      "Set parameter Username\r\n",
      "Academic license - for non-commercial use only - expires 2024-03-22\r\n",
      "out ============================================================\n",
      "out Instancia packP1-i001.txt\n",
      "out ============================================================\n"
     ]
    },
    {
     "name": "stderr",
     "output_type": "stream",
     "text": [
      "WARNING: redefinition of constant GUROBI_ENV. This may fail, cause incorrect answers, or produce other errors.\n"
     ]
    },
    {
     "name": "stdout",
     "output_type": "stream",
     "text": [
      "out [0] Root node solved. LP value: 154.73502994011977.\n",
      "Inf\n"
     ]
    },
    {
     "name": "stdout",
     "output_type": "stream",
     "text": [
      "out [1] Branching on variable 2\n"
     ]
    },
    {
     "name": "stdout",
     "output_type": "stream",
     "text": [
      "out [1] Gap: Inf. Bnd: [-Inf; 154.69240895129442].\n",
      "out [2] Branching on variable 24\n",
      "out [2] Gap: Inf. Bnd: [-Inf; 154.69240895129442].\n",
      "out [3] Branching on variable 5\n",
      "out [3] Gap: Inf. Bnd: [-Inf; 154.69240895129442].\n",
      "out [4] Branching on variable 27\n",
      "out [4] Gap: Inf. Bnd: [-Inf; 154.69240895129442].\n",
      "out [5] Branching on variable 12\n",
      "out [5] Gap: Inf. Bnd: [-Inf; 154.69240895129442].\n",
      "out [6] Branching on variable 20\n"
     ]
    },
    {
     "name": "stdout",
     "output_type": "stream",
     "text": [
      "out [6] Gap: Inf. Bnd: [-Inf; 154.69240895129442].\n",
      "out [7] Branching on variable 6\n",
      "out [7] Gap: Inf. Bnd: [-Inf; 154.69240895129442].\n",
      "out [8] Branching on variable 16\n"
     ]
    },
    {
     "name": "stdout",
     "output_type": "stream",
     "text": [
      "out [8] Gap: Inf. Bnd: [-Inf; 154.69240895129442].\n",
      "out [9] Branching on variable 26\n",
      "out [9] Gap: Inf. Bnd: [-Inf; 154.69240895129442].\n",
      "out [10] Branching on variable 3\n",
      "out [10] Gap: Inf. Bnd: [-Inf; 154.69240895129442].\n",
      "out [11] Branching on variable 10\n",
      "out [11] Gap: Inf. Bnd: [-Inf; 154.69240895129442].\n",
      "out [12] Branching on variable 17\n",
      "\n",
      "out [12] Found a new incumbent. Value: 150.0\n",
      "out [12] Gap: 0.030333802305527804. Bnd: [150.0; 154.69240895129442].\n",
      "out [13] Branching on variable 25\n",
      "out [13] Gap: 0.030333802305527804. Bnd: [150.0; 154.69240895129442].\n",
      "out [14] Branching on variable 22\n",
      "out [14] Gap: 0.030333802305527804. Bnd: [150.0; 154.69240895129442].\n",
      "out [15] Branching on variable 7\n"
     ]
    },
    {
     "name": "stdout",
     "output_type": "stream",
     "text": [
      "out [15] Gap: 0.030333802305527804. Bnd: [150.0; 154.69240895129442].\n",
      "out [16] Branching on variable 23\n",
      "out [16] Gap: 0.030333802305527804. Bnd: [150.0; 154.69240895129442].\n",
      "out [17] Branching on variable 11\n",
      "out [17] Gap: 0.030333802305527804. Bnd: [150.0; 154.69240895129442].\n",
      "out [18] Branching on variable 8\n",
      "out [18] Gap: 0.030333802305527804. Bnd: [150.0; 154.69240895129442].\n",
      "out [19] Branching on variable 21"
     ]
    },
    {
     "name": "stdout",
     "output_type": "stream",
     "text": [
      "\n",
      "out [19] Gap: 0.030333802305527804. Bnd: [150.0; 154.69240895129442].\n",
      "out [20] Branching on variable 25\n",
      "out [20] Gap: 0.030333802305527804. Bnd: [150.0; 154.69240895129442].\n",
      "out [21] Branching on variable 23\n",
      "out [21] Gap: 0.030333802305527804. Bnd: [150.0; 154.69240895129442].\n",
      "out [22] Branching on variable 22\n",
      "out [22] Gap: 0.030333802305527804. Bnd: [150.0; 154.69240895129442].\n",
      "out [23] Branching on variable 9"
     ]
    },
    {
     "name": "stdout",
     "output_type": "stream",
     "text": [
      "\n",
      "out [23] Gap: 0.030333802305527804. Bnd: [150.0; 154.69240895129442].\n",
      "out [24] Branching on variable 11\n",
      "out [24] Gap: 0.030333802305527804. Bnd: [150.0; 154.69240895129442].\n",
      "out [25] Branching on variable 7\n",
      "out [25] Gap: 0.030333802305527804. Bnd: [150.0; 154.69240895129442].\n",
      "out [26] Branching on variable 25\n",
      "out [26] Gap: 0.030333802305527804. Bnd: [150.0; 154.69240895129442].\n",
      "out [27] Branching on variable 17\n",
      "out [27] Gap: 0.030333802305527804. Bnd: [150.0; 154.69240895129442].\n",
      "out [28] Branching on variable 3\n",
      "out [28] Gap: 0.030333802305527804. Bnd: [150.0; 154.69240895129442].\n",
      "out [29] Branching on variable 4\n",
      "out [29] Gap: 0.030333802305527804. Bnd: [150.0; 154.69240895129442].\n",
      "out [30] Branching on variable 22"
     ]
    },
    {
     "name": "stdout",
     "output_type": "stream",
     "text": [
      "\n",
      "out [30] Gap: 0.030333802305527804. Bnd: [150.0; 154.69240895129442].\n",
      "out [31] Branching on variable 30\n",
      "out [31] Gap: 0.030333802305527804. Bnd: [150.0; 154.69240895129442].\n",
      "out [32] Branching on variable 30\n",
      "out [32] Gap: 0.030333802305527804. Bnd: [150.0; 154.69240895129442].\n",
      "out [33] Branching on variable 16\n",
      "out [33] Gap: 0.030333802305527804. Bnd: [150.0; 154.69240895129442].\n",
      "out [34] Branching on variable 8\n",
      "out [34] Gap: 0.030333802305527804. Bnd: [150.0; 154.69240895129442].\n",
      "out [35] Branching on variable 8\n",
      "out [35] Gap: 0.030333802305527804. Bnd: [150.0; 154.69240895129442].\n",
      "out [36] Branching on variable 8\n"
     ]
    },
    {
     "name": "stdout",
     "output_type": "stream",
     "text": [
      "out [36] Gap: 0.030333802305527804. Bnd: [150.0; 154.69240895129442].\n",
      "out [37] Branching on variable 6\n",
      "out [37] Gap: 0.030333802305527804. Bnd: [150.0; 154.69240895129442].\n",
      "out [38] Branching on variable 22\n",
      "out [38] Gap: 0.030333802305527804. Bnd: [150.0; 154.69240895129442].\n",
      "out [39] Branching on variable 30\n",
      "out [39] Gap: 0.030333802305527804. Bnd: [150.0; 154.69240895129442].\n",
      "out [40] Branching on variable 17\n",
      "out [40] Gap: 0.030333802305527804. Bnd: [150.0; 154.69240895129442].\n",
      "out [41] Branching on variable 30\n",
      "out [41] Gap: 0.030333802305527804. Bnd: [150.0; 154.69240895129442].\n",
      "out [42] Branching on variable 25"
     ]
    },
    {
     "name": "stdout",
     "output_type": "stream",
     "text": [
      "\n",
      "out [42] Gap: 0.030333802305527804. Bnd: [150.0; 154.69240895129442].\n",
      "out [43] Branching on variable 22\n",
      "out [43] Gap: 0.030333802305527804. Bnd: [150.0; 154.69240895129442].\n",
      "out [44] Branching on variable 3\n",
      "out [44] Gap: 0.030333802305527804. Bnd: [150.0; 154.69240895129442].\n",
      "out [45] Branching on variable 10\n",
      "\n",
      "out [45] Found a new incumbent. Value: 151.0\n",
      "out [45] Gap: 0.023869360987564658. Bnd: [151.0; 154.69240895129442].\n",
      "out [46] Branching on variable 30\n",
      "out [46] Gap: 0.023869360987564658. Bnd: [151.0; 154.69240895129442].\n",
      "out [47] Branching on variable 6\n",
      "out [47] Gap: 0.023869360987564658. Bnd: [151.0; 154.69240895129442]."
     ]
    },
    {
     "name": "stdout",
     "output_type": "stream",
     "text": [
      "\n",
      "out [48] Branching on variable 14\n",
      "out [48] Gap: 0.023869360987564658. Bnd: [151.0; 154.69240895129442].\n",
      "out [49] Branching on variable 3\n",
      "out [49] Gap: 0.023869360987564658. Bnd: [151.0; 154.69240895129442].\n",
      "out [50] Branching on variable 22\n",
      "out [50] Gap: 0.023869360987564658. Bnd: [151.0; 154.69240895129442].\n",
      "out [51] Branching on variable 25\n",
      "out [51] Gap: 0.023869360987564658. Bnd: [151.0; 154.69240895129442]."
     ]
    },
    {
     "name": "stdout",
     "output_type": "stream",
     "text": [
      "\n",
      "out [52] Branching on variable 14\n",
      "out [52] Gap: 0.023869360987564658. Bnd: [151.0; 154.69240895129442].\n",
      "out [53] Branching on variable 30\n",
      "out [53] Gap: 0.023869360987564658. Bnd: [151.0; 154.69240895129442].\n",
      "out [54] Branching on variable 18"
     ]
    },
    {
     "name": "stdout",
     "output_type": "stream",
     "text": [
      "\n",
      "out [54] Gap: 0.023869360987564658. Bnd: [151.0; 154.69240895129442].\n",
      "out [55] Branching on variable 29\n",
      "out [55] Gap: 0.023869360987564658. Bnd: [151.0; 154.69240895129442].\n",
      "out [56] Branching on variable 21\n",
      "out [56] Gap: 0.023869360987564658. Bnd: [151.0; 154.69240895129442].\n",
      "out [57] Branching on variable 15\n",
      "out [57] Gap: 0.023869360987564658. Bnd: [151.0; 154.69240895129442].\n",
      "out [58] Branching on variable 8\n",
      "out [58] Gap: 0.023869360987564658. Bnd: [151.0; 154.69240895129442].\n",
      "out [59] Branching on variable 22"
     ]
    },
    {
     "name": "stdout",
     "output_type": "stream",
     "text": [
      "\n",
      "out [59] Gap: 0.023869360987564658. Bnd: [151.0; 154.69240895129442].\n",
      "out [60] Branching on variable 20"
     ]
    },
    {
     "name": "stdout",
     "output_type": "stream",
     "text": [
      "\n",
      "out [60] Gap: 0.023869360987564658. Bnd: [151.0; 154.69240895129442].\n",
      "out [61] Branching on variable 30\n",
      "out [61] Gap: 0.023869360987564658. Bnd: [151.0; 154.69240895129442].\n",
      "out [62] Branching on variable 12\n",
      "out [62] Gap: 0.023869360987564658. Bnd: [151.0; 154.69240895129442].\n",
      "out [63] Branching on variable 30\n",
      "out [63] Gap: 0.023869360987564658. Bnd: [151.0; 154.69240895129442].\n",
      "out [64] Branching on variable 30\n"
     ]
    },
    {
     "name": "stdout",
     "output_type": "stream",
     "text": [
      "out [64] Gap: 0.023869360987564658. Bnd: [151.0; 154.69240895129442].\n",
      "out [65] Branching on variable 20\n"
     ]
    },
    {
     "name": "stdout",
     "output_type": "stream",
     "text": [
      "out [65] Gap: 0.023869360987564658. Bnd: [151.0; 154.69240895129442].\n",
      "out [66] Branching on variable 12"
     ]
    },
    {
     "name": "stdout",
     "output_type": "stream",
     "text": [
      "\n",
      "out [66] Gap: 0.023869360987564658. Bnd: [151.0; 154.69240895129442].\n"
     ]
    },
    {
     "name": "stdout",
     "output_type": "stream",
     "text": [
      "out [67] Branching on variable 25\n",
      "out [67] Gap: 0.023869360987564658. Bnd: [151.0; 154.69240895129442].\n",
      "out [68] Branching on variable 20"
     ]
    },
    {
     "name": "stdout",
     "output_type": "stream",
     "text": [
      "\n"
     ]
    },
    {
     "name": "stdout",
     "output_type": "stream",
     "text": [
      "out [68] Gap: 0.023869360987564658. Bnd: [151.0; 154.69240895129442].\n",
      "out [69] Branching on variable 13\n",
      "out [69] Gap: 0.023869360987564658. Bnd: [151.0; 154.69240895129442].\n",
      "out [70] Branching on variable 30\n",
      "out [70] Gap: 0.023869360987564658. Bnd: [151.0; 154.69240895129442].\n",
      "out [71] Branching on variable 22\n",
      "out [71] Gap: 0.023869360987564658. Bnd: [151.0; 154.69240895129442].\n",
      "out [72] Branching on variable 12"
     ]
    },
    {
     "name": "stdout",
     "output_type": "stream",
     "text": [
      "\n",
      "out [72] Gap: 0.023869360987564658. Bnd: [151.0; 154.69240895129442].\n",
      "out [73] Branching on variable 7\n",
      "out [73] Gap: 0.023869360987564658. Bnd: [151.0; 154.69240895129442].\n",
      "out [74] Branching on variable 4\n",
      "out [74] Gap: 0.023869360987564658. Bnd: [151.0; 154.69240895129442].\n",
      "out [75] Branching on variable 11"
     ]
    },
    {
     "name": "stdout",
     "output_type": "stream",
     "text": [
      "\n",
      "out [75] Gap: 0.023869360987564658. Bnd: [151.0; 154.69240895129442].\n",
      "out [76] Branching on variable 18\n",
      "out [76] Gap: 0.023869360987564658. Bnd: [151.0; 154.69240895129442].\n",
      "out [77] Branching on variable 9\n",
      "out [77] Gap: 0.023869360987564658. Bnd: [151.0; 154.69240895129442].\n",
      "out [78] Branching on variable 28\n",
      "out [78] Gap: 0.023869360987564658. Bnd: [151.0; 154.69240895129442].\n",
      "out [79] Branching on variable 17\n",
      "out [79] Gap: 0.023869360987564658. Bnd: [151.0; 154.69240895129442].\n",
      "out [80] Branching on variable 8"
     ]
    },
    {
     "name": "stdout",
     "output_type": "stream",
     "text": [
      "\n",
      "out [80] Gap: 0.023869360987564658. Bnd: [151.0; 154.69240895129442].\n",
      "out [81] Branching on variable 16\n",
      "out [81] Gap: 0.023869360987564658. Bnd: [151.0; 154.69240895129442].\n",
      "out [82] Branching on variable 12\n",
      "out [82] Gap: 0.023869360987564658. Bnd: [151.0; 154.69240895129442].\n",
      "out [83] Branching on variable 27\n",
      "out [83] Gap: 0.023869360987564658. Bnd: [151.0; 154.69240895129442].\n",
      "out [84] Branching on variable 22\n",
      "out [84] Gap: 0.023869360987564658. Bnd: [151.0; 154.69240895129442].\n",
      "out [85] Branching on variable 6\n",
      "out [85] Gap: 0.023869360987564658. Bnd: [151.0; 154.69240895129442].\n",
      "out [86] Branching on variable 27\n",
      "out [86] Gap: 0.023869360987564658. Bnd: [151.0; 154.69240895129442].\n",
      "out [87] Branching on variable 30\n"
     ]
    },
    {
     "name": "stdout",
     "output_type": "stream",
     "text": [
      "out [87] Gap: 0.023869360987564658. Bnd: [151.0; 154.69240895129442].\n",
      "out [88] Branching on variable 21\n",
      "out [88] Gap: 0.023869360987564658. Bnd: [151.0; 154.69240895129442].\n",
      "out [89] Branching on variable 15\n",
      "out [89] Gap: 0.023869360987564658. Bnd: [151.0; 154.69240895129442].\n",
      "out [90] Branching on variable 28\n",
      "out [90] Gap: 0.023869360987564658. Bnd: [151.0; 154.69240895129442].\n",
      "out [91] Branching on variable 6\n",
      "out [91] Gap: 0.023869360987564658. Bnd: [151.0; 154.69240895129442].\n",
      "out [92] Branching on variable 30\n",
      "out [92] Gap: 0.023869360987564658. Bnd: [151.0; 154.69240895129442].\n",
      "out [93] Branching on variable 8"
     ]
    },
    {
     "name": "stdout",
     "output_type": "stream",
     "text": [
      "\n",
      "out [93] Gap: 0.023869360987564658. Bnd: [151.0; 154.69240895129442].\n",
      "out [94] Branching on variable 12\n",
      "out [94] Gap: 0.023869360987564658. Bnd: [151.0; 154.69240895129442].\n",
      "out [95] Branching on variable 27\n",
      "out [95] Gap: 0.023869360987564658. Bnd: [151.0; 154.69240895129442].\n",
      "out [96] Branching on variable 6\n",
      "out [96] Gap: 0.023869360987564658. Bnd: [151.0; 154.69240895129442].\n",
      "out [97] Branching on variable 30\n",
      "out [97] Gap: 0.023869360987564658. Bnd: [151.0; 154.69240895129442].\n",
      "out [98] Branching on variable 22\n",
      "out [98] Gap: 0.023869360987564658. Bnd: [151.0; 154.69240895129442].\n",
      "out [99] Branching on variable 3\n",
      "out [99] Gap: 0.023869360987564658. Bnd: [151.0; 154.69240895129442].\n",
      "out [100] Branching on variable 27\n",
      "out [100] Gap: 0.023869360987564658. Bnd: [151.0; 154.69240895129442].\n",
      "out [101] Branching on variable 4"
     ]
    },
    {
     "name": "stdout",
     "output_type": "stream",
     "text": [
      "\n",
      "out [101] Gap: 0.023869360987564658. Bnd: [151.0; 154.69240895129442].\n",
      "out [102] Branching on variable 8\n",
      "out [102] Gap: 0.023526309138558993. Bnd: [151.0; 154.63806287170772].\n",
      "out [103] Branching on variable 12\n",
      "out [103] Gap: 0.023526309138558993. Bnd: [151.0; 154.63806287170772].\n",
      "out [104] Branching on variable 20\n",
      "out [104] Gap: 0.023526309138558993. Bnd: [151.0; 154.63806287170772].\n",
      "out [105] Branching on variable 6\n",
      "out [105] Gap: 0.023526309138558993. Bnd: [151.0; 154.63806287170772].\n",
      "out [106] Branching on variable 26\n",
      "out [106] Gap: 0.023526309138558993. Bnd: [151.0; 154.63806287170772].\n",
      "out [107] Branching on variable 11\n",
      "out [107] Gap: 0.023526309138558993. Bnd: [151.0; 154.63806287170772].\n",
      "out [108] Branching on variable 4\n",
      "out [108] Gap: 0.023526309138558993. Bnd: [151.0; 154.63806287170772].\n",
      "out [109] Branching on variable 23\n"
     ]
    },
    {
     "name": "stdout",
     "output_type": "stream",
     "text": [
      "out [109] Gap: 0.023526309138558993. Bnd: [151.0; 154.63806287170772].\n",
      "out [110] Branching on variable 27\n",
      "out [110] Gap: 0.023526309138558993. Bnd: [151.0; 154.63806287170772].\n",
      "out [111] Branching on variable 16\n",
      "out [111] Gap: 0.023526309138558993. Bnd: [151.0; 154.63806287170772].\n",
      "out [112] Branching on variable 3\n",
      "out [112] Gap: 0.023526309138558993. Bnd: [151.0; 154.63806287170772].\n",
      "out [113] Branching on variable 10\n",
      "out [113] Gap: 0.023526309138558993. Bnd: [151.0; 154.63806287170772].\n",
      "out [114] Branching on variable 9\n",
      "out [114] Gap: 0.023526309138558993. Bnd: [151.0; 154.63806287170772].\n",
      "out [115] Branching on variable 9\n",
      "out [115] Gap: 0.023526309138558993. Bnd: [151.0; 154.63806287170772].\n",
      "out [116] Branching on variable 1\n"
     ]
    },
    {
     "name": "stdout",
     "output_type": "stream",
     "text": [
      "out [116] Gap: 0.023526309138558993. Bnd: [151.0; 154.63806287170772].\n",
      "out [117] Branching on variable 30\n",
      "out [117] Gap: 0.023526309138558993. Bnd: [151.0; 154.63806287170772].\n",
      "out [118] Branching on variable 25\n",
      "out [118] Gap: 0.023526309138558993. Bnd: [151.0; 154.63806287170772].\n",
      "out [119] Branching on variable 27\n",
      "out [119] Gap: 0.023526309138558993. Bnd: [151.0; 154.63806287170772].\n",
      "out [120] Branching on variable 16\n",
      "out [120] Gap: 0.023526309138558993. Bnd: [151.0; 154.63806287170772].\n",
      "out [121] Branching on variable 3\n"
     ]
    },
    {
     "name": "stdout",
     "output_type": "stream",
     "text": [
      "out [121] Gap: 0.023526309138558993. Bnd: [151.0; 154.63806287170772].\n",
      "out [122] Branching on variable 27\n",
      "out [122] Gap: 0.023526309138558993. Bnd: [151.0; 154.63806287170772].\n",
      "out [123] Branching on variable 4\n",
      "out [123] Gap: 0.023526309138558993. Bnd: [151.0; 154.63806287170772].\n",
      "out [124] Branching on variable 18\n",
      "out [124] Gap: 0.023526309138558993. Bnd: [151.0; 154.63806287170772].\n",
      "out [125] Branching on variable 29\n",
      "out [125] Gap: 0.023526309138558993. Bnd: [151.0; 154.63806287170772].\n",
      "out [126] Branching on variable 7\n",
      "out [126] Gap: 0.023526309138558993. Bnd: [151.0; 154.63806287170772].\n",
      "out [127] Branching on variable 13\n"
     ]
    },
    {
     "name": "stdout",
     "output_type": "stream",
     "text": [
      "out [127] Gap: 0.023526309138558993. Bnd: [151.0; 154.63806287170772].\n",
      "out [128] Branching on variable 4\n",
      "out [128] Gap: 0.023526309138558993. Bnd: [151.0; 154.63806287170772].\n",
      "out [129] Branching on variable 29\n",
      "out [129] Gap: 0.023526309138558993. Bnd: [151.0; 154.63806287170772].\n",
      "out [130] Branching on variable 29\n",
      "out [130] Gap: 0.023526309138558993. Bnd: [151.0; 154.63806287170772].\n",
      "out [131] Branching on variable 4\n",
      "out [131] Gap: 0.023526309138558993. Bnd: [151.0; 154.63806287170772].\n",
      "out [132] Branching on variable 18\n",
      "out [132] Gap: 0.023526309138558993. Bnd: [151.0; 154.63806287170772].\n",
      "out [133] Branching on variable 7\n",
      "out [133] Gap: 0.023526309138558993. Bnd: [151.0; 154.63806287170772].\n",
      "out [134] Branching on variable 4\n",
      "out [134] Gap: 0.023526309138558993. Bnd: [151.0; 154.63806287170772].\n",
      "out [135] Branching on variable 16"
     ]
    },
    {
     "name": "stdout",
     "output_type": "stream",
     "text": [
      "\n",
      "out [135] Gap: 0.023526309138558993. Bnd: [151.0; 154.63806287170772].\n",
      "out [136] Branching on variable 29\n",
      "out [136] Gap: 0.023526309138558993. Bnd: [151.0; 154.63806287170772].\n",
      "out [137] Branching on variable 25\n",
      "out [137] Gap: 0.023526309138558993. Bnd: [151.0; 154.63806287170772].\n",
      "out [138] Branching on variable 30\n",
      "out [138] Gap: 0.023526309138558993. Bnd: [151.0; 154.63806287170772].\n",
      "out [139] Branching on variable 25\n",
      "out [139] Gap: 0.023526309138558993. Bnd: [151.0; 154.63806287170772].\n",
      "out [140] Branching on variable 27\n",
      "out [140] Gap: 0.023526309138558993. Bnd: [151.0; 154.63806287170772].\n",
      "out [141] Branching on variable 22\n",
      "out [141] Gap: 0.023526309138558993. Bnd: [151.0; 154.63806287170772].\n",
      "out [142] Branching on variable 3\n",
      "out [142] Gap: 0.023526309138558993. Bnd: [151.0; 154.63806287170772].\n",
      "out [143] Branching on variable 10\n"
     ]
    },
    {
     "name": "stdout",
     "output_type": "stream",
     "text": [
      "out [143] Gap: 0.023526309138558993. Bnd: [151.0; 154.63806287170772].\n",
      "out [144] Branching on variable 17\n",
      "out [144] Gap: 0.023526309138558993. Bnd: [151.0; 154.63806287170772].\n",
      "out [145] Branching on variable 6\n",
      "out [145] Gap: 0.023526309138558993. Bnd: [151.0; 154.63806287170772].\n",
      "out [146] Branching on variable 14\n",
      "out [146] Gap: 0.023526309138558993. Bnd: [151.0; 154.63806287170772].\n",
      "out [147] Branching on variable 5\n",
      "out [147] Gap: 0.023526309138558993. Bnd: [151.0; 154.63806287170772].\n",
      "out [148] Branching on variable 15\n",
      "out [148] Gap: 0.023526309138558993. Bnd: [151.0; 154.63806287170772].\n",
      "out [149] Branching on variable 18\n",
      "out [149] Gap: 0.023526309138558993. Bnd: [151.0; 154.63806287170772].\n",
      "out [150] Branching on variable 27"
     ]
    },
    {
     "name": "stdout",
     "output_type": "stream",
     "text": [
      "\n",
      "out [150] Gap: 0.023526309138558993. Bnd: [151.0; 154.63806287170772].\n",
      "out [151] Branching on variable 4\n",
      "out [151] Gap: 0.023526309138558993. Bnd: [151.0; 154.63806287170772].\n",
      "out [152] Branching on variable 29\n",
      "out [152] Gap: 0.023526309138558993. Bnd: [151.0; 154.63806287170772].\n",
      "out [153] Branching on variable 22\n"
     ]
    },
    {
     "name": "stdout",
     "output_type": "stream",
     "text": [
      "out [153] Gap: 0.023526309138558993. Bnd: [151.0; 154.63806287170772].\n",
      "out [154] Branching on variable 6\n",
      "out [154] Gap: 0.023526309138558993. Bnd: [151.0; 154.63806287170772].\n",
      "out [155] Branching on variable 3\n",
      "out [155] Gap: 0.023526309138558993. Bnd: [151.0; 154.63806287170772].\n",
      "out [156] Branching on variable 7\n",
      "out [156] Gap: 0.023526309138558993. Bnd: [151.0; 154.63806287170772].\n",
      "out [157] Branching on variable 13"
     ]
    },
    {
     "name": "stdout",
     "output_type": "stream",
     "text": [
      "\n",
      "out [157] Gap: 0.023526309138558993. Bnd: [151.0; 154.63806287170772].\n",
      "out [158] Branching on variable 22\n",
      "out [158] Gap: 0.023526309138558993. Bnd: [151.0; 154.63806287170772].\n",
      "out [159] Branching on variable 27\n",
      "out [159] Gap: 0.023526309138558993. Bnd: [151.0; 154.63806287170772].\n",
      "out [160] Branching on variable 10\n",
      "out [160] Gap: 0.023526309138558993. Bnd: [151.0; 154.63806287170772].\n",
      "out [161] Branching on variable 6"
     ]
    },
    {
     "name": "stdout",
     "output_type": "stream",
     "text": [
      "\n",
      "out [161] Gap: 0.023526309138558993. Bnd: [151.0; 154.63806287170772].\n",
      "out [162] Branching on variable 14\n",
      "out [162] Gap: 0.023526309138558993. Bnd: [151.0; 154.63806287170772].\n",
      "out [163] Branching on variable 1\n",
      "out [163] Gap: 0.023526309138558993. Bnd: [151.0; 154.63806287170772].\n",
      "out [164] Branching on variable 11\n",
      "out [164] Gap: 0.023526309138558993. Bnd: [151.0; 154.63806287170772].\n",
      "out [165] Branching on variable 28"
     ]
    },
    {
     "name": "stdout",
     "output_type": "stream",
     "text": [
      "\n",
      "out [165] Gap: 0.023526309138558993. Bnd: [151.0; 154.63806287170772].\n",
      "out [166] Branching on variable 9\n",
      "out [166] Gap: 0.023526309138558993. Bnd: [151.0; 154.63806287170772].\n",
      "out [167] Branching on variable 5\n",
      "out [167] Gap: 0.023526309138558993. Bnd: [151.0; 154.63806287170772].\n",
      "out [168] Branching on variable 9\n",
      "out [168] Gap: 0.023526309138558993. Bnd: [151.0; 154.63806287170772].\n",
      "out [169] Branching on variable 14\n",
      "out [169] Gap: 0.023526309138558993. Bnd: [151.0; 154.63806287170772].\n",
      "out [170] Branching on variable 5\n"
     ]
    },
    {
     "name": "stdout",
     "output_type": "stream",
     "text": [
      "out [170] Gap: 0.023526309138558993. Bnd: [151.0; 154.63806287170772].\n",
      "out [171] Branching on variable 28\n",
      "out [171] Gap: 0.023526309138558993. Bnd: [151.0; 154.63806287170772].\n",
      "out [172] Branching on variable 15\n",
      "out [172] Gap: 0.023526309138558993. Bnd: [151.0; 154.63806287170772].\n",
      "out [173] Branching on variable 4\n",
      "out [173] Gap: 0.023526309138558993. Bnd: [151.0; 154.63806287170772].\n",
      "out [174] Branching on variable 5\n",
      "out [174] Gap: 0.023526309138558993. Bnd: [151.0; 154.63806287170772].\n",
      "out [175] Branching on variable 11\n",
      "out [175] Gap: 0.023526309138558993. Bnd: [151.0; 154.63806287170772].\n",
      "out [176] Branching on variable 9"
     ]
    },
    {
     "name": "stdout",
     "output_type": "stream",
     "text": [
      "\n",
      "out [176] Gap: 0.023526309138558993. Bnd: [151.0; 154.63806287170772].\n",
      "out [177] Branching on variable 25\n",
      "out [177] Gap: 0.023526309138558993. Bnd: [151.0; 154.63806287170772].\n",
      "out [178] Branching on variable 6\n",
      "out [178] Gap: 0.023526309138558993. Bnd: [151.0; 154.63806287170772].\n",
      "out [179] Branching on variable 20\n",
      "out [179] Gap: 0.023526309138558993. Bnd: [151.0; 154.63806287170772].\n",
      "out [180] Branching on variable 5\n",
      "out [180] Gap: 0.023526309138558993. Bnd: [151.0; 154.63806287170772].\n",
      "out [181] Branching on variable 3\n"
     ]
    },
    {
     "name": "stdout",
     "output_type": "stream",
     "text": [
      "out [181] Gap: 0.023526309138558993. Bnd: [151.0; 154.63806287170772].\n",
      "out [182] Branching on variable 30\n",
      "out [182] Gap: 0.023526309138558993. Bnd: [151.0; 154.63806287170772].\n",
      "out [183] Branching on variable 4\n",
      "out [183] Gap: 0.023526309138558993. Bnd: [151.0; 154.63806287170772].\n",
      "out [184] Branching on variable 18\n",
      "out [184] Gap: 0.023526309138558993. Bnd: [151.0; 154.63806287170772].\n",
      "out [185] Branching on variable 22\n",
      "out [185] Gap: 0.023526309138558993. Bnd: [151.0; 154.63806287170772].\n",
      "out [186] Branching on variable 15\n",
      "out [186] Gap: 0.023526309138558993. Bnd: [151.0; 154.63806287170772].\n",
      "out [187] Branching on variable 27\n"
     ]
    },
    {
     "name": "stdout",
     "output_type": "stream",
     "text": [
      "out [187] Gap: 0.023526309138558993. Bnd: [151.0; 154.63806287170772].\n",
      "out [188] Branching on variable 24\n",
      "out [188] Gap: 0.023526309138558993. Bnd: [151.0; 154.63806287170772].\n",
      "out [189] Branching on variable 22\n",
      "out [189] Gap: 0.023526309138558993. Bnd: [151.0; 154.63806287170772].\n",
      "out [190] Branching on variable 16\n",
      "out [190] Gap: 0.023526309138558993. Bnd: [151.0; 154.63806287170772].\n",
      "out [191] Branching on variable 17\n",
      "out [191] Gap: 0.023526309138558993. Bnd: [151.0; 154.63806287170772].\n",
      "out [192] Branching on variable 3\n",
      "out [192] Gap: 0.023526309138558993. Bnd: [151.0; 154.63806287170772]."
     ]
    },
    {
     "name": "stdout",
     "output_type": "stream",
     "text": [
      "\n",
      "out [193] Branching on variable 26\n",
      "out [193] Gap: 0.023526309138558993. Bnd: [151.0; 154.63806287170772].\n",
      "out [194] Branching on variable 10\n",
      "out [194] Gap: 0.023526309138558993. Bnd: [151.0; 154.63806287170772].\n",
      "out [195] Branching on variable 17\n",
      "out [195] Gap: 0.023526309138558993. Bnd: [151.0; 154.63806287170772].\n",
      "out [196] Branching on variable 15"
     ]
    },
    {
     "name": "stdout",
     "output_type": "stream",
     "text": [
      "\n",
      "out [196] Gap: 0.023526309138558993. Bnd: [151.0; 154.63806287170772].\n",
      "out [197] Branching on variable 30\n",
      "out [197] Gap: 0.023526309138558993. Bnd: [151.0; 154.63806287170772].\n",
      "out [198] Branching on variable 24\n",
      "out [198] Gap: 0.023526309138558993. Bnd: [151.0; 154.63806287170772].\n",
      "out [199] Branching on variable 14\n",
      "out [199] Gap: 0.023526309138558993. Bnd: [151.0; 154.63806287170772].\n",
      "out [200] Branching on variable 30\n",
      "out [200] Gap: 0.023526309138558993. Bnd: [151.0; 154.63806287170772].\n",
      "out [201] Branching on variable 21"
     ]
    },
    {
     "name": "stdout",
     "output_type": "stream",
     "text": [
      "\n",
      "out [201] Gap: 0.023526309138558993. Bnd: [151.0; 154.63806287170772].\n",
      "out [202] Branching on variable 15\n",
      "out [202] Gap: 0.023526309138558993. Bnd: [151.0; 154.63806287170772].\n",
      "out [203] Branching on variable 5\n",
      "out [203] Gap: 0.023526309138558993. Bnd: [151.0; 154.63806287170772].\n",
      "out [204] Branching on variable 3\n"
     ]
    },
    {
     "name": "stdout",
     "output_type": "stream",
     "text": [
      "out [204] Gap: 0.023526309138558993. Bnd: [151.0; 154.63806287170772].\n",
      "out [205] Branching on variable 14\n",
      "out [205] Gap: 0.023526309138558993. Bnd: [151.0; 154.63806287170772].\n",
      "out [206] Branching on variable 30\n",
      "out [206] Gap: 0.023526309138558993. Bnd: [151.0; 154.63806287170772].\n",
      "out [207] Branching on variable 24\n",
      "out [207] Gap: 0.023526309138558993. Bnd: [151.0; 154.63806287170772].\n",
      "out [208] Branching on variable 17\n",
      "out [208] Gap: 0.023526309138558993. Bnd: [151.0; 154.63806287170772].\n",
      "out [209] Branching on variable 15"
     ]
    },
    {
     "name": "stdout",
     "output_type": "stream",
     "text": [
      "\n",
      "out [209] Gap: 0.023526309138558993. Bnd: [151.0; 154.63806287170772].\n",
      "out [210] Branching on variable 18\n",
      "out [210] Gap: 0.023526309138558993. Bnd: [151.0; 154.63806287170772].\n",
      "out [211] Branching on variable 29\n",
      "out [211] Gap: 0.023526309138558993. Bnd: [151.0; 154.63806287170772]."
     ]
    },
    {
     "name": "stdout",
     "output_type": "stream",
     "text": [
      "\n",
      "out [212] Branching on variable 30\n",
      "out [212] Gap: 0.023526309138558993. Bnd: [151.0; 154.63806287170772].\n",
      "out [213] Branching on variable 22\n",
      "out [213] Gap: 0.023526309138558993. Bnd: [151.0; 154.63806287170772].\n",
      "out [214] Branching on variable 3\n"
     ]
    },
    {
     "name": "stdout",
     "output_type": "stream",
     "text": [
      "out [214] Gap: 0.023526309138558993. Bnd: [151.0; 154.63806287170772].\n",
      "out [215] Branching on variable 27\n",
      "out [215] Gap: 0.023526309138558993. Bnd: [151.0; 154.63806287170772].\n",
      "out [216] Branching on variable 20\n",
      "out [216] Gap: 0.023526309138558993. Bnd: [151.0; 154.63806287170772].\n",
      "out [217] Branching on variable 10\n",
      "out [217] Gap: 0.023526309138558993. Bnd: [151.0; 154.63806287170772].\n",
      "out [218] Branching on variable 14\n",
      "out [218] Gap: 0.023526309138558993. Bnd: [151.0; 154.63806287170772].\n",
      "out [219] Branching on variable 13"
     ]
    },
    {
     "name": "stdout",
     "output_type": "stream",
     "text": [
      "\n",
      "out [219] Gap: 0.023526309138558993. Bnd: [151.0; 154.63806287170772].\n",
      "out [220] Branching on variable 4\n",
      "out [220] Gap: 0.023526309138558993. Bnd: [151.0; 154.63806287170772].\n",
      "out [221] Branching on variable 18\n",
      "out [221] Gap: 0.023526309138558993. Bnd: [151.0; 154.63806287170772].\n",
      "out [222] Branching on variable 6\n",
      "out [222] Gap: 0.023526309138558993. Bnd: [151.0; 154.63806287170772].\n",
      "out [223] Branching on variable 22\n",
      "out [223] Gap: 0.023526309138558993. Bnd: [151.0; 154.63806287170772].\n",
      "out [224] Branching on variable 20\n",
      "out [224] Gap: 0.023526309138558993. Bnd: [151.0; 154.63806287170772].\n",
      "out [225] Branching on variable 27"
     ]
    },
    {
     "name": "stdout",
     "output_type": "stream",
     "text": [
      "\n",
      "out [225] Gap: 0.023526309138558993. Bnd: [151.0; 154.63806287170772].\n",
      "out [226] Branching on variable 3\n",
      "out [226] Gap: 0.023526309138558993. Bnd: [151.0; 154.63806287170772].\n",
      "out [227] Branching on variable 11\n",
      "out [227] Gap: 0.023526309138558993. Bnd: [151.0; 154.63806287170772].\n",
      "out [228] Branching on variable 4\n",
      "out [228] Gap: 0.023526309138558993. Bnd: [151.0; 154.63806287170772].\n",
      "out [229] Branching on variable 9\n",
      "out [229] Gap: 0.023526309138558993. Bnd: [151.0; 154.63806287170772].\n",
      "out [230] Branching on variable 23\n",
      "out [230] Gap: 0.023526309138558993. Bnd: [151.0; 154.63806287170772].\n",
      "out [231] Branching on variable 30\n",
      "out [231] Gap: 0.023526309138558993. Bnd: [151.0; 154.63806287170772].\n",
      "out [232] Branching on variable 3"
     ]
    },
    {
     "name": "stdout",
     "output_type": "stream",
     "text": [
      "\n",
      "out [232] Gap: 0.023526309138558993. Bnd: [151.0; 154.63806287170772].\n",
      "out [233] Branching on variable 27\n",
      "out [233] Gap: 0.023526309138558993. Bnd: [151.0; 154.63806287170772].\n",
      "out [234] Branching on variable 10\n",
      "out [234] Gap: 0.023526309138558993. Bnd: [151.0; 154.63806287170772].\n",
      "out [235] Branching on variable 16\n"
     ]
    },
    {
     "name": "stdout",
     "output_type": "stream",
     "text": [
      "out [235] Gap: 0.023526309138558993. Bnd: [151.0; 154.63806287170772].\n",
      "out [236] Branching on variable 26\n",
      "out [236] Gap: 0.023526309138558993. Bnd: [151.0; 154.63806287170772].\n",
      "out [237] Branching on variable 24\n",
      "out [237] Gap: 0.023526309138558993. Bnd: [151.0; 154.63806287170772].\n",
      "out [238] Branching on variable 17\n",
      "out [238] Gap: 0.023526309138558993. Bnd: [151.0; 154.63806287170772].\n",
      "out [239] Branching on variable 20\n",
      "out [239] Gap: 0.023526309138558993. Bnd: [151.0; 154.63806287170772].\n",
      "out [240] Branching on variable 27"
     ]
    },
    {
     "name": "stdout",
     "output_type": "stream",
     "text": [
      "\n",
      "out [240] Gap: 0.023526309138558993. Bnd: [151.0; 154.63806287170772].\n",
      "out [241] Branching on variable 16\n",
      "out [241] Gap: 0.023526309138558993. Bnd: [151.0; 154.63806287170772].\n",
      "out [242] Branching on variable 3"
     ]
    },
    {
     "name": "stdout",
     "output_type": "stream",
     "text": [
      "\n",
      "out [242] Gap: 0.023526309138558993. Bnd: [151.0; 154.63806287170772].\n",
      "out [243] Branching on variable 30\n",
      "out [243] Gap: 0.023526309138558993. Bnd: [151.0; 154.63806287170772].\n",
      "out [244] Branching on variable 17\n",
      "out [244] Gap: 0.023526309138558993. Bnd: [151.0; 154.63806287170772].\n",
      "out [245] Branching on variable 24\n",
      "out [245] Gap: 0.023526309138558993. Bnd: [151.0; 154.63806287170772].\n",
      "out [246] Branching on variable 10\n",
      "out [246] Gap: 0.023526309138558993. Bnd: [151.0; 154.63806287170772].\n",
      "out [247] Branching on variable 26\n"
     ]
    },
    {
     "name": "stdout",
     "output_type": "stream",
     "text": [
      "out [247] Gap: 0.023526309138558993. Bnd: [151.0; 154.63806287170772].\n",
      "out [248] Branching on variable 14\n",
      "out [248] Gap: 0.023526309138558993. Bnd: [151.0; 154.63806287170772].\n",
      "out [249] Branching on variable 22\n",
      "out [249] Gap: 0.023526309138558993. Bnd: [151.0; 154.63806287170772].\n",
      "out [250] Branching on variable 4\n",
      "out [250] Gap: 0.023526309138558993. Bnd: [151.0; 154.63806287170772].\n",
      "out [251] Branching on variable 3\n",
      "out [251] Gap: 0.023526309138558993. Bnd: [151.0; 154.63806287170772].\n",
      "out [252] Branching on variable 4"
     ]
    },
    {
     "name": "stdout",
     "output_type": "stream",
     "text": [
      "\n",
      "out [252] Gap: 0.023526309138558993. Bnd: [151.0; 154.63806287170772].\n",
      "out [253] Branching on variable 5\n",
      "out [253] Gap: 0.023526309138558993. Bnd: [151.0; 154.63806287170772].\n",
      "out [254] Branching on variable 3\n",
      "out [254] Gap: 0.023526309138558993. Bnd: [151.0; 154.63806287170772].\n",
      "out [255] Branching on variable 24\n",
      "out [255] Gap: 0.023526309138558993. Bnd: [151.0; 154.63806287170772]."
     ]
    },
    {
     "name": "stdout",
     "output_type": "stream",
     "text": [
      "\n",
      "out [256] Branching on variable 17\n",
      "out [256] Gap: 0.023526309138558993. Bnd: [151.0; 154.63806287170772].\n",
      "out [257] Branching on variable 3\n",
      "out [257] Gap: 0.023526309138558993. Bnd: [151.0; 154.63806287170772].\n",
      "out [258] Branching on variable 27\n",
      "out [258] Gap: 0.023526309138558993. Bnd: [151.0; 154.63806287170772].\n",
      "out [259] Branching on variable 29\n",
      "out [259] Gap: 0.023526309138558993. Bnd: [151.0; 154.63806287170772].\n",
      "out [260] Branching on variable 10"
     ]
    },
    {
     "name": "stdout",
     "output_type": "stream",
     "text": [
      "\n",
      "out [260] Gap: 0.023526309138558993. Bnd: [151.0; 154.63806287170772].\n",
      "out [261] Branching on variable 16\n",
      "out [261] Gap: 0.023526309138558993. Bnd: [151.0; 154.63806287170772].\n",
      "out [262] Branching on variable 13\n",
      "out [262] Gap: 0.023526309138558993. Bnd: [151.0; 154.63806287170772].\n",
      "out [263] Branching on variable 7\n",
      "out [263] Gap: 0.023526309138558993. Bnd: [151.0; 154.63806287170772].\n",
      "out [264] Branching on variable 30\n",
      "out [264] Gap: 0.023526309138558993. Bnd: [151.0; 154.63806287170772]."
     ]
    },
    {
     "name": "stdout",
     "output_type": "stream",
     "text": [
      "\n",
      "out [265] Branching on variable 29\n",
      "out [265] Gap: 0.023526309138558993. Bnd: [151.0; 154.63806287170772].\n",
      "out [266] Branching on variable 6\n",
      "out [266] Gap: 0.023526309138558993. Bnd: [151.0; 154.63806287170772].\n",
      "out [267] Branching on variable 22\n",
      "out [267] Gap: 0.023526309138558993. Bnd: [151.0; 154.63806287170772].\n",
      "out [268] Branching on variable 20\n",
      "out [268] Gap: 0.023526309138558993. Bnd: [151.0; 154.63806287170772].\n",
      "out [269] Branching on variable 10\n",
      "out [269] Gap: 0.023526309138558993. Bnd: [151.0; 154.63806287170772].\n",
      "out [270] Branching on variable 16"
     ]
    },
    {
     "name": "stdout",
     "output_type": "stream",
     "text": [
      "\n",
      "out [270] Gap: 0.023526309138558993. Bnd: [151.0; 154.63806287170772].\n",
      "out [271] Branching on variable 26\n",
      "out [271] Gap: 0.023526309138558993. Bnd: [151.0; 154.63806287170772].\n",
      "out [272] Branching on variable 14\n",
      "out [272] Gap: 0.023526309138558993. Bnd: [151.0; 154.63806287170772].\n",
      "out [273] Branching on variable 29\n",
      "out [273] Gap: 0.023526309138558993. Bnd: [151.0; 154.63806287170772].\n",
      "out [274] Branching on variable 5\n",
      "out [274] Gap: 0.023526309138558993. Bnd: [151.0; 154.63806287170772].\n",
      "out [275] Branching on variable 13\n"
     ]
    },
    {
     "name": "stdout",
     "output_type": "stream",
     "text": [
      "out [275] Gap: 0.023526309138558993. Bnd: [151.0; 154.63806287170772].\n",
      "out [276] Branching on variable 4\n",
      "out [276] Gap: 0.023500783359445426. Bnd: [151.0; 154.63402061855672].\n",
      "out [277] Branching on variable 24\n",
      "out [277] Gap: 0.023500783359445426. Bnd: [151.0; 154.63402061855672].\n",
      "out [278] Branching on variable 6\n",
      "out [278] Gap: 0.023500783359445426. Bnd: [151.0; 154.63402061855672]."
     ]
    },
    {
     "name": "stdout",
     "output_type": "stream",
     "text": [
      "\n",
      "out [279] Branching on variable 17\n",
      "out [279] Gap: 0.023500783359445426. Bnd: [151.0; 154.63402061855672].\n",
      "out [280] Branching on variable 27\n",
      "out [280] Gap: 0.023500783359445426. Bnd: [151.0; 154.63402061855672].\n",
      "out [281] Branching on variable 12\n",
      "out [281] Gap: 0.023500783359445426. Bnd: [151.0; 154.63402061855672].\n",
      "out [282] Branching on variable 22\n",
      "out [282] Gap: 0.023500783359445426. Bnd: [151.0; 154.63402061855672].\n",
      "out [283] Branching on variable 3"
     ]
    },
    {
     "name": "stdout",
     "output_type": "stream",
     "text": [
      "\n",
      "out [283] Gap: 0.023500783359445426. Bnd: [151.0; 154.63402061855672].\n",
      "out [284] Branching on variable 5\n",
      "out [284] Gap: 0.023500783359445426. Bnd: [151.0; 154.63402061855672].\n",
      "out [285] Branching on variable 10\n",
      "out [285] Gap: 0.023500783359445426. Bnd: [151.0; 154.63402061855672].\n",
      "out [286] Branching on variable 16\n",
      "out [286] Gap: 0.023500783359445426. Bnd: [151.0; 154.63402061855672].\n",
      "out [287] Branching on variable 20\n",
      "out [287] Gap: 0.023500783359445426. Bnd: [151.0; 154.63402061855672].\n",
      "out [288] Branching on variable 3\n",
      "out [288] Gap: 0.023500783359445426. Bnd: [151.0; 154.63402061855672].\n",
      "out [289] Branching on variable 18\n",
      "out [289] Gap: 0.023500783359445426. Bnd: [151.0; 154.63402061855672].\n",
      "out [290] Branching on variable 21"
     ]
    },
    {
     "name": "stdout",
     "output_type": "stream",
     "text": [
      "\n",
      "out [290] Gap: 0.023500783359445426. Bnd: [151.0; 154.63402061855672].\n",
      "out [291] Branching on variable 15\n",
      "\n",
      "out [291] Found a new incumbent. Value: 152.0\n",
      "out [291] Gap: 0.017033901130037776. Bnd: [152.0; 154.63402061855672].\n",
      "out [292] Branching on variable 30\n",
      "out [292] Gap: 0.014527554328250826. Bnd: [152.0; 154.24074074074076].\n",
      "out [293] Branching on variable 22\n",
      "out [293] Gap: 0.013881177123820192. Bnd: [152.0; 154.13963963963965].\n",
      "out [294] Branching on variable 3\n",
      "out [294] Gap: 0.013881177123820192. Bnd: [152.0; 154.13963963963965].\n",
      "out [295] Branching on variable 27\n"
     ]
    },
    {
     "name": "stdout",
     "output_type": "stream",
     "text": [
      "out [295] Gap: 0.013881177123820192. Bnd: [152.0; 154.13963963963965].\n",
      "out [296] Branching on variable 25\n",
      "out [296] Gap: 0.013881177123820192. Bnd: [152.0; 154.13963963963965].\n",
      "out [297] Branching on variable 12\n",
      "out [297] Gap: 0.013881177123820192. Bnd: [152.0; 154.13963963963965].\n",
      "out [298] Branching on variable 20\n",
      "out [298] Gap: 0.013881177123820192. Bnd: [152.0; 154.13963963963965].\n",
      "out [299] Branching on variable 16\n",
      "out [299] Gap: 0.013881177123820192. Bnd: [152.0; 154.13963963963965].\n",
      "out [300] Branching on variable 6\n",
      "out [300] Gap: 0.013881177123820192. Bnd: [152.0; 154.13963963963965].\n",
      "out [301] Branching on variable 24"
     ]
    },
    {
     "name": "stdout",
     "output_type": "stream",
     "text": [
      "\n",
      "out [301] Gap: 0.013881177123820192. Bnd: [152.0; 154.13963963963965].\n",
      "out [302] Branching on variable 6\n",
      "out [302] Gap: 0.013881177123820192. Bnd: [152.0; 154.13963963963965].\n",
      "out [303] Branching on variable 5"
     ]
    },
    {
     "name": "stdout",
     "output_type": "stream",
     "text": [
      "\n",
      "out [303] Gap: 0.013881177123820192. Bnd: [152.0; 154.13963963963965].\n",
      "out [304] Branching on variable 18\n",
      "out [304] Gap: 0.013881177123820192. Bnd: [152.0; 154.13963963963965].\n",
      "out [305] Branching on variable 6\n",
      "out [305] Gap: 0.013881177123820192. Bnd: [152.0; 154.13963963963965].\n",
      "out [306] Branching on variable 20\n",
      "out [306] Gap: 0.013881177123820192. Bnd: [152.0; 154.13963963963965].\n",
      "out [307] Branching on variable 12"
     ]
    },
    {
     "name": "stdout",
     "output_type": "stream",
     "text": [
      "\n",
      "out [307] Gap: 0.013881177123820192. Bnd: [152.0; 154.13963963963965].\n",
      "out [308] Branching on variable 29\n",
      "out [308] Gap: 0.013881177123820192. Bnd: [152.0; 154.13963963963965].\n",
      "out [309] Branching on variable 13"
     ]
    },
    {
     "name": "stdout",
     "output_type": "stream",
     "text": [
      "\n",
      "out [309] Gap: 0.013881177123820192. Bnd: [152.0; 154.13963963963965].\n",
      "out [310] Branching on variable 12\n",
      "out [310] Gap: 0.013881177123820192. Bnd: [152.0; 154.13963963963965].\n",
      "out [311] Branching on variable 16\n",
      "out [311] Gap: 0.013881177123820192. Bnd: [152.0; 154.13963963963965].\n",
      "out [312] Branching on variable 17\n"
     ]
    },
    {
     "name": "stdout",
     "output_type": "stream",
     "text": [
      "out [312] Gap: 0.013881177123820192. Bnd: [152.0; 154.13963963963965].\n",
      "out [313] Branching on variable 24\n",
      "out [313] Gap: 0.013881177123820192. Bnd: [152.0; 154.13963963963965].\n",
      "out [314] Branching on variable 10\n",
      "out [314] Gap: 0.013881177123820192. Bnd: [152.0; 154.13963963963965].\n",
      "out [315] Branching on variable 20\n",
      "out [315] Gap: 0.013881177123820192. Bnd: [152.0; 154.13963963963965].\n",
      "out [316] Branching on variable 10\n",
      "out [316] Gap: 0.013881177123820192. Bnd: [152.0; 154.13963963963965].\n",
      "out [317] Branching on variable 12\n",
      "out [317] Gap: 0.013881177123820192. Bnd: [152.0; 154.13963963963965].\n",
      "out [318] Branching on variable 6\n"
     ]
    },
    {
     "name": "stdout",
     "output_type": "stream",
     "text": [
      "out [318] Gap: 0.013881177123820192. Bnd: [152.0; 154.13963963963965].\n",
      "out [319] Branching on variable 16\n",
      "out [319] Gap: 0.013881177123820192. Bnd: [152.0; 154.13963963963965].\n",
      "out [320] Branching on variable 26\n",
      "out [320] Gap: 0.013881177123820192. Bnd: [152.0; 154.13963963963965].\n",
      "out [321] Branching on variable 24\n",
      "out [321] Gap: 0.013881177123820192. Bnd: [152.0; 154.13963963963965].\n",
      "out [322] Branching on variable 17\n",
      "out [322] Gap: 0.013881177123820192. Bnd: [152.0; 154.13963963963965].\n",
      "out [323] Branching on variable 29\n",
      "out [323] Gap: 0.013881177123820192. Bnd: [152.0; 154.13963963963965].\n",
      "out [324] Branching on variable 25\n"
     ]
    },
    {
     "name": "stdout",
     "output_type": "stream",
     "text": [
      "out [324] Gap: 0.013881177123820192. Bnd: [152.0; 154.13963963963965].\n",
      "out [325] Branching on variable 5\n",
      "out [325] Gap: 0.013881177123820192. Bnd: [152.0; 154.13963963963965].\n",
      "out [326] Branching on variable 29\n",
      "out [326] Gap: 0.013881177123820192. Bnd: [152.0; 154.13963963963965].\n",
      "out [327] Branching on variable 18\n",
      "out [327] Gap: 0.013881177123820192. Bnd: [152.0; 154.13963963963965].\n",
      "out [328] Branching on variable 5\n",
      "out [328] Gap: 0.013881177123820192. Bnd: [152.0; 154.13963963963965].\n",
      "out [329] Branching on variable 14"
     ]
    },
    {
     "name": "stdout",
     "output_type": "stream",
     "text": [
      "\n",
      "out [329] Gap: 0.013881177123820192. Bnd: [152.0; 154.13963963963965].\n",
      "out [330] Branching on variable 15\n",
      "out [330] Gap: 0.013881177123820192. Bnd: [152.0; 154.13963963963965].\n",
      "out [331] Branching on variable 29\n"
     ]
    },
    {
     "name": "stdout",
     "output_type": "stream",
     "text": [
      "out [331] Gap: 0.013881177123820192. Bnd: [152.0; 154.13963963963965].\n",
      "out [332] Branching on variable 18\n",
      "out [332] Gap: 0.013589416235947066. Bnd: [152.0; 154.09404815992733].\n",
      "out [333] Branching on variable 6\n",
      "out [333] Gap: 0.013589416235947066. Bnd: [152.0; 154.09404815992733].\n",
      "out [334] Branching on variable 5\n",
      "out [334] Gap: 0.013589416235947066. Bnd: [152.0; 154.09404815992733].\n",
      "out [335] Branching on variable 12\n",
      "out [335] Gap: 0.013589416235947066. Bnd: [152.0; 154.09404815992733]."
     ]
    },
    {
     "name": "stdout",
     "output_type": "stream",
     "text": [
      "\n",
      "out [336] Branching on variable 25\n",
      "out [336] Gap: 0.013589416235947066. Bnd: [152.0; 154.09404815992733].\n",
      "out [337] Branching on variable 13\n",
      "out [337] Gap: 0.013589416235947066. Bnd: [152.0; 154.09404815992733].\n",
      "out [338] Branching on variable 25\n",
      "out [338] Gap: 0.013589416235947066. Bnd: [152.0; 154.09404815992733].\n",
      "out [339] Branching on variable 6\n",
      "out [339] Gap: 0.013589416235947066. Bnd: [152.0; 154.09404815992733].\n",
      "out [340] Branching on variable 27\n"
     ]
    },
    {
     "name": "stdout",
     "output_type": "stream",
     "text": [
      "out [340] Gap: 0.013589416235947066. Bnd: [152.0; 154.09404815992733].\n",
      "out [341] Branching on variable 24\n",
      "out [341] Gap: 0.013589416235947066. Bnd: [152.0; 154.09404815992733].\n",
      "out [342] Branching on variable 5\n",
      "out [342] Gap: 0.013589416235947066. Bnd: [152.0; 154.09404815992733].\n",
      "out [343] Branching on variable 3\n",
      "out [343] Gap: 0.013589416235947066. Bnd: [152.0; 154.09404815992733].\n",
      "out [344] Branching on variable 5\n",
      "out [344] Gap: 0.013589416235947066. Bnd: [152.0; 154.09404815992733].\n",
      "out [345] Branching on variable 29"
     ]
    },
    {
     "name": "stdout",
     "output_type": "stream",
     "text": [
      "\n",
      "out [345] Gap: 0.013589416235947066. Bnd: [152.0; 154.09404815992733].\n",
      "out [346] Branching on variable 13\n",
      "out [346] Gap: 0.013589416235947066. Bnd: [152.0; 154.09404815992733].\n",
      "out [347] Branching on variable 7\n",
      "out [347] Gap: 0.013589416235947066. Bnd: [152.0; 154.09404815992733].\n",
      "out [348] Branching on variable 14\n",
      "out [348] Gap: 0.013589416235947066. Bnd: [152.0; 154.09404815992733].\n",
      "out [349] Branching on variable 29\n",
      "out [349] Gap: 0.00950250420696794. Bnd: [152.0; 153.45823754789274].\n",
      "out [350] Branching on variable 12\n",
      "out [350] Gap: 0.00950250420696794. Bnd: [152.0; 153.45823754789274].\n",
      "out [351] Branching on variable 20"
     ]
    },
    {
     "name": "stdout",
     "output_type": "stream",
     "text": [
      "\n",
      "out [351] Gap: 0.00950250420696794. Bnd: [152.0; 153.45823754789274].\n",
      "out [352] Branching on variable 25\n",
      "out [352] Gap: 0.00950250420696794. Bnd: [152.0; 153.45823754789274].\n",
      "out [353] Branching on variable 16\n",
      "out [353] Gap: 0.00950250420696794. Bnd: [152.0; 153.45823754789274].\n",
      "out [354] Branching on variable 25\n",
      "out [354] Gap: 0.008022269726796379. Bnd: [152.0; 153.22924634420696].\n",
      "out [355] Branching on variable 12\n",
      "out [355] Gap: 0.004190872931227064. Bnd: [152.0; 152.63969355997128].\n",
      "out [356] Branching on variable 6\n",
      "out [356] Gap: 0.0036499068901303874. Bnd: [152.0; 152.5568181818182].\n",
      "out [357] Branching on variable 18"
     ]
    },
    {
     "name": "stdout",
     "output_type": "stream",
     "text": [
      "\n",
      "out [357] Gap: 0.0036499068901303874. Bnd: [152.0; 152.5568181818182].\n",
      "out [358] Branching on variable 7\n",
      "out [358] Gap: 0.00262467191601035. Bnd: [152.0; 152.39999999999998].\n",
      "out [359] Branching on variable 11\n",
      "out [359] Gap: 0.00011960291831109803. Bnd: [152.0; 152.0181818181818].\n",
      "\n",
      "out Complete branch-and-bound status, including tree.\n",
      "out Upper bound: 152.0181818181818\n",
      "out Lower bound: 152.0\n",
      "out Incumbent: [1, 1, 0, 0, 0, 0, 1, 1, 1, 0, 1, 0, 1, 1, 1, 0, 0, 1, 1, 0, 1, 0, 1, 0, 1, 0, 1, 1, 1, 1]\n",
      "out Tree: \n"
     ]
    },
    {
     "name": "stdout",
     "output_type": "stream",
     "text": [
      "out     Root node:               154.73502994011977          \n",
      "out       Var x[2]   :   0   ;   152.71703296703296          \n",
      "out         Var x[24]   :   0   ;   152.69983136593592          \n",
      "out           Var x[5]   :   0   ;   152.57344632768363          \n",
      "out             Var x[27]   :   0   ;   152.52329749103944          \n",
      "out               Var x[12]   :   0   ;   152.5076388888889          \n",
      "out                 Var x[20]   :   0   ;   152.26732673267327          "
     ]
    },
    {
     "name": "stdout",
     "output_type": "stream",
     "text": [
      "\n",
      "out                   Var x[6]   :   0   ;   152.22461170848268          \n",
      "out                     Var x[16]   :   0   ;   151.43478260869566       (P: Bnd)\n",
      "out                       Var x[26]   :   0   ;   151.28571428571428       (P: Bnd)\n",
      "out                         Var x[3]   :   0   ;   151.26771653543307       (P: Bnd)\n",
      "out                           Var x[10]   :   0   ;   150.5       (P: Bnd)\n",
      "out                             Var x[17]   :   0   ;   150.0  (I)  (P: Opt)\n",
      "out                             Var x[17]   :   1   ;   147.8732394366197       (P: Bnd)\n",
      "out                           Var x[10]   :   1   ;   150.54812435850744       (P: Bnd)\n",
      "out                             Var x[25]   :   0   ;   147.56626506024097       (P: Bnd)\n",
      "out                             Var x[25]   :   1   ;   150.27032306536438       (P: Bnd)\n",
      "out                               Var x[22]   :   0   ;   150.23072325164375       (P: Bnd)\n",
      "out                                 Var x[7]   :   0   ;   145.69759097898515       (P: Bnd)\n",
      "out                                 Var x[7]   :   1   ;   150.06299212598424       (P: Bnd)\n",
      "out                                   Var x[23]   :   0   ;   143.55555555555554"
     ]
    },
    {
     "name": "stdout",
     "output_type": "stream",
     "text": [
      "       (P: Bnd)\n",
      "out                                   Var x[23]   :   1   ;   150.0487804878049       (P: Bnd)\n",
      "out                                     Var x[11]   :   0   ;   144.78947368421052       (P: Bnd)\n",
      "out                                     Var x[11]   :   1   ;   149.95744680851064       (P: Bnd)\n",
      "out                               Var x[22]   :   1   ;   150.04020345596433       (P: Bnd)\n",
      "out                                 Var x[8]   :   0   ;   147.3684210526316       (P: Bnd)\n",
      "out                                 Var x[8]   :   1   ;   149.336717428088       (P: Bnd)\n",
      "out                         Var x[3]   :   1   ;   150.54673376816874       (P: Bnd)\n",
      "out                           Var x[21]   :   0   ;   147.51604938271606       (P: Bnd)\n",
      "out                           Var x[21]   :   1   ;   150.36966824644549       (P: Bnd)\n",
      "out                             Var x[25]   :   0   ;   147.7951807228916       (P: Bnd)\n",
      "out                             Var x[25]   :   1   ;   150.27272727272728       (P: Bnd)\n",
      "out                               Var x[23]   :   0   ;   145.65104166666669       (P: Bnd)\n",
      "out                               Var x[23]   :   1   ;   150.22826086956525       (P: Bnd)\n",
      "out                                 Var x[22]   :   0   ;   150.16901408450704       (P: Bnd)\n",
      "out                                   Var x[9]   :   0   ;   146.89393939393938       (P: Bnd)\n",
      "out                                   Var x[9]   :   1   ;   150.08955223880596       (P: Bnd)"
     ]
    },
    {
     "name": "stdout",
     "output_type": "stream",
     "text": [
      "\n",
      "out                                     Var x[11]   :   0   ;   145.47619047619048       (P: Bnd)\n",
      "out                                     Var x[11]   :   1   ;   150.08955223880596       (P: Bnd)\n",
      "out                                       Var x[7]   :   0   ;   145.88584667228307       (P: Bnd)\n",
      "out                                       Var x[7]   :   1   ;   149.8421052631579       (P: Bnd)\n",
      "out                                 Var x[22]   :   1   ;   149.9387755102041       (P: Bnd)\n",
      "out                       Var x[26]   :   1   ;   148.66666666666669       (P: Bnd)\n",
      "out                     Var x[16]   :   1   ;   149.8006134969325       (P: Bnd)\n",
      "out                   Var x[6]   :   1   ;   151.58933378196502       (P: Bnd)\n",
      "out                     Var x[25]   :   0   ;   150.09375       (P: Bnd)\n",
      "out                       Var x[17]   :   0   ;   149.45652173913044       (P: Bnd)\n",
      "out                       Var x[17]   :   1   ;   148.09332469215812       (P: Bnd)\n",
      "out                     Var x[25]   :   1   ;   151.13398639500173       (P: Bnd)\n",
      "out                       Var x[3]   :   0   ;   150.60069846678024       (P: Bnd)\n",
      "out                         Var x[4]   :   0   ;   147.7066103229701       (P: Bnd)\n",
      "out                         Var x[4]   :   1   ;   150.32492141894926       (P: Bnd)\n",
      "out                           Var x[22]   :   0   ;   149.56410256410257       (P: Bnd)\n",
      "out                           Var x[22]   :   1   ;   150.1318214032601       (P: Bnd)\n",
      "out                             Var x[30]   :   0   ;   149.58823529411765       (P: Bnd)\n",
      "out                             Var x[30]   :   1   ;   148.67496303597832       (P: Bnd)\n",
      "out                       Var x[3]   :   1   ;   150.9816468753145       (P: Bnd)\n",
      "out                         Var x[30]   :   0   ;   150.52727272727273       (P: Bnd)\n",
      "out                           Var x[16]   :   0   ;   150.08339222614842     "
     ]
    },
    {
     "name": "stdout",
     "output_type": "stream",
     "text": [
      "  (P: Bnd)\n",
      "out                             Var x[8]   :   0   ;   149.78896321070235       (P: Bnd)\n",
      "out                             Var x[8]   :   1   ;   149.71376665320952       (P: Bnd)\n",
      "out                           Var x[16]   :   1   ;   147.64814814814815       (P: Bnd)\n",
      "out                         Var x[30]   :   1   ;   150.45670186839968       (P: Bnd)\n",
      "out                           Var x[8]   :   0   ;   148.9234935680433       (P: Bnd)\n",
      "out                           Var x[8]   :   1   ;   149.17440289241108       (P: Bnd)\n",
      "out                 Var x[20]   :   1   ;   152.06349206349205          \n",
      "out                   Var x[8]   :   0   ;   151.27487243113148       (P: Bnd)\n",
      "out                     Var x[6]   :   0   ;   150.59606415381688       (P: Bnd)\n",
      "out                       Var x[22]   :   0   ;   150.27409090909092       (P: Bnd)\n",
      "out                         Var x[30]   :   0   ;   149.45454545454544       (P: Bnd)\n",
      "out                         Var x[30]   :   1   ;   149.91056130568757       (P: Bnd)\n",
      "out                       Var x[22]   :   1   ;   150.34174940898345       (P: Bnd)\n",
      "out                         Var x[17]   :   0   ;   149.68699577557152       (P: Bnd)\n",
      "out                         Var x[17]   :   1   ;   148.25193293833198       (P: Bnd)\n",
      "out                     Var x[6]   :   1   ;   150.2128214685054       (P: Bnd)\n",
      "out                       Var x[30]   :   0   ;   150.01077694235588       (P: Bnd)\n",
      "out                         Var x[25]   :   0   ;   147.68990703851262       (P: Bnd)\n",
      "out                         Var x[25]   :   1   ;   149.81904761904764       (P: Bnd)\n",
      "out                       Var x[30]   :   1   ;   149.04494889372359       (P: Bnd)\n",
      "out                   Var x[8]   :   1   ;   151.93827160493828       (P: Bnd)\n",
      "out                     Var x[22]   :   0   ;   151.85925925925926       (P: Bnd)\n",
      "out                       "
     ]
    },
    {
     "name": "stdout",
     "output_type": "stream",
     "text": [
      "Var x[3]   :   0   ;   151.37668161434976       (P: Bnd)\n",
      "out                         Var x[10]   :   0   ;   151.0  (I)  (P: Opt)\n",
      "out                         Var x[10]   :   1   ;   149.15286624203821       (P: Bnd)\n",
      "out                       Var x[3]   :   1   ;   150.26512651265125       (P: Bnd)\n",
      "out                     Var x[22]   :   1   ;   151.27131782945736       (P: Bnd)\n",
      "out                       Var x[30]   :   0   ;   151.02222222222224       (P: Bnd)\n",
      "out                         Var x[6]   :   0   ;   150.9625       (P: Bnd)\n",
      "out                         Var x[6]   :   1   ;   149.02153316106805       (P: Bnd)\n",
      "out                       Var x[30]   :   1   ;   151.08096468561587       (P: Bnd)\n",
      "out                         Var x[14]   :   0   ;   149.6984126984127       (P: Bnd)\n",
      "out                         Var x[14]   :   1   ;   150.2687453600594       (P: Bnd)\n",
      "out               Var x[12]   :   1   ;   151.68342151675486       (P: Bnd)\n",
      "out                 Var x[3]   :   0   ;   151.46050347222223       (P: Bnd)\n",
      "out                   Var x[22]   :   0   ;   151.08496732026146       (P: Bnd)\n",
      "out                     Var x[25]   :   0   ;   149.9844433641225       (P: Bnd)\n",
      "out                     Var x[25]   :   1   ;   150.86206896551724       (P: Bnd)\n",
      "out                   Var x[22]   :   1   ;   150.99492546780843       (P: Bnd)\n",
      "out                 Var x[3]   :   1   ;   151.35000000000002       (P: Bnd)\n",
      "out "
     ]
    },
    {
     "name": "stdout",
     "output_type": "stream",
     "text": [
      "                  Var x[14]   :   0   ;   149.79290429042902       (P: Bnd)\n",
      "out                   Var x[14]   :   1   ;   151.26984126984127       (P: Bnd)\n",
      "out                     Var x[30]   :   0   ;   150.52941176470588       (P: Bnd)\n",
      "out                     Var x[30]   :   1   ;   151.15217391304347       (P: Bnd)\n",
      "out                       Var x[18]   :   0   ;   148.91530562347188       (P: Bnd)\n",
      "out                       Var x[18]   :   1   ;   151.10108303249098       (P: Bnd)\n",
      "out                         Var x[29]   :   0   ;   148.22430474031495       (P: Bnd)\n",
      "out                         Var x[29]   :   1   ;   151.04868913857678       (P: Bnd)\n",
      "out                           Var x[21]   :   0   ;   147.47719412019023       (P: Bnd)\n",
      "out                           Var x[21]   :   1   ;   151.02439024390245       (P: Bnd)\n",
      "out                             Var x[15]   :   0   ;   147.9014084507042       (P: Bnd)\n",
      "out                             Var x[15]   :   1   ;   150.96694214876032       (P: Bnd)\n",
      "out             Var x[27]   :   1   ;   152.47408345371645          \n",
      "out               Var x[8]   :   0   ;   151.8141962583806       (P: Bnd)\n",
      "out                 Var x[22]   :   0   ;   151.70780532598715       (P: Bnd)\n",
      "out                   Var x[20]   :   0   ;   151.40952581020952       (P: Bnd)\n",
      "out                     Var x[30]   :   0   ;   150.92293906810036       (P: Bnd)\n",
      "out                     Var x[30]   :   1   ;   149.5587571131786       (P: Bnd)\n",
      "out                   Var x[20]   :   1   ;   151.60887949260044       (P: Bnd)\n",
      "out                     Var x[12]   :   0   ;   151.41666666666669       (P: Bnd)\n",
      "out                       Var x[30]   :   0   ;   150.77777777777777       (P: Bnd)\n",
      "out                       Var x[30]   :   1   ;   150.22429589412963       (P: Bnd)\n",
      "out                     Var x[12]   :   1   ;   149.89169847328245       (P: Bnd)\n",
      "out                 Var x[22]   :   1   ;   151.53502262276484       (P: Bnd)\n",
      "out                   Var x[30]   :   0   ;   151.06217086455416       (P: Bnd)\n",
      "out                     Var x[20]   :   0   ;   151.02287581699346       (P: Bnd)\n",
      "out                       Var x[12]   :   0   ;   150.83865702096085       (P: Bnd)\n",
      "out                       Var x[12]   :   1   ;   150.7       (P: Bnd)\n",
      "out                     Var x[20]   :   1   ;   150.78727144866386       (P: Bnd)\n",
      "out                   Var x[30]   :   1   ;   149.6335957229091       (P: Bnd)\n",
      "out               Var x[8]   :   1   ;   152.221284215912          \n",
      "out                 Var x[25]   :   0   ;   149.90524001465738       (P: Bnd)\n",
      "out                 Var x[25]   :   1   ;   151.89240506329116       (P: Bnd)\n",
      "out                   Var x[20]   :   0   ;   151.86278195488723       (P: Bnd)\n",
      "out                     Var x[13]   :   0   ;   148.74136317628862       (P: Bnd)\n",
      "out                     Var x[13]   :   1   ;   151.83056478405317       (P: Bnd)\n",
      "out                       Var x[30]   :   0   ;   151.43483709273184       (P: Bnd)\n",
      "out                         Var x[22]   :   0   ;   151.26018396846254       (P: Bnd)\n",
      "out                           Var x[12]   :   0   ;   150.66022099447514       (P: Bnd)\n",
      "out                           Var x[12]   :   1   ;   149.89999999999998       (P: Bnd)\n",
      "out                         Var x[22]   :   1   ;   150.81956027293404       (P: Bnd)\n",
      "out                       Var x[30]   :   1   ;   151.78620166793024       (P: Bnd)\n",
      "out                         Var x[7]   :   0   ;   147.3088082901554       (P: Bnd)\n",
      "out                         Var x[7]   :   1   ;   151.7451790633609       (P: Bnd)\n",
      "out                           Var x[4]   :   0   ;   147.36799735547476       (P: Bnd)\n",
      "out                           Var x[4]   :   1   ;   151.28172043010753       (P: Bnd)\n",
      "out                             Var x[11]   :   0   ;   146.35849056603774       (P: Bnd)\n",
      "out                             Var x[11]   :   1   ;   151.18208661417322       (P: Bnd)\n",
      "out                               Var x[18]   :   0   ;   149.43979553199546       (P: Bnd)\n",
      "out                               Var x[18]   :   1   ;   151.12951807228916       (P: Bnd)\n",
      "out                                 Var x[9]   :   0   ;   147.71212121212122       (P: Bnd)\n",
      "out                                 Var x[9]   :   1   ;   151.01980198019803       (P: Bnd)\n"
     ]
    },
    {
     "name": "stdout",
     "output_type": "stream",
     "text": [
      "out                                   Var x[28]   :   0   ;   148.34545454545454       (P: Bnd)\n",
      "out                                   Var x[28]   :   1   ;   150.96449704142012       (P: Bnd)\n",
      "out                   Var x[20]   :   1   ;   150.80095541401275       (P: Bnd)\n",
      "out           Var x[5]   :   1   ;   152.3172786177106          \n",
      "out             Var x[17]   :   0   ;   152.126582278481          \n",
      "out               Var x[8]   :   0   ;   151.70136706176393       (P: Bnd)\n",
      "out                 Var x[16]   :   0   ;   151.51315789473685       (P: Bnd)\n",
      "out                   Var x[12]   :   0   ;   151.211477151966       (P: Bnd)\n",
      "out                     Var x[27]   :   0   ;   151.0713102355399       (P: Bnd)\n",
      "out                       Var x[22]   :   0   ;   150.9328014728444       (P: Bnd)\n",
      "out                       Var x[22]   :   1   ;   150.13764510779436       (P: Bnd)\n",
      "out                     Var x[27]   :   1   ;   150.6945482219455       (P: Bnd)\n",
      "out                   Var x[12]   :   1   ;   151.4621548714694       (P: Bnd)\n",
      "out                     Var x[6]   :   0   ;   151.0       (P: Bnd)\n",
      "out                       Var x[27]   :   0   ;   151.0  (I)  (P: Opt)\n",
      "out                       Var x[27]   :   1   ;   150.54428952832987       (P: Bnd)\n",
      "out                     Var x[6]   :   1   ;   151.03435114503816       (P: Bnd)\n",
      "out                       Var x[30]   :   0   ;   151.0  (I)  (P: Opt)\n",
      "out                       Var x[30]   :   1   ;   149.63675213675214       (P: Bnd)\n",
      "out                 Var x[16]   :   1   ;   150.88888888888889       (P: Bnd)\n",
      "out               Var x[8]   :   1   ;   151.89895470383274       (P: Bnd)\n",
      "out                 Var x[21]   :   0   ;   150.3966101694915       (P: Bnd)\n",
      "out "
     ]
    },
    {
     "name": "stdout",
     "output_type": "stream",
     "text": [
      "                Var x[21]   :   1   ;   151.71498771498773       (P: Bnd)\n",
      "out                   Var x[15]   :   0   ;   150.40395480225988       (P: Bnd)\n",
      "out                   Var x[15]   :   1   ;   151.4245580043594       (P: Bnd)\n",
      "out                     Var x[28]   :   0   ;   149.47826086956522       (P: Bnd)\n",
      "out                     Var x[28]   :   1   ;   151.13432835820896       (P: Bnd)\n",
      "out                       Var x[6]   :   0   ;   151.0  (I)  (P: Opt)\n",
      "out                       Var x[6]   :   1   ;   151.13432835820896       (P: Bnd)\n",
      "out                         Var x[30]   :   0   ;   151.0  (I)  (P: Opt)\n",
      "out                         Var x[30]   :   1   ;   150.6024096385542       (P: Bnd)\n",
      "out             Var x[17]   :   1   ;   150.4679989550679       (P: Bnd)\n",
      "out         Var x[24]   :   1   ;   151.71702202027262       (P: Bnd)\n",
      "out           Var x[8]   :   0   ;   151.33017218774583       (P: Bnd)\n",
      "out             Var x[12]   :   0   ;   151.0259691381257       (P: Bnd)\n",
      "out               Var x[27]   :   0   ;   151.01044098573283       (P: Bnd)\n",
      "out                 Var x[6]   :   0   ;   150.9489939746906       (P: Bnd)\n",
      "out                 Var x[6]   :   1   ;   150.3924858616101       (P: Bnd)\n",
      "out               Var x[27]   :   1   ;   150.54513888888889       (P: Bnd)\n",
      "out             Var x[12]   :   1   ;   150.69418758256276       (P: Bnd)\n",
      "out           Var x[8]   :   1   ;   151.64401019541205       (P: Bnd)\n",
      "out             Var x[30]   :   0   ;   151.17283950617283       (P: Bnd)\n",
      "out               Var x[22]   :   0   ;   151.07407407407408       (P: Bnd)\n",
      "out                 Var x[3]   :   0   ;   151.03773584905662       (P: Bnd)\n",
      "out                   Var x[27]   :   0   ;   150.62091503267973       (P: Bnd)\n",
      "out                   Var x[27]   :   1   ;   150.1813898704358       (P: Bnd)\n",
      "out                 Var x[3]   :   1   ;   149.8962162162162       (P: Bnd)\n",
      "out               Var x[22]   :   1   ;   150.8197295943916       (P: Bnd)\n",
      "out             Var x[30]   :   1   ;   151.31134363522972       (P: Bnd)\n",
      "out               Var x[4]   :   0   ;   148.98305084745763"
     ]
    },
    {
     "name": "stdout",
     "output_type": "stream",
     "text": [
      "       (P: Bnd)\n",
      "out               Var x[4]   :   1   ;   150.9679171679609       (P: Bnd)\n",
      "out       Var x[2]   :   1   ;   154.69240895129442          \n",
      "out         Var x[8]   :   0   ;   154.25241995532392          \n",
      "out           Var x[12]   :   0   ;   153.96396396396398          \n",
      "out             Var x[20]   :   0   ;   153.83273381294964          \n",
      "out               Var x[6]   :   0   ;   152.8246518824136          \n",
      "out                 Var x[26]   :   0   ;   152.28947368421052          \n",
      "out                   Var x[11]   :   0   ;   149.47101449275362       (P: Bnd)\n",
      "out                   Var x[11]   :   1   ;   152.28947368421052          \n",
      "out                     Var x[4]   :   0   ;   149.7721796276013       (P: Bnd)\n",
      "out                     Var x[4]   :   1   ;   152.15238095238095          "
     ]
    },
    {
     "name": "stdout",
     "output_type": "stream",
     "text": [
      "\n",
      "out                       Var x[23]   :   0   ;   148.8296296296296       (P: Bnd)\n",
      "out                       Var x[23]   :   1   ;   152.0          \n",
      "out                         Var x[27]   :   0   ;   151.92039800995025       (P: Bnd)\n",
      "out                           Var x[16]   :   0   ;   151.78947368421052       (P: Bnd)\n",
      "out                             Var x[3]   :   0   ;   151.5       (P: Bnd)\n",
      "out                               Var x[10]   :   0   ;   150.8421052631579       (P: Bnd)\n",
      "out                               Var x[10]   :   1   ;   150.81176470588235       (P: Bnd)\n",
      "out                             Var x[3]   :   1   ;   151.37333333333333       (P: Bnd)\n",
      "out                               Var x[9]   :   0   ;   149.8203766296475       (P: Bnd)\n",
      "out                               Var x[9]   :   1   ;   150.44444444444446       (P: Bnd)\n",
      "out                           Var x[16]   :   1   ;   150.2418300653595       (P: Bnd)\n",
      "out                         Var x[27]   :   1   ;   151.95       (P: Bnd)\n",
      "out                           Var x[9]   :   0   ;   150.05267489711932       (P: Bnd)\n",
      "out                           Var x[9]   :   1   ;   151.0       (P: Bnd)\n",
      "out                             Var x[1]   :   0   ;   148.95306213679035       (P: Bnd)\n",
      "out                             Var x[1]   :   1   ;   151.0  (I)  (P: Opt)\n",
      "out                 Var x[26]   :   1   ;   150.79164689131466       (P: Bnd)\n",
      "out               Var x[6]   :   1   ;   153.51271355315248          \n",
      "out                 Var x[30]   :   0   ;   153.37777777777777          \n",
      "out                   Var x[25]   :   0   ;   151.30702389572772       (P: Bnd)\n",
      "out                     Var x[27]   :   0   ;   151.27586206896552       (P: Bnd)\n",
      "out                       Var x[16]   :   0   ;   150.90650406504065       (P: Bnd)\n",
      "out                       Var x[16]   :   1   ;   149.91234567901233       (P: Bnd)\n",
      "out                     Var x[27]   :   1   ;   150.50309396287244       (P: Bnd)\n",
      "out                   Var x[25]   :   1   ;   153.19986357435198          \n",
      "out                     Var x[3]   :   0   ;   153.09728798966853          \n",
      "out                       Var x[27]   :   0   ;   152.5503355704698          \n",
      "out                         Var x[4]   :   0   ;   150.2889095992544       (P: Bnd)\n",
      "out                         Var x[4]   :   1   ;   152.0962343096234          \n",
      "out                           Var x[18]   :   0   ;   149.95691609977325       (P: Bnd)\n",
      "out                           Var x[18]   :   1   ;   151.64705882352942       (P: Bnd)\n",
      "out                             Var x[29]   :   0   ;   149.93556701030928       (P: Bnd)\n",
      "out                             Var x[29]   :   1   ;   151.53846153846155       (P: Bnd)\n",
      "out                               Var x[7]   :   0   ;   149.32308170239205       (P: Bnd)\n",
      "out                               Var x[7]   :   1   ;   151.33333333333331       (P: Bnd)\n",
      "out                                 Var x[13]   :   0   ;   148.08602150537635       (P: Bnd)"
     ]
    },
    {
     "name": "stdout",
     "output_type": "stream",
     "text": [
      "\n",
      "out                                 Var x[13]   :   1   ;   150.66666666666669       (P: Bnd)\n",
      "out                       Var x[27]   :   1   ;   152.45755112764752          \n",
      "out                         Var x[4]   :   0   ;   150.87914230019493       (P: Bnd)\n",
      "out                         Var x[4]   :   1   ;   152.00321227044765          \n",
      "out                           Var x[29]   :   0   ;   150.84154113557358       (P: Bnd)\n",
      "out                           Var x[29]   :   1   ;   150.8840579710145       (P: Bnd)\n",
      "out                     Var x[3]   :   1   ;   152.76872427983537          \n",
      "out                       Var x[29]   :   0   ;   150.44119351100812       (P: Bnd)\n",
      "out                       Var x[29]   :   1   ;   152.6973737373737          \n",
      "out                         Var x[4]   :   0   ;   150.3334871913224       (P: Bnd)\n",
      "out                         Var x[4]   :   1   ;   151.22727272727275       (P: Bnd)\n",
      "out                           Var x[18]   :   0   ;   148.18666666666667       (P: Bnd)\n",
      "out                           Var x[18]   :   1   ;   151.05260869565217       (P: Bnd)\n",
      "out                             Var x[7]   :   0   ;   148.6376811594203       (P: Bnd)\n",
      "out                             Var x[7]   :   1   ;   150.68148148148148       (P: Bnd)\n",
      "out                 Var x[30]   :   1   ;   152.31156381066506          \n",
      "out                   Var x[4]   :   0   ;   151.0753484997668       (P: Bnd)\n",
      "out                     Var x[16]   :   0   ;   150.1210131791681       (P: Bnd)\n",
      "out                     Var x[16]   :   1   ;   149.50588928150765       (P: Bnd)\n",
      "out                   Var x[4]   :   1   ;   151.2832574607992       (P: Bnd)\n",
      "out                     Var x[29]   :   0   ;   149.97318506317254       (P: Bnd)\n",
      "out                     Var x[29]   :   1   ;   151.1833861316438       (P: Bnd)\n",
      "out                       Var x[25]   :   0   ;   149.3875       (P: Bnd)\n",
      "out                       Var x[25]   :   1   ;   150.34545454545454       (P: Bnd)\n",
      "out             Var x[20]   :   1   ;   153.9114169567181          \n",
      "out               Var x[30]   :   0   ;   153.84444444444443          \n",
      "out                 Var x[25]   :   0   ;   151.99552211245498       (P: Bnd)\n",
      "out                   Var x[27]   :   0   ;   151.93513957307061       (P: Bnd)\n",
      "out                     Var x[22]   :   0   ;   151.78428584125854       (P: Bnd)\n",
      "out                       Var x[3]   :   0   ;   151.26816786079837       (P: Bnd)\n",
      "out                         Var x[10]   :   0   ;   150.57894736842104       (P: Bnd)"
     ]
    },
    {
     "name": "stdout",
     "output_type": "stream",
     "text": [
      "\n",
      "out                         Var x[10]   :   1   ;   150.03322259136212       (P: Bnd)\n",
      "out                       Var x[3]   :   1   ;   150.68727272727273       (P: Bnd)\n",
      "out                     Var x[22]   :   1   ;   151.69707193637788       (P: Bnd)\n",
      "out                       Var x[17]   :   0   ;   151.37956827513312       (P: Bnd)\n",
      "out                         Var x[6]   :   0   ;   150.0909090909091       (P: Bnd)\n",
      "out                         Var x[6]   :   1   ;   151.19341206018015       (P: Bnd)\n",
      "out                           Var x[14]   :   0   ;   148.33997129529962       (P: Bnd)\n",
      "out                           Var x[14]   :   1   ;   150.9973842712098       (P: Bnd)\n",
      "out                       Var x[17]   :   1   ;   149.0299003322259       (P: Bnd)\n",
      "out                   Var x[27]   :   1   ;   151.30038579220434       (P: Bnd)\n",
      "out                     Var x[5]   :   0   ;   150.6596952010376       (P: Bnd)\n",
      "out                     Var x[5]   :   1   ;   151.1540297557483       (P: Bnd)\n",
      "out                       Var x[15]   :   0   ;   149.2049567269866       (P: Bnd)\n",
      "out                       Var x[15]   :   1   ;   150.57389428263215       (P: Bnd)\n",
      "out                 Var x[25]   :   1   ;   153.806275579809          \n",
      "out                   Var x[18]   :   0   ;   151.00291815890702       (P: Bnd)\n",
      "out                     Var x[27]   :   0   ;   150.92257120174656       (P: Bnd)\n",
      "out                     Var x[27]   :   1   ;   150.08380952380952       (P: Bnd)\n",
      "out                   Var x[18]   :   1   ;   153.76470588235293          \n",
      "out                     Var x[4]   :   0   ;   150.5089605734767       (P: Bnd)\n",
      "out                     Var x[4]   :   1   ;   153.6909090909091          \n",
      "out                       Var x[29]   :   0   ;   151.51304180819483     "
     ]
    },
    {
     "name": "stdout",
     "output_type": "stream",
     "text": [
      "  (P: Bnd)\n",
      "out                         Var x[22]   :   0   ;   151.30864197530866       (P: Bnd)\n",
      "out                           Var x[6]   :   0   ;   150.78666666666666       (P: Bnd)\n",
      "out                           Var x[6]   :   1   ;   149.92234169653526       (P: Bnd)\n",
      "out                         Var x[22]   :   1   ;   150.93870809281412       (P: Bnd)\n",
      "out                       Var x[29]   :   1   ;   153.50875617422543          \n",
      "out                         Var x[3]   :   0   ;   153.43147208121826          \n",
      "out                           Var x[7]   :   0   ;   149.4947064485082       (P: Bnd)\n",
      "out                           Var x[7]   :   1   ;   153.33333333333331          \n",
      "out                             Var x[13]   :   0   ;   149.3151515151515       (P: Bnd)\n",
      "out                             Var x[13]   :   1   ;   153.16666666666669          \n",
      "out                               Var x[22]   :   0   ;   152.33333333333334          \n",
      "out                                 Var x[27]   :   0   ;   151.69230769230768       (P: Bnd)\n",
      "out                                   Var x[10]   :   0   ;   151.14285714285714       (P: Bnd)\n",
      "out                                     Var x[6]   :   0   ;   150.8421052631579       (P: Bnd)\n",
      "out                                     Var x[6]   :   1   ;   146.0  (I)  (P: Opt)\n",
      "out                                   Var x[10]   :   1   ;   147.69811320754718       (P: Bnd)\n",
      "out                                 Var x[27]   :   1   ;   149.56603773584905       (P: Bnd)\n",
      "out                               Var x[22]   :   1   ;   153.0          \n",
      "out                                 Var x[14]   :   0   ;   149.44444444444443       (P: Bnd)\n",
      "out                                 Var x[14]   :   1   ;   152.75          \n",
      "out                                   Var x[1]   :   0   ;   148.36470588235295       (P: Bnd)\n",
      "out                                   Var x[1]   :   1   ;   152.4          \n",
      "out                                     Var x[11]   :   0   ;   147.78823529411767       (P: Bnd)\n",
      "out                                     Var x[11]   :   1   ;   152.33333333333334          \n",
      "out                                       Var x[28]   :   0   ;   147.33333333333334       (P: Bnd)\n",
      "out                                       Var x[28]   :   1   ;   152.2          \n",
      "out                                         Var x[9]   :   0   ;   147.66666666666669       (P: Bnd)\n",
      "out                                         Var x[9]   :   1   ;   151.0       (P: Bnd)\n",
      "out                                           Var x[5]   :   0   ;   148.66666666666666       (P: Bnd)\n",
      "out                                           Var x[5]   :   1   ;   150.0       (P: Bnd)\n",
      "out                         Var x[3]   :   1   ;   151.2983666061706       (P: Bnd)\n",
      "out                           Var x[9]   :   0   ;   148.39473684210526       (P: Bnd)\n"
     ]
    },
    {
     "name": "stdout",
     "output_type": "stream",
     "text": [
      "out                           Var x[9]   :   1   ;   151.13325991189427       (P: Bnd)\n",
      "out                             Var x[14]   :   0   ;   148.78991596638656       (P: Bnd)\n",
      "out                             Var x[14]   :   1   ;   151.0983240223464       (P: Bnd)\n",
      "out                               Var x[5]   :   0   ;   149.10909090909092       (P: Bnd)\n",
      "out                               Var x[5]   :   1   ;   151.06133979015334       (P: Bnd)\n",
      "out                                 Var x[28]   :   0   ;   148.80093896713615       (P: Bnd)\n",
      "out                                 Var x[28]   :   1   ;   151.0319699106723       (P: Bnd)\n",
      "out                                   Var x[15]   :   0   ;   148.31858407079648       (P: Bnd)\n",
      "out                                   Var x[15]   :   1   ;   150.4696629213483       (P: Bnd)\n",
      "out               Var x[30]   :   1   ;   152.45472989640112          \n",
      "out                 Var x[4]   :   0   ;   151.1547675785337       (P: Bnd)\n",
      "out                   Var x[5]   :   0   ;   150.43063458655723       (P: Bnd)\n",
      "out                   Var x[5]   :   1   ;   150.45630339851908       (P: Bnd)\n",
      "out                 Var x[4]   :   1   ;   151.46206373292867       (P: Bnd)\n",
      "out                   Var x[11]   :   0   ;   148.90123456790124       (P: Bnd)\n",
      "out                   Var x[11]   :   1   ;   151.09113894769982       (P: Bnd)\n",
      "out                     Var x[9]   :   0   ;   149.73333333333335       (P: Bnd)\n",
      "out                     Var x[9]   :   1   ;   150.90047310320656       (P: Bnd)\n",
      "out           Var x[12]   :   1   ;   153.73093401885177          \n",
      "out             Var x[25]   :   0   ;   153.05816259087905          \n",
      "out               Var x[6]   :   0   ;   152.6974629009095          \n",
      "out                 Var x[20]   :   0   ;   152.22028985507245          \n",
      "out                   Var x[5]   :   0   ;   151.58844765342963       (P: Bnd)\n",
      "out                     Var x[3]   :   0   ;   151.54362416107384       (P: Bnd)\n",
      "out                       Var x[30]   :   0   ;   151.2013422818792       (P: Bnd)\n",
      "out                         Var x[4]   :   0   ;   148.16666666666669     "
     ]
    },
    {
     "name": "stdout",
     "output_type": "stream",
     "text": [
      "  (P: Bnd)\n",
      "out                         Var x[4]   :   1   ;   151.0041841004184       (P: Bnd)\n",
      "out                           Var x[18]   :   0   ;   146.6726457399103       (P: Bnd)\n",
      "out                           Var x[18]   :   1   ;   150.8235294117647       (P: Bnd)\n",
      "out                       Var x[30]   :   1   ;   150.28080647300703       (P: Bnd)\n",
      "out                     Var x[3]   :   1   ;   151.25925925925927       (P: Bnd)\n",
      "out                       Var x[22]   :   0   ;   150.81433728726148       (P: Bnd)\n",
      "out                       Var x[22]   :   1   ;   151.07286432160802       (P: Bnd)\n",
      "out                         Var x[15]   :   0   ;   148.04026845637583       (P: Bnd)\n",
      "out                         Var x[15]   :   1   ;   150.96026490066225       (P: Bnd)\n",
      "out                   Var x[5]   :   1   ;   152.21111768184508          \n",
      "out                     Var x[27]   :   0   ;   152.20409604519773          \n",
      "out                       Var x[24]   :   0   ;   152.18524970963998          \n",
      "out                         Var x[22]   :   0   ;   152.06660706303083          \n",
      "out                           Var x[16]   :   0   ;   151.81494352736752       (P: Bnd)\n",
      "out                             Var x[17]   :   0   ;   151.81052631578947       (P: Bnd)\n",
      "out                               Var x[3]   :   0   ;   151.766323024055       (P: Bnd)\n",
      "out                                 Var x[26]   :   0   ;   151.69753086419752       (P: Bnd)\n",
      "out                                   Var x[10]   :   0   ;   151.0  (I)  (P: Opt)\n",
      "out                                   Var x[10]   :   1   ;   149.94639376218325       (P: Bnd)\n",
      "out                                 Var x[26]   :   1   ;   148.0       (P: Bnd)\n",
      "out                               Var x[3]   :   1   ;   150.1951219512195       (P: Bnd)\n",
      "out                             Var x[17]   :   1   ;   149.7089552238806       (P: Bnd)\n",
      "out                           Var x[16]   :   1   ;   149.82498235709244       (P: Bnd)\n",
      "out                         Var x[22]   :   1   ;   151.60524814603536       (P: Bnd)\n",
      "out                           Var x[17]   :   0   ;   151.4878048780488       (P: Bnd)\n",
      "out                             Var x[15]   :   0   ;   150.18860845839018       (P: Bnd)\n",
      "out                             Var x[15]   :   1   ;   151.26072607260727       (P: Bnd)\n",
      "out                               Var x[30]   :   0   ;   150.46666666666667       (P: Bnd)\n",
      "out                               Var x[30]   :   1   ;   150.68947368421053       (P: Bnd)\n",
      "out                           Var x[17]   :   1   ;   149.46172839506173       (P: Bnd)\n",
      "out                       Var x[24]   :   1   ;   150.49404761904762       (P: Bnd)\n",
      "out                     Var x[27]   :   1   ;   151.5929648241206       (P: Bnd)\n",
      "out                       Var x[24]   :   0   ;   151.48016276703964       (P: Bnd)\n",
      "out                         Var x[14]   :   0   ;   149.24043715846994       (P: Bnd)"
     ]
    },
    {
     "name": "stdout",
     "output_type": "stream",
     "text": [
      "\n",
      "out                         Var x[14]   :   1   ;   151.4212271973466       (P: Bnd)\n",
      "out                           Var x[30]   :   0   ;   151.37854889589906       (P: Bnd)\n",
      "out                             Var x[21]   :   0   ;   148.18032786885246       (P: Bnd)\n",
      "out                             Var x[21]   :   1   ;   151.27397260273972       (P: Bnd)\n",
      "out                               Var x[15]   :   0   ;   149.24       (P: Bnd)\n",
      "out                               Var x[15]   :   1   ;   150.94425087108013       (P: Bnd)\n",
      "out                           Var x[30]   :   1   ;   150.16160184282802       (P: Bnd)\n",
      "out                       Var x[24]   :   1   ;   148.955223880597       (P: Bnd)\n",
      "out                 Var x[20]   :   1   ;   152.1840336134454          \n",
      "out                   Var x[5]   :   0   ;   151.046755284778       (P: Bnd)\n",
      "out                     Var x[3]   :   0   ;   150.92553689507872       (P: Bnd)\n",
      "out                     Var x[3]   :   1   ;   150.45271700776286       (P: Bnd)\n",
      "out                   Var x[5]   :   1   ;   151.86796901313573       (P: Bnd)\n",
      "out                     Var x[14]   :   0   ;   150.43537414965988       (P: Bnd)\n",
      "out                     Var x[14]   :   1   ;   151.52380952380952       (P: Bnd)\n",
      "out                       Var x[30]   :   0   ;   151.47535211267606       (P: Bnd)\n",
      "out                         Var x[24]   :   0   ;   151.35015772870662     "
     ]
    },
    {
     "name": "stdout",
     "output_type": "stream",
     "text": [
      "  (P: Bnd)\n",
      "out                           Var x[17]   :   0   ;   151.0  (I)  (P: Opt)\n",
      "out                           Var x[17]   :   1   ;   148.45679012345678       (P: Bnd)\n",
      "out                         Var x[24]   :   1   ;   149.34897119341565       (P: Bnd)\n",
      "out                       Var x[30]   :   1   ;   151.13496051687005       (P: Bnd)\n",
      "out                         Var x[15]   :   0   ;   149.2827160493827       (P: Bnd)\n",
      "out                         Var x[15]   :   1   ;   150.9859402460457       (P: Bnd)\n",
      "out               Var x[6]   :   1   ;   152.1736694677871          \n",
      "out                 Var x[18]   :   0   ;   150.4200705065338       (P: Bnd)\n",
      "out                 Var x[18]   :   1   ;   151.8918918918919       (P: Bnd)\n",
      "out                   Var x[29]   :   0   ;   149.9330453563715       (P: Bnd)\n",
      "out                   Var x[29]   :   1   ;   151.80487804878047       (P: Bnd)\n",
      "out                     Var x[30]   :   0   ;   151.61764705882354       (P: Bnd)\n",
      "out                       Var x[22]   :   0   ;   151.56470588235294       (P: Bnd)\n",
      "out                         Var x[3]   :   0   ;   151.51063829787236       (P: Bnd)\n",
      "out                           Var x[27]   :   0   ;   151.2830188679245       (P: Bnd)\n",
      "out                             Var x[20]   :   0   ;   151.2214765100671       (P: Bnd)\n",
      "out                               Var x[10]   :   0   ;   151.0  (I)  (P: Opt)\n",
      "out                               Var x[10]   :   1   ;   148.23529411764707       (P: Bnd)\n",
      "out                             Var x[20]   :   1   ;   149.52941176470588       (P: Bnd)\n",
      "out                           Var x[27]   :   1   ;   149.93303167420817       (P: Bnd)\n",
      "out                         Var x[3]   :   1   ;   149.88235294117646       (P: Bnd)\n",
      "out                       Var x[22]   :   1   ;   150.88235294117646       (P: Bnd)\n",
      "out                     Var x[30]   :   1   ;   151.6470588235294       (P: Bnd)\n",
      "out                       Var x[14]   :   0   ;   150.41887905604722       (P: Bnd)\n",
      "out                       Var x[14]   :   1   ;   151.34676830751764       (P: Bnd)\n",
      "out                         Var x[13]   :   0   ;   147.84339120051436       (P: Bnd)\n",
      "out                         Var x[13]   :   1   ;   151.3211334120425       (P: Bnd)\n",
      "out                           Var x[4]   :   0   ;   148.38862734871464       (P: Bnd)\n",
      "out                           Var x[4]   :   1   ;   150.42857142857144       (P: Bnd)\n",
      "out             Var x[25]   :   1   ;   153.55555555555557          \n",
      "out               Var x[18]   :   0   ;   152.7530864197531          \n",
      "out                 Var x[6]   :   0   ;   152.5906432748538          \n",
      "out                   Var x[22]   :   0   ;   152.42652329749103          \n",
      "out                     Var x[20]   :   0   ;   151.6457399103139       (P: Bnd)\n",
      "out                       Var x[27]   :   0   ;   151.286772878844       (P: Bnd)\n",
      "out                         Var x[3]   :   0   ;   150.96767147225864       (P: Bnd)\n",
      "out                         Var x[3]   :   1   ;   150.46666666666667       (P: Bnd)\n",
      "out                       Var x[27]   :   1   ;   151.325       (P: Bnd)\n",
      "out                         Var x[11]   :   0   ;   147.12068965517244       (P: Bnd)\n",
      "out                         Var x[11]   :   1   ;   151.325       (P: Bnd)\n",
      "out                           Var x[4]   :   0   ;   148.23656776263033       (P: Bnd)\n",
      "out                           Var x[4]   :   1   ;   151.31935483870967       (P: Bnd)\n",
      "out                             Var x[9]   :   0   ;   148.25378558449424       (P: Bnd)\n",
      "out                             Var x[9]   :   1   ;   151.29032258064518       (P: Bnd)\n",
      "out                               Var x[23]   :   0   ;   146.27027027027026       (P: Bnd)\n",
      "out                               Var x[23]   :   1   ;   150.88876529477196       (P: Bnd)\n",
      "out                     Var x[20]   :   1   ;   152.25395348837208          \n",
      "out                       Var x[30]   :   0   ;   151.98823529411766       (P: Bnd)\n",
      "out                         Var x[3]   :   0   ;   151.93617021276597       (P: Bnd)\n",
      "out                           Var x[27]   :   0   ;   151.65771812080536       (P: Bnd)\n",
      "out                             Var x[10]   :   0   ;   151.36842105263156       (P: Bnd)\n",
      "out                               Var x[16]   :   0   ;   151.35714285714286       (P: Bnd)\n",
      "out                                 Var x[26]   :   0   ;   151.29411764705884       (P: Bnd)\n",
      "out                                   Var x[24]   :   0   ;   151.26315789473682       (P: Bnd)\n",
      "out                                     Var x[17]   :   0   ;   151.0  (I)"
     ]
    },
    {
     "name": "stdout",
     "output_type": "stream",
     "text": [
      "  (P: Opt)\n",
      "out                                     Var x[17]   :   1   ;   147.75824175824175       (P: Bnd)\n",
      "out                                   Var x[24]   :   1   ;   148.16993464052285       (P: Bnd)\n",
      "out                                 Var x[26]   :   1   ;   146.20233050847457       (P: Bnd)\n",
      "out                               Var x[16]   :   1   ;   147.58241758241758       (P: Bnd)\n",
      "out                             Var x[10]   :   1   ;   148.92075471698112       (P: Bnd)\n",
      "out                           Var x[27]   :   1   ;   150.6       (P: Bnd)\n",
      "out                         Var x[3]   :   1   ;   150.33333333333334       (P: Bnd)\n",
      "out                       Var x[30]   :   1   ;   150.88761904761904       (P: Bnd)\n",
      "out                   Var x[22]   :   1   ;   152.3690725475124          \n",
      "out                     Var x[20]   :   0   ;   152.0252525252525          \n",
      "out                       Var x[27]   :   0   ;   152.0057471264368     "
     ]
    },
    {
     "name": "stdout",
     "output_type": "stream",
     "text": [
      "     \n",
      "out                         Var x[16]   :   0   ;   151.85365853658539       (P: Bnd)\n",
      "out                           Var x[3]   :   0   ;   151.82817869415805       (P: Bnd)\n",
      "out                             Var x[30]   :   0   ;   151.81288723667907       (P: Bnd)\n",
      "out                               Var x[17]   :   0   ;   151.768115942029       (P: Bnd)\n",
      "out                                 Var x[24]   :   0   ;   151.61666666666667       (P: Bnd)\n",
      "out                                   Var x[10]   :   0   ;   151.05263157894737       (P: Bnd)\n",
      "out                                     Var x[26]   :   0   ;   150.0  (I)  (P: Opt)\n",
      "out                                     Var x[26]   :   1   ;   147.36567796610169       (P: Bnd)\n",
      "out                                   Var x[10]   :   1   ;   149.4       (P: Bnd)\n",
      "out                                 Var x[24]   :   1   ;   148.96208482887621       (P: Bnd)\n",
      "out                               Var x[17]   :   1   ;   149.0879120879121       (P: Bnd)\n",
      "out                             Var x[30]   :   1   ;   149.825       (P: Bnd)\n",
      "out                           Var x[3]   :   1   ;   149.8618181818182       (P: Bnd)\n",
      "out                         Var x[16]   :   1   ;   148.78867924528302       (P: Bnd)\n",
      "out                       Var x[27]   :   1   ;   150.66966292134833       (P: Bnd)\n",
      "out                     Var x[20]   :   1   ;   151.14295485636114       (P: Bnd)\n",
      "out                       Var x[14]   :   0   ;   149.32181536874677       (P: Bnd)\n",
      "out                       Var x[14]   :   1   ;   149.56053811659194       (P: Bnd)\n",
      "out                 Var x[6]   :   1   ;   151.43096941362023       (P: Bnd)\n",
      "out                   Var x[22]   :   0   ;   151.4234577303884       (P: Bnd)\n",
      "out                     Var x[4]   :   0   ;   148.7724305541607       (P: Bnd)\n",
      "out                     Var x[4]   :   1   ;   151.18049666868563       (P: Bnd)\n",
      "out                       Var x[3]   :   0   ;   150.28       (P: Bnd)\n",
      "out                       Var x[3]   :   1   ;   150.2301886792453     "
     ]
    },
    {
     "name": "stdout",
     "output_type": "stream",
     "text": [
      "  (P: Bnd)\n",
      "out                   Var x[22]   :   1   ;   150.51094391244868       (P: Bnd)\n",
      "out               Var x[18]   :   1   ;   153.34065934065933          \n",
      "out                 Var x[4]   :   0   ;   151.58412185552734       (P: Bnd)\n",
      "out                   Var x[5]   :   0   ;   151.1605063633902       (P: Bnd)\n",
      "out                     Var x[3]   :   0   ;   150.6273193841295       (P: Bnd)\n",
      "out                     Var x[3]   :   1   ;   150.75862068965517       (P: Bnd)\n",
      "out                   Var x[5]   :   1   ;   151.32432432432432       (P: Bnd)\n",
      "out                     Var x[24]   :   0   ;   151.0       (P: Bnd)\n",
      "out                       Var x[17]   :   0   ;   150.53336741649625       (P: Bnd)\n",
      "out                       Var x[17]   :   1   ;   148.86363636363635       (P: Bnd)\n",
      "out                     Var x[24]   :   1   ;   149.59723733291887       (P: Bnd)\n",
      "out                 Var x[4]   :   1   ;   152.9935064935065          \n",
      "out                   Var x[3]   :   0   ;   152.80319148936172          \n",
      "out                     Var x[27]   :   0   ;   152.5          \n",
      "out                       Var x[29]   :   0   ;   151.9970238095238       (P: Bnd)\n",
      "out                         Var x[10]   :   0   ;   151.062091503268       (P: Bnd)\n",
      "out                           Var x[16]   :   0   ;   150.73809523809524       (P: Bnd)\n",
      "out                           Var x[16]   :   1   ;   147.3582375478927       (P: Bnd)\n",
      "out                         Var x[10]   :   1   ;   150.34482758620692       (P: Bnd)\n",
      "out                       Var x[29]   :   1   ;   151.9022261021388       (P: Bnd)\n",
      "out                         Var x[13]   :   0   ;   150.5291060953838       (P: Bnd)\n",
      "out                         Var x[13]   :   1   ;   151.78947368421052       (P: Bnd)\n",
      "out                           Var x[7]   :   0   ;   150.58535144713528       (P: Bnd)\n",
      "out                           Var x[7]   :   1   ;   150.0       (P: Bnd)\n",
      "out                     Var x[27]   :   1   ;   152.02702702702703          \n",
      "out                       Var x[30]   :   0   ;   151.9318181818182       (P: Bnd)\n",
      "out                         Var x[29]   :   0   ;   151.55555555555554       (P: Bnd)"
     ]
    },
    {
     "name": "stdout",
     "output_type": "stream",
     "text": [
      "\n",
      "out                           Var x[6]   :   0   ;   151.55172413793105       (P: Bnd)\n",
      "out                             Var x[22]   :   0   ;   151.48192771084337       (P: Bnd)\n",
      "out                               Var x[20]   :   0   ;   151.35684647302907       (P: Bnd)\n",
      "out                                 Var x[10]   :   0   ;   151.10526315789474       (P: Bnd)\n",
      "out                                   Var x[16]   :   0   ;   151.0079051383399       (P: Bnd)\n",
      "out                                     Var x[26]   :   0   ;   150.88235294117646       (P: Bnd)\n",
      "out                                     Var x[26]   :   1   ;   145.57894736842104       (P: Bnd)"
     ]
    },
    {
     "name": "stdout",
     "output_type": "stream",
     "text": [
      "\n",
      "out                                   Var x[16]   :   1   ;   146.20833333333331       (P: Bnd)\n",
      "out                                 Var x[10]   :   1   ;   148.21339195130201       (P: Bnd)\n",
      "out                               Var x[20]   :   1   ;   149.57894736842104       (P: Bnd)\n",
      "out                             Var x[22]   :   1   ;   151.0769230769231       (P: Bnd)\n",
      "out                               Var x[14]   :   0   ;   149.2166172106825       (P: Bnd)"
     ]
    },
    {
     "name": "stdout",
     "output_type": "stream",
     "text": [
      "\n",
      "out                               Var x[14]   :   1   ;   150.91443240159725       (P: Bnd)\n",
      "out                           Var x[6]   :   1   ;   148.13829787234042       (P: Bnd)\n",
      "out                         Var x[29]   :   1   ;   150.81596244131455       (P: Bnd)\n",
      "out                       Var x[30]   :   1   ;   150.3874646956997       (P: Bnd)\n",
      "out                   Var x[3]   :   1   ;   151.8490566037736       (P: Bnd)\n",
      "out                     Var x[29]   :   0   ;   151.81034482758622       (P: Bnd)\n",
      "out                       Var x[5]   :   0   ;   149.86994842944208       (P: Bnd)\n",
      "out                       Var x[5]   :   1   ;   150.95945945945948       (P: Bnd)\n",
      "out                     Var x[29]   :   1   ;   151.09691470054446       (P: Bnd)\n",
      "out                       Var x[13]   :   0   ;   150.23353293413174       (P: Bnd)\n",
      "out                       Var x[13]   :   1   ;   150.5       (P: Bnd)\n",
      "out         Var x[8]   :   1   ;   154.63806287170772          \n",
      "out           Var x[4]   :   0   ;   152.1959798994975          \n",
      "out             Var x[24]   :   0   ;   152.1864406779661          \n",
      "out               Var x[6]   :   0   ;   152.14741035856574          \n",
      "out                 Var x[17]   :   0   ;   152.10000000000002          \n",
      "out                   Var x[27]   :   0   ;   151.83333333333334       (P: Bnd)\n",
      "out                     Var x[12]   :   0   ;   151.66666666666669       (P: Bnd)\n",
      "out                       Var x[22]   :   0   ;   151.6       (P: Bnd)\n",
      "out                         Var x[3]   :   0   ;   151.5631399317406       (P: Bnd)\n",
      "out                           Var x[5]   :   0   ;   151.19282511210764       (P: Bnd)\n",
      "out                             Var x[10]   :   0   ;   150.73684210526318       (P: Bnd)\n",
      "out                             Var x[10]   :   1   ;   150.52941176470588       (P: Bnd)\n",
      "out                           Var x[5]   :   1   ;   150.0  (I)  (P: Opt)\n",
      "out                         "
     ]
    },
    {
     "name": "stdout",
     "output_type": "stream",
     "text": [
      "Var x[3]   :   1   ;   150.58823529411765       (P: Bnd)\n",
      "out                       Var x[22]   :   1   ;   151.33333333333331       (P: Bnd)\n",
      "out                         Var x[16]   :   0   ;   151.30769230769232       (P: Bnd)\n",
      "out                           Var x[20]   :   0   ;   151.0       (P: Bnd)\n",
      "out                             Var x[3]   :   0   ;   150.94444444444446       (P: Bnd)\n",
      "out                             Var x[3]   :   1   ;   149.59302325581396       (P: Bnd)\n",
      "out                           Var x[20]   :   1   ;   150.8372093023256       (P: Bnd)\n",
      "out                         Var x[16]   :   1   ;   148.87720536344392       (P: Bnd)\n",
      "out                     Var x[12]   :   1   ;   151.0855855855856       (P: Bnd)\n",
      "out                       Var x[18]   :   0   ;   149.26666666666665       (P: Bnd)\n",
      "out                       Var x[18]   :   1   ;   150.9885496183206       (P: Bnd)\n",
      "out                   Var x[27]   :   1   ;   152.03125          \n",
      "out                     Var x[21]   :   0   ;   149.58666666666667       (P: Bnd)\n",
      "out                     Var x[21]   :   1   ;   152.0          \n",
      "out                       Var x[15]   :   0   ;   149.83333333333334       (P: Bnd)\n",
      "out                       Var x[15]   :   1   ;   152.0  (I)  (P: Opt)\n",
      "out                 Var x[17]   :   1   ;   150.4021168649405       (P: Bnd)\n",
      "out               Var x[6]   :   1   ;   151.88738738738738       (P: Bnd)\n",
      "out             Var x[24]   :   1   ;   151.36195508586525       (P: Bnd)\n",
      "out           Var x[4]   :   1   ;   154.63402061855672          \n",
      "out             Var x[30]   :   0   ;   154.24074074074076          \n",
      "out               Var x[22]   :   0   ;   154.0888888888889          \n",
      "out                 Var x[3]   :   0   ;   154.0330188679245          \n",
      "out                   Var x[27]   :   0   ;   153.39215686274508          \n",
      "out "
     ]
    },
    {
     "name": "stdout",
     "output_type": "stream",
     "text": [
      "                    Var x[25]   :   0   ;   152.47724620770128          \n",
      "out                       Var x[12]   :   0   ;   152.42975206611573          \n",
      "out                         Var x[20]   :   0   ;   152.10440122824974          \n",
      "out                           Var x[16]   :   0   ;   152.09465914025185          \n",
      "out                             Var x[6]   :   0   ;   151.19454770755885       (P: Bnd)\n",
      "out                             Var x[6]   :   1   ;   151.4596994535519       (P: Bnd)\n",
      "out                           Var x[16]   :   1   ;   150.72972972972974       (P: Bnd)\n",
      "out                         Var x[20]   :   1   ;   152.18279569892474          \n",
      "out                           Var x[24]   :   0   ;   152.1559633027523          \n",
      "out                             Var x[6]   :   0   ;   151.94533762057875       (P: Bnd)\n",
      "out                             Var x[6]   :   1   ;   151.2882882882883       (P: Bnd)\n",
      "out                           Var x[24]   :   1   ;   149.62443438914028       (P: Bnd)\n",
      "out                       Var x[12]   :   1   ;   152.1036036036036          \n",
      "out                         Var x[5]   :   0   ;   149.15384615384616       (P: Bnd)\n",
      "out                         Var x[5]   :   1   ;   151.75862068965517       (P: Bnd)\n",
      "out                     Var x[25]   :   1   ;   153.03378378378378          \n",
      "out                       Var x[18]   :   0   ;   152.75          \n",
      "out                         Var x[6]   :   0   ;   152.75          \n",
      "out                           Var x[20]   :   0   ;   152.60000000000002          \n",
      "out                             Var x[12]   :   0   ;   150.82193329564728       (P: Bnd)\n",
      "out                             Var x[12]   :   1   ;   152.23529411764707          \n",
      "out                               Var x[29]   :   0   ;   149.4356846473029       (P: Bnd)\n",
      "out                               Var x[29]   :   1   ;   152.01769911504425          \n",
      "out                                 Var x[13]   :   0   ;   148.57026476578412       (P: Bnd)\n",
      "out                                 Var x[13]   :   1   ;   151.83333333333331       (P: Bnd)\n",
      "out                           Var x[20]   :   1   ;   152.70833333333334          \n",
      "out                             Var x[12]   :   0   ;   152.4949083503055          \n",
      "out                               Var x[16]   :   0   ;   152.4002478314746          \n",
      "out                                 Var x[17]   :   0   ;   152.37512639029322          \n",
      "out                                   Var x[24]   :   0   ;   152.22777777777776          \n",
      "out                                     Var x[10]   :   0   ;   151.78947368421052       (P: Bnd)\n",
      "out                                     Var x[10]   :   1   ;   149.33138686131386       (P: Bnd)\n",
      "out                                   Var x[24]   :   1   ;   147.34117647058824       (P: Bnd)\n",
      "out                                 Var x[17]   :   1   ;   146.56197183098593       (P: Bnd)\n",
      "out                               Var x[16]   :   1   ;   148.73962264150944       (P: Bnd)\n",
      "out                             Var x[12]   :   1   ;   150.18113207547168       (P: Bnd)\n",
      "out                         Var x[6]   :   1   ;   151.54545454545456       (P: Bnd)\n",
      "out                       Var x[18]   :   1   ;   152.54545454545456          \n",
      "out                         Var x[20]   :   0   ;   152.53846153846155"
     ]
    },
    {
     "name": "stdout",
     "output_type": "stream",
     "text": [
      "          \n",
      "out                           Var x[10]   :   0   ;   152.5          \n",
      "out                             Var x[12]   :   0   ;   152.42857142857144          \n",
      "out                               Var x[6]   :   0   ;   152.36842105263156          \n",
      "out                                 Var x[16]   :   0   ;   152.35714285714286          \n",
      "out                                   Var x[26]   :   0   ;   152.29411764705884          \n",
      "out                                     Var x[24]   :   0   ;   152.26315789473682          \n",
      "out                                       Var x[17]   :   0   ;   152.0  (I)  (P: Opt)\n",
      "out                                       Var x[17]   :   1   ;   146.2       (P: Bnd)\n",
      "out                                     Var x[24]   :   1   ;   147.58823529411765       (P: Bnd)\n",
      "out                                   Var x[26]   :   1   ;   148.78867924528302       (P: Bnd)\n",
      "out                                 Var x[16]   :   1   ;   148.3846153846154       (P: Bnd)\n",
      "out                               Var x[6]   :   1   ;   150.35294117647058       (P: Bnd)\n",
      "out                             Var x[12]   :   1   ;   151.0  (I)  (P: Opt)\n",
      "out                           Var x[10]   :   1   ;   151.20724346076457       (P: Bnd)\n",
      "out                         Var x[20]   :   1   ;   152.09090909090907          \n",
      "out                           Var x[29]   :   0   ;   151.5       (P: Bnd)\n",
      "out                           Var x[29]   :   1   ;   151.53982300884957       (P: Bnd)\n",
      "out                   Var x[27]   :   1   ;   153.43945945945947          \n",
      "out                     Var x[25]   :   0   ;   152.64619019492025          \n",
      "out                       Var x[5]   :   0   ;   150.95049504950495       (P: Bnd)\n",
      "out                       Var x[5]   :   1   ;   151.73865877712032       (P: Bnd)\n",
      "out                     Var x[25]   :   1   ;   152.99402685734216          \n",
      "out                       Var x[29]   :   0   ;   151.47003154574134       (P: Bnd)"
     ]
    },
    {
     "name": "stdout",
     "output_type": "stream",
     "text": [
      "\n",
      "out                       Var x[29]   :   1   ;   152.35074829931972          \n",
      "out                         Var x[18]   :   0   ;   151.66501687289087       (P: Bnd)\n",
      "out                         Var x[18]   :   1   ;   151.84464609800364       (P: Bnd)\n",
      "out                 Var x[3]   :   1   ;   153.1454054054054          \n",
      "out                   Var x[5]   :   0   ;   151.95532865347795       (P: Bnd)\n",
      "out                   Var x[5]   :   1   ;   152.58584443920273          \n",
      "out                     Var x[14]   :   0   ;   151.58391831525208       (P: Bnd)\n",
      "out                     Var x[14]   :   1   ;   152.1776734772216          \n",
      "out                       Var x[15]   :   0   ;   150.22169811320754       (P: Bnd)\n",
      "out                       Var x[15]   :   1   ;   152.13584905660377          \n",
      "out                         Var x[29]   :   0   ;   150.38172920065253       (P: Bnd)\n",
      "out                         Var x[29]   :   1   ;   151.96348408710216       (P: Bnd)\n",
      "out               Var x[22]   :   1   ;   154.13963963963965          \n",
      "out                 Var x[18]   :   0   ;   152.98474472468124     "
     ]
    },
    {
     "name": "stdout",
     "output_type": "stream",
     "text": [
      "     \n",
      "out                   Var x[6]   :   0   ;   152.90384615384613          \n",
      "out                     Var x[5]   :   0   ;   151.45397603485839       (P: Bnd)\n",
      "out                     Var x[5]   :   1   ;   152.49452176488006          \n",
      "out                       Var x[12]   :   0   ;   151.94795539033458       (P: Bnd)\n",
      "out                       Var x[12]   :   1   ;   151.33333333333334       (P: Bnd)\n",
      "out                   Var x[6]   :   1   ;   152.4236641221374          \n",
      "out                     Var x[25]   :   0   ;   150.66242603550296       (P: Bnd)\n",
      "out                     Var x[25]   :   1   ;   152.01307847082498          \n",
      "out                       Var x[13]   :   0   ;   149.37957717286167       (P: Bnd)\n",
      "out                       Var x[13]   :   1   ;   151.78947368421052       (P: Bnd)\n",
      "out                 Var x[18]   :   1   ;   154.04961832061068          \n",
      "out                   Var x[25]   :   0   ;   152.5033686236766          \n",
      "out                     Var x[6]   :   0   ;   152.43934911242604          \n",
      "out                       Var x[27]   :   0   ;   152.41725575493925          \n",
      "out                         Var x[24]   :   0   ;   152.16666666666669          \n",
      "out                           Var x[5]   :   0   ;   152.0          \n",
      "out                             Var x[3]   :   0   ;   151.0769230769231       (P: Bnd)\n",
      "out                             Var x[3]   :   1   ;   151.07682619647358       (P: Bnd)\n",
      "out                           Var x[5]   :   1   ;   151.72075279755848       (P: Bnd)\n",
      "out                         Var x[24]   :   1   ;   150.42926829268293       (P: Bnd)\n",
      "out                       Var x[27]   :   1   ;   151.96654275092936       (P: Bnd)\n",
      "out                     Var x[6]   :   1   ;   152.10566037735848          \n",
      "out                       Var x[5]   :   0   ;   150.83636363636364       (P: Bnd)\n",
      "out                       Var x[5]   :   1   ;   151.67703862660946       (P: Bnd)\n",
      "out                   Var x[25]   :   1   ;   153.91320754716983          \n",
      "out                     Var x[29]   :   0   ;   151.7905982905983       (P: Bnd)\n",
      "out                     Var x[29]   :   1   ;   153.57894736842104          \n",
      "out                       Var x[13]   :   0   ;   151.26756496631378       (P: Bnd)\n",
      "out                       Var x[13]   :   1   ;   153.25          \n",
      "out                         Var x[7]   :   0   ;   149.94117647058823       (P: Bnd)\n",
      "out                         Var x[7]   :   1   ;   152.0          \n",
      "out                           Var x[14]   :   0   ;   150.28915662650604       (P: Bnd)\n",
      "out                           Var x[14]   :   1   ;   150.75       (P: Bnd)\n",
      "out             Var x[30]   :   1   ;   154.09404815992733          \n",
      "out               Var x[29]   :   0   ;   153.03254067584479          \n",
      "out                 Var x[12]   :   0   ;   152.612113985472          \n",
      "out                   Var x[20]   :   0   ;   152.2513487456153          \n",
      "out                     Var x[25]   :   0   ;   150.249502322495       (P: Bnd)\n",
      "out                     Var x[25]   :   1   ;   152.0198843256559          \n",
      "out                       Var x[16]   :   0   ;   151.45615514333898       (P: Bnd)\n",
      "out                       Var x[16]   :   1   ;   148.7031818181818       (P: Bnd)\n",
      "out                   Var x[20]   :   1   ;   151.77222263512886       (P: Bnd)\n",
      "out                 Var x[12]   :   1   ;   151.9189189189189       (P: Bnd)"
     ]
    },
    {
     "name": "stdout",
     "output_type": "stream",
     "text": [
      "\n",
      "out               Var x[29]   :   1   ;   153.45823754789274          \n",
      "out                 Var x[25]   :   0   ;   153.22924634420696          \n",
      "out                   Var x[12]   :   0   ;   152.63969355997128          \n",
      "out                     Var x[6]   :   0   ;   151.86666666666667       (P: Bnd)\n",
      "out                     Var x[6]   :   1   ;   151.90878482646391       (P: Bnd)\n",
      "out                   Var x[12]   :   1   ;   152.11102040816326          \n",
      "out                     Var x[18]   :   0   ;   150.73293413173653       (P: Bnd)\n",
      "out                     Var x[18]   :   1   ;   151.78947368421052       (P: Bnd)\n",
      "out                 Var x[25]   :   1   ;   152.5568181818182          \n",
      "out                   Var x[7]   :   0   ;   151.07930367504835       (P: Bnd)\n",
      "out                   Var x[7]   :   1   ;   152.39999999999998          \n",
      "out                     Var x[11]   :   0   ;   149.26666666666665       (P: Bnd)\n",
      "out                     Var x[11]   :   1   ;   152.0181818181818          \n",
      "out tree up/down bounds 152.0181818181818/"
     ]
    },
    {
     "name": "stdout",
     "output_type": "stream",
     "text": [
      "152.0\n"
     ]
    },
    {
     "name": "stdout",
     "output_type": "stream",
     "text": [
      "out ============================================================\n",
      "out Instancia packP1-i002.txt\n",
      "out ============================================================\n",
      "out [0] Root node solved. LP value: 217.71071270267063.\n",
      "Inf\n",
      "out [1] Branching on variable 16\n",
      "out [1] Gap: Inf. Bnd: [-Inf; 217.54956717537073].\n",
      "out [2] Branching on variable 29\n",
      "out [2] Gap: Inf. Bnd: [-Inf; 217.48189075057604].\n",
      "out [3] Branching on variable 2\n"
     ]
    },
    {
     "name": "stdout",
     "output_type": "stream",
     "text": [
      "out [3] Gap: Inf. Bnd: [-Inf; 217.48189075057604].\n",
      "out [4] Branching on variable 25\n",
      "out [4] Gap: Inf. Bnd: [-Inf; 217.48189075057604].\n",
      "out [5] Branching on variable 30\n",
      "out [5] Gap: Inf. Bnd: [-Inf; 217.48189075057604].\n",
      "out [6] Branching on variable 33\n",
      "out [6] Gap: Inf. Bnd: [-Inf; 217.48189075057604].\n",
      "out [7] Branching on variable 9\n"
     ]
    },
    {
     "name": "stdout",
     "output_type": "stream",
     "text": [
      "out [7] Gap: Inf. Bnd: [-Inf; 217.48189075057604].\n",
      "out [8] Branching on variable 35\n",
      "out [8] Gap: Inf. Bnd: [-Inf; 217.48189075057604].\n",
      "out [9] Branching on variable 22\n",
      "out [9] Gap: Inf. Bnd: [-Inf; 217.48189075057604].\n",
      "out [10] Branching on variable 31\n",
      "out [10] Gap: Inf. Bnd: [-Inf; 217.48189075057604].\n",
      "out [11] Branching on variable 37"
     ]
    },
    {
     "name": "stdout",
     "output_type": "stream",
     "text": [
      "\n",
      "out [11] Gap: Inf. Bnd: [-Inf; 217.48189075057604].\n",
      "out [12] Branching on variable 34\n",
      "out [12] Gap: Inf. Bnd: [-Inf; 217.48189075057604].\n",
      "out [13] Branching on variable 11\n",
      "out [13] Gap: Inf. Bnd: [-Inf; 217.48189075057604].\n",
      "out [14] Branching on variable 36\n",
      "out [14] Gap: Inf. Bnd: [-Inf; 217.48189075057604].\n",
      "out [15] Branching on variable 24"
     ]
    },
    {
     "name": "stdout",
     "output_type": "stream",
     "text": [
      "\n",
      "\n",
      "out [15] Found a new incumbent. Value: 208.0\n",
      "out [15] Gap: 0.04359853005623608. Bnd: [208.0; 217.48189075057604].\n",
      "out [16] Branching on variable 18\n",
      "out [16] Gap: 0.04359853005623608. Bnd: [208.0; 217.48189075057604].\n",
      "out [17] Branching on variable 24\n",
      "out [17] Gap: 0.04359853005623608. Bnd: [208.0; 217.48189075057604].\n",
      "out [18] Branching on variable 18\n",
      "\n"
     ]
    },
    {
     "name": "stdout",
     "output_type": "stream",
     "text": [
      "out [18] Found a new incumbent. Value: 209.0\n",
      "out [18] Gap: 0.03900044606612184. Bnd: [209.0; 217.48189075057604].\n",
      "out [19] Branching on variable 39\n",
      "out [19] Gap: 0.03900044606612184. Bnd: [209.0; 217.48189075057604].\n",
      "out [20] Branching on variable 7\n",
      "out [20] Gap: 0.03900044606612184. Bnd: [209.0; 217.48189075057604].\n",
      "out [21] Branching on variable 18\n",
      "out [21] Gap: 0.03900044606612184. Bnd: [209.0; 217.48189075057604].\n",
      "out [22] Branching on variable 24\n",
      "out [22] Gap: 0.03900044606612184. Bnd: [209.0; 217.48189075057604].\n",
      "out [23] Branching on variable 7"
     ]
    },
    {
     "name": "stdout",
     "output_type": "stream",
     "text": [
      "\n",
      "out [23] Gap: 0.03900044606612184. Bnd: [209.0; 217.48189075057604].\n",
      "out [24] Branching on variable 7\n",
      "out [24] Gap: 0.03900044606612184. Bnd: [209.0; 217.48189075057604].\n",
      "out [25] Branching on variable 21\n",
      "out [25] Gap: 0.03900044606612184. Bnd: [209.0; 217.48189075057604].\n",
      "out [26] Branching on variable 24\n",
      "out [26] Gap: 0.03900044606612184. Bnd: [209.0; 217.48189075057604].\n",
      "out [27] Branching on variable 18\n",
      "out [27] Gap: 0.03900044606612184. Bnd: [209.0; 217.48189075057604].\n",
      "out [28] Branching on variable 7"
     ]
    },
    {
     "name": "stdout",
     "output_type": "stream",
     "text": [
      "\n",
      "out [28] Gap: 0.03900044606612184. Bnd: [209.0; 217.48189075057604].\n",
      "out [29] Branching on variable 36\n",
      "out [29] Gap: 0.03900044606612184. Bnd: [209.0; 217.48189075057604].\n",
      "out [30] Branching on variable 31\n",
      "out [30] Gap: 0.03900044606612184. Bnd: [209.0; 217.48189075057604].\n",
      "out [31] Branching on variable 11\n",
      "out [31] Gap: 0.03900044606612184. Bnd: [209.0; 217.48189075057604].\n",
      "out [32] Branching on variable 37\n"
     ]
    },
    {
     "name": "stdout",
     "output_type": "stream",
     "text": [
      "out [32] Gap: 0.03900044606612184. Bnd: [209.0; 217.48189075057604].\n",
      "out [33] Branching on variable 34\n",
      "out [33] Gap: 0.03900044606612184. Bnd: [209.0; 217.48189075057604].\n",
      "out [34] Branching on variable 34\n",
      "out [34] Gap: 0.03900044606612184. Bnd: [209.0; 217.48189075057604].\n",
      "out [35] Branching on variable 40\n",
      "out [35] Gap: 0.03900044606612184. Bnd: [209.0; 217.48189075057604].\n",
      "out [36] Branching on variable 38\n",
      "out [36] Gap: 0.03900044606612184. Bnd: [209.0; 217.48189075057604].\n",
      "out [37] Branching on variable 15\n"
     ]
    },
    {
     "name": "stdout",
     "output_type": "stream",
     "text": [
      "out [37] Gap: 0.03900044606612184. Bnd: [209.0; 217.48189075057604].\n",
      "out [38] Branching on variable 39\n",
      "out [38] Gap: 0.03900044606612184. Bnd: [209.0; 217.48189075057604].\n",
      "out [39] Branching on variable 34\n",
      "out [39] Gap: 0.03900044606612184. Bnd: [209.0; 217.48189075057604].\n",
      "out [40] Branching on variable 11\n"
     ]
    },
    {
     "name": "stdout",
     "output_type": "stream",
     "text": [
      "out [40] Gap: 0.03900044606612184. Bnd: [209.0; 217.48189075057604].\n",
      "out [41] Branching on variable 21\n",
      "out [41] Gap: 0.03900044606612184. Bnd: [209.0; 217.48189075057604].\n",
      "out [42] Branching on variable 26\n",
      "out [42] Gap: 0.03900044606612184. Bnd: [209.0; 217.48189075057604].\n",
      "out [43] Branching on variable 10\n",
      "out [43] Gap: 0.03900044606612184. Bnd: [209.0; 217.48189075057604].\n",
      "out [44] Branching on variable 34\n",
      "out [44] Gap: 0.03900044606612184. Bnd: [209.0; 217.48189075057604].\n",
      "out [45] Branching on variable 37\n",
      "out [45] Gap: 0.03900044606612184. Bnd: [209.0; 217.48189075057604].\n",
      "out [46] Branching on variable 39"
     ]
    },
    {
     "name": "stdout",
     "output_type": "stream",
     "text": [
      "\n",
      "out [46] Gap: 0.03900044606612184. Bnd: [209.0; 217.48189075057604].\n",
      "out [47] Branching on variable 31\n",
      "out [47] Gap: 0.03900044606612184. Bnd: [209.0; 217.48189075057604].\n",
      "out [48] Branching on variable 34\n",
      "out [48] Gap: 0.03900044606612184. Bnd: [209.0; 217.48189075057604].\n",
      "out [49] Branching on variable 36\n",
      "out [49] Gap: 0.03900044606612184. Bnd: [209.0; 217.48189075057604].\n",
      "out [50] Branching on variable 11\n"
     ]
    },
    {
     "name": "stdout",
     "output_type": "stream",
     "text": [
      "out [50] Gap: 0.03900044606612184. Bnd: [209.0; 217.48189075057604].\n",
      "out [51] Branching on variable 37\n",
      "\n",
      "out [51] Found a new incumbent. Value: 210.0\n",
      "out [51] Gap: 0.03440236207600759. Bnd: [210.0; 217.48189075057604].\n",
      "out [52] Branching on variable 39\n",
      "out [52] Gap: 0.03440236207600759. Bnd: [210.0; 217.48189075057604].\n",
      "out [53] Branching on variable 37\n",
      "out [53] Gap: 0.03440236207600759. Bnd: [210.0; 217.48189075057604].\n",
      "out [54] Branching on variable 22\n",
      "out [54] Gap: 0.03440236207600759. Bnd: [210.0; 217.48189075057604].\n",
      "out [55] Branching on variable 31"
     ]
    },
    {
     "name": "stdout",
     "output_type": "stream",
     "text": [
      "\n",
      "out [55] Gap: 0.03440236207600759. Bnd: [210.0; 217.48189075057604].\n",
      "out [56] Branching on variable 37\n",
      "out [56] Gap: 0.03440236207600759. Bnd: [210.0; 217.48189075057604].\n",
      "out [57] Branching on variable 36\n",
      "out [57] Gap: 0.03440236207600759. Bnd: [210.0; 217.48189075057604].\n",
      "out [58] Branching on variable 34\n",
      "out [58] Gap: 0.03440236207600759. Bnd: [210.0; 217.48189075057604].\n",
      "out [59] Branching on variable 11"
     ]
    },
    {
     "name": "stdout",
     "output_type": "stream",
     "text": [
      "\n",
      "out [59] Gap: 0.03440236207600759. Bnd: [210.0; 217.48189075057604].\n",
      "out [60] Branching on variable 38\n",
      "out [60] Gap: 0.03440236207600759. Bnd: [210.0; 217.48189075057604].\n",
      "out [61] Branching on variable 14\n",
      "out [61] Gap: 0.03440236207600759. Bnd: [210.0; 217.48189075057604].\n",
      "out [62] Branching on variable 39\n"
     ]
    },
    {
     "name": "stdout",
     "output_type": "stream",
     "text": [
      "out [62] Gap: 0.03440236207600759. Bnd: [210.0; 217.48189075057604].\n",
      "out [63] Branching on variable 21\n",
      "out [63] Gap: 0.03440236207600759. Bnd: [210.0; 217.48189075057604].\n",
      "out [64] Branching on variable 12\n",
      "out [64] Gap: 0.03440236207600759. Bnd: [210.0; 217.48189075057604].\n",
      "out [65] Branching on variable 34\n",
      "out [65] Gap: 0.03440236207600759. Bnd: [210.0; 217.48189075057604].\n",
      "out [66] Branching on variable 28"
     ]
    },
    {
     "name": "stdout",
     "output_type": "stream",
     "text": [
      "\n",
      "out [66] Gap: 0.03440236207600759. Bnd: [210.0; 217.48189075057604].\n",
      "out [67] Branching on variable 36\n",
      "out [67] Gap: 0.03440236207600759. Bnd: [210.0; 217.48189075057604].\n",
      "out [68] Branching on variable 39\n",
      "out [68] Gap: 0.03440236207600759. Bnd: [210.0; 217.48189075057604].\n",
      "out [69] Branching on variable 34\n",
      "out [69] Gap: 0.03440236207600759. Bnd: [210.0; 217.48189075057604].\n",
      "out [70] Branching on variable 11"
     ]
    },
    {
     "name": "stdout",
     "output_type": "stream",
     "text": [
      "\n",
      "out [70] Gap: 0.03440236207600759. Bnd: [210.0; 217.48189075057604].\n",
      "out [71] Branching on variable 39\n",
      "out [71] Gap: 0.03440236207600759. Bnd: [210.0; 217.48189075057604].\n",
      "out [72] Branching on variable 28\n",
      "out [72] Gap: 0.03440236207600759. Bnd: [210.0; 217.48189075057604].\n",
      "out [73] Branching on variable 20\n",
      "out [73] Gap: 0.03440236207600759. Bnd: [210.0; 217.48189075057604].\n",
      "out [74] Branching on variable 1\n",
      "out [74] Gap: 0.03440236207600759. Bnd: [210.0; 217.48189075057604]."
     ]
    },
    {
     "name": "stdout",
     "output_type": "stream",
     "text": [
      "\n",
      "out [75] Branching on variable 15\n",
      "out [75] Gap: 0.03440236207600759. Bnd: [210.0; 217.48189075057604].\n",
      "out [76] Branching on variable 38\n",
      "out [76] Gap: 0.03440236207600759. Bnd: [210.0; 217.48189075057604].\n",
      "out [77] Branching on variable 4\n",
      "out [77] Gap: 0.03440236207600759. Bnd: [210.0; 217.48189075057604].\n",
      "out [78] Branching on variable 40\n"
     ]
    },
    {
     "name": "stdout",
     "output_type": "stream",
     "text": [
      "out [78] Gap: 0.03440236207600759. Bnd: [210.0; 217.48189075057604].\n",
      "out [79] Branching on variable 3\n",
      "out [79] Gap: 0.03440236207600759. Bnd: [210.0; 217.48189075057604].\n",
      "out [80] Branching on variable 38\n",
      "out [80] Gap: 0.03440236207600759. Bnd: [210.0; 217.48189075057604].\n",
      "out [81] Branching on variable 36"
     ]
    },
    {
     "name": "stdout",
     "output_type": "stream",
     "text": [
      "\n",
      "out [81] Gap: 0.03440236207600759. Bnd: [210.0; 217.48189075057604].\n",
      "out [82] Branching on variable 11\n",
      "out [82] Gap: 0.03440236207600759. Bnd: [210.0; 217.48189075057604].\n",
      "out [83] Branching on variable 7\n",
      "out [83] Gap: 0.03440236207600759. Bnd: [210.0; 217.48189075057604].\n",
      "out [84] Branching on variable 13\n",
      "out [84] Gap: 0.03440236207600759. Bnd: [210.0; 217.48189075057604].\n",
      "out [85] Branching on variable 15\n",
      "out [85] Gap: 0.03440236207600759. Bnd: [210.0; 217.48189075057604].\n",
      "out [86] Branching on variable 38\n",
      "out [86] Gap: 0.03440236207600759. Bnd: [210.0; 217.48189075057604].\n",
      "out [87] Branching on variable 36\n"
     ]
    },
    {
     "name": "stdout",
     "output_type": "stream",
     "text": [
      "out [87] Gap: 0.03440236207600759. Bnd: [210.0; 217.48189075057604].\n",
      "out [88] Branching on variable 31\n",
      "out [88] Gap: 0.03440236207600759. Bnd: [210.0; 217.48189075057604].\n",
      "out [89] Branching on variable 11\n",
      "out [89] Gap: 0.03440236207600759. Bnd: [210.0; 217.48189075057604].\n",
      "out [90] Branching on variable 34\n",
      "out [90] Gap: 0.03440236207600759. Bnd: [210.0; 217.48189075057604].\n",
      "out [91] Branching on variable 18\n",
      "out [91] Gap: 0.03440236207600759. Bnd: [210.0; 217.48189075057604]."
     ]
    },
    {
     "name": "stdout",
     "output_type": "stream",
     "text": [
      "\n",
      "out [92] Branching on variable 24\n",
      "out [92] Gap: 0.03440236207600759. Bnd: [210.0; 217.48189075057604].\n",
      "out [93] Branching on variable 7\n",
      "out [93] Gap: 0.03440236207600759. Bnd: [210.0; 217.48189075057604].\n",
      "out [94] Branching on variable 13\n",
      "out [94] Gap: 0.03440236207600759. Bnd: [210.0; 217.48189075057604].\n",
      "out [95] Branching on variable 37\n"
     ]
    },
    {
     "name": "stdout",
     "output_type": "stream",
     "text": [
      "out [95] Gap: 0.03440236207600759. Bnd: [210.0; 217.48189075057604].\n",
      "out [96] Branching on variable 15\n",
      "out [96] Gap: 0.03440236207600759. Bnd: [210.0; 217.48189075057604].\n",
      "out [97] Branching on variable 5\n",
      "out [97] Gap: 0.03440236207600759. Bnd: [210.0; 217.48189075057604].\n",
      "out [98] Branching on variable 10\n",
      "out [98] Gap: 0.03440236207600759. Bnd: [210.0; 217.48189075057604].\n",
      "out [99] Branching on variable 11\n"
     ]
    },
    {
     "name": "stdout",
     "output_type": "stream",
     "text": [
      "out [99] Gap: 0.03440236207600759. Bnd: [210.0; 217.48189075057604].\n",
      "out [100] Branching on variable 34\n",
      "out [100] Gap: 0.03440236207600759. Bnd: [210.0; 217.48189075057604].\n",
      "out [101] Branching on variable 18\n",
      "out [101] Gap: 0.03440236207600759. Bnd: [210.0; 217.48189075057604].\n",
      "out [102] Branching on variable 15\n",
      "out [102] Gap: 0.03440236207600759. Bnd: [210.0; 217.48189075057604].\n",
      "out [103] Branching on variable 23\n",
      "out [103] Gap: 0.03440236207600759. Bnd: [210.0; 217.48189075057604].\n",
      "out [104] Branching on variable 13"
     ]
    },
    {
     "name": "stdout",
     "output_type": "stream",
     "text": [
      "\n",
      "out [104] Gap: 0.03440236207600759. Bnd: [210.0; 217.48189075057604].\n",
      "out [105] Branching on variable 4\n"
     ]
    },
    {
     "name": "stdout",
     "output_type": "stream",
     "text": [
      "out [105] Gap: 0.03440236207600759. Bnd: [210.0; 217.48189075057604].\n",
      "out [106] Branching on variable 20\n",
      "out [106] Gap: 0.03440236207600759. Bnd: [210.0; 217.48189075057604].\n",
      "out [107] Branching on variable 27\n",
      "out [107] Gap: 0.03440236207600759. Bnd: [210.0; 217.48189075057604].\n",
      "out [108] Branching on variable 13\n"
     ]
    },
    {
     "name": "stdout",
     "output_type": "stream",
     "text": [
      "out [108] Gap: 0.03440236207600759. Bnd: [210.0; 217.48189075057604].\n",
      "out [109] Branching on variable 7\n",
      "out [109] Gap: 0.03440236207600759. Bnd: [210.0; 217.48189075057604].\n",
      "out [110] Branching on variable 34\n",
      "out [110] Gap: 0.03440236207600759. Bnd: [210.0; 217.48189075057604].\n",
      "out [111] Branching on variable 10\n",
      "out [111] Gap: 0.03440236207600759. Bnd: [210.0; 217.48189075057604].\n",
      "out [112] Branching on variable 5\n"
     ]
    },
    {
     "name": "stdout",
     "output_type": "stream",
     "text": [
      "out [112] Gap: 0.03440236207600759. Bnd: [210.0; 217.48189075057604].\n",
      "out [113] Branching on variable 7\n",
      "out [113] Gap: 0.03440236207600759. Bnd: [210.0; 217.48189075057604].\n",
      "out [114] Branching on variable 31\n",
      "out [114] Gap: 0.03440236207600759. Bnd: [210.0; 217.48189075057604].\n",
      "out [115] Branching on variable 12\n",
      "out [115] Gap: 0.03440236207600759. Bnd: [210.0; 217.48189075057604].\n",
      "out [116] Branching on variable 1"
     ]
    },
    {
     "name": "stdout",
     "output_type": "stream",
     "text": [
      "\n",
      "out [116] Gap: 0.03440236207600759. Bnd: [210.0; 217.48189075057604].\n",
      "out [117] Branching on variable 37\n",
      "out [117] Gap: 0.03440236207600759. Bnd: [210.0; 217.48189075057604].\n",
      "out [118] Branching on variable 39\n",
      "out [118] Gap: 0.03440236207600759. Bnd: [210.0; 217.48189075057604].\n",
      "out [119] Branching on variable 37\n",
      "out [119] Gap: 0.03440236207600759. Bnd: [210.0; 217.48189075057604]."
     ]
    },
    {
     "name": "stdout",
     "output_type": "stream",
     "text": [
      "\n",
      "out [120] Branching on variable 1\n",
      "out [120] Gap: 0.03440236207600759. Bnd: [210.0; 217.48189075057604].\n",
      "out [121] Branching on variable 34\n",
      "out [121] Gap: 0.03440236207600759. Bnd: [210.0; 217.48189075057604].\n",
      "out [122] Branching on variable 21"
     ]
    },
    {
     "name": "stdout",
     "output_type": "stream",
     "text": [
      "\n",
      "out [122] Gap: 0.03440236207600759. Bnd: [210.0; 217.48189075057604].\n",
      "out [123] Branching on variable 28\n",
      "out [123] Gap: 0.03440236207600759. Bnd: [210.0; 217.48189075057604].\n",
      "out [124] Branching on variable 39\n",
      "out [124] Gap: 0.03440236207600759. Bnd: [210.0; 217.48189075057604].\n",
      "out [125] Branching on variable 3\n",
      "out [125] Gap: 0.03440236207600759. Bnd: [210.0; 217.48189075057604].\n",
      "out [126] Branching on variable 7\n"
     ]
    },
    {
     "name": "stdout",
     "output_type": "stream",
     "text": [
      "out [126] Gap: 0.03440236207600759. Bnd: [210.0; 217.48189075057604].\n",
      "out [127] Branching on variable 34\n",
      "out [127] Gap: 0.03440236207600759. Bnd: [210.0; 217.48189075057604].\n",
      "out [128] Branching on variable 11\n",
      "out [128] Gap: 0.03440236207600759. Bnd: [210.0; 217.48189075057604].\n",
      "out [129] Branching on variable 1\n",
      "out [129] Gap: 0.03440236207600759. Bnd: [210.0; 217.48189075057604].\n",
      "out [130] Branching on variable 39\n"
     ]
    },
    {
     "name": "stdout",
     "output_type": "stream",
     "text": [
      "out [130] Gap: 0.03440236207600759. Bnd: [210.0; 217.48189075057604].\n",
      "out [131] Branching on variable 37\n",
      "out [131] Gap: 0.03440236207600759. Bnd: [210.0; 217.48189075057604].\n",
      "out [132] Branching on variable 36\n",
      "out [132] Gap: 0.03440236207600759. Bnd: [210.0; 217.48189075057604].\n",
      "out [133] Branching on variable 32"
     ]
    },
    {
     "name": "stdout",
     "output_type": "stream",
     "text": [
      "\n",
      "out [133] Gap: 0.03440236207600759. Bnd: [210.0; 217.48189075057604].\n",
      "out [134] Branching on variable 21\n",
      "out [134] Gap: 0.03440236207600759. Bnd: [210.0; 217.48189075057604].\n",
      "out [135] Branching on variable 14\n",
      "out [135] Gap: 0.03440236207600759. Bnd: [210.0; 217.48189075057604].\n",
      "out [136] Branching on variable 20\n"
     ]
    },
    {
     "name": "stdout",
     "output_type": "stream",
     "text": [
      "out [136] Gap: 0.03440236207600759. Bnd: [210.0; 217.48189075057604].\n",
      "out [137] Branching on variable 4\n",
      "out [137] Gap: 0.03440236207600759. Bnd: [210.0; 217.48189075057604].\n",
      "out [138] Branching on variable 10\n",
      "out [138] Gap: 0.03440236207600759. Bnd: [210.0; 217.48189075057604].\n",
      "out [139] Branching on variable 28\n",
      "out [139] Gap: 0.03440236207600759. Bnd: [210.0; 217.48189075057604].\n",
      "out [140] Branching on variable 31\n",
      "out [140] Gap: 0.03440236207600759. Bnd: [210.0; 217.48189075057604].\n",
      "out [141] Branching on variable 6\n"
     ]
    },
    {
     "name": "stdout",
     "output_type": "stream",
     "text": [
      "out [141] Gap: 0.03440236207600759. Bnd: [210.0; 217.48189075057604].\n",
      "out [142] Branching on variable 4\n",
      "out [142] Gap: 0.03440236207600759. Bnd: [210.0; 217.48189075057604].\n",
      "out [143] Branching on variable 15\n",
      "out [143] Gap: 0.03440236207600759. Bnd: [210.0; 217.48189075057604].\n",
      "out [144] Branching on variable 13\n",
      "out [144] Gap: 0.03440236207600759. Bnd: [210.0; 217.48189075057604].\n",
      "out [145] Branching on variable 34\n"
     ]
    },
    {
     "name": "stdout",
     "output_type": "stream",
     "text": [
      "out [145] Gap: 0.03440236207600759. Bnd: [210.0; 217.48189075057604].\n",
      "out [146] Branching on variable 39\n",
      "out [146] Gap: 0.03440236207600759. Bnd: [210.0; 217.48189075057604].\n",
      "out [147] Branching on variable 36\n",
      "out [147] Gap: 0.03440236207600759. Bnd: [210.0; 217.48189075057604].\n",
      "out [148] Branching on variable 15\n",
      "out [148] Gap: 0.03440236207600759. Bnd: [210.0; 217.48189075057604].\n",
      "out [149] Branching on variable 34\n",
      "out [149] Gap: 0.03440236207600759. Bnd: [210.0; 217.48189075057604].\n",
      "out [150] Branching on variable 18\n"
     ]
    },
    {
     "name": "stdout",
     "output_type": "stream",
     "text": [
      "out [150] Gap: 0.03440236207600759. Bnd: [210.0; 217.48189075057604].\n",
      "out [151] Branching on variable 20\n",
      "out [151] Gap: 0.03440236207600759. Bnd: [210.0; 217.48189075057604].\n",
      "out [152] Branching on variable 39\n",
      "out [152] Gap: 0.03440236207600759. Bnd: [210.0; 217.48189075057604].\n",
      "out [153] Branching on variable 11\n",
      "out [153] Gap: 0.03440236207600759. Bnd: [210.0; 217.48189075057604].\n",
      "out [154] Branching on variable 6\n",
      "out [154] Gap: 0.03440236207600759. Bnd: [210.0; 217.48189075057604].\n",
      "out [155] Branching on variable 4\n",
      "out [155] Gap: 0.03440236207600759. Bnd: [210.0; 217.48189075057604].\n",
      "out [156] Branching on variable 18\n",
      "out [156] Gap: 0.03440236207600759. Bnd: [210.0; 217.48189075057604].\n",
      "out [157] Branching on variable 34"
     ]
    },
    {
     "name": "stdout",
     "output_type": "stream",
     "text": [
      "\n",
      "out [157] Gap: 0.03440236207600759. Bnd: [210.0; 217.48189075057604].\n",
      "out [158] Branching on variable 5\n",
      "out [158] Gap: 0.03440236207600759. Bnd: [210.0; 217.48189075057604].\n",
      "out [159] Branching on variable 36\n",
      "out [159] Gap: 0.03440236207600759. Bnd: [210.0; 217.48189075057604].\n",
      "out [160] Branching on variable 19"
     ]
    },
    {
     "name": "stdout",
     "output_type": "stream",
     "text": [
      "\n",
      "out [160] Gap: 0.03440236207600759. Bnd: [210.0; 217.48189075057604].\n",
      "out [161] Branching on variable 10\n",
      "out [161] Gap: 0.03440236207600759. Bnd: [210.0; 217.48189075057604].\n",
      "out [162] Branching on variable 36\n",
      "out [162] Gap: 0.03440236207600759. Bnd: [210.0; 217.48189075057604].\n",
      "out [163] Branching on variable 31\n"
     ]
    },
    {
     "name": "stdout",
     "output_type": "stream",
     "text": [
      "out [163] Gap: 0.03440236207600759. Bnd: [210.0; 217.48189075057604].\n",
      "out [164] Branching on variable 11\n",
      "out [164] Gap: 0.03440236207600759. Bnd: [210.0; 217.48189075057604].\n",
      "out [165] Branching on variable 37\n",
      "out [165] Gap: 0.03440236207600759. Bnd: [210.0; 217.48189075057604].\n",
      "out [166] Branching on variable 24\n",
      "out [166] Gap: 0.03440236207600759. Bnd: [210.0; 217.48189075057604].\n",
      "out [167] Branching on variable 31\n"
     ]
    },
    {
     "name": "stdout",
     "output_type": "stream",
     "text": [
      "out [167] Gap: 0.03440236207600759. Bnd: [210.0; 217.48189075057604].\n",
      "out [168] Branching on variable 27\n",
      "out [168] Gap: 0.03440236207600759. Bnd: [210.0; 217.48189075057604].\n",
      "out [169] Branching on variable 36\n",
      "out [169] Gap: 0.03440236207600759. Bnd: [210.0; 217.48189075057604].\n",
      "out [170] Branching on variable 12\n",
      "out [170] Gap: 0.03440236207600759. Bnd: [210.0; 217.48189075057604].\n",
      "out [171] Branching on variable 37\n",
      "out [171] Gap: 0.03440236207600759. Bnd: [210.0; 217.48189075057604].\n",
      "out [172] Branching on variable 23\n"
     ]
    },
    {
     "name": "stdout",
     "output_type": "stream",
     "text": [
      "out [172] Gap: 0.03440236207600759. Bnd: [210.0; 217.48189075057604].\n",
      "out [173] Branching on variable 14\n",
      "out [173] Gap: 0.03440236207600759. Bnd: [210.0; 217.48189075057604].\n",
      "out [174] Branching on variable 20\n",
      "out [174] Gap: 0.03440236207600759. Bnd: [210.0; 217.48189075057604].\n",
      "out [175] Branching on variable 28\n",
      "out [175] Gap: 0.03440236207600759. Bnd: [210.0; 217.48189075057604]."
     ]
    },
    {
     "name": "stdout",
     "output_type": "stream",
     "text": [
      "\n",
      "out [176] Branching on variable 1\n",
      "out [176] Gap: 0.03440236207600759. Bnd: [210.0; 217.48189075057604].\n",
      "out [177] Branching on variable 20\n",
      "out [177] Gap: 0.03440236207600759. Bnd: [210.0; 217.48189075057604]."
     ]
    },
    {
     "name": "stdout",
     "output_type": "stream",
     "text": [
      "\n",
      "out [178] Branching on variable 39\n",
      "out [178] Gap: 0.03440236207600759. Bnd: [210.0; 217.48189075057604].\n",
      "out [179] Branching on variable 28\n",
      "out [179] Gap: 0.03440236207600759. Bnd: [210.0; 217.48189075057604].\n",
      "out [180] Branching on variable 32\n",
      "out [180] Gap: 0.03440236207600759. Bnd: [210.0; 217.48189075057604].\n",
      "out [181] Branching on variable 1"
     ]
    },
    {
     "name": "stdout",
     "output_type": "stream",
     "text": [
      "\n",
      "out [181] Gap: 0.03440236207600759. Bnd: [210.0; 217.48189075057604].\n",
      "out [182] Branching on variable 14\n",
      "out [182] Gap: 0.03440236207600759. Bnd: [210.0; 217.48189075057604].\n",
      "out [183] Branching on variable 35\n",
      "out [183] Gap: 0.03440236207600759. Bnd: [210.0; 217.48189075057604].\n",
      "out [184] Branching on variable 40\n",
      "out [184] Gap: 0.03440236207600759. Bnd: [210.0; 217.48189075057604].\n",
      "out [185] Branching on variable 37\n"
     ]
    },
    {
     "name": "stdout",
     "output_type": "stream",
     "text": [
      "out [185] Gap: 0.03440236207600759. Bnd: [210.0; 217.48189075057604].\n",
      "out [186] Branching on variable 24\n",
      "out [186] Gap: 0.03440236207600759. Bnd: [210.0; 217.48189075057604].\n",
      "out [187] Branching on variable 18\n",
      "out [187] Gap: 0.03440236207600759. Bnd: [210.0; 217.48189075057604].\n",
      "out [188] Branching on variable 15\n"
     ]
    },
    {
     "name": "stdout",
     "output_type": "stream",
     "text": [
      "out [188] Gap: 0.03440236207600759. Bnd: [210.0; 217.48189075057604].\n",
      "out [189] Branching on variable 34\n",
      "out [189] Gap: 0.03440236207600759. Bnd: [210.0; 217.48189075057604].\n",
      "out [190] Branching on variable 11\n",
      "out [190] Gap: 0.03440236207600759. Bnd: [210.0; 217.48189075057604].\n",
      "out [191] Branching on variable 37\n",
      "out [191] Gap: 0.03440236207600759. Bnd: [210.0; 217.48189075057604].\n",
      "out [192] Branching on variable 31\n"
     ]
    },
    {
     "name": "stdout",
     "output_type": "stream",
     "text": [
      "out [192] Gap: 0.03440236207600759. Bnd: [210.0; 217.48189075057604].\n",
      "out [193] Branching on variable 7\n",
      "out [193] Gap: 0.03440236207600759. Bnd: [210.0; 217.48189075057604].\n",
      "out [194] Branching on variable 11\n",
      "out [194] Gap: 0.03440236207600759. Bnd: [210.0; 217.48189075057604].\n",
      "out [195] Branching on variable 36\n"
     ]
    },
    {
     "name": "stdout",
     "output_type": "stream",
     "text": [
      "out [195] Gap: 0.03440236207600759. Bnd: [210.0; 217.48189075057604].\n",
      "out [196] Branching on variable 38\n",
      "out [196] Gap: 0.03440236207600759. Bnd: [210.0; 217.48189075057604].\n",
      "out [197] Branching on variable 22\n"
     ]
    },
    {
     "name": "stdout",
     "output_type": "stream",
     "text": [
      "out [197] Gap: 0.03440236207600759. Bnd: [210.0; 217.48189075057604].\n",
      "out [198] Branching on variable 39\n",
      "out [198] Gap: 0.03440236207600759. Bnd: [210.0; 217.48189075057604].\n",
      "out [199] Branching on variable 10\n",
      "out [199] Gap: 0.03440236207600759. Bnd: [210.0; 217.48189075057604].\n",
      "out [200] Branching on variable 23\n",
      "out [200] Gap: 0.03440236207600759. Bnd: [210.0; 217.48189075057604].\n",
      "out [201] Branching on variable 39\n",
      "out [201] Gap: 0.03440236207600759. Bnd: [210.0; 217.48189075057604].\n",
      "out [202] Branching on variable 37\n"
     ]
    },
    {
     "name": "stdout",
     "output_type": "stream",
     "text": [
      "out [202] Gap: 0.03440236207600759. Bnd: [210.0; 217.48189075057604].\n",
      "out [203] Branching on variable 22\n",
      "out [203] Gap: 0.03440236207600759. Bnd: [210.0; 217.48189075057604].\n",
      "out [204] Branching on variable 34\n"
     ]
    },
    {
     "name": "stdout",
     "output_type": "stream",
     "text": [
      "out [204] Gap: 0.03440236207600759. Bnd: [210.0; 217.48189075057604].\n",
      "out [205] Branching on variable 27\n",
      "out [205] Gap: 0.03440236207600759. Bnd: [210.0; 217.48189075057604].\n",
      "out [206] Branching on variable 31\n",
      "out [206] Gap: 0.03440236207600759. Bnd: [210.0; 217.48189075057604].\n",
      "out [207] Branching on variable 26\n"
     ]
    },
    {
     "name": "stdout",
     "output_type": "stream",
     "text": [
      "out [207] Gap: 0.03440236207600759. Bnd: [210.0; 217.48189075057604].\n",
      "out [208] Branching on variable 37\n",
      "out [208] Gap: 0.03440236207600759. Bnd: [210.0; 217.48189075057604].\n",
      "out [209] Branching on variable 38\n",
      "out [209] Gap: 0.03440236207600759. Bnd: [210.0; 217.48189075057604].\n",
      "out [210] Branching on variable 14\n"
     ]
    },
    {
     "name": "stdout",
     "output_type": "stream",
     "text": [
      "out [210] Gap: 0.03440236207600759. Bnd: [210.0; 217.48189075057604].\n",
      "out [211] Branching on variable 4\n",
      "out [211] Gap: 0.03440236207600759. Bnd: [210.0; 217.48189075057604].\n",
      "out [212] Branching on variable 19\n",
      "out [212] Gap: 0.03440236207600759. Bnd: [210.0; 217.48189075057604].\n",
      "out [213] Branching on variable 28\n"
     ]
    },
    {
     "name": "stdout",
     "output_type": "stream",
     "text": [
      "out [213] Gap: 0.03440236207600759. Bnd: [210.0; 217.48189075057604].\n",
      "out [214] Branching on variable 37\n",
      "out [214] Gap: 0.03440236207600759. Bnd: [210.0; 217.48189075057604].\n",
      "out [215] Branching on variable 22\n",
      "out [215] Gap: 0.03440236207600759. Bnd: [210.0; 217.48189075057604].\n",
      "out [216] Branching on variable 21\n",
      "out [216] Gap: 0.03440236207600759. Bnd: [210.0; 217.48189075057604].\n",
      "out [217] Branching on variable 4"
     ]
    },
    {
     "name": "stdout",
     "output_type": "stream",
     "text": [
      "\n",
      "out [217] Gap: 0.03440236207600759. Bnd: [210.0; 217.48189075057604].\n",
      "out [218] Branching on variable 14\n",
      "out [218] Gap: 0.03440236207600759. Bnd: [210.0; 217.48189075057604].\n",
      "out [219] Branching on variable 19\n",
      "out [219] Gap: 0.03440236207600759. Bnd: [210.0; 217.48189075057604].\n",
      "out [220] Branching on variable 8\n",
      "out [220] Gap: 0.03440236207600759. Bnd: [210.0; 217.48189075057604].\n",
      "out [221] Branching on variable 7"
     ]
    },
    {
     "name": "stdout",
     "output_type": "stream",
     "text": [
      "\n",
      "out [221] Gap: 0.03440236207600759. Bnd: [210.0; 217.48189075057604].\n",
      "out [222] Branching on variable 22\n",
      "out [222] Gap: 0.03440236207600759. Bnd: [210.0; 217.48189075057604].\n",
      "out [223] Branching on variable 27\n",
      "out [223] Gap: 0.03440236207600759. Bnd: [210.0; 217.48189075057604].\n",
      "out [224] Branching on variable 26\n",
      "out [224] Gap: 0.03440236207600759. Bnd: [210.0; 217.48189075057604].\n",
      "out [225] Branching on variable 28\n",
      "out [225] Gap: 0.03440236207600759. Bnd: [210.0; 217.48189075057604]."
     ]
    },
    {
     "name": "stdout",
     "output_type": "stream",
     "text": [
      "\n",
      "out [226] Branching on variable 27\n",
      "out [226] Gap: 0.03440236207600759. Bnd: [210.0; 217.48189075057604].\n",
      "out [227] Branching on variable 31\n",
      "out [227] Gap: 0.03440236207600759. Bnd: [210.0; 217.48189075057604].\n",
      "out [228] Branching on variable 21\n",
      "out [228] Gap: 0.03440236207600759. Bnd: [210.0; 217.48189075057604].\n",
      "out [229] Branching on variable 23\n",
      "out [229] Gap: 0.03440236207600759. Bnd: [210.0; 217.48189075057604].\n",
      "out [230] Branching on variable 17\n",
      "out [230] Gap: 0.03440236207600759. Bnd: [210.0; 217.48189075057604].\n",
      "out [231] Branching on variable 31"
     ]
    },
    {
     "name": "stdout",
     "output_type": "stream",
     "text": [
      "\n",
      "out [231] Gap: 0.03440236207600759. Bnd: [210.0; 217.48189075057604].\n",
      "out [232] Branching on variable 37\n",
      "out [232] Gap: 0.03440236207600759. Bnd: [210.0; 217.48189075057604].\n",
      "out [233] Branching on variable 4\n",
      "out [233] Gap: 0.03440236207600759. Bnd: [210.0; 217.48189075057604].\n",
      "out [234] Branching on variable 22\n",
      "out [234] Gap: 0.03440236207600759. Bnd: [210.0; 217.48189075057604].\n",
      "out [235] Branching on variable 21\n",
      "out [235] Gap: 0.03440236207600759. Bnd: [210.0; 217.48189075057604].\n",
      "out [236] Branching on variable 7"
     ]
    },
    {
     "name": "stdout",
     "output_type": "stream",
     "text": [
      "\n",
      "out [236] Gap: 0.03440236207600759. Bnd: [210.0; 217.48189075057604].\n",
      "out [237] Branching on variable 34\n",
      "out [237] Gap: 0.03440236207600759. Bnd: [210.0; 217.48189075057604].\n",
      "out [238] Branching on variable 27\n"
     ]
    },
    {
     "name": "stdout",
     "output_type": "stream",
     "text": [
      "out [238] Gap: 0.03440236207600759. Bnd: [210.0; 217.48189075057604].\n",
      "out [239] Branching on variable 15\n",
      "out [239] Gap: 0.03440236207600759. Bnd: [210.0; 217.48189075057604].\n",
      "out [240] Branching on variable 4\n",
      "out [240] Gap: 0.03440236207600759. Bnd: [210.0; 217.48189075057604].\n",
      "out [241] Branching on variable 21"
     ]
    },
    {
     "name": "stdout",
     "output_type": "stream",
     "text": [
      "\n",
      "out [241] Gap: 0.03440236207600759. Bnd: [210.0; 217.48189075057604].\n",
      "out [242] Branching on variable 39\n",
      "out [242] Gap: 0.03440236207600759. Bnd: [210.0; 217.48189075057604].\n",
      "out [243] Branching on variable 15\n",
      "out [243] Gap: 0.03440236207600759. Bnd: [210.0; 217.48189075057604].\n",
      "out [244] Branching on variable 28\n",
      "out [244] Gap: 0.03440236207600759. Bnd: [210.0; 217.48189075057604].\n",
      "out [245] Branching on variable 36"
     ]
    },
    {
     "name": "stdout",
     "output_type": "stream",
     "text": [
      "\n",
      "out [245] Gap: 0.03440236207600759. Bnd: [210.0; 217.48189075057604].\n",
      "out [246] Branching on variable 31\n",
      "out [246] Gap: 0.03440236207600759. Bnd: [210.0; 217.48189075057604].\n",
      "out [247] Branching on variable 11\n",
      "out [247] Gap: 0.03440236207600759. Bnd: [210.0; 217.48189075057604].\n",
      "out [248] Branching on variable 22\n",
      "out [248] Gap: 0.03440236207600759. Bnd: [210.0; 217.48189075057604].\n",
      "out [249] Branching on variable 31\n",
      "out [249] Gap: 0.03440236207600759. Bnd: [210.0; 217.48189075057604].\n",
      "out [250] Branching on variable 12\n"
     ]
    },
    {
     "name": "stdout",
     "output_type": "stream",
     "text": [
      "out [250] Gap: 0.03440236207600759. Bnd: [210.0; 217.48189075057604].\n",
      "out [251] Branching on variable 34\n",
      "out [251] Gap: 0.03440236207600759. Bnd: [210.0; 217.48189075057604].\n",
      "out [252] Branching on variable 8\n",
      "out [252] Gap: 0.03440236207600759. Bnd: [210.0; 217.48189075057604].\n",
      "out [253] Branching on variable 27\n",
      "out [253] Gap: 0.03440236207600759. Bnd: [210.0; 217.48189075057604].\n",
      "out [254] Branching on variable 36"
     ]
    },
    {
     "name": "stdout",
     "output_type": "stream",
     "text": [
      "\n",
      "out [254] Gap: 0.03440236207600759. Bnd: [210.0; 217.48189075057604].\n",
      "out [255] Branching on variable 39\n",
      "out [255] Gap: 0.03440236207600759. Bnd: [210.0; 217.48189075057604].\n",
      "out [256] Branching on variable 18\n",
      "out [256] Gap: 0.03440236207600759. Bnd: [210.0; 217.48189075057604].\n",
      "out [257] Branching on variable 20\n",
      "out [257] Gap: 0.03440236207600759. Bnd: [210.0; 217.48189075057604].\n",
      "out [258] Branching on variable 23\n"
     ]
    },
    {
     "name": "stdout",
     "output_type": "stream",
     "text": [
      "out [258] Gap: 0.03440236207600759. Bnd: [210.0; 217.48189075057604].\n",
      "out [259] Branching on variable 17\n",
      "out [259] Gap: 0.03440236207600759. Bnd: [210.0; 217.48189075057604].\n",
      "out [260] Branching on variable 32\n",
      "out [260] Gap: 0.03440236207600759. Bnd: [210.0; 217.48189075057604].\n",
      "out [261] Branching on variable 7\n",
      "out [261] Gap: 0.03440236207600759. Bnd: [210.0; 217.48189075057604].\n",
      "out [262] Branching on variable 38"
     ]
    },
    {
     "name": "stdout",
     "output_type": "stream",
     "text": [
      "\n",
      "out [262] Gap: 0.03440236207600759. Bnd: [210.0; 217.48189075057604].\n",
      "out [263] Branching on variable 37\n",
      "out [263] Gap: 0.03440236207600759. Bnd: [210.0; 217.48189075057604].\n",
      "out [264] Branching on variable 7\n",
      "out [264] Gap: 0.03440236207600759. Bnd: [210.0; 217.48189075057604].\n",
      "out [265] Branching on variable 38"
     ]
    },
    {
     "name": "stdout",
     "output_type": "stream",
     "text": [
      "\n",
      "out [265] Gap: 0.03440236207600759. Bnd: [210.0; 217.48189075057604].\n",
      "out [266] Branching on variable 34\n",
      "out [266] Gap: 0.03440236207600759. Bnd: [210.0; 217.48189075057604].\n",
      "out [267] Branching on variable 28\n",
      "out [267] Gap: 0.03440236207600759. Bnd: [210.0; 217.48189075057604].\n",
      "out [268] Branching on variable 37\n",
      "out [268] Gap: 0.03440236207600759. Bnd: [210.0; 217.48189075057604].\n",
      "out [269] Branching on variable 31\n"
     ]
    },
    {
     "name": "stdout",
     "output_type": "stream",
     "text": [
      "out [269] Gap: 0.03440236207600759. Bnd: [210.0; 217.48189075057604].\n",
      "out [270] Branching on variable 24\n",
      "out [270] Gap: 0.03440236207600759. Bnd: [210.0; 217.48189075057604].\n",
      "out [271] Branching on variable 18\n",
      "out [271] Gap: 0.03440236207600759. Bnd: [210.0; 217.48189075057604].\n",
      "out [272] Branching on variable 36\n",
      "out [272] Gap: 0.03440236207600759. Bnd: [210.0; 217.48189075057604].\n",
      "out [273] Branching on variable 24\n"
     ]
    },
    {
     "name": "stdout",
     "output_type": "stream",
     "text": [
      "out [273] Gap: 0.03440236207600759. Bnd: [210.0; 217.48189075057604].\n",
      "out [274] Branching on variable 11\n",
      "out [274] Gap: 0.03440236207600759. Bnd: [210.0; 217.48189075057604].\n",
      "out [275] Branching on variable 7\n",
      "out [275] Gap: 0.03440236207600759. Bnd: [210.0; 217.48189075057604].\n",
      "out [276] Branching on variable 31\n",
      "out [276] Gap: 0.03440236207600759. Bnd: [210.0; 217.48189075057604].\n",
      "out [277] Branching on variable 7\n",
      "out [277] Gap: 0.03440236207600759. Bnd: [210.0; 217.48189075057604].\n",
      "out [278] Branching on variable 27\n"
     ]
    },
    {
     "name": "stdout",
     "output_type": "stream",
     "text": [
      "out [278] Gap: 0.03440236207600759. Bnd: [210.0; 217.48189075057604].\n",
      "out [279] Branching on variable 37\n",
      "out [279] Gap: 0.03440236207600759. Bnd: [210.0; 217.48189075057604].\n",
      "out [280] Branching on variable 31\n",
      "out [280] Gap: 0.03440236207600759. Bnd: [210.0; 217.48189075057604].\n",
      "out [281] Branching on variable 17\n",
      "out [281] Gap: 0.03440236207600759. Bnd: [210.0; 217.48189075057604].\n",
      "out [282] Branching on variable 22"
     ]
    },
    {
     "name": "stdout",
     "output_type": "stream",
     "text": [
      "\n",
      "out [282] Gap: 0.03440236207600759. Bnd: [210.0; 217.48189075057604].\n",
      "out [283] Branching on variable 18\n",
      "out [283] Gap: 0.03440236207600759. Bnd: [210.0; 217.48189075057604].\n",
      "out [284] Branching on variable 39\n",
      "out [284] Gap: 0.03440236207600759. Bnd: [210.0; 217.48189075057604].\n",
      "out [285] Branching on variable 11\n"
     ]
    },
    {
     "name": "stdout",
     "output_type": "stream",
     "text": [
      "out [285] Gap: 0.03440236207600759. Bnd: [210.0; 217.48189075057604].\n",
      "out [286] Branching on variable 7\n"
     ]
    },
    {
     "name": "stdout",
     "output_type": "stream",
     "text": [
      "out [286] Gap: 0.03440236207600759. Bnd: [210.0; 217.48189075057604].\n",
      "out [287] Branching on variable 26\n",
      "out [287] Gap: 0.03440236207600759. Bnd: [210.0; 217.48189075057604].\n",
      "out [288] Branching on variable 1\n",
      "out [288] Gap: 0.03440236207600759. Bnd: [210.0; 217.48189075057604].\n",
      "out [289] Branching on variable 23"
     ]
    },
    {
     "name": "stdout",
     "output_type": "stream",
     "text": [
      "\n",
      "out [289] Gap: 0.03440236207600759. Bnd: [210.0; 217.48189075057604].\n",
      "out [290] Branching on variable 19\n",
      "out [290] Gap: 0.03440236207600759. Bnd: [210.0; 217.48189075057604].\n",
      "out [291] Branching on variable 13\n",
      "out [291] Gap: 0.03440236207600759. Bnd: [210.0; 217.48189075057604].\n",
      "out [292] Branching on variable 31\n",
      "out [292] Gap: 0.03440236207600759. Bnd: [210.0; 217.48189075057604].\n",
      "out [293] Branching on variable 32\n"
     ]
    },
    {
     "name": "stdout",
     "output_type": "stream",
     "text": [
      "out [293] Gap: 0.03440236207600759. Bnd: [210.0; 217.48189075057604].\n",
      "out [294] Branching on variable 7\n",
      "out [294] Gap: 0.03440236207600759. Bnd: [210.0; 217.48189075057604].\n",
      "out [295] Branching on variable 31\n",
      "out [295] Gap: 0.03440236207600759. Bnd: [210.0; 217.48189075057604].\n",
      "out [296] Branching on variable 37\n",
      "out [296] Gap: 0.03440236207600759. Bnd: [210.0; 217.48189075057604].\n",
      "out [297] Branching on variable 12\n",
      "out [297] Gap: 0.03440236207600759. Bnd: [210.0; 217.48189075057604].\n",
      "out [298] Branching on variable 4\n"
     ]
    },
    {
     "name": "stdout",
     "output_type": "stream",
     "text": [
      "out [298] Gap: 0.03440236207600759. Bnd: [210.0; 217.48189075057604].\n",
      "out [299] Branching on variable 1\n",
      "out [299] Gap: 0.03440236207600759. Bnd: [210.0; 217.48189075057604].\n",
      "out [300] Branching on variable 10\n",
      "out [300] Gap: 0.03440236207600759. Bnd: [210.0; 217.48189075057604].\n",
      "out [301] Branching on variable 39\n",
      "out [301] Gap: 0.03440236207600759. Bnd: [210.0; 217.48189075057604]."
     ]
    },
    {
     "name": "stdout",
     "output_type": "stream",
     "text": [
      "\n",
      "out [302] Branching on variable 36\n",
      "out [302] Gap: 0.03440236207600759. Bnd: [210.0; 217.48189075057604].\n",
      "out [303] Branching on variable 40\n",
      "out [303] Gap: 0.03440236207600759. Bnd: [210.0; 217.48189075057604].\n",
      "out [304] Branching on variable 3\n",
      "out [304] Gap: 0.03440236207600759. Bnd: [210.0; 217.48189075057604].\n",
      "out [305] Branching on variable 14\n",
      "out [305] Gap: 0.03440236207600759. Bnd: [210.0; 217.48189075057604].\n",
      "out [306] Branching on variable 4\n"
     ]
    },
    {
     "name": "stdout",
     "output_type": "stream",
     "text": [
      "out [306] Gap: 0.03440236207600759. Bnd: [210.0; 217.48189075057604].\n",
      "out [307] Branching on variable 28\n",
      "out [307] Gap: 0.03440236207600759. Bnd: [210.0; 217.48189075057604].\n",
      "out [308] Branching on variable 22\n",
      "out [308] Gap: 0.03440236207600759. Bnd: [210.0; 217.48189075057604].\n",
      "out [309] Branching on variable 31\n",
      "out [309] Gap: 0.03440236207600759. Bnd: [210.0; 217.48189075057604].\n",
      "out [310] Branching on variable 19\n",
      "out [310] Gap: 0.03440236207600759. Bnd: [210.0; 217.48189075057604].\n",
      "out [311] Branching on variable 3\n",
      "out [311] Gap: 0.03440236207600759. Bnd: [210.0; 217.48189075057604].\n",
      "out [312] Branching on variable 22\n"
     ]
    },
    {
     "name": "stdout",
     "output_type": "stream",
     "text": [
      "out [312] Gap: 0.03440236207600759. Bnd: [210.0; 217.48189075057604].\n",
      "out [313] Branching on variable 28\n",
      "out [313] Gap: 0.03440236207600759. Bnd: [210.0; 217.48189075057604].\n",
      "out [314] Branching on variable 34\n",
      "out [314] Gap: 0.03440236207600759. Bnd: [210.0; 217.48189075057604].\n",
      "out [315] Branching on variable 12\n",
      "out [315] Gap: 0.03440236207600759. Bnd: [210.0; 217.48189075057604].\n",
      "out [316] Branching on variable 27\n",
      "out [316] Gap: 0.03440236207600759. Bnd: [210.0; 217.48189075057604].\n",
      "out [317] Branching on variable 12"
     ]
    },
    {
     "name": "stdout",
     "output_type": "stream",
     "text": [
      "\n",
      "out [317] Gap: 0.03440236207600759. Bnd: [210.0; 217.48189075057604].\n",
      "out [318] Branching on variable 31\n",
      "out [318] Gap: 0.03440236207600759. Bnd: [210.0; 217.48189075057604].\n",
      "out [319] Branching on variable 14\n",
      "out [319] Gap: 0.03440236207600759. Bnd: [210.0; 217.48189075057604].\n",
      "out [320] Branching on variable 40\n",
      "out [320] Gap: 0.03440236207600759. Bnd: [210.0; 217.48189075057604].\n",
      "out [321] Branching on variable 26\n"
     ]
    },
    {
     "name": "stdout",
     "output_type": "stream",
     "text": [
      "out [321] Gap: 0.03440236207600759. Bnd: [210.0; 217.48189075057604].\n",
      "out [322] Branching on variable 18\n",
      "out [322] Gap: 0.03440236207600759. Bnd: [210.0; 217.48189075057604].\n",
      "out [323] Branching on variable 34\n",
      "out [323] Gap: 0.03440236207600759. Bnd: [210.0; 217.48189075057604].\n",
      "out [324] Branching on variable 39\n",
      "out [324] Gap: 0.03440236207600759. Bnd: [210.0; 217.48189075057604].\n",
      "out [325] Branching on variable 17"
     ]
    },
    {
     "name": "stdout",
     "output_type": "stream",
     "text": [
      "\n",
      "out [325] Gap: 0.03440236207600759. Bnd: [210.0; 217.48189075057604].\n",
      "out [326] Branching on variable 12\n",
      "out [326] Gap: 0.03440236207600759. Bnd: [210.0; 217.48189075057604].\n",
      "out [327] Branching on variable 23\n"
     ]
    },
    {
     "name": "stdout",
     "output_type": "stream",
     "text": [
      "out [327] Gap: 0.03440236207600759. Bnd: [210.0; 217.48189075057604].\n",
      "out [328] Branching on variable 27\n",
      "out [328] Gap: 0.03440236207600759. Bnd: [210.0; 217.48189075057604].\n",
      "out [329] Branching on variable 31\n",
      "out [329] Gap: 0.03440236207600759. Bnd: [210.0; 217.48189075057604].\n",
      "out [330] Branching on variable 4\n",
      "out [330] Gap: 0.03440236207600759. Bnd: [210.0; 217.48189075057604].\n",
      "out [331] Branching on variable 37\n",
      "out [331] Gap: 0.03440236207600759. Bnd: [210.0; 217.48189075057604].\n",
      "out [332] Branching on variable 10\n"
     ]
    },
    {
     "name": "stdout",
     "output_type": "stream",
     "text": [
      "out [332] Gap: 0.03440236207600759. Bnd: [210.0; 217.48189075057604].\n",
      "out [333] Branching on variable 6\n",
      "out [333] Gap: 0.03440236207600759. Bnd: [210.0; 217.48189075057604].\n",
      "out [334] Branching on variable 1\n",
      "out [334] Gap: 0.03440236207600759. Bnd: [210.0; 217.48189075057604].\n",
      "out [335] Branching on variable 5\n",
      "out [335] Gap: 0.03440236207600759. Bnd: [210.0; 217.48189075057604]."
     ]
    },
    {
     "name": "stdout",
     "output_type": "stream",
     "text": [
      "\n",
      "out [336] Branching on variable 13\n",
      "out [336] Gap: 0.03440236207600759. Bnd: [210.0; 217.48189075057604].\n",
      "out [337] Branching on variable 7\n",
      "out [337] Gap: 0.03440236207600759. Bnd: [210.0; 217.48189075057604].\n",
      "out [338] Branching on variable 14\n",
      "out [338] Gap: 0.03440236207600759. Bnd: [210.0; 217.48189075057604].\n",
      "out [339] Branching on variable 32\n",
      "out [339] Gap: 0.03440236207600759. Bnd: [210.0; 217.48189075057604].\n",
      "out [340] Branching on variable 39\n"
     ]
    },
    {
     "name": "stdout",
     "output_type": "stream",
     "text": [
      "out [340] Gap: 0.03440236207600759. Bnd: [210.0; 217.48189075057604].\n",
      "out [341] Branching on variable 19\n",
      "out [341] Gap: 0.03440236207600759. Bnd: [210.0; 217.48189075057604].\n",
      "out [342] Branching on variable 28\n",
      "out [342] Gap: 0.03440236207600759. Bnd: [210.0; 217.48189075057604].\n",
      "out [343] Branching on variable 23\n",
      "out [343] Gap: 0.03440236207600759. Bnd: [210.0; 217.48189075057604].\n",
      "out [344] Branching on variable 12\n",
      "out [344] Gap: 0.03440236207600759. Bnd: [210.0; 217.48189075057604].\n",
      "out [345] Branching on variable 17\n"
     ]
    },
    {
     "name": "stdout",
     "output_type": "stream",
     "text": [
      "out [345] Gap: 0.03440236207600759. Bnd: [210.0; 217.48189075057604].\n",
      "out [346] Branching on variable 32\n",
      "out [346] Gap: 0.03440236207600759. Bnd: [210.0; 217.48189075057604].\n",
      "out [347] Branching on variable 4\n",
      "out [347] Gap: 0.03440236207600759. Bnd: [210.0; 217.48189075057604].\n",
      "out [348] Branching on variable 11\n",
      "out [348] Gap: 0.03440236207600759. Bnd: [210.0; 217.48189075057604].\n",
      "out [349] Branching on variable 12\n",
      "out [349] Gap: 0.03440236207600759. Bnd: [210.0; 217.48189075057604].\n",
      "out [350] Branching on variable 18"
     ]
    },
    {
     "name": "stdout",
     "output_type": "stream",
     "text": [
      "\n",
      "out [350] Gap: 0.03440236207600759. Bnd: [210.0; 217.48189075057604].\n",
      "out [351] Branching on variable 28\n",
      "out [351] Gap: 0.03440236207600759. Bnd: [210.0; 217.48189075057604].\n",
      "out [352] Branching on variable 14\n",
      "out [352] Gap: 0.03440236207600759. Bnd: [210.0; 217.48189075057604].\n",
      "out [353] Branching on variable 7\n",
      "out [353] Gap: 0.03440236207600759. Bnd: [210.0; 217.48189075057604].\n",
      "out [354] Branching on variable 39\n"
     ]
    },
    {
     "name": "stdout",
     "output_type": "stream",
     "text": [
      "out [354] Gap: 0.03440236207600759. Bnd: [210.0; 217.48189075057604].\n",
      "out [355] Branching on variable 36\n",
      "out [355] Gap: 0.03440236207600759. Bnd: [210.0; 217.48189075057604].\n",
      "out [356] Branching on variable 14\n",
      "out [356] Gap: 0.03440236207600759. Bnd: [210.0; 217.48189075057604].\n",
      "out [357] Branching on variable 40\n",
      "out [357] Gap: 0.03440236207600759. Bnd: [210.0; 217.48189075057604]."
     ]
    },
    {
     "name": "stdout",
     "output_type": "stream",
     "text": [
      "\n",
      "out [358] Branching on variable 19\n",
      "out [358] Gap: 0.03440236207600759. Bnd: [210.0; 217.48189075057604].\n",
      "out [359] Branching on variable 12\n",
      "out [359] Gap: 0.03440236207600759. Bnd: [210.0; 217.48189075057604].\n",
      "out [360] Branching on variable 13\n"
     ]
    },
    {
     "name": "stdout",
     "output_type": "stream",
     "text": [
      "out [360] Gap: 0.03440236207600759. Bnd: [210.0; 217.48189075057604].\n",
      "out [361] Branching on variable 14\n",
      "out [361] Gap: 0.03440236207600759. Bnd: [210.0; 217.48189075057604].\n",
      "out [362] Branching on variable 10\n",
      "out [362] Gap: 0.03440236207600759. Bnd: [210.0; 217.48189075057604].\n",
      "out [363] Branching on variable 6\n",
      "out [363] Gap: 0.03440236207600759. Bnd: [210.0; 217.48189075057604].\n",
      "out [364] Branching on variable 40\n"
     ]
    },
    {
     "name": "stdout",
     "output_type": "stream",
     "text": [
      "out [364] Gap: 0.03440236207600759. Bnd: [210.0; 217.48189075057604].\n",
      "out [365] Branching on variable 34\n",
      "out [365] Gap: 0.03440236207600759. Bnd: [210.0; 217.48189075057604].\n",
      "out [366] Branching on variable 40\n",
      "out [366] Gap: 0.03440236207600759. Bnd: [210.0; 217.48189075057604].\n",
      "out [367] Branching on variable 11\n"
     ]
    },
    {
     "name": "stdout",
     "output_type": "stream",
     "text": [
      "out [367] Gap: 0.03440236207600759. Bnd: [210.0; 217.48189075057604].\n",
      "out [368] Branching on variable 35\n",
      "out [368] Gap: 0.03440236207600759. Bnd: [210.0; 217.48189075057604].\n",
      "out [369] Branching on variable 18\n",
      "out [369] Gap: 0.03440236207600759. Bnd: [210.0; 217.48189075057604].\n",
      "out [370] Branching on variable 31\n",
      "\n",
      "out [370] Found a new incumbent. Value: 212.0\n",
      "out [370] Gap: 0.025206194095779087. Bnd: [212.0; 217.48189075057604].\n",
      "out [371] Branching on variable 35\n"
     ]
    },
    {
     "name": "stdout",
     "output_type": "stream",
     "text": [
      "out [371] Gap: 0.025206194095779087. Bnd: [212.0; 217.48189075057604].\n",
      "out [372] Branching on variable 9\n",
      "out [372] Gap: 0.025206194095779087. Bnd: [212.0; 217.48189075057604].\n",
      "out [373] Branching on variable 22\n",
      "out [373] Gap: 0.025206194095779087. Bnd: [212.0; 217.48189075057604].\n",
      "out [374] Branching on variable 39\n",
      "out [374] Gap: 0.025206194095779087. Bnd: [212.0; 217.48189075057604].\n",
      "out [375] Branching on variable 38"
     ]
    },
    {
     "name": "stdout",
     "output_type": "stream",
     "text": [
      "\n",
      "out [375] Gap: 0.025206194095779087. Bnd: [212.0; 217.48189075057604].\n",
      "out [376] Branching on variable 27\n",
      "out [376] Gap: 0.025206194095779087. Bnd: [212.0; 217.48189075057604].\n",
      "out [377] Branching on variable 22\n",
      "out [377] Gap: 0.025206194095779087. Bnd: [212.0; 217.48189075057604].\n",
      "out [378] Branching on variable 37\n",
      "out [378] Gap: 0.025206194095779087. Bnd: [212.0; 217.48189075057604].\n",
      "out [379] Branching on variable 27"
     ]
    },
    {
     "name": "stdout",
     "output_type": "stream",
     "text": [
      "\n",
      "out [379] Gap: 0.025206194095779087. Bnd: [212.0; 217.48189075057604].\n",
      "out [380] Branching on variable 4\n",
      "out [380] Gap: 0.025206194095779087. Bnd: [212.0; 217.48189075057604].\n",
      "out [381] Branching on variable 31\n",
      "out [381] Gap: 0.025206194095779087. Bnd: [212.0; 217.48189075057604].\n",
      "out [382] Branching on variable 36\n",
      "out [382] Gap: 0.025206194095779087. Bnd: [212.0; 217.48189075057604].\n",
      "out [383] Branching on variable 12\n"
     ]
    },
    {
     "name": "stdout",
     "output_type": "stream",
     "text": [
      "out [383] Gap: 0.025206194095779087. Bnd: [212.0; 217.48189075057604].\n",
      "out [384] Branching on variable 22\n",
      "out [384] Gap: 0.025206194095779087. Bnd: [212.0; 217.48189075057604].\n",
      "out [385] Branching on variable 14\n",
      "out [385] Gap: 0.025206194095779087. Bnd: [212.0; 217.48189075057604].\n",
      "out [386] Branching on variable 38\n",
      "out [386] Gap: 0.025206194095779087. Bnd: [212.0; 217.48189075057604].\n",
      "out [387] Branching on variable 22"
     ]
    },
    {
     "name": "stdout",
     "output_type": "stream",
     "text": [
      "\n",
      "out [387] Gap: 0.025206194095779087. Bnd: [212.0; 217.48189075057604].\n",
      "out [388] Branching on variable 39\n",
      "out [388] Gap: 0.025206194095779087. Bnd: [212.0; 217.48189075057604].\n",
      "out [389] Branching on variable 15\n",
      "out [389] Gap: 0.025206194095779087. Bnd: [212.0; 217.48189075057604].\n"
     ]
    },
    {
     "name": "stdout",
     "output_type": "stream",
     "text": [
      "out [390] Branching on variable 37\n",
      "out [390] Gap: 0.025206194095779087. Bnd: [212.0; 217.48189075057604].\n",
      "out [391] Branching on variable 27\n",
      "out [391] Gap: 0.025206194095779087. Bnd: [212.0; 217.48189075057604].\n",
      "out [392] Branching on variable 38\n",
      "out [392] Gap: 0.025206194095779087. Bnd: [212.0; 217.48189075057604].\n",
      "out [393] Branching on variable 38\n",
      "out [393] Gap: 0.025206194095779087. Bnd: [212.0; 217.48189075057604].\n",
      "out [394] Branching on variable 35"
     ]
    },
    {
     "name": "stdout",
     "output_type": "stream",
     "text": [
      "\n",
      "out [394] Gap: 0.025206194095779087. Bnd: [212.0; 217.48189075057604].\n",
      "out [395] Branching on variable 38\n",
      "out [395] Gap: 0.025206194095779087. Bnd: [212.0; 217.48189075057604].\n",
      "out [396] Branching on variable 9\n",
      "out [396] Gap: 0.025206194095779087. Bnd: [212.0; 217.48189075057604].\n",
      "out [397] Branching on variable 7\n"
     ]
    },
    {
     "name": "stdout",
     "output_type": "stream",
     "text": [
      "out [397] Gap: 0.025206194095779087. Bnd: [212.0; 217.48189075057604].\n",
      "out [398] Branching on variable 39\n",
      "out [398] Gap: 0.025206194095779087. Bnd: [212.0; 217.48189075057604].\n",
      "out [399] Branching on variable 40\n",
      "out [399] Gap: 0.025206194095779087. Bnd: [212.0; 217.48189075057604].\n",
      "out [400] Branching on variable 26\n",
      "out [400] Gap: 0.025206194095779087. Bnd: [212.0; 217.48189075057604].\n",
      "out [401] Branching on variable 22\n"
     ]
    },
    {
     "name": "stdout",
     "output_type": "stream",
     "text": [
      "out [401] Gap: 0.025206194095779087. Bnd: [212.0; 217.48189075057604].\n",
      "out [402] Branching on variable 9\n",
      "out [402] Gap: 0.025206194095779087. Bnd: [212.0; 217.48189075057604].\n",
      "out [403] Branching on variable 40\n",
      "out [403] Gap: 0.025206194095779087. Bnd: [212.0; 217.48189075057604].\n",
      "out [404] Branching on variable 40\n"
     ]
    },
    {
     "name": "stdout",
     "output_type": "stream",
     "text": [
      "out [404] Gap: 0.025206194095779087. Bnd: [212.0; 217.48189075057604].\n",
      "out [405] Branching on variable 31\n",
      "out [405] Gap: 0.025206194095779087. Bnd: [212.0; 217.48189075057604].\n",
      "out [406] Branching on variable 10\n",
      "out [406] Gap: 0.025206194095779087. Bnd: [212.0; 217.48189075057604].\n",
      "out [407] Branching on variable 38\n",
      "out [407] Gap: 0.025206194095779087. Bnd: [212.0; 217.48189075057604].\n",
      "out [408] Branching on variable 31\n",
      "out [408] Gap: 0.025206194095779087. Bnd: [212.0; 217.48189075057604].\n",
      "out [409] Branching on variable 35\n"
     ]
    },
    {
     "name": "stdout",
     "output_type": "stream",
     "text": [
      "out [409] Gap: 0.025206194095779087. Bnd: [212.0; 217.48189075057604].\n",
      "out [410] Branching on variable 37\n",
      "out [410] Gap: 0.025206194095779087. Bnd: [212.0; 217.48189075057604].\n",
      "out [411] Branching on variable 34\n",
      "out [411] Gap: 0.025206194095779087. Bnd: [212.0; 217.48189075057604].\n",
      "out [412] Branching on variable 1\n",
      "out [412] Gap: 0.025206194095779087. Bnd: [212.0; 217.48189075057604].\n",
      "out [413] Branching on variable 33\n",
      "out [413] Gap: 0.025206194095779087. Bnd: [212.0; 217.48189075057604].\n",
      "out [414] Branching on variable 13\n"
     ]
    },
    {
     "name": "stdout",
     "output_type": "stream",
     "text": [
      "out [414] Gap: 0.025206194095779087. Bnd: [212.0; 217.48189075057604].\n",
      "out [415] Branching on variable 7\n",
      "out [415] Gap: 0.025206194095779087. Bnd: [212.0; 217.48189075057604].\n",
      "out [416] Branching on variable 28\n",
      "out [416] Gap: 0.025206194095779087. Bnd: [212.0; 217.48189075057604].\n",
      "out [417] Branching on variable 32\n",
      "out [417] Gap: 0.025206194095779087. Bnd: [212.0; 217.48189075057604].\n",
      "out [418] Branching on variable 27\n",
      "out [418] Gap: 0.025206194095779087. Bnd: [212.0; 217.48189075057604].\n",
      "out [419] Branching on variable 26"
     ]
    },
    {
     "name": "stdout",
     "output_type": "stream",
     "text": [
      "\n",
      "out [419] Gap: 0.025206194095779087. Bnd: [212.0; 217.48189075057604].\n",
      "out [420] Branching on variable 9\n"
     ]
    },
    {
     "name": "stdout",
     "output_type": "stream",
     "text": [
      "out [420] Gap: 0.025206194095779087. Bnd: [212.0; 217.48189075057604].\n",
      "out [421] Branching on variable 28\n",
      "out [421] Gap: 0.025206194095779087. Bnd: [212.0; 217.48189075057604].\n",
      "out [422] Branching on variable 7\n",
      "out [422] Gap: 0.025206194095779087. Bnd: [212.0; 217.48189075057604].\n",
      "out [423] Branching on variable 36\n"
     ]
    },
    {
     "name": "stdout",
     "output_type": "stream",
     "text": [
      "out [423] Gap: 0.025206194095779087. Bnd: [212.0; 217.48189075057604].\n",
      "out [424] Branching on variable 33\n",
      "out [424] Gap: 0.025206194095779087. Bnd: [212.0; 217.48189075057604].\n",
      "out [425] Branching on variable 1\n",
      "out [425] Gap: 0.025206194095779087. Bnd: [212.0; 217.48189075057604].\n",
      "out [426] Branching on variable 1\n",
      "out [426] Gap: 0.025206194095779087. Bnd: [212.0; 217.48189075057604].\n",
      "out [427] Branching on variable 9\n"
     ]
    },
    {
     "name": "stdout",
     "output_type": "stream",
     "text": [
      "out [427] Gap: 0.025206194095779087. Bnd: [212.0; 217.48189075057604].\n",
      "out [428] Branching on variable 33\n",
      "out [428] Gap: 0.025206194095779087. Bnd: [212.0; 217.48189075057604].\n",
      "out [429] Branching on variable 11\n",
      "out [429] Gap: 0.025206194095779087. Bnd: [212.0; 217.48189075057604].\n",
      "out [430] Branching on variable 35\n",
      "out [430] Gap: 0.025206194095779087. Bnd: [212.0; 217.48189075057604].\n",
      "out [431] Branching on variable 12\n"
     ]
    },
    {
     "name": "stdout",
     "output_type": "stream",
     "text": [
      "out [431] Gap: 0.025206194095779087. Bnd: [212.0; 217.48189075057604].\n",
      "out [432] Branching on variable 11\n",
      "out [432] Gap: 0.025206194095779087. Bnd: [212.0; 217.48189075057604].\n",
      "out [433] Branching on variable 39\n",
      "out [433] Gap: 0.025206194095779087. Bnd: [212.0; 217.48189075057604].\n",
      "out [434] Branching on variable 35\n"
     ]
    },
    {
     "name": "stdout",
     "output_type": "stream",
     "text": [
      "out [434] Gap: 0.025206194095779087. Bnd: [212.0; 217.48189075057604].\n",
      "out [435] Branching on variable 27\n",
      "out [435] Gap: 0.025206194095779087. Bnd: [212.0; 217.48189075057604].\n",
      "out [436] Branching on variable 28\n",
      "out [436] Gap: 0.025206194095779087. Bnd: [212.0; 217.48189075057604].\n",
      "out [437] Branching on variable 11\n"
     ]
    },
    {
     "name": "stdout",
     "output_type": "stream",
     "text": [
      "out [437] Gap: 0.025206194095779087. Bnd: [212.0; 217.48189075057604].\n",
      "out [438] Branching on variable 15\n",
      "out [438] Gap: 0.025206194095779087. Bnd: [212.0; 217.48189075057604].\n",
      "out [439] Branching on variable 9\n",
      "out [439] Gap: 0.025206194095779087. Bnd: [212.0; 217.48189075057604].\n",
      "out [440] Branching on variable 7\n",
      "out [440] Gap: 0.025206194095779087. Bnd: [212.0; 217.48189075057604].\n",
      "out [441] Branching on variable 34\n",
      "out [441] Gap: 0.025206194095779087. Bnd: [212.0; 217.48189075057604].\n",
      "out [442] Branching on variable 31\n"
     ]
    },
    {
     "name": "stdout",
     "output_type": "stream",
     "text": [
      "out [442] Gap: 0.025206194095779087. Bnd: [212.0; 217.48189075057604].\n",
      "out [443] Branching on variable 12\n",
      "out [443] Gap: 0.025206194095779087. Bnd: [212.0; 217.48189075057604].\n",
      "out [444] Branching on variable 33\n",
      "out [444] Gap: 0.025206194095779087. Bnd: [212.0; 217.48189075057604].\n",
      "out [445] Branching on variable 36\n",
      "out [445] Gap: 0.025206194095779087. Bnd: [212.0; 217.48189075057604].\n",
      "out [446] Branching on variable 39"
     ]
    },
    {
     "name": "stdout",
     "output_type": "stream",
     "text": [
      "\n",
      "out [446] Gap: 0.025206194095779087. Bnd: [212.0; 217.48189075057604].\n",
      "out [447] Branching on variable 33\n",
      "out [447] Gap: 0.025206194095779087. Bnd: [212.0; 217.48189075057604].\n",
      "out [448] Branching on variable 22\n",
      "out [448] Gap: 0.025206194095779087. Bnd: [212.0; 217.48189075057604].\n",
      "out [449] Branching on variable 31\n",
      "out [449] Gap: 0.025206194095779087. Bnd: [212.0; 217.48189075057604].\n",
      "out [450] Branching on variable 12\n"
     ]
    },
    {
     "name": "stdout",
     "output_type": "stream",
     "text": [
      "out [450] Gap: 0.025206194095779087. Bnd: [212.0; 217.48189075057604].\n",
      "out [451] Branching on variable 34\n",
      "out [451] Gap: 0.025206194095779087. Bnd: [212.0; 217.48189075057604].\n",
      "out [452] Branching on variable 37\n",
      "out [452] Gap: 0.025206194095779087. Bnd: [212.0; 217.48189075057604].\n",
      "out [453] Branching on variable 35\n",
      "out [453] Gap: 0.025206194095779087. Bnd: [212.0; 217.48189075057604].\n",
      "out [454] Branching on variable 33\n",
      "out [454] Gap: 0.025206194095779087. Bnd: [212.0; 217.48189075057604].\n",
      "out [455] Branching on variable 34"
     ]
    },
    {
     "name": "stdout",
     "output_type": "stream",
     "text": [
      "\n",
      "out [455] Gap: 0.025206194095779087. Bnd: [212.0; 217.48189075057604].\n",
      "out [456] Branching on variable 1\n",
      "out [456] Gap: 0.025206194095779087. Bnd: [212.0; 217.48189075057604].\n",
      "out [457] Branching on variable 32\n",
      "out [457] Gap: 0.025206194095779087. Bnd: [212.0; 217.48189075057604].\n",
      "out [458] Branching on variable 33\n"
     ]
    },
    {
     "name": "stdout",
     "output_type": "stream",
     "text": [
      "out [458] Gap: 0.025206194095779087. Bnd: [212.0; 217.48189075057604].\n",
      "out [459] Branching on variable 6\n",
      "out [459] Gap: 0.025206194095779087. Bnd: [212.0; 217.48189075057604].\n",
      "out [460] Branching on variable 36\n",
      "out [460] Gap: 0.025206194095779087. Bnd: [212.0; 217.48189075057604].\n",
      "out [461] Branching on variable 35\n",
      "out [461] Gap: 0.025206194095779087. Bnd: [212.0; 217.48189075057604].\n",
      "out [462] Branching on variable 36\n",
      "out [462] Gap: 0.025206194095779087. Bnd: [212.0; 217.48189075057604].\n",
      "out [463] Branching on variable 27"
     ]
    },
    {
     "name": "stdout",
     "output_type": "stream",
     "text": [
      "\n",
      "out [463] Gap: 0.025206194095779087. Bnd: [212.0; 217.48189075057604].\n",
      "out [464] Branching on variable 33\n",
      "out [464] Gap: 0.025206194095779087. Bnd: [212.0; 217.48189075057604].\n",
      "out [465] Branching on variable 31\n",
      "out [465] Gap: 0.025206194095779087. Bnd: [212.0; 217.48189075057604].\n",
      "out [466] Branching on variable 35"
     ]
    },
    {
     "name": "stdout",
     "output_type": "stream",
     "text": [
      "\n",
      "out [466] Gap: 0.025206194095779087. Bnd: [212.0; 217.48189075057604].\n",
      "out [467] Branching on variable 37\n",
      "out [467] Gap: 0.025206194095779087. Bnd: [212.0; 217.48189075057604].\n",
      "out [468] Branching on variable 4\n",
      "out [468] Gap: 0.025206194095779087. Bnd: [212.0; 217.48189075057604].\n",
      "out [469] Branching on variable 11\n",
      "out [469] Gap: 0.025206194095779087. Bnd: [212.0; 217.48189075057604].\n",
      "out [470] Branching on variable 18"
     ]
    },
    {
     "name": "stdout",
     "output_type": "stream",
     "text": [
      "\n",
      "out [470] Gap: 0.025206194095779087. Bnd: [212.0; 217.48189075057604].\n",
      "out [471] Branching on variable 40\n",
      "out [471] Gap: 0.025206194095779087. Bnd: [212.0; 217.48189075057604].\n",
      "out [472] Branching on variable 33\n",
      "out [472] Gap: 0.025206194095779087. Bnd: [212.0; 217.48189075057604].\n",
      "out [473] Branching on variable 31\n",
      "out [473] Gap: 0.025206194095779087. Bnd: [212.0; 217.48189075057604].\n",
      "out [474] Branching on variable 37\n"
     ]
    },
    {
     "name": "stdout",
     "output_type": "stream",
     "text": [
      "out [474] Gap: 0.025206194095779087. Bnd: [212.0; 217.48189075057604].\n",
      "out [475] Branching on variable 14\n",
      "out [475] Gap: 0.025206194095779087. Bnd: [212.0; 217.48189075057604].\n",
      "out [476] Branching on variable 33\n",
      "out [476] Gap: 0.025206194095779087. Bnd: [212.0; 217.48189075057604].\n",
      "out [477] Branching on variable 8\n",
      "out [477] Gap: 0.025206194095779087. Bnd: [212.0; 217.48189075057604].\n",
      "out [478] Branching on variable 39\n",
      "out [478] Gap: 0.025206194095779087. Bnd: [212.0; 217.48189075057604].\n",
      "out [479] Branching on variable 31"
     ]
    },
    {
     "name": "stdout",
     "output_type": "stream",
     "text": [
      "\n",
      "out [479] Gap: 0.025206194095779087. Bnd: [212.0; 217.48189075057604].\n",
      "out [480] Branching on variable 33\n",
      "out [480] Gap: 0.025206194095779087. Bnd: [212.0; 217.48189075057604].\n",
      "out [481] Branching on variable 15\n",
      "out [481] Gap: 0.025206194095779087. Bnd: [212.0; 217.48189075057604].\n",
      "out [482] Branching on variable 19\n"
     ]
    },
    {
     "name": "stdout",
     "output_type": "stream",
     "text": [
      "out [482] Gap: 0.025206194095779087. Bnd: [212.0; 217.48189075057604].\n",
      "out [483] Branching on variable 19\n",
      "out [483] Gap: 0.025206194095779087. Bnd: [212.0; 217.48189075057604].\n",
      "out [484] Branching on variable 23\n",
      "out [484] Gap: 0.025206194095779087. Bnd: [212.0; 217.48189075057604].\n",
      "out [485] Branching on variable 10\n",
      "out [485] Gap: 0.025206194095779087. Bnd: [212.0; 217.48189075057604].\n",
      "out [486] Branching on variable 12\n",
      "out [486] Gap: 0.025206194095779087. Bnd: [212.0; 217.48189075057604].\n",
      "out [487] Branching on variable 26\n"
     ]
    },
    {
     "name": "stdout",
     "output_type": "stream",
     "text": [
      "out [487] Gap: 0.025206194095779087. Bnd: [212.0; 217.48189075057604].\n",
      "out [488] Branching on variable 15\n",
      "out [488] Gap: 0.025206194095779087. Bnd: [212.0; 217.48189075057604].\n",
      "out [489] Branching on variable 28\n",
      "out [489] Gap: 0.025206194095779087. Bnd: [212.0; 217.48189075057604].\n",
      "out [490] Branching on variable 35"
     ]
    },
    {
     "name": "stdout",
     "output_type": "stream",
     "text": [
      "\n",
      "out [490] Gap: 0.025206194095779087. Bnd: [212.0; 217.48189075057604].\n",
      "out [491] Branching on variable 4\n"
     ]
    },
    {
     "name": "stdout",
     "output_type": "stream",
     "text": [
      "out [491] Gap: 0.025206194095779087. Bnd: [212.0; 217.48189075057604].\n",
      "out [492] Branching on variable 19\n",
      "out [492] Gap: 0.025206194095779087. Bnd: [212.0; 217.48189075057604].\n",
      "out [493] Branching on variable 27\n",
      "out [493] Gap: 0.025206194095779087. Bnd: [212.0; 217.48189075057604].\n",
      "out [494] Branching on variable 33\n",
      "out [494] Gap: 0.025206194095779087. Bnd: [212.0; 217.48189075057604].\n",
      "out [495] Branching on variable 31\n"
     ]
    },
    {
     "name": "stdout",
     "output_type": "stream",
     "text": [
      "out [495] Gap: 0.025206194095779087. Bnd: [212.0; 217.48189075057604].\n",
      "out [496] Branching on variable 37\n",
      "out [496] Gap: 0.025206194095779087. Bnd: [212.0; 217.48189075057604].\n",
      "out [497] Branching on variable 1\n",
      "out [497] Gap: 0.025206194095779087. Bnd: [212.0; 217.48189075057604].\n",
      "out [498] Branching on variable 12\n",
      "out [498] Gap: 0.025206194095779087. Bnd: [212.0; 217.48189075057604].\n",
      "out [499] Branching on variable 21\n",
      "out [499] Gap: 0.025206194095779087. Bnd: [212.0; 217.48189075057604]."
     ]
    },
    {
     "name": "stdout",
     "output_type": "stream",
     "text": [
      "\n",
      "out [500] Branching on variable 12\n",
      "out [500] Gap: 0.025206194095779087. Bnd: [212.0; 217.48189075057604].\n",
      "out [501] Branching on variable 7\n",
      "out [501] Gap: 0.025206194095779087. Bnd: [212.0; 217.48189075057604].\n",
      "out [502] Branching on variable 28"
     ]
    },
    {
     "name": "stdout",
     "output_type": "stream",
     "text": [
      "\n",
      "out [502] Gap: 0.025206194095779087. Bnd: [212.0; 217.48189075057604].\n",
      "out [503] Branching on variable 13\n",
      "out [503] Gap: 0.025206194095779087. Bnd: [212.0; 217.48189075057604].\n",
      "out [504] Branching on variable 12\n",
      "out [504] Gap: 0.025206194095779087. Bnd: [212.0; 217.48189075057604].\n",
      "out [505] Branching on variable 7"
     ]
    },
    {
     "name": "stdout",
     "output_type": "stream",
     "text": [
      "\n",
      "out [505] Gap: 0.025206194095779087. Bnd: [212.0; 217.48189075057604].\n",
      "out [506] Branching on variable 32\n",
      "out [506] Gap: 0.025206194095779087. Bnd: [212.0; 217.48189075057604].\n",
      "out [507] Branching on variable 40\n",
      "out [507] Gap: 0.025206194095779087. Bnd: [212.0; 217.48189075057604].\n",
      "out [508] Branching on variable 7\n"
     ]
    },
    {
     "name": "stdout",
     "output_type": "stream",
     "text": [
      "out [508] Gap: 0.025206194095779087. Bnd: [212.0; 217.48189075057604].\n",
      "out [509] Branching on variable 33\n",
      "out [509] Gap: 0.025206194095779087. Bnd: [212.0; 217.48189075057604].\n",
      "out [510] Branching on variable 28\n",
      "out [510] Gap: 0.025206194095779087. Bnd: [212.0; 217.48189075057604].\n",
      "out [511] Branching on variable 4\n",
      "out [511] Gap: 0.025206194095779087. Bnd: [212.0; 217.48189075057604].\n",
      "out [512] Branching on variable 35\n"
     ]
    },
    {
     "name": "stdout",
     "output_type": "stream",
     "text": [
      "out [512] Gap: 0.025206194095779087. Bnd: [212.0; 217.48189075057604].\n",
      "out [513] Branching on variable 31\n",
      "out [513] Gap: 0.025206194095779087. Bnd: [212.0; 217.48189075057604].\n",
      "out [514] Branching on variable 37\n",
      "out [514] Gap: 0.025206194095779087. Bnd: [212.0; 217.48189075057604].\n",
      "out [515] Branching on variable 36\n",
      "out [515] Gap: 0.025206194095779087. Bnd: [212.0; 217.48189075057604].\n",
      "out [516] Branching on variable 15"
     ]
    },
    {
     "name": "stdout",
     "output_type": "stream",
     "text": [
      "\n",
      "out [516] Gap: 0.025206194095779087. Bnd: [212.0; 217.48189075057604].\n",
      "out [517] Branching on variable 22\n",
      "out [517] Gap: 0.025206194095779087. Bnd: [212.0; 217.48189075057604].\n",
      "out [518] Branching on variable 24\n",
      "out [518] Gap: 0.025206194095779087. Bnd: [212.0; 217.48189075057604].\n",
      "out [519] Branching on variable 35\n"
     ]
    },
    {
     "name": "stdout",
     "output_type": "stream",
     "text": [
      "out [519] Gap: 0.025206194095779087. Bnd: [212.0; 217.48189075057604].\n",
      "out [520] Branching on variable 14\n",
      "out [520] Gap: 0.025206194095779087. Bnd: [212.0; 217.48189075057604].\n",
      "out [521] Branching on variable 34\n",
      "out [521] Gap: 0.025206194095779087. Bnd: [212.0; 217.48189075057604].\n",
      "out [522] Branching on variable 39"
     ]
    },
    {
     "name": "stdout",
     "output_type": "stream",
     "text": [
      "\n",
      "out [522] Gap: 0.025206194095779087. Bnd: [212.0; 217.48189075057604].\n",
      "out [523] Branching on variable 19\n",
      "out [523] Gap: 0.025206194095779087. Bnd: [212.0; 217.48189075057604].\n",
      "out [524] Branching on variable 4\n",
      "out [524] Gap: 0.025206194095779087. Bnd: [212.0; 217.48189075057604].\n",
      "out [525] Branching on variable 22\n",
      "out [525] Gap: 0.025206194095779087. Bnd: [212.0; 217.48189075057604].\n",
      "out [526] Branching on variable 12\n"
     ]
    },
    {
     "name": "stdout",
     "output_type": "stream",
     "text": [
      "out [526] Gap: 0.025206194095779087. Bnd: [212.0; 217.48189075057604].\n",
      "out [527] Branching on variable 7\n",
      "out [527] Gap: 0.025206194095779087. Bnd: [212.0; 217.48189075057604].\n",
      "out [528] Branching on variable 7\n",
      "out [528] Gap: 0.025206194095779087. Bnd: [212.0; 217.48189075057604].\n",
      "out [529] Branching on variable 34\n"
     ]
    },
    {
     "name": "stdout",
     "output_type": "stream",
     "text": [
      "out [529] Gap: 0.025206194095779087. Bnd: [212.0; 217.48189075057604].\n",
      "out [530] Branching on variable 36\n",
      "out [530] Gap: 0.025206194095779087. Bnd: [212.0; 217.48189075057604].\n",
      "out [531] Branching on variable 4\n",
      "out [531] Gap: 0.025206194095779087. Bnd: [212.0; 217.48189075057604].\n",
      "out [532] Branching on variable 33"
     ]
    },
    {
     "name": "stdout",
     "output_type": "stream",
     "text": [
      "\n",
      "out [532] Gap: 0.025206194095779087. Bnd: [212.0; 217.48189075057604].\n",
      "out [533] Branching on variable 7\n",
      "out [533] Gap: 0.025206194095779087. Bnd: [212.0; 217.48189075057604].\n",
      "out [534] Branching on variable 9\n",
      "out [534] Gap: 0.025206194095779087. Bnd: [212.0; 217.48189075057604].\n",
      "out [535] Branching on variable 31\n",
      "out [535] Gap: 0.025206194095779087. Bnd: [212.0; 217.48189075057604].\n",
      "out [536] Branching on variable 36\n",
      "out [536] Gap: 0.025206194095779087. Bnd: [212.0; 217.48189075057604].\n",
      "out [537] Branching on variable 12"
     ]
    },
    {
     "name": "stdout",
     "output_type": "stream",
     "text": [
      "\n",
      "out [537] Gap: 0.025206194095779087. Bnd: [212.0; 217.48189075057604].\n",
      "out [538] Branching on variable 37\n",
      "out [538] Gap: 0.025206194095779087. Bnd: [212.0; 217.48189075057604].\n",
      "out [539] Branching on variable 34\n",
      "out [539] Gap: 0.025206194095779087. Bnd: [212.0; 217.48189075057604].\n",
      "out [540] Branching on variable 37\n",
      "out [540] Gap: 0.025206194095779087. Bnd: [212.0; 217.48189075057604].\n"
     ]
    },
    {
     "name": "stdout",
     "output_type": "stream",
     "text": [
      "out [541] Branching on variable 30\n",
      "out [541] Gap: 0.025206194095779087. Bnd: [212.0; 217.48189075057604].\n",
      "out [542] Branching on variable 35\n",
      "out [542] Gap: 0.025206194095779087. Bnd: [212.0; 217.48189075057604].\n",
      "out [543] Branching on variable 34\n"
     ]
    },
    {
     "name": "stdout",
     "output_type": "stream",
     "text": [
      "out [543] Gap: 0.025206194095779087. Bnd: [212.0; 217.48189075057604].\n",
      "out [544] Branching on variable 12\n",
      "out [544] Gap: 0.025206194095779087. Bnd: [212.0; 217.48189075057604].\n",
      "out [545] Branching on variable 28\n",
      "out [545] Gap: 0.025206194095779087. Bnd: [212.0; 217.48189075057604].\n",
      "out [546] Branching on variable 30\n",
      "out [546] Gap: 0.025206194095779087. Bnd: [212.0; 217.48189075057604].\n",
      "out [547] Branching on variable 40\n",
      "out [547] Gap: 0.025206194095779087. Bnd: [212.0; 217.48189075057604].\n",
      "out [548] Branching on variable 4\n",
      "out [548] Gap: 0.025206194095779087. Bnd: [212.0; 217.48189075057604].\n",
      "out [549] Branching on variable 34"
     ]
    },
    {
     "name": "stdout",
     "output_type": "stream",
     "text": [
      "\n",
      "out [549] Gap: 0.025206194095779087. Bnd: [212.0; 217.48189075057604].\n",
      "out [550] Branching on variable 14\n",
      "out [550] Gap: 0.025206194095779087. Bnd: [212.0; 217.48189075057604].\n",
      "out [551] Branching on variable 27\n",
      "out [551] Gap: 0.025206194095779087. Bnd: [212.0; 217.48189075057604].\n",
      "out [552] Branching on variable 38\n",
      "out [552] Gap: 0.025206194095779087. Bnd: [212.0; 217.48189075057604].\n",
      "out [553] Branching on variable 15\n",
      "out [553] Gap: 0.025206194095779087. Bnd: [212.0; 217.48189075057604].\n",
      "out [554] Branching on variable 12\n"
     ]
    },
    {
     "name": "stdout",
     "output_type": "stream",
     "text": [
      "out [554] Gap: 0.025206194095779087. Bnd: [212.0; 217.48189075057604].\n",
      "out [555] Branching on variable 4\n",
      "out [555] Gap: 0.025206194095779087. Bnd: [212.0; 217.48189075057604].\n",
      "out [556] Branching on variable 34\n"
     ]
    },
    {
     "name": "stdout",
     "output_type": "stream",
     "text": [
      "out [556] Gap: 0.025206194095779087. Bnd: [212.0; 217.48189075057604].\n",
      "out [557] Branching on variable 31\n",
      "out [557] Gap: 0.025206194095779087. Bnd: [212.0; 217.48189075057604].\n",
      "out [558] Branching on variable 1\n",
      "out [558] Gap: 0.025206194095779087. Bnd: [212.0; 217.48189075057604].\n",
      "out [559] Branching on variable 30\n",
      "out [559] Gap: 0.025206194095779087. Bnd: [212.0; 217.48189075057604].\n",
      "out [560] Branching on variable 35\n",
      "out [560] Gap: 0.025206194095779087. Bnd: [212.0; 217.48189075057604].\n",
      "out [561] Branching on variable 9\n",
      "out [561] Gap: 0.025206194095779087. Bnd: [212.0; 217.48189075057604].\n",
      "out [562] Branching on variable 38"
     ]
    },
    {
     "name": "stdout",
     "output_type": "stream",
     "text": [
      "\n",
      "out [562] Gap: 0.025206194095779087. Bnd: [212.0; 217.48189075057604].\n",
      "out [563] Branching on variable 15\n",
      "out [563] Gap: 0.025206194095779087. Bnd: [212.0; 217.48189075057604].\n",
      "out [564] Branching on variable 22\n",
      "out [564] Gap: 0.025206194095779087. Bnd: [212.0; 217.48189075057604].\n",
      "out [565] Branching on variable 37\n",
      "out [565] Gap: 0.025206194095779087. Bnd: [212.0; 217.48189075057604].\n",
      "out [566] Branching on variable 38"
     ]
    },
    {
     "name": "stdout",
     "output_type": "stream",
     "text": [
      "\n",
      "out [566] Gap: 0.025206194095779087. Bnd: [212.0; 217.48189075057604].\n",
      "out [567] Branching on variable 31\n",
      "out [567] Gap: 0.025206194095779087. Bnd: [212.0; 217.48189075057604].\n",
      "out [568] Branching on variable 15\n",
      "out [568] Gap: 0.025206194095779087. Bnd: [212.0; 217.48189075057604].\n",
      "out [569] Branching on variable 22\n",
      "out [569] Gap: 0.025206194095779087. Bnd: [212.0; 217.48189075057604].\n",
      "out [570] Branching on variable 31"
     ]
    },
    {
     "name": "stdout",
     "output_type": "stream",
     "text": [
      "\n",
      "out [570] Gap: 0.025206194095779087. Bnd: [212.0; 217.48189075057604].\n",
      "out [571] Branching on variable 31\n",
      "out [571] Gap: 0.025206194095779087. Bnd: [212.0; 217.48189075057604].\n",
      "out [572] Branching on variable 9\n",
      "out [572] Gap: 0.025206194095779087. Bnd: [212.0; 217.48189075057604].\n"
     ]
    },
    {
     "name": "stdout",
     "output_type": "stream",
     "text": [
      "out [573] Branching on variable 37\n"
     ]
    },
    {
     "name": "stdout",
     "output_type": "stream",
     "text": [
      "out [573] Gap: 0.025206194095779087. Bnd: [212.0; 217.48189075057604].\n",
      "out [574] Branching on variable 38\n",
      "out [574] Gap: 0.025206194095779087. Bnd: [212.0; 217.48189075057604].\n",
      "out [575] Branching on variable 13\n",
      "out [575] Gap: 0.025206194095779087. Bnd: [212.0; 217.48189075057604].\n",
      "out [576] Branching on variable 28"
     ]
    },
    {
     "name": "stdout",
     "output_type": "stream",
     "text": [
      "\n",
      "out [576] Gap: 0.025206194095779087. Bnd: [212.0; 217.48189075057604].\n",
      "out [577] Branching on variable 38\n",
      "out [577] Gap: 0.025206194095779087. Bnd: [212.0; 217.48189075057604].\n",
      "out [578] Branching on variable 1\n",
      "out [578] Gap: 0.025206194095779087. Bnd: [212.0; 217.48189075057604].\n",
      "out [579] Branching on variable 12"
     ]
    },
    {
     "name": "stdout",
     "output_type": "stream",
     "text": [
      "\n",
      "out [579] Gap: 0.025206194095779087. Bnd: [212.0; 217.48189075057604].\n",
      "out [580] Branching on variable 20\n",
      "out [580] Gap: 0.025206194095779087. Bnd: [212.0; 217.48189075057604].\n",
      "out [581] Branching on variable 21\n",
      "out [581] Gap: 0.025206194095779087. Bnd: [212.0; 217.48189075057604].\n",
      "out [582] Branching on variable 9\n"
     ]
    },
    {
     "name": "stdout",
     "output_type": "stream",
     "text": [
      "out [582] Gap: 0.025206194095779087. Bnd: [212.0; 217.48189075057604].\n",
      "out [583] Branching on variable 13\n",
      "out [583] Gap: 0.025206194095779087. Bnd: [212.0; 217.48189075057604].\n",
      "out [584] Branching on variable 31\n",
      "out [584] Gap: 0.025206194095779087. Bnd: [212.0; 217.48189075057604].\n",
      "out [585] Branching on variable 12\n",
      "out [585] Gap: 0.025206194095779087. Bnd: [212.0; 217.48189075057604].\n",
      "out [586] Branching on variable 5"
     ]
    },
    {
     "name": "stdout",
     "output_type": "stream",
     "text": [
      "\n",
      "out [586] Gap: 0.025206194095779087. Bnd: [212.0; 217.48189075057604].\n",
      "out [587] Branching on variable 12\n",
      "out [587] Gap: 0.025206194095779087. Bnd: [212.0; 217.48189075057604].\n",
      "out [588] Branching on variable 4\n",
      "out [588] Gap: 0.025206194095779087. Bnd: [212.0; 217.48189075057604].\n",
      "out [589] Branching on variable 15\n",
      "out [589] Gap: 0.025206194095779087. Bnd: [212.0; 217.48189075057604].\n",
      "out [590] Branching on variable 19\n"
     ]
    },
    {
     "name": "stdout",
     "output_type": "stream",
     "text": [
      "out [590] Gap: 0.025206194095779087. Bnd: [212.0; 217.48189075057604].\n",
      "out [591] Branching on variable 35\n",
      "out [591] Gap: 0.025206194095779087. Bnd: [212.0; 217.48189075057604].\n",
      "out [592] Branching on variable 3\n",
      "out [592] Gap: 0.025206194095779087. Bnd: [212.0; 217.48189075057604].\n",
      "out [593] Branching on variable 6\n",
      "out [593] Gap: 0.025206194095779087. Bnd: [212.0; 217.48189075057604].\n",
      "out [594] Branching on variable 15\n"
     ]
    },
    {
     "name": "stdout",
     "output_type": "stream",
     "text": [
      "out [594] Gap: 0.025206194095779087. Bnd: [212.0; 217.48189075057604].\n",
      "out [595] Branching on variable 22\n",
      "out [595] Gap: 0.025206194095779087. Bnd: [212.0; 217.48189075057604].\n",
      "out [596] Branching on variable 19\n",
      "out [596] Gap: 0.025206194095779087. Bnd: [212.0; 217.48189075057604].\n",
      "out [597] Branching on variable 13\n",
      "out [597] Gap: 0.025206194095779087. Bnd: [212.0; 217.48189075057604].\n",
      "out [598] Branching on variable 4\n"
     ]
    },
    {
     "name": "stdout",
     "output_type": "stream",
     "text": [
      "out [598] Gap: 0.025206194095779087. Bnd: [212.0; 217.48189075057604].\n",
      "out [599] Branching on variable 15\n",
      "out [599] Gap: 0.025206194095779087. Bnd: [212.0; 217.48189075057604].\n",
      "out [600] Branching on variable 4\n",
      "out [600] Gap: 0.025206194095779087. Bnd: [212.0; 217.48189075057604].\n",
      "out [601] Branching on variable 7\n",
      "out [601] Gap: 0.025206194095779087. Bnd: [212.0; 217.48189075057604].\n",
      "out [602] Branching on variable 9\n"
     ]
    },
    {
     "name": "stdout",
     "output_type": "stream",
     "text": [
      "out [602] Gap: 0.025206194095779087. Bnd: [212.0; 217.48189075057604].\n",
      "out [603] Branching on variable 37\n",
      "out [603] Gap: 0.025206194095779087. Bnd: [212.0; 217.48189075057604].\n",
      "out [604] Branching on variable 12\n",
      "out [604] Gap: 0.025206194095779087. Bnd: [212.0; 217.48189075057604].\n",
      "out [605] Branching on variable 36"
     ]
    },
    {
     "name": "stdout",
     "output_type": "stream",
     "text": [
      "\n",
      "out [605] Gap: 0.025206194095779087. Bnd: [212.0; 217.48189075057604].\n",
      "out [606] Branching on variable 30\n",
      "out [606] Gap: 0.025206194095779087. Bnd: [212.0; 217.48189075057604].\n",
      "out [607] Branching on variable 35\n",
      "out [607] Gap: 0.025206194095779087. Bnd: [212.0; 217.48189075057604].\n",
      "out [608] Branching on variable 32\n",
      "out [608] Gap: 0.025206194095779087. Bnd: [212.0; 217.48189075057604].\n",
      "out [609] Branching on variable 27\n",
      "out [609] Gap: 0.025206194095779087. Bnd: [212.0; 217.48189075057604].\n",
      "out [610] Branching on variable 30"
     ]
    },
    {
     "name": "stdout",
     "output_type": "stream",
     "text": [
      "\n",
      "out [610] Gap: 0.025206194095779087. Bnd: [212.0; 217.48189075057604].\n",
      "out [611] Branching on variable 21\n",
      "out [611] Gap: 0.025206194095779087. Bnd: [212.0; 217.48189075057604].\n",
      "out [612] Branching on variable 31\n",
      "out [612] Gap: 0.025206194095779087. Bnd: [212.0; 217.48189075057604].\n",
      "out [613] Branching on variable 7\n",
      "out [613] Gap: 0.025206194095779087. Bnd: [212.0; 217.48189075057604].\n",
      "out [614] Branching on variable 40\n",
      "out [614] Gap: 0.025206194095779087. Bnd: [212.0; 217.48189075057604].\n",
      "out [615] Branching on variable 32\n"
     ]
    },
    {
     "name": "stdout",
     "output_type": "stream",
     "text": [
      "out [615] Gap: 0.025206194095779087. Bnd: [212.0; 217.48189075057604].\n",
      "out [616] Branching on variable 26\n",
      "out [616] Gap: 0.025206194095779087. Bnd: [212.0; 217.48189075057604].\n",
      "out [617] Branching on variable 28"
     ]
    },
    {
     "name": "stdout",
     "output_type": "stream",
     "text": [
      "\n",
      "out [617] Gap: 0.025206194095779087. Bnd: [212.0; 217.48189075057604].\n",
      "out [618] Branching on variable 5\n",
      "out [618] Gap: 0.025206194095779087. Bnd: [212.0; 217.48189075057604].\n",
      "out [619] Branching on variable 1\n",
      "out [619] Gap: 0.025206194095779087. Bnd: [212.0; 217.48189075057604].\n",
      "out [620] Branching on variable 7\n",
      "out [620] Gap: 0.025206194095779087. Bnd: [212.0; 217.48189075057604].\n",
      "out [621] Branching on variable 35\n"
     ]
    },
    {
     "name": "stdout",
     "output_type": "stream",
     "text": [
      "out [621] Gap: 0.025206194095779087. Bnd: [212.0; 217.48189075057604].\n",
      "out [622] Branching on variable 15\n",
      "out [622] Gap: 0.025206194095779087. Bnd: [212.0; 217.48189075057604].\n",
      "out [623] Branching on variable 31\n",
      "out [623] Gap: 0.025206194095779087. Bnd: [212.0; 217.48189075057604].\n",
      "out [624] Branching on variable 22"
     ]
    },
    {
     "name": "stdout",
     "output_type": "stream",
     "text": [
      "\n",
      "out [624] Gap: 0.025206194095779087. Bnd: [212.0; 217.48189075057604].\n",
      "out [625] Branching on variable 40\n",
      "out [625] Gap: 0.025206194095779087. Bnd: [212.0; 217.48189075057604].\n",
      "out [626] Branching on variable 5\n",
      "out [626] Gap: 0.025206194095779087. Bnd: [212.0; 217.48189075057604].\n",
      "out [627] Branching on variable 25\n",
      "out [627] Gap: 0.025206194095779087. Bnd: [212.0; 217.48189075057604].\n",
      "out [628] Branching on variable 39"
     ]
    },
    {
     "name": "stdout",
     "output_type": "stream",
     "text": [
      "\n",
      "out [628] Gap: 0.025206194095779087. Bnd: [212.0; 217.48189075057604].\n",
      "out [629] Branching on variable 31\n",
      "out [629] Gap: 0.025206194095779087. Bnd: [212.0; 217.48189075057604].\n",
      "out [630] Branching on variable 38\n",
      "out [630] Gap: 0.025206194095779087. Bnd: [212.0; 217.48189075057604].\n",
      "out [631] Branching on variable 37\n",
      "out [631] Gap: 0.025206194095779087. Bnd: [212.0; 217.48189075057604].\n",
      "out [632] Branching on variable 35\n",
      "out [632] Gap: 0.025206194095779087. Bnd: [212.0; 217.48189075057604].\n",
      "out [633] Branching on variable 30\n",
      "out [633] Gap: 0.025206194095779087. Bnd: [212.0; 217.48189075057604].\n",
      "out [634] Branching on variable 9"
     ]
    },
    {
     "name": "stdout",
     "output_type": "stream",
     "text": [
      "\n",
      "out [634] Gap: 0.025206194095779087. Bnd: [212.0; 217.48189075057604].\n",
      "out [635] Branching on variable 33\n",
      "out [635] Gap: 0.025206194095779087. Bnd: [212.0; 217.48189075057604].\n",
      "out [636] Branching on variable 7\n",
      "out [636] Gap: 0.025206194095779087. Bnd: [212.0; 217.48189075057604].\n",
      "out [637] Branching on variable 7\n",
      "out [637] Gap: 0.025206194095779087. Bnd: [212.0; 217.48189075057604].\n",
      "out [638] Branching on variable 33"
     ]
    },
    {
     "name": "stdout",
     "output_type": "stream",
     "text": [
      "\n",
      "out [638] Gap: 0.025206194095779087. Bnd: [212.0; 217.48189075057604].\n",
      "out [639] Branching on variable 22\n",
      "out [639] Gap: 0.025206194095779087. Bnd: [212.0; 217.48189075057604]."
     ]
    },
    {
     "name": "stdout",
     "output_type": "stream",
     "text": [
      "\n",
      "out [640] Branching on variable 30\n",
      "out [640] Gap: 0.025206194095779087. Bnd: [212.0; 217.48189075057604].\n",
      "out [641] Branching on variable 33\n",
      "out [641] Gap: 0.025206194095779087. Bnd: [212.0; 217.48189075057604].\n",
      "out [642] Branching on variable 30\n"
     ]
    },
    {
     "name": "stdout",
     "output_type": "stream",
     "text": [
      "out [642] Gap: 0.025206194095779087. Bnd: [212.0; 217.48189075057604].\n",
      "out [643] Branching on variable 36\n",
      "out [643] Gap: 0.025206194095779087. Bnd: [212.0; 217.48189075057604].\n",
      "out [644] Branching on variable 9\n"
     ]
    },
    {
     "name": "stdout",
     "output_type": "stream",
     "text": [
      "out [644] Gap: 0.025206194095779087. Bnd: [212.0; 217.48189075057604].\n",
      "out [645] Branching on variable 13\n",
      "out [645] Gap: 0.025206194095779087. Bnd: [212.0; 217.48189075057604].\n",
      "out [646] Branching on variable 20\n",
      "out [646] Gap: 0.025206194095779087. Bnd: [212.0; 217.48189075057604].\n",
      "out [647] Branching on variable 36\n",
      "out [647] Gap: 0.025206194095779087. Bnd: [212.0; 217.48189075057604].\n",
      "out [648] Branching on variable 9\n"
     ]
    },
    {
     "name": "stdout",
     "output_type": "stream",
     "text": [
      "out [648] Gap: 0.025206194095779087. Bnd: [212.0; 217.48189075057604].\n",
      "out [649] Branching on variable 7\n",
      "out [649] Gap: 0.025206194095779087. Bnd: [212.0; 217.48189075057604].\n",
      "out [650] Branching on variable 30\n",
      "out [650] Gap: 0.025206194095779087. Bnd: [212.0; 217.48189075057604].\n",
      "out [651] Branching on variable 37\n",
      "out [651] Gap: 0.025206194095779087. Bnd: [212.0; 217.48189075057604].\n",
      "out [652] Branching on variable 22\n"
     ]
    },
    {
     "name": "stdout",
     "output_type": "stream",
     "text": [
      "out [652] Gap: 0.025206194095779087. Bnd: [212.0; 217.48189075057604].\n",
      "out [653] Branching on variable 27\n",
      "out [653] Gap: 0.025206194095779087. Bnd: [212.0; 217.48189075057604].\n",
      "out [654] Branching on variable 4\n",
      "out [654] Gap: 0.025206194095779087. Bnd: [212.0; 217.48189075057604].\n",
      "out [655] Branching on variable 33\n"
     ]
    },
    {
     "name": "stdout",
     "output_type": "stream",
     "text": [
      "out [655] Gap: 0.025206194095779087. Bnd: [212.0; 217.48189075057604].\n",
      "out [656] Branching on variable 11\n",
      "out [656] Gap: 0.025206194095779087. Bnd: [212.0; 217.48189075057604].\n",
      "out [657] Branching on variable 37\n"
     ]
    },
    {
     "name": "stdout",
     "output_type": "stream",
     "text": [
      "out [657] Gap: 0.025206194095779087. Bnd: [212.0; 217.48189075057604].\n",
      "out [658] Branching on variable 22\n",
      "out [658] Gap: 0.025206194095779087. Bnd: [212.0; 217.48189075057604].\n",
      "out [659] Branching on variable 33\n",
      "out [659] Gap: 0.025206194095779087. Bnd: [212.0; 217.48189075057604].\n",
      "out [660] Branching on variable 30\n",
      "out [660] Gap: 0.025206194095779087. Bnd: [212.0; 217.48189075057604].\n",
      "out [661] Branching on variable 35\n",
      "out [661] Gap: 0.025206194095779087. Bnd: [212.0; 217.48189075057604].\n",
      "out [662] Branching on variable 22"
     ]
    },
    {
     "name": "stdout",
     "output_type": "stream",
     "text": [
      "\n",
      "out [662] Gap: 0.025206194095779087. Bnd: [212.0; 217.48189075057604].\n",
      "out [663] Branching on variable 35\n",
      "out [663] Gap: 0.025206194095779087. Bnd: [212.0; 217.48189075057604].\n",
      "out [664] Branching on variable 22\n",
      "out [664] Gap: 0.025206194095779087. Bnd: [212.0; 217.48189075057604].\n",
      "out [665] Branching on variable 11\n",
      "out [665] Gap: 0.025206194095779087. Bnd: [212.0; 217.48189075057604].\n",
      "out [666] Branching on variable 10\n",
      "out [666] Gap: 0.025206194095779087. Bnd: [212.0; 217.48189075057604].\n",
      "out [667] Branching on variable 5\n"
     ]
    },
    {
     "name": "stdout",
     "output_type": "stream",
     "text": [
      "out [667] Gap: 0.025206194095779087. Bnd: [212.0; 217.48189075057604].\n",
      "out [668] Branching on variable 10\n",
      "out [668] Gap: 0.025206194095779087. Bnd: [212.0; 217.48189075057604].\n",
      "out [669] Branching on variable 6\n",
      "out [669] Gap: 0.025206194095779087. Bnd: [212.0; 217.48189075057604].\n",
      "out [670] Branching on variable 5\n",
      "out [670] Gap: 0.025206194095779087. Bnd: [212.0; 217.48189075057604].\n",
      "out [671] Branching on variable 27\n",
      "out [671] Gap: 0.025206194095779087. Bnd: [212.0; 217.48189075057604].\n",
      "out [672] Branching on variable 23\n"
     ]
    },
    {
     "name": "stdout",
     "output_type": "stream",
     "text": [
      "out [672] Gap: 0.025206194095779087. Bnd: [212.0; 217.48189075057604].\n",
      "out [673] Branching on variable 4\n",
      "out [673] Gap: 0.025206194095779087. Bnd: [212.0; 217.48189075057604].\n",
      "out [674] Branching on variable 14\n",
      "out [674] Gap: 0.025206194095779087. Bnd: [212.0; 217.48189075057604].\n",
      "out [675] Branching on variable 32"
     ]
    },
    {
     "name": "stdout",
     "output_type": "stream",
     "text": [
      "\n",
      "out [675] Gap: 0.025206194095779087. Bnd: [212.0; 217.48189075057604].\n",
      "out [676] Branching on variable 33\n",
      "out [676] Gap: 0.025206194095779087. Bnd: [212.0; 217.48189075057604].\n",
      "out [677] Branching on variable 22\n",
      "out [677] Gap: 0.025206194095779087. Bnd: [212.0; 217.48189075057604].\n",
      "out [678] Branching on variable 30\n"
     ]
    },
    {
     "name": "stdout",
     "output_type": "stream",
     "text": [
      "out [678] Gap: 0.025206194095779087. Bnd: [212.0; 217.48189075057604].\n",
      "out [679] Branching on variable 35\n",
      "out [679] Gap: 0.025206194095779087. Bnd: [212.0; 217.48189075057604].\n",
      "out [680] Branching on variable 7\n",
      "out [680] Gap: 0.025206194095779087. Bnd: [212.0; 217.48189075057604].\n",
      "out [681] Branching on variable 7\n",
      "out [681] Gap: 0.025206194095779087. Bnd: [212.0; 217.48189075057604].\n",
      "out [682] Branching on variable 37\n",
      "out [682] Gap: 0.025206194095779087. Bnd: [212.0; 217.48189075057604].\n",
      "out [683] Branching on variable 4\n"
     ]
    },
    {
     "name": "stdout",
     "output_type": "stream",
     "text": [
      "out [683] Gap: 0.025206194095779087. Bnd: [212.0; 217.48189075057604].\n",
      "out [684] Branching on variable 15\n",
      "out [684] Gap: 0.025206194095779087. Bnd: [212.0; 217.48189075057604].\n",
      "out [685] Branching on variable 15\n",
      "out [685] Gap: 0.025206194095779087. Bnd: [212.0; 217.48189075057604].\n",
      "out [686] Branching on variable 35\n",
      "out [686] Gap: 0.025206194095779087. Bnd: [212.0; 217.48189075057604].\n",
      "out [687] Branching on variable 4"
     ]
    },
    {
     "name": "stdout",
     "output_type": "stream",
     "text": [
      "\n",
      "out [687] Gap: 0.025206194095779087. Bnd: [212.0; 217.48189075057604].\n",
      "out [688] Branching on variable 37\n",
      "out [688] Gap: 0.025206194095779087. Bnd: [212.0; 217.48189075057604].\n",
      "out [689] Branching on variable 40\n",
      "out [689] Gap: 0.025206194095779087. Bnd: [212.0; 217.48189075057604].\n",
      "out [690] Branching on variable 10\n",
      "out [690] Gap: 0.025206194095779087. Bnd: [212.0; 217.48189075057604].\n",
      "out [691] Branching on variable 7\n",
      "out [691] Gap: 0.025206194095779087. Bnd: [212.0; 217.48189075057604].\n",
      "out [692] Branching on variable 22"
     ]
    },
    {
     "name": "stdout",
     "output_type": "stream",
     "text": [
      "\n",
      "out [692] Gap: 0.025206194095779087. Bnd: [212.0; 217.48189075057604].\n",
      "out [693] Branching on variable 7\n",
      "out [693] Gap: 0.025206194095779087. Bnd: [212.0; 217.48189075057604].\n",
      "out [694] Branching on variable 30\n",
      "out [694] Gap: 0.025206194095779087. Bnd: [212.0; 217.48189075057604]."
     ]
    },
    {
     "name": "stdout",
     "output_type": "stream",
     "text": [
      "\n",
      "out [695] Branching on variable 30\n",
      "out [695] Gap: 0.025206194095779087. Bnd: [212.0; 217.48189075057604].\n",
      "out [696] Branching on variable 4\n",
      "out [696] Gap: 0.025206194095779087. Bnd: [212.0; 217.48189075057604].\n",
      "out [697] Branching on variable 35\n",
      "out [697] Gap: 0.025206194095779087. Bnd: [212.0; 217.48189075057604].\n",
      "out [698] Branching on variable 5\n"
     ]
    },
    {
     "name": "stdout",
     "output_type": "stream",
     "text": [
      "out [698] Gap: 0.025206194095779087. Bnd: [212.0; 217.48189075057604].\n",
      "out [699] Branching on variable 10\n",
      "out [699] Gap: 0.025206194095779087. Bnd: [212.0; 217.48189075057604].\n",
      "out [700] Branching on variable 33\n",
      "out [700] Gap: 0.025206194095779087. Bnd: [212.0; 217.48189075057604].\n",
      "out [701] Branching on variable 4\n",
      "out [701] Gap: 0.025206194095779087. Bnd: [212.0; 217.48189075057604].\n",
      "out [702] Branching on variable 9\n",
      "out [702] Gap: 0.025206194095779087. Bnd: [212.0; 217.48189075057604].\n",
      "out [703] Branching on variable 19\n",
      "out [703] Gap: 0.025206194095779087. Bnd: [212.0; 217.48189075057604].\n",
      "out [704] Branching on variable 13\n"
     ]
    },
    {
     "name": "stdout",
     "output_type": "stream",
     "text": [
      "out [704] Gap: 0.025206194095779087. Bnd: [212.0; 217.48189075057604].\n",
      "out [705] Branching on variable 5\n",
      "out [705] Gap: 0.025206194095779087. Bnd: [212.0; 217.48189075057604].\n",
      "out [706] Branching on variable 37\n",
      "out [706] Gap: 0.025206194095779087. Bnd: [212.0; 217.48189075057604].\n",
      "out [707] Branching on variable 6\n",
      "out [707] Gap: 0.025206194095779087. Bnd: [212.0; 217.48189075057604].\n",
      "out [708] Branching on variable 33\n",
      "out [708] Gap: 0.025206194095779087. Bnd: [212.0; 217.48189075057604].\n",
      "out [709] Branching on variable 9\n",
      "out [709] Gap: 0.025206194095779087. Bnd: [212.0; 217.48189075057604].\n",
      "out [710] Branching on variable 7"
     ]
    },
    {
     "name": "stdout",
     "output_type": "stream",
     "text": [
      "\n",
      "out [710] Gap: 0.025206194095779087. Bnd: [212.0; 217.48189075057604].\n",
      "out [711] Branching on variable 22\n",
      "out [711] Gap: 0.025206194095779087. Bnd: [212.0; 217.48189075057604].\n",
      "out [712] Branching on variable 18\n",
      "out [712] Gap: 0.025206194095779087. Bnd: [212.0; 217.48189075057604].\n",
      "out [713] Branching on variable 11\n",
      "out [713] Gap: 0.025206194095779087. Bnd: [212.0; 217.48189075057604].\n",
      "out [714] Branching on variable 30\n",
      "out [714] Gap: 0.025206194095779087. Bnd: [212.0; 217.48189075057604].\n",
      "out [715] Branching on variable 38\n"
     ]
    },
    {
     "name": "stdout",
     "output_type": "stream",
     "text": [
      "out [715] Gap: 0.025206194095779087. Bnd: [212.0; 217.48189075057604].\n",
      "out [716] Branching on variable 22\n",
      "out [716] Gap: 0.025206194095779087. Bnd: [212.0; 217.48189075057604].\n",
      "out [717] Branching on variable 34\n",
      "out [717] Gap: 0.025206194095779087. Bnd: [212.0; 217.48189075057604].\n",
      "out [718] Branching on variable 1\n",
      "out [718] Gap: 0.025206194095779087. Bnd: [212.0; 217.48189075057604].\n",
      "out [719] Branching on variable 14\n",
      "out [719] Gap: 0.025206194095779087. Bnd: [212.0; 217.48189075057604].\n",
      "out [720] Branching on variable 30\n"
     ]
    },
    {
     "name": "stdout",
     "output_type": "stream",
     "text": [
      "out [720] Gap: 0.025206194095779087. Bnd: [212.0; 217.48189075057604].\n",
      "out [721] Branching on variable 38\n",
      "out [721] Gap: 0.025206194095779087. Bnd: [212.0; 217.48189075057604].\n",
      "out [722] Branching on variable 30\n",
      "out [722] Gap: 0.025206194095779087. Bnd: [212.0; 217.48189075057604].\n",
      "out [723] Branching on variable 35\n",
      "out [723] Gap: 0.025206194095779087. Bnd: [212.0; 217.48189075057604].\n",
      "out [724] Branching on variable 28\n",
      "out [724] Gap: 0.025206194095779087. Bnd: [212.0; 217.48189075057604].\n",
      "out [725] Branching on variable 13\n"
     ]
    },
    {
     "name": "stdout",
     "output_type": "stream",
     "text": [
      "out [725] Gap: 0.025206194095779087. Bnd: [212.0; 217.48189075057604].\n",
      "out [726] Branching on variable 15\n",
      "out [726] Gap: 0.025206194095779087. Bnd: [212.0; 217.48189075057604].\n",
      "out [727] Branching on variable 3\n",
      "out [727] Gap: 0.025206194095779087. Bnd: [212.0; 217.48189075057604].\n",
      "out [728] Branching on variable 30\n",
      "out [728] Gap: 0.025206194095779087. Bnd: [212.0; 217.48189075057604].\n",
      "out [729] Branching on variable 7\n"
     ]
    },
    {
     "name": "stdout",
     "output_type": "stream",
     "text": [
      "out [729] Gap: 0.025206194095779087. Bnd: [212.0; 217.48189075057604].\n",
      "out [730] Branching on variable 35\n",
      "out [730] Gap: 0.025206194095779087. Bnd: [212.0; 217.48189075057604].\n",
      "out [731] Branching on variable 4\n",
      "out [731] Gap: 0.025206194095779087. Bnd: [212.0; 217.48189075057604].\n",
      "out [732] Branching on variable 32\n"
     ]
    },
    {
     "name": "stdout",
     "output_type": "stream",
     "text": [
      "out [732] Gap: 0.025206194095779087. Bnd: [212.0; 217.48189075057604].\n",
      "out [733] Branching on variable 30\n",
      "out [733] Gap: 0.025206194095779087. Bnd: [212.0; 217.48189075057604].\n",
      "out [734] Branching on variable 21\n",
      "out [734] Gap: 0.025206194095779087. Bnd: [212.0; 217.48189075057604].\n",
      "out [735] Branching on variable 4\n",
      "out [735] Gap: 0.025206194095779087. Bnd: [212.0; 217.48189075057604].\n",
      "out [736] Branching on variable 22\n",
      "out [736] Gap: 0.025206194095779087. Bnd: [212.0; 217.48189075057604].\n",
      "out [737] Branching on variable 27"
     ]
    },
    {
     "name": "stdout",
     "output_type": "stream",
     "text": [
      "\n",
      "out [737] Gap: 0.025206194095779087. Bnd: [212.0; 217.48189075057604].\n",
      "out [738] Branching on variable 7\n"
     ]
    },
    {
     "name": "stdout",
     "output_type": "stream",
     "text": [
      "out [738] Gap: 0.025206194095779087. Bnd: [212.0; 217.48189075057604].\n",
      "out [739] Branching on variable 22\n",
      "out [739] Gap: 0.025206194095779087. Bnd: [212.0; 217.48189075057604].\n",
      "out [740] Branching on variable 35\n",
      "out [740] Gap: 0.025206194095779087. Bnd: [212.0; 217.48189075057604].\n",
      "out [741] Branching on variable 12\n",
      "out [741] Gap: 0.025206194095779087. Bnd: [212.0; 217.48189075057604].\n",
      "out [742] Branching on variable 40\n",
      "out [742] Gap: 0.025206194095779087. Bnd: [212.0; 217.48189075057604].\n",
      "out [743] Branching on variable 23\n",
      "out [743] Gap: 0.025206194095779087. Bnd: [212.0; 217.48189075057604].\n",
      "out [744] Branching on variable 27"
     ]
    },
    {
     "name": "stdout",
     "output_type": "stream",
     "text": [
      "\n",
      "out [744] Gap: 0.025206194095779087. Bnd: [212.0; 217.48189075057604].\n",
      "out [745] Branching on variable 7\n",
      "out [745] Gap: 0.025206194095779087. Bnd: [212.0; 217.48189075057604].\n",
      "out [746] Branching on variable 30\n",
      "out [746] Gap: 0.025206194095779087. Bnd: [212.0; 217.48189075057604].\n",
      "out [747] Branching on variable 35\n"
     ]
    },
    {
     "name": "stdout",
     "output_type": "stream",
     "text": [
      "out [747] Gap: 0.025206194095779087. Bnd: [212.0; 217.48189075057604].\n",
      "out [748] Branching on variable 7\n",
      "out [748] Gap: 0.025206194095779087. Bnd: [212.0; 217.48189075057604].\n",
      "out [749] Branching on variable 22\n",
      "out [749] Gap: 0.025206194095779087. Bnd: [212.0; 217.48189075057604].\n",
      "out [750] Branching on variable 9\n",
      "out [750] Gap: 0.025206194095779087. Bnd: [212.0; 217.48189075057604].\n",
      "out [751] Branching on variable 37\n"
     ]
    },
    {
     "name": "stdout",
     "output_type": "stream",
     "text": [
      "out [751] Gap: 0.025206194095779087. Bnd: [212.0; 217.48189075057604].\n",
      "out [752] Branching on variable 34\n",
      "out [752] Gap: 0.025206194095779087. Bnd: [212.0; 217.48189075057604].\n",
      "out [753] Branching on variable 1\n",
      "out [753] Gap: 0.025206194095779087. Bnd: [212.0; 217.48189075057604].\n",
      "out [754] Branching on variable 31\n",
      "out [754] Gap: 0.025206194095779087. Bnd: [212.0; 217.48189075057604].\n",
      "out [755] Branching on variable 38\n",
      "out [755] Gap: 0.025206194095779087. Bnd: [212.0; 217.48189075057604].\n",
      "out [756] Branching on variable 34"
     ]
    },
    {
     "name": "stdout",
     "output_type": "stream",
     "text": [
      "\n",
      "out [756] Gap: 0.025206194095779087. Bnd: [212.0; 217.48189075057604].\n",
      "out [757] Branching on variable 11\n",
      "out [757] Gap: 0.025206194095779087. Bnd: [212.0; 217.48189075057604].\n",
      "out [758] Branching on variable 34\n",
      "out [758] Gap: 0.025206194095779087. Bnd: [212.0; 217.48189075057604].\n",
      "out [759] Branching on variable 33\n"
     ]
    },
    {
     "name": "stdout",
     "output_type": "stream",
     "text": [
      "out [759] Gap: 0.025206194095779087. Bnd: [212.0; 217.48189075057604].\n",
      "out [760] Branching on variable 14\n",
      "out [760] Gap: 0.025206194095779087. Bnd: [212.0; 217.48189075057604].\n",
      "out [761] Branching on variable 18"
     ]
    },
    {
     "name": "stdout",
     "output_type": "stream",
     "text": [
      "\n",
      "out [761] Gap: 0.025206194095779087. Bnd: [212.0; 217.48189075057604].\n",
      "out [762] Branching on variable 31\n",
      "out [762] Gap: 0.025206194095779087. Bnd: [212.0; 217.48189075057604].\n",
      "out [763] Branching on variable 15\n",
      "out [763] Gap: 0.025206194095779087. Bnd: [212.0; 217.48189075057604].\n",
      "out [764] Branching on variable 37"
     ]
    },
    {
     "name": "stdout",
     "output_type": "stream",
     "text": [
      "\n",
      "out [764] Gap: 0.025206194095779087. Bnd: [212.0; 217.48189075057604].\n",
      "out [765] Branching on variable 9\n",
      "out [765] Gap: 0.025206194095779087. Bnd: [212.0; 217.48189075057604].\n",
      "out [766] Branching on variable 11\n",
      "out [766] Gap: 0.025206194095779087. Bnd: [212.0; 217.48189075057604].\n",
      "out [767] Branching on variable 33\n",
      "out [767] Gap: 0.025206194095779087. Bnd: [212.0; 217.48189075057604].\n",
      "out [768] Branching on variable 34\n",
      "out [768] Gap: 0.025206194095779087. Bnd: [212.0; 217.48189075057604].\n",
      "out [769] Branching on variable 38\n",
      "out [769] Gap: 0.025206194095779087. Bnd: [212.0; 217.48189075057604]."
     ]
    },
    {
     "name": "stdout",
     "output_type": "stream",
     "text": [
      "\n",
      "out [770] Branching on variable 18\n",
      "out [770] Gap: 0.025206194095779087. Bnd: [212.0; 217.48189075057604].\n",
      "out [771] Branching on variable 34\n",
      "out [771] Gap: 0.025206194095779087. Bnd: [212.0; 217.48189075057604].\n",
      "out [772] Branching on variable 14\n",
      "out [772] Gap: 0.025206194095779087. Bnd: [212.0; 217.48189075057604].\n",
      "out [773] Branching on variable 14\n",
      "out [773] Gap: 0.025206194095779087. Bnd: [212.0; 217.48189075057604].\n",
      "out [774] Branching on variable 40\n"
     ]
    },
    {
     "name": "stdout",
     "output_type": "stream",
     "text": [
      "out [774] Gap: 0.025206194095779087. Bnd: [212.0; 217.48189075057604].\n",
      "out [775] Branching on variable 27\n",
      "out [775] Gap: 0.025206194095779087. Bnd: [212.0; 217.48189075057604].\n",
      "out [776] Branching on variable 4\n",
      "out [776] Gap: 0.025206194095779087. Bnd: [212.0; 217.48189075057604].\n",
      "out [777] Branching on variable 38\n",
      "out [777] Gap: 0.025206194095779087. Bnd: [212.0; 217.48189075057604].\n",
      "out [778] Branching on variable 11\n",
      "out [778] Gap: 0.025206194095779087. Bnd: [212.0; 217.48189075057604].\n",
      "out [779] Branching on variable 34"
     ]
    },
    {
     "name": "stdout",
     "output_type": "stream",
     "text": [
      "\n",
      "out [779] Gap: 0.025206194095779087. Bnd: [212.0; 217.48189075057604].\n",
      "out [780] Branching on variable 36\n",
      "out [780] Gap: 0.025206194095779087. Bnd: [212.0; 217.48189075057604].\n",
      "out [781] Branching on variable 40\n",
      "out [781] Gap: 0.025206194095779087. Bnd: [212.0; 217.48189075057604].\n",
      "out [782] Branching on variable 33\n",
      "out [782] Gap: 0.025206194095779087. Bnd: [212.0; 217.48189075057604].\n",
      "out [783] Branching on variable 24\n",
      "out [783] Gap: 0.025206194095779087. Bnd: [212.0; 217.48189075057604].\n",
      "out [784] Branching on variable 31\n"
     ]
    },
    {
     "name": "stdout",
     "output_type": "stream",
     "text": [
      "out [784] Gap: 0.025206194095779087. Bnd: [212.0; 217.48189075057604].\n",
      "out [785] Branching on variable 27\n",
      "out [785] Gap: 0.025206194095779087. Bnd: [212.0; 217.48189075057604].\n",
      "out [786] Branching on variable 4\n",
      "out [786] Gap: 0.025206194095779087. Bnd: [212.0; 217.48189075057604].\n",
      "out [787] Branching on variable 33\n",
      "out [787] Gap: 0.025206194095779087. Bnd: [212.0; 217.48189075057604].\n",
      "out [788] Branching on variable 15"
     ]
    },
    {
     "name": "stdout",
     "output_type": "stream",
     "text": [
      "\n",
      "out [788] Gap: 0.025206194095779087. Bnd: [212.0; 217.48189075057604].\n",
      "out [789] Branching on variable 3\n",
      "out [789] Gap: 0.025206194095779087. Bnd: [212.0; 217.48189075057604].\n",
      "out [790] Branching on variable 40\n",
      "out [790] Gap: 0.025206194095779087. Bnd: [212.0; 217.48189075057604].\n",
      "out [791] Branching on variable 33"
     ]
    },
    {
     "name": "stdout",
     "output_type": "stream",
     "text": [
      "\n",
      "out [791] Gap: 0.025206194095779087. Bnd: [212.0; 217.48189075057604].\n",
      "out [792] Branching on variable 15\n",
      "out [792] Gap: 0.025206194095779087. Bnd: [212.0; 217.48189075057604].\n",
      "out [793] Branching on variable 31\n",
      "out [793] Gap: 0.025206194095779087. Bnd: [212.0; 217.48189075057604].\n",
      "out [794] Branching on variable 28\n",
      "out [794] Gap: 0.025206194095779087. Bnd: [212.0; 217.48189075057604].\n",
      "out [795] Branching on variable 12"
     ]
    },
    {
     "name": "stdout",
     "output_type": "stream",
     "text": [
      "\n",
      "out [795] Gap: 0.025206194095779087. Bnd: [212.0; 217.48189075057604].\n",
      "out [796] Branching on variable 38\n",
      "out [796] Gap: 0.025206194095779087. Bnd: [212.0; 217.48189075057604].\n",
      "out [797] Branching on variable 33"
     ]
    },
    {
     "name": "stdout",
     "output_type": "stream",
     "text": [
      "\n",
      "out [797] Gap: 0.025206194095779087. Bnd: [212.0; 217.48189075057604].\n",
      "out [798] Branching on variable 11\n",
      "out [798] Gap: 0.025206194095779087. Bnd: [212.0; 217.48189075057604].\n",
      "out [799] Branching on variable 18\n",
      "out [799] Gap: 0.025206194095779087. Bnd: [212.0; 217.48189075057604].\n",
      "out [800] Branching on variable 38\n",
      "out [800] Gap: 0.025206194095779087. Bnd: [212.0; 217.48189075057604].\n"
     ]
    },
    {
     "name": "stdout",
     "output_type": "stream",
     "text": [
      "out [801] Branching on variable 33\n",
      "out [801] Gap: 0.025206194095779087. Bnd: [212.0; 217.48189075057604].\n",
      "out [802] Branching on variable 37\n",
      "out [802] Gap: 0.025206194095779087. Bnd: [212.0; 217.48189075057604].\n",
      "out [803] Branching on variable 14\n",
      "out [803] Gap: 0.025206194095779087. Bnd: [212.0; 217.48189075057604].\n",
      "out [804] Branching on variable 21\n",
      "out [804] Gap: 0.025206194095779087. Bnd: [212.0; 217.48189075057604].\n",
      "out [805] Branching on variable 1\n"
     ]
    },
    {
     "name": "stdout",
     "output_type": "stream",
     "text": [
      "out [805] Gap: 0.025206194095779087. Bnd: [212.0; 217.48189075057604].\n",
      "out [806] Branching on variable 34\n",
      "out [806] Gap: 0.025206194095779087. Bnd: [212.0; 217.48189075057604].\n",
      "out [807] Branching on variable 4\n",
      "out [807] Gap: 0.025206194095779087. Bnd: [212.0; 217.48189075057604].\n",
      "out [808] Branching on variable 20\n",
      "out [808] Gap: 0.025206194095779087. Bnd: [212.0; 217.48189075057604].\n",
      "out [809] Branching on variable 19"
     ]
    },
    {
     "name": "stdout",
     "output_type": "stream",
     "text": [
      "\n",
      "out [809] Gap: 0.025206194095779087. Bnd: [212.0; 217.48189075057604].\n",
      "out [810] Branching on variable 4\n",
      "out [810] Gap: 0.025206194095779087. Bnd: [212.0; 217.48189075057604].\n",
      "out [811] Branching on variable 28\n",
      "out [811] Gap: 0.025206194095779087. Bnd: [212.0; 217.48189075057604].\n",
      "out [812] Branching on variable 9\n",
      "out [812] Gap: 0.025206194095779087. Bnd: [212.0; 217.48189075057604].\n",
      "out [813] Branching on variable 9"
     ]
    },
    {
     "name": "stdout",
     "output_type": "stream",
     "text": [
      "\n",
      "out [813] Gap: 0.025206194095779087. Bnd: [212.0; 217.48189075057604].\n",
      "out [814] Branching on variable 34\n",
      "out [814] Gap: 0.025206194095779087. Bnd: [212.0; 217.48189075057604].\n",
      "out [815] Branching on variable 20\n",
      "out [815] Gap: 0.025206194095779087. Bnd: [212.0; 217.48189075057604].\n",
      "out [816] Branching on variable 32\n",
      "out [816] Gap: 0.025206194095779087. Bnd: [212.0; 217.48189075057604].\n",
      "out [817] Branching on variable 10\n"
     ]
    },
    {
     "name": "stdout",
     "output_type": "stream",
     "text": [
      "out [817] Gap: 0.025206194095779087. Bnd: [212.0; 217.48189075057604].\n",
      "out [818] Branching on variable 21\n",
      "out [818] Gap: 0.025206194095779087. Bnd: [212.0; 217.48189075057604].\n",
      "out [819] Branching on variable 9\n",
      "out [819] Gap: 0.025206194095779087. Bnd: [212.0; 217.48189075057604].\n",
      "out [820] Branching on variable 14\n"
     ]
    },
    {
     "name": "stdout",
     "output_type": "stream",
     "text": [
      "out [820] Gap: 0.025206194095779087. Bnd: [212.0; 217.48189075057604].\n",
      "out [821] Branching on variable 21\n",
      "out [821] Gap: 0.025206194095779087. Bnd: [212.0; 217.48189075057604].\n",
      "out [822] Branching on variable 31\n",
      "out [822] Gap: 0.025206194095779087. Bnd: [212.0; 217.48189075057604].\n",
      "out [823] Branching on variable 27\n",
      "out [823] Gap: 0.025206194095779087. Bnd: [212.0; 217.48189075057604].\n",
      "out [824] Branching on variable 22\n",
      "out [824] Gap: 0.025206194095779087. Bnd: [212.0; 217.48189075057604].\n",
      "out [825] Branching on variable 32\n"
     ]
    },
    {
     "name": "stdout",
     "output_type": "stream",
     "text": [
      "out [825] Gap: 0.025206194095779087. Bnd: [212.0; 217.48189075057604].\n",
      "out [826] Branching on variable 33\n",
      "out [826] Gap: 0.025206194095779087. Bnd: [212.0; 217.48189075057604].\n",
      "out [827] Branching on variable 22\n",
      "out [827] Gap: 0.025206194095779087. Bnd: [212.0; 217.48189075057604].\n",
      "out [828] Branching on variable 37\n"
     ]
    },
    {
     "name": "stdout",
     "output_type": "stream",
     "text": [
      "out [828] Gap: 0.025206194095779087. Bnd: [212.0; 217.48189075057604].\n",
      "out [829] Branching on variable 33\n",
      "out [829] Gap: 0.025206194095779087. Bnd: [212.0; 217.48189075057604].\n",
      "out [830] Branching on variable 9\n",
      "out [830] Gap: 0.025206194095779087. Bnd: [212.0; 217.48189075057604].\n",
      "out [831] Branching on variable 34\n",
      "out [831] Gap: 0.025206194095779087. Bnd: [212.0; 217.48189075057604].\n",
      "out [832] Branching on variable 4"
     ]
    },
    {
     "name": "stdout",
     "output_type": "stream",
     "text": [
      "\n",
      "out [832] Gap: 0.025206194095779087. Bnd: [212.0; 217.48189075057604].\n",
      "out [833] Branching on variable 32\n",
      "out [833] Gap: 0.025206194095779087. Bnd: [212.0; 217.48189075057604].\n",
      "out [834] Branching on variable 4\n",
      "out [834] Gap: 0.025206194095779087. Bnd: [212.0; 217.48189075057604].\n",
      "out [835] Branching on variable 33\n",
      "out [835] Gap: 0.025206194095779087. Bnd: [212.0; 217.48189075057604].\n",
      "out [836] Branching on variable 38\n"
     ]
    },
    {
     "name": "stdout",
     "output_type": "stream",
     "text": [
      "out [836] Gap: 0.025206194095779087. Bnd: [212.0; 217.48189075057604].\n",
      "out [837] Branching on variable 22\n",
      "out [837] Gap: 0.025206194095779087. Bnd: [212.0; 217.48189075057604].\n",
      "out [838] Branching on variable 34\n",
      "out [838] Gap: 0.025206194095779087. Bnd: [212.0; 217.48189075057604].\n",
      "out [839] Branching on variable 28"
     ]
    },
    {
     "name": "stdout",
     "output_type": "stream",
     "text": [
      "\n",
      "out [839] Gap: 0.025206194095779087. Bnd: [212.0; 217.48189075057604].\n",
      "out [840] Branching on variable 9\n",
      "out [840] Gap: 0.025206194095779087. Bnd: [212.0; 217.48189075057604].\n",
      "out [841] Branching on variable 18\n",
      "out [841] Gap: 0.025206194095779087. Bnd: [212.0; 217.48189075057604].\n",
      "out [842] Branching on variable 11\n",
      "out [842] Gap: 0.025206194095779087. Bnd: [212.0; 217.48189075057604].\n",
      "out [843] Branching on variable 9\n",
      "out [843] Gap: 0.025206194095779087. Bnd: [212.0; 217.48189075057604].\n",
      "out [844] Branching on variable 27"
     ]
    },
    {
     "name": "stdout",
     "output_type": "stream",
     "text": [
      "\n",
      "out [844] Gap: 0.025206194095779087. Bnd: [212.0; 217.48189075057604].\n",
      "out [845] Branching on variable 17\n",
      "out [845] Gap: 0.025206194095779087. Bnd: [212.0; 217.48189075057604].\n",
      "out [846] Branching on variable 14\n",
      "out [846] Gap: 0.025206194095779087. Bnd: [212.0; 217.48189075057604].\n",
      "out [847] Branching on variable 9\n",
      "out [847] Gap: 0.025206194095779087. Bnd: [212.0; 217.48189075057604].\n",
      "out [848] Branching on variable 7\n"
     ]
    },
    {
     "name": "stdout",
     "output_type": "stream",
     "text": [
      "out [848] Gap: 0.025206194095779087. Bnd: [212.0; 217.48189075057604].\n",
      "out [849] Branching on variable 7\n",
      "out [849] Gap: 0.025206194095779087. Bnd: [212.0; 217.48189075057604].\n",
      "out [850] Branching on variable 3\n",
      "out [850] Gap: 0.025206194095779087. Bnd: [212.0; 217.48189075057604].\n",
      "out [851] Branching on variable 15\n",
      "out [851] Gap: 0.025206194095779087. Bnd: [212.0; 217.48189075057604].\n",
      "out [852] Branching on variable 13\n"
     ]
    },
    {
     "name": "stdout",
     "output_type": "stream",
     "text": [
      "out [852] Gap: 0.025206194095779087. Bnd: [212.0; 217.48189075057604].\n",
      "out [853] Branching on variable 3\n",
      "out [853] Gap: 0.025206194095779087. Bnd: [212.0; 217.48189075057604].\n",
      "out [854] Branching on variable 34\n",
      "out [854] Gap: 0.025206194095779087. Bnd: [212.0; 217.48189075057604].\n",
      "out [855] Branching on variable 7\n",
      "out [855] Gap: 0.025206194095779087. Bnd: [212.0; 217.48189075057604].\n"
     ]
    },
    {
     "name": "stdout",
     "output_type": "stream",
     "text": [
      "out [856] Branching on variable 36\n",
      "out [856] Gap: 0.025206194095779087. Bnd: [212.0; 217.48189075057604].\n",
      "out [857] Branching on variable 11\n",
      "out [857] Gap: 0.025206194095779087. Bnd: [212.0; 217.48189075057604].\n",
      "out [858] Branching on variable 34\n",
      "out [858] Gap: 0.025206194095779087. Bnd: [212.0; 217.48189075057604].\n",
      "out [859] Branching on variable 14\n",
      "out [859] Gap: 0.025206194095779087. Bnd: [212.0; 217.48189075057604].\n",
      "out [860] Branching on variable 13\n"
     ]
    },
    {
     "name": "stdout",
     "output_type": "stream",
     "text": [
      "out [860] Gap: 0.025206194095779087. Bnd: [212.0; 217.48189075057604].\n",
      "out [861] Branching on variable 27\n"
     ]
    },
    {
     "name": "stdout",
     "output_type": "stream",
     "text": [
      "out [861] Gap: 0.025206194095779087. Bnd: [212.0; 217.48189075057604].\n",
      "out [862] Branching on variable 20\n",
      "out [862] Gap: 0.025206194095779087. Bnd: [212.0; 217.48189075057604].\n",
      "out [863] Branching on variable 27\n",
      "out [863] Gap: 0.025206194095779087. Bnd: [212.0; 217.48189075057604].\n",
      "out [864] Branching on variable 37\n"
     ]
    },
    {
     "name": "stdout",
     "output_type": "stream",
     "text": [
      "out [864] Gap: 0.025206194095779087. Bnd: [212.0; 217.48189075057604].\n",
      "out [865] Branching on variable 15\n",
      "out [865] Gap: 0.025206194095779087. Bnd: [212.0; 217.48189075057604].\n",
      "out [866] Branching on variable 5\n",
      "out [866] Gap: 0.025206194095779087. Bnd: [212.0; 217.48189075057604].\n",
      "out [867] Branching on variable 19\n"
     ]
    },
    {
     "name": "stdout",
     "output_type": "stream",
     "text": [
      "out [867] Gap: 0.025206194095779087. Bnd: [212.0; 217.48189075057604].\n",
      "out [868] Branching on variable 9\n",
      "out [868] Gap: 0.025206194095779087. Bnd: [212.0; 217.48189075057604].\n",
      "out [869] Branching on variable 6\n",
      "out [869] Gap: 0.025206194095779087. Bnd: [212.0; 217.48189075057604].\n",
      "out [870] Branching on variable 4\n",
      "out [870] Gap: 0.025206194095779087. Bnd: [212.0; 217.48189075057604].\n",
      "out [871] Branching on variable 28\n",
      "out [871] Gap: 0.025206194095779087. Bnd: [212.0; 217.48189075057604].\n",
      "out [872] Branching on variable 4"
     ]
    },
    {
     "name": "stdout",
     "output_type": "stream",
     "text": [
      "\n",
      "out [872] Gap: 0.025206194095779087. Bnd: [212.0; 217.48189075057604].\n",
      "out [873] Branching on variable 6\n",
      "out [873] Gap: 0.025206194095779087. Bnd: [212.0; 217.48189075057604].\n",
      "out [874] Branching on variable 14\n",
      "out [874] Gap: 0.025206194095779087. Bnd: [212.0; 217.48189075057604].\n",
      "out [875] Branching on variable 10\n",
      "out [875] Gap: 0.025206194095779087. Bnd: [212.0; 217.48189075057604].\n",
      "out [876] Branching on variable 1\n",
      "out [876] Gap: 0.025206194095779087. Bnd: [212.0; 217.48189075057604].\n",
      "out [877] Branching on variable 32\n"
     ]
    },
    {
     "name": "stdout",
     "output_type": "stream",
     "text": [
      "out [877] Gap: 0.025206194095779087. Bnd: [212.0; 217.48189075057604].\n",
      "out [878] Branching on variable 7\n",
      "out [878] Gap: 0.025206194095779087. Bnd: [212.0; 217.48189075057604].\n",
      "out [879] Branching on variable 28\n",
      "out [879] Gap: 0.025206194095779087. Bnd: [212.0; 217.48189075057604].\n",
      "out [880] Branching on variable 36\n",
      "out [880] Gap: 0.025206194095779087. Bnd: [212.0; 217.48189075057604].\n",
      "out [881] Branching on variable 36\n"
     ]
    },
    {
     "name": "stdout",
     "output_type": "stream",
     "text": [
      "out [881] Gap: 0.025206194095779087. Bnd: [212.0; 217.48189075057604].\n",
      "out [882] Branching on variable 12\n",
      "out [882] Gap: 0.025206194095779087. Bnd: [212.0; 217.48189075057604].\n",
      "out [883] Branching on variable 20\n",
      "out [883] Gap: 0.025206194095779087. Bnd: [212.0; 217.48189075057604].\n",
      "out [884] Branching on variable 3\n",
      "out [884] Gap: 0.025206194095779087. Bnd: [212.0; 217.48189075057604].\n",
      "out [885] Branching on variable 11\n",
      "out [885] Gap: 0.025206194095779087. Bnd: [212.0; 217.48189075057604].\n",
      "out [886] Branching on variable 22"
     ]
    },
    {
     "name": "stdout",
     "output_type": "stream",
     "text": [
      "\n",
      "out [886] Gap: 0.025206194095779087. Bnd: [212.0; 217.48189075057604].\n",
      "out [887] Branching on variable 34\n",
      "out [887] Gap: 0.025206194095779087. Bnd: [212.0; 217.48189075057604].\n",
      "out [888] Branching on variable 27\n",
      "out [888] Gap: 0.025206194095779087. Bnd: [212.0; 217.48189075057604].\n",
      "out [889] Branching on variable 4\n",
      "out [889] Gap: 0.025206194095779087. Bnd: [212.0; 217.48189075057604].\n",
      "out [890] Branching on variable 28\n"
     ]
    },
    {
     "name": "stdout",
     "output_type": "stream",
     "text": [
      "out [890] Gap: 0.025206194095779087. Bnd: [212.0; 217.48189075057604].\n",
      "out [891] Branching on variable 3\n",
      "out [891] Gap: 0.025206194095779087. Bnd: [212.0; 217.48189075057604].\n",
      "out [892] Branching on variable 13\n",
      "out [892] Gap: 0.025206194095779087. Bnd: [212.0; 217.48189075057604].\n",
      "out [893] Branching on variable 22\n",
      "out [893] Gap: 0.025206194095779087. Bnd: [212.0; 217.48189075057604].\n",
      "out [894] Branching on variable 20"
     ]
    },
    {
     "name": "stdout",
     "output_type": "stream",
     "text": [
      "\n",
      "out [894] Gap: 0.025206194095779087. Bnd: [212.0; 217.48189075057604].\n",
      "out [895] Branching on variable 28\n",
      "out [895] Gap: 0.025206194095779087. Bnd: [212.0; 217.48189075057604].\n",
      "out [896] Branching on variable 5\n",
      "out [896] Gap: 0.025206194095779087. Bnd: [212.0; 217.48189075057604].\n",
      "out [897] Branching on variable 15\n",
      "out [897] Gap: 0.025206194095779087. Bnd: [212.0; 217.48189075057604].\n",
      "out [898] Branching on variable 15\n"
     ]
    },
    {
     "name": "stdout",
     "output_type": "stream",
     "text": [
      "out [898] Gap: 0.025206194095779087. Bnd: [212.0; 217.48189075057604].\n",
      "out [899] Branching on variable 19\n",
      "out [899] Gap: 0.025206194095779087. Bnd: [212.0; 217.48189075057604].\n",
      "out [900] Branching on variable 5\n",
      "out [900] Gap: 0.025206194095779087. Bnd: [212.0; 217.48189075057604].\n",
      "out [901] Branching on variable 27\n"
     ]
    },
    {
     "name": "stdout",
     "output_type": "stream",
     "text": [
      "out [901] Gap: 0.025206194095779087. Bnd: [212.0; 217.48189075057604].\n",
      "out [902] Branching on variable 6\n",
      "out [902] Gap: 0.025206194095779087. Bnd: [212.0; 217.48189075057604].\n",
      "out [903] Branching on variable 9\n"
     ]
    },
    {
     "name": "stdout",
     "output_type": "stream",
     "text": [
      "out [903] Gap: 0.025206194095779087. Bnd: [212.0; 217.48189075057604].\n",
      "out [904] Branching on variable 10\n",
      "out [904] Gap: 0.025206194095779087. Bnd: [212.0; 217.48189075057604].\n",
      "out [905] Branching on variable 1\n",
      "out [905] Gap: 0.025206194095779087. Bnd: [212.0; 217.48189075057604].\n",
      "out [906] Branching on variable 6\n",
      "out [906] Gap: 0.025206194095779087. Bnd: [212.0; 217.48189075057604].\n",
      "out [907] Branching on variable 14"
     ]
    },
    {
     "name": "stdout",
     "output_type": "stream",
     "text": [
      "\n",
      "out [907] Gap: 0.025206194095779087. Bnd: [212.0; 217.48189075057604].\n",
      "out [908] Branching on variable 10\n",
      "out [908] Gap: 0.025206194095779087. Bnd: [212.0; 217.48189075057604].\n",
      "out [909] Branching on variable 34\n",
      "out [909] Gap: 0.025206194095779087. Bnd: [212.0; 217.48189075057604].\n",
      "out [910] Branching on variable 9\n",
      "out [910] Gap: 0.025206194095779087. Bnd: [212.0; 217.48189075057604].\n",
      "out [911] Branching on variable 11\n",
      "out [911] Gap: 0.025206194095779087. Bnd: [212.0; 217.48189075057604].\n",
      "out [912] Branching on variable 14\n"
     ]
    },
    {
     "name": "stdout",
     "output_type": "stream",
     "text": [
      "out [912] Gap: 0.025206194095779087. Bnd: [212.0; 217.48189075057604].\n",
      "out [913] Branching on variable 38\n",
      "out [913] Gap: 0.025206194095779087. Bnd: [212.0; 217.48189075057604].\n",
      "out [914] Branching on variable 37\n",
      "out [914] Gap: 0.025206194095779087. Bnd: [212.0; 217.48189075057604].\n",
      "out [915] Branching on variable 7\n",
      "out [915] Gap: 0.025206194095779087. Bnd: [212.0; 217.48189075057604].\n",
      "out [916] Branching on variable 37\n",
      "out [916] Gap: 0.025206194095779087. Bnd: [212.0; 217.48189075057604].\n",
      "out [917] Branching on variable 32\n"
     ]
    },
    {
     "name": "stdout",
     "output_type": "stream",
     "text": [
      "out [917] Gap: 0.025206194095779087. Bnd: [212.0; 217.48189075057604].\n",
      "out [918] Branching on variable 4\n",
      "out [918] Gap: 0.025206194095779087. Bnd: [212.0; 217.48189075057604].\n",
      "out [919] Branching on variable 22\n",
      "out [919] Gap: 0.025206194095779087. Bnd: [212.0; 217.48189075057604].\n",
      "out [920] Branching on variable 7\n",
      "out [920] Gap: 0.025206194095779087. Bnd: [212.0; 217.48189075057604].\n",
      "out [921] Branching on variable 7\n"
     ]
    },
    {
     "name": "stdout",
     "output_type": "stream",
     "text": [
      "out [921] Gap: 0.025206194095779087. Bnd: [212.0; 217.48189075057604].\n",
      "out [922] Branching on variable 36\n",
      "out [922] Gap: 0.025206194095779087. Bnd: [212.0; 217.48189075057604].\n",
      "out [923] Branching on variable 22\n",
      "out [923] Gap: 0.025206194095779087. Bnd: [212.0; 217.48189075057604].\n",
      "out [924] Branching on variable 4\n",
      "out [924] Gap: 0.025206194095779087. Bnd: [212.0; 217.48189075057604].\n",
      "out [925] Branching on variable 11\n"
     ]
    },
    {
     "name": "stdout",
     "output_type": "stream",
     "text": [
      "out [925] Gap: 0.025206194095779087. Bnd: [212.0; 217.48189075057604].\n",
      "out [926] Branching on variable 4\n",
      "out [926] Gap: 0.025206194095779087. Bnd: [212.0; 217.48189075057604].\n",
      "out [927] Branching on variable 27\n",
      "out [927] Gap: 0.025206194095779087. Bnd: [212.0; 217.48189075057604].\n",
      "out [928] Branching on variable 5\n",
      "out [928] Gap: 0.025206194095779087. Bnd: [212.0; 217.48189075057604].\n",
      "out [929] Branching on variable 9\n"
     ]
    },
    {
     "name": "stdout",
     "output_type": "stream",
     "text": [
      "out [929] Gap: 0.025206194095779087. Bnd: [212.0; 217.48189075057604].\n",
      "out [930] Branching on variable 22\n",
      "out [930] Gap: 0.025206194095779087. Bnd: [212.0; 217.48189075057604].\n",
      "out [931] Branching on variable 37\n",
      "out [931] Gap: 0.025206194095779087. Bnd: [212.0; 217.48189075057604].\n",
      "out [932] Branching on variable 31\n",
      "out [932] Gap: 0.025206194095779087. Bnd: [212.0; 217.48189075057604].\n",
      "out [933] Branching on variable 7\n"
     ]
    },
    {
     "name": "stdout",
     "output_type": "stream",
     "text": [
      "out [933] Gap: 0.025206194095779087. Bnd: [212.0; 217.48189075057604].\n",
      "out [934] Branching on variable 15\n",
      "out [934] Gap: 0.025206194095779087. Bnd: [212.0; 217.48189075057604].\n",
      "out [935] Branching on variable 7\n",
      "out [935] Gap: 0.025206194095779087. Bnd: [212.0; 217.48189075057604].\n",
      "out [936] Branching on variable 22\n",
      "out [936] Gap: 0.025206194095779087. Bnd: [212.0; 217.48189075057604].\n",
      "out [937] Branching on variable 4\n"
     ]
    },
    {
     "name": "stdout",
     "output_type": "stream",
     "text": [
      "out [937] Gap: 0.025206194095779087. Bnd: [212.0; 217.48189075057604].\n",
      "out [938] Branching on variable 27\n",
      "out [938] Gap: 0.025206194095779087. Bnd: [212.0; 217.48189075057604].\n",
      "out [939] Branching on variable 26\n",
      "out [939] Gap: 0.025206194095779087. Bnd: [212.0; 217.48189075057604].\n",
      "out [940] Branching on variable 21\n",
      "out [940] Gap: 0.025206194095779087. Bnd: [212.0; 217.48189075057604]."
     ]
    },
    {
     "name": "stdout",
     "output_type": "stream",
     "text": [
      "\n",
      "out [941] Branching on variable 36\n",
      "out [941] Gap: 0.025206194095779087. Bnd: [212.0; 217.48189075057604].\n",
      "out [942] Branching on variable 22\n",
      "out [942] Gap: 0.025206194095779087. Bnd: [212.0; 217.48189075057604].\n",
      "out [943] Branching on variable 22\n"
     ]
    },
    {
     "name": "stdout",
     "output_type": "stream",
     "text": [
      "out [943] Gap: 0.025206194095779087. Bnd: [212.0; 217.48189075057604].\n",
      "out [944] Branching on variable 9\n",
      "out [944] Gap: 0.025206194095779087. Bnd: [212.0; 217.48189075057604].\n",
      "out [945] Branching on variable 20\n",
      "out [945] Gap: 0.025206194095779087. Bnd: [212.0; 217.48189075057604].\n",
      "out [946] Branching on variable 22\n"
     ]
    },
    {
     "name": "stdout",
     "output_type": "stream",
     "text": [
      "out [946] Gap: 0.025206194095779087. Bnd: [212.0; 217.48189075057604].\n",
      "out [947] Branching on variable 36\n",
      "out [947] Gap: 0.025206194095779087. Bnd: [212.0; 217.48189075057604].\n",
      "out [948] Branching on variable 27\n",
      "out [948] Gap: 0.025206194095779087. Bnd: [212.0; 217.48189075057604].\n",
      "out [949] Branching on variable 38\n"
     ]
    },
    {
     "name": "stdout",
     "output_type": "stream",
     "text": [
      "out [949] Gap: 0.025206194095779087. Bnd: [212.0; 217.48189075057604].\n",
      "out [950] Branching on variable 34\n",
      "out [950] Gap: 0.025206194095779087. Bnd: [212.0; 217.48189075057604].\n",
      "out [951] Branching on variable 34\n",
      "out [951] Gap: 0.025206194095779087. Bnd: [212.0; 217.48189075057604].\n",
      "out [952] Branching on variable 1\n"
     ]
    },
    {
     "name": "stdout",
     "output_type": "stream",
     "text": [
      "out [952] Gap: 0.025206194095779087. Bnd: [212.0; 217.48189075057604].\n",
      "out [953] Branching on variable 22\n",
      "out [953] Gap: 0.025206194095779087. Bnd: [212.0; 217.48189075057604].\n",
      "out [954] Branching on variable 7\n",
      "out [954] Gap: 0.025206194095779087. Bnd: [212.0; 217.48189075057604].\n",
      "out [955] Branching on variable 14\n",
      "out [955] Gap: 0.025206194095779087. Bnd: [212.0; 217.48189075057604].\n",
      "out [956] Branching on variable 28\n"
     ]
    },
    {
     "name": "stdout",
     "output_type": "stream",
     "text": [
      "out [956] Gap: 0.025206194095779087. Bnd: [212.0; 217.48189075057604].\n",
      "out [957] Branching on variable 22\n",
      "out [957] Gap: 0.025206194095779087. Bnd: [212.0; 217.48189075057604].\n",
      "out [958] Branching on variable 38\n",
      "out [958] Gap: 0.025206194095779087. Bnd: [212.0; 217.48189075057604].\n",
      "out [959] Branching on variable 20\n",
      "out [959] Gap: 0.025206194095779087. Bnd: [212.0; 217.48189075057604].\n",
      "out [960] Branching on variable 27\n"
     ]
    },
    {
     "name": "stdout",
     "output_type": "stream",
     "text": [
      "out [960] Gap: 0.025206194095779087. Bnd: [212.0; 217.48189075057604].\n",
      "out [961] Branching on variable 22\n",
      "out [961] Gap: 0.025206194095779087. Bnd: [212.0; 217.48189075057604].\n",
      "out [962] Branching on variable 12\n",
      "out [962] Gap: 0.025206194095779087. Bnd: [212.0; 217.48189075057604].\n",
      "out [963] Branching on variable 13\n",
      "out [963] Gap: 0.025206194095779087. Bnd: [212.0; 217.48189075057604].\n",
      "out [964] Branching on variable 5\n",
      "out [964] Gap: 0.025206194095779087. Bnd: [212.0; 217.48189075057604].\n",
      "out [965] Branching on variable 7"
     ]
    },
    {
     "name": "stdout",
     "output_type": "stream",
     "text": [
      "\n",
      "out [965] Gap: 0.025206194095779087. Bnd: [212.0; 217.48189075057604].\n",
      "out [966] Branching on variable 7\n",
      "out [966] Gap: 0.025206194095779087. Bnd: [212.0; 217.48189075057604].\n",
      "out [967] Branching on variable 11\n",
      "out [967] Gap: 0.025206194095779087. Bnd: [212.0; 217.48189075057604].\n",
      "out [968] Branching on variable 27\n",
      "out [968] Gap: 0.025206194095779087. Bnd: [212.0; 217.48189075057604].\n",
      "out [969] Branching on variable 36\n"
     ]
    },
    {
     "name": "stdout",
     "output_type": "stream",
     "text": [
      "out [969] Gap: 0.025206194095779087. Bnd: [212.0; 217.48189075057604].\n",
      "out [970] Branching on variable 38\n",
      "out [970] Gap: 0.025206194095779087. Bnd: [212.0; 217.48189075057604].\n",
      "out [971] Branching on variable 32\n",
      "out [971] Gap: 0.025206194095779087. Bnd: [212.0; 217.48189075057604].\n",
      "out [972] Branching on variable 40"
     ]
    },
    {
     "name": "stdout",
     "output_type": "stream",
     "text": [
      "\n",
      "out [972] Gap: 0.025206194095779087. Bnd: [212.0; 217.48189075057604].\n",
      "out [973] Branching on variable 6\n",
      "out [973] Gap: 0.025206194095779087. Bnd: [212.0; 217.48189075057604].\n",
      "out [974] Branching on variable 10\n"
     ]
    },
    {
     "name": "stdout",
     "output_type": "stream",
     "text": [
      "out [974] Gap: 0.025206194095779087. Bnd: [212.0; 217.48189075057604].\n",
      "out [975] Branching on variable 8\n",
      "out [975] Gap: 0.025206194095779087. Bnd: [212.0; 217.48189075057604].\n",
      "out [976] Branching on variable 12\n",
      "out [976] Gap: 0.025206194095779087. Bnd: [212.0; 217.48189075057604].\n",
      "out [977] Branching on variable 14\n",
      "out [977] Gap: 0.025206194095779087. Bnd: [212.0; 217.48189075057604].\n",
      "out [978] Branching on variable 23"
     ]
    },
    {
     "name": "stdout",
     "output_type": "stream",
     "text": [
      "\n",
      "out [978] Gap: 0.025206194095779087. Bnd: [212.0; 217.48189075057604].\n",
      "out [979] Branching on variable 4\n",
      "out [979] Gap: 0.025206194095779087. Bnd: [212.0; 217.48189075057604].\n",
      "out [980] Branching on variable 4\n",
      "out [980] Gap: 0.025206194095779087. Bnd: [212.0; 217.48189075057604].\n",
      "out [981] Branching on variable 1\n",
      "out [981] Gap: 0.025206194095779087. Bnd: [212.0; 217.48189075057604].\n",
      "out [982] Branching on variable 14\n",
      "out [982] Gap: 0.025206194095779087. Bnd: [212.0; 217.48189075057604].\n",
      "out [983] Branching on variable 33"
     ]
    },
    {
     "name": "stdout",
     "output_type": "stream",
     "text": [
      "\n",
      "out [983] Gap: 0.025206194095779087. Bnd: [212.0; 217.48189075057604].\n",
      "out [984] Branching on variable 22\n",
      "out [984] Gap: 0.025206194095779087. Bnd: [212.0; 217.48189075057604].\n",
      "out [985] Branching on variable 38\n"
     ]
    },
    {
     "name": "stdout",
     "output_type": "stream",
     "text": [
      "out [985] Gap: 0.025206194095779087. Bnd: [212.0; 217.48189075057604].\n",
      "out [986] Branching on variable 35\n",
      "out [986] Gap: 0.025206194095779087. Bnd: [212.0; 217.48189075057604].\n",
      "out [987] Branching on variable 18\n",
      "out [987] Gap: 0.025206194095779087. Bnd: [212.0; 217.48189075057604].\n",
      "out [988] Branching on variable 9\n"
     ]
    },
    {
     "name": "stdout",
     "output_type": "stream",
     "text": [
      "out [988] Gap: 0.025206194095779087. Bnd: [212.0; 217.48189075057604].\n",
      "out [989] Branching on variable 36\n",
      "out [989] Gap: 0.025206194095779087. Bnd: [212.0; 217.48189075057604].\n",
      "out [990] Branching on variable 12\n",
      "out [990] Gap: 0.025206194095779087. Bnd: [212.0; 217.48189075057604].\n",
      "out [991] Branching on variable 35\n",
      "out [991] Gap: 0.025206194095779087. Bnd: [212.0; 217.48189075057604].\n",
      "out [992] Branching on variable 12\n"
     ]
    },
    {
     "name": "stdout",
     "output_type": "stream",
     "text": [
      "out [992] Gap: 0.025206194095779087. Bnd: [212.0; 217.48189075057604].\n",
      "out [993] Branching on variable 35\n",
      "out [993] Gap: 0.025206194095779087. Bnd: [212.0; 217.48189075057604].\n",
      "out [994] Branching on variable 31\n",
      "out [994] Gap: 0.025206194095779087. Bnd: [212.0; 217.48189075057604].\n",
      "out [995] Branching on variable 40\n",
      "out [995] Gap: 0.025206194095779087. Bnd: [212.0; 217.48189075057604].\n",
      "out [996] Branching on variable 28"
     ]
    },
    {
     "name": "stdout",
     "output_type": "stream",
     "text": [
      "\n",
      "out [996] Gap: 0.025206194095779087. Bnd: [212.0; 217.48189075057604].\n",
      "out [997] Branching on variable 12\n",
      "out [997] Gap: 0.025206194095779087. Bnd: [212.0; 217.48189075057604].\n",
      "out [998] Branching on variable 9\n",
      "out [998] Gap: 0.025206194095779087. Bnd: [212.0; 217.48189075057604].\n",
      "out [999] Branching on variable 38\n"
     ]
    },
    {
     "name": "stdout",
     "output_type": "stream",
     "text": [
      "out [999] Gap: 0.025206194095779087. Bnd: [212.0; 217.48189075057604].\n",
      "....."
     ]
    },
    {
     "name": "stdout",
     "output_type": "stream",
     "text": [
      "....."
     ]
    },
    {
     "name": "stdout",
     "output_type": "stream",
     "text": [
      "....."
     ]
    },
    {
     "name": "stdout",
     "output_type": "stream",
     "text": [
      "...."
     ]
    },
    {
     "name": "stdout",
     "output_type": "stream",
     "text": [
      "..."
     ]
    },
    {
     "name": "stdout",
     "output_type": "stream",
     "text": [
      ".."
     ]
    },
    {
     "name": "stdout",
     "output_type": "stream",
     "text": [
      "...."
     ]
    },
    {
     "name": "stdout",
     "output_type": "stream",
     "text": [
      "....."
     ]
    },
    {
     "name": "stdout",
     "output_type": "stream",
     "text": [
      "...."
     ]
    },
    {
     "name": "stdout",
     "output_type": "stream",
     "text": [
      "....."
     ]
    },
    {
     "name": "stdout",
     "output_type": "stream",
     "text": [
      "....."
     ]
    },
    {
     "name": "stdout",
     "output_type": "stream",
     "text": [
      "......."
     ]
    },
    {
     "name": "stdout",
     "output_type": "stream",
     "text": [
      "......"
     ]
    },
    {
     "name": "stdout",
     "output_type": "stream",
     "text": [
      "....."
     ]
    },
    {
     "name": "stdout",
     "output_type": "stream",
     "text": [
      ".."
     ]
    },
    {
     "name": "stdout",
     "output_type": "stream",
     "text": [
      "....."
     ]
    },
    {
     "name": "stdout",
     "output_type": "stream",
     "text": [
      "...."
     ]
    },
    {
     "name": "stdout",
     "output_type": "stream",
     "text": [
      "...."
     ]
    },
    {
     "name": "stdout",
     "output_type": "stream",
     "text": [
      "..."
     ]
    },
    {
     "name": "stdout",
     "output_type": "stream",
     "text": [
      "......."
     ]
    },
    {
     "name": "stdout",
     "output_type": "stream",
     "text": [
      "...."
     ]
    },
    {
     "name": "stdout",
     "output_type": "stream",
     "text": [
      "....."
     ]
    },
    {
     "name": "stdout",
     "output_type": "stream",
     "text": [
      "....."
     ]
    },
    {
     "name": "stdout",
     "output_type": "stream",
     "text": [
      ".."
     ]
    },
    {
     "name": "stdout",
     "output_type": "stream",
     "text": [
      "......"
     ]
    },
    {
     "name": "stdout",
     "output_type": "stream",
     "text": [
      "....."
     ]
    },
    {
     "name": "stdout",
     "output_type": "stream",
     "text": [
      "...."
     ]
    },
    {
     "name": "stdout",
     "output_type": "stream",
     "text": [
      "...."
     ]
    },
    {
     "name": "stdout",
     "output_type": "stream",
     "text": [
      "....."
     ]
    },
    {
     "name": "stdout",
     "output_type": "stream",
     "text": [
      "..."
     ]
    },
    {
     "name": "stdout",
     "output_type": "stream",
     "text": [
      "...."
     ]
    },
    {
     "name": "stdout",
     "output_type": "stream",
     "text": [
      "..."
     ]
    },
    {
     "name": "stdout",
     "output_type": "stream",
     "text": [
      "..."
     ]
    },
    {
     "name": "stdout",
     "output_type": "stream",
     "text": [
      "..."
     ]
    },
    {
     "name": "stdout",
     "output_type": "stream",
     "text": [
      ".."
     ]
    },
    {
     "name": "stdout",
     "output_type": "stream",
     "text": [
      "...."
     ]
    },
    {
     "name": "stdout",
     "output_type": "stream",
     "text": [
      "...."
     ]
    },
    {
     "name": "stdout",
     "output_type": "stream",
     "text": [
      "....."
     ]
    },
    {
     "name": "stdout",
     "output_type": "stream",
     "text": [
      "..."
     ]
    },
    {
     "name": "stdout",
     "output_type": "stream",
     "text": [
      "..."
     ]
    },
    {
     "name": "stdout",
     "output_type": "stream",
     "text": [
      "...."
     ]
    },
    {
     "name": "stdout",
     "output_type": "stream",
     "text": [
      ".."
     ]
    },
    {
     "name": "stdout",
     "output_type": "stream",
     "text": [
      "....."
     ]
    },
    {
     "name": "stdout",
     "output_type": "stream",
     "text": [
      "...."
     ]
    },
    {
     "name": "stdout",
     "output_type": "stream",
     "text": [
      "..."
     ]
    },
    {
     "name": "stdout",
     "output_type": "stream",
     "text": [
      ".."
     ]
    },
    {
     "name": "stdout",
     "output_type": "stream",
     "text": [
      "....."
     ]
    },
    {
     "name": "stdout",
     "output_type": "stream",
     "text": [
      ".."
     ]
    },
    {
     "name": "stdout",
     "output_type": "stream",
     "text": [
      "...."
     ]
    },
    {
     "name": "stdout",
     "output_type": "stream",
     "text": [
      "..."
     ]
    },
    {
     "name": "stdout",
     "output_type": "stream",
     "text": [
      "...."
     ]
    },
    {
     "name": "stdout",
     "output_type": "stream",
     "text": [
      "..."
     ]
    },
    {
     "name": "stdout",
     "output_type": "stream",
     "text": [
      "....."
     ]
    },
    {
     "name": "stdout",
     "output_type": "stream",
     "text": [
      ".."
     ]
    },
    {
     "name": "stdout",
     "output_type": "stream",
     "text": [
      "...."
     ]
    },
    {
     "name": "stdout",
     "output_type": "stream",
     "text": [
      "."
     ]
    },
    {
     "name": "stdout",
     "output_type": "stream",
     "text": [
      ".."
     ]
    },
    {
     "name": "stdout",
     "output_type": "stream",
     "text": [
      "......"
     ]
    },
    {
     "name": "stdout",
     "output_type": "stream",
     "text": [
      "....."
     ]
    },
    {
     "name": "stdout",
     "output_type": "stream",
     "text": [
      "...."
     ]
    },
    {
     "name": "stdout",
     "output_type": "stream",
     "text": [
      "...."
     ]
    },
    {
     "name": "stdout",
     "output_type": "stream",
     "text": [
      "......"
     ]
    },
    {
     "name": "stdout",
     "output_type": "stream",
     "text": [
      "....."
     ]
    },
    {
     "name": "stdout",
     "output_type": "stream",
     "text": [
      "..."
     ]
    },
    {
     "name": "stdout",
     "output_type": "stream",
     "text": [
      "......"
     ]
    },
    {
     "name": "stdout",
     "output_type": "stream",
     "text": [
      "..."
     ]
    },
    {
     "name": "stdout",
     "output_type": "stream",
     "text": [
      "...."
     ]
    },
    {
     "name": "stdout",
     "output_type": "stream",
     "text": [
      "."
     ]
    },
    {
     "name": "stdout",
     "output_type": "stream",
     "text": [
      "..."
     ]
    },
    {
     "name": "stdout",
     "output_type": "stream",
     "text": [
      "...."
     ]
    },
    {
     "name": "stdout",
     "output_type": "stream",
     "text": [
      "..."
     ]
    },
    {
     "name": "stdout",
     "output_type": "stream",
     "text": [
      "....."
     ]
    },
    {
     "name": "stdout",
     "output_type": "stream",
     "text": [
      "......"
     ]
    },
    {
     "name": "stdout",
     "output_type": "stream",
     "text": [
      "....."
     ]
    },
    {
     "name": "stdout",
     "output_type": "stream",
     "text": [
      "....."
     ]
    },
    {
     "name": "stdout",
     "output_type": "stream",
     "text": [
      "...."
     ]
    },
    {
     "name": "stdout",
     "output_type": "stream",
     "text": [
      ".."
     ]
    },
    {
     "name": "stdout",
     "output_type": "stream",
     "text": [
      "...."
     ]
    },
    {
     "name": "stdout",
     "output_type": "stream",
     "text": [
      "......"
     ]
    },
    {
     "name": "stdout",
     "output_type": "stream",
     "text": [
      "....."
     ]
    },
    {
     "name": "stdout",
     "output_type": "stream",
     "text": [
      "....."
     ]
    },
    {
     "name": "stdout",
     "output_type": "stream",
     "text": [
      "...."
     ]
    },
    {
     "name": "stdout",
     "output_type": "stream",
     "text": [
      "....."
     ]
    },
    {
     "name": "stdout",
     "output_type": "stream",
     "text": [
      "..."
     ]
    },
    {
     "name": "stdout",
     "output_type": "stream",
     "text": [
      "..."
     ]
    },
    {
     "name": "stdout",
     "output_type": "stream",
     "text": [
      ".."
     ]
    },
    {
     "name": "stdout",
     "output_type": "stream",
     "text": [
      "..."
     ]
    },
    {
     "name": "stdout",
     "output_type": "stream",
     "text": [
      "....."
     ]
    },
    {
     "name": "stdout",
     "output_type": "stream",
     "text": [
      "....."
     ]
    },
    {
     "name": "stdout",
     "output_type": "stream",
     "text": [
      "....."
     ]
    },
    {
     "name": "stdout",
     "output_type": "stream",
     "text": [
      "...."
     ]
    },
    {
     "name": "stdout",
     "output_type": "stream",
     "text": [
      "..."
     ]
    },
    {
     "name": "stdout",
     "output_type": "stream",
     "text": [
      "..."
     ]
    },
    {
     "name": "stdout",
     "output_type": "stream",
     "text": [
      "...."
     ]
    },
    {
     "name": "stdout",
     "output_type": "stream",
     "text": [
      "...."
     ]
    },
    {
     "name": "stdout",
     "output_type": "stream",
     "text": [
      "..."
     ]
    },
    {
     "name": "stdout",
     "output_type": "stream",
     "text": [
      "...."
     ]
    },
    {
     "name": "stdout",
     "output_type": "stream",
     "text": [
      "..."
     ]
    },
    {
     "name": "stdout",
     "output_type": "stream",
     "text": [
      ".."
     ]
    },
    {
     "name": "stdout",
     "output_type": "stream",
     "text": [
      "\n",
      "out [1390] Found a new incumbent. Value: 213.0\n",
      "..."
     ]
    },
    {
     "name": "stdout",
     "output_type": "stream",
     "text": [
      "..."
     ]
    },
    {
     "name": "stdout",
     "output_type": "stream",
     "text": [
      "...."
     ]
    },
    {
     "name": "stdout",
     "output_type": "stream",
     "text": [
      "......"
     ]
    },
    {
     "name": "stdout",
     "output_type": "stream",
     "text": [
      "......."
     ]
    },
    {
     "name": "stdout",
     "output_type": "stream",
     "text": [
      "......"
     ]
    },
    {
     "name": "stdout",
     "output_type": "stream",
     "text": [
      "......"
     ]
    },
    {
     "name": "stdout",
     "output_type": "stream",
     "text": [
      "...."
     ]
    },
    {
     "name": "stdout",
     "output_type": "stream",
     "text": [
      "."
     ]
    },
    {
     "name": "stdout",
     "output_type": "stream",
     "text": [
      "......."
     ]
    },
    {
     "name": "stdout",
     "output_type": "stream",
     "text": [
      "...."
     ]
    },
    {
     "name": "stdout",
     "output_type": "stream",
     "text": [
      "..."
     ]
    },
    {
     "name": "stdout",
     "output_type": "stream",
     "text": [
      "..."
     ]
    },
    {
     "name": "stdout",
     "output_type": "stream",
     "text": [
      "...."
     ]
    },
    {
     "name": "stdout",
     "output_type": "stream",
     "text": [
      "...."
     ]
    },
    {
     "name": "stdout",
     "output_type": "stream",
     "text": [
      "..."
     ]
    },
    {
     "name": "stdout",
     "output_type": "stream",
     "text": [
      "......"
     ]
    },
    {
     "name": "stdout",
     "output_type": "stream",
     "text": [
      "....."
     ]
    },
    {
     "name": "stdout",
     "output_type": "stream",
     "text": [
      "...."
     ]
    },
    {
     "name": "stdout",
     "output_type": "stream",
     "text": [
      "...."
     ]
    },
    {
     "name": "stdout",
     "output_type": "stream",
     "text": [
      "...."
     ]
    },
    {
     "name": "stdout",
     "output_type": "stream",
     "text": [
      "....."
     ]
    },
    {
     "name": "stdout",
     "output_type": "stream",
     "text": [
      "...."
     ]
    },
    {
     "name": "stdout",
     "output_type": "stream",
     "text": [
      "..."
     ]
    },
    {
     "name": "stdout",
     "output_type": "stream",
     "text": [
      "....."
     ]
    },
    {
     "name": "stdout",
     "output_type": "stream",
     "text": [
      "...."
     ]
    },
    {
     "name": "stdout",
     "output_type": "stream",
     "text": [
      "....."
     ]
    },
    {
     "name": "stdout",
     "output_type": "stream",
     "text": [
      "..."
     ]
    },
    {
     "name": "stdout",
     "output_type": "stream",
     "text": [
      "..."
     ]
    },
    {
     "name": "stdout",
     "output_type": "stream",
     "text": [
      "....."
     ]
    },
    {
     "name": "stdout",
     "output_type": "stream",
     "text": [
      "...."
     ]
    },
    {
     "name": "stdout",
     "output_type": "stream",
     "text": [
      "...."
     ]
    },
    {
     "name": "stdout",
     "output_type": "stream",
     "text": [
      "...."
     ]
    },
    {
     "name": "stdout",
     "output_type": "stream",
     "text": [
      "....."
     ]
    },
    {
     "name": "stdout",
     "output_type": "stream",
     "text": [
      "....."
     ]
    },
    {
     "name": "stdout",
     "output_type": "stream",
     "text": [
      "...."
     ]
    },
    {
     "name": "stdout",
     "output_type": "stream",
     "text": [
      "..."
     ]
    },
    {
     "name": "stdout",
     "output_type": "stream",
     "text": [
      ".."
     ]
    },
    {
     "name": "stdout",
     "output_type": "stream",
     "text": [
      "...."
     ]
    },
    {
     "name": "stdout",
     "output_type": "stream",
     "text": [
      ".."
     ]
    },
    {
     "name": "stdout",
     "output_type": "stream",
     "text": [
      "...."
     ]
    },
    {
     "name": "stdout",
     "output_type": "stream",
     "text": [
      "....."
     ]
    },
    {
     "name": "stdout",
     "output_type": "stream",
     "text": [
      "....."
     ]
    },
    {
     "name": "stdout",
     "output_type": "stream",
     "text": [
      "...."
     ]
    },
    {
     "name": "stdout",
     "output_type": "stream",
     "text": [
      "...."
     ]
    },
    {
     "name": "stdout",
     "output_type": "stream",
     "text": [
      "...."
     ]
    },
    {
     "name": "stdout",
     "output_type": "stream",
     "text": [
      "......"
     ]
    },
    {
     "name": "stdout",
     "output_type": "stream",
     "text": [
      "....."
     ]
    },
    {
     "name": "stdout",
     "output_type": "stream",
     "text": [
      "..."
     ]
    },
    {
     "name": "stdout",
     "output_type": "stream",
     "text": [
      "......"
     ]
    },
    {
     "name": "stdout",
     "output_type": "stream",
     "text": [
      "...."
     ]
    },
    {
     "name": "stdout",
     "output_type": "stream",
     "text": [
      "..."
     ]
    },
    {
     "name": "stdout",
     "output_type": "stream",
     "text": [
      "......"
     ]
    },
    {
     "name": "stdout",
     "output_type": "stream",
     "text": [
      "....."
     ]
    },
    {
     "name": "stdout",
     "output_type": "stream",
     "text": [
      "...."
     ]
    },
    {
     "name": "stdout",
     "output_type": "stream",
     "text": [
      "...."
     ]
    },
    {
     "name": "stdout",
     "output_type": "stream",
     "text": [
      "....."
     ]
    },
    {
     "name": "stdout",
     "output_type": "stream",
     "text": [
      "..."
     ]
    },
    {
     "name": "stdout",
     "output_type": "stream",
     "text": [
      "..."
     ]
    },
    {
     "name": "stdout",
     "output_type": "stream",
     "text": [
      "....."
     ]
    },
    {
     "name": "stdout",
     "output_type": "stream",
     "text": [
      "..."
     ]
    },
    {
     "name": "stdout",
     "output_type": "stream",
     "text": [
      "..."
     ]
    },
    {
     "name": "stdout",
     "output_type": "stream",
     "text": [
      "......"
     ]
    },
    {
     "name": "stdout",
     "output_type": "stream",
     "text": [
      "....."
     ]
    },
    {
     "name": "stdout",
     "output_type": "stream",
     "text": [
      "....."
     ]
    },
    {
     "name": "stdout",
     "output_type": "stream",
     "text": [
      "...."
     ]
    },
    {
     "name": "stdout",
     "output_type": "stream",
     "text": [
      "...."
     ]
    },
    {
     "name": "stdout",
     "output_type": "stream",
     "text": [
      "...."
     ]
    },
    {
     "name": "stdout",
     "output_type": "stream",
     "text": [
      "..."
     ]
    },
    {
     "name": "stdout",
     "output_type": "stream",
     "text": [
      "...."
     ]
    },
    {
     "name": "stdout",
     "output_type": "stream",
     "text": [
      "..."
     ]
    },
    {
     "name": "stdout",
     "output_type": "stream",
     "text": [
      "...."
     ]
    },
    {
     "name": "stdout",
     "output_type": "stream",
     "text": [
      "...."
     ]
    },
    {
     "name": "stdout",
     "output_type": "stream",
     "text": [
      "......"
     ]
    },
    {
     "name": "stdout",
     "output_type": "stream",
     "text": [
      "......"
     ]
    },
    {
     "name": "stdout",
     "output_type": "stream",
     "text": [
      "....."
     ]
    },
    {
     "name": "stdout",
     "output_type": "stream",
     "text": [
      "...."
     ]
    },
    {
     "name": "stdout",
     "output_type": "stream",
     "text": [
      "..."
     ]
    },
    {
     "name": "stdout",
     "output_type": "stream",
     "text": [
      "...."
     ]
    },
    {
     "name": "stdout",
     "output_type": "stream",
     "text": [
      "...."
     ]
    },
    {
     "name": "stdout",
     "output_type": "stream",
     "text": [
      "......"
     ]
    },
    {
     "name": "stdout",
     "output_type": "stream",
     "text": [
      "......"
     ]
    },
    {
     "name": "stdout",
     "output_type": "stream",
     "text": [
      "....."
     ]
    },
    {
     "name": "stdout",
     "output_type": "stream",
     "text": [
      "......"
     ]
    },
    {
     "name": "stdout",
     "output_type": "stream",
     "text": [
      "...."
     ]
    },
    {
     "name": "stdout",
     "output_type": "stream",
     "text": [
      "......"
     ]
    },
    {
     "name": "stdout",
     "output_type": "stream",
     "text": [
      "......"
     ]
    },
    {
     "name": "stdout",
     "output_type": "stream",
     "text": [
      "....."
     ]
    },
    {
     "name": "stdout",
     "output_type": "stream",
     "text": [
      "....."
     ]
    },
    {
     "name": "stdout",
     "output_type": "stream",
     "text": [
      "....."
     ]
    },
    {
     "name": "stdout",
     "output_type": "stream",
     "text": [
      "....."
     ]
    },
    {
     "name": "stdout",
     "output_type": "stream",
     "text": [
      "........"
     ]
    },
    {
     "name": "stdout",
     "output_type": "stream",
     "text": [
      "...."
     ]
    },
    {
     "name": "stdout",
     "output_type": "stream",
     "text": [
      "..."
     ]
    },
    {
     "name": "stdout",
     "output_type": "stream",
     "text": [
      "......"
     ]
    },
    {
     "name": "stdout",
     "output_type": "stream",
     "text": [
      "......"
     ]
    },
    {
     "name": "stdout",
     "output_type": "stream",
     "text": [
      "...."
     ]
    },
    {
     "name": "stdout",
     "output_type": "stream",
     "text": [
      "..."
     ]
    },
    {
     "name": "stdout",
     "output_type": "stream",
     "text": [
      "...."
     ]
    },
    {
     "name": "stdout",
     "output_type": "stream",
     "text": [
      "......."
     ]
    },
    {
     "name": "stdout",
     "output_type": "stream",
     "text": [
      "...."
     ]
    },
    {
     "name": "stdout",
     "output_type": "stream",
     "text": [
      "..."
     ]
    },
    {
     "name": "stdout",
     "output_type": "stream",
     "text": [
      ".."
     ]
    },
    {
     "name": "stdout",
     "output_type": "stream",
     "text": [
      "......."
     ]
    },
    {
     "name": "stdout",
     "output_type": "stream",
     "text": [
      "....."
     ]
    },
    {
     "name": "stdout",
     "output_type": "stream",
     "text": [
      "....."
     ]
    },
    {
     "name": "stdout",
     "output_type": "stream",
     "text": [
      "......"
     ]
    },
    {
     "name": "stdout",
     "output_type": "stream",
     "text": [
      "......."
     ]
    },
    {
     "name": "stdout",
     "output_type": "stream",
     "text": [
      "....."
     ]
    },
    {
     "name": "stdout",
     "output_type": "stream",
     "text": [
      "........"
     ]
    },
    {
     "name": "stdout",
     "output_type": "stream",
     "text": [
      "......."
     ]
    },
    {
     "name": "stdout",
     "output_type": "stream",
     "text": [
      "........"
     ]
    },
    {
     "name": "stdout",
     "output_type": "stream",
     "text": [
      "....."
     ]
    },
    {
     "name": "stdout",
     "output_type": "stream",
     "text": [
      "..."
     ]
    },
    {
     "name": "stdout",
     "output_type": "stream",
     "text": [
      "....."
     ]
    },
    {
     "name": "stdout",
     "output_type": "stream",
     "text": [
      "..."
     ]
    },
    {
     "name": "stdout",
     "output_type": "stream",
     "text": [
      "...."
     ]
    },
    {
     "name": "stdout",
     "output_type": "stream",
     "text": [
      "....."
     ]
    },
    {
     "name": "stdout",
     "output_type": "stream",
     "text": [
      ".."
     ]
    },
    {
     "name": "stdout",
     "output_type": "stream",
     "text": [
      "....."
     ]
    },
    {
     "name": "stdout",
     "output_type": "stream",
     "text": [
      "....."
     ]
    },
    {
     "name": "stdout",
     "output_type": "stream",
     "text": [
      "..."
     ]
    },
    {
     "name": "stdout",
     "output_type": "stream",
     "text": [
      "...."
     ]
    },
    {
     "name": "stdout",
     "output_type": "stream",
     "text": [
      "....."
     ]
    },
    {
     "name": "stdout",
     "output_type": "stream",
     "text": [
      "...."
     ]
    },
    {
     "name": "stdout",
     "output_type": "stream",
     "text": [
      "..."
     ]
    },
    {
     "name": "stdout",
     "output_type": "stream",
     "text": [
      "..."
     ]
    },
    {
     "name": "stdout",
     "output_type": "stream",
     "text": [
      "..."
     ]
    },
    {
     "name": "stdout",
     "output_type": "stream",
     "text": [
      "....."
     ]
    },
    {
     "name": "stdout",
     "output_type": "stream",
     "text": [
      "....."
     ]
    },
    {
     "name": "stdout",
     "output_type": "stream",
     "text": [
      "...."
     ]
    },
    {
     "name": "stdout",
     "output_type": "stream",
     "text": [
      "..."
     ]
    },
    {
     "name": "stdout",
     "output_type": "stream",
     "text": [
      "...."
     ]
    },
    {
     "name": "stdout",
     "output_type": "stream",
     "text": [
      "....."
     ]
    },
    {
     "name": "stdout",
     "output_type": "stream",
     "text": [
      "...."
     ]
    },
    {
     "name": "stdout",
     "output_type": "stream",
     "text": [
      "....."
     ]
    },
    {
     "name": "stdout",
     "output_type": "stream",
     "text": [
      ".."
     ]
    },
    {
     "name": "stdout",
     "output_type": "stream",
     "text": [
      "....."
     ]
    },
    {
     "name": "stdout",
     "output_type": "stream",
     "text": [
      "...."
     ]
    },
    {
     "name": "stdout",
     "output_type": "stream",
     "text": [
      "...."
     ]
    },
    {
     "name": "stdout",
     "output_type": "stream",
     "text": [
      "...."
     ]
    },
    {
     "name": "stdout",
     "output_type": "stream",
     "text": [
      "...."
     ]
    },
    {
     "name": "stdout",
     "output_type": "stream",
     "text": [
      "...."
     ]
    },
    {
     "name": "stdout",
     "output_type": "stream",
     "text": [
      "...."
     ]
    },
    {
     "name": "stdout",
     "output_type": "stream",
     "text": [
      "....."
     ]
    },
    {
     "name": "stdout",
     "output_type": "stream",
     "text": [
      "...."
     ]
    },
    {
     "name": "stdout",
     "output_type": "stream",
     "text": [
      "...."
     ]
    },
    {
     "name": "stdout",
     "output_type": "stream",
     "text": [
      "....."
     ]
    },
    {
     "name": "stdout",
     "output_type": "stream",
     "text": [
      "..."
     ]
    },
    {
     "name": "stdout",
     "output_type": "stream",
     "text": [
      "..."
     ]
    },
    {
     "name": "stdout",
     "output_type": "stream",
     "text": [
      "...."
     ]
    },
    {
     "name": "stdout",
     "output_type": "stream",
     "text": [
      "...."
     ]
    },
    {
     "name": "stdout",
     "output_type": "stream",
     "text": [
      "...."
     ]
    },
    {
     "name": "stdout",
     "output_type": "stream",
     "text": [
      "...."
     ]
    },
    {
     "name": "stdout",
     "output_type": "stream",
     "text": [
      "....."
     ]
    },
    {
     "name": "stdout",
     "output_type": "stream",
     "text": [
      "....."
     ]
    },
    {
     "name": "stdout",
     "output_type": "stream",
     "text": [
      "..."
     ]
    },
    {
     "name": "stdout",
     "output_type": "stream",
     "text": [
      "...."
     ]
    },
    {
     "name": "stdout",
     "output_type": "stream",
     "text": [
      "...."
     ]
    },
    {
     "name": "stdout",
     "output_type": "stream",
     "text": [
      "..."
     ]
    },
    {
     "name": "stdout",
     "output_type": "stream",
     "text": [
      "...."
     ]
    },
    {
     "name": "stdout",
     "output_type": "stream",
     "text": [
      "...."
     ]
    },
    {
     "name": "stdout",
     "output_type": "stream",
     "text": [
      "...."
     ]
    },
    {
     "name": "stdout",
     "output_type": "stream",
     "text": [
      "...."
     ]
    },
    {
     "name": "stdout",
     "output_type": "stream",
     "text": [
      "....."
     ]
    },
    {
     "name": "stdout",
     "output_type": "stream",
     "text": [
      "...."
     ]
    },
    {
     "name": "stdout",
     "output_type": "stream",
     "text": [
      "...."
     ]
    },
    {
     "name": "stdout",
     "output_type": "stream",
     "text": [
      "...."
     ]
    },
    {
     "name": "stdout",
     "output_type": "stream",
     "text": [
      "...."
     ]
    },
    {
     "name": "stdout",
     "output_type": "stream",
     "text": [
      "...."
     ]
    },
    {
     "name": "stdout",
     "output_type": "stream",
     "text": [
      "......"
     ]
    },
    {
     "name": "stdout",
     "output_type": "stream",
     "text": [
      "......"
     ]
    },
    {
     "name": "stdout",
     "output_type": "stream",
     "text": [
      "...."
     ]
    },
    {
     "name": "stdout",
     "output_type": "stream",
     "text": [
      "..."
     ]
    },
    {
     "name": "stdout",
     "output_type": "stream",
     "text": [
      "..."
     ]
    },
    {
     "name": "stdout",
     "output_type": "stream",
     "text": [
      "...."
     ]
    },
    {
     "name": "stdout",
     "output_type": "stream",
     "text": [
      "...."
     ]
    },
    {
     "name": "stdout",
     "output_type": "stream",
     "text": [
      "...."
     ]
    },
    {
     "name": "stdout",
     "output_type": "stream",
     "text": [
      "..."
     ]
    },
    {
     "name": "stdout",
     "output_type": "stream",
     "text": [
      ".."
     ]
    },
    {
     "name": "stdout",
     "output_type": "stream",
     "text": [
      "....."
     ]
    },
    {
     "name": "stdout",
     "output_type": "stream",
     "text": [
      "..."
     ]
    },
    {
     "name": "stdout",
     "output_type": "stream",
     "text": [
      "....."
     ]
    },
    {
     "name": "stdout",
     "output_type": "stream",
     "text": [
      "...."
     ]
    },
    {
     "name": "stdout",
     "output_type": "stream",
     "text": [
      "..."
     ]
    },
    {
     "name": "stdout",
     "output_type": "stream",
     "text": [
      "...."
     ]
    },
    {
     "name": "stdout",
     "output_type": "stream",
     "text": [
      "...."
     ]
    },
    {
     "name": "stdout",
     "output_type": "stream",
     "text": [
      "....."
     ]
    },
    {
     "name": "stdout",
     "output_type": "stream",
     "text": [
      "...."
     ]
    },
    {
     "name": "stdout",
     "output_type": "stream",
     "text": [
      "..."
     ]
    },
    {
     "name": "stdout",
     "output_type": "stream",
     "text": [
      "....."
     ]
    },
    {
     "name": "stdout",
     "output_type": "stream",
     "text": [
      "....."
     ]
    },
    {
     "name": "stdout",
     "output_type": "stream",
     "text": [
      "...."
     ]
    },
    {
     "name": "stdout",
     "output_type": "stream",
     "text": [
      "...."
     ]
    },
    {
     "name": "stdout",
     "output_type": "stream",
     "text": [
      "....."
     ]
    },
    {
     "name": "stdout",
     "output_type": "stream",
     "text": [
      "......"
     ]
    },
    {
     "name": "stdout",
     "output_type": "stream",
     "text": [
      "..."
     ]
    },
    {
     "name": "stdout",
     "output_type": "stream",
     "text": [
      "....."
     ]
    },
    {
     "name": "stdout",
     "output_type": "stream",
     "text": [
      "..."
     ]
    },
    {
     "name": "stdout",
     "output_type": "stream",
     "text": [
      "....."
     ]
    },
    {
     "name": "stdout",
     "output_type": "stream",
     "text": [
      "....."
     ]
    },
    {
     "name": "stdout",
     "output_type": "stream",
     "text": [
      "......"
     ]
    },
    {
     "name": "stdout",
     "output_type": "stream",
     "text": [
      "...."
     ]
    },
    {
     "name": "stdout",
     "output_type": "stream",
     "text": [
      "...."
     ]
    },
    {
     "name": "stdout",
     "output_type": "stream",
     "text": [
      "....."
     ]
    },
    {
     "name": "stdout",
     "output_type": "stream",
     "text": [
      "....."
     ]
    },
    {
     "name": "stdout",
     "output_type": "stream",
     "text": [
      "......"
     ]
    },
    {
     "name": "stdout",
     "output_type": "stream",
     "text": [
      ".."
     ]
    },
    {
     "name": "stdout",
     "output_type": "stream",
     "text": [
      "...."
     ]
    },
    {
     "name": "stdout",
     "output_type": "stream",
     "text": [
      "....."
     ]
    },
    {
     "name": "stdout",
     "output_type": "stream",
     "text": [
      "...."
     ]
    },
    {
     "name": "stdout",
     "output_type": "stream",
     "text": [
      ".."
     ]
    },
    {
     "name": "stdout",
     "output_type": "stream",
     "text": [
      "...."
     ]
    },
    {
     "name": "stdout",
     "output_type": "stream",
     "text": [
      ".."
     ]
    },
    {
     "name": "stdout",
     "output_type": "stream",
     "text": [
      "..."
     ]
    },
    {
     "name": "stdout",
     "output_type": "stream",
     "text": [
      "...."
     ]
    },
    {
     "name": "stdout",
     "output_type": "stream",
     "text": [
      "..."
     ]
    },
    {
     "name": "stdout",
     "output_type": "stream",
     "text": [
      "....."
     ]
    },
    {
     "name": "stdout",
     "output_type": "stream",
     "text": [
      "..."
     ]
    },
    {
     "name": "stdout",
     "output_type": "stream",
     "text": [
      "...."
     ]
    },
    {
     "name": "stdout",
     "output_type": "stream",
     "text": [
      "...."
     ]
    },
    {
     "name": "stdout",
     "output_type": "stream",
     "text": [
      "...."
     ]
    },
    {
     "name": "stdout",
     "output_type": "stream",
     "text": [
      "....."
     ]
    },
    {
     "name": "stdout",
     "output_type": "stream",
     "text": [
      "......"
     ]
    },
    {
     "name": "stdout",
     "output_type": "stream",
     "text": [
      "..."
     ]
    },
    {
     "name": "stdout",
     "output_type": "stream",
     "text": [
      "..."
     ]
    },
    {
     "name": "stdout",
     "output_type": "stream",
     "text": [
      "...."
     ]
    },
    {
     "name": "stdout",
     "output_type": "stream",
     "text": [
      "......."
     ]
    },
    {
     "name": "stdout",
     "output_type": "stream",
     "text": [
      "......."
     ]
    },
    {
     "name": "stdout",
     "output_type": "stream",
     "text": [
      "...."
     ]
    },
    {
     "name": "stdout",
     "output_type": "stream",
     "text": [
      "......"
     ]
    },
    {
     "name": "stdout",
     "output_type": "stream",
     "text": [
      "........"
     ]
    },
    {
     "name": "stdout",
     "output_type": "stream",
     "text": [
      "........"
     ]
    },
    {
     "name": "stdout",
     "output_type": "stream",
     "text": [
      "...."
     ]
    },
    {
     "name": "stdout",
     "output_type": "stream",
     "text": [
      "...."
     ]
    },
    {
     "name": "stdout",
     "output_type": "stream",
     "text": [
      "......"
     ]
    },
    {
     "name": "stdout",
     "output_type": "stream",
     "text": [
      "........"
     ]
    },
    {
     "name": "stdout",
     "output_type": "stream",
     "text": [
      "......"
     ]
    },
    {
     "name": "stdout",
     "output_type": "stream",
     "text": [
      "......"
     ]
    },
    {
     "name": "stdout",
     "output_type": "stream",
     "text": [
      "....."
     ]
    },
    {
     "name": "stdout",
     "output_type": "stream",
     "text": [
      "..."
     ]
    },
    {
     "name": "stdout",
     "output_type": "stream",
     "text": [
      "...."
     ]
    },
    {
     "name": "stdout",
     "output_type": "stream",
     "text": [
      "..."
     ]
    },
    {
     "name": "stdout",
     "output_type": "stream",
     "text": [
      "....."
     ]
    },
    {
     "name": "stdout",
     "output_type": "stream",
     "text": [
      "....."
     ]
    },
    {
     "name": "stdout",
     "output_type": "stream",
     "text": [
      "...."
     ]
    },
    {
     "name": "stdout",
     "output_type": "stream",
     "text": [
      "......."
     ]
    },
    {
     "name": "stdout",
     "output_type": "stream",
     "text": [
      "......"
     ]
    },
    {
     "name": "stdout",
     "output_type": "stream",
     "text": [
      "....."
     ]
    },
    {
     "name": "stdout",
     "output_type": "stream",
     "text": [
      "......"
     ]
    },
    {
     "name": "stdout",
     "output_type": "stream",
     "text": [
      "........"
     ]
    },
    {
     "name": "stdout",
     "output_type": "stream",
     "text": [
      "....."
     ]
    },
    {
     "name": "stdout",
     "output_type": "stream",
     "text": [
      "......."
     ]
    },
    {
     "name": "stdout",
     "output_type": "stream",
     "text": [
      "......"
     ]
    },
    {
     "name": "stdout",
     "output_type": "stream",
     "text": [
      "....."
     ]
    },
    {
     "name": "stdout",
     "output_type": "stream",
     "text": [
      "......"
     ]
    },
    {
     "name": "stdout",
     "output_type": "stream",
     "text": [
      "....."
     ]
    },
    {
     "name": "stdout",
     "output_type": "stream",
     "text": [
      "......"
     ]
    },
    {
     "name": "stdout",
     "output_type": "stream",
     "text": [
      "......"
     ]
    },
    {
     "name": "stdout",
     "output_type": "stream",
     "text": [
      "..."
     ]
    },
    {
     "name": "stdout",
     "output_type": "stream",
     "text": [
      "...."
     ]
    },
    {
     "name": "stdout",
     "output_type": "stream",
     "text": [
      "...."
     ]
    },
    {
     "name": "stdout",
     "output_type": "stream",
     "text": [
      "."
     ]
    },
    {
     "name": "stdout",
     "output_type": "stream",
     "text": [
      "....."
     ]
    },
    {
     "name": "stdout",
     "output_type": "stream",
     "text": [
      "..."
     ]
    },
    {
     "name": "stdout",
     "output_type": "stream",
     "text": [
      "..."
     ]
    },
    {
     "name": "stdout",
     "output_type": "stream",
     "text": [
      "...."
     ]
    },
    {
     "name": "stdout",
     "output_type": "stream",
     "text": [
      ".."
     ]
    },
    {
     "name": "stdout",
     "output_type": "stream",
     "text": [
      "....."
     ]
    },
    {
     "name": "stdout",
     "output_type": "stream",
     "text": [
      "...."
     ]
    },
    {
     "name": "stdout",
     "output_type": "stream",
     "text": [
      "....."
     ]
    },
    {
     "name": "stdout",
     "output_type": "stream",
     "text": [
      "....."
     ]
    },
    {
     "name": "stdout",
     "output_type": "stream",
     "text": [
      "....."
     ]
    },
    {
     "name": "stdout",
     "output_type": "stream",
     "text": [
      "..."
     ]
    },
    {
     "name": "stdout",
     "output_type": "stream",
     "text": [
      "...."
     ]
    },
    {
     "name": "stdout",
     "output_type": "stream",
     "text": [
      "......"
     ]
    },
    {
     "name": "stdout",
     "output_type": "stream",
     "text": [
      "..."
     ]
    },
    {
     "name": "stdout",
     "output_type": "stream",
     "text": [
      "...."
     ]
    },
    {
     "name": "stdout",
     "output_type": "stream",
     "text": [
      "...."
     ]
    },
    {
     "name": "stdout",
     "output_type": "stream",
     "text": [
      "..."
     ]
    },
    {
     "name": "stdout",
     "output_type": "stream",
     "text": [
      "....."
     ]
    },
    {
     "name": "stdout",
     "output_type": "stream",
     "text": [
      "...."
     ]
    },
    {
     "name": "stdout",
     "output_type": "stream",
     "text": [
      "...."
     ]
    },
    {
     "name": "stdout",
     "output_type": "stream",
     "text": [
      "......"
     ]
    },
    {
     "name": "stdout",
     "output_type": "stream",
     "text": [
      "...."
     ]
    },
    {
     "name": "stdout",
     "output_type": "stream",
     "text": [
      "..."
     ]
    },
    {
     "name": "stdout",
     "output_type": "stream",
     "text": [
      "..."
     ]
    },
    {
     "name": "stdout",
     "output_type": "stream",
     "text": [
      "...."
     ]
    },
    {
     "name": "stdout",
     "output_type": "stream",
     "text": [
      "...."
     ]
    },
    {
     "name": "stdout",
     "output_type": "stream",
     "text": [
      "....."
     ]
    },
    {
     "name": "stdout",
     "output_type": "stream",
     "text": [
      "....."
     ]
    },
    {
     "name": "stdout",
     "output_type": "stream",
     "text": [
      "..."
     ]
    },
    {
     "name": "stdout",
     "output_type": "stream",
     "text": [
      "....."
     ]
    },
    {
     "name": "stdout",
     "output_type": "stream",
     "text": [
      "...."
     ]
    },
    {
     "name": "stdout",
     "output_type": "stream",
     "text": [
      "....."
     ]
    },
    {
     "name": "stdout",
     "output_type": "stream",
     "text": [
      "..."
     ]
    },
    {
     "name": "stdout",
     "output_type": "stream",
     "text": [
      "...."
     ]
    },
    {
     "name": "stdout",
     "output_type": "stream",
     "text": [
      "...."
     ]
    },
    {
     "name": "stdout",
     "output_type": "stream",
     "text": [
      "....."
     ]
    },
    {
     "name": "stdout",
     "output_type": "stream",
     "text": [
      "...."
     ]
    },
    {
     "name": "stdout",
     "output_type": "stream",
     "text": [
      "....."
     ]
    },
    {
     "name": "stdout",
     "output_type": "stream",
     "text": [
      "....."
     ]
    },
    {
     "name": "stdout",
     "output_type": "stream",
     "text": [
      "..."
     ]
    },
    {
     "name": "stdout",
     "output_type": "stream",
     "text": [
      "....."
     ]
    },
    {
     "name": "stdout",
     "output_type": "stream",
     "text": [
      "...."
     ]
    },
    {
     "name": "stdout",
     "output_type": "stream",
     "text": [
      ".."
     ]
    },
    {
     "name": "stdout",
     "output_type": "stream",
     "text": [
      "....."
     ]
    },
    {
     "name": "stdout",
     "output_type": "stream",
     "text": [
      "..\n",
      "out Complete branch-and-bound status, including tree.\n",
      "out Upper bound: 213.0\n",
      "out Lower bound: 213.0\n",
      "out Incumbent: [1, 1, 1, 0, 1, 1, 0, 1, 1, 1, 0, 1, 1, 1, 1, 0, 1, 0, 1, 1, 1, 1, 1, 0, 1, 1, 1, 1, 0, 0, 0, 1, 0, 0, 0, 0, 0, 1, 1, 1]\n",
      "out Tree: \n",
      "out     Root node:               217.71071270267063          \n",
      "out       Var x[16]   :   0   ;   217.54956717537073          \n",
      "out         Var x[29]   :   0   ;   217.08851813788965          \n",
      "out           Var x[2]   :   0   ;   216.26057782811333          \n",
      "out             Var x[25]   :   0   ;   215.71770685364757          \n",
      "out               Var x[30]   :   0   ;   215.05620949075947          \n",
      "out                 Var x[33]   :   0   ;   214.5061988342127          \n",
      "out                   Var x[9]   :   0   ;   214.00146231822572          \n",
      "out                     Var x[35]   :   0   ;   211.12724609375       (P: Bnd)\n",
      "out                       Var x[22]   :   0   ;   210.68207638385303       (P: Bnd)\n",
      "out                         Var x[31]   :   0   ;   210.46777840587905       (P: Bnd)\n",
      "out                           Var x[37]   :   0   ;   210.22307104660044       (P: Bnd)\n",
      "out                             Var x[34]   :   0   ;   209.8135593220339       (P: Bnd)\n",
      "out                               Var x[11]   :   0   ;   209.38888888888889       (P: Bnd)\n",
      "out                                 Var x[36]   :   0   ;   209.31578947368422       (P: Bnd)\n",
      "out                                   Var x[24]   :   0   ;   208.0  (I)  (P: Opt)\n",
      "out                                   Var x[24]   :   1   ;   207.39203980099504       (P: Bnd)\n",
      "out                                 Var x[36]   :   1   ;   207.92066700353715       (P: Bnd)\n",
      "out                               Var x[11]   :   1   ;   208.02189781021897     "
     ]
    },
    {
     "name": "stdout",
     "output_type": "stream",
     "text": [
      "  (P: Bnd)\n",
      "out                                 Var x[18]   :   0   ;   207.5149426130322       (P: Bnd)\n",
      "out                                 Var x[18]   :   1   ;   206.6584538797302       (P: Bnd)\n",
      "out                             Var x[34]   :   1   ;   209.75487139516758       (P: Bnd)\n",
      "out                               Var x[24]   :   0   ;   209.6271186440678       (P: Bnd)\n",
      "out                                 Var x[18]   :   0   ;   209.0  (I)  (P: Opt)\n",
      "out                                 Var x[18]   :   1   ;   207.15109890109892       (P: Bnd)\n",
      "out                               Var x[24]   :   1   ;   208.7014723395042       (P: Bnd)\n",
      "out                           Var x[37]   :   1   ;   209.1923076923077       (P: Bnd)\n",
      "out                             Var x[39]   :   0   ;   207.7226277372263       (P: Bnd)\n",
      "out                             Var x[39]   :   1   ;   209.0672514619883"
     ]
    },
    {
     "name": "stdout",
     "output_type": "stream",
     "text": [
      "       (P: Bnd)\n",
      "out                               Var x[7]   :   0   ;   207.94017094017093       (P: Bnd)\n",
      "out                               Var x[7]   :   1   ;   208.78947368421052       (P: Bnd)\n",
      "out                         Var x[31]   :   1   ;   210.28488372093025       (P: Bnd)\n",
      "out                           Var x[18]   :   0   ;   209.3       (P: Bnd)\n",
      "out                             Var x[24]   :   0   ;   209.1       (P: Bnd)\n",
      "out                               Var x[7]   :   0   ;   208.76470588235293       (P: Bnd)\n",
      "out                               Var x[7]   :   1   ;   208.81773399014776       (P: Bnd)\n",
      "out                             Var x[24]   :   1   ;   207.97584470836037       (P: Bnd)\n",
      "out                           Var x[18]   :   1   ;   209.9457232427286       (P: Bnd)\n",
      "out                             Var x[7]   :   0   ;   208.60757946210268       (P: Bnd)\n",
      "out                             Var x[7]   :   1   ;   209.70710032700586       (P: Bnd)\n",
      "out                               Var x[21]   :   0   ;   208.22769953051645       (P: Bnd)\n",
      "out                               Var x[21]   :   1   ;   208.85457516339872       (P: Bnd)\n",
      "out                       Var x[22]   :   1   ;   211.08433224468175       (P: Bnd)"
     ]
    },
    {
     "name": "stdout",
     "output_type": "stream",
     "text": [
      "\n",
      "out                         Var x[24]   :   0   ;   211.0321100917431       (P: Bnd)\n",
      "out                           Var x[18]   :   0   ;   210.75       (P: Bnd)\n"
     ]
    },
    {
     "name": "stdout",
     "output_type": "stream",
     "text": [
      "out                             Var x[7]   :   0   ;   210.54676258992808       (P: Bnd)\n",
      "out                               Var x[36]   :   0   ;   210.34896401308615       (P: Bnd)\n",
      "out                                 Var x[31]   :   0   ;   210.3075677863213       (P: Bnd)\n",
      "out                                   Var x[11]   :   0   ;   210.1576763485477       (P: Bnd)\n",
      "out                                     Var x[37]   :   0   ;   209.0  (I)  (P: Opt)\n",
      "out                                     Var x[37]   :   1   ;   209.11843460350156       (P: Bnd)\n",
      "out                                       Var x[34]   :   0   ;   206.95       (P: Bnd)\n",
      "out                                       Var x[34]   :   1   ;   208.8       (P: Bnd)\n",
      "out                                   Var x[11]   :   1   ;   209.54615384615386       (P: Bnd)\n",
      "out                                     Var x[34]   :   0   ;   208.9964285714286       (P: Bnd)\n",
      "out                                     Var x[34]   :   1   ;   208.61630070710828       (P: Bnd)\n",
      "out                                 Var x[31]   :   1   ;   210.1344537815126       (P: Bnd)\n",
      "out                                   Var x[40]   :   0   ;   207.92301943198805       (P: Bnd)\n",
      "out                                   Var x[40]   :   1   ;   209.8156281920327       (P: Bnd)\n",
      "out                                     Var x[38]   :   0   ;   208.76470588235293       (P: Bnd)\n",
      "out                                     Var x[38]   :   1   ;   209.72340425531917       (P: Bnd)\n",
      "out                                       Var x[15]   :   0   ;   208.7868047982552       (P: Bnd)\n",
      "out                                       Var x[15]   :   1   ;   209.61290322580643       (P: Bnd)\n",
      "out                                         Var x[39]   :   0   ;   208.71428571428572       (P: Bnd)\n",
      "out                                         Var x[39]   :   1   ;   209.5912408759124       (P: Bnd)\n",
      "out                                           Var x[34]   :   0   ;   209.1157894736842       (P: Bnd)\n",
      "out                                             Var x[11]   :   0   ;   207.41263940520446     "
     ]
    },
    {
     "name": "stdout",
     "output_type": "stream",
     "text": [
      "  (P: Bnd)\n",
      "out                                             Var x[11]   :   1   ;   208.51293103448276       (P: Bnd)\n",
      "out                                           Var x[34]   :   1   ;   209.29310344827584       (P: Bnd)\n",
      "out                                             Var x[21]   :   0   ;   207.47916666666669       (P: Bnd)\n",
      "out                                             Var x[21]   :   1   ;   209.2876712328767       (P: Bnd)\n",
      "out                                               Var x[26]   :   0   ;   207.08156028368793       (P: Bnd)\n",
      "out                                               Var x[26]   :   1   ;   209.04761904761907       (P: Bnd)\n",
      "out                                                 Var x[10]   :   0   ;   207.34492223238792       (P: Bnd)\n",
      "out                                                 Var x[10]   :   1   ;   208.8108108108108       (P: Bnd)\n",
      "out                               Var x[36]   :   1   ;   209.6256157635468       (P: Bnd)\n",
      "out                                 Var x[34]   :   0   ;   209.06579367614182       (P: Bnd)\n",
      "out                                   Var x[37]   :   0   ;   208.4600355239787       (P: Bnd)\n",
      "out                                   Var x[37]   :   1   ;   207.8       (P: Bnd)\n",
      "out                                 Var x[34]   :   1   ;   209.1504424778761       (P: Bnd)\n",
      "out                                   Var x[39]   :   0   ;   207.90373206546894       (P: Bnd)\n",
      "out                                   Var x[39]   :   1   ;   208.94736842105263       (P: Bnd)\n",
      "out                             Var x[7]   :   1   ;   210.71428571428572       (P: Bnd)\n",
      "out                               Var x[31]   :   0   ;   210.7058823529412       (P: Bnd)\n",
      "out                                 Var x[34]   :   0   ;   210.58823529411765       (P: Bnd)\n",
      "out                                   Var x[36]   :   0   ;   210.58823529411765       (P: Bnd)\n",
      "out                                     Var x[11]   :   0   ;   210.55555555555554       (P: Bnd)\n",
      "out                                       Var x[37]   :   0   ;   210.0  (I)  (P: Opt)\n",
      "out                                       Var x[37]   :   1   ;   208.6       (P: Bnd)\n",
      "out                                     Var x[11]   :   1   ;   208.8700738916256       (P: Bnd)\n",
      "out                                   Var x[36]   :   1   ;   208.86699507389162       (P: Bnd)\n",
      "out                                 Var x[34]   :   1   ;   209.7345132743363       (P: Bnd)\n"
     ]
    },
    {
     "name": "stdout",
     "output_type": "stream",
     "text": [
      "out                               Var x[31]   :   1   ;   210.15270935960592       (P: Bnd)\n",
      "out                                 Var x[39]   :   0   ;   209.2879475542108       (P: Bnd)\n",
      "out                                 Var x[39]   :   1   ;   209.8       (P: Bnd)\n",
      "out                           Var x[18]   :   1   ;   209.85933439517143       (P: Bnd)\n",
      "out                         Var x[24]   :   1   ;   210.38068398419549       (P: Bnd)\n",
      "out                           Var x[37]   :   0   ;   209.9649667405765       (P: Bnd)\n",
      "out                           Var x[37]   :   1   ;   209.54071946757102       (P: Bnd)\n",
      "out                     Var x[35]   :   1   ;   213.7752788406741          \n",
      "out                       Var x[22]   :   0   ;   212.70874459966572       (P: Bnd)\n",
      "out                         Var x[31]   :   0   ;   211.93330957939645       (P: Bnd)\n",
      "out                           Var x[37]   :   0   ;   211.76274643099936       (P: Bnd)\n",
      "out                             Var x[36]   :   0   ;   211.0844155844156       (P: Bnd)\n",
      "out                               Var x[34]   :   0   ;   210.0       (P: Bnd)\n",
      "out                                 Var x[11]   :   0   ;   209.88235294117646       (P: Bnd)\n",
      "out                                 Var x[11]   :   1   ;   207.88050314465409       (P: Bnd)\n",
      "out                               Var x[34]   :   1   ;   210.09947643979055       (P: Bnd)\n",
      "out                                 Var x[38]   :   0   ;   208.0       (P: Bnd)\n",
      "out                                 Var x[38]   :   1   ;   209.90361445783134       (P: Bnd)\n",
      "out                             Var x[36]   :   1   ;   210.6675237263233       (P: Bnd)\n",
      "out                               Var x[14]   :   0   ;   206.9431818181818       (P: Bnd)\n",
      "out                               Var x[14]   :   1   ;   210.28502731623033       (P: Bnd)\n",
      "out                                 Var x[39]   :   0   ;   206.6412078152753       (P: Bnd)\n",
      "out                                 Var x[39]   :   1   ;   210.17979965958574       (P: Bnd)\n",
      "out                                   Var x[21]   :   0   ;   208.71976828385226       (P: Bnd)\n",
      "out                                   Var x[21]   :   1   ;   209.95104331049657       (P: Bnd)\n",
      "out                           Var x[37]   :   1   ;   211.20960557178716       (P: Bnd)\n",
      "out                             Var x[12]   :   0   ;   209.58547008547006       (P: Bnd)\n",
      "out                             Var x[12]   :   1   ;   210.64546733960984       (P: Bnd)\n",
      "out                               Var x[34]   :   0   ;   210.32278936017255       (P: Bnd)\n",
      "out                                 Var x[28]   :   0   ;   207.48070175438596       (P: Bnd)\n",
      "out                                 Var x[28]   :   1   ;   210.24026493627667       (P: Bnd)\n",
      "out                                   Var x[36]   :   0   ;   209.4506134969325       (P: Bnd)\n",
      "out                                   Var x[36]   :   1   ;   210.04576633958203       (P: Bnd)\n",
      "out                                     Var x[39]   :   0   ;   209.7108792846498       (P: Bnd)\n",
      "out                                     Var x[39]   :   1   ;   207.83596573321472       (P: Bnd)\n",
      "out                               Var x[34]   :   1   ;   209.76053719267833       (P: Bnd)\n",
      "out                         Var x[31]   :   1   ;   211.94067869973594"
     ]
    },
    {
     "name": "stdout",
     "output_type": "stream",
     "text": [
      "       (P: Bnd)\n",
      "out                           Var x[34]   :   0   ;   211.84368912712452       (P: Bnd)\n",
      "out                             Var x[11]   :   0   ;   210.88598658665725       (P: Bnd)\n",
      "out                               Var x[39]   :   0   ;   208.92809289861546       (P: Bnd)\n",
      "out                               Var x[39]   :   1   ;   210.82747771368645       (P: Bnd)\n",
      "out                                 Var x[28]   :   0   ;   209.49073251942286       (P: Bnd)\n",
      "out                                 Var x[28]   :   1   ;   210.3314401622718       (P: Bnd)\n",
      "out                                   Var x[20]   :   0   ;   207.14274061990213       (P: Bnd)\n",
      "out                                   Var x[20]   :   1   ;   210.29668874172185       (P: Bnd)\n",
      "out                                     Var x[1]   :   0   ;   207.67195060904388       (P: Bnd)\n",
      "out                                     Var x[1]   :   1   ;   209.95358075492598       (P: Bnd)\n",
      "out                             Var x[11]   :   1   ;   210.88294142176574       (P: Bnd)\n",
      "out                               Var x[15]   :   0   ;   208.06921739130436       (P: Bnd)\n",
      "out                               Var x[15]   :   1   ;   210.53235420532664       (P: Bnd)\n",
      "out                                 Var x[38]   :   0   ;   209.23010148093707       (P: Bnd)\n",
      "out                                 Var x[38]   :   1   ;   210.2732394327641       (P: Bnd)\n",
      "out                                   Var x[4]   :   0   ;   207.8990284370702       (P: Bnd)\n",
      "out                                   Var x[4]   :   1   ;   210.1984993310708       (P: Bnd)\n",
      "out                                     Var x[40]   :   0   ;   207.64440687517612       (P: Bnd)\n",
      "out                                     Var x[40]   :   1   ;   210.06264461740034       (P: Bnd)\n",
      "out                                       Var x[3]   :   0   ;   205.42564178223665       (P: Bnd)\n",
      "out                                       Var x[3]   :   1   ;   209.83596219787464       (P: Bnd)\n",
      "out                           Var x[34]   :   1   ;   211.4437759168976       (P: Bnd)\n",
      "out                             Var x[38]   :   0   ;   210.80167632333917       (P: Bnd)\n",
      "out                               Var x[36]   :   0   ;   210.27816550348953       (P: Bnd)\n",
      "out                                 Var x[11]   :   0   ;   209.7600254614895       (P: Bnd)\n",
      "out                                 Var x[11]   :   1   ;   208.78915124042481       (P: Bnd)\n",
      "out                               Var x[36]   :   1   ;   209.42470089565708       (P: Bnd)\n",
      "out                             Var x[38]   :   1   ;   210.9175652895635       (P: Bnd)\n",
      "out                               Var x[7]   :   0   ;   209.98922409144456       (P: Bnd)\n",
      "out                               Var x[7]   :   1   ;   210.6206844006262       (P: Bnd)\n",
      "out                                 Var x[13]   :   0   ;   209.08095825049045       (P: Bnd)\n",
      "out                                 Var x[13]   :   1   ;   210.3187229569279       (P: Bnd)\n"
     ]
    },
    {
     "name": "stdout",
     "output_type": "stream",
     "text": [
      "out                                   Var x[15]   :   0   ;   208.78769236546154       (P: Bnd)\n",
      "out                                   Var x[15]   :   1   ;   209.99126011090198       (P: Bnd)\n",
      "out                       Var x[22]   :   1   ;   213.648090169067          \n",
      "out                         Var x[38]   :   0   ;   213.0811263828361          \n",
      "out                           Var x[36]   :   0   ;   212.77871148459383       (P: Bnd)\n",
      "out                             Var x[31]   :   0   ;   212.58333333333334       (P: Bnd)\n",
      "out                               Var x[11]   :   0   ;   212.48275862068965       (P: Bnd)\n",
      "out                                 Var x[34]   :   0   ;   212.14872798434442       (P: Bnd)\n",
      "out                                   Var x[18]   :   0   ;   210.55725190839695       (P: Bnd)\n",
      "out                                     Var x[24]   :   0   ;   209.66666666666666       (P: Bnd)\n",
      "out                                     Var x[24]   :   1   ;   209.4386849536103       (P: Bnd)\n",
      "out                                   Var x[18]   :   1   ;   209.8653819102546       (P: Bnd)\n",
      "out                                 Var x[34]   :   1   ;   211.19100294985248       (P: Bnd)\n",
      "out                                   Var x[7]   :   0   ;   208.810872261265       (P: Bnd)\n",
      "out                                   Var x[7]   :   1   ;   211.12657232704402       (P: Bnd)\n",
      "out                                     Var x[13]   :   0   ;   208.66701116163705       (P: Bnd)\n",
      "out                                     Var x[13]   :   1   ;   210.99999999999997       (P: Bnd)\n",
      "out                                       Var x[37]   :   0   ;   210.26666666666665       (P: Bnd)\n",
      "out                                         Var x[15]   :   0   ;   208.76470588235293       (P: Bnd)\n",
      "out                                         Var x[15]   :   1   ;   210.0       (P: Bnd)\n",
      "out                                           Var x[5]   :   0   ;   207.05882352941177       (P: Bnd)\n",
      "out                                           Var x[5]   :   1   ;   209.55555555555554       (P: Bnd)\n",
      "out                                       Var x[37]   :   1   ;   209.8160130128321       (P: Bnd)\n",
      "out                               Var x[11]   :   1   ;   210.08650979991765       (P: Bnd)\n",
      "out                                 Var x[10]   :   0   ;   208.02209219607371       (P: Bnd)\n",
      "out                                 Var x[10]   :   1   ;   209.72024133537587       (P: Bnd)\n",
      "out                             Var x[31]   :   1   ;   211.79025084949032       (P: Bnd)\n",
      "out                               Var x[11]   :   0   ;   211.6903690369037       (P: Bnd)\n"
     ]
    },
    {
     "name": "stdout",
     "output_type": "stream",
     "text": [
      "out                                 Var x[34]   :   0   ;   210.94133282703626       (P: Bnd)\n",
      "out                                   Var x[18]   :   0   ;   209.50625       (P: Bnd)\n",
      "out                                   Var x[18]   :   1   ;   209.70807412895678       (P: Bnd)\n",
      "out                                 Var x[34]   :   1   ;   210.62711523303201       (P: Bnd)\n",
      "out                                   Var x[15]   :   0   ;   208.92055551863433       (P: Bnd)\n",
      "out                                   Var x[15]   :   1   ;   210.3766670408049       (P: Bnd)\n",
      "out                                     Var x[23]   :   0   ;   208.28695205479454       (P: Bnd)\n",
      "out                                     Var x[23]   :   1   ;   210.17222484648087       (P: Bnd)\n",
      "out                                       Var x[13]   :   0   ;   207.92023874118283       (P: Bnd)\n",
      "out                                       Var x[13]   :   1   ;   210.0930127764866       (P: Bnd)\n",
      "out                                         Var x[4]   :   0   ;   208.12486427795872       (P: Bnd)\n",
      "out                                         Var x[4]   :   1   ;   209.92745056312427       (P: Bnd)\n",
      "out                               Var x[11]   :   1   ;   211.27653080363996       (P: Bnd)\n",
      "out                                 Var x[20]   :   0   ;   206.9411893310013       (P: Bnd)\n",
      "out                                 Var x[20]   :   1   ;   211.06052233030908       (P: Bnd)\n",
      "out                                   Var x[27]   :   0   ;   209.34612025040036       (P: Bnd)\n",
      "out                                   Var x[27]   :   1   ;   211.0461491325495       (P: Bnd)\n",
      "out                                     Var x[13]   :   0   ;   209.6906935393189       (P: Bnd)\n",
      "out                                     Var x[13]   :   1   ;   210.74475626982223       (P: Bnd)\n",
      "out                                       Var x[7]   :   0   ;   210.23267719374147       (P: Bnd)\n",
      "out                                         Var x[34]   :   0   ;   209.219270691068       (P: Bnd)\n",
      "out                                         Var x[34]   :   1   ;   208.84363337811612       (P: Bnd)\n",
      "out                                       Var x[7]   :   1   ;   210.42141623488774       (P: Bnd)\n",
      "out                                         Var x[10]   :   0   ;   209.51914580265094     "
     ]
    },
    {
     "name": "stdout",
     "output_type": "stream",
     "text": [
      "  (P: Bnd)\n",
      "out                                         Var x[10]   :   1   ;   210.1610571997307       (P: Bnd)\n",
      "out                                           Var x[5]   :   0   ;   208.1545718432511       (P: Bnd)\n",
      "out                                           Var x[5]   :   1   ;   209.35422189819724       (P: Bnd)\n",
      "out                           Var x[36]   :   1   ;   212.0058459882232       (P: Bnd)\n",
      "out                             Var x[7]   :   0   ;   211.3854183091041       (P: Bnd)\n",
      "out                               Var x[31]   :   0   ;   210.5262257696693       (P: Bnd)\n",
      "out                                 Var x[12]   :   0   ;   208.35008818342152       (P: Bnd)\n",
      "out                                 Var x[12]   :   1   ;   210.49118942731278       (P: Bnd)\n",
      "out                                   Var x[1]   :   0   ;   207.85283687943263       (P: Bnd)\n",
      "out                                   Var x[1]   :   1   ;   210.09864457831327       (P: Bnd)\n",
      "out                                     Var x[37]   :   0   ;   209.8028846153846       (P: Bnd)\n",
      "out                                     Var x[37]   :   1   ;   208.72654254515456       (P: Bnd)\n",
      "out                               Var x[31]   :   1   ;   210.05648887872962       (P: Bnd)\n",
      "out                                 Var x[39]   :   0   ;   207.50505361054533       (P: Bnd)\n",
      "out                                 Var x[39]   :   1   ;   209.99789049415708       (P: Bnd)\n",
      "out                             Var x[7]   :   1   ;   211.58258735200693       (P: Bnd)\n",
      "out                               Var x[37]   :   0   ;   211.1313623175367       (P: Bnd)\n",
      "out                                 Var x[1]   :   0   ;   208.52358642666113       (P: Bnd)\n",
      "out                                 Var x[1]   :   1   ;   210.94580335731416       (P: Bnd)\n",
      "out                                   Var x[34]   :   0   ;   210.65375960997562       (P: Bnd)\n",
      "out                                     Var x[21]   :   0   ;   208.86324786324786       (P: Bnd)\n",
      "out                                     Var x[21]   :   1   ;   209.9504918768225       (P: Bnd)\n",
      "out                                   Var x[34]   :   1   ;   209.21495405016168       (P: Bnd)\n",
      "out                               Var x[37]   :   1   ;   210.59621188595878       (P: Bnd)"
     ]
    },
    {
     "name": "stdout",
     "output_type": "stream",
     "text": [
      "\n",
      "out                                 Var x[28]   :   0   ;   209.80454808653997       (P: Bnd)\n",
      "out                                 Var x[28]   :   1   ;   210.28039052618087       (P: Bnd)\n",
      "out                                   Var x[39]   :   0   ;   207.867465531066       (P: Bnd)\n",
      "out                                   Var x[39]   :   1   ;   209.15291932652752       (P: Bnd)\n",
      "out                         Var x[38]   :   1   ;   213.40121651112037          \n",
      "out                           Var x[3]   :   0   ;   208.78939073611375       (P: Bnd)\n",
      "out                           Var x[3]   :   1   ;   213.26871839151354          \n",
      "out                             Var x[7]   :   0   ;   212.20785051941712       (P: Bnd)\n",
      "out                               Var x[34]   :   0   ;   211.9588609859054       (P: Bnd)\n",
      "out                                 Var x[11]   :   0   ;   211.70440450575876       (P: Bnd)\n",
      "out                                   Var x[1]   :   0   ;   208.93073528311766       (P: Bnd)\n",
      "out                                   Var x[1]   :   1   ;   211.67625288503064       (P: Bnd)\n",
      "out                                     Var x[39]   :   0   ;   210.21156893819335       (P: Bnd)\n",
      "out                                       Var x[37]   :   0   ;   209.4050297816016       (P: Bnd)\n",
      "out                                       Var x[37]   :   1   ;   209.0913553359022       (P: Bnd)\n",
      "out                                     Var x[39]   :   1   ;   211.59022998332833       (P: Bnd)\n",
      "out                                       Var x[36]   :   0   ;   209.2860696517413       (P: Bnd)\n",
      "out                                       Var x[36]   :   1   ;   211.4239098436639       (P: Bnd)\n",
      "out                                         Var x[32]   :   0   ;   207.85139186295504       (P: Bnd)\n",
      "out                                         Var x[32]   :   1   ;   211.1815746084089       (P: Bnd)\n",
      "out                                           Var x[21]   :   0   ;   207.9195710455764       (P: Bnd)\n",
      "out                                           Var x[21]   :   1   ;   211.1723152307064       (P: Bnd)\n",
      "out                                             Var x[14]   :   0   ;   208.0174495731147       (P: Bnd)\n",
      "out                                             Var x[14]   :   1   ;   211.06307490144548       (P: Bnd)\n",
      "out                                               Var x[20]   :   0   ;   207.76695437731195       (P: Bnd)\n",
      "out                                               Var x[20]   :   1   ;   210.80955727336615       (P: Bnd)\n",
      "out                                                 Var x[4]   :   0   ;   208.74260416864587       (P: Bnd)\n",
      "out                                                 Var x[4]   :   1   ;   210.73330585325638       (P: Bnd)\n",
      "out                                                   Var x[10]   :   0   ;   208.57948679584052       (P: Bnd)\n",
      "out                                                   Var x[10]   :   1   ;   210.25       (P: Bnd)\n",
      "out                                                     Var x[28]   :   0   ;   208.81538461538463       (P: Bnd)\n",
      "out                                                     Var x[28]   :   1   ;   209.97938144329896       (P: Bnd)\n",
      "out                                 Var x[11]   :   1   ;   210.22862885478273       (P: Bnd)\n",
      "out                                   Var x[31]   :   0   ;   209.2759384936087       (P: Bnd)\n",
      "out                                   Var x[31]   :   1   ;   209.60163359355704       (P: Bnd)\n",
      "out                               Var x[34]   :   1   ;   210.1822302810517       (P: Bnd)\n",
      "out                                 Var x[6]   :   0   ;   208.2302568981922       (P: Bnd)\n",
      "out                                 Var x[6]   :   1   ;   210.13110539845758       (P: Bnd)\n",
      "out                                   Var x[4]   :   0   ;   209.31380107941402       (P: Bnd)\n",
      "out                                   Var x[4]   :   1   ;   210.11020408163265       (P: Bnd)\n",
      "out                                     Var x[15]   :   0   ;   209.59122586541756       (P: Bnd)\n",
      "out                                     Var x[15]   :   1   ;   209.55052446342236       (P: Bnd)\n",
      "out                             Var x[7]   :   1   ;   213.20149253731344          \n",
      "out                               Var x[13]   :   0   ;   210.7774687400601       (P: Bnd)\n",
      "out                                 Var x[34]   :   0   ;   210.2460006418862       (P: Bnd)\n",
      "out                                   Var x[39]   :   0   ;   209.75173445622585       (P: Bnd)\n",
      "out                                   Var x[39]   :   1   ;   210.03403000311943       (P: Bnd)\n",
      "out                                     Var x[36]   :   0   ;   209.71774861759934       (P: Bnd)\n",
      "out                                     Var x[36]   :   1   ;   209.34096191931934       (P: Bnd)\n",
      "out "
     ]
    },
    {
     "name": "stdout",
     "output_type": "stream",
     "text": [
      "                                Var x[34]   :   1   ;   209.76849355712264       (P: Bnd)\n",
      "out                               Var x[13]   :   1   ;   213.15770609318994          \n",
      "out                                 Var x[15]   :   0   ;   211.625       (P: Bnd)\n",
      "out                                   Var x[34]   :   0   ;   211.16477026481064       (P: Bnd)\n",
      "out                                     Var x[18]   :   0   ;   210.9957181265974       (P: Bnd)\n",
      "out                                       Var x[20]   :   0   ;   207.13486528002656       (P: Bnd)\n",
      "out                                       Var x[20]   :   1   ;   210.64433855074063       (P: Bnd)\n",
      "out                                         Var x[39]   :   0   ;   208.8539675227456       (P: Bnd)\n",
      "out                                         Var x[39]   :   1   ;   210.6308339316853       (P: Bnd)\n",
      "out                                           Var x[11]   :   0   ;   209.40677966101694       (P: Bnd)\n",
      "out                                           Var x[11]   :   1   ;   209.62865289333456       (P: Bnd)\n",
      "out                                     Var x[18]   :   1   ;   208.74086329877196       (P: Bnd)\n",
      "out                                   Var x[34]   :   1   ;   209.71428571428572       (P: Bnd)\n",
      "out                                 Var x[15]   :   1   ;   212.92622560685388       (P: Bnd)\n",
      "out                                   Var x[6]   :   0   ;   208.73882955247595       (P: Bnd)\n",
      "out                                   Var x[6]   :   1   ;   212.88300597779673       (P: Bnd)\n",
      "out                                     Var x[4]   :   0   ;   210.41017733230532       (P: Bnd)\n",
      "out                                       Var x[18]   :   0   ;   210.02752924982795       (P: Bnd)\n",
      "out                                         Var x[34]   :   0   ;   209.71428571428572       (P: Bnd)\n",
      "out                                         Var x[34]   :   1   ;   207.82758620689657       (P: Bnd)\n",
      "out                                       Var x[18]   :   1   ;   207.91056910569105       (P: Bnd)\n",
      "out                                     Var x[4]   :   1   ;   212.8634110064452       (P: Bnd)\n",
      "out                                       Var x[5]   :   0   ;   210.01283068906594       (P: Bnd)\n",
      "out                                         Var x[36]   :   0   ;   209.1948344370861       (P: Bnd)\n",
      "out                                         Var x[36]   :   1   ;   209.12437982843207       (P: Bnd)\n",
      "out                                       Var x[5]   :   1   ;   212.76100628930817       (P: Bnd)\n",
      "out                                         Var x[19]   :   0   ;   208.8128227194492       (P: Bnd)\n",
      "out                                         Var x[19]   :   1   ;   212.37761069340016       (P: Bnd)\n",
      "out                                           Var x[10]   :   0   ;   211.28538102643856       (P: Bnd)\n",
      "out                                             Var x[36]   :   0   ;   210.83950617283952       (P: Bnd)\n",
      "out                                               Var x[31]   :   0   ;   210.6950354609929       (P: Bnd)\n",
      "out                                                 Var x[11]   :   0   ;   210.60919540229884       (P: Bnd)\n",
      "out                                                   Var x[37]   :   0   ;   210.29896907216497       (P: Bnd)\n",
      "out                                                     Var x[24]   :   0   ;   209.8       (P: Bnd)\n",
      "out                                                     Var x[24]   :   1   ;   207.21574973031284       (P: Bnd)\n",
      "out                                                   Var x[37]   :   1   ;   209.0259067357513       (P: Bnd)\n",
      "out                                                 Var x[11]   :   1   ;   205.0       (P: Bnd)\n",
      "out                                               Var x[31]   :   1   ;   209.7580430736506       (P: Bnd)\n",
      "out                                             Var x[36]   :   1   ;   209.40708175571447       (P: Bnd)\n",
      "out                                           Var x[10]   :   1   ;   212.0972222222222       (P: Bnd)\n",
      "out                                             Var x[31]   :   0   ;   212.04545454545453       (P: Bnd)\n",
      "out                                               Var x[27]   :   0   ;   210.4562706270627       (P: Bnd)\n",
      "out                                                 Var x[36]   :   0   ;   210.14794252122795       (P: Bnd)\n",
      "out                                                   Var x[12]   :   0   ;   206.0  (I)  (P: Opt)\n",
      "out                                                   Var x[12]   :   1   ;   210.06750572082382       (P: Bnd)\n",
      "out                                                     Var x[37]   :   0   ;   209.5       (P: Bnd)\n",
      "out                                                     Var x[37]   :   1   ;   209.3936545240893       (P: Bnd)\n",
      "out                                                 Var x[36]   :   1   ;   209.10731707317075       (P: Bnd)\n",
      "out                                               Var x[27]   :   1   ;   211.83333333333334"
     ]
    },
    {
     "name": "stdout",
     "output_type": "stream",
     "text": [
      "       (P: Bnd)\n",
      "out                                                 Var x[23]   :   0   ;   209.3019513431323       (P: Bnd)\n",
      "out                                                 Var x[23]   :   1   ;   211.55555555555554       (P: Bnd)\n",
      "out                                                   Var x[14]   :   0   ;   209.35135135135135       (P: Bnd)\n",
      "out                                                   Var x[14]   :   1   ;   210.35714285714286       (P: Bnd)\n",
      "out                                                     Var x[20]   :   0   ;   209.02224469160765       (P: Bnd)\n",
      "out                                                     Var x[20]   :   1   ;   210.28571428571428       (P: Bnd)\n",
      "out                                                       Var x[28]   :   0   ;   209.66666666666666       (P: Bnd)\n",
      "out                                                       Var x[28]   :   1   ;   210.16666666666666       (P: Bnd)\n",
      "out                                                         Var x[1]   :   0   ;   209.78947368421052       (P: Bnd)\n",
      "out                                                         Var x[1]   :   1   ;   209.33333333333334       (P: Bnd)\n",
      "out                                             Var x[31]   :   1   ;   211.11234069698105       (P: Bnd)\n",
      "out                                               Var x[20]   :   0   ;   208.51514917893763       (P: Bnd)\n",
      "out                                               Var x[20]   :   1   ;   211.01100110011       (P: Bnd)\n",
      "out                                                 Var x[39]   :   0   ;   209.0686274509804       (P: Bnd)\n",
      "out                                                 Var x[39]   :   1   ;   210.9889328063241       (P: Bnd)\n",
      "out                                                   Var x[28]   :   0   ;   209.91228070175438       (P: Bnd)\n",
      "out                                                   Var x[28]   :   1   ;   210.42505649008282       (P: Bnd)\n",
      "out                                                     Var x[32]   :   0   ;   207.24561403508773       (P: Bnd)\n",
      "out                                                     Var x[32]   :   1   ;   210.3654039183613       (P: Bnd)\n",
      "out                                                       Var x[1]   :   0   ;   208.21974835886212       (P: Bnd)\n",
      "out                                                       Var x[1]   :   1   ;   210.24437890191047       (P: Bnd)\n",
      "out                                                         Var x[14]   :   0   ;   207.4203748153619       (P: Bnd)\n",
      "out                                                         Var x[14]   :   1   ;   209.9788445890968       (P: Bnd)\n",
      "out                   Var x[9]   :   1   ;   214.19666216181759          \n",
      "out                     Var x[35]   :   0   ;   212.1594889214713       (P: Bnd)\n",
      "out                       Var x[40]   :   0   ;   210.57445008460238       (P: Bnd)\n",
      "out                         Var x[37]   :   0   ;   209.98753894080997       (P: Bnd)\n",
      "out                         Var x[37]   :   1   ;   209.30825795535887       (P: Bnd)\n",
      "out                       Var x[40]   :   1   ;   212.1248113628566       (P: Bnd)\n",
      "out                         Var x[24]   :   0   ;   211.9451489594078       (P: Bnd)\n",
      "out                           Var x[18]   :   0   ;   211.92156862745097       (P: Bnd)\n",
      "out                             Var x[15]   :   0   ;   211.53846153846152       (P: Bnd)\n",
      "out                               Var x[34]   :   0   ;   210.98185941043084       (P: Bnd)\n",
      "out                                 Var x[11]   :   0   ;   210.51700680272108       (P: Bnd)\n",
      "out                                   Var x[37]   :   0   ;   209.33333333333334       (P: Bnd)\n",
      "out                                   Var x[37]   :   1   ;   209.04271123491176       (P: Bnd)\n",
      "out                                 Var x[11]   :   1   ;   210.11423035054733       (P: Bnd)\n",
      "out                                   Var x[31]   :   0   ;   209.62611806797855       (P: Bnd)\n",
      "out                                   Var x[31]   :   1   ;   209.2552373491927       (P: Bnd)\n",
      "out                               Var x[34]   :   1   ;   211.4646533973919       (P: Bnd)\n",
      "out                                 Var x[7]   :   0   ;   210.64676616915423       (P: Bnd)\n",
      "out                                   Var x[11]   :   0   ;   210.43071185553524       (P: Bnd)\n",
      "out                                     Var x[36]   :   0   ;   209.05947955390334       (P: Bnd)\n",
      "out                                     Var x[36]   :   1   ;   209.25262812089355       (P: Bnd)\n",
      "out                                   Var x[11]   :   1   ;   209.993246285457       (P: Bnd)"
     ]
    },
    {
     "name": "stdout",
     "output_type": "stream",
     "text": [
      "\n",
      "out                                 Var x[7]   :   1   ;   211.0886627906977       (P: Bnd)\n",
      "out                                   Var x[38]   :   0   ;   209.79345603271983       (P: Bnd)\n",
      "out                                   Var x[38]   :   1   ;   210.64076701396587       (P: Bnd)\n",
      "out                                     Var x[22]   :   0   ;   209.45398773006139       (P: Bnd)\n",
      "out                                     Var x[22]   :   1   ;   210.40837696335078       (P: Bnd)\n",
      "out                                       Var x[39]   :   0   ;   208.10656495607952       (P: Bnd)\n",
      "out                                       Var x[39]   :   1   ;   210.36593613024422       (P: Bnd)\n",
      "out                                         Var x[10]   :   0   ;   207.84516129032258       (P: Bnd)\n",
      "out                                         Var x[10]   :   1   ;   210.21200224340998       (P: Bnd)\n",
      "out                                           Var x[23]   :   0   ;   207.39409282700421       (P: Bnd)\n",
      "out                                           Var x[23]   :   1   ;   209.8221941992434       (P: Bnd)\n",
      "out                             Var x[15]   :   1   ;   211.55190538764782       (P: Bnd)\n",
      "out                               Var x[39]   :   0   ;   210.83129323988754       (P: Bnd)\n",
      "out                                 Var x[37]   :   0   ;   209.87201282161354       (P: Bnd)\n",
      "out                                 Var x[37]   :   1   ;   210.06076964984396       (P: Bnd)\n",
      "out                                   Var x[22]   :   0   ;   205.84615384615384       (P: Bnd)\n",
      "out                                   Var x[22]   :   1   ;   209.9714285714286       (P: Bnd)\n",
      "out                               Var x[39]   :   1   ;   211.51678736010533       (P: Bnd)\n",
      "out                                 Var x[34]   :   0   ;   211.41873278236915       (P: Bnd)\n",
      "out                                   Var x[27]   :   0   ;   208.85       (P: Bnd)\n",
      "out                                   Var x[27]   :   1   ;   211.2537602062742       (P: Bnd)\n",
      "out                                     Var x[31]   :   0   ;   211.0374276964954       (P: Bnd)\n",
      "out                                       Var x[26]   :   0   ;   210.1420404573439       (P: Bnd)\n",
      "out                                         Var x[37]   :   0   ;   209.32905982905984       (P: Bnd)\n",
      "out                                         Var x[37]   :   1   ;   208.1730769230769       (P: Bnd)\n",
      "out                                       Var x[26]   :   1   ;   210.80952380952382       (P: Bnd)\n",
      "out                                         Var x[38]   :   0   ;   209.375       (P: Bnd)\n",
      "out                                         Var x[38]   :   1   ;   210.79634049323786       (P: Bnd)\n",
      "out                                           Var x[14]   :   0   ;   205.6       (P: Bnd)\n",
      "out                                           Var x[14]   :   1   ;   210.54289215686273       (P: Bnd)\n",
      "out                                             Var x[4]   :   0   ;   206.1764705882353       (P: Bnd)\n",
      "out                                             Var x[4]   :   1   ;   210.31497418244408       (P: Bnd)\n",
      "out                                               Var x[19]   :   0   ;   205.88235294117646       (P: Bnd)\n",
      "out                                               Var x[19]   :   1   ;   210.30925507900676       (P: Bnd)\n",
      "out                                                 Var x[28]   :   0   ;   209.37906289573658       (P: Bnd)\n",
      "out                                                 Var x[28]   :   1   ;   210.19680636936977       (P: Bnd)\n",
      "out                                                   Var x[37]   :   0   ;   209.8421052631579       (P: Bnd)\n",
      "out                                                   Var x[37]   :   1   ;   209.12118902439025       (P: Bnd)\n",
      "out                                     Var x[31]   :   1   ;   210.9204610688414       (P: Bnd)\n",
      "out                                       Var x[22]   :   0   ;   209.88289487890017       (P: Bnd)\n",
      "out                                       Var x[22]   :   1   ;   210.5396421136555       (P: Bnd)\n",
      "out                                         Var x[21]   :   0   ;   209.74753942216105       (P: Bnd)\n",
      "out                                         Var x[21]   :   1   ;   210.51210067763793       (P: Bnd)\n",
      "out                                           Var x[4]   :   0   ;   206.26923076923077       (P: Bnd)\n",
      "out                                           Var x[4]   :   1   ;   210.43412830660282       (P: Bnd)\n",
      "out                                             Var x[14]   :   0   ;   205.5       (P: Bnd)\n",
      "out                                             Var x[14]   :   1   ;   210.09487741678294       (P: Bnd)\n",
      "out                                               Var x[19]   :   0   ;   205.1730769230769       (P: Bnd)\n",
      "out                                               Var x[19]   :   1   ;   210.02057690249384       (P: Bnd)\n",
      "out                                                 Var x[8]   :   0   ;   207.69117647058823       (P: Bnd)\n",
      "out                                                 Var x[8]   :   1   ;   209.8127812781278       (P: Bnd)\n",
      "out                                 Var x[34]   :   1   ;   211.34349895864327       (P: Bnd)\n",
      "out                                   Var x[7]   :   0   ;   210.87120359955006       (P: Bnd)\n",
      "out                                     Var x[22]   :   0   ;   209.78059654442558       (P: Bnd)\n",
      "out                                     Var x[22]   :   1   ;   210.75248756218906       (P: Bnd)\n",
      "out                                       Var x[27]   :   0   ;   208.85714285714286       (P: Bnd)\n",
      "out                                       Var x[27]   :   1   ;   209.936789587144       (P: Bnd)\n",
      "out                                   Var x[7]   :   1   ;   210.76931106471815       (P: Bnd)\n",
      "out                                     Var x[26]   :   0   ;   208.7422139993833       (P: Bnd)\n",
      "out                                     Var x[26]   :   1   ;   210.69614147909968       (P: Bnd)\n",
      "out                                       Var x[28]   :   0   ;   208.80597014925374       (P: Bnd)\n",
      "out                                       Var x[28]   :   1   ;   210.53888081395348       (P: Bnd)\n",
      "out                                         Var x[27]   :   0   ;   207.94736842105263       (P: Bnd)\n",
      "out                                         Var x[27]   :   1   ;   210.50542495479203       (P: Bnd)\n",
      "out                                           Var x[31]   :   0   ;   210.44056876249724"
     ]
    },
    {
     "name": "stdout",
     "output_type": "stream",
     "text": [
      "       (P: Bnd)\n",
      "out                                             Var x[21]   :   0   ;   207.8103743577196       (P: Bnd)\n",
      "out                                             Var x[21]   :   1   ;   210.30232558139537       (P: Bnd)\n",
      "out                                               Var x[23]   :   0   ;   208.1875       (P: Bnd)\n",
      "out                                               Var x[23]   :   1   ;   210.18963254593177       (P: Bnd)\n",
      "out                                                 Var x[17]   :   0   ;   205.75520833333334       (P: Bnd)\n",
      "out                                                 Var x[17]   :   1   ;   209.97297297297297       (P: Bnd)\n",
      "out                                           Var x[31]   :   1   ;   209.9383886255924       (P: Bnd)\n",
      "out                           Var x[18]   :   1   ;   210.50437315504468       (P: Bnd)\n",
      "out                             Var x[31]   :   0   ;   210.43523502862112       (P: Bnd)\n",
      "out                               Var x[37]   :   0   ;   210.03185524097833       (P: Bnd)\n",
      "out                                 Var x[4]   :   0   ;   207.9       (P: Bnd)\n",
      "out                                 Var x[4]   :   1   ;   209.85996983335107       (P: Bnd)\n",
      "out                               Var x[37]   :   1   ;   209.84472137980458       (P: Bnd)\n",
      "out                             Var x[31]   :   1   ;   209.744649264629       (P: Bnd)\n",
      "out                         Var x[24]   :   1   ;   211.48799813941582       (P: Bnd)\n",
      "out                           Var x[22]   :   0   ;   210.04329447616374       (P: Bnd)\n",
      "out                             Var x[21]   :   0   ;   208.664433503227       (P: Bnd)\n",
      "out                             Var x[21]   :   1   ;   209.87253776876085       (P: Bnd)\n",
      "out                           Var x[22]   :   1   ;   211.11074564921043       (P: Bnd)\n",
      "out                             Var x[7]   :   0   ;   210.66247981865084       (P: Bnd)\n",
      "out                               Var x[34]   :   0   ;   210.1486661970615       (P: Bnd)\n",
      "out                                 Var x[27]   :   0   ;   208.37171691002536       (P: Bnd)\n",
      "out                                 Var x[27]   :   1   ;   209.73441814295606       (P: Bnd)\n",
      "out                               Var x[34]   :   1   ;   210.4486342978602       (P: Bnd)\n",
      "out                                 Var x[15]   :   0   ;   209.37825889531376       (P: Bnd)\n",
      "out                                 Var x[15]   :   1   ;   210.38833502457044       (P: Bnd)\n",
      "out                                   Var x[4]   :   0   ;   206.9997312500711       (P: Bnd)\n",
      "out                                   Var x[4]   :   1   ;   209.51303651289874       (P: Bnd)\n",
      "out                             Var x[7]   :   1   ;   210.97593704019104       (P: Bnd)\n",
      "out                               Var x[21]   :   0   ;   209.0860465116279       (P: Bnd)\n",
      "out                               Var x[21]   :   1   ;   210.36904319863365       (P: Bnd)\n",
      "out                                 Var x[39]   :   0   ;   209.308258537709       (P: Bnd)\n",
      "out                                 Var x[39]   :   1   ;   209.64680428950953       (P: Bnd)\n",
      "out                     Var x[35]   :   1   ;   213.74522685306985          \n",
      "out                       Var x[15]   :   0   ;   212.59275879171489       (P: Bnd)\n",
      "out                         Var x[28]   :   0   ;   210.84689083798108       (P: Bnd)\n",
      "out                           Var x[36]   :   0   ;   210.26292781226638       (P: Bnd)\n",
      "out                             Var x[31]   :   0   ;   209.98352344740175       (P: Bnd)\n",
      "out                             Var x[31]   :   1   ;   209.6524612785456       (P: Bnd)\n",
      "out                           Var x[36]   :   1   ;   209.90621332444397       (P: Bnd)\n",
      "out                         Var x[28]   :   1   ;   212.38962665742193       (P: Bnd)\n",
      "out                           Var x[11]   :   0   ;   212.28365861798449       (P: Bnd)\n",
      "out                             Var x[22]   :   0   ;   210.1680784808316       (P: Bnd)\n",
      "out                               Var x[31]   :   0   ;   209.8157894736842       (P: Bnd)\n",
      "out                               Var x[31]   :   1   ;   206.80044001216692       (P: Bnd)\n",
      "out                             Var x[22]   :   1   ;   212.23710261360165       (P: Bnd)\n",
      "out                               Var x[12]   :   0   ;   209.4656545641743       (P: Bnd)\n",
      "out                               Var x[12]   :   1   ;   212.01796932666286       (P: Bnd)\n",
      "out                                 Var x[34]   :   0   ;   211.46898482050418       (P: Bnd)\n",
      "out                                   Var x[8]   :   0   ;   208.1775344180225       (P: Bnd)\n",
      "out                                   Var x[8]   :   1   ;   211.31143494765203       (P: Bnd)\n",
      "out                                     Var x[27]   :   0   ;   208.8164116828929       (P: Bnd)"
     ]
    },
    {
     "name": "stdout",
     "output_type": "stream",
     "text": [
      "\n",
      "out                                     Var x[27]   :   1   ;   211.28688877786354       (P: Bnd)\n",
      "out                                       Var x[36]   :   0   ;   211.03265306122447       (P: Bnd)\n",
      "out                                         Var x[39]   :   0   ;   208.8564476885645       (P: Bnd)\n",
      "out                                         Var x[39]   :   1   ;   210.68294016559912       (P: Bnd)\n",
      "out                                           Var x[18]   :   0   ;   210.60614525139667       (P: Bnd)\n",
      "out                                             Var x[20]   :   0   ;   206.78164556962025       (P: Bnd)\n",
      "out                                             Var x[20]   :   1   ;   210.31578947368422       (P: Bnd)\n",
      "out                                               Var x[23]   :   0   ;   207.26904761904763       (P: Bnd)\n",
      "out                                               Var x[23]   :   1   ;   210.31578947368422       (P: Bnd)\n",
      "out                                                 Var x[17]   :   0   ;   207.2940215615812       (P: Bnd)\n",
      "out                                                 Var x[17]   :   1   ;   209.78865979381445       (P: Bnd)\n",
      "out                                           Var x[18]   :   1   ;   207.10472073843437       (P: Bnd)\n",
      "out                                       Var x[36]   :   1   ;   210.2169921699217       (P: Bnd)\n",
      "out                                         Var x[32]   :   0   ;   209.11425798785726       (P: Bnd)\n",
      "out                                         Var x[32]   :   1   ;   209.27383394274506       (P: Bnd)\n",
      "out                                 Var x[34]   :   1   ;   211.20440494590417       (P: Bnd)\n",
      "out                                   Var x[7]   :   0   ;   209.78718419552968       (P: Bnd)\n",
      "out                                   Var x[7]   :   1   ;   210.53834885424297       (P: Bnd)\n",
      "out                                     Var x[38]   :   0   ;   210.236830892348       (P: Bnd)\n",
      "out                                       Var x[37]   :   0   ;   209.7986743993372       (P: Bnd)\n",
      "out                                       Var x[37]   :   1   ;   207.20702916408828       (P: Bnd)\n",
      "out                                     Var x[38]   :   1   ;   209.10186300386954       (P: Bnd)\n",
      "out                           Var x[11]   :   1   ;   210.2521720539484       (P: Bnd)\n",
      "out                             Var x[7]   :   0   ;   209.2237296056773       (P: Bnd)\n",
      "out                             Var x[7]   :   1   ;   209.84387638870612       (P: Bnd)\n",
      "out                       Var x[15]   :   1   ;   213.66055904774643          \n",
      "out                         Var x[38]   :   0   ;   213.38909506137594"
     ]
    },
    {
     "name": "stdout",
     "output_type": "stream",
     "text": [
      "          \n",
      "out                           Var x[34]   :   0   ;   213.0446808637345          \n",
      "out                             Var x[28]   :   0   ;   211.58259933431012       (P: Bnd)\n",
      "out                               Var x[37]   :   0   ;   211.36331422992785       (P: Bnd)\n",
      "out                                 Var x[31]   :   0   ;   210.30539456085597       (P: Bnd)\n",
      "out                                   Var x[24]   :   0   ;   210.031847133758       (P: Bnd)\n",
      "out                                     Var x[18]   :   0   ;   209.11764705882354       (P: Bnd)\n",
      "out                                     Var x[18]   :   1   ;   205.91013513513514       (P: Bnd)\n",
      "out                                   Var x[24]   :   1   ;   207.43623539103126       (P: Bnd)\n",
      "out                                 Var x[31]   :   1   ;   210.82740080074768       (P: Bnd)\n",
      "out                                   Var x[36]   :   0   ;   210.3305941640194       (P: Bnd)\n",
      "out                                     Var x[24]   :   0   ;   210.09194926936863       (P: Bnd)\n",
      "out                                       Var x[11]   :   0   ;   208.83333333333334       (P: Bnd)\n",
      "out                                       Var x[11]   :   1   ;   209.2785046728972       (P: Bnd)\n",
      "out                                     Var x[24]   :   1   ;   208.63060195096313       (P: Bnd)\n",
      "out                                   Var x[36]   :   1   ;   210.02886529249324       (P: Bnd)\n",
      "out                                     Var x[7]   :   0   ;   208.88675394807072       (P: Bnd)\n",
      "out                                     Var x[7]   :   1   ;   209.1676646706587       (P: Bnd)\n",
      "out                               Var x[37]   :   1   ;   210.5819554550815       (P: Bnd)\n",
      "out                                 Var x[31]   :   0   ;   210.1980999112596       (P: Bnd)\n",
      "out                                   Var x[7]   :   0   ;   206.6153846153846       (P: Bnd)\n",
      "out                                   Var x[7]   :   1   ;   209.87628732985797       (P: Bnd)\n",
      "out                                 Var x[31]   :   1   ;   209.21470787699977       (P: Bnd)\n",
      "out                             Var x[28]   :   1   ;   212.82536341854444       (P: Bnd)\n",
      "out                               Var x[27]   :   0   ;   210.97140946320462       (P: Bnd)\n",
      "out                                 Var x[37]   :   0   ;   210.3414185502728       (P: Bnd)\n",
      "out                                   Var x[31]   :   0   ;   207.0       (P: Bnd)\n",
      "out                                   Var x[31]   :   1   ;   209.69803077312733       (P: Bnd)\n",
      "out                                 Var x[37]   :   1   ;   209.6071607374331       (P: Bnd)\n",
      "out                               Var x[27]   :   1   ;   212.02705360898707       (P: Bnd)\n",
      "out                                 Var x[17]   :   0   ;   208.3310978256304       (P: Bnd)\n",
      "out                                 Var x[17]   :   1   ;   211.56536732339993       (P: Bnd)\n",
      "out                                   Var x[22]   :   0   ;   210.45705929802125       (P: Bnd)\n",
      "out                                     Var x[18]   :   0   ;   208.47743033778337       (P: Bnd)\n",
      "out                                     Var x[18]   :   1   ;   209.25649650209985       (P: Bnd)\n",
      "out                                   Var x[22]   :   1   ;   211.53760474854954       (P: Bnd)\n",
      "out                                     Var x[39]   :   0   ;   210.05466908108235       (P: Bnd)\n",
      "out                                       Var x[11]   :   0   ;   209.68752047166723       (P: Bnd)\n",
      "out                                       Var x[11]   :   1   ;   207.89978349675656       (P: Bnd)\n",
      "out                                     Var x[39]   :   1   ;   211.51851987342465       (P: Bnd)\n",
      "out                                       Var x[7]   :   0   ;   209.28526560211307       (P: Bnd)\n",
      "out                                       Var x[7]   :   1   ;   211.4583907558571       (P: Bnd)\n",
      "out                                         Var x[26]   :   0   ;   208.80464641363181       (P: Bnd)\n",
      "out                                         Var x[26]   :   1   ;   211.42809114680614       (P: Bnd)\n",
      "out                                           Var x[1]   :   0   ;   209.1075495746305       (P: Bnd)\n",
      "out                                           Var x[1]   :   1   ;   211.4038640867234       (P: Bnd)\n",
      "out                                             Var x[23]   :   0   ;   207.90467575841916       (P: Bnd)\n",
      "out                                             Var x[23]   :   1   ;   211.39124645753932       (P: Bnd)\n",
      "out                                               Var x[19]   :   0   ;   207.02883490728794       (P: Bnd)\n",
      "out                                               Var x[19]   :   1   ;   211.35860870524635       (P: Bnd)\n"
     ]
    },
    {
     "name": "stdout",
     "output_type": "stream",
     "text": [
      "out                                                 Var x[13]   :   0   ;   207.44288209640618       (P: Bnd)\n",
      "out                                                 Var x[13]   :   1   ;   210.51941747572815       (P: Bnd)\n",
      "out                                                   Var x[31]   :   0   ;   210.08536585365854       (P: Bnd)\n",
      "out                                                     Var x[32]   :   0   ;   206.95260211689362       (P: Bnd)\n",
      "out                                                     Var x[32]   :   1   ;   209.98549107142858       (P: Bnd)\n",
      "out                                                   Var x[31]   :   1   ;   209.76176878518396       (P: Bnd)\n",
      "out                           Var x[34]   :   1   ;   211.9287020768489       (P: Bnd)\n",
      "out                             Var x[7]   :   0   ;   211.252697364844       (P: Bnd)\n",
      "out                               Var x[31]   :   0   ;   210.8828880711378       (P: Bnd)\n",
      "out                                 Var x[37]   :   0   ;   210.7756719558305       (P: Bnd)\n",
      "out                                   Var x[12]   :   0   ;   205.8212927756654       (P: Bnd)\n",
      "out                                   Var x[12]   :   1   ;   210.7312252964427       (P: Bnd)\n",
      "out                                     Var x[4]   :   0   ;   207.6578060992262       (P: Bnd)\n",
      "out                                     Var x[4]   :   1   ;   210.72649572649573       (P: Bnd)\n",
      "out                                       Var x[1]   :   0   ;   207.55310415597742       (P: Bnd)\n",
      "out                                       Var x[1]   :   1   ;   210.64486738206114       (P: Bnd)\n",
      "out                                         Var x[10]   :   0   ;   205.91558441558442       (P: Bnd)\n",
      "out                                         Var x[10]   :   1   ;   210.57533718689788       (P: Bnd)\n",
      "out                                           Var x[39]   :   0   ;   205.97080291970804       (P: Bnd)\n",
      "out                                           Var x[39]   :   1   ;   210.44190665342603       (P: Bnd)\n",
      "out                                             Var x[36]   :   0   ;   210.21428571428572       (P: Bnd)\n",
      "out                                               Var x[40]   :   0   ;   205.92307692307693       (P: Bnd)\n",
      "out                                               Var x[40]   :   1   ;   210.1186440677966       (P: Bnd)\n",
      "out                                                 Var x[3]   :   0   ;   205.33333333333334       (P: Bnd)\n",
      "out                                                 Var x[3]   :   1   ;   210.09731543624162       (P: Bnd)\n",
      "out                                                   Var x[14]   :   0   ;   206.1284046692607       (P: Bnd)\n",
      "out                                                   Var x[14]   :   1   ;   209.81372549019608       (P: Bnd)\n",
      "out                                             Var x[36]   :   1   ;   208.57692415317672       (P: Bnd)\n",
      "out                                 Var x[37]   :   1   ;   209.17803720436657       (P: Bnd)\n",
      "out                               Var x[31]   :   1   ;   210.40285285803947       (P: Bnd)\n",
      "out                                 Var x[4]   :   0   ;   207.2814399251987       (P: Bnd)\n",
      "out                                 Var x[4]   :   1   ;   210.10567330973765       (P: Bnd)\n",
      "out                                   Var x[28]   :   0   ;   209.31573011941498       (P: Bnd)\n",
      "out                                   Var x[28]   :   1   ;   209.58262759297043       (P: Bnd)\n",
      "out                             Var x[7]   :   1   ;   210.81588569880824       (P: Bnd)\n",
      "out                               Var x[22]   :   0   ;   210.62899574202928       (P: Bnd)\n",
      "out                                 Var x[31]   :   0   ;   209.6074767888798       (P: Bnd)\n"
     ]
    },
    {
     "name": "stdout",
     "output_type": "stream",
     "text": [
      "out                                 Var x[31]   :   1   ;   209.81228573581305       (P: Bnd)\n",
      "out                               Var x[22]   :   1   ;   210.42051879319354       (P: Bnd)\n",
      "out                                 Var x[19]   :   0   ;   208.33127160607003       (P: Bnd)\n",
      "out                                 Var x[19]   :   1   ;   209.99166814470993       (P: Bnd)\n",
      "out                         Var x[38]   :   1   ;   213.58817010227668          \n",
      "out                           Var x[3]   :   0   ;   209.6984557595993       (P: Bnd)\n",
      "out                           Var x[3]   :   1   ;   213.4577048126939          \n",
      "out                             Var x[22]   :   0   ;   212.84451233527284       (P: Bnd)\n",
      "out                               Var x[28]   :   0   ;   210.5906460945034       (P: Bnd)\n",
      "out                                 Var x[34]   :   0   ;   210.2358602504944       (P: Bnd)\n",
      "out                                   Var x[12]   :   0   ;   207.72316935786705       (P: Bnd)\n",
      "out                                   Var x[12]   :   1   ;   209.85869565217394       (P: Bnd)\n",
      "out                                 Var x[34]   :   1   ;   208.6922380219183       (P: Bnd)\n",
      "out                               Var x[28]   :   1   ;   212.25071490953917       (P: Bnd)\n",
      "out                                 Var x[27]   :   0   ;   210.0811478863627       (P: Bnd)\n",
      "out                                   Var x[12]   :   0   ;   208.37824763334584       (P: Bnd)\n",
      "out                                   Var x[12]   :   1   ;   209.66465717835916       (P: Bnd)\n",
      "out                                 Var x[27]   :   1   ;   212.14051261402167       (P: Bnd)\n",
      "out                                   Var x[31]   :   0   ;   211.53559569126102       (P: Bnd)\n",
      "out                                     Var x[14]   :   0   ;   209.6512557457864       (P: Bnd)\n",
      "out                                     Var x[14]   :   1   ;   211.12300113067354       (P: Bnd)\n",
      "out                                       Var x[40]   :   0   ;   209.4614738358137       (P: Bnd)\n",
      "out                                       Var x[40]   :   1   ;   211.09241706161137       (P: Bnd)\n",
      "out                                         Var x[26]   :   0   ;   208.93795147249492       (P: Bnd)\n",
      "out                                         Var x[26]   :   1   ;   210.69359234926188       (P: Bnd)\n",
      "out                                           Var x[18]   :   0   ;   210.51574504967536       (P: Bnd)\n",
      "out                                             Var x[34]   :   0   ;   210.2220744680851       (P: Bnd)\n",
      "out                                               Var x[39]   :   0   ;   209.39042821158688       (P: Bnd)\n",
      "out                                               Var x[39]   :   1   ;   209.69850338975826       (P: Bnd)\n",
      "out                                             Var x[34]   :   1   ;   209.11880139020178       (P: Bnd)\n",
      "out                                           Var x[18]   :   1   ;   208.92128603104214       (P: Bnd)\n",
      "out                                   Var x[31]   :   1   ;   211.10561561111058       (P: Bnd)\n",
      "out                                     Var x[17]   :   0   ;   208.43897307476482       (P: Bnd)\n",
      "out                                     Var x[17]   :   1   ;   211.06310961241624       (P: Bnd)\n",
      "out                                       Var x[12]   :   0   ;   209.9127635310384       (P: Bnd)\n",
      "out                                       Var x[12]   :   1   ;   210.7504339296817       (P: Bnd)\n",
      "out                                         Var x[23]   :   0   ;   209.13018092300413       (P: Bnd)\n",
      "out                                         Var x[23]   :   1   ;   209.73053143660374       (P: Bnd)\n",
      "out                             Var x[22]   :   1   ;   212.74760505870367       (P: Bnd)\n",
      "out                               Var x[27]   :   0   ;   211.99640992167105       (P: Bnd)\n",
      "out                                 Var x[31]   :   0   ;   211.53645090770837       (P: Bnd)\n",
      "out                                   Var x[4]   :   0   ;   208.30382039977673       (P: Bnd)\n",
      "out                                   Var x[4]   :   1   ;   211.4461325966851       (P: Bnd)\n",
      "out                                     Var x[37]   :   0   ;   211.21276595744683       (P: Bnd)\n",
      "out                                       Var x[10]   :   0   ;   207.768       (P: Bnd)\n",
      "out                                       Var x[10]   :   1   ;   211.1953125       (P: Bnd)\n",
      "out                                         Var x[6]   :   0   ;   207.19870967741934       (P: Bnd)\n",
      "out                                         Var x[6]   :   1   ;   211.0582191780822       (P: Bnd)\n",
      "out                                           Var x[1]   :   0   ;   207.74557522123894       (P: Bnd)\n",
      "out "
     ]
    },
    {
     "name": "stdout",
     "output_type": "stream",
     "text": [
      "                                          Var x[1]   :   1   ;   210.7909090909091       (P: Bnd)\n",
      "out                                             Var x[5]   :   0   ;   206.86594952420356       (P: Bnd)\n",
      "out                                             Var x[5]   :   1   ;   210.778125       (P: Bnd)\n",
      "out                                               Var x[13]   :   0   ;   206.7795282742751       (P: Bnd)\n",
      "out                                               Var x[13]   :   1   ;   210.76451612903227       (P: Bnd)\n",
      "out                                                 Var x[7]   :   0   ;   207.69507654116674       (P: Bnd)\n",
      "out                                                 Var x[7]   :   1   ;   210.53333333333336       (P: Bnd)\n",
      "out                                                   Var x[14]   :   0   ;   207.38938053097345       (P: Bnd)\n",
      "out                                                   Var x[14]   :   1   ;   210.48000000000002       (P: Bnd)\n",
      "out                                                     Var x[32]   :   0   ;   205.11111111111111       (P: Bnd)\n",
      "out                                                     Var x[32]   :   1   ;   210.46511627906978       (P: Bnd)\n",
      "out                                                       Var x[39]   :   0   ;   206.66666666666666       (P: Bnd)\n",
      "out                                                       Var x[39]   :   1   ;   210.3726708074534       (P: Bnd)\n",
      "out                                                         Var x[19]   :   0   ;   204.7962962962963       (P: Bnd)\n",
      "out                                                         Var x[19]   :   1   ;   209.75       (P: Bnd)\n",
      "out                                     Var x[37]   :   1   ;   209.8189356017566       (P: Bnd)\n",
      "out                                 Var x[31]   :   1   ;   211.34061362454497       (P: Bnd)\n",
      "out                                   Var x[28]   :   0   ;   209.78869667602572       (P: Bnd)\n",
      "out                                   Var x[28]   :   1   ;   210.98740705231825       (P: Bnd)\n",
      "out                                     Var x[23]   :   0   ;   208.08585499777237       (P: Bnd)\n",
      "out                                     Var x[23]   :   1   ;   210.71123538383324       (P: Bnd)\n",
      "out                                       Var x[12]   :   0   ;   208.5690423162584       (P: Bnd)\n",
      "out                                       Var x[12]   :   1   ;   210.34377557319857       (P: Bnd)\n",
      "out                                         Var x[17]   :   0   ;   206.83233104238258       (P: Bnd)\n",
      "out                                         Var x[17]   :   1   ;   210.00479460930416       (P: Bnd)\n",
      "out                                           Var x[32]   :   0   ;   207.81632303875438       (P: Bnd)\n",
      "out                                           Var x[32]   :   1   ;   209.23892204738652       (P: Bnd)\n",
      "out                               Var x[27]   :   1   ;   212.3691121552548       (P: Bnd)\n",
      "out                                 Var x[4]   :   0   ;   211.00961212769002       (P: Bnd)\n",
      "out                                   Var x[11]   :   0   ;   210.67312221376653       (P: Bnd)\n",
      "out                                     Var x[12]   :   0   ;   208.74951140065147       (P: Bnd)\n",
      "out                                     Var x[12]   :   1   ;   210.61729438590976       (P: Bnd)\n",
      "out                                       Var x[18]   :   0   ;   209.97488976907556       (P: Bnd)\n",
      "out                                       Var x[18]   :   1   ;   207.61291811450386       (P: Bnd)\n",
      "out                                   Var x[11]   :   1   ;   209.21019941157243       (P: Bnd)\n",
      "out                                 Var x[4]   :   1   ;   211.60310076872008       (P: Bnd)\n",
      "out                                   Var x[28]   :   0   ;   210.12764478764478       (P: Bnd)\n",
      "out                                     Var x[14]   :   0   ;   208.60050251256283       (P: Bnd)\n",
      "out                                     Var x[14]   :   1   ;   209.98697412909698       (P: Bnd)\n",
      "out                                   Var x[28]   :   1   ;   211.59391667000472       (P: Bnd)\n",
      "out                                     Var x[7]   :   0   ;   210.87742304516206       (P: Bnd)\n",
      "out                                       Var x[39]   :   0   ;   210.2073798513752       (P: Bnd)\n",
      "out                                         Var x[36]   :   0   ;   208.63169210922385       (P: Bnd)\n",
      "out                                         Var x[36]   :   1   ;   209.0593813070367       (P: Bnd)\n",
      "out                                       Var x[39]   :   1   ;   210.78236264581938       (P: Bnd)\n",
      "out                                         Var x[14]   :   0   ;   209.60371578219193       (P: Bnd)\n",
      "out                                         Var x[14]   :   1   ;   210.75518750703336       (P: Bnd)\n",
      "out                                           Var x[40]   :   0   ;   208.95980737173548       (P: Bnd)\n",
      "out                                           Var x[40]   :   1   ;   209.2767098556795       (P: Bnd)\n",
      "out                                     Var x[7]   :   1   ;   211.40876633734277       (P: Bnd)\n",
      "out                                       Var x[19]   :   0   ;   210.00521376433787       (P: Bnd)\n",
      "out                                         Var x[12]   :   0   ;   208.10580204778157       (P: Bnd)\n",
      "out                                         Var x[12]   :   1   ;   209.52652185370627       (P: Bnd)\n",
      "out                                       Var x[19]   :   1   ;   211.16414817702594       (P: Bnd)\n",
      "out                                         Var x[13]   :   0   ;   209.84563076442083       (P: Bnd)\n",
      "out                                         Var x[13]   :   1   ;   210.95385704175513       (P: Bnd)\n",
      "out                                           Var x[14]   :   0   ;   210.07030903445215       (P: Bnd)\n",
      "out                                             Var x[10]   :   0   ;   206.5668583752696     "
     ]
    },
    {
     "name": "stdout",
     "output_type": "stream",
     "text": [
      "  (P: Bnd)\n",
      "out                                             Var x[10]   :   1   ;   209.94664794664794       (P: Bnd)\n",
      "out                                           Var x[14]   :   1   ;   210.65791318162704       (P: Bnd)\n",
      "out                                             Var x[6]   :   0   ;   209.10214906900504       (P: Bnd)\n",
      "out                                             Var x[6]   :   1   ;   210.42705698108662       (P: Bnd)\n",
      "out                                               Var x[40]   :   0   ;   208.44242424242424       (P: Bnd)\n",
      "out                                               Var x[40]   :   1   ;   209.05968169761272       (P: Bnd)\n",
      "out                 Var x[33]   :   1   ;   214.5941385588258          \n",
      "out                   Var x[34]   :   0   ;   214.51387407908743          \n",
      "out                     Var x[40]   :   0   ;   212.83319107425925       (P: Bnd)\n",
      "out                       Var x[11]   :   0   ;   212.6093415381279       (P: Bnd)\n",
      "out                         Var x[35]   :   0   ;   212.38651945113853       (P: Bnd)\n",
      "out                           Var x[18]   :   0   ;   212.24778093834607       (P: Bnd)\n",
      "out                             Var x[31]   :   0   ;   212.0  (I)  (P: Opt)\n",
      "out                             Var x[31]   :   1   ;   209.26274868780402       (P: Bnd)\n",
      "out                           Var x[18]   :   1   ;   208.76372138813684       (P: Bnd)\n",
      "out                         Var x[35]   :   1   ;   211.3350577660536       (P: Bnd)\n",
      "out                       Var x[11]   :   1   ;   211.55546909068144       (P: Bnd)\n",
      "out                     Var x[40]   :   1   ;   214.22946104279887          \n",
      "out                       Var x[35]   :   0   ;   213.27835951134378          \n",
      "out                         Var x[9]   :   0   ;   212.59174116645383       (P: Bnd)\n",
      "out                           Var x[22]   :   0   ;   211.4669652489457       (P: Bnd)\n",
      "out                           Var x[22]   :   1   ;   212.29558867660296       (P: Bnd)\n",
      "out                             Var x[39]   :   0   ;   211.29136924075274       (P: Bnd)\n",
      "out                             Var x[39]   :   1   ;   212.26600315440257       (P: Bnd)\n",
      "out                               Var x[38]   :   0   ;   211.36883924458775       (P: Bnd)\n",
      "out                               Var x[38]   :   1   ;   212.14019851116623       (P: Bnd)\n",
      "out                                 Var x[27]   :   0   ;   209.80584918957013       (P: Bnd)\n",
      "out                                 Var x[27]   :   1   ;   211.8664383561644       (P: Bnd)\n",
      "out                         Var x[9]   :   1   ;   212.89171503274176       (P: Bnd)\n",
      "out                           Var x[22]   :   0   ;   212.08436563289703       (P: Bnd)\n",
      "out                             Var x[37]   :   0   ;   211.79638326847692       (P: Bnd)\n",
      "out                             Var x[37]   :   1   ;   209.3388419882142       (P: Bnd)\n",
      "out                           Var x[22]   :   1   ;   212.53919715323698       (P: Bnd)\n",
      "out                             Var x[27]   :   0   ;   211.39772727272725       (P: Bnd)\n",
      "out                             Var x[27]   :   1   ;   211.77948903152       (P: Bnd)"
     ]
    },
    {
     "name": "stdout",
     "output_type": "stream",
     "text": [
      "\n",
      "out                       Var x[35]   :   1   ;   213.96107029350466          \n",
      "out                         Var x[4]   :   0   ;   211.7749440408041       (P: Bnd)\n",
      "out                         Var x[4]   :   1   ;   213.35831080326616          \n",
      "out                           Var x[31]   :   0   ;   213.2740170693643          \n",
      "out                             Var x[36]   :   0   ;   212.8191193584077       (P: Bnd)\n",
      "out                               Var x[12]   :   0   ;   212.0874570868228       (P: Bnd)\n",
      "out                                 Var x[22]   :   0   ;   210.6851851851852"
     ]
    },
    {
     "name": "stdout",
     "output_type": "stream",
     "text": [
      "       (P: Bnd)\n",
      "out                                 Var x[22]   :   1   ;   211.02038250918704       (P: Bnd)\n",
      "out                               Var x[12]   :   1   ;   212.6556883221207       (P: Bnd)\n",
      "out                                 Var x[14]   :   0   ;   211.55307834629758       (P: Bnd)\n",
      "out                                 Var x[14]   :   1   ;   212.43859315589353       (P: Bnd)\n",
      "out                                   Var x[38]   :   0   ;   211.18554516619955       (P: Bnd)\n",
      "out                                   Var x[38]   :   1   ;   212.28527607361966       (P: Bnd)\n",
      "out                                     Var x[22]   :   0   ;   209.64558629776022       (P: Bnd)\n",
      "out                                     Var x[22]   :   1   ;   212.23809523809524       (P: Bnd)\n",
      "out                                       Var x[39]   :   0   ;   212.13005780346822       (P: Bnd)\n",
      "out                                         Var x[15]   :   0   ;   208.13550645537697       (P: Bnd)\n",
      "out                                         Var x[15]   :   1   ;   212.1185185185185       (P: Bnd)\n",
      "out                                           Var x[37]   :   0   ;   211.8190476190476       (P: Bnd)\n",
      "out                                           Var x[37]   :   1   ;   211.09523390264968       (P: Bnd)\n",
      "out                                       Var x[39]   :   1   ;   212.1868131868132       (P: Bnd)\n",
      "out                                         Var x[27]   :   0   ;   209.81194502009228       (P: Bnd)\n",
      "out                                         Var x[27]   :   1   ;   211.62801932367148       (P: Bnd)\n",
      "out                             Var x[36]   :   1   ;   212.33108575052117       (P: Bnd)\n",
      "out                               Var x[38]   :   0   ;   211.3544944550374       (P: Bnd)\n",
      "out                               Var x[38]   :   1   ;   211.84097970320636       (P: Bnd)\n",
      "out                           Var x[31]   :   1   ;   212.30647879608534       (P: Bnd)\n",
      "out                             Var x[38]   :   0   ;   211.67095807049452       (P: Bnd)\n",
      "out                             Var x[38]   :   1   ;   211.79168442424427       (P: Bnd)\n",
      "out                   Var x[34]   :   1   ;   214.0219506033573          \n",
      "out                     Var x[35]   :   0   ;   213.26457179029424          \n",
      "out                       Var x[38]   :   0   ;   213.00668206005233          \n",
      "out                         Var x[9]   :   0   ;   212.30718236738412       (P: Bnd)\n",
      "out                           Var x[7]   :   0   ;   211.1326622539165       (P: Bnd)\n",
      "out                           Var x[7]   :   1   ;   212.04862996790916       (P: Bnd)\n",
      "out                             Var x[39]   :   0   ;   209.64285714285717       (P: Bnd)\n",
      "out                             Var x[39]   :   1   ;   211.82314964261013     "
     ]
    },
    {
     "name": "stdout",
     "output_type": "stream",
     "text": [
      "  (P: Bnd)\n",
      "out                         Var x[9]   :   1   ;   212.63056402185848       (P: Bnd)\n",
      "out                           Var x[40]   :   0   ;   210.51950971083866       (P: Bnd)\n",
      "out                           Var x[40]   :   1   ;   212.194275970617       (P: Bnd)\n",
      "out                             Var x[26]   :   0   ;   210.55021782475424       (P: Bnd)\n",
      "out                             Var x[26]   :   1   ;   211.9761634541537       (P: Bnd)\n",
      "out                       Var x[38]   :   1   ;   212.69333388544476       (P: Bnd)\n",
      "out                         Var x[22]   :   0   ;   211.75584670335147       (P: Bnd)\n",
      "out                         Var x[22]   :   1   ;   212.1971117392361       (P: Bnd)\n",
      "out                           Var x[9]   :   0   ;   212.10985232706722       (P: Bnd)\n",
      "out                             Var x[40]   :   0   ;   210.05802792321114       (P: Bnd)\n",
      "out                             Var x[40]   :   1   ;   211.6133873863997       (P: Bnd)\n",
      "out                           Var x[9]   :   1   ;   212.158251853036       (P: Bnd)\n",
      "out                             Var x[40]   :   0   ;   210.15       (P: Bnd)\n",
      "out                             Var x[40]   :   1   ;   211.0585434924667       (P: Bnd)\n",
      "out                     Var x[35]   :   1   ;   212.7862176964622       (P: Bnd)\n",
      "out                       Var x[31]   :   0   ;   212.01483097055615       (P: Bnd)\n",
      "out                         Var x[10]   :   0   ;   211.84627897519317       (P: Bnd)\n",
      "out                         Var x[10]   :   1   ;   210.95521473258162       (P: Bnd)\n",
      "out                       Var x[31]   :   1   ;   211.44140914769804       (P: Bnd)\n",
      "out               Var x[30]   :   1   ;   215.51555013675159          \n",
      "out                 Var x[38]   :   0   ;   214.48808673874248          \n",
      "out                   Var x[31]   :   0   ;   213.75529096078913          \n",
      "out                     Var x[35]   :   0   ;   213.555715961691          \n",
      "out                       Var x[37]   :   0   ;   213.07496800370606          \n",
      "out                         Var x[34]   :   0   ;   212.83982169390788       (P: Bnd)\n",
      "out                           Var x[1]   :   0   ;   210.38882731443       (P: Bnd)\n",
      "out                           Var x[1]   :   1   ;   212.6488549618321       (P: Bnd)\n"
     ]
    },
    {
     "name": "stdout",
     "output_type": "stream",
     "text": [
      "out                             Var x[33]   :   0   ;   210.65676567656766       (P: Bnd)\n",
      "out                             Var x[33]   :   1   ;   212.3761706555671       (P: Bnd)\n",
      "out                               Var x[13]   :   0   ;   208.25922147870082       (P: Bnd)\n",
      "out                               Var x[13]   :   1   ;   212.36981566820273       (P: Bnd)\n",
      "out                                 Var x[7]   :   0   ;   209.3950704225352       (P: Bnd)\n",
      "out                                 Var x[7]   :   1   ;   212.36748844375964       (P: Bnd)\n",
      "out                                   Var x[28]   :   0   ;   210.64912796615923       (P: Bnd)\n",
      "out                                   Var x[28]   :   1   ;   212.26625659050964       (P: Bnd)\n",
      "out                                     Var x[32]   :   0   ;   208.22033898305085       (P: Bnd)\n",
      "out                                     Var x[32]   :   1   ;   212.20850202429153       (P: Bnd)\n",
      "out                                       Var x[27]   :   0   ;   207.64077669902912       (P: Bnd)\n",
      "out                                       Var x[27]   :   1   ;   212.03508771929825       (P: Bnd)\n",
      "out                                         Var x[26]   :   0   ;   209.15151515151516       (P: Bnd)\n",
      "out                                         Var x[26]   :   1   ;   211.99358974358972       (P: Bnd)\n",
      "out                         Var x[34]   :   1   ;   212.23854478062975       (P: Bnd)\n",
      "out                           Var x[9]   :   0   ;   211.73636875559856       (P: Bnd)\n",
      "out                           Var x[9]   :   1   ;   211.41854724823577       (P: Bnd)\n",
      "out                       Var x[37]   :   1   ;   212.4244280768436       (P: Bnd)\n",
      "out                         Var x[28]   :   0   ;   211.59037558685444       (P: Bnd)\n",
      "out                         Var x[28]   :   1   ;   212.01620195850464       (P: Bnd)\n",
      "out                           Var x[7]   :   0   ;   210.3965500074675       (P: Bnd)\n",
      "out                           Var x[7]   :   1   ;   211.248426006276       (P: Bnd)\n",
      "out                     Var x[35]   :   1   ;   212.44051054796498       (P: Bnd)\n",
      "out                       Var x[36]   :   0   ;   212.19335267932195       (P: Bnd)\n",
      "out                         "
     ]
    },
    {
     "name": "stdout",
     "output_type": "stream",
     "text": [
      "Var x[33]   :   0   ;   212.15842328511283       (P: Bnd)\n",
      "out                           Var x[1]   :   0   ;   210.36607773851588       (P: Bnd)\n",
      "out                           Var x[1]   :   1   ;   211.6499165275459       (P: Bnd)\n",
      "out                         Var x[33]   :   1   ;   211.32509803249883       (P: Bnd)\n",
      "out                       Var x[36]   :   1   ;   211.76008414421432       (P: Bnd)\n",
      "out                   Var x[31]   :   1   ;   213.9615247808267          \n",
      "out                     Var x[1]   :   0   ;   211.64739385294712       (P: Bnd)\n",
      "out                     Var x[1]   :   1   ;   213.25202395624726          \n",
      "out                       Var x[9]   :   0   ;   212.95292469806353       (P: Bnd)\n",
      "out                         Var x[33]   :   0   ;   212.54843218345377       (P: Bnd)\n",
      "out                           Var x[11]   :   0   ;   212.0175043349492       (P: Bnd)\n",
      "out                             Var x[35]   :   0   ;   211.71585096306282       (P: Bnd)\n",
      "out                             Var x[35]   :   1   ;   211.4689808756656       (P: Bnd)\n",
      "out                           Var x[11]   :   1   ;   212.08396903350595       (P: Bnd)\n",
      "out                             Var x[12]   :   0   ;   210.08702554770096       (P: Bnd)\n",
      "out                             Var x[12]   :   1   ;   211.71862260870986       (P: Bnd)\n",
      "out                         Var x[33]   :   1   ;   212.48423119371344       (P: Bnd)\n",
      "out                           Var x[11]   :   0   ;   212.20652617605717       (P: Bnd)\n",
      "out                             Var x[39]   :   0   ;   211.463684932634       (P: Bnd)\n",
      "out                             Var x[39]   :   1   ;   211.7038244746631       (P: Bnd)\n",
      "out                           Var x[11]   :   1   ;   211.2583617653574       (P: Bnd)\n",
      "out                       Var x[9]   :   1   ;   212.80240021287383       (P: Bnd)\n",
      "out                         Var x[35]   :   0   ;   212.52809745771037       (P: Bnd)\n",
      "out                           Var x[27]   :   0   ;   209.95786850680472       (P: Bnd)\n",
      "out                           Var x[27]   :   1   ;   212.30362858942632       (P: Bnd)\n",
      "out                             Var x[28]   :   0   ;   212.10946135083418       (P: Bnd)\n",
      "out                               Var x[11]   :   0   ;   211.86329661398855       (P: Bnd)\n",
      "out                               Var x[11]   :   1   ;   210.70078464822518       (P: Bnd)\n",
      "out                             Var x[28]   :   1   ;   212.2801455111586       (P: Bnd)\n",
      "out                               Var x[15]   :   0   ;   211.56425188787915       (P: Bnd)\n",
      "out                               Var x[15]   :   1   ;   211.65375566923603       (P: Bnd)\n",
      "out                         Var x[35]   :   1   ;   211.09774682468685       (P: Bnd)\n",
      "out                 Var x[38]   :   1   ;   215.12658772419314          \n",
      "out                   Var x[9]   :   0   ;   215.09447412999572          \n",
      "out                     Var x[7]   :   0   ;   213.7542127564667          \n",
      "out                       Var x[34]   :   0   ;   213.0350532847926          \n",
      "out                         Var x[31]   :   0   ;   212.553572548555       (P: Bnd)\n",
      "out                           Var x[12]   :   0   ;   212.33744436597675       (P: Bnd)\n",
      "out                             Var x[33]   :   0   ;   211.80771151705977       (P: Bnd)\n",
      "out                             Var x[33]   :   1   ;   211.73016449135443       (P: Bnd)\n",
      "out                           Var x[12]   :   1   ;   212.5030645049379       (P: Bnd)\n",
      "out                             Var x[36]   :   0   ;   210.82880574064583       (P: Bnd)\n"
     ]
    },
    {
     "name": "stdout",
     "output_type": "stream",
     "text": [
      "out                             Var x[36]   :   1   ;   211.92878620384704       (P: Bnd)\n",
      "out                         Var x[31]   :   1   ;   212.4736970656856       (P: Bnd)\n",
      "out                           Var x[39]   :   0   ;   211.78198706072058       (P: Bnd)\n",
      "out                           Var x[39]   :   1   ;   212.19459112733009       (P: Bnd)\n",
      "out                             Var x[33]   :   0   ;   211.7658308641514       (P: Bnd)\n",
      "out                             Var x[33]   :   1   ;   211.90868517967738       (P: Bnd)\n",
      "out                       Var x[34]   :   1   ;   211.8665428393708       (P: Bnd)\n",
      "out                     Var x[7]   :   1   ;   214.8462017206663          \n",
      "out                       Var x[22]   :   0   ;   213.70813042585715          \n",
      "out                         Var x[31]   :   0   ;   212.84156590576367       (P: Bnd)\n",
      "out                           Var x[12]   :   0   ;   211.32630606242802       (P: Bnd)\n",
      "out                           Var x[12]   :   1   ;   212.48863388209105       (P: Bnd)\n",
      "out                             Var x[34]   :   0   ;   212.228072192206       (P: Bnd)\n",
      "out                               Var x[37]   :   0   ;   211.796875       (P: Bnd)\n",
      "out                               Var x[37]   :   1   ;   211.05505084856404       (P: Bnd)\n",
      "out                             Var x[34]   :   1   ;   210.08744265014894     "
     ]
    },
    {
     "name": "stdout",
     "output_type": "stream",
     "text": [
      "  (P: Bnd)\n",
      "out                         Var x[31]   :   1   ;   213.46269244070837          \n",
      "out                           Var x[35]   :   0   ;   213.11086435172894          \n",
      "out                             Var x[33]   :   0   ;   212.98570914471463       (P: Bnd)\n",
      "out                               Var x[34]   :   0   ;   212.31582415141216       (P: Bnd)\n",
      "out                                 Var x[1]   :   0   ;   209.77641128420026       (P: Bnd)\n",
      "out                                 Var x[1]   :   1   ;   211.6917422583672       (P: Bnd)\n",
      "out                               Var x[34]   :   1   ;   210.036587563833       (P: Bnd)\n",
      "out                             Var x[33]   :   1   ;   212.81076458617062       (P: Bnd)\n",
      "out                               Var x[32]   :   0   ;   211.6248498799039       (P: Bnd)\n",
      "out                               Var x[32]   :   1   ;   211.64276626379302       (P: Bnd)\n",
      "out                           Var x[35]   :   1   ;   212.1151837643856       (P: Bnd)\n",
      "out                             Var x[33]   :   0   ;   211.64060656798205       (P: Bnd)\n",
      "out                             Var x[33]   :   1   ;   211.52541743476306       (P: Bnd)\n",
      "out                       Var x[22]   :   1   ;   214.33174229236224          \n",
      "out                         Var x[6]   :   0   ;   212.78236053598988       (P: Bnd)\n",
      "out                           Var x[36]   :   0   ;   212.35206030515369       (P: Bnd)\n",
      "out                             Var x[35]   :   0   ;   210.80381808240023       (P: Bnd)\n",
      "out                             Var x[35]   :   1   ;   211.64041735763814       (P: Bnd)\n",
      "out                           Var x[36]   :   1   ;   210.94649617311768       (P: Bnd)\n",
      "out                         Var x[6]   :   1   ;   214.32285092488448          \n",
      "out                           Var x[36]   :   0   ;   214.26121955226333          \n",
      "out                             Var x[27]   :   0   ;   212.77864419828242       (P: Bnd)\n",
      "out                               Var x[33]   :   0   ;   212.62500939937212       (P: Bnd)\n",
      "out                                 Var x[31]   :   0   ;   211.53964615001243       (P: Bnd)\n",
      "out                                 Var x[31]   :   1   ;   212.14715480571073       (P: Bnd)\n",
      "out                                   Var x[35]   :   0   ;   211.85308570704998       (P: Bnd)\n",
      "out                                   Var x[35]   :   1   ;   210.40048425512876       (P: Bnd)\n",
      "out                               Var x[33]   :   1   ;   212.02713154513043       (P: Bnd)\n",
      "out                                 Var x[37]   :   0   ;   211.7484405991205       (P: Bnd)\n",
      "out                                 Var x[37]   :   1   ;   211.43427473028214       (P: Bnd)\n",
      "out                             Var x[27]   :   1   ;   214.16635612249772          \n",
      "out                               Var x[4]   :   0   ;   212.8804779686829       (P: Bnd)\n",
      "out                                 Var x[11]   :   0   ;   212.38655543138992       (P: Bnd)\n",
      "out                                   Var x[18]   :   0   ;   211.52916339355855       (P: Bnd)\n",
      "out                                   Var x[18]   :   1   ;   210.80317030595174       (P: Bnd)\n",
      "out                                 Var x[11]   :   1   ;   211.54303327859304       (P: Bnd)\n",
      "out                               Var x[4]   :   1   ;   214.13880833834875          \n",
      "out                                 Var x[40]   :   0   ;   212.67981173460066       (P: Bnd)\n",
      "out                                   Var x[33]   :   0   ;   210.83561643835617       (P: Bnd)\n",
      "out                                   Var x[33]   :   1   ;   212.33188552676032       (P: Bnd)\n",
      "out                                     Var x[31]   :   0   ;   211.78367975365666       (P: Bnd)\n",
      "out                                     Var x[31]   :   1   ;   211.69426071144446       (P: Bnd)\n",
      "out                                 Var x[40]   :   1   ;   213.9805447470817          \n",
      "out                                   Var x[37]   :   0   ;   213.8596833997978          \n",
      "out                                     Var x[14]   :   0   ;   212.53102192573098       (P: Bnd)\n",
      "out                                       Var x[33]   :   0   ;   211.55001057305986       (P: Bnd)\n",
      "out                                       Var x[33]   :   1   ;   211.6677281324281       (P: Bnd)\n",
      "out                                     Var x[14]   :   1   ;   213.6382113821138          \n",
      "out                                       Var x[8]   :   0   ;   211.01518434996837       (P: Bnd)\n",
      "out                                       Var x[8]   :   1   ;   213.62878787878788"
     ]
    },
    {
     "name": "stdout",
     "output_type": "stream",
     "text": [
      "          \n",
      "out                                         Var x[39]   :   0   ;   212.6185084805036       (P: Bnd)\n",
      "out                                           Var x[31]   :   0   ;   212.2583732057416       (P: Bnd)\n",
      "out                                             Var x[33]   :   0   ;   210.3846153846154       (P: Bnd)\n",
      "out                                             Var x[33]   :   1   ;   210.93440744396622       (P: Bnd)\n",
      "out                                           Var x[31]   :   1   ;   212.14564040419833       (P: Bnd)\n",
      "out                                             Var x[15]   :   0   ;   210.43903136826472       (P: Bnd)\n",
      "out                                             Var x[15]   :   1   ;   212.06930107402167       (P: Bnd)\n",
      "out                                               Var x[19]   :   0   ;   210.01942166594733       (P: Bnd)\n",
      "out                                               Var x[19]   :   1   ;   211.82499908213092       (P: Bnd)\n",
      "out                                         Var x[39]   :   1   ;   213.43596703140543          \n",
      "out                                           Var x[19]   :   0   ;   210.5042297882077       (P: Bnd)\n",
      "out                                           Var x[19]   :   1   ;   213.24020461084865          \n",
      "out                                             Var x[23]   :   0   ;   210.58941749097193       (P: Bnd)\n",
      "out                                             Var x[23]   :   1   ;   213.1249736396227          \n",
      "out "
     ]
    },
    {
     "name": "stdout",
     "output_type": "stream",
     "text": [
      "                                              Var x[10]   :   0   ;   211.84301871612723       (P: Bnd)\n",
      "out                                               Var x[10]   :   1   ;   212.80258302583027       (P: Bnd)\n",
      "out                                                 Var x[12]   :   0   ;   210.80695013661202       (P: Bnd)\n",
      "out                                                 Var x[12]   :   1   ;   212.69509803921568       (P: Bnd)\n",
      "out                                                   Var x[26]   :   0   ;   210.55953635405692       (P: Bnd)\n",
      "out                                                   Var x[26]   :   1   ;   212.69230769230768       (P: Bnd)\n",
      "out                                                     Var x[15]   :   0   ;   211.97928615671728       (P: Bnd)\n",
      "out                                                     Var x[15]   :   1   ;   211.76115342763873       (P: Bnd)\n",
      "out                                   Var x[37]   :   1   ;   212.41569123587766       (P: Bnd)\n",
      "out                                     Var x[28]   :   0   ;   211.6222354651733       (P: Bnd)\n",
      "out                                     Var x[28]   :   1   ;   211.8906883888972       (P: Bnd)\n",
      "out                           Var x[36]   :   1   ;   212.73925992498474       (P: Bnd)\n",
      "out                             Var x[35]   :   0   ;   212.33808825583608       (P: Bnd)\n",
      "out                               Var x[4]   :   0   ;   210.6394758668499       (P: Bnd)\n",
      "out                               Var x[4]   :   1   ;   212.30224017983448       (P: Bnd)\n",
      "out                                 Var x[19]   :   0   ;   209.93196464374998       (P: Bnd)\n",
      "out                                 Var x[19]   :   1   ;   211.98105793652545       (P: Bnd)\n",
      "out                             Var x[35]   :   1   ;   211.22160906853424       (P: Bnd)\n",
      "out                   Var x[9]   :   1   ;   214.7230329233875          \n",
      "out                     Var x[27]   :   0   ;   213.74790253123248          \n",
      "out                       Var x[33]   :   0   ;   213.35660833242449          \n",
      "out                         Var x[31]   :   0   ;   213.14870105994774          \n",
      "out                           Var x[37]   :   0   ;   212.39606035205364       (P: Bnd)\n",
      "out                             Var x[1]   :   0   ;   210.04083577992148       (P: Bnd)\n",
      "out                             Var x[1]   :   1   ;   212.17555266579973       (P: Bnd)\n",
      "out                               Var x[12]   :   0   ;   208.10093502757132       (P: Bnd)\n",
      "out                               Var x[12]   :   1   ;   212.07479224376732       (P: Bnd)\n",
      "out                                 Var x[21]   :   0   ;   208.74756821700055       (P: Bnd)\n",
      "out                                 Var x[21]   :   1   ;   211.70833333333334       (P: Bnd)\n",
      "out                           Var x[37]   :   1   ;   211.44115155431115       (P: Bnd)\n",
      "out                         Var x[31]   :   1   ;   212.89482266983174       (P: Bnd)\n",
      "out                           Var x[12]   :   0   ;   210.94775980117683       (P: Bnd)\n",
      "out                           Var x[12]   :   1   ;   212.3731109019711       (P: Bnd)\n",
      "out                             Var x[7]   :   0   ;   210.73896535364395       (P: Bnd)\n",
      "out                             Var x[7]   :   1   ;   212.12088590384872       (P: Bnd)\n",
      "out                               Var x[28]   :   0   ;   210.2736525789987       (P: Bnd)\n",
      "out                               Var x[28]   :   1   ;   212.01563276427066       (P: Bnd)\n",
      "out                                 Var x[13]   :   0   ;   209.53531897744685       (P: Bnd)\n"
     ]
    },
    {
     "name": "stdout",
     "output_type": "stream",
     "text": [
      "out                                 Var x[13]   :   1   ;   211.99711229830072       (P: Bnd)\n",
      "out                       Var x[33]   :   1   ;   212.97473785464408       (P: Bnd)\n",
      "out                         Var x[12]   :   0   ;   212.2748706260392       (P: Bnd)\n",
      "out                           Var x[7]   :   0   ;   209.04012713547874       (P: Bnd)\n",
      "out                           Var x[7]   :   1   ;   211.7380599299401       (P: Bnd)\n",
      "out                         Var x[12]   :   1   ;   212.71372735118317       (P: Bnd)\n",
      "out                           Var x[32]   :   0   ;   211.2640405222545       (P: Bnd)\n",
      "out                           Var x[32]   :   1   ;   211.6162309310323       (P: Bnd)\n",
      "out                     Var x[27]   :   1   ;   214.19992074120236          \n",
      "out                       Var x[40]   :   0   ;   212.4125114825628       (P: Bnd)\n",
      "out                         Var x[7]   :   0   ;   211.8297706683002       (P: Bnd)\n",
      "out                         Var x[7]   :   1   ;   212.08761176931404       (P: Bnd)\n",
      "out                           Var x[33]   :   0   ;   211.25407166123776       (P: Bnd)\n",
      "out                           Var x[33]   :   1   ;   210.84604808084472       (P: Bnd)\n",
      "out                       Var x[40]   :   1   ;   213.88311101983427          \n",
      "out                         Var x[28]   :   0   ;   213.29148177072082          \n",
      "out                           Var x[4]   :   0   ;   212.40176700713778       (P: Bnd)\n",
      "out                             Var x[35]   :   0   ;   211.2360897543343       (P: Bnd)\n",
      "out                             Var x[35]   :   1   ;   210.53142504753586       (P: Bnd)\n",
      "out                           Var x[4]   :   1   ;   212.80810755606655       (P: Bnd)\n",
      "out                             Var x[31]   :   0   ;   212.4486633086101       (P: Bnd)\n",
      "out                               Var x[37]   :   0   ;   212.2165682614599       (P: Bnd)\n",
      "out                                 Var x[36]   :   0   ;   211.39304517099504       (P: Bnd)\n",
      "out                                 Var x[36]   :   1   ;   212.12232800431113       (P: Bnd)\n",
      "out                                   Var x[15]   :   0   ;   210.56023021687616       (P: Bnd)\n",
      "out                                   Var x[15]   :   1   ;   211.29613639213298       (P: Bnd)\n",
      "out                               Var x[37]   :   1   ;   210.60166878761294       (P: Bnd)\n",
      "out                             Var x[31]   :   1   ;   212.5628748138561       (P: Bnd)\n",
      "out                               Var x[22]   :   0   ;   212.11793906673162       (P: Bnd)\n",
      "out                                 Var x[24]   :   0   ;   212.01783099496203       (P: Bnd)\n",
      "out                                   Var x[35]   :   0   ;   211.26754391566328       (P: Bnd)\n",
      "out                                   Var x[35]   :   1   ;   210.64191497599407       (P: Bnd)\n"
     ]
    },
    {
     "name": "stdout",
     "output_type": "stream",
     "text": [
      "out                                 Var x[24]   :   1   ;   210.18558293497406       (P: Bnd)\n",
      "out                               Var x[22]   :   1   ;   211.4838014989354       (P: Bnd)\n",
      "out                         Var x[28]   :   1   ;   213.45638194696545          \n",
      "out                           Var x[14]   :   0   ;   212.42599591992553       (P: Bnd)\n",
      "out                             Var x[34]   :   0   ;   211.83420938866803       (P: Bnd)\n",
      "out                             Var x[34]   :   1   ;   210.64218472970467       (P: Bnd)\n",
      "out                           Var x[14]   :   1   ;   213.27653598649468          \n",
      "out                             Var x[39]   :   0   ;   212.22522401660308       (P: Bnd)\n",
      "out                               Var x[19]   :   0   ;   211.01487841858935       (P: Bnd)\n",
      "out                               Var x[19]   :   1   ;   212.09614772416776       (P: Bnd)\n",
      "out                                 Var x[4]   :   0   ;   211.14002401269695       (P: Bnd)\n",
      "out                                 Var x[4]   :   1   ;   211.7964798360636       (P: Bnd)\n",
      "out                             Var x[39]   :   1   ;   212.83767757329505       (P: Bnd)\n",
      "out                               Var x[22]   :   0   ;   212.7509802553728       (P: Bnd)\n",
      "out                                 Var x[12]   :   0   ;   212.2072007245369       (P: Bnd)\n",
      "out                                   Var x[7]   :   0   ;   211.11355771682514       (P: Bnd)\n",
      "out                                   Var x[7]   :   1   ;   210.96006930946007       (P: Bnd)\n",
      "out                                 Var x[12]   :   1   ;   211.98617943433968       (P: Bnd)\n",
      "out                               Var x[22]   :   1   ;   212.6169282277491       (P: Bnd)\n",
      "out                                 Var x[7]   :   0   ;   212.02489058025685       (P: Bnd)\n",
      "out                                   Var x[34]   :   0   ;   211.1680359251693       (P: Bnd)\n",
      "out                                   Var x[34]   :   1   ;   211.57826776823327       (P: Bnd)\n",
      "out                                 Var x[7]   :   1   ;   212.44680511974286       (P: Bnd)\n",
      "out                                   Var x[36]   :   0   ;   212.14094572297796       (P: Bnd)\n",
      "out                                     Var x[4]   :   0   ;   211.37105803321518       (P: Bnd)\n",
      "out                                     Var x[4]   :   1   ;   211.83538186528818       (P: Bnd)\n",
      "out                                   Var x[36]   :   1   ;   210.67159998237958       (P: Bnd)\n",
      "out             Var x[25]   :   1   ;   215.11389644968958          \n",
      "out               Var x[33]   :   0   ;   214.79658194903624          \n",
      "out                 Var x[7]   :   0   ;   214.15320498412441          \n",
      "out                   Var x[9]   :   0   ;   214.0412615330932          \n",
      "out                     Var x[31]   :   0   ;   213.33613523126795          \n",
      "out                       Var x[36]   :   0   ;   213.0072772791887          \n",
      "out                         Var x[12]   :   0   ;   210.78267973856208       (P: Bnd)\n",
      "out                         Var x[12]   :   1   ;   212.9875442549083       (P: Bnd)\n",
      "out                           Var x[37]   :   0   ;   212.4758064516129       (P: Bnd)\n",
      "out                             Var x[34]   :   0   ;   211.94736842105263       (P: Bnd)\n",
      "out                             Var x[34]   :   1   ;   210.38226402418545       (P: Bnd)\n",
      "out                           "
     ]
    },
    {
     "name": "stdout",
     "output_type": "stream",
     "text": [
      "Var x[37]   :   1   ;   211.9208842286256       (P: Bnd)\n",
      "out                       Var x[36]   :   1   ;   212.17323733487368       (P: Bnd)\n",
      "out                         Var x[37]   :   0   ;   211.9758824491654       (P: Bnd)\n",
      "out                         Var x[37]   :   1   ;   210.78990946421968       (P: Bnd)\n",
      "out                     Var x[31]   :   1   ;   213.05478044521837          \n",
      "out                       Var x[30]   :   0   ;   212.441693478074       (P: Bnd)\n",
      "out                         Var x[35]   :   0   ;   212.06041899068614       (P: Bnd)\n",
      "out                           Var x[34]   :   0   ;   211.85706338793642       (P: Bnd)\n",
      "out                           Var x[34]   :   1   ;   210.98178170972935       (P: Bnd)\n",
      "out                         Var x[35]   :   1   ;   211.44930757394425       (P: Bnd)\n",
      "out                       Var x[30]   :   1   ;   212.42415819885812       (P: Bnd)\n",
      "out                         Var x[12]   :   0   ;   211.7082646523428       (P: Bnd)\n",
      "out                         Var x[12]   :   1   ;   212.00984253168613       (P: Bnd)\n",
      "out                           Var x[28]   :   0   ;   210.57927025029304       (P: Bnd)\n",
      "out                           Var x[28]   :   1   ;   211.7197315968999       (P: Bnd)\n",
      "out                   Var x[9]   :   1   ;   213.53563135498828          \n",
      "out                     Var x[30]   :   0   ;   213.1655192709135          \n",
      "out                       Var x[40]   :   0   ;   210.71779512407085       (P: Bnd)\n",
      "out                       Var x[40]   :   1   ;   213.06568683829087          \n",
      "out                         Var x[4]   :   0   ;   211.46551829533513       (P: Bnd)\n",
      "out                         Var x[4]   :   1   ;   212.50059373570275"
     ]
    },
    {
     "name": "stdout",
     "output_type": "stream",
     "text": [
      "       (P: Bnd)\n",
      "out                           Var x[34]   :   0   ;   212.35020625783034       (P: Bnd)\n",
      "out                             Var x[14]   :   0   ;   209.456223202788       (P: Bnd)\n",
      "out                             Var x[14]   :   1   ;   212.3441422693993       (P: Bnd)\n",
      "out                               Var x[27]   :   0   ;   209.24112986565623       (P: Bnd)\n",
      "out                               Var x[27]   :   1   ;   212.13564310154632       (P: Bnd)\n",
      "out                                 Var x[38]   :   0   ;   211.765406316002       (P: Bnd)\n",
      "out                                 Var x[38]   :   1   ;   212.110936689527       (P: Bnd)\n",
      "out                                   Var x[15]   :   0   ;   210.08306377546214       (P: Bnd)\n",
      "out                                   Var x[15]   :   1   ;   211.93748741513838       (P: Bnd)\n",
      "out                           Var x[34]   :   1   ;   210.6994590750876       (P: Bnd)\n",
      "out                     Var x[30]   :   1   ;   213.09677371813518          \n",
      "out                       Var x[12]   :   0   ;   211.97788889568716       (P: Bnd)\n",
      "out                       Var x[12]   :   1   ;   212.7088068841854       (P: Bnd)\n",
      "out                         Var x[4]   :   0   ;   212.1078197131848       (P: Bnd)\n",
      "out                           Var x[34]   :   0   ;   211.33284874969974       (P: Bnd)\n",
      "out                           Var x[34]   :   1   ;   210.61750153382732       (P: Bnd)\n",
      "out                         Var x[4]   :   1   ;   212.16322259345012       (P: Bnd)\n",
      "out                           Var x[31]   :   0   ;   212.02143798243287       (P: Bnd)\n",
      "out                             Var x[1]   :   0   ;   211.05888382989312       (P: Bnd)\n",
      "out                             Var x[1]   :   1   ;   210.9224237059408       (P: Bnd)\n",
      "out                           Var x[31]   :   1   ;   211.95694940799072       (P: Bnd)\n",
      "out                 Var x[7]   :   1   ;   214.41659239417174          \n",
      "out                   Var x[30]   :   0   ;   214.10890531335457          \n",
      "out                     Var x[35]   :   0   ;   213.15299716176713          \n",
      "out                       Var x[9]   :   0   ;   212.64903846153845       (P: Bnd)\n",
      "out                         Var x[38]   :   0   ;   211.9741779547549       (P: Bnd)\n",
      "out                         Var x[38]   :   1   ;   212.48909657320874       (P: Bnd)\n",
      "out                           Var x[15]   :   0   ;   210.92839132627333       (P: Bnd)\n",
      "out                           Var x[15]   :   1   ;   212.39999999999998"
     ]
    },
    {
     "name": "stdout",
     "output_type": "stream",
     "text": [
      "       (P: Bnd)\n",
      "out                             Var x[22]   :   0   ;   211.71230469286326       (P: Bnd)\n",
      "out                             Var x[22]   :   1   ;   211.9375       (P: Bnd)\n",
      "out                       Var x[9]   :   1   ;   212.89733261810406       (P: Bnd)\n",
      "out                         Var x[37]   :   0   ;   212.6919020715631       (P: Bnd)\n",
      "out                           Var x[38]   :   0   ;   212.25137550376732       (P: Bnd)\n",
      "out                             Var x[31]   :   0   ;   210.48497109826587       (P: Bnd)\n",
      "out                             Var x[31]   :   1   ;   211.0780738938941       (P: Bnd)\n",
      "out                           Var x[38]   :   1   ;   212.51569217175577       (P: Bnd)\n",
      "out                             Var x[15]   :   0   ;   210.39527027027026       (P: Bnd)\n",
      "out                             Var x[15]   :   1   ;   211.616819515708       (P: Bnd)\n",
      "out                         Var x[37]   :   1   ;   210.53965625843605       (P: Bnd)\n",
      "out                     Var x[35]   :   1   ;   213.1448311156602          \n",
      "out                       Var x[22]   :   0   ;   212.00011577919395       (P: Bnd)\n",
      "out                         Var x[31]   :   0   ;   210.8382177160505       (P: Bnd)\n",
      "out                         Var x[31]   :   1   ;   211.469908142133       (P: Bnd)\n",
      "out                       Var x[22]   :   1   ;   213.0290035856511          \n",
      "out                         Var x[31]   :   0   ;   212.55030308235533       (P: Bnd)\n",
      "out                           Var x[9]   :   0   ;   212.4663692254322       (P: Bnd)\n",
      "out                             Var x[37]   :   0   ;   212.19551766808746       (P: Bnd)\n",
      "out                               Var x[38]   :   0   ;   211.67379827729926       (P: Bnd)\n",
      "out                               Var x[38]   :   1   ;   211.7074134160965       (P: Bnd)\n",
      "out                             Var x[37]   :   1   ;   210.90953080124729       (P: Bnd)\n",
      "out                           Var x[9]   :   1   ;   212.25715209385496       (P: Bnd)\n",
      "out                             Var x[13]   :   0   ;   210.65459525394647       (P: Bnd)\n",
      "out                             Var x[13]   :   1   ;   211.31701378826384       (P: Bnd)\n",
      "out                         Var x[31]   :   1   ;   212.3798011130371       (P: Bnd)\n",
      "out                           Var x[28]   :   0   ;   210.31578947368422       (P: Bnd)\n",
      "out                           Var x[28]   :   1   ;   211.7810691407113       (P: Bnd)\n",
      "out                   Var x[30]   :   1   ;   213.78179515098734          \n",
      "out                     Var x[38]   :   0   ;   213.18886418323302          \n",
      "out                       Var x[1]   :   0   ;   211.6836217756041       (P: Bnd)\n",
      "out                       Var x[1]   :   1   ;   213.0963104073608          \n",
      "out                         Var x[12]   :   0   ;   210.66019201930246       (P: Bnd)\n",
      "out                         Var x[12]   :   1   ;   212.48887710102952       (P: Bnd)\n",
      "out                           Var x[20]   :   0   ;   209.88202307485912       (P: Bnd)\n",
      "out                           Var x[20]   :   1   ;   212.2337067344028       (P: Bnd)\n",
      "out                             Var x[21]   :   0   ;   210.70035397744422       (P: Bnd)\n",
      "out                             Var x[21]   :   1   ;   211.76796825902656       (P: Bnd)\n",
      "out                     Var x[38]   :   1   ;   213.0833499672075          \n",
      "out                       Var x[9]   :   0   ;   212.98000479503045       (P: Bnd)\n",
      "out                         Var x[13]   :   0   ;   212.25186415199002       (P: Bnd)\n",
      "out                           Var x[31]   :   0   ;   211.71690355781175       (P: Bnd)\n",
      "out                           Var x[31]   :   1   ;   212.0615565221275       (P: Bnd)\n",
      "out                             Var x[12]   :   0   ;   211.0312774931084       (P: Bnd)\n",
      "out                             Var x[12]   :   1   ;   211.68636511755852       (P: Bnd)\n",
      "out                         Var x[13]   :   1   ;   212.7656209764113     "
     ]
    },
    {
     "name": "stdout",
     "output_type": "stream",
     "text": [
      "  (P: Bnd)\n",
      "out                           Var x[5]   :   0   ;   212.0191155537721       (P: Bnd)\n",
      "out                             Var x[12]   :   0   ;   210.3969967151572       (P: Bnd)\n",
      "out                             Var x[12]   :   1   ;   211.1716529431185       (P: Bnd)\n",
      "out                           Var x[5]   :   1   ;   212.59194413674174       (P: Bnd)\n",
      "out                             Var x[4]   :   0   ;   212.27691835224005       (P: Bnd)\n",
      "out                               Var x[15]   :   0   ;   210.46178658384704       (P: Bnd)\n",
      "out                               Var x[15]   :   1   ;   212.2209145349441       (P: Bnd)\n",
      "out                                 Var x[19]   :   0   ;   207.6995798319328       (P: Bnd)\n",
      "out                                 Var x[19]   :   1   ;   212.07539253354076       (P: Bnd)\n",
      "out                                   Var x[35]   :   0   ;   212.01597338767684       (P: Bnd)\n",
      "out                                     Var x[3]   :   0   ;   205.02158273381295       (P: Bnd)\n",
      "out                                     Var x[3]   :   1   ;   211.9486568370026       (P: Bnd)\n",
      "out                                   Var x[35]   :   1   ;   210.14893322158503       (P: Bnd)\n",
      "out                             Var x[4]   :   1   ;   212.50400711838387       (P: Bnd)\n",
      "out                               Var x[6]   :   0   ;   212.1021781234473       (P: Bnd)\n",
      "out                                 Var x[15]   :   0   ;   211.12341223827812       (P: Bnd)\n",
      "out                                 Var x[15]   :   1   ;   211.44782326295456       (P: Bnd)\n",
      "out                               Var x[6]   :   1   ;   212.16117394898595       (P: Bnd)\n",
      "out                                 Var x[22]   :   0   ;   211.8467668042828       (P: Bnd)\n",
      "out                                 Var x[22]   :   1   ;   212.0360703354069       (P: Bnd)\n",
      "out                                   Var x[19]   :   0   ;   210.89052369646606       (P: Bnd)\n",
      "out                                   Var x[19]   :   1   ;   211.28300391736664       (P: Bnd)\n",
      "out                       Var x[9]   :   1   ;   212.62797098740742       (P: Bnd)\n",
      "out                         Var x[13]   :   0   ;   211.9666861554631       (P: Bnd)\n",
      "out                         Var x[13]   :   1   ;   212.33128341594247       (P: Bnd)\n",
      "out                           Var x[4]   :   0   ;   211.36273719114428       (P: Bnd)\n",
      "out                           Var x[4]   :   1   ;   212.30553243864435       (P: Bnd)\n",
      "out                             Var x[15]   :   0   ;   211.6594490433731       (P: Bnd)\n",
      "out                             Var x[15]   :   1   ;   211.5384801383602       (P: Bnd)\n",
      "out               Var x[33]   :   1   ;   214.55258886786308          \n",
      "out                 Var x[4]   :   0   ;   213.75795642492315          \n",
      "out                   Var x[7]   :   0   ;   212.78575962405765       (P: Bnd)\n",
      "out                     Var x[9]   :   0   ;   212.3706539859631       (P: Bnd)\n",
      "out                       Var x[37]   :   0   ;   212.161540454982       (P: Bnd)\n",
      "out "
     ]
    },
    {
     "name": "stdout",
     "output_type": "stream",
     "text": [
      "                        Var x[12]   :   0   ;   212.0145296966607       (P: Bnd)\n",
      "out                           Var x[36]   :   0   ;   211.632242387425       (P: Bnd)\n",
      "out                           Var x[36]   :   1   ;   211.05662518588085       (P: Bnd)\n",
      "out                         Var x[12]   :   1   ;   211.51938614782517       (P: Bnd)\n",
      "out                       Var x[37]   :   1   ;   209.79085397423339       (P: Bnd)\n",
      "out                     Var x[9]   :   1   ;   211.57118294464024       (P: Bnd)\n",
      "out                   Var x[7]   :   1   ;   213.43308638680745          \n",
      "out                     Var x[30]   :   0   ;   212.10761430024797       (P: Bnd)\n",
      "out                       Var x[35]   :   0   ;   210.43308216553854       (P: Bnd)\n",
      "out                       Var x[35]   :   1   ;   211.82421123027032       (P: Bnd)\n",
      "out                     Var x[30]   :   1   ;   212.64160782474434       (P: Bnd)\n",
      "out                       Var x[32]   :   0   ;   211.0357565089457       (P: Bnd)\n",
      "out                       Var x[32]   :   1   ;   212.00300563199724       (P: Bnd)\n",
      "out                         Var x[27]   :   0   ;   210.18411699853172       (P: Bnd)\n",
      "out                         Var x[27]   :   1   ;   211.69976936121284       (P: Bnd)\n",
      "out                 Var x[4]   :   1   ;   214.11463592870214          \n",
      "out                   Var x[30]   :   0   ;   213.42772399733815          \n",
      "out                     Var x[21]   :   0   ;   212.41569930963948       (P: Bnd)\n",
      "out                       Var x[31]   :   0   ;   211.70027869267798       (P: Bnd)\n",
      "out                       Var x[31]   :   1   ;   211.78109934742653       (P: Bnd)\n",
      "out                     Var x[21]   :   1   ;   213.21262121037907          \n",
      "out                       Var x[7]   :   0   ;   211.99529656299362       (P: Bnd)\n",
      "out                       Var x[7]   :   1   ;   213.08928207769804          \n",
      "out                         Var x[40]   :   0   ;   211.5171401280645       (P: Bnd)\n",
      "out                         Var x[40]   :   1   ;   212.9562816550062       (P: Bnd)\n",
      "out                           Var x[32]   :   0   ;   210.50719003232       (P: Bnd)\n",
      "out                           Var x[32]   :   1   ;   212.52531545280928       (P: Bnd)\n",
      "out                             Var x[26]   :   0   ;   211.98281653289962       (P: Bnd)\n",
      "out                             Var x[26]   :   1   ;   212.4748566867426       (P: Bnd)\n",
      "out                               Var x[28]   :   0   ;   211.94567537794634       (P: Bnd)\n",
      "out                               Var x[28]   :   1   ;   212.34621455167084       (P: Bnd)\n",
      "out                                 Var x[5]   :   0   ;   210.61090574556803       (P: Bnd)\n",
      "out                                 Var x[5]   :   1   ;   211.73279637553483       (P: Bnd)\n",
      "out                   Var x[30]   :   1   ;   213.6549971570955          \n",
      "out                     Var x[1]   :   0   ;   212.5978162415904       (P: Bnd)\n",
      "out                       Var x[7]   :   0   ;   211.30370849842294       (P: Bnd)\n",
      "out                       Var x[7]   :   1   ;   212.07117601111105       (P: Bnd)\n",
      "out                         Var x[35]   :   0   ;   211.68607311561604       (P: Bnd)\n",
      "out                         Var x[35]   :   1   ;   209.8312282453984       (P: Bnd)\n",
      "out                     Var x[1]   :   1   ;   212.81873071800246       (P: Bnd)\n",
      "out                       Var x[15]   :   0   ;   211.53917728182427       (P: Bnd)\n",
      "out                       Var x[15]   :   1   ;   212.48981531849773       (P: Bnd)\n",
      "out                         Var x[31]   :   0   ;   211.80048174053414       (P: Bnd)\n",
      "out                         Var x[31]   :   1   ;   212.3244399727282       (P: Bnd)\n",
      "out                           Var x[22]   :   0   ;   211.6475333519035       (P: Bnd)\n",
      "out                           Var x[22]   :   1   ;   212.30697568708234       (P: Bnd)\n",
      "out                             Var x[40]   :   0   ;   211.54140103053942     "
     ]
    },
    {
     "name": "stdout",
     "output_type": "stream",
     "text": [
      "  (P: Bnd)\n",
      "out                             Var x[40]   :   1   ;   212.1300651938282       (P: Bnd)\n",
      "out                               Var x[5]   :   0   ;   210.972345717135       (P: Bnd)\n",
      "out                               Var x[5]   :   1   ;   211.96196676709945       (P: Bnd)\n",
      "out           Var x[2]   :   1   ;   216.8149679491446          \n",
      "out             Var x[25]   :   0   ;   216.335043153881          \n",
      "out               Var x[39]   :   0   ;   215.26793495759856          \n",
      "out                 Var x[31]   :   0   ;   214.80236691731855          \n",
      "out                   Var x[38]   :   0   ;   214.3398738566576          \n",
      "out                     Var x[37]   :   0   ;   213.98265340983104          \n",
      "out                       Var x[35]   :   0   ;   213.4110225667925          \n",
      "out                         Var x[30]   :   0   ;   211.7       (P: Bnd)\n",
      "out                         Var x[30]   :   1   ;   212.57682291666666       (P: Bnd)\n",
      "out                           Var x[9]   :   0   ;   212.23728813559322       (P: Bnd)\n",
      "out                             Var x[33]   :   0   ;   210.72666666666666       (P: Bnd)\n",
      "out                             Var x[33]   :   1   ;   212.06654676258992       (P: Bnd)\n",
      "out                               Var x[7]   :   0   ;   210.42397003745316       (P: Bnd)\n",
      "out                               Var x[7]   :   1   ;   211.7747819191118       (P: Bnd)\n",
      "out                           Var x[9]   :   1   ;   211.08213213847907       (P: Bnd)\n",
      "out                       Var x[35]   :   1   ;   212.87197890278844       (P: Bnd)\n",
      "out                         Var x[7]   :   0   ;   212.35822633982937       (P: Bnd)\n",
      "out                           Var x[33]   :   0   ;   211.84045633633443       (P: Bnd)\n",
      "out                           Var x[33]   :   1   ;   211.73299049730034       (P: Bnd)\n",
      "out                         Var x[7]   :   1   ;   212.66167406092873       (P: Bnd)\n",
      "out                           Var x[22]   :   0   ;   211.50438912457642       (P: Bnd)\n",
      "out                           Var x[22]   :   1   ;   212.05561892658142       (P: Bnd)\n",
      "out                             Var x[30]   :   0   ;   211.81770578447683       (P: Bnd)\n",
      "out                             Var x[30]   :   1   ;   211.63005780346822       (P: Bnd)\n",
      "out                     Var x[37]   :   1   ;   213.40197995438987          \n",
      "out                       Var x[33]   :   0   ;   212.77616784513737       (P: Bnd)\n",
      "out                         Var x[30]   :   0   ;   212.32783956787105       (P: Bnd)\n",
      "out                           Var x[36]   :   0   ;   212.26700636942672       (P: Bnd)\n",
      "out                             Var x[9]   :   0   ;   211.52422907488986       (P: Bnd)\n",
      "out                             Var x[9]   :   1   ;   210.77900429741078       (P: Bnd)\n",
      "out                           Var x[36]   :   1   ;   210.52508417265668       (P: Bnd)\n",
      "out                         Var x[30]   :   1   ;   212.24539486264263       (P: Bnd)\n",
      "out                           Var x[13]   :   0   ;   211.01693155304986       (P: Bnd)\n",
      "out                           Var x[13]   :   1   ;   211.77312181981443       (P: Bnd)\n",
      "out                       Var x[33]   :   1   ;   212.14433527867678       (P: Bnd)\n",
      "out                         Var x[20]   :   0   ;   209.78104114237144       (P: Bnd)\n",
      "out                         Var x[20]   :   1   ;   211.98941879345273       (P: Bnd)\n",
      "out                   Var x[38]   :   1   ;   214.42160006695187          \n",
      "out                     Var x[36]   :   0   ;   214.2015527887536          \n",
      "out                       Var x[9]   :   0   ;   214.18755894156354          \n",
      "out                         Var x[7]   :   0   ;   213.67049919297435          \n",
      "out                           Var x[30]   :   0   ;   213.1921014402586          \n",
      "out                             Var x[37]   :   0   ;   212.86100813008133       (P: Bnd)\n",
      "out                               Var x[22]   :   0   ;   210.53437213565536       (P: Bnd)\n",
      "out                               Var x[22]   :   1   ;   212.2113138333816       (P: Bnd)\n",
      "out                                 Var x[27]   :   0   ;   208.72131147540983       (P: Bnd)\n",
      "out                                 Var x[27]   :   1   ;   212.14651101204925       (P: Bnd)\n",
      "out                                   Var x[4]   :   0   ;   209.3668013677339       (P: Bnd)\n",
      "out                                   Var x[4]   :   1   ;   211.9308844852586       (P: Bnd)\n",
      "out                             Var x[37]   :   1   ;   212.15683681042543       (P: Bnd)\n",
      "out                               Var x[33]   :   0   ;   211.35469107551484       (P: Bnd)\n",
      "out                               Var x[33]   :   1   ;   211.4410918022846       (P: Bnd)\n",
      "out                           Var x[30]   :   1   ;   212.77234769707178       (P: Bnd)\n",
      "out                             Var x[11]   :   0   ;   212.5773195876289       (P: Bnd)\n",
      "out                               Var x[37]   :   0   ;   212.51273344651952       (P: Bnd)\n",
      "out                                 Var x[22]   :   0   ;   210.66923076923078       (P: Bnd)"
     ]
    },
    {
     "name": "stdout",
     "output_type": "stream",
     "text": [
      "\n",
      "out                                 Var x[22]   :   1   ;   211.97125097125095       (P: Bnd)\n",
      "out                               Var x[37]   :   1   ;   211.4916396418095       (P: Bnd)\n",
      "out                             Var x[11]   :   1   ;   211.30034804868185       (P: Bnd)\n",
      "out                         Var x[7]   :   1   ;   213.85116579613376          \n",
      "out                           Var x[33]   :   0   ;   213.11011235955058          \n",
      "out                             Var x[30]   :   0   ;   212.19117647058823       (P: Bnd)\n",
      "out                               Var x[35]   :   0   ;   212.0625       (P: Bnd)\n",
      "out                                 Var x[22]   :   0   ;   211.4079572446556       (P: Bnd)\n",
      "out                                 Var x[22]   :   1   ;   211.76338928856916       (P: Bnd)\n",
      "out                               Var x[35]   :   1   ;   211.37037037037038       (P: Bnd)\n",
      "out                             Var x[30]   :   1   ;   211.59174872421477       (P: Bnd)\n",
      "out                           Var x[33]   :   1   ;   212.90023800550708       (P: Bnd)\n",
      "out                             Var x[35]   :   0   ;   212.64850602581475       (P: Bnd)\n",
      "out                               Var x[22]   :   0   ;   212.1269146608315       (P: Bnd)\n",
      "out                                 Var x[11]   :   0   ;   211.89088547878404       (P: Bnd)\n",
      "out                                 Var x[11]   :   1   ;   211.48186528497408       (P: Bnd)\n",
      "out                               Var x[22]   :   1   ;   212.16684527464412       (P: Bnd)\n",
      "out                                 Var x[10]   :   0   ;   211.8135746606335       (P: Bnd)\n",
      "out                                 Var x[10]   :   1   ;   212.05319667574236       (P: Bnd)\n",
      "out                                   Var x[5]   :   0   ;   210.82342059439142       (P: Bnd)\n",
      "out                                   Var x[5]   :   1   ;   211.89221700877087       (P: Bnd)\n",
      "out                             Var x[35]   :   1   ;   212.63879566593155       (P: Bnd)\n",
      "out                               Var x[10]   :   0   ;   211.81559326471708       (P: Bnd)\n",
      "out                               Var x[10]   :   1   ;   212.48594001071237       (P: Bnd)\n",
      "out                                 Var x[6]   :   0   ;   211.28444707273803       (P: Bnd)\n",
      "out                                 Var x[6]   :   1   ;   212.43082205615025       (P: Bnd)\n",
      "out                                   Var x[5]   :   0   ;   211.29411947618118       (P: Bnd)\n",
      "out                                   Var x[5]   :   1   ;   212.37086985839517       (P: Bnd)\n",
      "out                                     Var x[27]   :   0   ;   210.61736770691994       (P: Bnd)\n",
      "out                                     Var x[27]   :   1   ;   212.33673469387753       (P: Bnd)\n",
      "out                                       Var x[23]   :   0   ;   209.59737340274495       (P: Bnd)\n",
      "out                                       Var x[23]   :   1   ;   212.26436170212764       (P: Bnd)\n",
      "out                                         Var x[4]   :   0   ;   211.11764705882354       (P: Bnd)\n",
      "out                                         Var x[4]   :   1   ;   212.20946372239746       (P: Bnd)\n",
      "out                                           Var x[14]   :   0   ;   210.70588235294116       (P: Bnd)\n",
      "out                                           Var x[14]   :   1   ;   212.06351894982004       (P: Bnd)\n",
      "out                                             Var x[32]   :   0   ;   208.0476782395727       (P: Bnd)\n",
      "out                                             Var x[32]   :   1   ;   211.97831423895252       (P: Bnd)\n",
      "out                       "
     ]
    },
    {
     "name": "stdout",
     "output_type": "stream",
     "text": [
      "Var x[9]   :   1   ;   213.83763568493274          \n",
      "out                         Var x[33]   :   0   ;   213.1559277219788          \n",
      "out                           Var x[22]   :   0   ;   213.07085960326003          \n",
      "out                             Var x[30]   :   0   ;   212.54572114102905       (P: Bnd)\n",
      "out                               Var x[35]   :   0   ;   210.95924764890282       (P: Bnd)\n",
      "out                               Var x[35]   :   1   ;   212.13333333333335       (P: Bnd)\n",
      "out                                 Var x[7]   :   0   ;   210.91681353542475       (P: Bnd)\n",
      "out                                 Var x[7]   :   1   ;   211.74465049928673       (P: Bnd)\n",
      "out                             Var x[30]   :   1   ;   212.6430653855816       (P: Bnd)\n",
      "out                               Var x[7]   :   0   ;   211.55842761582292       (P: Bnd)\n",
      "out                               Var x[7]   :   1   ;   211.38828541016431       (P: Bnd)\n",
      "out                           Var x[22]   :   1   ;   212.62194823222012       (P: Bnd)\n",
      "out                             Var x[37]   :   0   ;   212.12856270358304       (P: Bnd)\n",
      "out                               Var x[4]   :   0   ;   210.93532338308458       (P: Bnd)\n",
      "out                               Var x[4]   :   1   ;   212.05688538439875       (P: Bnd)\n",
      "out                                 Var x[15]   :   0   ;   211.9051878354204       (P: Bnd)\n",
      "out                                 Var x[15]   :   1   ;   211.5671921436878       (P: Bnd)\n",
      "out                             Var x[37]   :   1   ;   212.21365166819712       (P: Bnd)\n",
      "out                               Var x[15]   :   0   ;   211.87969899325446       (P: Bnd)\n",
      "out                               Var x[15]   :   1   ;   211.51473304168292       (P: Bnd)\n",
      "out                         Var x[33]   :   1   ;   213.3452588135846          \n",
      "out                           Var x[35]   :   0   ;   212.68044271753212       (P: Bnd)\n",
      "out                             Var x[4]   :   0   ;   212.23870300103485       (P: Bnd)\n",
      "out                               Var x[37]   :   0   ;   211.8819487337863       (P: Bnd)\n",
      "out                               Var x[37]   :   1   ;   208.21075027428475       (P: Bnd)\n",
      "out                             Var x[4]   :   1   ;   212.48014229326054       (P: Bnd)\n",
      "out                               Var x[40]   :   0   ;   210.4404577482385       (P: Bnd)\n",
      "out                               Var x[40]   :   1   ;   211.94882455212033       (P: Bnd)\n",
      "out                           Var x[35]   :   1   ;   212.8007370822005       (P: Bnd)\n",
      "out                             Var x[10]   :   0   ;   211.46844180788776       (P: Bnd)\n",
      "out                             Var x[10]   :   1   ;   212.08991354466858       (P: Bnd)\n",
      "out                               Var x[7]   :   0   ;   211.5208484375142       (P: Bnd)\n",
      "out                               Var x[7]   :   1   ;   211.44360187404453       (P: Bnd)\n",
      "out                     Var x[36]   :   1   ;   213.49127631995447          \n",
      "out                       Var x[22]   :   0   ;   212.80993365190554       (P: Bnd)\n",
      "out                         Var x[7]   :   0   ;   212.12921197334688       (P: Bnd)\n",
      "out                           Var x[30]   :   0   ;   211.54259399959233       (P: Bnd)\n",
      "out                           Var x[30]   :   1   ;   211.29816965242134       (P: Bnd)\n",
      "out                         Var x[7]   :   1   ;   211.74376453979934       (P: Bnd)\n",
      "out                       Var x[22]   :   1   ;   213.30647369744935          \n",
      "out                         Var x[30]   :   0   ;   212.8163530643938       (P: Bnd)\n",
      "out                           Var x[4]   :   0   ;   211.93922146288932       (P: Bnd)\n",
      "out "
     ]
    },
    {
     "name": "stdout",
     "output_type": "stream",
     "text": [
      "                          Var x[4]   :   1   ;   212.50222858486728       (P: Bnd)\n",
      "out                             Var x[35]   :   0   ;   211.0886301190632       (P: Bnd)\n",
      "out                             Var x[35]   :   1   ;   212.17166860671085       (P: Bnd)\n",
      "out                               Var x[5]   :   0   ;   210.43427563296532       (P: Bnd)\n",
      "out                               Var x[5]   :   1   ;   212.03849219743051       (P: Bnd)\n",
      "out                                 Var x[10]   :   0   ;   210.97052834941712       (P: Bnd)\n",
      "out                                 Var x[10]   :   1   ;   212.0270406617548       (P: Bnd)\n",
      "out                                   Var x[33]   :   0   ;   211.33168461474247       (P: Bnd)\n",
      "out                                   Var x[33]   :   1   ;   211.98782679388987       (P: Bnd)\n",
      "out                         Var x[30]   :   1   ;   212.53928097570935       (P: Bnd)\n",
      "out                           Var x[4]   :   0   ;   212.04028026481592       (P: Bnd)\n",
      "out                             Var x[9]   :   0   ;   211.68295566502462       (P: Bnd)\n",
      "out                             Var x[9]   :   1   ;   211.19326707885415       (P: Bnd)\n",
      "out                           "
     ]
    },
    {
     "name": "stdout",
     "output_type": "stream",
     "text": [
      "Var x[4]   :   1   ;   212.3601343768463       (P: Bnd)\n",
      "out                             Var x[19]   :   0   ;   210.57399199827506       (P: Bnd)\n",
      "out                             Var x[19]   :   1   ;   212.28833186498142       (P: Bnd)\n",
      "out                               Var x[13]   :   0   ;   210.6246319039857       (P: Bnd)\n",
      "out                               Var x[13]   :   1   ;   212.19200950097098       (P: Bnd)\n",
      "out                                 Var x[5]   :   0   ;   210.5165485052514       (P: Bnd)\n",
      "out                                 Var x[5]   :   1   ;   212.11844815494928       (P: Bnd)\n",
      "out                                   Var x[37]   :   0   ;   212.02603678947764       (P: Bnd)\n",
      "out                                     "
     ]
    },
    {
     "name": "stdout",
     "output_type": "stream",
     "text": [
      "Var x[6]   :   0   ;   211.82127516511324       (P: Bnd)\n",
      "out                                     Var x[6]   :   1   ;   211.53249475890988       (P: Bnd)\n",
      "out                                   Var x[37]   :   1   ;   210.7315789473684       (P: Bnd)\n",
      "out                 Var x[31]   :   1   ;   214.2398323058479          \n",
      "out                   Var x[33]   :   0   ;   213.77092715167515          \n",
      "out                     Var x[9]   :   0   ;   213.17390543329995          \n",
      "out                       Var x[7]   :   0   ;   212.7279096098771       (P: Bnd)\n",
      "out                         Var x[22]   :   0   ;   212.27841342486653       (P: Bnd)\n",
      "out                           Var x[18]   :   0   ;   212.17028254702285       (P: Bnd)\n",
      "out                             Var x[11]   :   0   ;   211.94018134003218       (P: Bnd)\n",
      "out                             Var x[11]   :   1   ;   211.1595660342885       (P: Bnd)\n",
      "out                           Var x[18]   :   1   ;   210.60281771687735       (P: Bnd)\n",
      "out                         Var x[22]   :   1   ;   212.27184090979327       (P: Bnd)\n",
      "out                           Var x[30]   :   0   ;   211.36555460507557       (P: Bnd)\n",
      "out                           Var x[30]   :   1   ;   211.86971754322957       (P: Bnd)\n",
      "out                       Var x[7]   :   1   ;   212.92019651556436       (P: Bnd)\n",
      "out                         Var x[38]   :   0   ;   212.7411675493252       (P: Bnd)\n",
      "out                           Var x[22]   :   0   ;   212.18535050508592       (P: Bnd)\n",
      "out                             Var x[34]   :   0   ;   211.7310978134056       (P: Bnd)\n",
      "out                             Var x[34]   :   1   ;   210.63031138723818       (P: Bnd)\n",
      "out                           Var x[22]   :   1   ;   212.4402989676735       (P: Bnd)\n",
      "out                             Var x[1]   :   0   ;   210.39979354641383       (P: Bnd)\n",
      "out                             Var x[1]   :   1   ;   212.23393578755716       (P: Bnd)\n",
      "out                               Var x[14]   :   0   ;   210.1773465703971       (P: Bnd)\n",
      "out                               Var x[14]   :   1   ;   211.9927650915668       (P: Bnd)\n",
      "out                         Var x[38]   :   1   ;   212.20142582639448       (P: Bnd)\n",
      "out                           Var x[30]   :   0   ;   211.01624999999999       (P: Bnd)\n",
      "out                           Var x[30]   :   1   ;   211.6214819579055       (P: Bnd)\n",
      "out                     Var x[9]   :   1   ;   213.50141551914916          \n",
      "out                       Var x[38]   :   0   ;   213.39444547453908          \n",
      "out                         Var x[30]   :   0   ;   212.69933688732425       (P: Bnd)\n",
      "out                           Var x[35]   :   0   ;   211.9592766400283       (P: Bnd)\n",
      "out                           Var x[35]   :   1   ;   211.6603773584906       (P: Bnd)\n",
      "out                         Var x[30]   :   1   ;   213.0284072758335          \n",
      "out                           Var x[28]   :   0   ;   211.23054209213683"
     ]
    },
    {
     "name": "stdout",
     "output_type": "stream",
     "text": [
      "       (P: Bnd)\n",
      "out                           Var x[28]   :   1   ;   212.7790422514407       (P: Bnd)\n",
      "out                             Var x[13]   :   0   ;   211.06565291723962       (P: Bnd)\n",
      "out                             Var x[13]   :   1   ;   212.7173955413604       (P: Bnd)\n",
      "out                               Var x[15]   :   0   ;   211.11101063365834       (P: Bnd)\n",
      "out                               Var x[15]   :   1   ;   212.1562821725744       (P: Bnd)\n",
      "out                                 Var x[3]   :   0   ;   209.25613413992698       (P: Bnd)\n",
      "out                                 Var x[3]   :   1   ;   211.96502559755177       (P: Bnd)\n",
      "out                       Var x[38]   :   1   ;   213.31729276415123          \n",
      "out                         Var x[30]   :   0   ;   212.87464876372616       (P: Bnd)\n",
      "out                           Var x[7]   :   0   ;   211.72210743844516       (P: Bnd)\n",
      "out                           Var x[7]   :   1   ;   212.27944158514143       (P: Bnd)\n",
      "out                             Var x[35]   :   0   ;   212.14787657038602       (P: Bnd)\n",
      "out                               Var x[4]   :   0   ;   210.8552831622957       (P: Bnd)\n",
      "out                               Var x[4]   :   1   ;   211.8504467105097       (P: Bnd)\n",
      "out                             Var x[35]   :   1   ;   210.1921580425067       (P: Bnd)\n",
      "out                         Var x[30]   :   1   ;   212.09280692869189       (P: Bnd)\n",
      "out                           Var x[32]   :   0   ;   209.5434262779984       (P: Bnd)\n",
      "out                           Var x[32]   :   1   ;   211.9247225620727       (P: Bnd)\n",
      "out                   Var x[33]   :   1   ;   214.04325227594924          \n",
      "out                     Var x[30]   :   0   ;   212.83443699311866       (P: Bnd)\n",
      "out                       Var x[21]   :   0   ;   210.68566845294905       (P: Bnd)\n",
      "out                       Var x[21]   :   1   ;   212.64991406283326       (P: Bnd)\n",
      "out                         Var x[4]   :   0   ;   211.63855037847983       (P: Bnd)\n",
      "out                         Var x[4]   :   1   ;   212.6407859632259       (P: Bnd)\n",
      "out                           Var x[22]   :   0   ;   211.84783712441052       (P: Bnd)\n",
      "out                           Var x[22]   :   1   ;   212.5794317458816       (P: Bnd)\n",
      "out                             Var x[27]   :   0   ;   211.44088341542647       (P: Bnd)\n"
     ]
    },
    {
     "name": "stdout",
     "output_type": "stream",
     "text": [
      "out                             Var x[27]   :   1   ;   212.41465546931303       (P: Bnd)\n",
      "out                               Var x[7]   :   0   ;   211.96161132419294       (P: Bnd)\n",
      "out                               Var x[7]   :   1   ;   211.95176445210882       (P: Bnd)\n",
      "out                     Var x[30]   :   1   ;   212.76281674790965       (P: Bnd)\n",
      "out                       Var x[22]   :   0   ;   212.39174006060145       (P: Bnd)\n",
      "out                         Var x[35]   :   0   ;   211.33064179312265       (P: Bnd)\n",
      "out                         Var x[35]   :   1   ;   212.22005006044685       (P: Bnd)\n",
      "out                           Var x[12]   :   0   ;   210.34281578405557       (P: Bnd)\n",
      "out                           Var x[12]   :   1   ;   211.81694190213963       (P: Bnd)\n",
      "out                       Var x[22]   :   1   ;   212.59391557114964       (P: Bnd)\n",
      "out                         Var x[40]   :   0   ;   211.23122648370062       (P: Bnd)\n",
      "out                         Var x[40]   :   1   ;   212.34310151054714       (P: Bnd)\n",
      "out                           Var x[23]   :   0   ;   211.44885121157398       (P: Bnd)\n",
      "out                           Var x[23]   :   1   ;   212.17236511408262       (P: Bnd)\n",
      "out                             Var x[27]   :   0   ;   211.67327533223045       (P: Bnd)\n",
      "out                             Var x[27]   :   1   ;   212.10010364960613       (P: Bnd)\n",
      "out                               Var x[7]   :   0   ;   211.7084491835784       (P: Bnd)\n",
      "out                               Var x[7]   :   1   ;   211.81551759374963       (P: Bnd)\n",
      "out               Var x[39]   :   1   ;   216.22728978450442          \n",
      "out                 Var x[30]   :   0   ;   215.96956996494592          \n",
      "out                   Var x[35]   :   0   ;   214.92462031889195          \n",
      "out                     Var x[7]   :   0   ;   214.5934268608947          \n",
      "out                       Var x[22]   :   0   ;   213.83167045813715          \n",
      "out                         Var x[9]   :   0   ;   213.48274811905225          \n",
      "out                           Var x[37]   :   0   ;   212.98962622257514       (P: Bnd)\n",
      "out                             Var x[34]   :   0   ;   212.68289993865253       (P: Bnd)\n",
      "out                               Var x[1]   :   0   ;   210.65159887855827       (P: Bnd)\n",
      "out                               Var x[1]   :   1   ;   212.2356911344137       (P: Bnd)"
     ]
    },
    {
     "name": "stdout",
     "output_type": "stream",
     "text": [
      "\n",
      "out                                 Var x[31]   :   0   ;   211.94059146820206       (P: Bnd)\n",
      "out                                 Var x[31]   :   1   ;   211.86446256264495       (P: Bnd)\n",
      "out                             Var x[34]   :   1   ;   212.6497634212921       (P: Bnd)\n",
      "out                               Var x[38]   :   0   ;   211.23478517768214       (P: Bnd)\n",
      "out                               Var x[38]   :   1   ;   211.54520917678812       (P: Bnd)\n",
      "out                           Var x[37]   :   1   ;   212.6156830819093       (P: Bnd)\n",
      "out                             Var x[34]   :   0   ;   212.27530594610266       (P: Bnd)\n",
      "out                               Var x[11]   :   0   ;   210.90080971659918       (P: Bnd)\n",
      "out                               Var x[11]   :   1   ;   211.36146229289753       (P: Bnd)\n",
      "out                             Var x[34]   :   1   ;   211.7655373560046       (P: Bnd)\n",
      "out                         Var x[9]   :   1   ;   213.3096435292564          \n",
      "out                           Var x[34]   :   0   ;   212.39478840125395       (P: Bnd)\n",
      "out                             Var x[33]   :   0   ;   212.26204220861996       (P: Bnd)\n",
      "out                               Var x[14]   :   0   ;   210.48889706090353       (P: Bnd)\n",
      "out "
     ]
    },
    {
     "name": "stdout",
     "output_type": "stream",
     "text": [
      "                              Var x[14]   :   1   ;   212.04383463098725       (P: Bnd)\n",
      "out                                 Var x[18]   :   0   ;   211.1500445235975       (P: Bnd)\n",
      "out                                 Var x[18]   :   1   ;   211.494715402021       (P: Bnd)\n",
      "out                             Var x[33]   :   1   ;   211.66419903416403       (P: Bnd)\n",
      "out                           Var x[34]   :   1   ;   212.45796983217903       (P: Bnd)\n",
      "out                             Var x[31]   :   0   ;   212.06104221419184       (P: Bnd)\n",
      "out                               Var x[15]   :   0   ;   211.2688386348271       (P: Bnd)\n",
      "out                               Var x[15]   :   1   ;   211.3713305375524       (P: Bnd)\n",
      "out                             Var x[31]   :   1   ;   211.7300134732826       (P: Bnd)\n",
      "out                       Var x[22]   :   1   ;   214.20254208302634          \n",
      "out                         Var x[37]   :   0   ;   214.19977963165184          \n",
      "out                           Var x[9]   :   0   ;   213.6171863483941          \n",
      "out                             Var x[11]   :   0   ;   213.18789269907361          \n",
      "out                               Var x[33]   :   0   ;   212.67582653499355       (P: Bnd)\n",
      "out                                 Var x[34]   :   0   ;   211.2441860465116       (P: Bnd)\n",
      "out                                 Var x[34]   :   1   ;   212.09461856889413       (P: Bnd)\n",
      "out                                   Var x[38]   :   0   ;   211.51133501259446       (P: Bnd)\n",
      "out                                   Var x[38]   :   1   ;   210.6000524987969       (P: Bnd)\n",
      "out                               Var x[33]   :   1   ;   212.74167013850078       (P: Bnd)\n",
      "out                                 Var x[18]   :   0   ;   212.663367825127       (P: Bnd)\n",
      "out                                   Var x[34]   :   0   ;   212.39488243430154       (P: Bnd)\n",
      "out                                     Var x[14]   :   0   ;   211.56651017214398       (P: Bnd)\n",
      "out                                     Var x[14]   :   1   ;   211.68367346938777"
     ]
    },
    {
     "name": "stdout",
     "output_type": "stream",
     "text": [
      "       (P: Bnd)\n",
      "out                                   Var x[34]   :   1   ;   212.24616159543305       (P: Bnd)\n",
      "out                                     Var x[14]   :   0   ;   210.55122393472348       (P: Bnd)\n",
      "out                                     Var x[14]   :   1   ;   212.1219357899731       (P: Bnd)\n",
      "out                                       Var x[40]   :   0   ;   209.75697211155378       (P: Bnd)\n",
      "out                                       Var x[40]   :   1   ;   211.41892622400258       (P: Bnd)\n",
      "out                                 Var x[18]   :   1   ;   211.1180620204345       (P: Bnd)\n",
      "out                             Var x[11]   :   1   ;   212.41999543261085       (P: Bnd)\n",
      "out                               Var x[27]   :   0   ;   211.87551608257323       (P: Bnd)\n",
      "out                               Var x[27]   :   1   ;   212.31118476538612       (P: Bnd)\n",
      "out                                 Var x[4]   :   0   ;   210.34059878939223       (P: Bnd)\n",
      "out                                 Var x[4]   :   1   ;   212.08005354752342       (P: Bnd)\n",
      "out                                   Var x[38]   :   0   ;   211.15724557773703       (P: Bnd)\n",
      "out                                   Var x[38]   :   1   ;   211.9026894865526       (P: Bnd)\n",
      "out                           Var x[9]   :   1   ;   214.0127936846382          \n",
      "out                             Var x[11]   :   0   ;   213.90180547491894          \n",
      "out                               Var x[34]   :   0   ;   213.35545782477638          \n",
      "out                                 Var x[36]   :   0   ;   212.91525423728814       (P: Bnd)\n",
      "out                                   Var x[40]   :   0   ;   211.7334593572779       (P: Bnd)\n",
      "out                                   Var x[40]   :   1   ;   212.79696096410794       (P: Bnd)\n",
      "out                                     Var x[33]   :   0   ;   212.34322033898306       (P: Bnd)\n",
      "out                                       Var x[24]   :   0   ;   212.20833333333334       (P: Bnd)\n",
      "out                                         Var x[31]   :   0   ;   211.8       (P: Bnd)\n",
      "out                                         Var x[31]   :   1   ;   211.1935914552737       (P: Bnd)\n",
      "out                                       Var x[24]   :   1   ;   210.78674780256932       (P: Bnd)\n",
      "out                                     Var x[33]   :   1   ;   212.63538015230267       (P: Bnd)\n",
      "out                                       Var x[27]   :   0   ;   211.86771991024366       (P: Bnd)\n",
      "out                                       Var x[27]   :   1   ;   211.2780487804878       (P: Bnd)\n",
      "out                                 Var x[36]   :   1   ;   211.60180574886348       (P: Bnd)\n",
      "out                               Var x[34]   :   1   ;   213.4913305031453          \n",
      "out                                 Var x[4]   :   0   ;   212.5086630089518       (P: Bnd)\n",
      "out                                   Var x[33]   :   0   ;   211.41053828658076       (P: Bnd)\n",
      "out                                   Var x[33]   :   1   ;   211.1048580567773       (P: Bnd)\n",
      "out                                 Var x[4]   :   1   ;   213.1814197801859          \n",
      "out                                   Var x[15]   :   0   ;   211.48071662790892       (P: Bnd)\n",
      "out                                   Var x[15]   :   1   ;   212.4180588552575"
     ]
    },
    {
     "name": "stdout",
     "output_type": "stream",
     "text": [
      "       (P: Bnd)\n",
      "out                                     Var x[3]   :   0   ;   209.46257378616062       (P: Bnd)\n",
      "out                                     Var x[3]   :   1   ;   212.0556647020301       (P: Bnd)\n",
      "out                                       Var x[40]   :   0   ;   210.23497757847534       (P: Bnd)\n",
      "out                                       Var x[40]   :   1   ;   211.90972830850131       (P: Bnd)\n",
      "out                             Var x[11]   :   1   ;   212.63359708072747       (P: Bnd)\n",
      "out                               Var x[33]   :   0   ;   212.15945506812446       (P: Bnd)\n",
      "out                                 Var x[15]   :   0   ;   211.1757857974389       (P: Bnd)\n",
      "out                                 Var x[15]   :   1   ;   211.15451305961574       (P: Bnd)\n",
      "out                               Var x[33]   :   1   ;   212.00582051132585       (P: Bnd)\n",
      "out                                 Var x[31]   :   0   ;   211.42700413234007       (P: Bnd)\n",
      "out                                 Var x[31]   :   1   ;   210.81813342107452       (P: Bnd)\n",
      "out                         Var x[37]   :   1   ;   212.88509446735185       (P: Bnd)\n",
      "out                           Var x[28]   :   0   ;   211.58073245096037       (P: Bnd)\n",
      "out                           Var x[28]   :   1   ;   212.66703337808678       (P: Bnd)\n",
      "out                             Var x[12]   :   0   ;   211.08626422386052       (P: Bnd)\n",
      "out                             Var x[12]   :   1   ;   212.30375666116262       (P: Bnd)\n",
      "out                               Var x[38]   :   0   ;   212.21092263102233       (P: Bnd)\n",
      "out                                 Var x[33]   :   0   ;   212.070322049326       (P: Bnd)\n",
      "out                                   Var x[11]   :   0   ;   211.99326962249157       (P: Bnd)\n",
      "out                                   Var x[11]   :   1   ;   211.45158058258363       (P: Bnd)\n",
      "out                                 Var x[33]   :   1   ;   211.5935819913174       (P: Bnd)\n",
      "out                               Var x[38]   :   1   ;   212.04609049601402       (P: Bnd)\n",
      "out                                 Var x[18]   :   0   ;   211.97683251593202       (P: Bnd)\n",
      "out                                 Var x[18]   :   1   ;   210.15926892950395       (P: Bnd)\n",
      "out                     Var x[7]   :   1   ;   214.80344901633663          \n",
      "out                       Var x[38]   :   0   ;   214.30417557088796          \n",
      "out                         Var x[33]   :   0   ;   214.00463912190503          \n",
      "out                           Var x[37]   :   0   ;   213.5237515225335          \n",
      "out                             Var x[14]   :   0   ;   210.35493827160496       (P: Bnd)\n",
      "out                             Var x[14]   :   1   ;   213.23745956349043          \n",
      "out                               Var x[21]   :   0   ;   211.64129483814523       (P: Bnd)\n",
      "out                               Var x[21]   :   1   ;   213.09020596889448          \n",
      "out                                 Var x[1]   :   0   ;   210.77905313691477       (P: Bnd)\n",
      "out                                 Var x[1]   :   1   ;   212.75985663082437       (P: Bnd)\n",
      "out                                   Var x[34]   :   0   ;   212.14525745257453       (P: Bnd)\n",
      "out                                     Var x[4]   :   0   ;   209.95363428681748       (P: Bnd)\n",
      "out                                     Var x[4]   :   1   ;   212.12626044443508       (P: Bnd)\n",
      "out                                       Var x[20]   :   0   ;   209.91631110451272       (P: Bnd)\n",
      "out                                       Var x[20]   :   1   ;   211.77676435697475       (P: Bnd)\n",
      "out                                   Var x[34]   :   1   ;   212.2403573763347       (P: Bnd)\n",
      "out                                     Var x[19]   :   0   ;   210.02569593147751       (P: Bnd)\n",
      "out                                     Var x[19]   :   1   ;   212.20632783574555       (P: Bnd)\n",
      "out                                       Var x[4]   :   0   ;   210.18001417434445       (P: Bnd)\n",
      "out                                       Var x[4]   :   1   ;   211.82004913787378       (P: Bnd)\n",
      "out                           Var x[37]   :   1   ;   212.92576711817216"
     ]
    },
    {
     "name": "stdout",
     "output_type": "stream",
     "text": [
      "       (P: Bnd)\n",
      "out                             Var x[28]   :   0   ;   212.24177734315       (P: Bnd)\n",
      "out                               Var x[9]   :   0   ;   210.48837209302326       (P: Bnd)\n",
      "out                               Var x[9]   :   1   ;   211.98170635546444       (P: Bnd)\n",
      "out                             Var x[28]   :   1   ;   212.36564319524152       (P: Bnd)\n",
      "out                               Var x[9]   :   0   ;   211.7046512091681       (P: Bnd)\n",
      "out                               Var x[9]   :   1   ;   211.86239823689957       (P: Bnd)\n",
      "out                         Var x[33]   :   1   ;   213.85087364262856          \n",
      "out                           Var x[34]   :   0   ;   213.38274304928092          \n",
      "out                             Var x[20]   :   0   ;   211.35401890460525       (P: Bnd)\n",
      "out                             Var x[20]   :   1   ;   212.8191822155646       (P: Bnd)\n",
      "out                               Var x[32]   :   0   ;   210.7864149848827       (P: Bnd)\n",
      "out                               Var x[32]   :   1   ;   212.21755827713125       (P: Bnd)\n",
      "out                                 Var x[10]   :   0   ;   211.52282965557228       (P: Bnd)\n",
      "out                                 Var x[10]   :   1   ;   212.17116279069765       (P: Bnd)\n",
      "out                                   Var x[21]   :   0   ;   211.9561806620702       (P: Bnd)\n",
      "out                                   Var x[21]   :   1   ;   211.99332146037398       (P: Bnd)\n",
      "out                           Var x[34]   :   1   ;   212.05168772944347       (P: Bnd)\n",
      "out                             Var x[9]   :   0   ;   211.726447375683       (P: Bnd)\n",
      "out                             Var x[9]   :   1   ;   211.67564138322606       (P: Bnd)\n",
      "out                       Var x[38]   :   1   ;   213.95354384951614          \n",
      "out                         Var x[14]   :   0   ;   211.60077060247716       (P: Bnd)\n",
      "out                         Var x[14]   :   1   ;   213.58909053777214          \n",
      "out                           Var x[21]   :   0   ;   212.02277445169833       (P: Bnd)\n",
      "out                             Var x[31]   :   0   ;   211.90819904817565"
     ]
    },
    {
     "name": "stdout",
     "output_type": "stream",
     "text": [
      "       (P: Bnd)\n",
      "out                             Var x[31]   :   1   ;   211.27328381378973       (P: Bnd)\n",
      "out                           Var x[21]   :   1   ;   213.0259662588523          \n",
      "out                             Var x[27]   :   0   ;   212.63909452052673       (P: Bnd)\n",
      "out                               Var x[22]   :   0   ;   211.72843799280255       (P: Bnd)\n",
      "out                               Var x[22]   :   1   ;   212.20801129108136       (P: Bnd)\n",
      "out                                 Var x[32]   :   0   ;   210.17033158813263       (P: Bnd)\n",
      "out                                 Var x[32]   :   1   ;   212.12655898589244       (P: Bnd)\n",
      "out                                   Var x[33]   :   0   ;   211.47757575757575       (P: Bnd)\n",
      "out                                   Var x[33]   :   1   ;   211.54716611740136       (P: Bnd)\n",
      "out                             Var x[27]   :   1   ;   212.8841028885538       (P: Bnd)\n",
      "out                               Var x[22]   :   0   ;   212.79929967487368       (P: Bnd)\n",
      "out                                 Var x[37]   :   0   ;   212.56229989327642       (P: Bnd)\n",
      "out                                   Var x[33]   :   0   ;   212.17109185441942       (P: Bnd)\n",
      "out                                     Var x[9]   :   0   ;   211.00318919695448       (P: Bnd)\n",
      "out                                     Var x[9]   :   1   ;   212.04127705654446       (P: Bnd)\n",
      "out                                       Var x[34]   :   0   ;   211.99881712798674       (P: Bnd)\n",
      "out                                       Var x[34]   :   1   ;   209.721846358709       (P: Bnd)\n",
      "out                                   Var x[33]   :   1   ;   212.25091161834104       (P: Bnd)\n",
      "out                                     Var x[4]   :   0   ;   211.5619548534153       (P: Bnd)\n",
      "out                                     Var x[4]   :   1   ;   212.20115742516742       (P: Bnd)\n",
      "out                                       Var x[32]   :   0   ;   211.59739944100136       (P: Bnd)\n",
      "out                                       Var x[32]   :   1   ;   211.24544991838812       (P: Bnd)\n",
      "out                                 Var x[37]   :   1   ;   211.6854882494377       (P: Bnd)\n",
      "out                               Var x[22]   :   1   ;   212.3446947082768       (P: Bnd)\n",
      "out                                 "
     ]
    },
    {
     "name": "stdout",
     "output_type": "stream",
     "text": [
      "Var x[4]   :   0   ;   211.97915570060007       (P: Bnd)\n",
      "out                                 Var x[4]   :   1   ;   211.61415803211264       (P: Bnd)\n",
      "out                   Var x[35]   :   1   ;   215.4119088080228          \n",
      "out                     Var x[33]   :   0   ;   214.36396120469627          \n",
      "out                       Var x[38]   :   0   ;   214.31459557675385          \n",
      "out                         Var x[22]   :   0   ;   213.937687237867          \n",
      "out                           Var x[34]   :   0   ;   213.767462061213          \n",
      "out                             Var x[28]   :   0   ;   212.17332425619608       (P: Bnd)\n",
      "out                               Var x[9]   :   0   ;   211.2762162162162       (P: Bnd)\n",
      "out                               Var x[9]   :   1   ;   211.98106257944858       (P: Bnd)\n",
      "out                             Var x[28]   :   1   ;   213.60184963974          \n",
      "out                               Var x[18]   :   0   ;   212.69739204636363       (P: Bnd)\n",
      "out                                 Var x[11]   :   0   ;   212.53637031594417       (P: Bnd)\n",
      "out                                   Var x[9]   :   0   ;   210.55405405405403       (P: Bnd)\n",
      "out                                   Var x[9]   :   1   ;   212.2325581395349       (P: Bnd)\n",
      "out                                     Var x[27]   :   0   ;   210.56900067980965       (P: Bnd)\n",
      "out                                     Var x[27]   :   1   ;   212.15820895522387       (P: Bnd)\n",
      "out                                       Var x[17]   :   0   ;   209.3428223844282       (P: Bnd)\n",
      "out                                       Var x[17]   :   1   ;   212.11607142857142       (P: Bnd)\n",
      "out "
     ]
    },
    {
     "name": "stdout",
     "output_type": "stream",
     "text": [
      "                                        Var x[14]   :   0   ;   209.09522036674767       (P: Bnd)\n",
      "out                                         Var x[14]   :   1   ;   211.9356768885565       (P: Bnd)\n",
      "out                                 Var x[11]   :   1   ;   211.9576955932817       (P: Bnd)\n",
      "out                               Var x[18]   :   1   ;   211.46202373853095       (P: Bnd)\n",
      "out                           Var x[34]   :   1   ;   212.89227797493373       (P: Bnd)\n",
      "out                             Var x[9]   :   0   ;   212.58204269568856       (P: Bnd)\n",
      "out                               Var x[7]   :   0   ;   211.8342521539186       (P: Bnd)\n",
      "out                               Var x[7]   :   1   ;   211.78661616161617       (P: Bnd)\n",
      "out                             Var x[9]   :   1   ;   212.88608234913445       (P: Bnd)\n",
      "out                               Var x[7]   :   0   ;   212.09812371864754       (P: Bnd)\n",
      "out                                 Var x[3]   :   0   ;   210.2271232763673       (P: Bnd)\n",
      "out                                 Var x[3]   :   1   ;   212.0684093412531       (P: Bnd)\n",
      "out                                   Var x[15]   :   0   ;   209.78128287824916       (P: Bnd)\n",
      "out                                   Var x[15]   :   1   ;   211.80060981137942       (P: Bnd)\n",
      "out                               Var x[7]   :   1   ;   212.17627178873576       (P: Bnd)\n",
      "out                                 Var x[13]   :   0   ;   210.5466245608215       (P: Bnd)\n",
      "out                                 Var x[13]   :   1   ;   211.37506289249578       (P: Bnd)\n",
      "out                         Var x[22]   :   1   ;   213.77082285170945          \n",
      "out                           Var x[3]   :   0   ;   212.6199757080461       (P: Bnd)\n",
      "out                             Var x[34]   :   0   ;   211.68897922695436       (P: Bnd)\n",
      "out "
     ]
    },
    {
     "name": "stdout",
     "output_type": "stream",
     "text": [
      "                            Var x[34]   :   1   ;   211.22916877083125       (P: Bnd)\n",
      "out                           Var x[3]   :   1   ;   213.68603419356737          \n",
      "out                             Var x[7]   :   0   ;   213.32442511983578          \n",
      "out                               Var x[36]   :   0   ;   212.76749786764336       (P: Bnd)\n",
      "out                                 Var x[11]   :   0   ;   212.62383958410695       (P: Bnd)\n",
      "out                                   Var x[34]   :   0   ;   211.8175223846764       (P: Bnd)\n",
      "out                                   Var x[34]   :   1   ;   211.52332367636564       (P: Bnd)\n",
      "out                                 Var x[11]   :   1   ;   211.34840510323735       (P: Bnd)\n",
      "out                               Var x[36]   :   1   ;   212.3667884756598       (P: Bnd)\n",
      "out                                 Var x[14]   :   0   ;   210.06048947312172       (P: Bnd)\n",
      "out                                 Var x[14]   :   1   ;   211.82165417630122       (P: Bnd)\n",
      "out                             Var x[7]   :   1   ;   213.36449752883033          \n",
      "out                               Var x[13]   :   0   ;   212.24862370214112       (P: Bnd)\n",
      "out                                 Var x[27]   :   0   ;   211.39919941775835       (P: Bnd)\n",
      "out                                 Var x[27]   :   1   ;   211.802411327408       (P: Bnd)\n",
      "out                               Var x[13]   :   1   ;   213.04526573102387          \n",
      "out                                 Var x[20]   :   0   ;   211.5400246752304       (P: Bnd)\n",
      "out                                 Var x[20]   :   1   ;   212.97782671805396       (P: Bnd)\n",
      "out                                   Var x[27]   :   0   ;   212.66187050359713       (P: Bnd)\n",
      "out                                     Var x[37]   :   0   ;   212.5       (P: Bnd)\n",
      "out                                       Var x[15]   :   0   ;   209.39668998464424       (P: Bnd)\n",
      "out                                       Var x[15]   :   1   ;   212.49999999999997       (P: Bnd)\n",
      "out                                         Var x[5]   :   0   ;   209.151234300563       (P: Bnd)\n",
      "out                                         Var x[5]   :   1   ;   212.43894389438944       (P: Bnd)\n",
      "out                                           Var x[19]   :   0   ;   208.2464533581809       (P: Bnd)\n",
      "out                                           Var x[19]   :   1   ;   212.3639705882353       (P: Bnd)\n",
      "out                                             Var x[9]   :   0   ;   210.62121212121212       (P: Bnd)\n",
      "out                                             Var x[9]   :   1   ;   212.23333333333335       (P: Bnd)\n",
      "out                                               Var x[6]   :   0   ;   209.21875       (P: Bnd)\n",
      "out                                               Var x[6]   :   1   ;   212.1255605381166       (P: Bnd)\n",
      "out                                                 Var x[4]   :   0   ;   208.21682952145747       (P: Bnd)\n",
      "out                                                 Var x[4]   :   1   ;   211.95959595959596       (P: Bnd)\n",
      "out                                     Var x[37]   :   1   ;   211.01503759398494       (P: Bnd)\n",
      "out                                   Var x[27]   :   1   ;   212.83522371349744       (P: Bnd)\n",
      "out                                     Var x[28]   :   0   ;   211.9391081768849       (P: Bnd)\n",
      "out                                     Var x[28]   :   1   ;   212.45675722476622       (P: Bnd)\n",
      "out                                       Var x[4]   :   0   ;   211.00347826086957       (P: Bnd)\n",
      "out                                       Var x[4]   :   1   ;   212.26945513539636       (P: Bnd)\n",
      "out                                         Var x[6]   :   0   ;   211.16059978901893       (P: Bnd)\n",
      "out                                         Var x[6]   :   1   ;   212.23358869369966       (P: Bnd)\n"
     ]
    },
    {
     "name": "stdout",
     "output_type": "stream",
     "text": [
      "out                                           Var x[14]   :   0   ;   210.23336447627943       (P: Bnd)\n",
      "out                                           Var x[14]   :   1   ;   212.2114301046418       (P: Bnd)\n",
      "out                                             Var x[10]   :   0   ;   211.81808919096906       (P: Bnd)\n",
      "out                                             Var x[10]   :   1   ;   212.13265684939984       (P: Bnd)\n",
      "out                                               Var x[1]   :   0   ;   209.88966701902746       (P: Bnd)\n",
      "out                                               Var x[1]   :   1   ;   212.0452577725305       (P: Bnd)\n",
      "out                                                 Var x[32]   :   0   ;   210.03654111328837       (P: Bnd)\n",
      "out                                                 Var x[32]   :   1   ;   211.44715447154474       (P: Bnd)\n",
      "out                       Var x[38]   :   1   ;   214.24195149624168          \n",
      "out                         Var x[7]   :   0   ;   213.6042154449294          \n",
      "out                           Var x[28]   :   0   ;   212.714795102928       (P: Bnd)\n",
      "out                             Var x[36]   :   0   ;   211.88881013352844       (P: Bnd)\n",
      "out                             Var x[36]   :   1   ;   211.82560805984735       (P: Bnd)\n",
      "out                           Var x[28]   :   1   ;   213.19606692866375          \n",
      "out                             Var x[36]   :   0   ;   213.08208714992244          \n",
      "out                               Var x[12]   :   0   ;   211.0982866933181       (P: Bnd)\n",
      "out                               Var x[12]   :   1   ;   212.9469510649369       (P: Bnd)\n",
      "out                                 Var x[20]   :   0   ;   210.71521049850273       (P: Bnd)\n",
      "out                                 Var x[20]   :   1   ;   212.88468411268784       (P: Bnd)\n",
      "out                                   Var x[3]   :   0   ;   212.587450754581       (P: Bnd)\n",
      "out                                     Var x[11]   :   0   ;   211.52252829382874       (P: Bnd)\n",
      "out                                     Var x[11]   :   1   ;   211.89439727435845       (P: Bnd)\n",
      "out                                   Var x[3]   :   1   ;   212.45647424347754       (P: Bnd)\n",
      "out                                     Var x[22]   :   0   ;   212.2872641970482       (P: Bnd)\n",
      "out                                       Var x[34]   :   0   ;   211.7681845672038       (P: Bnd)\n",
      "out                                       Var x[34]   :   1   ;   211.3443396226415       (P: Bnd)\n",
      "out                                     Var x[22]   :   1   ;   212.30989038839257       (P: Bnd)\n",
      "out                                       Var x[27]   :   0   ;   211.95249549007818       (P: Bnd)\n",
      "out                                       Var x[27]   :   1   ;   211.6619140625       (P: Bnd)\n",
      "out                             Var x[36]   :   1   ;   211.89243760712344       (P: Bnd)\n",
      "out                         Var x[7]   :   1   ;   213.561593366377          \n",
      "out                           Var x[4]   :   0   ;   212.1947565543071       (P: Bnd)\n",
      "out                             Var x[28]   :   0   ;   210.88315822986308       (P: Bnd)\n",
      "out                             Var x[28]   :   1   ;   211.9018637404904       (P: Bnd)\n",
      "out                           Var x[4]   :   1   ;   213.47543323839264          \n",
      "out                             Var x[3]   :   0   ;   211.1858107765997       (P: Bnd)\n",
      "out                             Var x[3]   :   1   ;   213.41820532319392          \n",
      "out                               Var x[13]   :   0   ;   212.2960926747533       (P: Bnd)\n",
      "out                                 Var x[22]   :   0   ;   211.60222342867422       (P: Bnd)\n",
      "out                                 Var x[22]   :   1   ;   211.70246620344113       (P: Bnd)\n",
      "out                               Var x[13]   :   1   ;   213.0544670214773          \n",
      "out                                 Var x[20]   :   0   ;   211.13693998309384       (P: Bnd)\n",
      "out                                 Var x[20]   :   1   ;   212.94164414056291       (P: Bnd)\n",
      "out                                   Var x[28]   :   0   ;   212.32026143790847       (P: Bnd)\n",
      "out                                     Var x[5]   :   0   ;   210.36692324465764       (P: Bnd)\n",
      "out                                     Var x[5]   :   1   ;   212.13147410358567       (P: Bnd)"
     ]
    },
    {
     "name": "stdout",
     "output_type": "stream",
     "text": [
      "\n",
      "out                                       Var x[15]   :   0   ;   210.86136890951275       (P: Bnd)\n",
      "out                                       Var x[15]   :   1   ;   211.83079708912842       (P: Bnd)\n",
      "out                                   Var x[28]   :   1   ;   212.90544041450778       (P: Bnd)\n",
      "out                                     Var x[15]   :   0   ;   211.36926749441943       (P: Bnd)\n",
      "out                                     Var x[15]   :   1   ;   212.88430664684645       (P: Bnd)\n",
      "out                                       Var x[19]   :   0   ;   210.37998210023866       (P: Bnd)\n",
      "out                                       Var x[19]   :   1   ;   212.85457102023884       (P: Bnd)\n",
      "out                                         Var x[5]   :   0   ;   210.29774707452904       (P: Bnd)\n",
      "out                                         Var x[5]   :   1   ;   212.8303762115985       (P: Bnd)\n",
      "out                                           Var x[27]   :   0   ;   212.64029947916666       (P: Bnd)\n",
      "out                                             Var x[6]   :   0   ;   210.77777777777777       (P: Bnd)\n",
      "out                                             Var x[6]   :   1   ;   212.4507622326039       (P: Bnd)\n",
      "out                                               Var x[9]   :   0   ;   211.71160409556313       (P: Bnd)\n",
      "out                                               Var x[9]   :   1   ;   212.2422222222222       (P: Bnd)\n",
      "out                                                 Var x[10]   :   0   ;   211.01084010840106       (P: Bnd)\n",
      "out                                                 Var x[10]   :   1   ;   211.55238095238096       (P: Bnd)\n",
      "out                                           Var x[27]   :   1   ;   212.4420152091255       (P: Bnd)\n",
      "out                                             Var x[1]   :   0   ;   211.11111111111111       (P: Bnd)\n",
      "out                                             Var x[1]   :   1   ;   212.396331738437       (P: Bnd)\n",
      "out                                               Var x[6]   :   0   ;   211.36442230427176       (P: Bnd)\n",
      "out                                               Var x[6]   :   1   ;   212.36947094535992       (P: Bnd)\n",
      "out                                                 Var x[14]   :   0   ;   211.20991253644314       (P: Bnd)\n",
      "out                                                 Var x[14]   :   1   ;   211.94418131536287       (P: Bnd)\n",
      "out                     Var x[33]   :   1   ;   215.16344674164534          \n",
      "out                       Var x[10]   :   0   ;   214.1579096765578          \n",
      "out                         Var x[34]   :   0   ;   213.99790880390728          \n",
      "out                           Var x[9]   :   0   ;   213.48594884637288          \n",
      "out                             Var x[11]   :   0   ;   213.08373792930468          \n",
      "out                               Var x[14]   :   0   ;   211.52063559024117       (P: Bnd)\n",
      "out                               Var x[14]   :   1   ;   212.73109009086858       (P: Bnd)\n",
      "out                                 Var x[38]   :   0   ;   212.18906879413862       (P: Bnd)\n",
      "out                                   Var x[37]   :   0   ;   211.53869398207428       (P: Bnd)\n",
      "out                                   Var x[37]   :   1   ;   211.71524466726058       (P: Bnd)\n",
      "out                                 Var x[38]   :   1   ;   212.5376163589196       (P: Bnd)\n",
      "out                                   Var x[7]   :   0   ;   211.66926803013996       (P: Bnd)\n",
      "out                                   Var x[7]   :   1   ;   212.44652394142042       (P: Bnd)\n",
      "out                                     Var x[37]   :   0   ;   212.00387685290764       (P: Bnd)\n",
      "out                                       Var x[32]   :   0   ;   209.84913793103448       (P: Bnd)\n",
      "out                                       Var x[32]   :   1   ;   210.9896700143472       (P: Bnd)\n",
      "out                                     Var x[37]   :   1   ;   211.37376741451058       (P: Bnd)\n",
      "out                             Var x[11]   :   1   ;   212.56506572863717       (P: Bnd)\n",
      "out                               Var x[4]   :   0   ;   211.75       (P: Bnd)\n"
     ]
    },
    {
     "name": "stdout",
     "output_type": "stream",
     "text": [
      "out                               Var x[4]   :   1   ;   212.45690584577       (P: Bnd)\n",
      "out                                 Var x[22]   :   0   ;   212.24087258504878       (P: Bnd)\n",
      "out                                   Var x[7]   :   0   ;   211.29649093954703       (P: Bnd)\n",
      "out                                   Var x[7]   :   1   ;   211.68891698682097       (P: Bnd)\n",
      "out                                 Var x[22]   :   1   ;   211.38009234674422       (P: Bnd)\n",
      "out                           Var x[9]   :   1   ;   213.55297239716685          \n",
      "out                             Var x[7]   :   0   ;   212.93341424933544       (P: Bnd)\n",
      "out                               Var x[36]   :   0   ;   212.26164006762437       (P: Bnd)\n",
      "out                                 Var x[22]   :   0   ;   211.33828640936719       (P: Bnd)\n",
      "out                                 Var x[22]   :   1   ;   212.09860203204423       (P: Bnd)\n",
      "out                                   Var x[4]   :   0   ;   210.73267326732673       (P: Bnd)\n",
      "out                                   Var x[4]   :   1   ;   212.01224111207392       (P: Bnd)\n",
      "out                                     Var x[11]   :   0   ;   211.55759162303664       (P: Bnd)\n",
      "out                                     Var x[11]   :   1   ;   210.61027553985943       (P: Bnd)\n",
      "out                               Var x[36]   :   1   ;   212.05767855974042       (P: Bnd)\n",
      "out                                 Var x[4]   :   0   ;   210.6252511508764       (P: Bnd)\n",
      "out                                 Var x[4]   :   1   ;   211.43538361843926       (P: Bnd)\n",
      "out                             Var x[7]   :   1   ;   212.96765835520557       (P: Bnd)\n",
      "out                               Var x[27]   :   0   ;   212.19015685383042       (P: Bnd)\n",
      "out                                 Var x[5]   :   0   ;   210.23434744269048       (P: Bnd)\n",
      "out                                 Var x[5]   :   1   ;   211.92485549132948       (P: Bnd)\n",
      "out                               Var x[27]   :   1   ;   211.93423420124145       (P: Bnd)\n",
      "out                         Var x[34]   :   1   ;   213.55341776667856          \n",
      "out                           Var x[9]   :   0   ;   213.03685141509436          \n",
      "out                             Var x[22]   :   0   ;   212.832971227523       (P: Bnd)\n",
      "out                               Var x[37]   :   0   ;   212.45748686124492       (P: Bnd)\n",
      "out                                 Var x[31]   :   0   ;   212.07129868886975       (P: Bnd)\n",
      "out                                   Var x[7]   :   0   ;   211.35846216643708       (P: Bnd)\n",
      "out                                   Var x[7]   :   1   ;   211.5106118076266       (P: Bnd)\n",
      "out                                 Var x[31]   :   1   ;   210.75102946961158       (P: Bnd)\n",
      "out                               Var x[37]   :   1   ;   210.9553620504656       (P: Bnd)\n",
      "out                             Var x[22]   :   1   ;   212.4952008630661"
     ]
    },
    {
     "name": "stdout",
     "output_type": "stream",
     "text": [
      "       (P: Bnd)\n",
      "out                               Var x[15]   :   0   ;   209.76647254107584       (P: Bnd)\n",
      "out                               Var x[15]   :   1   ;   212.06196424197896       (P: Bnd)\n",
      "out                                 Var x[7]   :   0   ;   211.97461665078401       (P: Bnd)\n",
      "out                                 Var x[7]   :   1   ;   210.71115126484256       (P: Bnd)\n",
      "out                           Var x[9]   :   1   ;   212.9368790535539       (P: Bnd)\n",
      "out                             Var x[22]   :   0   ;   211.5311161942972       (P: Bnd)\n",
      "out                             Var x[22]   :   1   ;   212.23778300122396       (P: Bnd)\n",
      "out                               Var x[4]   :   0   ;   210.66275958720857       (P: Bnd)\n",
      "out                               Var x[4]   :   1   ;   212.22186691705346       (P: Bnd)\n",
      "out                                 Var x[27]   :   0   ;   210.82845530832432       (P: Bnd)\n",
      "out                                 Var x[27]   :   1   ;   211.73787061073963       (P: Bnd)\n",
      "out                       Var x[10]   :   1   ;   214.2706764006505          \n",
      "out                         Var x[26]   :   0   ;   211.70537546163317       (P: Bnd)\n",
      "out                         Var x[26]   :   1   ;   214.0395723755196          \n",
      "out                           Var x[21]   :   0   ;   212.37120497962127       (P: Bnd)\n",
      "out                             Var x[36]   :   0   ;   212.16298738872993       (P: Bnd)\n",
      "out                               Var x[22]   :   0   ;   211.7905629139073       (P: Bnd)\n",
      "out                               Var x[22]   :   1   ;   211.3903303352933       (P: Bnd)\n",
      "out                             Var x[36]   :   1   ;   212.15554238512118       (P: Bnd)\n",
      "out                               Var x[22]   :   0   ;   211.36398916120672       (P: Bnd)\n",
      "out                               Var x[22]   :   1   ;   211.6288073267189       (P: Bnd)\n",
      "out                           Var x[21]   :   1   ;   213.87711468449996          \n",
      "out                             Var x[9]   :   0   ;   213.6758367219693          \n",
      "out                               Var x[20]   :   0   ;   213.23895015561766          \n",
      "out                                 Var x[22]   :   0   ;   211.13665586704042       (P: Bnd)\n",
      "out                                 Var x[22]   :   1   ;   212.8761226375593       (P: Bnd)\n",
      "out                                   Var x[36]   :   0   ;   212.65903937332507       (P: Bnd)\n",
      "out                                     Var x[27]   :   0   ;   210.5690343176377       (P: Bnd)\n",
      "out                                     Var x[27]   :   1   ;   212.2275057622025       (P: Bnd)\n",
      "out                                       Var x[38]   :   0   ;   212.04007786556738       (P: Bnd)\n",
      "out                                         Var x[34]   :   0   ;   211.65977011494252       (P: Bnd)\n",
      "out                                         Var x[34]   :   1   ;   209.36875551529158       (P: Bnd)\n",
      "out                                       Var x[38]   :   1   ;   209.95151216472425       (P: Bnd)\n",
      "out                                   Var x[36]   :   1   ;   211.73593963060102       (P: Bnd)\n",
      "out                               Var x[20]   :   1   ;   213.57275264801137          \n",
      "out                                 Var x[34]   :   0   ;   213.4110854962602          \n",
      "out                                   Var x[1]   :   0   ;   212.40475617680625       (P: Bnd)\n",
      "out                                     Var x[22]   :   0   ;   212.05059465554973       (P: Bnd)\n",
      "out                                       Var x[7]   :   0   ;   211.5294091045809       (P: Bnd)\n",
      "out                                       Var x[7]   :   1   ;   211.57148889091593       (P: Bnd)\n",
      "out                                     Var x[22]   :   1   ;   211.99215266630998       (P: Bnd)\n",
      "out                                   Var x[1]   :   1   ;   212.48960492179972       (P: Bnd)\n",
      "out                                     Var x[14]   :   0   ;   211.80913344703026       (P: Bnd)\n",
      "out                                     Var x[14]   :   1   ;   212.0093488018783       (P: Bnd)\n",
      "out                                       Var x[28]   :   0   ;   211.67238869321775       (P: Bnd)\n",
      "out                                       Var x[28]   :   1   ;   211.92924484915378       (P: Bnd)\n",
      "out                                 Var x[34]   :   1   ;   212.13733639494833       (P: Bnd)\n",
      "out                                   Var x[22]   :   0   ;   211.8408183134174       (P: Bnd)\n",
      "out                                   Var x[22]   :   1   ;   211.83173487093836       (P: Bnd)\n",
      "out                             Var x[9]   :   1   ;   213.0549868685619          \n",
      "out "
     ]
    },
    {
     "name": "stdout",
     "output_type": "stream",
     "text": [
      "                              Var x[38]   :   0   ;   212.97804526474593       (P: Bnd)\n",
      "out                                 Var x[20]   :   0   ;   212.16224692232967       (P: Bnd)\n",
      "out                                   Var x[27]   :   0   ;   210.96182348978218       (P: Bnd)\n",
      "out                                   Var x[27]   :   1   ;   211.42713115824196       (P: Bnd)\n",
      "out                                 Var x[20]   :   1   ;   212.66197977120538       (P: Bnd)\n",
      "out                                   Var x[22]   :   0   ;   212.0177450371291       (P: Bnd)\n",
      "out                                     Var x[12]   :   0   ;   210.7040869398593       (P: Bnd)\n",
      "out                                     Var x[12]   :   1   ;   211.3396743080831       (P: Bnd)\n",
      "out                                   Var x[22]   :   1   ;   212.56505392401124       (P: Bnd)\n",
      "out                                     Var x[13]   :   0   ;   211.07020017245594       (P: Bnd)\n",
      "out                                     Var x[13]   :   1   ;   212.458975030836       (P: Bnd)\n",
      "out                                       Var x[5]   :   0   ;   210.5066585785495       (P: Bnd)\n",
      "out                                       Var x[5]   :   1   ;   212.00596294352948       (P: Bnd)\n",
      "out                                         Var x[7]   :   0   ;   211.3768152097719       (P: Bnd)\n",
      "out                                         Var x[7]   :   1   ;   211.4252079472096       (P: Bnd)\n",
      "out                               Var x[38]   :   1   ;   211.53214043419266       (P: Bnd)\n",
      "out                 Var x[30]   :   1   ;   215.79006262255254          \n",
      "out                   Var x[7]   :   0   ;   215.08888340381412          \n",
      "out                     Var x[11]   :   0   ;   214.742154746737          \n",
      "out                       Var x[27]   :   0   ;   213.98307546638523          \n",
      "out                         Var x[36]   :   0   ;   213.89983369579122          \n",
      "out                           Var x[38]   :   0   ;   211.65532395608028       (P: Bnd)\n",
      "out                           Var x[38]   :   1   ;   213.5564794860326          \n",
      "out                             Var x[32]   :   0   ;   210.38123590887827       (P: Bnd)\n",
      "out                             Var x[32]   :   1   ;   213.21755186400156          \n",
      "out                               Var x[40]   :   0   ;   211.35567673803823       (P: Bnd)\n",
      "out                               Var x[40]   :   1   ;   213.20472054157062          \n",
      "out                                 Var x[6]   :   0   ;   211.24981824078662       (P: Bnd)\n",
      "out                                 Var x[6]   :   1   ;   213.19677784509997          \n",
      "out                                   Var x[10]   :   0   ;   211.89755135080443       (P: Bnd)\n",
      "out                                   Var x[10]   :   1   ;   213.14520152793355          \n",
      "out                                     "
     ]
    },
    {
     "name": "stdout",
     "output_type": "stream",
     "text": [
      "Var x[8]   :   0   ;   209.28881868831516       (P: Bnd)\n",
      "out                                     Var x[8]   :   1   ;   213.03087525844242          \n",
      "out                                       Var x[12]   :   0   ;   211.47641002489507       (P: Bnd)\n",
      "out                                       Var x[12]   :   1   ;   212.58443689206612       (P: Bnd)\n",
      "out                                         Var x[14]   :   0   ;   210.90008602838506       (P: Bnd)\n",
      "out                                         Var x[14]   :   1   ;   212.5380249192432       (P: Bnd)\n",
      "out                                           Var x[23]   :   0   ;   209.70961565735357       (P: Bnd)\n",
      "out                                           Var x[23]   :   1   ;   212.34737145049885       (P: Bnd)\n",
      "out                                             Var x[4]   :   0   ;   211.26910496580433       (P: Bnd)\n",
      "out                                             Var x[4]   :   1   ;   211.8678996036988       (P: Bnd)\n",
      "out                         Var x[36]   :   1   ;   212.66032014261611       (P: Bnd)\n",
      "out                           Var x[4]   :   0   ;   211.7958146847234       (P: Bnd)\n",
      "out                           Var x[4]   :   1   ;   212.6008630588471       (P: Bnd)\n",
      "out                             Var x[1]   :   0   ;   210.78457853219345       (P: Bnd)\n",
      "out                             Var x[1]   :   1   ;   212.30333900107456       (P: Bnd)\n",
      "out                               Var x[14]   :   0   ;   211.21259656314047       (P: Bnd)\n",
      "out                               Var x[14]   :   1   ;   211.99786348958176       (P: Bnd)\n",
      "out                       Var x[27]   :   1   ;   214.65792348800392          \n",
      "out                         Var x[33]   :   0   ;   214.5557981524024          \n",
      "out                           Var x[22]   :   0   ;   213.87104851428924          \n",
      "out                             Var x[38]   :   0   ;   212.37724698430796       (P: Bnd)\n",
      "out                               Var x[35]   :   0   ;   211.97666666666666       (P: Bnd)\n",
      "out                               Var x[35]   :   1   ;   211.9247366184594       (P: Bnd)\n",
      "out                             Var x[38]   :   1   ;   213.36188872047495          \n",
      "out                               Var x[18]   :   0   ;   213.1031120983124          \n",
      "out                                 Var x[9]   :   0   ;   212.91078533535742       (P: Bnd)\n",
      "out                                   Var x[36]   :   0   ;   212.3288590604027       (P: Bnd)\n",
      "out                                     Var x[12]   :   0   ;   211.99800133244506       (P: Bnd)\n",
      "out                                     Var x[12]   :   1   ;   211.7636197758276       (P: Bnd)\n",
      "out                                   Var x[36]   :   1   ;   212.1206340532114       (P: Bnd)\n",
      "out                                     Var x[35]   :   0   ;   211.37109371982166       (P: Bnd)\n",
      "out                                     Var x[35]   :   1   ;   211.21256656552484       (P: Bnd)\n",
      "out                                 Var x[9]   :   1   ;   212.92238977442926       (P: Bnd)\n",
      "out                                   Var x[12]   :   0   ;   212.4846482461842       (P: Bnd)\n",
      "out                                     Var x[35]   :   0   ;   211.3023794632704       (P: Bnd)\n",
      "out                                     Var x[35]   :   1   ;   211.9501067658415       (P: Bnd)\n",
      "out                                   Var x[12]   :   1   ;   212.493696986384       (P: Bnd)\n",
      "out                                     Var x[31]   :   0   ;   212.3129870924944       (P: Bnd)\n",
      "out                                       Var x[40]   :   0   ;   210.97977463160936       (P: Bnd)\n",
      "out                                       Var x[40]   :   1   ;   212.05771773260616       (P: Bnd)\n",
      "out                                         Var x[28]   :   0   ;   210.53174603174605       (P: Bnd)\n",
      "out                                         Var x[28]   :   1   ;   211.53510337510178       (P: Bnd)\n",
      "out                                     Var x[31]   :   1   ;   211.47602406685135       (P: Bnd)\n",
      "out                               Var x[18]   :   1   ;   212.12838910989947       (P: Bnd)\n",
      "out                                 Var x[12]   :   0   ;   208.98405574491855       (P: Bnd)\n",
      "out                                 Var x[12]   :   1   ;   211.8881798580634       (P: Bnd)\n",
      "out                           Var x[22]   :   1   ;   214.3411273147427          \n",
      "out                             Var x[9]   :   0   ;   213.74658171162653          \n",
      "out                               Var x[38]   :   0   ;   213.42308088142804          \n",
      "out                                 Var x[1]   :   0   ;   211.8358709563529       (P: Bnd)\n",
      "out                                 Var x[1]   :   1   ;   212.88149933822768       (P: Bnd)\n",
      "out                                   Var x[18]   :   0   ;   212.20666431054664       (P: Bnd)\n",
      "out                                     Var x[12]   :   0   ;   211.46112012212575       (P: Bnd)\n",
      "out                                     Var x[12]   :   1   ;   212.01953180361448       (P: Bnd)\n",
      "out                                       Var x[14]   :   0   ;   211.44448903982712       (P: Bnd)\n",
      "out                                       Var x[14]   :   1   ;   211.9541494904871       (P: Bnd)\n",
      "out                                   Var x[18]   :   1   ;   211.69045697374995       (P: Bnd)\n",
      "out                               Var x[38]   :   1   ;   212.7978903103439       (P: Bnd)\n",
      "out                                 Var x[32]   :   0   ;   210.88423751886282       (P: Bnd)\n",
      "out                                 Var x[32]   :   1   ;   212.45224460730498       (P: Bnd)\n",
      "out                                   Var x[8]   :   0   ;   210.2968591360168"
     ]
    },
    {
     "name": "stdout",
     "output_type": "stream",
     "text": [
      "       (P: Bnd)\n",
      "out                                   Var x[8]   :   1   ;   212.13189684320537       (P: Bnd)\n",
      "out                                     Var x[40]   :   0   ;   210.8100558659218       (P: Bnd)\n",
      "out                                     Var x[40]   :   1   ;   212.03225307677477       (P: Bnd)\n",
      "out                                       Var x[35]   :   0   ;   211.75305351987564       (P: Bnd)\n",
      "out                                       Var x[35]   :   1   ;   211.12370019682422       (P: Bnd)\n",
      "out                             Var x[9]   :   1   ;   213.7320252782477          \n",
      "out                               Var x[34]   :   0   ;   213.68589827898217          \n",
      "out                                 Var x[36]   :   0   ;   212.90012695725773       (P: Bnd)\n",
      "out                                   Var x[38]   :   0   ;   212.48757951121527       (P: Bnd)\n",
      "out                                     Var x[12]   :   0   ;   211.30157572334758       (P: Bnd)\n",
      "out                                     Var x[12]   :   1   ;   211.92257169115942       (P: Bnd)\n",
      "out                                   Var x[38]   :   1   ;   212.47401638927062       (P: Bnd)\n",
      "out                                     Var x[12]   :   0   ;   211.2941198362486       (P: Bnd)\n",
      "out                                     Var x[12]   :   1   ;   212.3176480897301       (P: Bnd)\n",
      "out                                       Var x[40]   :   0   ;   211.0893617021277       (P: Bnd)\n",
      "out                                       Var x[40]   :   1   ;   211.94805194805195       (P: Bnd)\n",
      "out                                 Var x[36]   :   1   ;   213.34786167882788          \n",
      "out                                   Var x[35]   :   0   ;   212.74445678972904       (P: Bnd)\n",
      "out                                     Var x[14]   :   0   ;   211.96988214014908       (P: Bnd)\n",
      "out                                     Var x[14]   :   1   ;   212.13051550423563       (P: Bnd)\n",
      "out                                       Var x[18]   :   0   ;   211.66179201422852       (P: Bnd)\n",
      "out                                       Var x[18]   :   1   ;   210.31145685160865       (P: Bnd)\n",
      "out                                   Var x[35]   :   1   ;   212.53473312755085       (P: Bnd)\n",
      "out                                     Var x[3]   :   0   ;   210.49358774344634       (P: Bnd)\n",
      "out                                     Var x[3]   :   1   ;   212.19102486464664       (P: Bnd)\n",
      "out                                       Var x[4]   :   0   ;   211.0634328358209       (P: Bnd)\n",
      "out                                       Var x[4]   :   1   ;   212.13498377797526       (P: Bnd)\n",
      "out                                         Var x[10]   :   0   ;   210.8379625617471       (P: Bnd)\n",
      "out                                         Var x[10]   :   1   ;   212.02595353915967       (P: Bnd)\n",
      "out                                           Var x[15]   :   0   ;   211.20274375869352       (P: Bnd)\n",
      "out                                           Var x[15]   :   1   ;   210.92501927838018       (P: Bnd)\n",
      "out                               Var x[34]   :   1   ;   211.91521696113927       (P: Bnd)\n",
      "out                         Var x[33]   :   1   ;   213.94812740531825          \n",
      "out                           Var x[40]   :   0   ;   213.40574871351185          \n",
      "out                             Var x[9]   :   0   ;   212.39960981991337       (P: Bnd)\n",
      "out                               Var x[38]   :   0   ;   212.2060269248917"
     ]
    },
    {
     "name": "stdout",
     "output_type": "stream",
     "text": [
      "       (P: Bnd)\n",
      "out                                 Var x[34]   :   0   ;   211.4267880433336       (P: Bnd)\n",
      "out                                 Var x[34]   :   1   ;   210.07841620277506       (P: Bnd)\n",
      "out                               Var x[38]   :   1   ;   211.4929031234375       (P: Bnd)\n",
      "out                             Var x[9]   :   1   ;   212.59426112528618       (P: Bnd)\n",
      "out                               Var x[38]   :   0   ;   210.66352372595316       (P: Bnd)\n",
      "out                               Var x[38]   :   1   ;   212.13522368146596       (P: Bnd)\n",
      "out                                 Var x[32]   :   0   ;   209.73024200372313       (P: Bnd)\n",
      "out                                 Var x[32]   :   1   ;   211.10751948496738       (P: Bnd)\n",
      "out                           Var x[40]   :   1   ;   213.3057883502802          \n",
      "out                             Var x[12]   :   0   ;   213.10198453769507          \n",
      "out                               Var x[22]   :   0   ;   212.21285200247635       (P: Bnd)\n",
      "out                                 Var x[9]   :   0   ;   211.28877422785231       (P: Bnd)\n",
      "out                                 Var x[9]   :   1   ;   210.63876626123366     "
     ]
    },
    {
     "name": "stdout",
     "output_type": "stream",
     "text": [
      "  (P: Bnd)\n",
      "out                               Var x[22]   :   1   ;   211.97194088133247       (P: Bnd)\n",
      "out                             Var x[12]   :   1   ;   212.48368597199305       (P: Bnd)\n",
      "out                               Var x[18]   :   0   ;   212.18618883393503       (P: Bnd)\n",
      "out                                 Var x[9]   :   0   ;   212.13553195320011       (P: Bnd)\n",
      "out                                   Var x[1]   :   0   ;   211.23624702958352       (P: Bnd)\n",
      "out                                   Var x[1]   :   1   ;   211.95783106702487       (P: Bnd)\n",
      "out                                 Var x[9]   :   1   ;   211.59977700247526       (P: Bnd)\n",
      "out                               Var x[18]   :   1   ;   211.53061768756677       (P: Bnd)\n",
      "out                     Var x[11]   :   1   ;   214.18981595840543          \n",
      "out                       Var x[38]   :   0   ;   213.53940297694749          \n",
      "out                         Var x[15]   :   0   ;   212.30781702377124       (P: Bnd)\n",
      "out                           Var x[34]   :   0   ;   211.59899869193663       (P: Bnd)\n",
      "out                           Var x[34]   :   1   ;   210.0986609895801       (P: Bnd)\n",
      "out                         Var x[15]   :   1   ;   213.3606942508097          \n",
      "out                           Var x[14]   :   0   ;   211.92201901794616       (P: Bnd)\n",
      "out                           Var x[14]   :   1   ;   213.33418984449057          \n",
      "out                             Var x[40]   :   0   ;   211.8824417221333       (P: Bnd)\n",
      "out                             Var x[40]   :   1   ;   213.1302129447897          \n",
      "out                               Var x[26]   :   0   ;   211.1628022328018       (P: Bnd)\n",
      "out                               Var x[26]   :   1   ;   212.97863312652964       (P: Bnd)\n",
      "out                                 Var x[27]   :   0   ;   211.3942662306033       (P: Bnd)\n",
      "out                                 Var x[27]   :   1   ;   212.83429868181017       (P: Bnd)\n",
      "out                                   Var x[4]   :   0   ;   212.52848641841277       (P: Bnd)\n",
      "out                                     Var x[34]   :   0   ;   212.0445981742909       (P: Bnd)\n",
      "out                                       Var x[18]   :   0   ;   211.02080449593728       (P: Bnd)\n",
      "out                                       Var x[18]   :   1   ;   210.6944051940472       (P: Bnd)\n",
      "out                                     Var x[34]   :   1   ;   211.0332933972343       (P: Bnd)\n",
      "out                                   Var x[4]   :   1   ;   212.659148282565"
     ]
    },
    {
     "name": "stdout",
     "output_type": "stream",
     "text": [
      "       (P: Bnd)\n",
      "out                                     Var x[21]   :   0   ;   211.38803443670074       (P: Bnd)\n",
      "out                                     Var x[21]   :   1   ;   212.645958431548       (P: Bnd)\n",
      "out                                       Var x[37]   :   0   ;   212.58657859868867       (P: Bnd)\n",
      "out                                         Var x[19]   :   0   ;   209.95968061356766       (P: Bnd)\n",
      "out                                         Var x[19]   :   1   ;   212.2505574214703       (P: Bnd)\n",
      "out                                           Var x[31]   :   0   ;   212.22256680838137       (P: Bnd)\n",
      "out                                             Var x[28]   :   0   ;   210.7950013267544       (P: Bnd)\n",
      "out                                             Var x[28]   :   1   ;   211.55318607553525       (P: Bnd)\n",
      "out                                           Var x[31]   :   1   ;   211.31201275060073       (P: Bnd)\n",
      "out                                       Var x[37]   :   1   ;   211.34585504998068       (P: Bnd)\n",
      "out                       Var x[38]   :   1   ;   212.5371328335363       (P: Bnd)\n",
      "out                         Var x[22]   :   0   ;   212.30470917330948       (P: Bnd)\n",
      "out                           Var x[31]   :   0   ;   211.14900536385522       (P: Bnd)\n",
      "out                           Var x[31]   :   1   ;   212.0586153037487       (P: Bnd)\n",
      "out                             Var x[33]   :   0   ;   211.84343444267034       (P: Bnd)\n",
      "out                             Var x[33]   :   1   ;   211.5187342437891       (P: Bnd)\n",
      "out                         Var x[22]   :   1   ;   211.94828041950046       (P: Bnd)\n",
      "out                   Var x[7]   :   1   ;   215.22542071433836          \n",
      "out                     Var x[9]   :   0   ;   214.8045406708815          \n",
      "out                       Var x[35]   :   0   ;   214.69504631512407          \n",
      "out                         Var x[22]   :   0   ;   214.21480308444362          \n",
      "out                           Var x[32]   :   0   ;   213.27031988987451          \n",
      "out                             Var x[33]   :   0   ;   212.36565137083048       (P: Bnd)\n",
      "out                               Var x[37]   :   0   ;   211.64754583086932       (P: Bnd)\n",
      "out                               Var x[37]   :   1   ;   211.82534435261707       (P: Bnd)\n",
      "out                             Var x[33]   :   1   ;   212.70030225411307       (P: Bnd)\n",
      "out                               Var x[37]   :   0   ;   212.02194476322936       (P: Bnd)\n",
      "out                                 Var x[11]   :   0   ;   211.6611374056873       (P: Bnd)\n",
      "out "
     ]
    },
    {
     "name": "stdout",
     "output_type": "stream",
     "text": [
      "                                Var x[11]   :   1   ;   211.4578790713545       (P: Bnd)\n",
      "out                               Var x[37]   :   1   ;   211.0888915868595       (P: Bnd)\n",
      "out                           Var x[32]   :   1   ;   214.0904790646068          \n",
      "out                             Var x[11]   :   0   ;   213.57343116390567          \n",
      "out                               Var x[18]   :   0   ;   212.85611821561994       (P: Bnd)\n",
      "out                                 Var x[34]   :   0   ;   212.55647382920114       (P: Bnd)\n",
      "out                                   Var x[37]   :   0   ;   212.03225806451613       (P: Bnd)\n",
      "out                                     Var x[38]   :   0   ;   211.9310344827586       (P: Bnd)\n",
      "out                                     Var x[38]   :   1   ;   210.3626311541566       (P: Bnd)\n",
      "out                                   Var x[37]   :   1   ;   212.11641171895252       (P: Bnd)\n",
      "out                                     Var x[38]   :   0   ;   211.7647479655409       (P: Bnd)\n",
      "out                                     Var x[38]   :   1   ;   211.13604222827547       (P: Bnd)\n",
      "out                                 Var x[34]   :   1   ;   210.41347859487394       (P: Bnd)\n",
      "out                               Var x[18]   :   1   ;   212.14680364862733       (P: Bnd)\n",
      "out                                 Var x[6]   :   0   ;   211.37534551630037       (P: Bnd)\n",
      "out                                 Var x[6]   :   1   ;   211.77309704550248       (P: Bnd)\n",
      "out                             Var x[11]   :   1   ;   213.32865953890965          \n",
      "out                               Var x[14]   :   0   ;   212.24241107075147       (P: Bnd)\n",
      "out                                 Var x[33]   :   0   ;   211.34141804266176       (P: Bnd)\n",
      "out                                 Var x[33]   :   1   ;   210.8652833792199       (P: Bnd)\n",
      "out                               Var x[14]   :   1   ;   212.6825464384122       (P: Bnd)\n",
      "out                                 Var x[28]   :   0   ;   212.0272921686385       (P: Bnd)\n",
      "out                                   Var x[31]   :   0   ;   210.96777025534962       (P: Bnd)\n",
      "out                                   Var x[31]   :   1   ;   211.4074897799605       (P: Bnd)\n",
      "out                                 Var x[28]   :   1   ;   212.2263811935505       (P: Bnd)\n",
      "out                                   Var x[21]   :   0   ;   210.90238558012973       (P: Bnd)\n",
      "out                                   Var x[21]   :   1   ;   212.10143727206076       (P: Bnd)\n",
      "out                                     Var x[38]   :   0   ;   211.83483990970092       (P: Bnd)\n",
      "out                                     Var x[38]   :   1   ;   210.73377773188543       (P: Bnd)\n",
      "out                         Var x[22]   :   1   ;   214.41200508448026          \n",
      "out                           Var x[14]   :   0   ;   213.51922996696717          \n",
      "out                             Var x[36]   :   0   ;   213.2199589572091          \n",
      "out                               Var x[11]   :   0   ;   212.92298542967586       (P: Bnd)\n",
      "out                                 Var x[18]   :   0   ;   212.47945724681625       (P: Bnd)\n",
      "out                                   Var x[24]   :   0   ;   212.33333333333334       (P: Bnd)\n",
      "out                                     Var x[34]   :   0   ;   212.2877662209014       (P: Bnd)\n",
      "out                                       Var x[38]   :   0   ;   212.22427983539094       (P: Bnd)\n",
      "out                                         Var x[12]   :   0   ;   210.1861032100772       (P: Bnd)\n",
      "out                                         Var x[12]   :   1   ;   212.1236559139785       (P: Bnd)\n",
      "out                                           Var x[33]   :   0   ;   211.0       (P: Bnd)\n",
      "out                                           Var x[33]   :   1   ;   211.38567631015673       (P: Bnd)\n",
      "out                                       "
     ]
    },
    {
     "name": "stdout",
     "output_type": "stream",
     "text": [
      "Var x[38]   :   1   ;   209.56610978520283       (P: Bnd)\n",
      "out                                     Var x[34]   :   1   ;   208.36229116945108       (P: Bnd)\n",
      "out                                   Var x[24]   :   1   ;   210.54643327490103       (P: Bnd)\n",
      "out                                 Var x[18]   :   1   ;   210.64969902078408       (P: Bnd)\n",
      "out                               Var x[11]   :   1   ;   211.48381897462065       (P: Bnd)\n",
      "out                             Var x[36]   :   1   ;   212.19549243618235       (P: Bnd)\n",
      "out                               Var x[21]   :   0   ;   209.4851738241309       (P: Bnd)\n",
      "out                               Var x[21]   :   1   ;   211.78026666666668       (P: Bnd)\n",
      "out                           Var x[14]   :   1   ;   214.12949739059954          \n",
      "out                             Var x[32]   :   0   ;   212.40597366702275       (P: Bnd)\n",
      "out                               Var x[33]   :   0   ;   211.5771033958439       (P: Bnd)\n",
      "out                               Var x[33]   :   1   ;   211.95264412670312       (P: Bnd)\n",
      "out                             Var x[32]   :   1   ;   213.95509715343167          \n",
      "out                               Var x[11]   :   0   ;   213.66298797102075          \n",
      "out                                 Var x[37]   :   0   ;   213.2757532281205          \n",
      "out                                   Var x[21]   :   0   ;   210.99050708013607       (P: Bnd)\n",
      "out                                   Var x[21]   :   1   ;   213.24596443228455          \n",
      "out                                     Var x[8]   :   0   ;   210.0103269790077       (P: Bnd)\n",
      "out                                     Var x[8]   :   1   ;   213.10813397129186          \n",
      "out                                       Var x[18]   :   0   ;   212.89772727272728       (P: Bnd)\n",
      "out                                         Var x[1]   :   0   ;   210.94931425163986       (P: Bnd)\n",
      "out                                         Var x[1]   :   1   ;   212.87772925764193       (P: Bnd)\n",
      "out                                           Var x[20]   :   0   ;   211.36751619347416       (P: Bnd)\n",
      "out                                           Var x[20]   :   1   ;   212.78       (P: Bnd)\n",
      "out                                             Var x[4]   :   0   ;   211.40804597701148       (P: Bnd)\n",
      "out                                             Var x[4]   :   1   ;   212.42857142857142       (P: Bnd)\n",
      "out                                               Var x[34]   :   0   ;   212.2967741935484       (P: Bnd)\n",
      "out                                                 Var x[28]   :   0   ;   210.94285714285715       (P: Bnd)\n",
      "out                                                 Var x[28]   :   1   ;   212.0989010989011       (P: Bnd)\n",
      "out                                                   Var x[33]   :   0   ;   212.0       (P: Bnd)\n",
      "out                                                     Var x[38]   :   0   ;   212.0       (P: Bnd)\n",
      "out                                                       Var x[19]   :   0   ;   208.8626865671642       (P: Bnd)\n",
      "out                                                       Var x[19]   :   1   ;   212.0       (P: Bnd)\n",
      "out                                                         Var x[27]   :   0   ;   211.0       (P: Bnd)\n",
      "out                                                         Var x[27]   :   1   ;   211.45454545454544       (P: Bnd)\n",
      "out                                                     "
     ]
    },
    {
     "name": "stdout",
     "output_type": "stream",
     "text": [
      "Var x[38]   :   1   ;   209.2806324110672       (P: Bnd)\n",
      "out                                                   Var x[33]   :   1   ;   210.2621359223301       (P: Bnd)\n",
      "out                                               Var x[34]   :   1   ;   208.8420571618478       (P: Bnd)\n",
      "out                                       Var x[18]   :   1   ;   211.44031412527715       (P: Bnd)\n",
      "out                                 Var x[37]   :   1   ;   213.06348569134602          \n",
      "out                                   Var x[12]   :   0   ;   210.93286665136563       (P: Bnd)\n",
      "out                                   Var x[12]   :   1   ;   212.9813343044568       (P: Bnd)\n",
      "out                                     Var x[20]   :   0   ;   211.3968823829156       (P: Bnd)\n",
      "out                                     Var x[20]   :   1   ;   212.94352942149453       (P: Bnd)\n",
      "out                                       Var x[28]   :   0   ;   212.37365864770538       (P: Bnd)\n",
      "out                                         Var x[40]   :   0   ;   210.45699191018656       (P: Bnd)\n",
      "out                                         Var x[40]   :   1   ;   211.97573656845753       (P: Bnd)\n",
      "out                                       Var x[28]   :   1   ;   212.20498970844994       (P: Bnd)\n",
      "out                                         Var x[18]   :   0   ;   212.0772970138526       (P: Bnd)\n",
      "out                                           Var x[8]   :   0   ;   210.39425277231024       (P: Bnd)\n",
      "out                                           Var x[8]   :   1   ;   211.93820167052192       (P: Bnd)\n",
      "out                                         Var x[18]   :   1   ;   210.52735107299716       (P: Bnd)\n",
      "out                               Var x[11]   :   1   ;   212.8704928693745       (P: Bnd)\n",
      "out                                 Var x[13]   :   0   ;   211.14288856030544       (P: Bnd)\n",
      "out                                 Var x[13]   :   1   ;   212.63146834918174       (P: Bnd)\n",
      "out                                   Var x[37]   :   0   ;   212.4814875265612       (P: Bnd)\n",
      "out                                     Var x[5]   :   0   ;   211.10240473448061       (P: Bnd)\n",
      "out                                     Var x[5]   :   1   ;   212.20552474715893       (P: Bnd)\n",
      "out                                       Var x[31]   :   0   ;   211.44306170313556       (P: Bnd)\n",
      "out                                       Var x[31]   :   1   ;   211.1763519313305       (P: Bnd)\n",
      "out                                   Var x[37]   :   1   ;   211.77618214496823       (P: Bnd)\n",
      "out                       Var x[35]   :   1   ;   214.00110452385866          \n",
      "out                         Var x[12]   :   0   ;   211.4648782793666       (P: Bnd)\n",
      "out                         Var x[12]   :   1   ;   213.7319605824217          \n",
      "out                           Var x[28]   :   0   ;   212.6533106851932       (P: Bnd)\n",
      "out                             Var x[22]   :   0   ;   212.28857896085697       (P: Bnd)\n",
      "out                               Var x[31]   :   0   ;   211.59543696829078       (P: Bnd)\n",
      "out                               Var x[31]   :   1   ;   211.49647714997093       (P: Bnd)"
     ]
    },
    {
     "name": "stdout",
     "output_type": "stream",
     "text": [
      "\n",
      "out                             Var x[22]   :   1   ;   212.0582167591687       (P: Bnd)\n",
      "out                               Var x[5]   :   0   ;   210.29160607348427       (P: Bnd)\n",
      "out                               Var x[5]   :   1   ;   211.80954520166483       (P: Bnd)\n",
      "out                           Var x[28]   :   1   ;   213.5259856911856          \n",
      "out                             Var x[32]   :   0   ;   211.3367396179215       (P: Bnd)\n",
      "out                             Var x[32]   :   1   ;   213.39313693127662          \n",
      "out                               Var x[20]   :   0   ;   212.65401405451126       (P: Bnd)\n",
      "out                                 Var x[36]   :   0   ;   212.30018467705912       (P: Bnd)\n",
      "out                                   Var x[31]   :   0   ;   211.60688956433637       (P: Bnd)\n",
      "out                                   Var x[31]   :   1   ;   211.24826872640477       (P: Bnd)\n",
      "out                                 Var x[36]   :   1   ;   211.6443793157117       (P: Bnd)\n",
      "out                               Var x[20]   :   1   ;   212.8069136041469       (P: Bnd)\n",
      "out                                 Var x[27]   :   0   ;   212.44942396626152       (P: Bnd)\n",
      "out                                   Var x[3]   :   0   ;   208.84078168232384       (P: Bnd)\n",
      "out                                   Var x[3]   :   1   ;   212.2538369051176       (P: Bnd)\n",
      "out                                     Var x[33]   :   0   ;   212.04212900549624       (P: Bnd)\n",
      "out                                       Var x[6]   :   0   ;   211.07600230747042       (P: Bnd)\n",
      "out                                       Var x[6]   :   1   ;   211.92735071948593       (P: Bnd)\n",
      "out                                     Var x[33]   :   1   ;   211.08608431772308       (P: Bnd)\n",
      "out                                 Var x[27]   :   1   ;   212.78612584077678       (P: Bnd)\n",
      "out                                   Var x[22]   :   0   ;   212.18826399677135       (P: Bnd)\n",
      "out                                     Var x[1]   :   0   ;   211.30705235841856       (P: Bnd)\n",
      "out                                     Var x[1]   :   1   ;   212.08145814572347       (P: Bnd)\n",
      "out                                       Var x[34]   :   0   ;   211.8926264084697       (P: Bnd)\n",
      "out                                       Var x[34]   :   1   ;   210.32238535787664       (P: Bnd)\n",
      "out                                   Var x[22]   :   1   ;   212.39937585952663       (P: Bnd)\n",
      "out                                     Var x[33]   :   0   ;   212.21356463785162       (P: Bnd)\n",
      "out                                       Var x[23]   :   0   ;   210.97527553606142       (P: Bnd)\n",
      "out                                       Var x[23]   :   1   ;   211.22414053377943       (P: Bnd)\n",
      "out                                     Var x[33]   :   1   ;   209.93896914737292       (P: Bnd)\n",
      "out                     Var x[9]   :   1   ;   215.08802194893013          \n",
      "out                       Var x[22]   :   0   ;   214.69860751608908          \n",
      "out                         Var x[31]   :   0   ;   213.92408439795557          \n",
      "out                           Var x[35]   :   0   ;   213.17347210982956          "
     ]
    },
    {
     "name": "stdout",
     "output_type": "stream",
     "text": [
      "\n",
      "out                             Var x[28]   :   0   ;   211.99698067632852       (P: Bnd)\n",
      "out                             Var x[28]   :   1   ;   213.0232396723305          \n",
      "out                               Var x[40]   :   0   ;   211.9774442323151       (P: Bnd)\n",
      "out                               Var x[40]   :   1   ;   212.87149810554092       (P: Bnd)\n",
      "out                                 Var x[14]   :   0   ;   212.1950122146259       (P: Bnd)\n",
      "out                                   Var x[32]   :   0   ;   210.37059848154792       (P: Bnd)\n",
      "out                                   Var x[32]   :   1   ;   211.82830612368758       (P: Bnd)\n",
      "out                                 Var x[14]   :   1   ;   212.46562572699452       (P: Bnd)\n",
      "out                                   Var x[26]   :   0   ;   211.50003605654507       (P: Bnd)\n",
      "out                                   Var x[26]   :   1   ;   212.41779342249671       (P: Bnd)\n",
      "out                                     Var x[15]   :   0   ;   210.67093795151956       (P: Bnd)\n",
      "out                                     Var x[15]   :   1   ;   212.2713547844835       (P: Bnd)\n",
      "out                                       Var x[19]   :   0   ;   210.88873530996568       (P: Bnd)\n",
      "out                                       Var x[19]   :   1   ;   212.14709840025293       (P: Bnd)\n",
      "out                                         Var x[27]   :   0   ;   211.66013379867093       (P: Bnd)\n",
      "out                                         Var x[27]   :   1   ;   211.92340310088036       (P: Bnd)\n",
      "out                           Var x[35]   :   1   ;   213.0312115216306          \n",
      "out                             Var x[1]   :   0   ;   211.33796955586035       (P: Bnd)\n",
      "out                             Var x[1]   :   1   ;   212.48997435207943       (P: Bnd)\n",
      "out                               Var x[32]   :   0   ;   210.3521470368011       (P: Bnd)\n",
      "out                               Var x[32]   :   1   ;   212.24529620208003       (P: Bnd)\n",
      "out                                 Var x[12]   :   0   ;   210.9083157996067       (P: Bnd)\n",
      "out                                 Var x[12]   :   1   ;   212.0907302735389       (P: Bnd)\n",
      "out                                   Var x[27]   :   0   ;   210.6985948695679       (P: Bnd)\n",
      "out                                   "
     ]
    },
    {
     "name": "stdout",
     "output_type": "stream",
     "text": [
      "Var x[27]   :   1   ;   211.68163377569962       (P: Bnd)\n",
      "out "
     ]
    },
    {
     "name": "stdout",
     "output_type": "stream",
     "text": [
      "                        Var x[31]   :   1   ;   213.44289781995508          \n",
      "out                           Var x[20]   :   0   ;   212.57850515823765       (P: Bnd)\n",
      "out                             Var x[27]   :   0   ;   211.80063343851174       (P: Bnd)\n",
      "out                             Var x[27]   :   1   ;   211.3634666188705       (P: Bnd)\n",
      "out                           Var x[20]   :   1   ;   213.16179288388005          \n",
      "out                             Var x[38]   :   0   ;   213.06279667546517          \n",
      "out                               Var x[35]   :   0   ;   212.57240806058923       (P: Bnd)\n",
      "out                                 Var x[18]   :   0   ;   212.18772951938163       (P: Bnd)\n",
      "out                                   Var x[34]   :   0   ;   211.91519032757756       (P: Bnd)\n",
      "out                                   Var x[34]   :   1   ;   210.26405864060737       (P: Bnd)\n",
      "out                                 Var x[18]   :   1   ;   210.337887187589       (P: Bnd)\n",
      "out                               Var x[35]   :   1   ;   212.53248997418157       (P: Bnd)\n",
      "out                                 Var x[33]   :   0   ;   212.1638174071617       (P: Bnd)\n",
      "out                                   Var x[23]   :   0   ;   210.3511547967765       (P: Bnd)\n",
      "out                                   Var x[23]   :   1   ;   212.14147052997424       (P: Bnd)\n",
      "out                                     Var x[27]   :   0   ;   211.45846118686677       (P: Bnd)\n",
      "out                                     Var x[27]   :   1   ;   212.02209035631623       (P: Bnd)\n",
      "out                                       Var x[12]   :   0   ;   210.4329921157485       (P: Bnd)\n",
      "out                                       Var x[12]   :   1   ;   211.28818971270806       (P: Bnd)\n",
      "out                                 Var x[33]   :   1   ;   210.27276465365196       (P: Bnd)\n",
      "out                             Var x[38]   :   1   ;   212.23309734780443       (P: Bnd)\n",
      "out                               Var x[4]   :   0   ;   211.15081485572503       (P: Bnd)\n",
      "out                               Var x[4]   :   1   ;   212.0835732193387       (P: Bnd)"
     ]
    },
    {
     "name": "stdout",
     "output_type": "stream",
     "text": [
      "\n",
      "out                                 Var x[32]   :   0   ;   211.88904851845956       (P: Bnd)\n",
      "out                                 Var x[32]   :   1   ;   211.06427248111729       (P: Bnd)\n",
      "out                       Var x[22]   :   1   ;   214.96737981836253          \n",
      "out                         Var x[27]   :   0   ;   214.14592385870424          \n",
      "out                           Var x[31]   :   0   ;   213.7196416758343          \n",
      "out                             Var x[38]   :   0   ;   213.6595611095724          \n",
      "out                               Var x[35]   :   0   ;   212.9475753604194       (P: Bnd)\n",
      "out                                 Var x[20]   :   0   ;   211.03850924995209       (P: Bnd)\n",
      "out                                 Var x[20]   :   1   ;   212.63742690058479       (P: Bnd)\n",
      "out                                   Var x[12]   :   0   ;   210.3267376966007       (P: Bnd)\n",
      "out                                   Var x[12]   :   1   ;   212.35454545454544       (P: Bnd)\n",
      "out                                     Var x[1]   :   0   ;   209.8004735433395       (P: Bnd)\n",
      "out                                     Var x[1]   :   1   ;   212.23148148148147       (P: Bnd)\n",
      "out                                       Var x[28]   :   0   ;   210.09750875025736       (P: Bnd)\n",
      "out                                       Var x[28]   :   1   ;   211.9357798165138       (P: Bnd)\n",
      "out                               Var x[35]   :   1   ;   212.57850118108036       (P: Bnd)\n",
      "out                                 Var x[6]   :   0   ;   211.88344023429224       (P: Bnd)\n",
      "out                                 Var x[6]   :   1   ;   212.39561612452178       (P: Bnd)\n",
      "out                                   Var x[4]   :   0   ;   211.00534950188657       (P: Bnd)\n",
      "out                                   Var x[4]   :   1   ;   211.98033686123404       (P: Bnd)\n",
      "out                             Var x[38]   :   1   ;   211.26154096472283       (P: Bnd)\n",
      "out                           Var x[31]   :   1   ;   212.67311720728313       (P: Bnd)\n",
      "out                             Var x[20]   :   0   ;   211.6217413588374       (P: Bnd)\n",
      "out                             Var x[20]   :   1   ;   212.4079228337558       (P: Bnd)\n",
      "out                               Var x[28]   :   0   ;   211.50117177720782       (P: Bnd)\n",
      "out                               Var x[28]   :   1   ;   212.21435341111558       (P: Bnd)\n",
      "out                                 Var x[1]   :   0   ;   210.64922334945624       (P: Bnd)\n",
      "out                                 Var x[1]   :   1   ;   212.01975451479518       (P: Bnd)\n",
      "out                                   Var x[33]   :   0   ;   211.74100527151222       (P: Bnd)"
     ]
    },
    {
     "name": "stdout",
     "output_type": "stream",
     "text": [
      "\n",
      "out                                   Var x[33]   :   1   ;   211.39153467851645       (P: Bnd)\n",
      "out                         Var x[27]   :   1   ;   214.11440213849016          \n",
      "out                           Var x[19]   :   0   ;   212.69374301097668       (P: Bnd)\n",
      "out                             Var x[36]   :   0   ;   212.4467700057199       (P: Bnd)\n",
      "out                               Var x[11]   :   0   ;   212.2726285300507       (P: Bnd)\n",
      "out                                 Var x[18]   :   0   ;   211.5346971138598       (P: Bnd)\n",
      "out                                 Var x[18]   :   1   ;   210.0545193877663       (P: Bnd)\n",
      "out                               Var x[11]   :   1   ;   210.7130977917516       (P: Bnd)\n",
      "out                             Var x[36]   :   1   ;   211.70099314730498       (P: Bnd)\n",
      "out                           Var x[19]   :   1   ;   213.84686283152016          \n",
      "out                             Var x[14]   :   0   ;   212.95971678009212       (P: Bnd)\n",
      "out                               Var x[36]   :   0   ;   212.77122175915767       (P: Bnd)\n",
      "out                                 Var x[31]   :   0   ;   212.1939998968328       (P: Bnd)\n",
      "out                                   Var x[11]   :   0   ;   212.17351723664098       (P: Bnd)\n",
      "out                                     Var x[13]   :   0   ;   210.4353197210378       (P: Bnd)\n",
      "out                                     Var x[13]   :   1   ;   211.6271186440678       (P: Bnd)\n",
      "out                                   Var x[11]   :   1   ;   210.41105994836317       (P: Bnd)\n",
      "out                                 Var x[31]   :   1   ;   212.18524767689465       (P: Bnd)\n",
      "out                                   Var x[28]   :   0   ;   211.83287841393852       (P: Bnd)\n",
      "out                                   Var x[28]   :   1   ;   211.119820471122       (P: Bnd)\n",
      "out                               Var x[36]   :   1   ;   211.6463561424588       (P: Bnd)\n",
      "out                             Var x[14]   :   1   ;   213.82127928977104          \n",
      "out                               Var x[28]   :   0   ;   213.21036919656845          \n",
      "out                                 Var x[4]   :   0   ;   211.7486589368788       (P: Bnd)\n",
      "out                                 Var x[4]   :   1   ;   212.78389018651643       (P: Bnd)\n",
      "out                                   Var x[37]   :   0   ;   212.57553956834533       (P: Bnd)\n",
      "out                                     Var x[36]   :   0   ;   212.51751958070787       (P: Bnd)\n",
      "out                                       Var x[31]   :   0   ;   212.4186046511628       (P: Bnd)\n",
      "out                                         Var x[15]   :   0   ;   210.92193308550185       (P: Bnd)\n",
      "out                                         Var x[15]   :   1   ;   212.27848101265823       (P: Bnd)\n",
      "out                                           Var x[40]   :   0   ;   210.11471671636554       (P: Bnd)\n",
      "out                                           Var x[40]   :   1   ;   211.88545995317148       (P: Bnd)\n",
      "out                                       Var x[31]   :   1   ;   211.02472783825814       (P: Bnd)\n",
      "out                                     Var x[36]   :   1   ;   210.24459598846235       (P: Bnd)\n",
      "out                                   Var x[37]   :   1   ;   210.8827369363447       (P: Bnd)\n",
      "out                               Var x[28]   :   1   ;   213.30812225080334          \n",
      "out                                 Var x[13]   :   0   ;   211.60761190174708       (P: Bnd)\n",
      "out                                 Var x[13]   :   1   ;   213.10723916426477          \n",
      "out                                   Var x[31]   :   0   ;   212.8173698508542       (P: Bnd)\n",
      "out                                     Var x[17]   :   0   ;   211.2448339696979       (P: Bnd)\n",
      "out                                     Var x[17]   :   1   ;   212.76011856650322       (P: Bnd)\n",
      "out "
     ]
    },
    {
     "name": "stdout",
     "output_type": "stream",
     "text": [
      "                                      Var x[23]   :   0   ;   211.76680847845404       (P: Bnd)\n",
      "out                                       Var x[23]   :   1   ;   212.72082681655866       (P: Bnd)\n",
      "out                                         Var x[15]   :   0   ;   211.77493818402223       (P: Bnd)\n",
      "out                                         Var x[15]   :   1   ;   212.30203038997314       (P: Bnd)\n",
      "out                                           Var x[1]   :   0   ;   211.50210707039176       (P: Bnd)\n",
      "out                                           Var x[1]   :   1   ;   211.4283930951216       (P: Bnd)\n",
      "out                                   Var x[31]   :   1   ;   211.75821097886072       (P: Bnd)\n",
      "out             Var x[25]   :   1   ;   216.4581927740339          \n",
      "out               Var x[30]   :   0   ;   215.98100180043775          \n",
      "out                 Var x[33]   :   0   ;   215.43732966491032          \n",
      "out                   Var x[22]   :   0   ;   215.35785831571744          \n",
      "out                     Var x[9]   :   0   ;   215.02314679009703          \n",
      "out                       Var x[37]   :   0   ;   214.73503153411414          \n",
      "out                         Var x[35]   :   0   ;   214.03030303030303          \n",
      "out                           Var x[34]   :   0   ;   213.94853801169592          \n",
      "out                             Var x[11]   :   0   ;   213.6822429906542          \n",
      "out                               Var x[7]   :   0   ;   213.55274261603378          \n",
      "out                                 Var x[18]   :   0   ;   212.66666666666666       (P: Bnd)\n",
      "out                                   Var x[31]   :   0   ;   212.38888888888889       (P: Bnd)\n",
      "out                                     Var x[36]   :   0   ;   212.31578947368422       (P: Bnd)\n",
      "out                                       Var x[24]   :   0   ;   211.0  (I)  (P: Opt)\n",
      "out                                       Var x[24]   :   1   ;   210.65610859728508       (P: Bnd)\n",
      "out                                     Var x[36]   :   1   ;   210.03722854188211       (P: Bnd)\n",
      "out                                   Var x[31]   :   1   ;   212.05847953216374       (P: Bnd)\n",
      "out                                     Var x[1]   :   0   ;   209.80745580322832       (P: Bnd)\n",
      "out                                     Var x[1]   :   1   ;   211.91509433962264       (P: Bnd)\n",
      "out                                 Var x[18]   :   1   ;   211.60998591643752       (P: Bnd)\n",
      "out                               Var x[7]   :   1   ;   213.03448275862067          \n",
      "out                                 Var x[14]   :   0   ;   209.78846153846155       (P: Bnd)\n",
      "out                                 Var x[14]   :   1   ;   213.00398406374504          \n",
      "out                                   Var x[38]   :   0   ;   211.59894519605592       (P: Bnd)\n",
      "out                                   Var x[38]   :   1   ;   212.7601809954751       (P: Bnd)\n",
      "out                                     Var x[4]   :   0   ;   211.2075471698113       (P: Bnd)\n",
      "out                                     Var x[4]   :   1   ;   212.6825396825397       (P: Bnd)\n",
      "out                                       Var x[19]   :   0   ;   210.74488008408446       (P: Bnd)\n",
      "out                                       Var x[19]   :   1   ;   212.5829428303655       (P: Bnd)\n",
      "out                                         Var x[1]   :   0   ;   210.29377431906616       (P: Bnd)\n",
      "out                                         Var x[1]   :   1   ;   212.23999999999998       (P: Bnd)\n",
      "out                                           Var x[39]   :   0   ;   210.76413255360623       (P: Bnd)\n",
      "out                                           Var x[39]   :   1   ;   212.13475177304963       (P: Bnd)\n",
      "out                                             Var x[13]   :   0   ;   210.0917203767972       (P: Bnd)\n",
      "out                                             "
     ]
    },
    {
     "name": "stdout",
     "output_type": "stream",
     "text": [
      "Var x[13]   :   1   ;   212.0       (P: Bnd)\n",
      "out                                               Var x[20]   :   0   ;   209.835255354201       (P: Bnd)\n",
      "out                                               Var x[20]   :   1   ;   212.00000000000003       (P: Bnd)\n",
      "out                                                 Var x[5]   :   0   ;   209.69811320754718       (P: Bnd)\n",
      "out                                                 Var x[5]   :   1   ;   211.799604743083       (P: Bnd)\n",
      "out                             Var x[11]   :   1   ;   212.26895148404682       (P: Bnd)\n",
      "out                               Var x[15]   :   0   ;   210.47199999999998       (P: Bnd)\n",
      "out                               Var x[15]   :   1   ;   211.48153872431658       (P: Bnd)\n",
      "out                           Var x[34]   :   1   ;   212.31125299281723       (P: Bnd)\n",
      "out                             Var x[31]   :   0   ;   211.62517449976735       (P: Bnd)\n",
      "out                             Var x[31]   :   1   ;   211.9303700975488       (P: Bnd)\n",
      "out                         Var x[35]   :   1   ;   214.16495048425074          \n",
      "out                           Var x[7]   :   0   ;   212.78047301394784       (P: Bnd)\n",
      "out                             Var x[38]   :   0   ;   212.26353970791203       (P: Bnd)\n",
      "out                               Var x[34]   :   0   ;   211.9834105318226       (P: Bnd)\n",
      "out                               Var x[34]   :   1   ;   210.92788538884778       (P: Bnd)\n",
      "out                             Var x[38]   :   1   ;   212.64055004332843       (P: Bnd)\n",
      "out                               Var x[3]   :   0   ;   211.84542326626976       (P: Bnd)\n",
      "out                               Var x[3]   :   1   ;   212.3714985042154       (P: Bnd)\n",
      "out                                 Var x[10]   :   0   ;   211.69566479581965       (P: Bnd)\n",
      "out                                 Var x[10]   :   1   ;   212.12421630094045       (P: Bnd)\n",
      "out                                   Var x[12]   :   0   ;   209.34782608695653       (P: Bnd)\n",
      "out                                   Var x[12]   :   1   ;   211.95190986897717       (P: Bnd)\n",
      "out                           Var x[7]   :   1   ;   213.8257921425267          \n",
      "out                             Var x[19]   :   0   ;   209.96721893122304       (P: Bnd)\n",
      "out                             Var x[19]   :   1   ;   213.79121645172535          \n",
      "out                               Var x[4]   :   0   ;   212.43690165361184       (P: Bnd)\n",
      "out                                 Var x[38]   :   0   ;   211.10338532110092       (P: Bnd)\n",
      "out                                 Var x[38]   :   1   ;   212.10191725529768       (P: Bnd)\n",
      "out                                   Var x[36]   :   0   ;   211.98692810457516       (P: Bnd)\n",
      "out                                   Var x[36]   :   1   ;   210.28747284576392       (P: Bnd)\n",
      "out                               Var x[4]   :   1   ;   213.78244378217286          \n",
      "out                                 Var x[13]   :   0   ;   212.3827723193998       (P: Bnd)\n",
      "out                                   Var x[1]   :   0   ;   210.38241709286984       (P: Bnd)\n",
      "out                                   "
     ]
    },
    {
     "name": "stdout",
     "output_type": "stream",
     "text": [
      "Var x[1]   :   1   ;   212.00557661231085       (P: Bnd)\n",
      "out                                     Var x[39]   :   0   ;   210.24228343843345       (P: Bnd)\n",
      "out                                     Var x[39]   :   1   ;   211.8485194770275       (P: Bnd)\n",
      "out                                 Var x[13]   :   1   ;   213.5945707997065          \n",
      "out                                   Var x[5]   :   0   ;   211.20789137848072       (P: Bnd)\n",
      "out                                   Var x[5]   :   1   ;   213.54422806194276          \n",
      "out                                     Var x[15]   :   0   ;   212.12902546000552       (P: Bnd)\n",
      "out                                       Var x[1]   :   0   ;   209.23467299963465       (P: Bnd)\n",
      "out                                       Var x[1]   :   1   ;   212.08758782201406       (P: Bnd)\n",
      "out                                         Var x[14]   :   0   ;   210.01991008349393       (P: Bnd)\n",
      "out                                         Var x[14]   :   1   ;   211.77527522472477       (P: Bnd)\n",
      "out                                     Var x[15]   :   1   ;   213.45701357466064          \n",
      "out                                       Var x[6]   :   0   ;   210.1468834688347       (P: Bnd)\n",
      "out                                       Var x[6]   :   1   ;   213.34545454545454          \n",
      "out                                         Var x[31]   :   0   ;   213.06675938803895          \n",
      "out                                           Var x[23]   :   0   ;   208.53884462151393       (P: Bnd)\n",
      "out                                           Var x[23]   :   1   ;   213.04347826086956          \n",
      "out                                             Var x[3]   :   0   ;   211.21377023600547       (P: Bnd)\n",
      "out                                             Var x[3]   :   1   ;   212.54166666666666       (P: Bnd)\n",
      "out                                               Var x[10]   :   0   ;   210.48666666666665       (P: Bnd)\n",
      "out                                               Var x[10]   :   1   ;   212.44444444444446       (P: Bnd)\n",
      "out                                                 Var x[14]   :   0   ;   210.57142857142856       (P: Bnd)\n",
      "out                                                 Var x[14]   :   1   ;   212.41975308641975       (P: Bnd)\n",
      "out                                                   Var x[27]   :   0   ;   209.7019230769231       (P: Bnd)\n",
      "out                                                   Var x[27]   :   1   ;   211.5       (P: Bnd)\n",
      "out                                         Var x[31]   :   1   ;   211.98630247450535       (P: Bnd)\n",
      "out                       Var x[37]   :   1   ;   213.77290098701414          \n",
      "out                         Var x[35]   :   0   ;   213.23091295205361          \n",
      "out                           Var x[15]   :   0   ;   212.3048380345612       (P: Bnd)\n",
      "out                             Var x[7]   :   0   ;   210.77186855949097       (P: Bnd)\n",
      "out                             Var x[7]   :   1   ;   212.0225344889481       (P: Bnd)\n",
      "out                               Var x[39]   :   0   ;   210.31181775035594       (P: Bnd)\n"
     ]
    },
    {
     "name": "stdout",
     "output_type": "stream",
     "text": [
      "out                               Var x[39]   :   1   ;   211.50442563638717       (P: Bnd)\n",
      "out                           Var x[15]   :   1   ;   212.82873414148193       (P: Bnd)\n",
      "out                             Var x[7]   :   0   ;   211.23002862347124       (P: Bnd)\n",
      "out                             Var x[7]   :   1   ;   212.66299115346038       (P: Bnd)\n",
      "out                               Var x[10]   :   0   ;   212.52921788989124       (P: Bnd)\n",
      "out                                 Var x[38]   :   0   ;   209.59358239882985       (P: Bnd)\n",
      "out                                 Var x[38]   :   1   ;   212.35963262575999       (P: Bnd)\n",
      "out                                   Var x[13]   :   0   ;   210.34300203646137       (P: Bnd)\n",
      "out                                   Var x[13]   :   1   ;   212.19861330831435       (P: Bnd)\n",
      "out                                     Var x[28]   :   0   ;   209.3017851128326       (P: Bnd)\n",
      "out                                     Var x[28]   :   1   ;   212.18827920109186       (P: Bnd)\n",
      "out                                       Var x[39]   :   0   ;   206.94418032786888       (P: Bnd)\n",
      "out                                       Var x[39]   :   1   ;   212.09526549502786       (P: Bnd)\n",
      "out                                         Var x[20]   :   0   ;   206.93983402489624       (P: Bnd)\n",
      "out                                         Var x[20]   :   1   ;   212.0327614616652       (P: Bnd)\n",
      "out                                           Var x[4]   :   0   ;   208.41516245487364       (P: Bnd)\n",
      "out                                           Var x[4]   :   1   ;   212.02124975742282       (P: Bnd)\n",
      "out                                             Var x[1]   :   0   ;   207.33212996389892       (P: Bnd)\n",
      "out                                             Var x[1]   :   1   ;   212.01909222171517       (P: Bnd)\n",
      "out                                               Var x[21]   :   0   ;   208.0  (I)  (P: Opt)\n",
      "out                                               Var x[21]   :   1   ;   211.86422666531539       (P: Bnd)\n",
      "out                               Var x[10]   :   1   ;   212.29524325300116       (P: Bnd)\n",
      "out                                 Var x[39]   :   0   ;   209.22910362946675       (P: Bnd)\n",
      "out                                 Var x[39]   :   1   ;   212.18412236103964       (P: Bnd)\n",
      "out                                   "
     ]
    },
    {
     "name": "stdout",
     "output_type": "stream",
     "text": [
      "Var x[21]   :   0   ;   209.72442284325638       (P: Bnd)\n",
      "out                                   Var x[21]   :   1   ;   211.9392133492253       (P: Bnd)\n",
      "out                         Var x[35]   :   1   ;   212.05973961951284       (P: Bnd)\n",
      "out                           Var x[28]   :   0   ;   210.400729164351       (P: Bnd)\n",
      "out                           Var x[28]   :   1   ;   211.88485408879998       (P: Bnd)\n",
      "out                     Var x[9]   :   1   ;   215.07516517051332          \n",
      "out                       Var x[15]   :   0   ;   213.94190558788907          \n",
      "out                         Var x[35]   :   0   ;   213.27216469421344          \n",
      "out                           Var x[7]   :   0   ;   212.23141907925964       (P: Bnd)\n",
      "out                             Var x[18]   :   0   ;   211.96794425087108       (P: Bnd)\n",
      "out                             Var x[18]   :   1   ;   209.39684774242622       (P: Bnd)\n",
      "out                           Var x[7]   :   1   ;   212.6089465985588       (P: Bnd)\n",
      "out                             Var x[32]   :   0   ;   209.21052631578945       (P: Bnd)\n",
      "out                             Var x[32]   :   1   ;   212.50140569273006       (P: Bnd)\n",
      "out                               Var x[37]   :   0   ;   212.40932065508616       (P: Bnd)\n",
      "out                                 Var x[14]   :   0   ;   208.5337837837838       (P: Bnd)\n",
      "out                                 Var x[14]   :   1   ;   212.03489565558897       (P: Bnd)\n",
      "out                                   Var x[11]   :   0   ;   212.024948000151       (P: Bnd)\n",
      "out                                     Var x[21]   :   0   ;   208.15909090909093       (P: Bnd)\n",
      "out                                     Var x[21]   :   1   ;   211.79444410870047       (P: Bnd)\n",
      "out                                   Var x[11]   :   1   ;   209.77260413033844       (P: Bnd)\n",
      "out                               Var x[37]   :   1   ;   210.99161275086885       (P: Bnd)\n",
      "out                         Var x[35]   :   1   ;   211.68822765386577       (P: Bnd)\n",
      "out                       Var x[15]   :   1   ;   213.725386323495          \n",
      "out                         Var x[31]   :   0   ;   213.43815102043467          \n",
      "out                           Var x[3]   :   0   ;   212.33162903379534       (P: Bnd)\n",
      "out                             Var x[35]   :   0   ;   210.51331210315016       (P: Bnd)\n",
      "out                             Var x[35]   :   1   ;   211.43949835317963       (P: Bnd)\n",
      "out                           Var x[3]   :   1   ;   213.1511745779893          \n",
      "out                             Var x[4]   :   0   ;   212.83785679598552       (P: Bnd)\n",
      "out                               Var x[35]   :   0   ;   211.9781595806639       (P: Bnd)\n",
      "out                               Var x[35]   :   1   ;   212.25323005720895       (P: Bnd)\n",
      "out                                 Var x[38]   :   0   ;   210.8220811064282       (P: Bnd)\n",
      "out                                 Var x[38]   :   1   ;   211.90377089463948       (P: Bnd)\n",
      "out                             Var x[4]   :   1   ;   212.86502720763724       (P: Bnd)\n",
      "out                               Var x[19]   :   0   ;   212.47793444187877       (P: Bnd)\n",
      "out                                 Var x[35]   :   0   ;   211.26086956521738       (P: Bnd)\n",
      "out                                 "
     ]
    },
    {
     "name": "stdout",
     "output_type": "stream",
     "text": [
      "Var x[35]   :   1   ;   210.29932362719245       (P: Bnd)\n",
      "out                               Var x[19]   :   1   ;   212.6731516108383       (P: Bnd)\n",
      "out                                 Var x[13]   :   0   ;   212.0564488898439       (P: Bnd)\n",
      "out                                   Var x[35]   :   0   ;   210.93073829025923       (P: Bnd)\n",
      "out                                   Var x[35]   :   1   ;   211.1528037548082       (P: Bnd)\n",
      "out                                 Var x[13]   :   1   ;   211.84512091038405       (P: Bnd)\n",
      "out                         Var x[31]   :   1   ;   212.58188283873395       (P: Bnd)\n",
      "out                           Var x[7]   :   0   ;   211.99875417305       (P: Bnd)\n",
      "out                           Var x[7]   :   1   ;   212.21242789091997       (P: Bnd)\n",
      "out                             Var x[4]   :   0   ;   211.73730956374106       (P: Bnd)\n",
      "out                             Var x[4]   :   1   ;   211.5041116883976       (P: Bnd)\n",
      "out                   Var x[22]   :   1   ;   215.30270006546877          \n",
      "out                     Var x[9]   :   0   ;   215.00546448087434          \n",
      "out                       Var x[38]   :   0   ;   214.447429768306          \n",
      "out                         Var x[37]   :   0   ;   213.92201334089776          \n",
      "out                           Var x[35]   :   0   ;   213.70970807875082          \n",
      "out                             Var x[34]   :   0   ;   213.02248454187745          \n",
      "out                               Var x[18]   :   0   ;   212.77484276729558       (P: Bnd)\n",
      "out                                 Var x[31]   :   0   ;   212.25531914893617       (P: Bnd)\n",
      "out                                   Var x[7]   :   0   ;   211.90526315789475       (P: Bnd)\n",
      "out                                   Var x[7]   :   1   ;   212.13791113675705       (P: Bnd)\n",
      "out                                     Var x[20]   :   0   ;   209.00928217821783       (P: Bnd)\n",
      "out                                     Var x[20]   :   1   ;   211.86795774647888       (P: Bnd)\n",
      "out                                 Var x[31]   :   1   ;   212.53546445867144       (P: Bnd)\n",
      "out                                   Var x[21]   :   0   ;   210.28224206349205       (P: Bnd)\n",
      "out                                   Var x[21]   :   1   ;   212.4773276904474       (P: Bnd)"
     ]
    },
    {
     "name": "stdout",
     "output_type": "stream",
     "text": [
      "\n",
      "out                                     Var x[39]   :   0   ;   211.0670731707317       (P: Bnd)\n",
      "out                                     Var x[39]   :   1   ;   212.43309589041095       (P: Bnd)\n",
      "out                                       Var x[1]   :   0   ;   210.44285714285715       (P: Bnd)\n",
      "out                                       Var x[1]   :   1   ;   212.19013425247147       (P: Bnd)\n",
      "out                                         Var x[14]   :   0   ;   210.09615384615384       (P: Bnd)\n",
      "out                                         Var x[14]   :   1   ;   211.11866861367824       (P: Bnd)\n",
      "out                               Var x[18]   :   1   ;   210.74725274725276       (P: Bnd)\n",
      "out                             Var x[34]   :   1   ;   211.70424957013017       (P: Bnd)\n",
      "out                           Var x[35]   :   1   ;   212.94030796862208       (P: Bnd)\n",
      "out                             Var x[20]   :   0   ;   210.5883719386739       (P: Bnd)\n",
      "out                             Var x[20]   :   1   ;   212.87074286544188       (P: Bnd)\n",
      "out                               Var x[27]   :   0   ;   211.7948717948718       (P: Bnd)\n",
      "out                               Var x[27]   :   1   ;   212.67254335260117       (P: Bnd)\n",
      "out                                 Var x[7]   :   0   ;   212.5788048204746       (P: Bnd)\n",
      "out                                   Var x[10]   :   0   ;   210.97232436616991       (P: Bnd)\n",
      "out                                   Var x[10]   :   1   ;   212.27466741983392       (P: Bnd)\n",
      "out                                     Var x[28]   :   0   ;   210.7464519650655       (P: Bnd)\n",
      "out                                     Var x[28]   :   1   ;   212.02560013913978       (P: Bnd)\n",
      "out                                       Var x[13]   :   0   ;   209.65781826267647       (P: Bnd)\n",
      "out                                       Var x[13]   :   1   ;   211.8870703539031       (P: Bnd)\n",
      "out                                 Var x[7]   :   1   ;   212.1060072121567       (P: Bnd)\n",
      "out                                   Var x[10]   :   0   ;   211.15529179030665       (P: Bnd)\n",
      "out                                   Var x[10]   :   1   ;   211.42007753108794       (P: Bnd)\n",
      "out                         Var x[37]   :   1   ;   213.8555295593411          \n",
      "out                           Var x[7]   :   0   ;   212.69200138504155       (P: Bnd)\n",
      "out                             Var x[20]   :   0   ;   211.6992619926199       (P: Bnd)\n",
      "out                             Var x[20]   :   1   ;   212.41249369069783       (P: Bnd)\n",
      "out                               Var x[3]   :   0   ;   210.40936064367702       (P: Bnd)\n",
      "out                               Var x[3]   :   1   ;   212.00665000374255       (P: Bnd)\n",
      "out                                 Var x[35]   :   0   ;   211.9641734721297       (P: Bnd)\n",
      "out                                 Var x[35]   :   1   ;   210.59201981287836       (P: Bnd)\n",
      "out                           Var x[7]   :   1   ;   213.32213728502603          \n",
      "out                             Var x[13]   :   0   ;   212.41383343226394       (P: Bnd)\n",
      "out                               Var x[35]   :   0   ;   212.26677689798123       (P: Bnd)\n",
      "out                                 Var x[18]   :   0   ;   212.06363974692968       (P: Bnd)\n",
      "out                                   Var x[34]   :   0   ;   211.84183673469389       (P: Bnd)\n",
      "out                                   Var x[34]   :   1   ;   210.13937858087263       (P: Bnd)\n",
      "out                                 Var x[18]   :   1   ;   209.9037473867503       (P: Bnd)\n",
      "out                               Var x[35]   :   1   ;   210.44299181785843       (P: Bnd)\n",
      "out                             Var x[13]   :   1   ;   212.76969888614522       (P: Bnd)\n",
      "out                               Var x[39]   :   0   ;   211.30844916930585       (P: Bnd)\n",
      "out                               Var x[39]   :   1   ;   212.5999600811683       (P: Bnd)\n",
      "out                                 Var x[10]   :   0   ;   212.2740169768047       (P: Bnd)\n",
      "out                                   Var x[27]   :   0   ;   210.0725579734936       (P: Bnd)\n",
      "out                                   Var x[27]   :   1   ;   212.25790244923593       (P: Bnd)\n",
      "out                                     Var x[28]   :   0   ;   209.72727272727272       (P: Bnd)\n",
      "out                                     Var x[28]   :   1   ;   212.05081629526225       (P: Bnd)\n",
      "out                                       Var x[17]   :   0   ;   207.17389087200408       (P: Bnd)\n",
      "out                                       Var x[17]   :   1   ;   211.99137931034483       (P: Bnd)\n",
      "out                                 Var x[10]   :   1   ;   212.30911889977932       (P: Bnd)\n",
      "out                                   Var x[15]   :   0   ;   210.85726334705234       (P: Bnd)\n",
      "out                                   Var x[15]   :   1   ;   212.27234091631922       (P: Bnd)\n",
      "out                                     Var x[5]   :   0   ;   210.8327397065109       (P: Bnd)\n",
      "out                                     Var x[5]   :   1   ;   211.7421167655323       (P: Bnd)"
     ]
    },
    {
     "name": "stdout",
     "output_type": "stream",
     "text": [
      "\n",
      "out                       Var x[38]   :   1   ;   214.33585858585857          \n",
      "out                         Var x[13]   :   0   ;   213.08480911820578          \n",
      "out                           Var x[7]   :   0   ;   212.7875243774653       (P: Bnd)\n",
      "out                             Var x[37]   :   0   ;   212.72160658887242       (P: Bnd)\n",
      "out                               Var x[35]   :   0   ;   212.08824693312226       (P: Bnd)\n",
      "out                                 Var x[34]   :   0   ;   212.02774869109948       (P: Bnd)\n",
      "out                                   Var x[11]   :   0   ;   210.7453488372093       (P: Bnd)\n",
      "out                                   Var x[11]   :   1   ;   211.44707853190516       (P: Bnd)\n",
      "out                                 Var x[34]   :   1   ;   208.6679403733083       (P: Bnd)\n",
      "out                               Var x[35]   :   1   ;   211.69191747279658       (P: Bnd)\n",
      "out                             Var x[37]   :   1   ;   211.88677659838484       (P: Bnd)\n",
      "out                           Var x[7]   :   1   ;   211.84766176347637       (P: Bnd)\n",
      "out                         Var x[13]   :   1   ;   214.13481826721585          \n",
      "out                           Var x[37]   :   0   ;   213.83333333333334          \n",
      "out                             Var x[19]   :   0   ;   212.37664116526912       (P: Bnd)\n",
      "out                               Var x[7]   :   0   ;   211.8840084166228       (P: Bnd)\n",
      "out                               Var x[7]   :   1   ;   211.24224734266915       (P: Bnd)\n",
      "out                             Var x[19]   :   1   ;   213.8235294117647          \n",
      "out                               Var x[5]   :   0   ;   212.0693631957212       (P: Bnd)\n",
      "out                                 Var x[7]   :   0   ;   211.8409178603583       (P: Bnd)\n",
      "out                                 Var x[7]   :   1   ;   211.2466643859049       (P: Bnd)\n",
      "out                               Var x[5]   :   1   ;   213.7914438502674          \n",
      "out                                 Var x[15]   :   0   ;   212.68676611925952       (P: Bnd)\n",
      "out                                   Var x[35]   :   0   ;   211.95932463545662       (P: Bnd)\n",
      "out                                   Var x[35]   :   1   ;   211.4858088332538       (P: Bnd)\n",
      "out                                 Var x[15]   :   1   ;   213.7843137254902          \n",
      "out                                   Var x[4]   :   0   ;   212.85503138287103       (P: Bnd)\n",
      "out                                     Var x[31]   :   0   ;   212.65079365079367       (P: Bnd)\n",
      "out                                       Var x[36]   :   0   ;   212.09452736318408       (P: Bnd)\n",
      "out                                         Var x[35]   :   0   ;   211.9375       (P: Bnd)\n",
      "out                                         Var x[35]   :   1   ;   210.7198396793587       (P: Bnd)\n",
      "out                                       Var x[36]   :   1   ;   211.2695940770998       (P: Bnd)\n",
      "out                                     Var x[31]   :   1   ;   211.72003804692454       (P: Bnd)\n",
      "out                                   Var x[4]   :   1   ;   213.38251366120218          \n",
      "out                                     Var x[3]   :   0   ;   211.86754168016995       (P: Bnd)\n",
      "out                                     Var x[3]   :   1   ;   213.05747126436782          \n",
      "out                                       Var x[6]   :   0   ;   212.125       (P: Bnd)\n",
      "out                                         Var x[35]   :   0   ;   210.93063400393476       (P: Bnd)\n",
      "out                                         Var x[35]   :   1   ;   210.40170940170938       (P: Bnd)\n",
      "out                                       Var x[6]   :   1   ;   212.3939393939394       (P: Bnd)\n",
      "out                                         Var x[31]   :   0   ;   212.1818181818182       (P: Bnd)\n",
      "out                                           Var x[10]   :   0   ;   211.66666666666666       (P: Bnd)\n",
      "out                                           Var x[10]   :   1   ;   211.6       (P: Bnd)\n",
      "out                                         Var x[31]   :   1   ;   211.54502593116456       (P: Bnd)\n",
      "out                           Var x[37]   :   1   ;   213.0621724200253          \n",
      "out                             Var x[28]   :   0   ;   212.37356321839079       (P: Bnd)"
     ]
    },
    {
     "name": "stdout",
     "output_type": "stream",
     "text": [
      "\n",
      "out                               Var x[15]   :   0   ;   211.6926203385001       (P: Bnd)\n",
      "out                               Var x[15]   :   1   ;   211.77148080438755       (P: Bnd)\n",
      "out                             Var x[28]   :   1   ;   212.7386842389543       (P: Bnd)\n",
      "out                               Var x[23]   :   0   ;   211.1750278189911       (P: Bnd)\n",
      "out                               Var x[23]   :   1   ;   212.41075794621025       (P: Bnd)\n",
      "out                                 Var x[3]   :   0   ;   210.96843668770885       (P: Bnd)\n",
      "out                                 Var x[3]   :   1   ;   212.2159406858202       (P: Bnd)\n",
      "out                                   Var x[15]   :   0   ;   211.9083377677612       (P: Bnd)\n",
      "out                                   Var x[15]   :   1   ;   211.75441045109423       (P: Bnd)\n",
      "out                     Var x[9]   :   1   ;   214.99321256195486          \n",
      "out                       Var x[38]   :   0   ;   214.4712088251794          \n",
      "out                         Var x[31]   :   0   ;   214.04425300703838          \n",
      "out                           Var x[35]   :   0   ;   213.66302450151787          \n",
      "out                             Var x[15]   :   0   ;   212.3108388235818       (P: Bnd)\n",
      "out                               Var x[37]   :   0   ;   211.15514333895447     "
     ]
    },
    {
     "name": "stdout",
     "output_type": "stream",
     "text": [
      "  (P: Bnd)\n",
      "out                               Var x[37]   :   1   ;   211.84408709395964       (P: Bnd)\n",
      "out                             Var x[15]   :   1   ;   213.01273039905308          \n",
      "out                               Var x[13]   :   0   ;   212.26743527798376       (P: Bnd)\n",
      "out                                 Var x[37]   :   0   ;   211.5786833577485       (P: Bnd)\n",
      "out                                 Var x[37]   :   1   ;   210.50063404509146       (P: Bnd)\n",
      "out                               Var x[13]   :   1   ;   212.71937660363014       (P: Bnd)\n",
      "out                                 Var x[7]   :   0   ;   211.68274582560298       (P: Bnd)\n",
      "out                                 Var x[7]   :   1   ;   212.29163896531153       (P: Bnd)\n",
      "out                                   Var x[5]   :   0   ;   210.32754846099198       (P: Bnd)\n",
      "out                                   Var x[5]   :   1   ;   211.794215130988       (P: Bnd)\n",
      "out                           Var x[35]   :   1   ;   213.24343557065285          \n",
      "out                             Var x[13]   :   0   ;   212.73013218110438       (P: Bnd)\n",
      "out                               Var x[15]   :   0   ;   210.62909575822317       (P: Bnd)\n",
      "out                               Var x[15]   :   1   ;   212.5485378780729       (P: Bnd)\n",
      "out                                 Var x[27]   :   0   ;   210.7193949160472       (P: Bnd)\n",
      "out                                 Var x[27]   :   1   ;   212.15508311234888       (P: Bnd)\n",
      "out                                   Var x[14]   :   0   ;   210.2826086956522       (P: Bnd)\n",
      "out                                   Var x[14]   :   1   ;   211.78939695503843       (P: Bnd)\n",
      "out                             Var x[13]   :   1   ;   212.8545168067227       (P: Bnd)\n",
      "out                               Var x[3]   :   0   ;   212.0490420350439       (P: Bnd)\n",
      "out                                 Var x[37]   :   0   ;   211.07938388625593       (P: Bnd)\n",
      "out                                 Var x[37]   :   1   ;   210.07616239074594       (P: Bnd)\n",
      "out                               Var x[3]   :   1   ;   212.46764545948884       (P: Bnd)\n",
      "out                                 Var x[20]   :   0   ;   210.7508617065994       (P: Bnd)\n",
      "out                                 Var x[20]   :   1   ;   212.39732709655863       (P: Bnd)\n",
      "out                                   Var x[27]   :   0   ;   211.160846602982       (P: Bnd)\n",
      "out                                   Var x[27]   :   1   ;   212.3308975886242       (P: Bnd)\n",
      "out                                     Var x[28]   :   0   ;   210.839608013397       (P: Bnd)\n",
      "out                                     Var x[28]   :   1   ;   212.32798447842956       (P: Bnd)\n",
      "out                                       "
     ]
    },
    {
     "name": "stdout",
     "output_type": "stream",
     "text": [
      "Var x[23]   :   0   ;   210.4487553223785       (P: Bnd)\n",
      "out                                       Var x[23]   :   1   ;   211.78596920335153       (P: Bnd)\n",
      "out                         Var x[31]   :   1   ;   213.37241905839554          \n",
      "out                           Var x[28]   :   0   ;   212.33314144920143       (P: Bnd)\n",
      "out                             Var x[35]   :   0   ;   211.5888618525076       (P: Bnd)\n",
      "out                             Var x[35]   :   1   ;   211.17849080844937       (P: Bnd)\n",
      "out                           Var x[28]   :   1   ;   213.17693044369912          \n",
      "out                             Var x[7]   :   0   ;   212.7825404610704       (P: Bnd)\n",
      "out                               Var x[12]   :   0   ;   210.3876556380762       (P: Bnd)\n",
      "out                               Var x[12]   :   1   ;   212.51438488681322       (P: Bnd)\n",
      "out                                 Var x[20]   :   0   ;   210.10582326916182       (P: Bnd)\n",
      "out                                 Var x[20]   :   1   ;   211.9704169468898       (P: Bnd)\n",
      "out                             Var x[7]   :   1   ;   212.11184932389273       (P: Bnd)\n",
      "out                               Var x[13]   :   0   ;   211.69387225841237       (P: Bnd)\n",
      "out                               Var x[13]   :   1   ;   211.925387569762       (P: Bnd)\n",
      "out                       Var x[38]   :   1   ;   214.7263641861858          \n",
      "out                         Var x[15]   :   0   ;   214.14030615370166          \n",
      "out                           Var x[37]   :   0   ;   214.04095665183738          \n",
      "out                             Var x[13]   :   0   ;   211.8523703615321       (P: Bnd)\n",
      "out                             Var x[13]   :   1   ;   214.01525109427436          \n",
      "out                               Var x[20]   :   0   ;   209.51983353993273       (P: Bnd)\n",
      "out                               Var x[20]   :   1   ;   213.89387308533918          \n",
      "out                                 Var x[27]   :   0   ;   212.42278373800113       (P: Bnd)\n",
      "out                                   Var x[35]   :   0   ;   211.85999999999999       (P: Bnd)\n",
      "out                                   Var x[35]   :   1   ;   210.69111089502272       (P: Bnd)\n",
      "out                                 Var x[27]   :   1   ;   213.84203461508827          "
     ]
    },
    {
     "name": "stdout",
     "output_type": "stream",
     "text": [
      "\n",
      "out                                   Var x[10]   :   0   ;   211.16447876447876       (P: Bnd)\n",
      "out                                   Var x[10]   :   1   ;   213.7235257795616          \n",
      "out                                     Var x[39]   :   0   ;   210.63390615949024       (P: Bnd)\n",
      "out                                     Var x[39]   :   1   ;   213.62952814700068          \n",
      "out                                       Var x[34]   :   0   ;   213.38196579882464          \n",
      "out                                         Var x[32]   :   0   ;   209.80104438642297       (P: Bnd)\n",
      "out                                         Var x[32]   :   1   ;   212.91592261904762       (P: Bnd)\n",
      "out                                           Var x[31]   :   0   ;   212.86218919601163       (P: Bnd)\n",
      "out                                             Var x[5]   :   0   ;   210.69948610240888       (P: Bnd)\n",
      "out                                             Var x[5]   :   1   ;   212.49742268041237       (P: Bnd)\n",
      "out                                               Var x[26]   :   0   ;   209.46478873239437       (P: Bnd)\n",
      "out                                               Var x[26]   :   1   ;   212.43478260869566       (P: Bnd)\n",
      "out                                                 Var x[21]   :   0   ;   210.10000000000002       (P: Bnd)\n",
      "out                                                 Var x[21]   :   1   ;   212.252427184466       (P: Bnd)\n",
      "out                                                   Var x[40]   :   0   ;   209.8502715283165       (P: Bnd)\n",
      "out                                                   Var x[40]   :   1   ;   212.04026845637586       (P: Bnd)\n",
      "out                                                     Var x[23]   :   0   ;   209.7643070787637       (P: Bnd)\n",
      "out                                                     Var x[23]   :   1   ;   211.83050847457628       (P: Bnd)\n",
      "out                                           Var x[31]   :   1   ;   211.54412928798175       (P: Bnd)\n",
      "out                                       Var x[34]   :   1   ;   209.85091503135612       (P: Bnd)\n",
      "out                           Var x[37]   :   1   ;   212.2923992241216       (P: Bnd)\n",
      "out                             Var x[7]   :   0   ;   211.7508390406849       (P: Bnd)\n",
      "out                             Var x[7]   :   1   ;   211.25460328254132       (P: Bnd)\n",
      "out                         Var x[15]   :   1   ;   214.2090110729286          \n",
      "out                           Var x[4]   :   0   ;   213.57306590257878          \n",
      "out                             Var x[31]   :   0   ;   213.55775577557753          \n",
      "out                               Var x[37]   :   0   ;   213.51715039577837          \n",
      "out                                 Var x[36]   :   0   ;   213.4577114427861          \n",
      "out                                   Var x[35]   :   0   ;   213.4375          \n",
      "out                                     Var x[7]   :   0   ;   213.35532994923858          \n",
      "out                                       Var x[24]   :   0   ;   213.3125          \n",
      "out                                         Var x[11]   :   0   ;   213.3          \n",
      "out                                           Var x[34]   :   0   ;   213.26315789473682          \n",
      "out                                             Var x[18]   :   0   ;   213.0  (I)  (P: Opt)\n",
      "out                                             Var x[18]   :   1   ;   208.41552511415523       (P: Bnd)\n",
      "out                                           Var x[34]   :   1   ;   209.81203007518798       (P: Bnd)\n",
      "out                                         Var x[11]   :   1   ;   207.89263420724092       (P: Bnd)\n",
      "out                                       Var x[24]   :   1   ;   209.5824935214512       (P: Bnd)\n",
      "out                                     Var x[7]   :   1   ;   211.10338517840805       (P: Bnd)\n",
      "out                                   Var x[35]   :   1   ;   211.19484723814662       (P: Bnd)\n",
      "out                                 Var x[36]   :   1   ;   210.9126407745312       (P: Bnd)\n",
      "out                               Var x[37]   :   1   ;   210.28297654581976       (P: Bnd)\n",
      "out                             Var x[31]   :   1   ;   212.22541893585802       (P: Bnd)\n",
      "out                           Var x[4]   :   1   ;   213.79324507797924          \n",
      "out                             Var x[19]   :   0   ;   212.77075970829162       (P: Bnd)\n",
      "out                             Var x[19]   :   1   ;   213.63805374001456          \n",
      "out                               Var x[3]   :   0   ;   212.83347863993026       (P: Bnd)\n",
      "out                               Var x[3]   :   1   ;   213.17993935718616          \n",
      "out                                 Var x[7]   :   0   ;   212.9956630319723       (P: Bnd)\n",
      "out                                 Var x[7]   :   1   ;   211.82163642881375       (P: Bnd)\n",
      "out                 Var x[33]   :   1   ;   215.56490319347182          \n"
     ]
    },
    {
     "name": "stdout",
     "output_type": "stream",
     "text": [
      "out                   Var x[35]   :   0   ;   215.0734703314965          \n",
      "out                     Var x[10]   :   0   ;   214.40407097909915          \n",
      "out                       Var x[37]   :   0   ;   213.86959923644937          \n",
      "out                         Var x[7]   :   0   ;   213.69614202799588          \n",
      "out                           Var x[40]   :   0   ;   211.00296045675614       (P: Bnd)\n",
      "out                           Var x[40]   :   1   ;   213.63855421686748          \n",
      "out                             Var x[11]   :   0   ;   213.46506986027944          \n",
      "out                               Var x[38]   :   0   ;   211.29227011201783       (P: Bnd)\n",
      "out                               Var x[38]   :   1   ;   213.2136752136752          \n",
      "out                                 Var x[22]   :   0   ;   210.62857142857143       (P: Bnd)\n",
      "out                                 Var x[22]   :   1   ;   213.1381172839506          \n",
      "out                                   Var x[21]   :   0   ;   210.64661762368456       (P: Bnd)\n",
      "out                                   Var x[21]   :   1   ;   213.10449438202247          \n",
      "out                                     Var x[4]   :   0   ;   211.17921306607278       (P: Bnd)\n",
      "out                                     Var x[4]   :   1   ;   212.9994499449945       (P: Bnd)\n",
      "out                             Var x[11]   :   1   ;   211.55288647499484       (P: Bnd)\n",
      "out                         Var x[7]   :   1   ;   213.1205171203341          \n",
      "out                           Var x[9]   :   0   ;   212.9260710527634       (P: Bnd)\n",
      "out                           Var x[9]   :   1   ;   211.86906406441508       (P: Bnd)\n",
      "out                       Var x[37]   :   1   ;   213.38402566769835          \n",
      "out                         Var x[7]   :   0   ;   211.99786351565064       (P: Bnd)\n",
      "out                         Var x[7]   :   1   ;   212.65657352360932       (P: Bnd)\n",
      "out                     Var x[10]   :   1   ;   215.0652611750675          \n",
      "out                       Var x[20]   :   0   ;   212.67697781380423       (P: Bnd)\n",
      "out                       Var x[20]   :   1   ;   214.5680594481127          \n",
      "out                         Var x[40]   :   0   ;   212.47631121754236       (P: Bnd)\n",
      "out                         Var x[40]   :   1   ;   214.40873240890525          \n",
      "out                           Var x[31]   :   0   ;   214.29831898305656          \n",
      "out                             Var x[5]   :   0   ;   212.8268834622369       (P: Bnd)\n",
      "out                             Var x[5]   :   1   ;   214.284611421365          \n",
      "out                               Var x[32]   :   0   ;   211.9615491348014       (P: Bnd)\n",
      "out                               Var x[32]   :   1   ;   213.7275092936803          \n",
      "out                                 Var x[38]   :   0   ;   212.2587337795894       (P: Bnd)\n",
      "out                                 Var x[38]   :   1   ;   213.41426083768675          \n",
      "out                                   Var x[39]   :   0   ;   212.39827013612643       (P: Bnd)\n",
      "out                                   Var x[39]   :   1   ;   213.12754119409374          \n",
      "out                                     Var x[12]   :   0   ;   211.36955082412797       (P: Bnd)\n",
      "out                                     Var x[12]   :   1   ;   213.04070873632475          \n",
      "out                                       Var x[37]   :   0   ;   212.7782438575959       (P: Bnd)\n",
      "out                                       Var x[37]   :   1   ;   210.83343172663044"
     ]
    },
    {
     "name": "stdout",
     "output_type": "stream",
     "text": [
      "       (P: Bnd)\n",
      "out                           Var x[31]   :   1   ;   213.05957292792567          \n",
      "out                             Var x[38]   :   0   ;   211.7664168206995       (P: Bnd)\n",
      "out                             Var x[38]   :   1   ;   212.57980788357813       (P: Bnd)\n",
      "out                   Var x[35]   :   1   ;   213.6581534580085          \n",
      "out                     Var x[38]   :   0   ;   212.8081121700505       (P: Bnd)\n",
      "out                     Var x[38]   :   1   ;   213.2431589001755          \n",
      "out                       Var x[22]   :   0   ;   212.68255682380428       (P: Bnd)\n",
      "out                       Var x[22]   :   1   ;   212.74869267303546       (P: Bnd)\n",
      "out               Var x[30]   :   1   ;   215.27482646063962          \n",
      "out                 Var x[38]   :   0   ;   215.00042907560064          \n",
      "out                   Var x[7]   :   0   ;   214.81702633625042          \n",
      "out                     Var x[9]   :   0   ;   214.69688287081993          \n",
      "out                       Var x[1]   :   0   ;   212.7110669249155       (P: Bnd)\n",
      "out                       Var x[1]   :   1   ;   214.16430320851387          \n",
      "out                         Var x[12]   :   0   ;   212.42712939973686       (P: Bnd)\n",
      "out                         Var x[12]   :   1   ;   213.72815958597062          \n",
      "out                           Var x[21]   :   0   ;   211.05127255194614       (P: Bnd)\n",
      "out                           Var x[21]   :   1   ;   213.38500986193296          \n",
      "out                             Var x[15]   :   0   ;   211.77084539891922       (P: Bnd)\n",
      "out                             Var x[15]   :   1   ;   213.33091937412814          \n",
      "out                               Var x[40]   :   0   ;   212.3974095552654       (P: Bnd)\n",
      "out                               Var x[40]   :   1   ;   213.260295854811          \n",
      "out                                 Var x[14]   :   0   ;   212.14682319353045       (P: Bnd)\n",
      "out                                 Var x[14]   :   1   ;   213.19855278135023          \n",
      "out                                   Var x[19]   :   0   ;   209.2498572593801       (P: Bnd)\n",
      "out                                   Var x[19]   :   1   ;   213.10308156798166          \n",
      "out                                     Var x[4]   :   0   ;   212.51918295099895       (P: Bnd)\n",
      "out                                     Var x[4]   :   1   ;   212.90550983044534       (P: Bnd)\n",
      "out                     Var x[9]   :   1   ;   213.7127324064826          \n",
      "out                       Var x[20]   :   0   ;   212.7007717678259       (P: Bnd)\n",
      "out                       Var x[20]   :   1   ;   213.18975549844362          \n",
      "out                         Var x[35]   :   0   ;   212.35459688601276       (P: Bnd)\n",
      "out                         Var x[35]   :   1   ;   211.70519731449937       (P: Bnd)\n",
      "out                   Var x[7]   :   1   ;   214.27740884874933          \n",
      "out                     Var x[31]   :   0   ;   214.22473069799403          \n",
      "out                       Var x[6]   :   0   ;   212.81389820282325       (P: Bnd)\n",
      "out                       Var x[6]   :   1   ;   214.0568593195734          \n",
      "out                         Var x[19]   :   0   ;   212.9153496524424       (P: Bnd)\n",
      "out                         Var x[19]   :   1   ;   213.95392824894589          \n",
      "out                           Var x[37]   :   0   ;   213.30097449333596          \n",
      "out                             Var x[4]   :   0   ;   213.1830253118174          \n",
      "out                               Var x[33]   :   0   ;   212.8474187380497       (P: Bnd)\n",
      "out                               Var x[33]   :   1   ;   211.49368097981377       (P: Bnd)\n",
      "out                             Var x[4]   :   1   ;   212.92855224678547       (P: Bnd)\n",
      "out                           Var x[37]   :   1   ;   212.96108928957304       (P: Bnd)\n",
      "out                     Var x[31]   :   1   ;   213.79209109962758          \n",
      "out                       Var x[20]   :   0   ;   212.45040618109036       (P: Bnd)\n",
      "out                       Var x[20]   :   1   ;   213.4771843760856          \n",
      "out                         Var x[1]   :   0   ;   211.95194630872484       (P: Bnd)\n",
      "out                         Var x[1]   :   1   ;   213.23917647910235          \n",
      "out                           Var x[4]   :   0   ;   212.8508630642446       (P: Bnd)\n",
      "out                           Var x[4]   :   1   ;   213.16654768713585          \n",
      "out                             Var x[14]   :   0   ;   212.56310784613262       (P: Bnd)\n",
      "out                             Var x[14]   :   1   ;   212.95643313211173       (P: Bnd)\n",
      "out                 Var x[38]   :   1   ;   214.02372189484592          \n",
      "out                   Var x[32]   :   0   ;   212.1963515088595       (P: Bnd)\n",
      "out                   Var x[32]   :   1   ;   213.58859290871501          \n",
      "out                     Var x[6]   :   0   ;   213.08755729793572          \n",
      "out                       Var x[22]   :   0   ;   212.65974329782458       (P: Bnd)\n",
      "out                       Var x[22]   :   1   ;   212.9585989157148       (P: Bnd)\n",
      "out                     Var x[6]   :   1   ;   213.4966610584733          \n",
      "out                       Var x[10]   :   0   ;   212.64116242876685       (P: Bnd)\n",
      "out                       "
     ]
    },
    {
     "name": "stdout",
     "output_type": "stream",
     "text": [
      "Var x[10]   :   1   ;   213.40809356446456          \n",
      "out                         Var x[4]   :   0   ;   213.05141842902432          \n",
      "out                           Var x[22]   :   0   ;   212.76007381676075       (P: Bnd)\n",
      "out                           Var x[22]   :   1   ;   212.72249617655046       (P: Bnd)\n",
      "out                         Var x[4]   :   1   ;   213.15627922465347          \n",
      "out                           Var x[31]   :   0   ;   212.81192107390373       (P: Bnd)\n",
      "out                           Var x[31]   :   1   ;   212.62625819194423       (P: Bnd)\n",
      "out         Var x[29]   :   1   ;   217.29650005604267          \n",
      "out           Var x[22]   :   0   ;   216.49081954263295          \n",
      "out             Var x[7]   :   0   ;   216.22702580899647          \n",
      "out               Var x[31]   :   0   ;   214.90192264050646          \n",
      "out                 Var x[12]   :   0   ;   214.8347320444902          \n",
      "out                   Var x[25]   :   0   ;   213.89812691452696          \n",
      "out                     Var x[30]   :   0   ;   213.14401316243902          \n",
      "out                       Var x[37]   :   0   ;   213.00449519197699          \n",
      "out                         Var x[33]   :   0   ;   212.42067453763002       (P: Bnd)\n",
      "out                         Var x[33]   :   1   ;   212.68533397059488       (P: Bnd)\n",
      "out                       Var x[37]   :   1   ;   212.33141843456778       (P: Bnd)\n",
      "out                     Var x[30]   :   1   ;   212.83173357631094       (P: Bnd)\n",
      "out                   Var x[25]   :   1   ;   214.34662328947527          \n",
      "out                     Var x[37]   :   0   ;   213.60392930997236          \n",
      "out                       Var x[9]   :   0   ;   213.54560666550947          \n",
      "out                         Var x[30]   :   0   ;   213.25342182686572          \n",
      "out                           Var x[33]   :   0   ;   212.0745167616024       (P: Bnd)\n",
      "out                           Var x[33]   :   1   ;   212.51005061049062       (P: Bnd)\n",
      "out                         Var x[30]   :   1   ;   212.7818778763049       (P: Bnd)\n",
      "out                       Var x[9]   :   1   ;   213.3170935718182          \n",
      "out "
     ]
    },
    {
     "name": "stdout",
     "output_type": "stream",
     "text": [
      "                        Var x[15]   :   0   ;   212.48679110970497       (P: Bnd)\n",
      "out                         Var x[15]   :   1   ;   211.46189203654825       (P: Bnd)\n",
      "out                     Var x[37]   :   1   ;   213.79891980578068          \n",
      "out                       Var x[30]   :   0   ;   213.4795067854401          \n",
      "out                         Var x[35]   :   0   ;   212.07162282946655       (P: Bnd)\n",
      "out                         Var x[35]   :   1   ;   211.4919689144       (P: Bnd)\n",
      "out                       Var x[30]   :   1   ;   212.11003973907174       (P: Bnd)\n",
      "out                 Var x[12]   :   1   ;   214.87829014669992          \n",
      "out                   Var x[25]   :   0   ;   214.41461080617097          \n",
      "out                     Var x[39]   :   0   ;   213.61168253667657          \n",
      "out                       Var x[34]   :   0   ;   213.179608097422          \n",
      "out                         Var x[9]   :   0   ;   213.02948778487465          \n",
      "out                           Var x[30]   :   0   ;   213.00638903138554          \n",
      "out                             Var x[37]   :   0   ;   212.44756277695717       (P: Bnd)\n",
      "out                             Var x[37]   :   1   ;   211.88687891944042       (P: Bnd)\n",
      "out                           Var x[30]   :   1   ;   212.18049863309676       (P: Bnd)\n",
      "out                         Var x[9]   :   1   ;   212.6538869167295       (P: Bnd)\n",
      "out                       Var x[34]   :   1   ;   211.5335043230346       (P: Bnd)\n",
      "out                     Var x[39]   :   1   ;   214.37172174596316          \n",
      "out                       Var x[34]   :   0   ;   213.86623721809704          \n",
      "out                         Var x[35]   :   0   ;   213.78301928168418          \n",
      "out                           Var x[11]   :   0   ;   213.76936973297978          \n",
      "out                             Var x[36]   :   0   ;   213.48787714313332          \n",
      "out                               Var x[40]   :   0   ;   212.09631432545203       (P: Bnd)\n",
      "out                               Var x[40]   :   1   ;   213.435713976253          \n",
      "out                                 Var x[9]   :   0   ;   213.01921309495856          \n",
      "out                                   Var x[30]   :   0   ;   212.8904796739471       (P: Bnd)\n",
      "out                                   Var x[30]   :   1   ;   211.55706392180903"
     ]
    },
    {
     "name": "stdout",
     "output_type": "stream",
     "text": [
      "       (P: Bnd)\n",
      "out                                 Var x[9]   :   1   ;   212.8817181339435       (P: Bnd)\n",
      "out                             Var x[36]   :   1   ;   211.97206502309513       (P: Bnd)\n",
      "out                           Var x[11]   :   1   ;   210.93289114319157       (P: Bnd)\n",
      "out                         Var x[35]   :   1   ;   211.71093417800577       (P: Bnd)\n",
      "out                       Var x[34]   :   1   ;   213.80518670865573          \n",
      "out                         "
     ]
    },
    {
     "name": "stdout",
     "output_type": "stream",
     "text": [
      "Var x[40]   :   0   ;   212.78656459144284       (P: Bnd)\n",
      "out                         Var x[40]   :   1   ;   213.3473197044147          \n",
      "out                           Var x[38]   :   0   ;   212.5037474146175       (P: Bnd)\n",
      "out                           Var x[38]   :   1   ;   212.63514972007383       (P: Bnd)\n",
      "out                   Var x[25]   :   1   ;   214.7037023394247          \n",
      "out                     Var x[34]   :   0   ;   214.6096830088676          \n",
      "out                       Var x[10]   :   0   ;   212.3091180361391       (P: Bnd)\n",
      "out                       Var x[10]   :   1   ;   214.58038568891146          \n",
      "out                         Var x[39]   :   0   ;   212.184089698796       (P: Bnd)\n",
      "out                         Var x[39]   :   1   ;   214.46833593852716          \n",
      "out                           Var x[1]   :   0   ;   213.0539549502357          \n",
      "out                             Var x[18]   :   0   ;   212.50710297775976       (P: Bnd)\n",
      "out                             Var x[18]   :   1   ;   211.0374812743992       (P: Bnd)\n",
      "out                           Var x[1]   :   1   ;   214.1207391942452          \n",
      "out                             Var x[9]   :   0   ;   213.72939029952866          \n",
      "out                               Var x[36]   :   0   ;   213.60296296296295          \n",
      "out                                 Var x[4]   :   0   ;   211.52229663508658       (P: Bnd)\n",
      "out                                 Var x[4]   :   1   ;   213.52678936605318          \n",
      "out                                   Var x[37]   :   0   ;   213.44730077120823          \n",
      "out                                     Var x[40]   :   0   ;   210.57894736842104       (P: Bnd)\n",
      "out                                     Var x[40]   :   1   ;   213.11363636363637          \n",
      "out                                       Var x[21]   :   0   ;   211.17840375586854       (P: Bnd)"
     ]
    },
    {
     "name": "stdout",
     "output_type": "stream",
     "text": [
      "\n",
      "out                                       Var x[21]   :   1   ;   213.0467289719626          \n",
      "out                                         Var x[38]   :   0   ;   210.9322033898305       (P: Bnd)\n",
      "out                                         Var x[38]   :   1   ;   212.8109756097561       (P: Bnd)\n",
      "out                                   Var x[37]   :   1   ;   211.2305036284399       (P: Bnd)\n",
      "out                               Var x[36]   :   1   ;   212.1607667118024       (P: Bnd)\n",
      "out                             Var x[9]   :   1   ;   212.99674511302612       (P: Bnd)\n",
      "out                     Var x[34]   :   1   ;   213.33914181794805          \n",
      "out                       Var x[38]   :   0   ;   212.22       (P: Bnd)\n",
      "out                       Var x[38]   :   1   ;   211.99376728583874       (P: Bnd)\n",
      "out               Var x[31]   :   1   ;   214.97940643358723          \n",
      "out                 Var x[12]   :   0   ;   214.69852415937325          \n",
      "out                   Var x[9]   :   0   ;   214.18864691604497          \n",
      "out                     Var x[30]   :   0   ;   212.96700917173092       (P: Bnd)\n",
      "out                     Var x[30]   :   1   ;   213.41294619026417          \n",
      "out                       Var x[2]   :   0   ;   211.05704614189395       (P: Bnd)\n",
      "out                       Var x[2]   :   1   ;   213.0064155271263          \n",
      "out                         Var x[15]   :   0   ;   211.64052018082432       (P: Bnd)\n",
      "out                         Var x[15]   :   1   ;   212.3216090897698       (P: Bnd)\n",
      "out                   Var x[9]   :   1   ;   213.9036707127661          \n",
      "out                     Var x[30]   :   0   ;   212.67995965434605       (P: Bnd)\n",
      "out                     Var x[30]   :   1   ;   213.37299669031162          \n",
      "out                       Var x[25]   :   0   ;   212.8189625887607       (P: Bnd)\n"
     ]
    },
    {
     "name": "stdout",
     "output_type": "stream",
     "text": [
      "out                       Var x[25]   :   1   ;   212.88733098609302       (P: Bnd)\n",
      "out                 Var x[12]   :   1   ;   214.65496454496616          \n",
      "out                   Var x[39]   :   0   ;   213.92070512750476          \n",
      "out                     Var x[11]   :   0   ;   213.70930522035215          \n",
      "out                       Var x[30]   :   0   ;   212.0345161774575       (P: Bnd)\n",
      "out                       Var x[30]   :   1   ;   212.49550782156862       (P: Bnd)\n",
      "out                     Var x[11]   :   1   ;   212.61814811294335       (P: Bnd)\n",
      "out                   Var x[39]   :   1   ;   213.58961149494428          \n",
      "out                     Var x[28]   :   0   ;   212.73379727252103       (P: Bnd)\n",
      "out                     Var x[28]   :   1   ;   213.19244888294088          \n",
      "out                       Var x[9]   :   0   ;   213.08214779409957          \n",
      "out                         Var x[18]   :   0   ;   212.936605189874       (P: Bnd)\n",
      "out                         Var x[18]   :   1   ;   212.2974690645943       (P: Bnd)\n",
      "out                       Var x[9]   :   1   ;   212.58454795489607       (P: Bnd)\n",
      "out             Var x[7]   :   1   ;   216.24349215829295          \n",
      "out               Var x[38]   :   0   ;   215.9793037015045          \n",
      "out                 Var x[35]   :   0   ;   215.23177538506818          \n",
      "out                   Var x[30]   :   0   ;   214.1802367941712          \n",
      "out                     Var x[21]   :   0   ;   212.01090677056484       (P: Bnd)\n",
      "out                     Var x[21]   :   1   ;   213.80124228406996          \n",
      "out                       Var x[9]   :   0   ;   213.66210159019127          \n",
      "out                         Var x[33]   :   0   ;   213.44637495496218          \n",
      "out                           Var x[25]   :   0   ;   212.3476526541884       (P: Bnd)\n",
      "out                           Var x[25]   :   1   ;   213.4263853466265          \n",
      "out                             Var x[12]   :   0   ;   211.22779496243922       (P: Bnd)\n",
      "out                             Var x[12]   :   1   ;   212.83722210750912       (P: Bnd)\n",
      "out                         Var x[33]   :   1   ;   213.12635282727354     "
     ]
    },
    {
     "name": "stdout",
     "output_type": "stream",
     "text": [
      "     \n",
      "out                           Var x[18]   :   0   ;   212.38898501936973       (P: Bnd)\n",
      "out                           Var x[18]   :   1   ;   212.23584233282216       (P: Bnd)\n",
      "out                       Var x[9]   :   1   ;   213.4627106565429          \n",
      "out                         Var x[26]   :   0   ;   212.53850364385107       (P: Bnd)\n",
      "out                         Var x[26]   :   1   ;   213.08585614167586          \n",
      "out                           Var x[18]   :   0   ;   212.47959194538603       (P: Bnd)\n",
      "out                           Var x[18]   :   1   ;   211.77259954181037       (P: Bnd)\n",
      "out                   Var x[30]   :   1   ;   213.48410114574256          \n",
      "out                     Var x[1]   :   0   ;   211.02710189669259       (P: Bnd)\n",
      "out                     Var x[1]   :   1   ;   213.18590261429057          \n",
      "out                       Var x[12]   :   0   ;   212.69625848920953       (P: Bnd)\n",
      "out                       Var x[12]   :   1   ;   212.98738084183265       (P: Bnd)\n",
      "out                 Var x[35]   :   1   ;   215.2542431415317          \n",
      "out                   Var x[30]   :   0   ;   214.55400314667395          \n",
      "out                     Var x[34]   :   0   ;   214.45777309288084          \n",
      "out                       Var x[18]   :   0   ;   214.0959606601779          \n",
      "out                         Var x[11]   :   0   ;   213.85460026878792          \n",
      "out                           Var x[20]   :   0   ;   211.76452599388378       (P: Bnd)\n",
      "out                           Var x[20]   :   1   ;   213.73450843847863          \n",
      "out                             Var x[12]   :   0   ;   211.07341872078013       (P: Bnd)\n",
      "out                             Var x[12]   :   1   ;   213.33997526083684          \n",
      "out                               Var x[39]   :   0   ;   208.97707736389685       (P: Bnd)\n",
      "out                               Var x[39]   :   1   ;   213.28598063822156          \n",
      "out                                 Var x[28]   :   0   ;   209.39000591366056       (P: Bnd)\n",
      "out                                 Var x[28]   :   1   ;   213.171398967498          \n",
      "out                                   Var x[25]   :   0   ;   213.05080990286586          \n",
      "out "
     ]
    },
    {
     "name": "stdout",
     "output_type": "stream",
     "text": [
      "                                    Var x[9]   :   0   ;   212.9275038287447       (P: Bnd)\n",
      "out                                     Var x[9]   :   1   ;   210.98415995845235       (P: Bnd)\n",
      "out                                   Var x[25]   :   1   ;   209.52855143018323       (P: Bnd)\n",
      "out                         Var x[11]   :   1   ;   212.0092839840025       (P: Bnd)\n",
      "out                       Var x[18]   :   1   ;   212.83140111607358       (P: Bnd)\n",
      "out                     Var x[34]   :   1   ;   212.3882456968881       (P: Bnd)\n",
      "out                   Var x[30]   :   1   ;   213.48150038863955          \n",
      "out                     Var x[12]   :   0   ;   212.04685528239966       (P: Bnd)\n",
      "out                     Var x[12]   :   1   ;   212.85682039115628       (P: Bnd)\n",
      "out               Var x[38]   :   1   ;   215.5551424779813          \n",
      "out                 Var x[2]   :   0   ;   213.4666709158814          \n",
      "out                   Var x[30]   :   0   ;   212.33975562191122       (P: Bnd)\n",
      "out                   Var x[30]   :   1   ;   212.87710408963238       (P: Bnd)\n",
      "out                 Var x[2]   :   1   ;   214.8107693264247          \n",
      "out                   Var x[39]   :   0   ;   214.36617367070446          \n",
      "out                     Var x[35]   :   0   ;   214.14705636219088          \n",
      "out                       Var x[9]   :   0   ;   213.7411285631181          \n",
      "out                         Var x[25]   :   0   ;   213.15285076195482          \n",
      "out                           Var x[31]   :   0   ;   213.03654844290656          \n",
      "out                             Var x[18]   :   0   ;   212.94165583008234       (P: Bnd)\n",
      "out                             Var x[18]   :   1   ;   210.93254520166897       (P: Bnd)\n",
      "out                           Var x[31]   :   1   ;   212.73829340667294       (P: Bnd)\n",
      "out                         Var x[25]   :   1   ;   212.02001151993298       (P: Bnd)\n",
      "out                       Var x[9]   :   1   ;   213.5736229033039          \n",
      "out                         Var x[14]   :   0   ;   210.87302980645993       (P: Bnd)\n",
      "out                         Var x[14]   :   1   ;   213.39098466280925          \n",
      "out                           Var x[26]   :   0   ;   211.75995336624973       (P: Bnd)\n",
      "out                           Var x[26]   :   1   ;   213.16932977450412          \n",
      "out                             Var x[4]   :   0   ;   211.71563190290863       (P: Bnd)\n",
      "out                             Var x[4]   :   1   ;   212.91973324530312       (P: Bnd)\n",
      "out                     Var x[35]   :   1   ;   213.73598553345388          \n",
      "out                       Var x[5]   :   0   ;   211.7095137919288       (P: Bnd)\n",
      "out                       Var x[5]   :   1   ;   213.50397175639893          \n",
      "out                         Var x[4]   :   0   ;   212.43821818656124       (P: Bnd)\n",
      "out                         Var x[4]   :   1   ;   213.36698499317873          \n",
      "out                           Var x[13]   :   0   ;   211.04283028747645       (P: Bnd)\n",
      "out                           Var x[13]   :   1   ;   213.26490630323678          \n",
      "out                             Var x[19]   :   0   ;   210.1250259762263       (P: Bnd)\n",
      "out                             Var x[19]   :   1   ;   213.08940852819808          \n",
      "out                               Var x[14]   :   0   ;   211.20313944012983       (P: Bnd)\n",
      "out                               Var x[14]   :   1   ;   212.98533724340177       (P: Bnd)\n",
      "out                   Var x[39]   :   1   ;   214.36582009174447          \n",
      "out                     Var x[10]   :   0   ;   213.78565614743428          \n",
      "out                       Var x[35]   :   0   ;   212.89420216402254       (P: Bnd)\n",
      "out                       Var x[35]   :   1   ;   213.35352506080284          \n",
      "out                         Var x[11]   :   0   ;   213.3451358408562          \n",
      "out                           Var x[18]   :   0   ;   213.32123764920038          \n",
      "out                             Var x[12]   :   0   ;   210.75694138697065       (P: Bnd)\n",
      "out                             Var x[12]   :   1   ;   212.71468461617047       (P: Bnd)\n",
      "out                           Var x[18]   :   1   ;   211.4525533427584"
     ]
    },
    {
     "name": "stdout",
     "output_type": "stream",
     "text": [
      "       (P: Bnd)\n",
      "out                         Var x[11]   :   1   ;   210.85270938403826       (P: Bnd)\n",
      "out                     Var x[10]   :   1   ;   214.0978914253806          \n",
      "out                       Var x[9]   :   0   ;   213.7997015179979          \n",
      "out                         Var x[40]   :   0   ;   212.77047133124506       (P: Bnd)\n",
      "out                         Var x[40]   :   1   ;   213.467483684118          \n",
      "out                           Var x[25]   :   0   ;   213.32334773960446          \n",
      "out                             Var x[32]   :   0   ;   211.12333526643437       (P: Bnd)\n",
      "out                             Var x[32]   :   1   ;   213.19123089199698          \n",
      "out                               Var x[27]   :   0   ;   212.44687350835324       (P: Bnd)\n",
      "out                               Var x[27]   :   1   ;   213.17499019942312          \n",
      "out                                 Var x[8]   :   0   ;   211.83509062026812       (P: Bnd)\n",
      "out                                 Var x[8]   :   1   ;   213.10718417577021          \n",
      "out                                   Var x[12]   :   0   ;   211.90438122653532       (P: Bnd)\n",
      "out                                   Var x[12]   :   1   ;   212.7688556327961       (P: Bnd)\n",
      "out                           Var x[25]   :   1   ;   212.9405525940443       (P: Bnd)\n",
      "out                       Var x[9]   :   1   ;   213.9057355456313          \n",
      "out                         Var x[23]   :   0   ;   212.60888532201423       (P: Bnd)\n",
      "out                         Var x[23]   :   1   ;   213.71897243078786          \n",
      "out                           Var x[27]   :   0   ;   213.48820256345772          \n",
      "out                             Var x[12]   :   0   ;   211.9828939369461       (P: Bnd)\n",
      "out                             Var x[12]   :   1   ;   213.11017431685443          \n",
      "out                               Var x[35]   :   0   ;   212.53147326572943       (P: Bnd)\n",
      "out                               Var x[35]   :   1   ;   210.842502209743       (P: Bnd)\n",
      "out                           Var x[27]   :   1   ;   213.5827276029468          \n",
      "out                             Var x[4]   :   0   ;   212.78320452698773       (P: Bnd)\n",
      "out                             Var x[4]   :   1   ;   213.46190268343864          \n",
      "out                               Var x[35]   :   0   ;   213.33824329422245          \n",
      "out                                 Var x[30]   :   0   ;   212.90789520901401       (P: Bnd)\n",
      "out                                 Var x[30]   :   1   ;   211.12147296658452       (P: Bnd)\n",
      "out                               Var x[35]   :   1   ;   213.1038197819968          \n",
      "out                                 Var x[12]   :   0   ;   211.73932907081107"
     ]
    },
    {
     "name": "stdout",
     "output_type": "stream",
     "text": [
      "       (P: Bnd)\n",
      "out                                 Var x[12]   :   1   ;   212.1020623579294       (P: Bnd)\n",
      "out           Var x[22]   :   1   ;   216.81595994126465          \n",
      "out             Var x[30]   :   0   ;   216.10326398784457          \n",
      "out               Var x[27]   :   0   ;   215.34009650690822          \n",
      "out                 Var x[38]   :   0   ;   214.8293646255916          \n",
      "out                   Var x[9]   :   0   ;   214.37439258643587          \n",
      "out                     Var x[25]   :   0   ;   214.05589332901397          \n",
      "out                       Var x[21]   :   0   ;   211.40712869118823       (P: Bnd)\n",
      "out                       Var x[21]   :   1   ;   213.7858222258847          \n",
      "out                         Var x[11]   :   0   ;   213.7799033445664          \n",
      "out                           Var x[18]   :   0   ;   213.66484005753816          \n",
      "out                             Var x[33]   :   0   ;   213.57175823200498          \n",
      "out                               Var x[20]   :   0   ;   208.50201748486884       (P: Bnd)\n",
      "out                               Var x[20]   :   1   ;   213.56816427358345          \n",
      "out                                 Var x[1]   :   0   ;   209.0355504587156       (P: Bnd)\n",
      "out                                 Var x[1]   :   1   ;   213.40549054905492          \n",
      "out                                   Var x[37]   :   0   ;   213.38359201773835          \n",
      "out                                     Var x[35]   :   0   ;   209.7793074676679       (P: Bnd)\n",
      "out                                     Var x[35]   :   1   ;   213.28165086447294          \n",
      "out                                       Var x[2]   :   0   ;   208.98520670298657       (P: Bnd)\n",
      "out                                       Var x[2]   :   1   ;   213.26294820717132          \n",
      "out                                         Var x[10]   :   0   ;   210.24242424242425       (P: Bnd)\n",
      "out                                         Var x[10]   :   1   ;   213.22727272727275          \n",
      "out                                           Var x[40]   :   0   ;   209.1205479452055       (P: Bnd)\n",
      "out                                           Var x[40]   :   1   ;   213.14042695130087          \n",
      "out                                             Var x[39]   :   0   ;   208.55162328166128       (P: Bnd)\n",
      "out                                             Var x[39]   :   1   ;   213.106775783742          \n",
      "out                                               Var x[4]   :   0   ;   208.99759559450865       (P: Bnd)\n",
      "out                                               Var x[4]   :   1   ;   212.9798761609907       (P: Bnd)\n",
      "out                                   Var x[37]   :   1   ;   210.79081801636363       (P: Bnd)\n",
      "out                             Var x[33]   :   1   ;   213.0560457929095          \n",
      "out                               Var x[35]   :   0   ;   212.0130953047177       (P: Bnd)\n",
      "out                               Var x[35]   :   1   ;   211.46587673207472       (P: Bnd)\n",
      "out                           Var x[18]   :   1   ;   211.76860729266647       (P: Bnd)\n",
      "out                         Var x[11]   :   1   ;   211.71901896401525       (P: Bnd)\n",
      "out                     Var x[25]   :   1   ;   213.75219307905402          \n",
      "out                       Var x[7]   :   0   ;   212.3082109832791       (P: Bnd)\n",
      "out                       Var x[7]   :   1   ;   212.9038437860805       (P: Bnd)\n",
      "out                   Var x[9]   :   1   ;   214.61959654178673          \n",
      "out                     Var x[35]   :   0   ;   213.730178016444          \n",
      "out                       Var x[7]   :   0   ;   212.37878539859224       (P: Bnd)\n",
      "out                       Var x[7]   :   1   ;   212.89459261007528       (P: Bnd)\n",
      "out                     Var x[35]   :   1   ;   213.4801100800227          \n",
      "out                       Var x[4]   :   0   ;   211.87606908571226       (P: Bnd)\n",
      "out "
     ]
    },
    {
     "name": "stdout",
     "output_type": "stream",
     "text": [
      "                      Var x[4]   :   1   ;   213.321392924476          \n",
      "out                         Var x[20]   :   0   ;   211.06624029237094       (P: Bnd)\n",
      "out                         Var x[20]   :   1   ;   212.49289736780747       (P: Bnd)\n",
      "out                 Var x[38]   :   1   ;   214.88414175444797          \n",
      "out                   Var x[35]   :   0   ;   214.1352145142097          \n",
      "out                     Var x[25]   :   0   ;   213.72919408822534          \n",
      "out                       Var x[40]   :   0   ;   212.8655971242178       (P: Bnd)\n",
      "out                       Var x[40]   :   1   ;   213.1837757707379          \n",
      "out                         Var x[33]   :   0   ;   212.59328145080678       (P: Bnd)\n",
      "out                         Var x[33]   :   1   ;   212.34827645446933       (P: Bnd)\n",
      "out                     Var x[25]   :   1   ;   213.87722493848466          \n",
      "out                       Var x[10]   :   0   ;   211.70878843158837       (P: Bnd)\n",
      "out                       Var x[10]   :   1   ;   213.54615606416792          \n",
      "out                         Var x[15]   :   0   ;   212.0742786985881       (P: Bnd)\n",
      "out                         Var x[15]   :   1   ;   213.29435365192472          \n",
      "out                           Var x[39]   :   0   ;   211.36821981725097       (P: Bnd)\n",
      "out                           Var x[39]   :   1   ;   212.68867924528303       (P: Bnd)\n",
      "out                   Var x[35]   :   1   ;   213.80957547443828          \n",
      "out                     Var x[33]   :   0   ;   213.56866360520632          \n",
      "out                       Var x[7]   :   0   ;   213.31665298304566          \n",
      "out                         Var x[36]   :   0   ;   212.62697485781027       (P: Bnd)\n",
      "out                         Var x[36]   :   1   ;   212.70145716448278       (P: Bnd)\n",
      "out                       Var x[7]   :   1   ;   213.4035539333046          \n",
      "out                         Var x[15]   :   0   ;   212.10994004444868       (P: Bnd)\n",
      "out                         Var x[15]   :   1   ;   213.3555134793977          \n",
      "out                           Var x[10]   :   0   ;   212.57360590298777       (P: Bnd)\n",
      "out                           Var x[10]   :   1   ;   212.87746376153166       (P: Bnd)\n",
      "out                     Var x[33]   :   1   ;   212.42174940035392       (P: Bnd)\n",
      "out               "
     ]
    },
    {
     "name": "stdout",
     "output_type": "stream",
     "text": [
      "Var x[27]   :   1   ;   215.784653654758          \n",
      "out                 Var x[38]   :   0   ;   215.33401728237308          \n",
      "out                   Var x[25]   :   0   ;   214.92363662458735          \n",
      "out                     Var x[34]   :   0   ;   214.51371888128654          \n",
      "out                       Var x[39]   :   0   ;   213.77343773614257          \n",
      "out                         Var x[9]   :   0   ;   213.3924419120033          \n",
      "out                           Var x[31]   :   0   ;   212.91651146995028       (P: Bnd)\n",
      "out                           Var x[31]   :   1   ;   212.74893252050833       (P: Bnd)\n",
      "out                         Var x[9]   :   1   ;   212.92415686593944       (P: Bnd)\n",
      "out                       Var x[39]   :   1   ;   214.35833873068185          \n",
      "out                         Var x[20]   :   0   ;   212.4718845622918       (P: Bnd)\n",
      "out                         Var x[20]   :   1   ;   213.93601340550825          \n",
      "out                           Var x[9]   :   0   ;   213.77011182573378          \n",
      "out                             Var x[2]   :   0   ;   213.19103608489297          \n",
      "out                               Var x[36]   :   0   ;   212.81607142857143       (P: Bnd)\n",
      "out                               Var x[36]   :   1   ;   211.82446054630074       (P: Bnd)\n",
      "out                             Var x[2]   :   1   ;   213.58045882294775          \n",
      "out                               Var x[21]   :   0   ;   213.08407748319323          \n",
      "out                                 Var x[36]   :   0   ;   212.46385542168673       (P: Bnd)\n",
      "out                                 Var x[36]   :   1   ;   212.42854572316082       (P: Bnd)\n",
      "out                               Var x[21]   :   1   ;   213.57076173949656          \n",
      "out                                 Var x[32]   :   0   ;   210.92238572398102       (P: Bnd)\n",
      "out                                 Var x[32]   :   1   ;   213.46600484547656          \n",
      "out                                   Var x[35]   :   0   ;   212.73243471276078       (P: Bnd)\n",
      "out                                   Var x[35]   :   1   ;   213.34872763307965          \n",
      "out                                     Var x[10]   :   0   ;   213.0237659963437          \n",
      "out                                       Var x[11]   :   0   ;   212.75736612362618       (P: Bnd)\n",
      "out                                       Var x[11]   :   1   ;   210.685507727311       (P: Bnd)\n",
      "out                                     Var x[10]   :   1   ;   212.85473783592786       (P: Bnd)\n",
      "out                           Var x[9]   :   1   ;   213.83146558478276          \n",
      "out                             Var x[40]   :   0   ;   212.8219192652771       (P: Bnd)\n",
      "out                             Var x[40]   :   1   ;   213.0021154387407          \n",
      "out                               Var x[35]   :   0   ;   212.5036264294592       (P: Bnd)\n",
      "out                               Var x[35]   :   1   ;   212.39739519779545       (P: Bnd)\n",
      "out                     Var x[34]   :   1   ;   214.16059272919944          \n",
      "out                       Var x[33]   :   0   ;   213.7828900847651          \n",
      "out                         Var x[9]   :   0   ;   213.53571378488897          \n",
      "out                           Var x[36]   :   0   ;   213.49679374992587          \n",
      "out                             Var x[40]   :   0   ;   211.10907056345442       (P: Bnd)\n",
      "out                             Var x[40]   :   1   ;   213.1664441002688          \n",
      "out                               Var x[35]   :   0   ;   212.7530320484162       (P: Bnd)\n",
      "out                               Var x[35]   :   1   ;   212.07997852178147       (P: Bnd)\n",
      "out                           Var x[36]   :   1   ;   212.50277214411364       (P: Bnd)\n",
      "out                         Var x[9]   :   1   ;   213.67920534466649          \n",
      "out                           Var x[40]   :   0   ;   211.90819836342075       (P: Bnd)\n",
      "out                           Var x[40]   :   1   ;   213.23984329822693          \n",
      "out                             Var x[15]   :   0   ;   212.54252315808438       (P: Bnd)\n",
      "out                             Var x[15]   :   1   ;   212.57307243997397       (P: Bnd)\n",
      "out                       Var x[33]   :   1   ;   213.94628039721138          \n",
      "out                         Var x[9]   :   0   ;   213.3613993798785          \n",
      "out                           Var x[10]   :   0   ;   212.28522101591892       (P: Bnd)\n",
      "out                           Var x[10]   :   1   ;   213.01923825651917          \n",
      "out                             Var x[2]   :   0   ;   210.9385011260516       (P: Bnd)\n",
      "out                             Var x[2]   :   1   ;   212.12203142151762       (P: Bnd)\n",
      "out                         Var x[9]   :   1   ;   213.28888984737603          \n",
      "out                           Var x[4]   :   0   ;   212.01616481647793       (P: Bnd)\n",
      "out                           Var x[4]   :   1   ;   212.7872311204632       (P: Bnd)\n",
      "out                   Var x[25]   :   1   ;   215.14110369496507          \n",
      "out                     Var x[9]   :   0   ;   214.79486775236916          \n",
      "out                       Var x[10]   :   0   ;   213.73347539036578          \n",
      "out                         Var x[37]   :   0   ;   213.1688768809336          \n",
      "out                           Var x[7]   :   0   ;   212.98625641753614       (P: Bnd)\n",
      "out                           Var x[7]   :   1   ;   212.65582202379488       (P: Bnd)\n",
      "out                         Var x[37]   :   1   ;   212.463253699443       (P: Bnd)\n",
      "out                       Var x[10]   :   1   ;   214.41943510808835          \n",
      "out                         Var x[34]   :   0   ;   214.32290991992022          \n",
      "out                           Var x[35]   :   0   ;   214.07631409945017          \n",
      "out                             Var x[37]   :   0   ;   213.81755059171098          \n",
      "out                               Var x[39]   :   0   ;   211.5033472803347       (P: Bnd)\n",
      "out                               Var x[39]   :   1   ;   213.6893544488989          \n",
      "out                                 Var x[5]   :   0   ;   211.76152931606282       (P: Bnd)\n",
      "out                                 Var x[5]   :   1   ;   213.67434956740524"
     ]
    },
    {
     "name": "stdout",
     "output_type": "stream",
     "text": [
      "          \n",
      "out                                   Var x[40]   :   0   ;   212.1004243732783       (P: Bnd)\n",
      "out                                   Var x[40]   :   1   ;   213.5984910412478          \n",
      "out                                     Var x[13]   :   0   ;   212.38225289785674       (P: Bnd)\n",
      "out                                     Var x[13]   :   1   ;   213.43948852416017          \n",
      "out                                       Var x[31]   :   0   ;   213.3315667609982          \n",
      "out                                         Var x[20]   :   0   ;   210.74591390423575       (P: Bnd)\n",
      "out                                         Var x[20]   :   1   ;   212.93470588235292       (P: Bnd)\n",
      "out                                       Var x[31]   :   1   ;   212.29299693040954       (P: Bnd)\n",
      "out                             Var x[37]   :   1   ;   211.94634936196584       (P: Bnd)\n",
      "out                           Var x[35]   :   1   ;   213.24280274337264          \n",
      "out                             Var x[20]   :   0   ;   212.40863165489628       (P: Bnd)\n",
      "out                             Var x[20]   :   1   ;   212.0409878044227       (P: Bnd)\n",
      "out                         Var x[34]   :   1   ;   213.5516092905044          \n",
      "out                           Var x[15]   :   0   ;   212.30897423728578       (P: Bnd)\n",
      "out                           Var x[15]   :   1   ;   212.22242985310314       (P: Bnd)\n",
      "out                     Var x[9]   :   1   ;   214.5164814592911          \n",
      "out                       Var x[40]   :   0   ;   211.74343434343433       (P: Bnd)\n",
      "out                       Var x[40]   :   1   ;   214.20825465887623          \n",
      "out                         Var x[34]   :   0   ;   213.85494265932502          \n",
      "out                           Var x[26]   :   0   ;   213.04811768893813          \n",
      "out                             Var x[7]   :   0   ;   212.3257611286982       (P: Bnd)\n",
      "out                             Var x[7]   :   1   ;   212.915631315647       (P: Bnd)\n",
      "out                           Var x[26]   :   1   ;   213.2109242814645          \n",
      "out                             Var x[4]   :   0   ;   211.23449126157925       (P: Bnd)\n",
      "out                             Var x[4]   :   1   ;   212.93315789704775       (P: Bnd)\n",
      "out                         Var x[34]   :   1   ;   213.1928689375884          \n",
      "out                           Var x[15]   :   0   ;   212.37417513758888       (P: Bnd)\n",
      "out                           Var x[15]   :   1   ;   212.07100998190126       (P: Bnd)\n",
      "out                 Var x[38]   :   1   ;   215.4207165785647          \n",
      "out                   Var x[15]   :   0   ;   213.9373181061054          \n",
      "out                     Var x[9]   :   0   ;   213.48978495009385          \n",
      "out                       Var x[2]   :   0   ;   212.6087377301728       (P: Bnd)\n",
      "out                       Var x[2]   :   1   ;   213.42849292428832          \n",
      "out                         Var x[37]   :   0   ;   213.1206202038111          \n",
      "out                           Var x[39]   :   0   ;   212.80179622732703       (P: Bnd)\n",
      "out                           Var x[39]   :   1   ;   212.9374522340658       (P: Bnd)\n",
      "out                         Var x[37]   :   1   ;   212.31182077393504       (P: Bnd)\n",
      "out                     Var x[9]   :   1   ;   213.6680927806353          \n",
      "out                       Var x[40]   :   0   ;   212.17294995999407       (P: Bnd)\n",
      "out                       Var x[40]   :   1   ;   212.9156033399778       (P: Bnd)\n",
      "out                   Var x[15]   :   1   ;   215.37508990026538          \n",
      "out                     Var x[33]   :   0   ;   214.6714261937507          \n",
      "out                       Var x[4]   :   0   ;   213.84049436931315          \n",
      "out                         Var x[39]   :   0   ;   212.9865414572926       (P: Bnd)\n",
      "out                         Var x[39]   :   1   ;   213.27089917909856          \n",
      "out                           Var x[35]   :   0   ;   211.81969840892899       (P: Bnd)\n",
      "out                           Var x[35]   :   1   ;   212.64090658864876       (P: Bnd)\n",
      "out                       Var x[4]   :   1   ;   214.56937563045153          \n",
      "out                         Var x[25]   :   0   ;   213.67254042018143          \n",
      "out                           Var x[40]   :   0   ;   213.2205349559192          \n",
      "out                             Var x[7]   :   0   ;   212.93235885886327       (P: Bnd)\n",
      "out                             Var x[7]   :   1   ;   212.29198581574022       (P: Bnd)\n",
      "out                           Var x[40]   :   1   ;   213.17123758436995          \n",
      "out                             Var x[35]   :   0   ;   212.19726046691784       (P: Bnd)\n",
      "out                             Var x[35]   :   1   ;   212.898048314797       (P: Bnd)\n",
      "out                         Var x[25]   :   1   ;   214.3680840263949          \n",
      "out                           Var x[40]   :   0   ;   213.20488299023057          \n",
      "out                             Var x[36]   :   0   ;   213.0696725954458          \n",
      "out                               Var x[13]   :   0   ;   212.77137479198603       (P: Bnd)\n",
      "out                               Var x[13]   :   1   ;   212.76570203644158       (P: Bnd)\n",
      "out                             Var x[36]   :   1   ;   209.86347298286336       (P: Bnd)\n",
      "out                           Var x[40]   :   1   ;   213.7667647392637          \n",
      "out                             Var x[39]   :   0   ;   213.00085461657295          \n",
      "out                               Var x[19]   :   0   ;   212.0448447533479       (P: Bnd)"
     ]
    },
    {
     "name": "stdout",
     "output_type": "stream",
     "text": [
      "\n",
      "out                               Var x[19]   :   1   ;   212.69688476015057       (P: Bnd)\n",
      "out                             Var x[39]   :   1   ;   213.33165716297358          \n",
      "out                               Var x[36]   :   0   ;   213.2326496483203          \n",
      "out                                 Var x[14]   :   0   ;   211.48495429334923       (P: Bnd)\n",
      "out                                 Var x[14]   :   1   ;   213.0960171852254          \n",
      "out                                   Var x[35]   :   0   ;   212.9335605555284       (P: Bnd)\n",
      "out                                   Var x[35]   :   1   ;   212.1822665127587       (P: Bnd)\n",
      "out                               Var x[36]   :   1   ;   212.17411541851067       (P: Bnd)\n",
      "out                     Var x[33]   :   1   ;   214.37065244754427          \n",
      "out                       Var x[39]   :   0   ;   213.5571390914749          \n",
      "out                         Var x[25]   :   0   ;   213.33343836140287          \n",
      "out                           Var x[7]   :   0   ;   213.0431600309123          \n",
      "out                             Var x[40]   :   0   ;   211.7770692620278       (P: Bnd)\n",
      "out                             Var x[40]   :   1   ;   212.3260148433978       (P: Bnd)\n",
      "out                           Var x[7]   :   1   ;   212.45722432160608       (P: Bnd)\n",
      "out                         Var x[25]   :   1   ;   212.69916199855552       (P: Bnd)\n",
      "out                       Var x[39]   :   1   ;   214.3465164675292          \n",
      "out                         Var x[25]   :   0   ;   213.8167130892448          \n",
      "out                           Var x[35]   :   0   ;   213.22307773233567          \n",
      "out                             Var x[9]   :   0   ;   213.05070869600644          \n",
      "out                               Var x[11]   :   0   ;   212.743728940362       (P: Bnd)\n",
      "out                               Var x[11]   :   1   ;   211.67824880166177       (P: Bnd)\n",
      "out                             Var x[9]   :   1   ;   213.05464933774255          \n",
      "out                               Var x[4]   :   0   ;   211.56221223415915       (P: Bnd)\n",
      "out                               Var x[4]   :   1   ;   212.54241639291462       (P: Bnd)\n",
      "out                           Var x[35]   :   1   ;   213.16197762031314          \n",
      "out                             Var x[4]   :   0   ;   212.31859398968982       (P: Bnd)\n",
      "out                             Var x[4]   :   1   ;   212.59742320255305"
     ]
    },
    {
     "name": "stdout",
     "output_type": "stream",
     "text": [
      "       (P: Bnd)\n",
      "out                         Var x[25]   :   1   ;   213.84707889700434          \n",
      "out                           Var x[26]   :   0   ;   212.549579392872       (P: Bnd)\n",
      "out                           Var x[26]   :   1   ;   213.5252214739797          \n",
      "out                             Var x[40]   :   0   ;   213.1701554230561          \n",
      "out                               Var x[5]   :   0   ;   211.63533944499693       (P: Bnd)\n",
      "out                               Var x[5]   :   1   ;   213.0274211406629          \n",
      "out                                 Var x[4]   :   0   ;   211.9471469074215       (P: Bnd)\n",
      "out                                 Var x[4]   :   1   ;   212.79725129686005       (P: Bnd)\n",
      "out                             Var x[40]   :   1   ;   212.5649237929436       (P: Bnd)\n",
      "out             Var x[30]   :   1   ;   215.2942528050405          \n",
      "out               Var x[38]   :   0   ;   215.08369817537346          \n",
      "out                 Var x[1]   :   0   ;   213.9596174847648          \n",
      "out                   Var x[2]   :   0   ;   212.36998118971496       (P: Bnd)\n",
      "out                   Var x[2]   :   1   ;   213.3787064769305          \n",
      "out                     Var x[27]   :   0   ;   212.57070134537483       (P: Bnd)\n",
      "out                     Var x[27]   :   1   ;   213.3278835718175          \n",
      "out                       Var x[9]   :   0   ;   213.26982469935868          \n",
      "out                         Var x[36]   :   0   ;   213.0492297430767          \n",
      "out                           Var x[40]   :   0   ;   211.44040298312177       (P: Bnd)\n",
      "out                           Var x[40]   :   1   ;   212.97196128785964       (P: Bnd)\n",
      "out                         Var x[36]   :   1   ;   212.51967422900904       (P: Bnd)\n",
      "out                       Var x[9]   :   1   ;   212.39062795640143       (P: Bnd)\n",
      "out                 Var x[1]   :   1   ;   214.54984608828863          \n",
      "out                   Var x[7]   :   0   ;   214.0561567520874          \n",
      "out                     Var x[12]   :   0   ;   213.09572544864233          \n",
      "out                       Var x[15]   :   0   ;   212.19366601990424       (P: Bnd)\n",
      "out                       Var x[15]   :   1   ;   212.64877731176082       (P: Bnd)\n",
      "out                     Var x[12]   :   1   ;   213.33217010549333          \n",
      "out                       Var x[28]   :   0   ;   212.22251991076558       (P: Bnd)\n",
      "out                       Var x[28]   :   1   ;   213.16843765342318          \n",
      "out                         Var x[25]   :   0   ;   213.13787824646522          \n",
      "out                           Var x[40]   :   0   ;   212.65375173288496       (P: Bnd)\n",
      "out                           Var x[40]   :   1   ;   212.91588081122816       (P: Bnd)\n",
      "out                         Var x[25]   :   1   ;   212.98888235273753       (P: Bnd)\n",
      "out                   Var x[7]   :   1   ;   214.14394745301132          \n",
      "out                     Var x[27]   :   0   ;   213.8828728201537          \n",
      "out                       Var x[12]   :   0   ;   212.20287332674354       (P: Bnd)\n",
      "out                       Var x[12]   :   1   ;   213.3916276532253          \n",
      "out                         Var x[9]   :   0   ;   212.87796301389716       (P: Bnd)\n",
      "out                         Var x[9]   :   1   ;   213.19141717096693          \n",
      "out                           Var x[14]   :   0   ;   211.90055191086117       (P: Bnd)\n",
      "out                           Var x[14]   :   1   ;   213.04423205660655          \n",
      "out                             Var x[35]   :   0   ;   212.81869289903435       (P: Bnd)\n",
      "out                             Var x[35]   :   1   ;   211.4142491984843       (P: Bnd)\n",
      "out                     Var x[27]   :   1   ;   213.7130245636228          \n",
      "out                       Var x[11]   :   0   ;   213.6198941774759          \n",
      "out                         Var x[32]   :   0   ;   211.5885641735256"
     ]
    },
    {
     "name": "stdout",
     "output_type": "stream",
     "text": [
      "       (P: Bnd)\n",
      "out                         Var x[32]   :   1   ;   213.50384196921542          \n",
      "out                           Var x[2]   :   0   ;   211.85560146830542       (P: Bnd)\n",
      "out                           Var x[2]   :   1   ;   213.2009685121233          \n",
      "out                             Var x[31]   :   0   ;   212.8597670959232       (P: Bnd)\n",
      "out                             Var x[31]   :   1   ;   212.55659211246189       (P: Bnd)\n",
      "out                       Var x[11]   :   1   ;   212.4901412818752       (P: Bnd)\n",
      "out               Var x[38]   :   1   ;   214.47209115475994          \n",
      "out                 Var x[36]   :   0   ;   214.20329809599428          \n",
      "out                   Var x[7]   :   0   ;   214.1588221706687          \n",
      "out                     Var x[12]   :   0   ;   213.1417675140183          \n",
      "out                       Var x[31]   :   0   ;   212.90704468316287       (P: Bnd)\n",
      "out                       Var x[31]   :   1   ;   213.07006627378846          \n",
      "out                         Var x[4]   :   0   ;   212.4154123663986       (P: Bnd)\n",
      "out                         Var x[4]   :   1   ;   212.75771995423307       (P: Bnd)\n",
      "out                     Var x[12]   :   1   ;   213.88427105361936          \n",
      "out                       Var x[4]   :   0   ;   213.45058120363862          \n",
      "out                         Var x[2]   :   0   ;   211.69069176480818       (P: Bnd)\n",
      "out                         Var x[2]   :   1   ;   212.85393892481872       (P: Bnd)\n",
      "out                       Var x[4]   :   1   ;   213.6558289233309          \n",
      "out                         Var x[39]   :   0   ;   213.23692377039654          \n",
      "out                           Var x[40]   :   0   ;   212.6690805001404       (P: Bnd)\n",
      "out                           Var x[40]   :   1   ;   212.67879736564578       (P: Bnd)\n",
      "out                         Var x[39]   :   1   ;   213.36469009573466          \n",
      "out                           Var x[40]   :   0   ;   212.7364279855394       (P: Bnd)\n",
      "out                           Var x[40]   :   1   ;   212.7954034523018       (P: Bnd)\n",
      "out                   Var x[7]   :   1   ;   213.62319170607236          \n",
      "out                     Var x[40]   :   0   ;   213.09231558615897          \n",
      "out                       Var x[27]   :   0   ;   211.5515761121165       (P: Bnd)\n",
      "out                       Var x[27]   :   1   ;   212.95327922790085       (P: Bnd)\n",
      "out                     Var x[40]   :   1   ;   213.13468764650375          \n",
      "out                       Var x[4]   :   0   ;   212.09325171484727       (P: Bnd)\n",
      "out                       Var x[4]   :   1   ;   212.5444588414117       (P: Bnd)\n",
      "out                 Var x[36]   :   1   ;   214.0841462683943          \n",
      "out                   Var x[39]   :   0   ;   213.5185831356121          \n",
      "out                     Var x[4]   :   0   ;   212.87650228967215       (P: Bnd)\n",
      "out                     Var x[4]   :   1   ;   213.28621369345444          \n",
      "out                       Var x[31]   :   0   ;   213.02099202342242          \n",
      "out                         Var x[37]   :   0   ;   212.67812578579301       (P: Bnd)\n",
      "out                         Var x[37]   :   1   ;   210.8223806079947       (P: Bnd)\n",
      "out                       Var x[31]   :   1   ;   212.408417876746       (P: Bnd)\n",
      "out                   Var x[39]   :   1   ;   213.55890528974558          \n",
      "out                     Var x[2]   :   0   ;   212.82910050919727       (P: Bnd)\n",
      "out                     Var x[2]   :   1   ;   212.7148775747333       (P: Bnd)\n",
      "out       Var x[16]   :   1   ;   217.48189075057604          \n",
      "out         Var x[28]   :   0   ;   216.49560910374555          \n",
      "out           Var x[31]   :   0   ;   216.33656224891124          \n",
      "out             Var x[37]   :   0   ;   216.20465478136182          \n",
      "out               Var x[36]   :   0   ;   215.8633695940749          \n",
      "out                 Var x[30]   :   0   ;   215.43765011556064          \n",
      "out                   Var x[9]   :   0   ;   215.08563154311761          \n",
      "out                     Var x[2]   :   0   ;   213.1793757064603          \n",
      "out                       Var x[4]   :   0   ;   213.08364305470025          \n",
      "out                         Var x[33]   :   0   ;   212.63809082483783       (P: Bnd)\n",
      "out                         Var x[33]   :   1   ;   212.9610196483753       (P: Bnd)\n"
     ]
    },
    {
     "name": "stderr",
     "output_type": "stream",
     "text": [
      "Excessive output truncated after 524352 bytes."
     ]
    },
    {
     "name": "stdout",
     "output_type": "stream",
     "text": [
      "out                       Var x[4]   :   1   ;   213.08041627246925          \n",
      "out                         Var x[29]   :   0   ;   212.96589861751153       (P: Bnd)\n",
      "out                         Var x[29]   :   1   ;   212.7783472133248       (P: Bnd)\n",
      "out                     Var x[2]   :   1   ;   214.92898696088264          \n",
      "out                       Var x[10]   :   0   ;   213.36093160151          \n",
      "out                         Var x[22]   :   0   ;   213.23404770785095          \n",
      "out                           Var x[25]   :   0   ;   212.59774986258236       (P: Bnd)\n",
      "out                           Var x[25]   :   1   ;   213.14023891181847          \n",
      "out                             Var x[38]   :   0   ;   211.9769450101833       (P: Bnd)\n",
      "out                             Var x[38]   :   1   ;   212.46435719784452       (P: Bnd)\n",
      "out                         Var x[22]   :   1   ;   212.5487887109825       (P: Bnd)\n",
      "out                       Var x[10]   :   1   ;   214.91404526580982          \n",
      "out                         Var x[25]   :   0   ;   214.10746074730702          \n",
      "out                           Var x[35]   :   0   ;   214.05150726703238          \n",
      "out                             Var x[4]   :   0   ;   212.53659964068726       (P: Bnd)\n",
      "out                             Var x[4]   :   1   ;   214.03889032927148          \n",
      "out                               Var x[11]   :   0   ;   212.42618113777843       (P: Bnd)\n",
      "out                               Var x[11]   :   1   ;   213.92823853107978          \n",
      "out                                 Var x[33]   :   0   ;   213.86926605504587          \n",
      "out                                   Var x[27]   :   0   ;   211.21518987341773       (P: Bnd)\n",
      "out                                   Var x[27]   :   1   ;   213.71041055718476          \n",
      "out                                     Var x[15]   :   0   ;   210.7080136958566       (P: Bnd)\n",
      "out                                     Var x[15]   :   1   ;   213.7091940056703          \n",
      "out                                       Var x[40]   :   0   ;   209.3125       (P: Bnd)\n",
      "out                                       Var x[40]   :   1   ;   213.64285714285714          \n",
      "out                                         Var x[14]   :   0   ;   210.58600174978127       (P: Bnd)\n",
      "out                                         Var x[14]   :   1   ;   213.49869791666666          \n",
      "out                                           Var x[19]   :   0   ;   211.2322852188738       (P: Bnd)\n",
      "out                                           Var x[19]   :   1   ;   213.42033678756476          \n",
      "out                                             Var x[29]   :   0   ;   211.30769230769232       (P: Bnd)\n",
      "out                                             Var x[29]   :   1   ;   213.18306636155606          \n",
      "out                                               Var x[3]   :   0   ;   208.75376050740672       (P: Bnd)\n",
      "out                                               Var x[3]   :   1   ;   212.95161290322582       (P: Bnd)\n",
      "out                                 Var x[33]   :   1   ;   213.11491803363944          \n",
      "out                                   Var x[29]   :   0   ;   212.8465553292702       (P: Bnd)\n",
      "out                                   Var x[29]   :   1   ;   212.22679453342437       (P: Bnd)\n",
      "out                           Var x[35]   :   1   ;   213.19072345250783          \n",
      "out                             Var x[29]   :   0   ;   213.11545069293325          \n",
      "out                               Var x[22]   :   0   ;   212.9884281581485       (P: Bnd)\n",
      "out                               Var x[22]   :   1   ;   212.1784441415518       (P: Bnd)\n",
      "out                             Var x[29]   :   1   ;   212.8130981263961       (P: Bnd)\n",
      "out                         Var x[25]   :   1   ;   214.58126795449414          \n",
      "out "
     ]
    }
   ],
   "source": [
    "include(\"lab2TP-BnB-P1.jl\");   # Código base para ejercicio 1 del trabajo presencial.\n",
    "dirInst = \"dirTP1\";            # Directorio con el archivo de instancias para el ejercicio 1.\n",
    "\n",
    "function find_branching_variable(sol::Array{Float64,1}, current_node::BBNode)\n",
    "  # Función que determina el índice s de la variable en la cual bifurcar.\n",
    "  # Solo se llama cuando sol, una solución factible, es no integral.  \n",
    "  #\n",
    "  # n_vars = length(sol)\n",
    "  optimum_ind = 0\n",
    "  optimum_dif = -1\n",
    "  for (s, v) in enumerate(sol)\n",
    "    dif = min(v, 1-v)\n",
    "    if optimum_dif ≤ dif && ( v > integer_precision ) && ( v < 1 - integer_precision ) && ! is_variable_branched_on(current_node, s)\n",
    "      optimum_ind = s\n",
    "      optimum_dif = dif\n",
    "    end\n",
    "  end\n",
    "\n",
    "  return optimum_ind    # Retorna índice de la variable más fraccional.\n",
    "end\n",
    "\n",
    "mdif1 = [];\n",
    "for fn in readdir(dirInst)\n",
    "  W = readdlm(joinpath(dirInst,fn), ',', Int64, '\\n')\n",
    "\n",
    "  println( \"out \", repeat('=', 60) );\n",
    "  println( \"out Instancia \", fn );\n",
    "  println( \"out \", repeat('=', 60) );\n",
    "  status = bnb()\n",
    "  print(status)\n",
    "\n",
    "  println(\"out tree up/down bounds \", status.upper_bound, \"/\", status.lower_bound )\n",
    "\n",
    "  # Guarda estadísticas para análisis posterior.\n",
    "  push!(mdif1, [profundidad(status.root), nodos(status.root)]);\n",
    "    \n",
    "  # Para evitar mensajes de error por generar salidas muy grandes.\n",
    "  flush(stdout) \n",
    "  if isdefined(Main, :IJulia)\n",
    "    Main.IJulia.stdio_bytes[] = 0\n",
    "  end\n",
    "end\n",
    "\n",
    "# Imprime características de los árboles BnB generados para cada instancia.\n",
    "println( \"\" ); println( \"RESUMEN:\")\n",
    "println( \"Instancia: profunidad / nodos\" );\n",
    "for i in 1:size(mdif1,1)\n",
    "  print( \"        \", i, \": \")\n",
    "  prof2, nodos2 = mdif1[i];\n",
    "  println( \" mdif = \", prof2, \" / \", nodos2 ) \n",
    "end"
   ]
  },
  {
   "cell_type": "markdown",
   "metadata": {},
   "source": [
    "Para comparar/resumir el efecto de sus modificaciones a la función `find_branching_variable()`, ejecute la siguiente celda:"
   ]
  },
  {
   "cell_type": "code",
   "execution_count": null,
   "metadata": {},
   "outputs": [],
   "source": [
    "println( \"RESUMEN COMPARATIVO:\")\n",
    "println( \"Instancia: profunidad / nodos  |  profundidad / nodos\" );\n",
    "\n",
    "for i in 1:size(orgn1,1)\n",
    "  print( \"        \", i, \": \")\n",
    "  prof1, nodos1 = orgn1[i];\n",
    "  prof2, nodos2 = mdif1[i];\n",
    "  println( \" orgn = \", prof1, \" / \", nodos1, \"   |   mdif = \", prof2, \" / \", nodos2 ) \n",
    "end"
   ]
  },
  {
   "cell_type": "markdown",
   "metadata": {},
   "source": [
    "## Ejercico 2: Eliminación de simetrías\n",
    "\n",
    "Un problema frecuente que se presenta al usar la técnica de BnB es que el problema a resolver presenta muchas simetrías, lo que genera muchísimas repeticiones (módulo permutación de variables) del mismo nodo en el árbol de BnB. Esto no solo ocupa espacio de memoria, sino que fuerza a resolver muchas veces el mismo problema (módulo permutación de variables).\n",
    "\n",
    "Para esta parte se proveen instancias de $(PCK)$ en que la matriz $A$ y el vector $c$ tienen columnas/coordenadas repetidas (por simplicidad, las columnas/coordenadas repetidas son contiguas). Suponiendo que $J_1,...,J_k$ es una partición de $[n]$, que $c_j$ no depende de $j\\in J_i$ y que $A_{\\star,j}$ tampoco depende de $j\\in J_i$, cualquiera sea $i\\in [k]$, es evidente que cualquier $x$ solución factible de $(PCK)$ da lugar (permutando los índices en $J_i$ para $i\\in [k]$) a $|J_1|!\\cdot...|J_k|!$ soluciones factibles equivalentes.\n",
    "\n",
    "Ejecute a continuación la siguiente celda y observe el gran número de nodos del árbol BnB que se genera en cada instancia."
   ]
  },
  {
   "cell_type": "code",
   "execution_count": 7,
   "metadata": {},
   "outputs": [],
   "source": [
    "include(\"lab2TP-BnB-P2.jl\");   # Código base para ejercicio 2 del trabajo presencial.\n",
    "dirInst = \"dirTP2\";            # Directorio con el archivo de instancias para el ejercicio 2.\n",
    "\n",
    "function get_lp()\n",
    "  # Función que crea el modelo a resolver.\n",
    "  #\n",
    "  mdl = solver();\n",
    "\n",
    "  n = size(W,2)-1;  m = size(W,1)-1;\n",
    "  A = W[1:m,1:n];   b = W[1:m,n+1];  c = W[m+1,1:n];\n",
    "\n",
    "  # Crear modelo\n",
    "  @variable(mdl, 1 >= x[1:n] >= 0);\n",
    "  @constraint(mdl, [i in 1:m], sum( x[j]*A[i,j] for j in 1:n ) <= b[i]);\n",
    "  @objective(mdl, Max, sum(x .* c) );\n",
    "  \n",
    "  return mdl, all_variables(mdl)\n",
    "end\n",
    "\n",
    "orgn2 = [];\n",
    "for fn in readdir(dirInst)\n",
    "  W = readdlm(joinpath(dirInst,fn), ',', Int64, '\\n')\n",
    "\n",
    "  println( \"out \", repeat('=', 60) );\n",
    "  println( \"out Instancia \", fn );\n",
    "  println( \"out \", repeat('=', 60) );\n",
    "  status = bnb()\n",
    "  print(status)\n",
    "\n",
    "  println(\"out tree up/down bounds \", status.upper_bound, \"/\", status.lower_bound )\n",
    "\n",
    "  # Guarda estadísticas para análisis posterior.\n",
    "  push!(orgn2, [profundidad(status.root), nodos(status.root)]);\n",
    "    \n",
    "  # Para evitar mensajes de error por generar salidas muy grandes.\n",
    "  flush(stdout) \n",
    "  if isdefined(Main, :IJulia)\n",
    "    Main.IJulia.stdio_bytes[] = 0\n",
    "  end\n",
    "end\n",
    "\n",
    "# Imprime características de los árboles BnB generados para cada instancia.\n",
    "println( \"\" ); println( \"RESUMEN:\")\n",
    "println( \"Instancia: profunidad / nodos\" );\n",
    "for i in 1:size(orgn2,1)\n",
    "  print( \"        \", i, \": \")\n",
    "  prof1, nodos1 = orgn2[i];\n",
    "  println( \" orgn = \", prof1, \" / \", nodos1 ) \n",
    "end"
   ]
  },
  {
   "cell_type": "markdown",
   "metadata": {},
   "source": [
    "2a) Una forma de abordar el problema de las simetrías de una formulación es encontrar otra formulación del problema pero con menos simetrías. Una segunda forma, es agregar restricciones a la formulación para “romper” la simetría. En la siguiente celda, proponga (justifique) qué restricciones agregarle a la formulación $(PCK)$ para reducir lo más posible la cantidad de soluciones factibles equivalentes. "
   ]
  },
  {
   "attachments": {},
   "cell_type": "markdown",
   "metadata": {},
   "source": [
    "<div class=\"alert alert-block alert-warning\">\n",
    "Respuesta Ejercicio 2a:\n",
    "  \n",
    "</div>"
   ]
  },
  {
   "cell_type": "markdown",
   "metadata": {},
   "source": [
    "2b) Implemente su propuesta modificando el código de la función `get_lp()` en la siguiente celda. Posteriormente, ejecute la celda."
   ]
  },
  {
   "cell_type": "code",
   "execution_count": 5,
   "metadata": {},
   "outputs": [],
   "source": [
    "include(\"lab2TP-BnB-P2.jl\");   # Código base para ejercicio 2 del trabajo presencial.\n",
    "dirInst = \"dirTP2\";            # Directorio con el archivo de instancias para el ejercicio\n",
    "\n",
    "function get_lp()\n",
    "  # Función que crea el modelo a resolver.\n",
    "  # \n",
    "  mdl = solver();\n",
    "\n",
    "  n = size(W,2)-1;  m = size(W,1)-1;\n",
    "  A = W[1:m,1:n];   b = W[1:m,n+1];  c = W[m+1,1:n];\n",
    "\n",
    "  # Crear modelo\n",
    "  @variable(mdl, 1 >= x[1:n] >= 0);\n",
    "  @constraint(mdl, [i in 1:m], sum( x[j]*A[i,j] for j in 1:n ) <= b[i]);\n",
    "  @objective(mdl, Max, sum(x .* c) );\n",
    "\n",
    "  # Begin: Restricciones para romper simetrías\n",
    "  #  \n",
    "  \n",
    "  # Detección de simetrías:\n",
    "  for i in 1:length(c)-1\n",
    "    if A[1:end, i] == A[1:end, i+1] && c[i] == c[i+1]\n",
    "      @constraint(mdl, x[i+1] ≥ x[i])\n",
    "    end\n",
    "  end\n",
    "  \n",
    "  # End: Restricciones para romper simetrías\n",
    "  \n",
    "  return mdl, all_variables(mdl)\n",
    "end\n",
    "\n",
    "mdif2 = [];\n",
    "for fn in readdir(dirInst)\n",
    "  W = readdlm(joinpath(dirInst,fn), ',', Int64, '\\n')\n",
    "\n",
    "  println( \"out \", repeat('=', 60) );\n",
    "  println( \"out Instancia \", fn );\n",
    "  println( \"out \", repeat('=', 60) );\n",
    "  status = bnb()\n",
    "  print(status)\n",
    "  println(\"out tree up/down bounds \", status.upper_bound, \"/\", status.lower_bound )\n",
    "\n",
    "  # Guarda estadísticas para análisis posterior.\n",
    "  push!(mdif2, [profundidad(status.root), nodos(status.root)]);\n",
    "    \n",
    "  # Para evitar mensajes de error por generar salidas muy grandes.\n",
    "  flush(stdout) \n",
    "  if isdefined(Main, :IJulia)\n",
    "    Main.IJulia.stdio_bytes[] = 0\n",
    "  end    \n",
    "end\n",
    "\n",
    "# Imprime características de los árboles BnB generados para cada instancia.\n",
    "println( \"\" ); println( \"RESUMEN:\")\n",
    "println( \"Instancia: profunidad / nodos\" );\n",
    "for i in 1:size(mdif2,1)\n",
    "  print( \"        \", i, \": \")\n",
    "  prof1, nodos1 = mdif2[i];\n",
    "  println( \" mdif = \", prof1, \" / \", nodos1 ) \n",
    "end"
   ]
  },
  {
   "cell_type": "markdown",
   "metadata": {},
   "source": [
    "Para comparar el efecto de sus modificaciones a la función `get_lp()`, ejecute la siguiente celda:"
   ]
  },
  {
   "cell_type": "code",
   "execution_count": 10,
   "metadata": {},
   "outputs": [],
   "source": [
    "println( \"RESUMEN COMPARATIVO:\")\n",
    "println( \"Instancia: profunidad / nodos  |  profundidad / nodos\" );\n",
    "for i in 1:size(orgn2,1)\n",
    "  print( \"        \", i, \": \")\n",
    "  prof1, nodos1 = orgn2[i];\n",
    "  prof2, nodos2 = mdif2[i];\n",
    "  println( \" orgn = \", prof1, \" / \", nodos1, \"   |   mdif = \", prof2, \" / \", nodos2 ) \n",
    "end\n"
   ]
  },
  {
   "cell_type": "markdown",
   "metadata": {},
   "source": [
    "## Ejercicio 3: *Warm/cold-start* en BnB\n",
    "\n",
    "Cuando uno inicializa el proceso de BnB con una solución factible  se habla de *warm-start* (en contraposición a *cold-start* cuando no se tiene una solución factible inicial). Mientras mejor la solución factible (su valor este más próximo al óptimo) mejor es la cota inicial disponible y más efectivo el proceso de poda del árbol de BnB.\n",
    "\n",
    "Entre las estrategias que se usan para construir buenas soluciones factibles iniciales para un *warm-start* están: estrategias glotonas, aleatoriedad, heurísticas, etc.\n",
    "\n",
    "No es del todo obvio como construir una solución factible inicial para ciertos problemas. En particular en el caso de $(PCK)$. En general, para desarrollar heurísticas para construir soluciones factibles iniciales ayuda el tener información más precisa sobre el tipo de instancias de interés (no obstante, a menudo esta información\n",
    "no está disponible).\n",
    "\n",
    "El conjunto de instancias que se proveen para esta parte corresponden a casos de $(PCK)$ donde $m=n$. Cada uno de los coeficientes $A_{i,j}$ fue elegido uniforme e independientemente en $\\{1,2,...,20\\}$ mientras que las coordenadas de $c$ fueron elegidas uniforme e independientemente en $\\{10,11,...,60\\}$. La coordenada $i$-ésima de $b$ se calculó como\n",
    "$$\n",
    "b_i = \\sum_{j\\in [n]} A_{i,j}X_{i,j}-1,\n",
    "$$\n",
    "donde las $X_{i,j}$'s son variables aleatorias independientes equidistribuidas a valores en $0$-$1$ (i.e., tipo Bernoulli) con esperanza $1/10$.\n",
    "\n",
    "Ejecute a continuación la siguiente celda, que implementa un *cold-start* de BnB para $(PCK)$ en las instancias proveídas. Observe el número de nodos del árbol BnB que se genera en cada caso."
   ]
  },
  {
   "cell_type": "code",
   "execution_count": null,
   "metadata": {},
   "outputs": [],
   "source": [
    "include(\"lab2TP-BnB-P3.jl\");   # Código base para ejercicio 3 del trabajo presencial.\n",
    "dirInst = \"dirTP3\";            # Directorio con el archivo de instancias para el ejercicio\n",
    "\n",
    "function get_root_incumbent()\n",
    "  # Función que permite retornar una solución factible inicial (incumbente)\n",
    "  # para un warm-start (en caso contrario retorna [], +/-Inf).\n",
    "  # \n",
    "  return [], -Inf\n",
    "end\n",
    "\n",
    "orgn3 = [];\n",
    "for fn in readdir(dirInst)\n",
    "  W = readdlm(joinpath(dirInst,fn), ',', Int64, '\\n')\n",
    "\n",
    "  println( \"out \", repeat('=', 60) );\n",
    "  println( \"out Instancia \", fn );\n",
    "  println( \"out \", repeat('=', 60) );\n",
    "  status = bnb()\n",
    "  print(status)\n",
    "  println(\"out tree up/down bounds \", status.upper_bound, \"/\", status.lower_bound )\n",
    "\n",
    "  # Guarda estadísticas para análisis posterior.\n",
    "  push!(orgn3, [profundidad(status.root), nodos(status.root)]);\n",
    "\n",
    "  # Para evitar mensajes de error por generar salidas muy grandes.\n",
    "  flush(stdout) \n",
    "  if isdefined(Main, :IJulia)\n",
    "    Main.IJulia.stdio_bytes[] = 0\n",
    "  end  \n",
    "end\n",
    "\n",
    "# Imprime características de los árboles BnB generados para cada instancia.\n",
    "println( \"\" ); println( \"RESUMEN:\")\n",
    "println( \"Instancia: profunidad / nodos\" );\n",
    "for i in 1:size(orgn3,1)\n",
    "  print( \"        \", i, \": \")\n",
    "  prof1, nodos1 = orgn3[i];\n",
    "  println( \" orgn = \", prof1, \" / \", nodos1 ) \n",
    "end"
   ]
  },
  {
   "cell_type": "markdown",
   "metadata": {},
   "source": [
    "3a) En la siguiente celda, proponga (justifique) para construir una potencialmente “buena” solución factible inicial para un *warm-start* en las instancias de $(PCK)$ como las proveídas para este ejercicio."
   ]
  },
  {
   "attachments": {},
   "cell_type": "markdown",
   "metadata": {},
   "source": [
    "Respuesta Ejercicio 3a:\n",
    "    \n",
    "Una manera de construir una solución factible relativamente buena es partir de una que sabemos que es factible, es decir $x = \\vec{0}$, e ir alterándola de manera glotona tal que incremente la función objetivo. Si al incrementar deja de ser factible, usamos la última solución factible encontrada. Esto si o si sería una solución factible, que sabemos que al menos es mejor que $x = \\vec{0}$. Además, es computacionalmente simple, con a lo más m iteraciones (ya que se maximizaría si el algoritmo llega a que el vector factible son m unos).\n",
    "    \n"
   ]
  },
  {
   "cell_type": "markdown",
   "metadata": {},
   "source": [
    "3b) A continuación, modifique la función `get_root_incumbent()` para que implemente su propuesta para el *warm-start*. Su función debe retornar un arreglo representando $x\\in\\{0,1\\}^n$ solución factible inicial (supuestamente “buena”) de la instancia de $(PCK)$ y el valor $\\sum_{i\\in [n]}c_ix_i$ de dicha solución. "
   ]
  },
  {
   "cell_type": "code",
   "execution_count": 6,
   "metadata": {},
   "outputs": [
    {
     "name": "stdout",
     "output_type": "stream",
     "text": [
      "Set parameter Username\r\n",
      "Academic license - for non-commercial use only - expires 2024-03-22\r\n",
      "out ============================================================\n",
      "out Instancia packP3-i001.txt\n",
      "out ============================================================\n"
     ]
    },
    {
     "name": "stderr",
     "output_type": "stream",
     "text": [
      "WARNING: redefinition of constant GUROBI_ENV. This may fail, cause incorrect answers, or produce other errors.\n"
     ]
    },
    {
     "name": "stdout",
     "output_type": "stream",
     "text": [
      "out [0] Root node solved. LP value: 675.0733889842851.\n",
      " No more branches to explore in the tree.\n",
      "\n",
      "out Complete branch-and-bound status, including tree.\n",
      "out Upper bound: 675.0733889842851\n",
      "out Lower bound: 1103.0\n",
      "out Incumbent: [1, 1, 1, 1, 1, 0, 1, 0, 1, 1, 1, 1, 1, 0, 0, 1, 1, 1, 1, 0, 1, 1, 1, 0, 0, 0, 0, 1, 1, 1, 1, 1, 1, 0, 1, 1, 0, 0, 1, 0]\n",
      "out Tree: "
     ]
    },
    {
     "name": "stdout",
     "output_type": "stream",
     "text": [
      "\n",
      "out     Root node:               675.0733889842851       (P: Bnd)\n",
      "out tree up/down bounds 675.0733889842851/1103.0\n",
      "out ============================================================\n",
      "out Instancia packP3-i002.txt\n",
      "out ============================================================\n",
      "out [0] Root node solved. LP value: 856.0919664615412.\n",
      " No more branches to explore in the tree.\n",
      "\n",
      "out Complete branch-and-bound status, including tree.\n",
      "out Upper bound: 856.0919664615412\n",
      "out Lower bound: 1147.0\n",
      "out Incumbent: [0, 1, 1, 0, 1, 1, 0, 1, 1, 0, 1, 1, 1, 0, 1, 1, 0, 0, 1, 0, 0, 1, 0, 1, 1, 0, 0, 0, 1, 0, 0, 1, 0, 0, 0, 1, 0, 1, 1, 1, 1, 0, 0, 0, 1, 0, 1, 1, 1, 1]\n",
      "out Tree: \n",
      "out     Root node:               856.0919664615412       (P: Bnd)\n",
      "out tree up/down bounds 856.0919664615412/1147.0\n",
      "out ============================================================\n",
      "out Instancia packP3-i003.txt\n",
      "out ============================================================\n",
      "out [0] Root node solved. LP value: 649.5572519083969.\n",
      " No more branches to explore in the tree.\n",
      "\n",
      "out Complete branch-and-bound status, including tree.\n",
      "out Upper bound: 649.5572519083969\n",
      "out Lower bound: 895.0\n",
      "out Incumbent: [1, 0, 1, 1, 1, 0, 0, 1, 0, 1, 0, 0, 0, 0, 0, 0, 1, 0, 1, 0, 1, 1, 0, 1, 1, 1, 1, 1, 1, 0, 1, 0, 1, 0, 0, 0, 0, 0, 0, 0]\n",
      "out Tree: \n",
      "out     Root node:               649.5572519083969       (P: Bnd)\n",
      "out tree up/down bounds 649.5572519083969/895.0\n",
      "out ============================================================\n",
      "out Instancia packP3-i004.txt\n",
      "out ============================================================\n",
      "out [0] Root node solved. LP value: 872.1805472630867.\n",
      " No more branches to explore in the tree.\n",
      "\n",
      "out Complete branch-and-bound status, including tree.\n",
      "out Upper bound: 872.1805472630867\n",
      "out Lower bound: 1112.0\n",
      "out Incumbent: [1, 0, 1, 0, 0, 0, 0, 0, 1, 1, 0, 1, 1, 0, 1, 0, 1, 1, 0, 1, 1, 1, 1, 0, 1, 0, 1, 0, 1, 1, 1, 0, 1, 1, 1, 1, 1, 0, 0, 1, 0, 0, 0, 0, 0, 0, 0, 0, 1, 1]\n",
      "out Tree: \n",
      "out     Root node:               872.1805472630867       (P: Bnd)"
     ]
    },
    {
     "name": "stdout",
     "output_type": "stream",
     "text": [
      "\n",
      "out tree up/down bounds 872.1805472630867/1112.0\n",
      "\n",
      "RESUMEN:\n",
      "Instancia: profunidad / nodos\n",
      "        1:  mdif = 0 / 1\n",
      "        2:  mdif = 0 / 1\n",
      "        3:  mdif = 0 / 1\n",
      "        4:  mdif = 0 / "
     ]
    },
    {
     "name": "stdout",
     "output_type": "stream",
     "text": [
      "1\n"
     ]
    }
   ],
   "source": [
    "include(\"lab2TP-BnB-P3.jl\");   # Código base para ejercicio 3 del trabajo presencial.\n",
    "dirInst = \"dirTP3\";            # Directorio con el archivo de instancias para el ejercicio\n",
    "\n",
    "function get_root_incumbent()\n",
    "  # Función que permite retornar una solución factible inicial (incumbente)\n",
    "  # para un warm-start  (en caso contrario retorna [], +/-Inf).\n",
    "  # \n",
    "  n = size(W,2)-1;   m = size(W,1)-1;\n",
    "  A = W[1:m,1:n];    b = W[1:m,n+1];    c = W[m+1,1:n];\n",
    "\n",
    "  # Begin: Determina solución factible inicial\n",
    "  x = zeros(Int, n)\n",
    "  c_order = [value for value in c]\n",
    "  i = 0\n",
    "  while A*x <= b\n",
    "    value, i = findmax(c_order)\n",
    "    x[i] = 1\n",
    "    c_order[i] = 0\n",
    "  end\n",
    "\n",
    "  x[i] = 0 # Deshacemos el cambio que nos hizo infactible la solución inicial\n",
    "  # End: Determinar solución factible inicial\n",
    "    \n",
    "  # Return initial solution and its value\n",
    "  return x, sum( c.*x )\n",
    "end\n",
    "\n",
    "mdif3 = [];\n",
    "for fn in readdir(dirInst)\n",
    "  W = readdlm(joinpath(dirInst,fn), ',', Int64, '\\n')\n",
    "\n",
    "  println( \"out \", repeat('=', 60) );\n",
    "  println( \"out Instancia \", fn );\n",
    "  println( \"out \", repeat('=', 60) );\n",
    "  status = bnb()\n",
    "  print(status)\n",
    "  println(\"out tree up/down bounds \", status.upper_bound, \"/\", status.lower_bound )\n",
    "\n",
    "  # Guarda estadísticas para análisis posterior.\n",
    "  push!(mdif3, [profundidad(status.root), nodos(status.root)]);\n",
    "end\n",
    "\n",
    "# Imprime características de los árboles BnB generados para cada instancia.\n",
    "println( \"\" ); println( \"RESUMEN:\")\n",
    "println( \"Instancia: profunidad / nodos\" );\n",
    "for i in 1:size(mdif3,1)\n",
    "  print( \"        \", i, \": \")\n",
    "  prof1, nodos1 = mdif3[i];\n",
    "  println( \" mdif = \", prof1, \" / \", nodos1 ) \n",
    "end"
   ]
  },
  {
   "cell_type": "markdown",
   "metadata": {},
   "source": [
    "Compare los resultados obtenidos en ambas ejecuciones del programa con y sin modificaciones. Para al menos una de las instancias que se proveen, su programa debe generar árboles de BnB con una menor cantidad de nodos que los árboles correspondientes del *cold-start*."
   ]
  },
  {
   "cell_type": "code",
   "execution_count": null,
   "metadata": {},
   "outputs": [],
   "source": [
    "println( \"RESUMEN COMPARATIVO:\")\n",
    "println( \"Instancia: profunidad / nodos  |  profundidad / nodos\" );\n",
    "for i in 1:size(orgn3,1)\n",
    "  print( \"        \", i, \": \")\n",
    "  prof1, nodos1 = orgn3[i];\n",
    "  prof2, nodos2 = mdif3[i];\n",
    "  println( \" orgn = \", prof1, \" / \", nodos1, \"   |   mdif = \", prof2, \" / \", nodos2 ) \n",
    "end"
   ]
  }
 ],
 "metadata": {
  "kernelspec": {
   "display_name": "Julia 1.8.5",
   "language": "julia",
   "name": "julia-1.8"
  },
  "language_info": {
   "file_extension": ".jl",
   "mimetype": "application/julia",
   "name": "julia",
   "version": "1.8.5"
  }
 },
 "nbformat": 4,
 "nbformat_minor": 2
}
