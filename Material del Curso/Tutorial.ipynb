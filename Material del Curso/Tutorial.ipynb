{
 "cells": [
  {
   "cell_type": "markdown",
   "id": "db5ba2d7",
   "metadata": {},
   "source": [
    "# Tutorial básico de Julia/JuMP.\n",
    "\n",
    "JuMP es un paquete del lenguaje de programación Julia que permite formular problemas de optimización en general,\n",
    "y de programación matemática en particular. En JuMP se puede modelar de manera simple, programas lineales, enteros\n",
    "y mixtos, así como ciertos problemas no lineales y de satisfacción de restricciones. JuMP en combinación con Julia\n",
    "pueden conectarse a solvers libres (GLPK, Cbc, etc.) y comerciales (CPLEX y GUROBI entre otros) para solucionar los\n",
    "problemas modelados. Este es un tutorial que le permitirá familiarizarse con JuMP. Le recomendamos *fuertemente*\n",
    "que lo complete antes del laboratorio 1 ya que muchas dudas que surgirán en el laboratorio están resueltas aquí.\n",
    "\n",
    "Instrucciones para instalar JuMP/Julia/Gurobi en su computador personal están disponibles en UCursos."
   ]
  },
  {
   "cell_type": "markdown",
   "id": "e8561f6c",
   "metadata": {},
   "source": [
    "## Primer programa lineal.\n",
    "\n",
    "Suponga usted que quiere resolver el sistema lineal\n",
    "$$\n",
    "\\begin{array}{rcll}\n",
    "(\\text{Ej1}): & \\min_{a,b} & a+12b \\\\\n",
    "& s.a. & 13a+12c\\leq 5-2b & (r1) \\\\\n",
    "&& a+c\\geq 1 & (r2)\\\\\n",
    "&& 15a+b=14+3b & (r3)\\\\\n",
    "&& a\\geq 0, b\\leq 0, c\\in\\mathbb{R} \n",
    "\\end{array}\n",
    "$$\n",
    "Para esto, basta ejecutar la siguiente secuencia de comandos: "
   ]
  },
  {
   "cell_type": "code",
   "execution_count": null,
   "id": "6d6af625",
   "metadata": {},
   "outputs": [],
   "source": [
    "using JuMP, Gurobi\n",
    "model = Model(Gurobi.Optimizer)\n",
    "@variable(model,a>=0)\n",
    "@variable(model,b<=0)\n",
    "@variable(model,c)\n",
    "@objective(model, Min, a + 12b)\n",
    "@constraint(model, r1, 13a+12c <= 5-2b)\n",
    "@constraint(model, r2, a + c >= 1)\n",
    "@constraint(model, r3, 15a+b == 14+3b);"
   ]
  },
  {
   "cell_type": "markdown",
   "id": "07300774",
   "metadata": {},
   "source": [
    "<div class=\"alert alert-info\"><b>Nota:</b> El comando <b>using Foo</b> carga el módulo o paquete de nombre <b>Foo</b> y permite usar las funciones y nombres que el paquete exporta. Los mismos nombres se pueden usar con la sintaxis de punto, i.e., escribiendo <b>Foo.foo</b></div>\n"
   ]
  },
  {
   "cell_type": "markdown",
   "id": "ba151a57",
   "metadata": {},
   "source": [
    "Para ver el modelo especificado, ejecute el siguiente comando:"
   ]
  },
  {
   "cell_type": "code",
   "execution_count": null,
   "id": "e8312665",
   "metadata": {},
   "outputs": [],
   "source": [
    "println(model)"
   ]
  },
  {
   "cell_type": "markdown",
   "id": "437fad57",
   "metadata": {},
   "source": [
    "Para resolver el sistema lineal, ejecute el siguiente comando:"
   ]
  },
  {
   "cell_type": "code",
   "execution_count": null,
   "id": "ace9d97f",
   "metadata": {},
   "outputs": [],
   "source": [
    "optimize!(model);"
   ]
  },
  {
   "cell_type": "markdown",
   "id": "fe725870",
   "metadata": {},
   "source": [
    "El mensaje nos indica que JuMP llamó al solver Gurobi para resolver el problema, que la función objetivo del\n",
    "programa lineal es -84.0, y nos indica, entre otras cosas, el tiempo en que fue encontrada la solución."
   ]
  },
  {
   "cell_type": "markdown",
   "id": "4ef07da5",
   "metadata": {},
   "source": [
    "<div class=\"alert alert-info\"><b>Nota:</b> El ! al final de optimize es parte del nombre del comando. Julia tiene por convención que aquellas funciones que modifican sus argumentos terminan con !.<div>"
   ]
  },
  {
   "cell_type": "markdown",
   "id": "36edd2ab",
   "metadata": {},
   "source": [
    "El comando <tt>all_variables()</tt> permite listar todas las variables de un modelo dado. Para obtener una descripción de un comando anteponga el símbolo ? al nombre, como en la siguiente celda:"
   ]
  },
  {
   "cell_type": "code",
   "execution_count": null,
   "id": "aeae9458",
   "metadata": {},
   "outputs": [],
   "source": [
    "?all_variables()"
   ]
  },
  {
   "cell_type": "markdown",
   "id": "40203cc7",
   "metadata": {},
   "source": [
    "A continuación ejecute el comando y verifique que genera la salida descrita en el paso anterior:"
   ]
  },
  {
   "cell_type": "code",
   "execution_count": null,
   "id": "6439cedf",
   "metadata": {},
   "outputs": [],
   "source": [
    "all_variables(model)"
   ]
  },
  {
   "cell_type": "markdown",
   "id": "6cd902ef",
   "metadata": {},
   "source": [
    "Combinando los comandos <tt>all_variables()</tt> y <tt>value()</tt> podemos recuperar los valores de una solución óptima de (Ej1):"
   ]
  },
  {
   "cell_type": "code",
   "execution_count": null,
   "id": "55bae12a",
   "metadata": {},
   "outputs": [],
   "source": [
    "for incog in all_variables(model)\n",
    "    println(incog,\" = \",value(incog))\n",
    "end"
   ]
  },
  {
   "cell_type": "markdown",
   "id": "06076f5f",
   "metadata": {},
   "source": [
    "Usando la característica de Julia que permite ejecutar un comando, digamos, en cada elemento de un arreglo, solo con agregarle un punto (\".\") al nombre de la instrucción. Por ejemplo, para obtener el mismo resultado generado por la última celda de comandos así:"
   ]
  },
  {
   "cell_type": "code",
   "execution_count": null,
   "id": "be9ba75f",
   "metadata": {},
   "outputs": [],
   "source": [
    "value.(all_variables(model))"
   ]
  },
  {
   "cell_type": "markdown",
   "id": "4b75ab2c",
   "metadata": {},
   "source": [
    "En la siguiente celda investigue y ejecute cada uno de los siguientes comandos: <tt>objective_value()</tt>, <tt>num_variables()<tt>, <tt>all_constraints()</tt>, <tt>num_constraints()</tt>, <tt>shadow_price()</tt> (puede que requiera usar <tt>println()</tt> para imprimir el resultado de alguno de los comandos)."
   ]
  },
  {
   "cell_type": "code",
   "execution_count": null,
   "id": "22f2a69d",
   "metadata": {},
   "outputs": [],
   "source": [
    "println(\"valor objetivo = \", objective_value(model))\n",
    "println(\"numero de variables = \", num_variables(model))\n",
    "println(all_constraints(model; include_variable_in_set_constraints = false))\n",
    "println(\"numero de restricciones = \", num_constraints(model; count_variable_in_set_constraints = false))      \n",
    "println(\"valor variables duales = \", shadow_price.([r1,r2,r3]))"
   ]
  },
  {
   "cell_type": "markdown",
   "id": "ff266197",
   "metadata": {},
   "source": [
    "Formule ahora el mismo programa lineal (Ej1) pero donde cambiamos el lado derecho de la restricción $(r2)$ de $1$ a $10$. Puede serle útil explorar el uso del comando <tt>set_normalized_rhs()</tt>."
   ]
  },
  {
   "cell_type": "code",
   "execution_count": null,
   "id": "ca6f8cfe",
   "metadata": {},
   "outputs": [],
   "source": []
  },
  {
   "cell_type": "markdown",
   "id": "64ebd47a",
   "metadata": {},
   "source": [
    "Para concluir esta sección, modifique el programa lineal (Ej1) eliminando la restricción de no-negatividad de la variable <tt>a</tt> (use el comando <tt>delete_lower_bound()</tt>) y resuelva el programa lineal resultante. "
   ]
  },
  {
   "cell_type": "code",
   "execution_count": null,
   "id": "3179c509",
   "metadata": {},
   "outputs": [],
   "source": []
  },
  {
   "cell_type": "markdown",
   "id": "fa313b84",
   "metadata": {},
   "source": [
    "Observe que el status de término es ambiguo (es infactible o no acotada). Esto típicamente ocurre porque antes de resolver un programa lineal, los solvers los simplifican aplicando ciertas heurísticas. Estas heurísticas son tan buenas que a veces resuelven el problema o determinan que no se puede encontrar una solución óptima. \n",
    "\n",
    "A continuación le pasaremos un argumento a Gurobi que le indica no usar su presolver (ahora el estatus de término *no* es ambiguo), y finalmente imprimimos la solución encontrada."
   ]
  },
  {
   "cell_type": "code",
   "execution_count": null,
   "id": "7b486fb3",
   "metadata": {},
   "outputs": [],
   "source": [
    "set_optimizer_attribute(model,\"Presolve\",false)\n",
    "optimize!(model)\n",
    "value.(all_variables(model))"
   ]
  },
  {
   "cell_type": "markdown",
   "id": "5369ed21",
   "metadata": {},
   "source": [
    "Notar que ahora si hemos podido establecer que el objetivo es no acotado. Pero, la solución que obtenemos *no* es factible, sino más bien un rayo de crecimiento de la función objetivo."
   ]
  },
  {
   "cell_type": "markdown",
   "id": "a3938651",
   "metadata": {},
   "source": [
    "<div class=\"alert alert-success\"><b>Pregunta para la casa:</b>¿Cómo determinar una solución factible?</div>"
   ]
  },
  {
   "cell_type": "markdown",
   "id": "63d48740",
   "metadata": {},
   "source": [
    "<div class=\"alert alert-info\"><b>Nota:</b> Hay que tener cuidado, ya que dependiendo del algoritmo que use el solver, es posible que éste reporte\n",
    "una dirección de no acotamiento sin siquiera calcular una solución primal factible. Para forzar a Gurobi que\n",
    "encuentre una solución factible usted puede pedirle que encuentre una solución factible, eliminando primero\n",
    "la función objetivo y luego resolviendo el problema de factibilidad resultante. Desafortunadamente, al parecer\n",
    "JuMP v0.19 no provee la funcionalidad para remover funciones objetivos por lo que para resolver el problema\n",
    "de factibilidad deberá volver a generar el modelo sin función objetivo.<div>"
   ]
  },
  {
   "cell_type": "markdown",
   "id": "8c094633",
   "metadata": {},
   "source": [
    "<div class=\"alert alert-info\"><b>Nota:</b> Eventualmente vamos a resolver secuencias de problemas cuyas soluciones determinarán las acciones que\n",
    "vayamos tomando. De lo que hemos visto, es claro que no podemos confiar en que los valores de las variables\n",
    "que retorna el solver son puntos factibles (pueden ser direcciones de no acotamiento). Por ello, siempre se\n",
    "deberá verificar el estatus de término de la optimización.</div>"
   ]
  },
  {
   "cell_type": "markdown",
   "id": "c9cffc54",
   "metadata": {},
   "source": [
    "El status de término que resulta de invocar <tt>optimize!(model)</tt> se obtiene ejecutando <tt>termination_status(model)</tt>. Para obtener una lista de posibles estados de término, ejecute el siguiente comando:\n"
   ]
  },
  {
   "cell_type": "code",
   "execution_count": null,
   "id": "16addbe6",
   "metadata": {},
   "outputs": [],
   "source": [
    "?MOI.TerminationStatusCode"
   ]
  },
  {
   "attachments": {
    "Screenshot%20from%202023-03-14%2015-29-13.png": {
     "image/png": "[encoded data removed]"
    }
   },
   "cell_type": "markdown",
   "id": "1a3a09e4",
   "metadata": {},
   "source": [
    "## Un programa lineal entero\n",
    "\n",
    "En esta sección vamos a estudiar el problema que consiste en determinar el máximo número de celdas de un tablero de un juego de Sudoku que se pueden completar dado un llenado parcial inicial del tablero.  Para ello, se sugiere usar variables binarias $x_{r,c,k}$ que toman el valor $1$ si y solo si el dígito $k$ se coloca o no en la fila $r$ y la columna $c$ del tablero de Sudoku, y considerar la siguiente formulación:\n",
    "$$\n",
    "\\begin{array}{rll}\n",
    "\\text{(Sdk)}: & \\max\\sum_{r,c,k\\in [9]} x_{r,c,k} \\\\\n",
    "s.a. &  \\sum_{k\\in [9]} x_{r,c,k} \\leq 1,\\, \\forall r,c\\in [9], \\\\\n",
    "& \\sum_{c\\in [9]} x_{r,c,k} \\leq 1,\\, \\forall r,k\\in [9], \\\\\n",
    "& \\sum_{r\\in [9]} x_{r,c,k} \\leq 1,\\, \\forall c,k\\in [9], \\\\\n",
    "& \\sum_{a,b\\in\\{0,1,2\\}} x_{i+a,j+b,k} \\leq 1,\\, \\forall i,j\\in [9]\\\\\n",
    "& \\quad x_{r,c,k}\\in\\{0,1\\},\\,\\forall r,c,k\\in\\{1,4,7\\}.\n",
    "\\end{array}\n",
    "$$\n",
    "\n",
    "Las instancias a considerar estarán especificadas por una matriz de $9\\times 9$. Por ejemplo, la primera de las instancias de la siguiente imagen\n",
    "\n",
    "![Screenshot%20from%202023-03-14%2015-29-13.png](attachment:Screenshot%20from%202023-03-14%2015-29-13.png)\n",
    "\n",
    "esta dada por la matriz"
   ]
  },
  {
   "cell_type": "code",
   "execution_count": null,
   "id": "2b6f4551",
   "metadata": {},
   "outputs": [],
   "source": [
    "A = [2 5 0 0 3 0 9 0 1; \n",
    "     0 1 0 0 0 4 0 0 0; \n",
    "     4 0 7 0 0 0 2 0 8; \n",
    "     0 0 5 2 0 0 0 0 0; \n",
    "     0 0 0 0 9 8 1 0 0; \n",
    "     0 4 0 0 0 3 0 0 0; \n",
    "     0 0 0 3 6 0 0 7 2;\n",
    "     0 7 0 0 0 0 0 0 3;\n",
    "     9 0 3 0 0 0 6 0 4];"
   ]
  },
  {
   "cell_type": "markdown",
   "id": "c7c1d96d",
   "metadata": {},
   "source": [
    "<div class=\"alert alert-info\"><b>Nota:</b> Observe que al agregar \";\" al final de un comando de Julia se suprime la salida que este pudiera generar. Esto es útil cuando se quiere evitar generar resultados de comandos que no son relevantes para la tarea que se esté realizando.</div>"
   ]
  },
  {
   "cell_type": "markdown",
   "id": "3c25938e",
   "metadata": {},
   "source": [
    "Complete la siguiente formulación parcial de (Sdk) en Julia/JuMP:\n"
   ]
  },
  {
   "cell_type": "code",
   "execution_count": null,
   "id": "0828af88",
   "metadata": {},
   "outputs": [],
   "source": [
    "using JuMP, Gurobi                               # Carga modulos\n",
    "sudoku = Model(Gurobi.Optimizer)                 # Crea modelo\n",
    "\n",
    "# Define estructuras utiles\n",
    "rows = 1:9;\n",
    "cols = 1:9;\n",
    "nums = 1:9;\n",
    "esqn = [1, 4, 7];\n",
    "\n",
    "# Creae las variables\n",
    "\n",
    "\n",
    "# Cree las restricciones\n",
    "\n",
    "\n",
    "# Defina el objetivo\n"
   ]
  },
  {
   "cell_type": "markdown",
   "id": "76f73969",
   "metadata": {},
   "source": [
    "Resuelva las dos instancias de Sudoku de la imagen de más arriba y compruebe que ambas instancias se pueden rellenar obteniendo de forma de obtener un tablero completo válido."
   ]
  },
  {
   "cell_type": "code",
   "execution_count": null,
   "id": "87f4fa32",
   "metadata": {},
   "outputs": [],
   "source": [
    "optimize!(sudoku)"
   ]
  }
 ],
 "metadata": {
  "kernelspec": {
   "display_name": "Julia 1.8.5",
   "language": "julia",
   "name": "julia-1.8"
  },
  "language_info": {
   "file_extension": ".jl",
   "mimetype": "application/julia",
   "name": "julia",
   "version": "1.8.5"
  }
 },
 "nbformat": 4,
 "nbformat_minor": 5
}
