{
 "cells": [
  {
   "cell_type": "markdown",
   "metadata": {},
   "source": [
    "# MA4702 Programación Lineal Mixta 2023\n",
    "**Profesor: Marcos Kiwi**\n",
    "\n",
    "**Auxiliares: Benjamín Jáuregi y Cristian Palma**\n",
    "# Auxiliar 1: Introducción a Julia"
   ]
  },
  {
   "cell_type": "code",
   "execution_count": 1,
   "metadata": {},
   "outputs": [],
   "source": [
    "# Si no posee los paquetes, descarguelos ejecutando este bloque.\n",
    "# import Pkg; Pkg.add(\"Distances\"); Pkg.add(\"Plots\"); Pkg.add(\"StatsBase\"); Pkg.add(\"DataFrames\");\n",
    "# import Pkg; Pkg.add(\"Combinatorics\")"
   ]
  },
  {
   "cell_type": "code",
   "execution_count": 2,
   "metadata": {},
   "outputs": [],
   "source": [
    "using JuMP, Gurobi, Distances, Plots, StatsBase, DataFrames, Combinatorics"
   ]
  },
  {
   "cell_type": "code",
   "execution_count": 3,
   "metadata": {},
   "outputs": [
    {
     "name": "stdout",
     "output_type": "stream",
     "text": [
      "Set parameter Username\r\n",
      "Academic license - for non-commercial use only - expires 2024-03-07\r\n"
     ]
    }
   ],
   "source": [
    "# Abrir un solo ambiente de Gurobi, Jupyter se marea si se crean demasiados modelos en una misma celda.\n",
    "const GUROBI_ENV = Gurobi.Env();"
   ]
  },
  {
   "cell_type": "markdown",
   "metadata": {},
   "source": [
    "En este auxiliar calcularemos emparejamientos mínimos de conjuntos de puntos en el plano.\n",
    "Consideremos $N$ puntos en el plano (con $N$ par), determinados por su vector ```coordx``` de coordenadas x y su vector ```coordy``` de  coordenadas y.\n",
    "\n",
    "## P1\n",
    "Implemente la función ```distancias``` de la siguiente celda que calcula una matriz $w$ con las distancias entre los puntos  guardados en una matriz triangular superior, es decir $w[i,j]$ es la distancia entre el punto $i$ y el punto $j$  para todo $1\\leq i<j\\leq N$.\n",
    "\n",
    "_Indicación 1: Pueden serle útiles las funciones **length** para obtener la cantidad de coordenadas y **zeros** para inicializar una matriz de ceros._\n",
    "\n",
    "_Indicación 2: Para consultar más información rápidamente sobre alguna función de Julia, puede ejecutar **?function**._"
   ]
  },
  {
   "cell_type": "code",
   "execution_count": 4,
   "metadata": {},
   "outputs": [
    {
     "data": {
      "text/plain": [
       "distancias (generic function with 1 method)"
      ]
     },
     "execution_count": 4,
     "metadata": {},
     "output_type": "execute_result"
    }
   ],
   "source": [
    "function distancias(coordx, coordy)\n",
    "## Recibe dos arreglos de N valores donde (coordx[i],coordy[i]) son las coordenadas de la ciudad i\n",
    "## Calcula las distancias w[i,j] entre las ciudades i y j\n",
    "    N=length(coordx)\n",
    "        w=zeros(N,N)\n",
    "        for i in 1:N, j in i+1:N\n",
    "            w[i,j]=euclidean([coordx[i],coordy[i]],[coordx[j],coordy[j]])\n",
    "        end\n",
    "    return w\n",
    "end"
   ]
  },
  {
   "cell_type": "markdown",
   "metadata": {},
   "source": [
    "Pruebe que su función cumple lo pedido evaluándola en las siguientes coordenadas y verficando que las distancias son las de la siguiente matriz."
   ]
  },
  {
   "cell_type": "code",
   "execution_count": 5,
   "metadata": {},
   "outputs": [
    {
     "data": {
      "text/plain": [
       "7×7 Matrix{Float64}:\n",
       " 0.0  3.60555  7.2111   7.07107  6.32456  6.7082   2.0\n",
       " 0.0  0.0      3.60555  5.0      4.12311  5.83095  2.23607\n",
       " 0.0  0.0      0.0      5.09902  4.47214  7.0      5.65685\n",
       " 0.0  0.0      0.0      0.0      8.60233  2.23607  5.09902\n",
       " 0.0  0.0      0.0      0.0      0.0      9.84886  6.0\n",
       " 0.0  0.0      0.0      0.0      0.0      0.0      5.0\n",
       " 0.0  0.0      0.0      0.0      0.0      0.0      0.0"
      ]
     },
     "execution_count": 5,
     "metadata": {},
     "output_type": "execute_result"
    }
   ],
   "source": [
    "N = 7\n",
    "coordenadax = [1 4 7 8 3 7 3]\n",
    "coordenaday = [3 5 7 2 9 0 3]\n",
    "w0 = [0.0  3.60555  7.2111   7.07107  6.32456  6.7082   2.0;\n",
    " 0.0  0.0      3.60555  5.0      4.12311  5.83095  2.23607;\n",
    " 0.0  0.0      0.0      5.09902  4.47214  7.0      5.65685;\n",
    " 0.0  0.0      0.0      0.0      8.60233  2.23607  5.09902;\n",
    " 0.0  0.0      0.0      0.0      0.0      9.84886  6.0;\n",
    " 0.0  0.0      0.0      0.0      0.0      0.0      5.0;\n",
    " 0.0  0.0      0.0      0.0      0.0      0.0      0.0]"
   ]
  },
  {
   "cell_type": "code",
   "execution_count": 6,
   "metadata": {},
   "outputs": [
    {
     "name": "stdout",
     "output_type": "stream",
     "text": [
      "Resultado Correcto: true"
     ]
    }
   ],
   "source": [
    "w = distancias(coordenadax,coordenaday)\n",
    "iguales = true\n",
    "for i in 1:N\n",
    "    for j in i+1:N\n",
    "        if abs(w[i,j]-w0[i,j])>1e-3\n",
    "            iguales = false\n",
    "        end\n",
    "    end\n",
    "end\n",
    "print(\"Resultado Correcto: \", iguales)"
   ]
  },
  {
   "cell_type": "markdown",
   "metadata": {},
   "source": [
    "Los modelos devolverán vectores indexados por aristas que no son necesariamente enteros, por lo cual la función ```dibuja``` de la siguiente celda será util para dibujar y analizarlos. "
   ]
  },
  {
   "cell_type": "code",
   "execution_count": 7,
   "metadata": {},
   "outputs": [
    {
     "data": {
      "text/plain": [
       "dibuja (generic function with 1 method)"
      ]
     },
     "execution_count": 7,
     "metadata": {},
     "output_type": "execute_result"
    }
   ],
   "source": [
    "function dibuja(coordx,coordy,arcos)\n",
    "## Recibe dos arreglos de N valores donde (coordx[i],coordy[i]) son las coordenadas de la ciudad i\n",
    "## Recibe además una matriz arcos de N x N, donde arcos[i,j] es el peso del arco [i,j]\n",
    "## Dibuja los N puntos en el plano y dibuja los arcos con ancho de linea proporcional al peso.\n",
    "    N=length(coordx)\n",
    "    scatter(coordx,coordy)\n",
    "    for k in findall(!iszero, arcos)\n",
    "        plot!([coordx[k[1]],coordx[k[2]]],[coordy[k[1]],coordy[k[2]]],arrow = false,lc=:blue, linewidth = 2*arcos[k[1],k[2]])\n",
    "    end\n",
    "    display(plot!(leg=false))\n",
    "end"
   ]
  },
  {
   "cell_type": "markdown",
   "metadata": {},
   "source": [
    "Verifique que todo funciona correctamente ejecutando el siguiente test."
   ]
  },
  {
   "cell_type": "code",
   "execution_count": 8,
   "metadata": {},
   "outputs": [
    {
     "data": {
      "image/svg+xml": [
       "<?xml version=\"1.0\" encoding=\"utf-8\"?>\n",
       "<svg xmlns=\"http://www.w3.org/2000/svg\" xmlns:xlink=\"http://www.w3.org/1999/xlink\" width=\"600\" height=\"400\" viewBox=\"0 0 2400 1600\">\n",
       "<defs>\n",
       "  <clipPath id=\"clip260\">\n",
       "    <rect x=\"0\" y=\"0\" width=\"2400\" height=\"1600\"/>\n",
       "  </clipPath>\n",
       "</defs>\n",
       "<path clip-path=\"url(#clip260)\" d=\"M0 1600 L2400 1600 L2400 0 L0 0  Z\" fill=\"#ffffff\" fill-rule=\"evenodd\" fill-opacity=\"1\"/>\n",
       "<defs>\n",
       "  <clipPath id=\"clip261\">\n",
       "    <rect x=\"480\" y=\"0\" width=\"1681\" height=\"1600\"/>\n",
       "  </clipPath>\n",
       "</defs>\n",
       "<path clip-path=\"url(#clip260)\" d=\"M112.177 1486.45 L2352.76 1486.45 L2352.76 47.2441 L112.177 47.2441  Z\" fill=\"#ffffff\" fill-rule=\"evenodd\" fill-opacity=\"1\"/>\n",
       "<defs>\n",
       "  <clipPath id=\"clip262\">\n",
       "    <rect x=\"112\" y=\"47\" width=\"2242\" height=\"1440\"/>\n",
       "  </clipPath>\n",
       "</defs>\n",
       "<polyline clip-path=\"url(#clip262)\" style=\"stroke:#000000; stroke-linecap:round; stroke-linejoin:round; stroke-width:2; stroke-opacity:0.1; fill:none\" points=\"477.555,1486.45 477.555,47.2441 \"/>\n",
       "<polyline clip-path=\"url(#clip262)\" style=\"stroke:#000000; stroke-linecap:round; stroke-linejoin:round; stroke-width:2; stroke-opacity:0.1; fill:none\" points=\"1081.48,1486.45 1081.48,47.2441 \"/>\n",
       "<polyline clip-path=\"url(#clip262)\" style=\"stroke:#000000; stroke-linecap:round; stroke-linejoin:round; stroke-width:2; stroke-opacity:0.1; fill:none\" points=\"1685.41,1486.45 1685.41,47.2441 \"/>\n",
       "<polyline clip-path=\"url(#clip262)\" style=\"stroke:#000000; stroke-linecap:round; stroke-linejoin:round; stroke-width:2; stroke-opacity:0.1; fill:none\" points=\"2289.34,1486.45 2289.34,47.2441 \"/>\n",
       "<polyline clip-path=\"url(#clip260)\" style=\"stroke:#000000; stroke-linecap:round; stroke-linejoin:round; stroke-width:4; stroke-opacity:1; fill:none\" points=\"112.177,1486.45 2352.76,1486.45 \"/>\n",
       "<polyline clip-path=\"url(#clip260)\" style=\"stroke:#000000; stroke-linecap:round; stroke-linejoin:round; stroke-width:4; stroke-opacity:1; fill:none\" points=\"477.555,1486.45 477.555,1467.55 \"/>\n",
       "<polyline clip-path=\"url(#clip260)\" style=\"stroke:#000000; stroke-linecap:round; stroke-linejoin:round; stroke-width:4; stroke-opacity:1; fill:none\" points=\"1081.48,1486.45 1081.48,1467.55 \"/>\n",
       "<polyline clip-path=\"url(#clip260)\" style=\"stroke:#000000; stroke-linecap:round; stroke-linejoin:round; stroke-width:4; stroke-opacity:1; fill:none\" points=\"1685.41,1486.45 1685.41,1467.55 \"/>\n",
       "<polyline clip-path=\"url(#clip260)\" style=\"stroke:#000000; stroke-linecap:round; stroke-linejoin:round; stroke-width:4; stroke-opacity:1; fill:none\" points=\"2289.34,1486.45 2289.34,1467.55 \"/>\n",
       "<path clip-path=\"url(#clip260)\" d=\"M472.207 1544.91 L488.527 1544.91 L488.527 1548.85 L466.582 1548.85 L466.582 1544.91 Q469.244 1542.16 473.828 1537.53 Q478.434 1532.88 479.615 1531.53 Q481.86 1529.01 482.74 1527.27 Q483.643 1525.51 483.643 1523.82 Q483.643 1521.07 481.698 1519.33 Q479.777 1517.6 476.675 1517.6 Q474.476 1517.6 472.022 1518.36 Q469.592 1519.13 466.814 1520.68 L466.814 1515.95 Q469.638 1514.82 472.092 1514.24 Q474.545 1513.66 476.582 1513.66 Q481.953 1513.66 485.147 1516.35 Q488.342 1519.03 488.342 1523.52 Q488.342 1525.65 487.531 1527.57 Q486.744 1529.47 484.638 1532.07 Q484.059 1532.74 480.957 1535.95 Q477.855 1539.15 472.207 1544.91 Z\" fill=\"#000000\" fill-rule=\"nonzero\" fill-opacity=\"1\" /><path clip-path=\"url(#clip260)\" d=\"M1084.49 1518.36 L1072.69 1536.81 L1084.49 1536.81 L1084.49 1518.36 M1083.27 1514.29 L1089.15 1514.29 L1089.15 1536.81 L1094.08 1536.81 L1094.08 1540.7 L1089.15 1540.7 L1089.15 1548.85 L1084.49 1548.85 L1084.49 1540.7 L1068.89 1540.7 L1068.89 1536.19 L1083.27 1514.29 Z\" fill=\"#000000\" fill-rule=\"nonzero\" fill-opacity=\"1\" /><path clip-path=\"url(#clip260)\" d=\"M1685.82 1529.7 Q1682.67 1529.7 1680.82 1531.86 Q1678.99 1534.01 1678.99 1537.76 Q1678.99 1541.49 1680.82 1543.66 Q1682.67 1545.82 1685.82 1545.82 Q1688.97 1545.82 1690.8 1543.66 Q1692.65 1541.49 1692.65 1537.76 Q1692.65 1534.01 1690.8 1531.86 Q1688.97 1529.7 1685.82 1529.7 M1695.1 1515.05 L1695.1 1519.31 Q1693.34 1518.48 1691.54 1518.04 Q1689.75 1517.6 1687.99 1517.6 Q1683.37 1517.6 1680.91 1520.72 Q1678.48 1523.85 1678.13 1530.17 Q1679.5 1528.15 1681.56 1527.09 Q1683.62 1526 1686.1 1526 Q1691.3 1526 1694.31 1529.17 Q1697.35 1532.32 1697.35 1537.76 Q1697.35 1543.08 1694.2 1546.3 Q1691.05 1549.52 1685.82 1549.52 Q1679.82 1549.52 1676.65 1544.94 Q1673.48 1540.33 1673.48 1531.6 Q1673.48 1523.41 1677.37 1518.55 Q1681.26 1513.66 1687.81 1513.66 Q1689.57 1513.66 1691.35 1514.01 Q1693.16 1514.36 1695.1 1515.05 Z\" fill=\"#000000\" fill-rule=\"nonzero\" fill-opacity=\"1\" /><path clip-path=\"url(#clip260)\" d=\"M2289.34 1532.44 Q2286.01 1532.44 2284.09 1534.22 Q2282.19 1536 2282.19 1539.13 Q2282.19 1542.25 2284.09 1544.03 Q2286.01 1545.82 2289.34 1545.82 Q2292.68 1545.82 2294.6 1544.03 Q2296.52 1542.23 2296.52 1539.13 Q2296.52 1536 2294.6 1534.22 Q2292.7 1532.44 2289.34 1532.44 M2284.67 1530.45 Q2281.66 1529.7 2279.97 1527.64 Q2278.3 1525.58 2278.3 1522.62 Q2278.3 1518.48 2281.24 1516.07 Q2284.2 1513.66 2289.34 1513.66 Q2294.51 1513.66 2297.45 1516.07 Q2300.38 1518.48 2300.38 1522.62 Q2300.38 1525.58 2298.7 1527.64 Q2297.03 1529.7 2294.04 1530.45 Q2297.42 1531.23 2299.3 1533.52 Q2301.2 1535.82 2301.2 1539.13 Q2301.2 1544.15 2298.12 1546.83 Q2295.06 1549.52 2289.34 1549.52 Q2283.63 1549.52 2280.55 1546.83 Q2277.49 1544.15 2277.49 1539.13 Q2277.49 1535.82 2279.39 1533.52 Q2281.29 1531.23 2284.67 1530.45 M2282.95 1523.06 Q2282.95 1525.75 2284.62 1527.25 Q2286.31 1528.76 2289.34 1528.76 Q2292.35 1528.76 2294.04 1527.25 Q2295.76 1525.75 2295.76 1523.06 Q2295.76 1520.38 2294.04 1518.87 Q2292.35 1517.37 2289.34 1517.37 Q2286.31 1517.37 2284.62 1518.87 Q2282.95 1520.38 2282.95 1523.06 Z\" fill=\"#000000\" fill-rule=\"nonzero\" fill-opacity=\"1\" /><polyline clip-path=\"url(#clip262)\" style=\"stroke:#000000; stroke-linecap:round; stroke-linejoin:round; stroke-width:2; stroke-opacity:0.1; fill:none\" points=\"112.177,1445.72 2352.76,1445.72 \"/>\n",
       "<polyline clip-path=\"url(#clip262)\" style=\"stroke:#000000; stroke-linecap:round; stroke-linejoin:round; stroke-width:2; stroke-opacity:0.1; fill:none\" points=\"112.177,1144 2352.76,1144 \"/>\n",
       "<polyline clip-path=\"url(#clip262)\" style=\"stroke:#000000; stroke-linecap:round; stroke-linejoin:round; stroke-width:2; stroke-opacity:0.1; fill:none\" points=\"112.177,842.276 2352.76,842.276 \"/>\n",
       "<polyline clip-path=\"url(#clip262)\" style=\"stroke:#000000; stroke-linecap:round; stroke-linejoin:round; stroke-width:2; stroke-opacity:0.1; fill:none\" points=\"112.177,540.556 2352.76,540.556 \"/>\n",
       "<polyline clip-path=\"url(#clip262)\" style=\"stroke:#000000; stroke-linecap:round; stroke-linejoin:round; stroke-width:2; stroke-opacity:0.1; fill:none\" points=\"112.177,238.836 2352.76,238.836 \"/>\n",
       "<polyline clip-path=\"url(#clip260)\" style=\"stroke:#000000; stroke-linecap:round; stroke-linejoin:round; stroke-width:4; stroke-opacity:1; fill:none\" points=\"112.177,1486.45 112.177,47.2441 \"/>\n",
       "<polyline clip-path=\"url(#clip260)\" style=\"stroke:#000000; stroke-linecap:round; stroke-linejoin:round; stroke-width:4; stroke-opacity:1; fill:none\" points=\"112.177,1445.72 131.075,1445.72 \"/>\n",
       "<polyline clip-path=\"url(#clip260)\" style=\"stroke:#000000; stroke-linecap:round; stroke-linejoin:round; stroke-width:4; stroke-opacity:1; fill:none\" points=\"112.177,1144 131.075,1144 \"/>\n",
       "<polyline clip-path=\"url(#clip260)\" style=\"stroke:#000000; stroke-linecap:round; stroke-linejoin:round; stroke-width:4; stroke-opacity:1; fill:none\" points=\"112.177,842.276 131.075,842.276 \"/>\n",
       "<polyline clip-path=\"url(#clip260)\" style=\"stroke:#000000; stroke-linecap:round; stroke-linejoin:round; stroke-width:4; stroke-opacity:1; fill:none\" points=\"112.177,540.556 131.075,540.556 \"/>\n",
       "<polyline clip-path=\"url(#clip260)\" style=\"stroke:#000000; stroke-linecap:round; stroke-linejoin:round; stroke-width:4; stroke-opacity:1; fill:none\" points=\"112.177,238.836 131.075,238.836 \"/>\n",
       "<path clip-path=\"url(#clip260)\" d=\"M64.2328 1431.51 Q60.6217 1431.51 58.793 1435.08 Q56.9875 1438.62 56.9875 1445.75 Q56.9875 1452.86 58.793 1456.42 Q60.6217 1459.96 64.2328 1459.96 Q67.867 1459.96 69.6726 1456.42 Q71.5013 1452.86 71.5013 1445.75 Q71.5013 1438.62 69.6726 1435.08 Q67.867 1431.51 64.2328 1431.51 M64.2328 1427.81 Q70.0429 1427.81 73.0985 1432.42 Q76.1772 1437 76.1772 1445.75 Q76.1772 1454.48 73.0985 1459.08 Q70.0429 1463.67 64.2328 1463.67 Q58.4226 1463.67 55.344 1459.08 Q52.2884 1454.48 52.2884 1445.75 Q52.2884 1437 55.344 1432.42 Q58.4226 1427.81 64.2328 1427.81 Z\" fill=\"#000000\" fill-rule=\"nonzero\" fill-opacity=\"1\" /><path clip-path=\"url(#clip260)\" d=\"M59.8578 1157.34 L76.1772 1157.34 L76.1772 1161.28 L54.2328 1161.28 L54.2328 1157.34 Q56.8949 1154.59 61.4782 1149.96 Q66.0846 1145.3 67.2652 1143.96 Q69.5105 1141.44 70.3902 1139.7 Q71.2929 1137.94 71.2929 1136.25 Q71.2929 1133.5 69.3485 1131.76 Q67.4272 1130.03 64.3254 1130.03 Q62.1263 1130.03 59.6726 1130.79 Q57.2421 1131.55 54.4643 1133.1 L54.4643 1128.38 Q57.2884 1127.25 59.7421 1126.67 Q62.1958 1126.09 64.2328 1126.09 Q69.6031 1126.09 72.7976 1128.78 Q75.992 1131.46 75.992 1135.95 Q75.992 1138.08 75.1818 1140 Q74.3948 1141.9 72.2883 1144.49 Q71.7096 1145.16 68.6078 1148.38 Q65.5059 1151.58 59.8578 1157.34 Z\" fill=\"#000000\" fill-rule=\"nonzero\" fill-opacity=\"1\" /><path clip-path=\"url(#clip260)\" d=\"M66.5939 829.07 L54.7884 847.519 L66.5939 847.519 L66.5939 829.07 M65.367 824.996 L71.2466 824.996 L71.2466 847.519 L76.1772 847.519 L76.1772 851.408 L71.2466 851.408 L71.2466 859.556 L66.5939 859.556 L66.5939 851.408 L50.9921 851.408 L50.9921 846.894 L65.367 824.996 Z\" fill=\"#000000\" fill-rule=\"nonzero\" fill-opacity=\"1\" /><path clip-path=\"url(#clip260)\" d=\"M64.6495 538.693 Q61.5013 538.693 59.6495 540.845 Q57.8208 542.998 57.8208 546.748 Q57.8208 550.475 59.6495 552.651 Q61.5013 554.804 64.6495 554.804 Q67.7976 554.804 69.6263 552.651 Q71.4781 550.475 71.4781 546.748 Q71.4781 542.998 69.6263 540.845 Q67.7976 538.693 64.6495 538.693 M73.9318 524.04 L73.9318 528.299 Q72.1726 527.466 70.367 527.026 Q68.5846 526.586 66.8254 526.586 Q62.1958 526.586 59.7421 529.711 Q57.3115 532.836 56.9643 539.156 Q58.33 537.142 60.3902 536.077 Q62.4504 534.989 64.9272 534.989 Q70.1355 534.989 73.1448 538.16 Q76.1772 541.308 76.1772 546.748 Q76.1772 552.072 73.029 555.29 Q69.8809 558.507 64.6495 558.507 Q58.6541 558.507 55.4828 553.924 Q52.3116 549.318 52.3116 540.591 Q52.3116 532.396 56.2004 527.535 Q60.0893 522.651 66.6402 522.651 Q68.3994 522.651 70.1818 522.998 Q71.9874 523.346 73.9318 524.04 Z\" fill=\"#000000\" fill-rule=\"nonzero\" fill-opacity=\"1\" /><path clip-path=\"url(#clip260)\" d=\"M64.3254 239.704 Q60.9921 239.704 59.0708 241.487 Q57.1726 243.269 57.1726 246.394 Q57.1726 249.519 59.0708 251.301 Q60.9921 253.084 64.3254 253.084 Q67.6587 253.084 69.58 251.301 Q71.5013 249.496 71.5013 246.394 Q71.5013 243.269 69.58 241.487 Q67.6819 239.704 64.3254 239.704 M59.6495 237.714 Q56.6402 236.973 54.9504 234.913 Q53.2838 232.852 53.2838 229.89 Q53.2838 225.746 56.2236 223.339 Q59.1865 220.931 64.3254 220.931 Q69.4874 220.931 72.4272 223.339 Q75.367 225.746 75.367 229.89 Q75.367 232.852 73.6772 234.913 Q72.0105 236.973 69.0244 237.714 Q72.404 238.501 74.279 240.792 Q76.1772 243.084 76.1772 246.394 Q76.1772 251.417 73.0985 254.102 Q70.0429 256.788 64.3254 256.788 Q58.6078 256.788 55.5291 254.102 Q52.4736 251.417 52.4736 246.394 Q52.4736 243.084 54.3717 240.792 Q56.2699 238.501 59.6495 237.714 M57.9365 230.329 Q57.9365 233.014 59.6032 234.519 Q61.293 236.024 64.3254 236.024 Q67.3346 236.024 69.0244 234.519 Q70.7374 233.014 70.7374 230.329 Q70.7374 227.644 69.0244 226.14 Q67.3346 224.635 64.3254 224.635 Q61.293 224.635 59.6032 226.14 Q57.9365 227.644 57.9365 230.329 Z\" fill=\"#000000\" fill-rule=\"nonzero\" fill-opacity=\"1\" /><circle clip-path=\"url(#clip262)\" cx=\"175.59\" cy=\"993.136\" r=\"14.4\" fill=\"#009af9\" fill-rule=\"evenodd\" fill-opacity=\"1\" stroke=\"#000000\" stroke-opacity=\"1\" stroke-width=\"3.2\"/>\n",
       "<circle clip-path=\"url(#clip262)\" cx=\"1081.48\" cy=\"691.416\" r=\"14.4\" fill=\"#e26f46\" fill-rule=\"evenodd\" fill-opacity=\"1\" stroke=\"#000000\" stroke-opacity=\"1\" stroke-width=\"3.2\"/>\n",
       "<circle clip-path=\"url(#clip262)\" cx=\"1987.38\" cy=\"389.696\" r=\"14.4\" fill=\"#3da44d\" fill-rule=\"evenodd\" fill-opacity=\"1\" stroke=\"#000000\" stroke-opacity=\"1\" stroke-width=\"3.2\"/>\n",
       "<circle clip-path=\"url(#clip262)\" cx=\"2289.34\" cy=\"1144\" r=\"14.4\" fill=\"#c271d2\" fill-rule=\"evenodd\" fill-opacity=\"1\" stroke=\"#000000\" stroke-opacity=\"1\" stroke-width=\"3.2\"/>\n",
       "<circle clip-path=\"url(#clip262)\" cx=\"779.519\" cy=\"87.9763\" r=\"14.4\" fill=\"#ac8d18\" fill-rule=\"evenodd\" fill-opacity=\"1\" stroke=\"#000000\" stroke-opacity=\"1\" stroke-width=\"3.2\"/>\n",
       "<circle clip-path=\"url(#clip262)\" cx=\"1987.38\" cy=\"1445.72\" r=\"14.4\" fill=\"#00a9ad\" fill-rule=\"evenodd\" fill-opacity=\"1\" stroke=\"#000000\" stroke-opacity=\"1\" stroke-width=\"3.2\"/>\n",
       "<circle clip-path=\"url(#clip262)\" cx=\"779.519\" cy=\"993.136\" r=\"14.4\" fill=\"#ed5d92\" fill-rule=\"evenodd\" fill-opacity=\"1\" stroke=\"#000000\" stroke-opacity=\"1\" stroke-width=\"3.2\"/>\n",
       "<polyline clip-path=\"url(#clip262)\" style=\"stroke:#0000ff; stroke-linecap:round; stroke-linejoin:round; stroke-width:8; stroke-opacity:1; fill:none\" points=\"1081.48,691.416 1987.38,389.696 \"/>\n",
       "<polyline clip-path=\"url(#clip262)\" style=\"stroke:#0000ff; stroke-linecap:round; stroke-linejoin:round; stroke-width:4; stroke-opacity:1; fill:none\" points=\"1987.38,389.696 779.519,87.9763 \"/>\n",
       "<polyline clip-path=\"url(#clip262)\" style=\"stroke:#0000ff; stroke-linecap:round; stroke-linejoin:round; stroke-width:4; stroke-opacity:1; fill:none\" points=\"175.59,993.136 1987.38,1445.72 \"/>\n",
       "<polyline clip-path=\"url(#clip262)\" style=\"stroke:#0000ff; stroke-linecap:round; stroke-linejoin:round; stroke-width:8; stroke-opacity:1; fill:none\" points=\"779.519,87.9763 1987.38,1445.72 \"/>\n",
       "<polyline clip-path=\"url(#clip262)\" style=\"stroke:#0000ff; stroke-linecap:round; stroke-linejoin:round; stroke-width:8; stroke-opacity:1; fill:none\" points=\"175.59,993.136 779.519,993.136 \"/>\n",
       "<polyline clip-path=\"url(#clip262)\" style=\"stroke:#0000ff; stroke-linecap:round; stroke-linejoin:round; stroke-width:4; stroke-opacity:1; fill:none\" points=\"1081.48,691.416 779.519,993.136 \"/>\n",
       "</svg>\n"
      ]
     },
     "metadata": {},
     "output_type": "display_data"
    }
   ],
   "source": [
    "ciclo=zeros(N,N)\n",
    "ciclo[1,7]=1\n",
    "ciclo[2,3]=1\n",
    "ciclo[5,6]=1\n",
    "\n",
    "ciclo[3,5]=0.5\n",
    "ciclo[2,7]=0.5\n",
    "ciclo[1,6]=0.5\n",
    "\n",
    "dibuja(coordenadax,coordenaday,ciclo)"
   ]
  },
  {
   "cell_type": "markdown",
   "metadata": {},
   "source": [
    "## P2\n",
    "Antes de modelar problemas de emparejamientos veamos como hacerlo para un problema genérico de programación lineal.\n",
    "\n",
    "Sean:\n",
    "$A = \\begin{pmatrix}\n",
    "1 &2\\\\\n",
    "3 &4\\\\\n",
    "\\end{pmatrix},\n",
    "B = \\begin{pmatrix}\n",
    "1 &-2\\\\\n",
    "0 &-1\\\\\n",
    "\\end{pmatrix},\n",
    "a = \\begin{pmatrix}\n",
    "0\\\\\n",
    "1\\\\\n",
    "\\end{pmatrix},\n",
    "b = \\begin{pmatrix}\n",
    "1\\\\\n",
    "-1\\\\\n",
    "\\end{pmatrix},\n",
    "c = \\begin{pmatrix}\n",
    "1\\\\\n",
    "3\\\\\n",
    "\\end{pmatrix},\n",
    "d = \\begin{pmatrix}\n",
    "-2\\\\\n",
    "1\\\\\n",
    "\\end{pmatrix}$\n",
    "\n",
    "Defina dichos vectores y matrices e implemente la función **creaModelo** que retorna el modelo JuMP del siguiente programa lineal:\n",
    "\n",
    "\\begin{align*}\n",
    "\\textit{(P)}\\quad  \\min cx+dy\\\\\n",
    "Ax &\\geq a\\\\\n",
    "By & \\leq b\\\\\n",
    "x & \\geq 0\\\\\n",
    "y & \\in \\{0,1\\}^2\\\\\n",
    "\\end{align*}\n",
    "_Indicación: Puede serle útil consultar la [Documentación de JuMP](https://jump.dev/JuMP.jl/stable/)._"
   ]
  },
  {
   "cell_type": "code",
   "execution_count": 9,
   "metadata": {},
   "outputs": [
    {
     "data": {
      "text/plain": [
       "1×2 Matrix{Int64}:\n",
       " -2  1"
      ]
     },
     "execution_count": 9,
     "metadata": {},
     "output_type": "execute_result"
    }
   ],
   "source": [
    "A = [1 2; 3 4]\n",
    "B = [1 -2; 0 -1]\n",
    "a = [0; 1]\n",
    "b = [1; -1]\n",
    "c = [1 3]\n",
    "d = [-2 1]"
   ]
  },
  {
   "cell_type": "code",
   "execution_count": 10,
   "metadata": {},
   "outputs": [
    {
     "data": {
      "text/plain": [
       "creaModelo (generic function with 1 method)"
      ]
     },
     "execution_count": 10,
     "metadata": {},
     "output_type": "execute_result"
    }
   ],
   "source": [
    "function creaModelo(A,B,a,b,c,d)\n",
    "    modelo = Model(optimizer_with_attributes(() -> Gurobi.Optimizer(GUROBI_ENV), \"OutputFlag\" => 0, \"Presolve\"=>0, \"Cuts\"=>0, \"Heuristics\"=>0, \"Threads\"=>1))\n",
    "    @variable(modelo, 0<=x[1:2]);\n",
    "    @variable(modelo, y[1:2], Bin);\n",
    "    @objective(modelo, Min, sum(c[i]*x[i]+d[i]*y[i] for i in 1:2));\n",
    "    @constraint(modelo, A*x.>=a);\n",
    "    @constraint(modelo, B*y.<=b);\n",
    "\n",
    "    return modelo\n",
    "end"
   ]
  },
  {
   "cell_type": "code",
   "execution_count": 11,
   "metadata": {},
   "outputs": [
    {
     "name": "stdout",
     "output_type": "stream",
     "text": [
      "Set parameter Cuts to value 0\r\n",
      "Set parameter Heuristics to value 0\r\n",
      "Set parameter Threads to value 1\r\n"
     ]
    },
    {
     "data": {
      "text/plain": [
       "\"Estado de Término: OPTIMAL\""
      ]
     },
     "metadata": {},
     "output_type": "display_data"
    },
    {
     "data": {
      "text/plain": [
       "\"Valor Objetivo: -0.6666666666666667\""
      ]
     },
     "metadata": {},
     "output_type": "display_data"
    }
   ],
   "source": [
    "modelo = creaModelo(A,B,a,b,c,d)\n",
    "optimize!(modelo)\n",
    "display(string(\"Estado de Término: \", termination_status(modelo)))\n",
    "display(string(\"Valor Objetivo: \", objective_value(modelo)))"
   ]
  },
  {
   "cell_type": "markdown",
   "metadata": {},
   "source": [
    "_Nota: El valor objetivo debería ser alrededor de -0.66666..._"
   ]
  },
  {
   "cell_type": "markdown",
   "metadata": {},
   "source": [
    "***\n",
    "En lo que sigue  $G=(V,E)$ es un grafo **completo** con $V=[N]$, Los siguientes cuatro modelos son modelos exactos (posiblemente extendidos y en el sentido de puntos extremos) para encontrar un emparejamiento de peso mínimo. Consideraremos $E=\\{[i,j]\\colon 1\\leq i < j\\leq N\\}$.\n",
    "\n",
    "\n",
    "\\begin{align*}\n",
    "\\text{(M1)}\\quad  \\min \\sum_{e\\in E} x_ew_e\\\\\n",
    "x(E) &= N/2\\\\\n",
    "x_{e}+x_{f}&\\leq 1, \\forall e, f \\in E\\colon |e\\cap f|=1\\\\\n",
    "0\\leq x_e&\\leq 1, \\forall e\\in E\\\\\n",
    "x_e&\\in \\mathbb{Z}, \\forall e\\in E\\\\\n",
    "\\mbox{}\\\\\n",
    "\\text{(M2)}\\quad  \\min \\sum_{e\\in E} x_ew_e\\\\\n",
    "x(\\delta(i))&= 1, \\forall i\\in V\\\\\n",
    "x_e&\\geq 0, \\forall e\\in E\\\\\n",
    "x_e&\\in \\mathbb{Z}, \\forall e\\in E\\\\\n",
    "\\mbox{}\\\\\n",
    "\\text{(M3)}\\quad  \\min \\sum_{e\\in E} x_ew_e\\\\\n",
    "x(\\delta(i))&= 1, \\forall i\\in V\\\\\n",
    "y(V)&=n/2\\\\\n",
    "x_{ij}&\\leq y_{i}+y_{j}, \\forall e=ij \\in E\\\\\n",
    "x_{ij}&\\leq 2-y_{i}+y_{j}, \\forall e=ij \\in E\\\\\n",
    "x_e&\\geq 0, \\forall e\\in E\\\\\n",
    "0\\leq y_v&\\leq 1, \\forall v\\in V\\\\\n",
    "y_v&\\in \\mathbb{Z}, \\forall v\\in V\\\\\n",
    "\\mbox{}\\\\\n",
    "\\text{(M4)}\\quad  \\min \\sum_{e\\in E} x_ew_e\\\\\n",
    "x(E) &= N/2\\\\\n",
    "x(E(S))&\\leq \\frac{|S|-1}{2}, \\forall S\\subseteq V, |S| \\text{ impar}\\\\\n",
    "0\\leq x_e&\\leq 1, \\forall e\\in E\\\\\n",
    "\\end{align*}\n",
    "\n",
    "Los 4 modelos son bastante distintos entre sí. \n",
    "\n",
    "El primer modelo es un PLE con $m=\\Theta(N^2)$ variables enteras y $\\Theta(N^3)$ restricciones.\n",
    "\n",
    "El segundo modelo es un PLE con $m=\\Theta(N^2)$ variables enteras y $\\Theta(N)$ restricciones (ignorando cotas).\n",
    "\n",
    "El tercer modelo es un PL Mixto con $m=\\Theta(N^2)$ variables continuas, $N$ variables enteras y $\\Theta(N^2)$ restricciones.\n",
    "\n",
    "El cuarto modelo es un PL puro con  $m=\\Theta(N^2)$ variables continuas  y $\\Theta(2^N)$ restricciones. Un teorema de Edmonds garantiza que los puntos extremos de (M4) son exactamente matchings perfectos.\n",
    "\n",
    "***"
   ]
  },
  {
   "cell_type": "markdown",
   "metadata": {},
   "source": [
    "# P3\n",
    "\n",
    "Implemente la función **emparejamiento** que reciba como entrada:\n",
    "```julia\n",
    "num_modelo: entero en {1,2,3,4} que representa si se trabaja con M1, M2, M3 o M4.\n",
    "N: número de vértices del grafo\n",
    "w: matriz de pesos\n",
    "```\n",
    "y entregue el modelo en juMP/Gurobi asociado al grafo entregado."
   ]
  },
  {
   "cell_type": "code",
   "execution_count": 12,
   "metadata": {},
   "outputs": [
    {
     "data": {
      "text/plain": [
       "interseccion (generic function with 1 method)"
      ]
     },
     "execution_count": 12,
     "metadata": {},
     "output_type": "execute_result"
    }
   ],
   "source": [
    "function interseccion(e,f)\n",
    "    if e == f\n",
    "        return false\n",
    "    end\n",
    "    if e[1]==f[1] || e[1]==f[2] || e[2]==f[1] || e[2]==f[2]\n",
    "        return true\n",
    "    end\n",
    "    return false\n",
    "end"
   ]
  },
  {
   "cell_type": "code",
   "execution_count": 13,
   "metadata": {},
   "outputs": [
    {
     "data": {
      "text/plain": [
       "emparejamiento (generic function with 1 method)"
      ]
     },
     "execution_count": 13,
     "metadata": {},
     "output_type": "execute_result"
    }
   ],
   "source": [
    "function emparejamiento(num_modelo, N, w)\n",
    "    modelo = Model(optimizer_with_attributes(() -> Gurobi.Optimizer(GUROBI_ENV), \"OutputFlag\" => 0, \"Presolve\"=>0, \"Cuts\"=>0, \"Heuristics\"=>0, \"Threads\"=>1))\n",
    "    E = [[i,j] for i in 1:N, j in 1:N if i<j]\n",
    "    if num_modelo==1\n",
    "        @variable(modelo, 0<=x[E]<=1,Int);\n",
    "        @objective(modelo, Min, sum(x[e]*w[e[1],e[2]] for e in E));\n",
    "        @constraints(modelo, begin\n",
    "            sum(x[e] for e in E) == N//2\n",
    "            [e in E, f in E; interseccion(e,f)], x[e]+x[f] <= 1\n",
    "        end)\n",
    "    end\n",
    "    if num_modelo==2\n",
    "        @variable(modelo, 0<=x[e in E],Int);\n",
    "        @objective(modelo, Min, sum(x[e]*w[e[1],e[2]] for e in E));\n",
    "        @constraints(modelo, begin\n",
    "            [i in 1:N], sum(x[[i,j]] for j in i+1:N) + sum(x[[j,i]] for j in 1:i-1) == 1\n",
    "        end)\n",
    "    end\n",
    "    if num_modelo==3\n",
    "        @variable(modelo, 0<=x[E])\n",
    "        @variable(modelo, 0<=y[1:N]<=1, Int)\n",
    "        @objective(modelo, Min, sum(x[e]*w[e[1],e[2]] for e in E));\n",
    "        @constraints(modelo, begin\n",
    "            [i in 1:N], sum(x[[i,j]] for j in i+1:N) + sum(x[[j,i]] for j in 1:i-1) == 1\n",
    "            # Alternativa:\n",
    "            #[i in 1:N], sum(x[[i,j]] for j in 1:N if [i,j] in E || [j,i] in E) == 1\n",
    "            sum(y[v] for v in 1:N) == N//2\n",
    "            [e in E], x[e] <= y[e[1]] + y[e[2]]\n",
    "            [e in E], x[e] <= 2 - y[e[1]] + y[e[2]]\n",
    "        end)\n",
    "    end\n",
    "    if num_modelo==4\n",
    "        @variable(modelo, 0<=x[E]<=1)\n",
    "        @variable(modelo, 0<=y[1:N]<=1, Int)\n",
    "        @objective(modelo, Min, sum(x[e]*w[e[1],e[2]] for e in E));\n",
    "        @constraints(modelo, begin\n",
    "            sum(x[e] for e in E) == N//2\n",
    "            [S in powerset(1:N); length(S)%2==1], sum(x[e] for e in E if e[1] in S && e[2] in S) <= (length(S)-1)/2\n",
    "        end)\n",
    "    end\n",
    "    return modelo\n",
    "end"
   ]
  },
  {
   "cell_type": "markdown",
   "metadata": {},
   "source": [
    "Pruebe su método ejecutando el siguiente bloque:"
   ]
  },
  {
   "cell_type": "code",
   "execution_count": 14,
   "metadata": {},
   "outputs": [
    {
     "data": {
      "text/plain": [
       "6×6 Matrix{Float64}:\n",
       " 0.0  65.437  157.493    99.8499  148.519   181.687\n",
       " 0.0   0.0     94.0319  110.073    89.8443  118.152\n",
       " 0.0   0.0      0.0     154.564    25.9615   24.2074\n",
       " 0.0   0.0      0.0       0.0     132.197   173.954\n",
       " 0.0   0.0      0.0       0.0       0.0      41.7612\n",
       " 0.0   0.0      0.0       0.0       0.0       0.0"
      ]
     },
     "execution_count": 14,
     "metadata": {},
     "output_type": "execute_result"
    }
   ],
   "source": [
    "N=6\n",
    "a = [63, 114, 165, 14, 140, 180]\n",
    "b = [174, 133, 54, 87, 47, 35]\n",
    "w = distancias(a,b)"
   ]
  },
  {
   "cell_type": "code",
   "execution_count": 15,
   "metadata": {},
   "outputs": [
    {
     "name": "stdout",
     "output_type": "stream",
     "text": [
      "Set parameter Cuts to value 0\r\n",
      "Set parameter Heuristics to value 0\r\n",
      "Set parameter Threads to value 1\r\n",
      "termination_status(modelo1) = MathOptInterface.OPTIMAL\n",
      "objective_value(modelo1) = 213.90163398561813\n"
     ]
    },
    {
     "data": {
      "text/plain": [
       "213.90163398561813"
      ]
     },
     "execution_count": 15,
     "metadata": {},
     "output_type": "execute_result"
    }
   ],
   "source": [
    "num_mod=1\n",
    "modelo1=emparejamiento(num_mod, N, w)\n",
    "optimize!(modelo1)\n",
    "@show(termination_status(modelo1))\n",
    "@show(objective_value(modelo1))"
   ]
  },
  {
   "cell_type": "code",
   "execution_count": 16,
   "metadata": {},
   "outputs": [
    {
     "name": "stdout",
     "output_type": "stream",
     "text": [
      "Set parameter Cuts to value 0\r\n",
      "Set parameter Heuristics to value 0\r\n",
      "Set parameter Threads to value 1\r\n",
      "termination_status(modelo2) = MathOptInterface.OPTIMAL\n",
      "objective_value(modelo2) = 213.90163398561813\n"
     ]
    },
    {
     "data": {
      "text/plain": [
       "213.90163398561813"
      ]
     },
     "execution_count": 16,
     "metadata": {},
     "output_type": "execute_result"
    }
   ],
   "source": [
    "num_mod=2\n",
    "modelo2=emparejamiento(num_mod, N, w)\n",
    "optimize!(modelo2)\n",
    "@show(termination_status(modelo2))\n",
    "@show(objective_value(modelo2))"
   ]
  },
  {
   "cell_type": "code",
   "execution_count": 17,
   "metadata": {},
   "outputs": [
    {
     "name": "stdout",
     "output_type": "stream",
     "text": [
      "Set parameter Cuts to value 0\r\n",
      "Set parameter Heuristics to value 0\r\n",
      "Set parameter Threads to value 1\r\n",
      "termination_status(modelo3) = MathOptInterface.OPTIMAL\n",
      "objective_value(modelo3) = 213.90163398561816\n"
     ]
    },
    {
     "data": {
      "text/plain": [
       "213.90163398561816"
      ]
     },
     "execution_count": 17,
     "metadata": {},
     "output_type": "execute_result"
    }
   ],
   "source": [
    "num_mod=3\n",
    "modelo3=emparejamiento(num_mod, N, w)\n",
    "optimize!(modelo3)\n",
    "@show(termination_status(modelo3))\n",
    "@show(objective_value(modelo3))"
   ]
  },
  {
   "cell_type": "code",
   "execution_count": 18,
   "metadata": {},
   "outputs": [
    {
     "name": "stdout",
     "output_type": "stream",
     "text": [
      "Set parameter Cuts to value 0\r\n",
      "Set parameter Heuristics to value 0\r\n",
      "Set parameter Threads to value 1\r\n",
      "termination_status(modelo4) = MathOptInterface.OPTIMAL\n",
      "objective_value(modelo4) = 213.90163398561816\n"
     ]
    },
    {
     "data": {
      "text/plain": [
       "213.90163398561816"
      ]
     },
     "execution_count": 18,
     "metadata": {},
     "output_type": "execute_result"
    }
   ],
   "source": [
    "num_mod = 4\n",
    "modelo4 = emparejamiento(num_mod, N, w)\n",
    "optimize!(modelo4)\n",
    "@show(termination_status(modelo4))\n",
    "@show(objective_value(modelo4))"
   ]
  },
  {
   "cell_type": "markdown",
   "metadata": {},
   "source": [
    "_Nota: El valor objetivo debería ser alrededor de 213.9016339..._"
   ]
  },
  {
   "cell_type": "code",
   "execution_count": 19,
   "metadata": {},
   "outputs": [
    {
     "data": {
      "image/svg+xml": [
       "<?xml version=\"1.0\" encoding=\"utf-8\"?>\n",
       "<svg xmlns=\"http://www.w3.org/2000/svg\" xmlns:xlink=\"http://www.w3.org/1999/xlink\" width=\"600\" height=\"400\" viewBox=\"0 0 2400 1600\">\n",
       "<defs>\n",
       "  <clipPath id=\"clip300\">\n",
       "    <rect x=\"0\" y=\"0\" width=\"2400\" height=\"1600\"/>\n",
       "  </clipPath>\n",
       "</defs>\n",
       "<path clip-path=\"url(#clip300)\" d=\"M0 1600 L2400 1600 L2400 0 L0 0  Z\" fill=\"#ffffff\" fill-rule=\"evenodd\" fill-opacity=\"1\"/>\n",
       "<defs>\n",
       "  <clipPath id=\"clip301\">\n",
       "    <rect x=\"480\" y=\"0\" width=\"1681\" height=\"1600\"/>\n",
       "  </clipPath>\n",
       "</defs>\n",
       "<path clip-path=\"url(#clip300)\" d=\"M169.121 1486.45 L2352.76 1486.45 L2352.76 47.2441 L169.121 47.2441  Z\" fill=\"#ffffff\" fill-rule=\"evenodd\" fill-opacity=\"1\"/>\n",
       "<defs>\n",
       "  <clipPath id=\"clip302\">\n",
       "    <rect x=\"169\" y=\"47\" width=\"2185\" height=\"1440\"/>\n",
       "  </clipPath>\n",
       "</defs>\n",
       "<polyline clip-path=\"url(#clip302)\" style=\"stroke:#000000; stroke-linecap:round; stroke-linejoin:round; stroke-width:2; stroke-opacity:0.1; fill:none\" points=\"367.43,1486.45 367.43,47.2441 \"/>\n",
       "<polyline clip-path=\"url(#clip302)\" style=\"stroke:#000000; stroke-linecap:round; stroke-linejoin:round; stroke-width:2; stroke-opacity:0.1; fill:none\" points=\"677.676,1486.45 677.676,47.2441 \"/>\n",
       "<polyline clip-path=\"url(#clip302)\" style=\"stroke:#000000; stroke-linecap:round; stroke-linejoin:round; stroke-width:2; stroke-opacity:0.1; fill:none\" points=\"987.922,1486.45 987.922,47.2441 \"/>\n",
       "<polyline clip-path=\"url(#clip302)\" style=\"stroke:#000000; stroke-linecap:round; stroke-linejoin:round; stroke-width:2; stroke-opacity:0.1; fill:none\" points=\"1298.17,1486.45 1298.17,47.2441 \"/>\n",
       "<polyline clip-path=\"url(#clip302)\" style=\"stroke:#000000; stroke-linecap:round; stroke-linejoin:round; stroke-width:2; stroke-opacity:0.1; fill:none\" points=\"1608.41,1486.45 1608.41,47.2441 \"/>\n",
       "<polyline clip-path=\"url(#clip302)\" style=\"stroke:#000000; stroke-linecap:round; stroke-linejoin:round; stroke-width:2; stroke-opacity:0.1; fill:none\" points=\"1918.66,1486.45 1918.66,47.2441 \"/>\n",
       "<polyline clip-path=\"url(#clip302)\" style=\"stroke:#000000; stroke-linecap:round; stroke-linejoin:round; stroke-width:2; stroke-opacity:0.1; fill:none\" points=\"2228.91,1486.45 2228.91,47.2441 \"/>\n",
       "<polyline clip-path=\"url(#clip300)\" style=\"stroke:#000000; stroke-linecap:round; stroke-linejoin:round; stroke-width:4; stroke-opacity:1; fill:none\" points=\"169.121,1486.45 2352.76,1486.45 \"/>\n",
       "<polyline clip-path=\"url(#clip300)\" style=\"stroke:#000000; stroke-linecap:round; stroke-linejoin:round; stroke-width:4; stroke-opacity:1; fill:none\" points=\"367.43,1486.45 367.43,1467.55 \"/>\n",
       "<polyline clip-path=\"url(#clip300)\" style=\"stroke:#000000; stroke-linecap:round; stroke-linejoin:round; stroke-width:4; stroke-opacity:1; fill:none\" points=\"677.676,1486.45 677.676,1467.55 \"/>\n",
       "<polyline clip-path=\"url(#clip300)\" style=\"stroke:#000000; stroke-linecap:round; stroke-linejoin:round; stroke-width:4; stroke-opacity:1; fill:none\" points=\"987.922,1486.45 987.922,1467.55 \"/>\n",
       "<polyline clip-path=\"url(#clip300)\" style=\"stroke:#000000; stroke-linecap:round; stroke-linejoin:round; stroke-width:4; stroke-opacity:1; fill:none\" points=\"1298.17,1486.45 1298.17,1467.55 \"/>\n",
       "<polyline clip-path=\"url(#clip300)\" style=\"stroke:#000000; stroke-linecap:round; stroke-linejoin:round; stroke-width:4; stroke-opacity:1; fill:none\" points=\"1608.41,1486.45 1608.41,1467.55 \"/>\n",
       "<polyline clip-path=\"url(#clip300)\" style=\"stroke:#000000; stroke-linecap:round; stroke-linejoin:round; stroke-width:4; stroke-opacity:1; fill:none\" points=\"1918.66,1486.45 1918.66,1467.55 \"/>\n",
       "<polyline clip-path=\"url(#clip300)\" style=\"stroke:#000000; stroke-linecap:round; stroke-linejoin:round; stroke-width:4; stroke-opacity:1; fill:none\" points=\"2228.91,1486.45 2228.91,1467.55 \"/>\n",
       "<path clip-path=\"url(#clip300)\" d=\"M346.701 1544.91 L363.021 1544.91 L363.021 1548.85 L341.076 1548.85 L341.076 1544.91 Q343.738 1542.16 348.322 1537.53 Q352.928 1532.88 354.109 1531.53 Q356.354 1529.01 357.234 1527.27 Q358.137 1525.51 358.137 1523.82 Q358.137 1521.07 356.192 1519.33 Q354.271 1517.6 351.169 1517.6 Q348.97 1517.6 346.516 1518.36 Q344.086 1519.13 341.308 1520.68 L341.308 1515.95 Q344.132 1514.82 346.586 1514.24 Q349.039 1513.66 351.076 1513.66 Q356.447 1513.66 359.641 1516.35 Q362.836 1519.03 362.836 1523.52 Q362.836 1525.65 362.025 1527.57 Q361.238 1529.47 359.132 1532.07 Q358.553 1532.74 355.451 1535.95 Q352.35 1539.15 346.701 1544.91 Z\" fill=\"#000000\" fill-rule=\"nonzero\" fill-opacity=\"1\" /><path clip-path=\"url(#clip300)\" d=\"M372.882 1514.29 L391.238 1514.29 L391.238 1518.22 L377.164 1518.22 L377.164 1526.7 Q378.183 1526.35 379.201 1526.19 Q380.22 1526 381.238 1526 Q387.025 1526 390.405 1529.17 Q393.785 1532.34 393.785 1537.76 Q393.785 1543.34 390.312 1546.44 Q386.84 1549.52 380.521 1549.52 Q378.345 1549.52 376.076 1549.15 Q373.831 1548.78 371.424 1548.04 L371.424 1543.34 Q373.507 1544.47 375.729 1545.03 Q377.951 1545.58 380.428 1545.58 Q384.433 1545.58 386.771 1543.48 Q389.109 1541.37 389.109 1537.76 Q389.109 1534.15 386.771 1532.04 Q384.433 1529.94 380.428 1529.94 Q378.553 1529.94 376.678 1530.35 Q374.826 1530.77 372.882 1531.65 L372.882 1514.29 Z\" fill=\"#000000\" fill-rule=\"nonzero\" fill-opacity=\"1\" /><path clip-path=\"url(#clip300)\" d=\"M652.376 1514.29 L670.732 1514.29 L670.732 1518.22 L656.658 1518.22 L656.658 1526.7 Q657.676 1526.35 658.695 1526.19 Q659.713 1526 660.732 1526 Q666.519 1526 669.899 1529.17 Q673.278 1532.34 673.278 1537.76 Q673.278 1543.34 669.806 1546.44 Q666.334 1549.52 660.014 1549.52 Q657.839 1549.52 655.57 1549.15 Q653.325 1548.78 650.917 1548.04 L650.917 1543.34 Q653.001 1544.47 655.223 1545.03 Q657.445 1545.58 659.922 1545.58 Q663.926 1545.58 666.264 1543.48 Q668.602 1541.37 668.602 1537.76 Q668.602 1534.15 666.264 1532.04 Q663.926 1529.94 659.922 1529.94 Q658.047 1529.94 656.172 1530.35 Q654.32 1530.77 652.376 1531.65 L652.376 1514.29 Z\" fill=\"#000000\" fill-rule=\"nonzero\" fill-opacity=\"1\" /><path clip-path=\"url(#clip300)\" d=\"M692.491 1517.37 Q688.88 1517.37 687.051 1520.93 Q685.246 1524.47 685.246 1531.6 Q685.246 1538.71 687.051 1542.27 Q688.88 1545.82 692.491 1545.82 Q696.125 1545.82 697.931 1542.27 Q699.76 1538.71 699.76 1531.6 Q699.76 1524.47 697.931 1520.93 Q696.125 1517.37 692.491 1517.37 M692.491 1513.66 Q698.301 1513.66 701.357 1518.27 Q704.435 1522.85 704.435 1531.6 Q704.435 1540.33 701.357 1544.94 Q698.301 1549.52 692.491 1549.52 Q686.681 1549.52 683.602 1544.94 Q680.547 1540.33 680.547 1531.6 Q680.547 1522.85 683.602 1518.27 Q686.681 1513.66 692.491 1513.66 Z\" fill=\"#000000\" fill-rule=\"nonzero\" fill-opacity=\"1\" /><path clip-path=\"url(#clip300)\" d=\"M961.777 1514.29 L983.999 1514.29 L983.999 1516.28 L971.452 1548.85 L966.568 1548.85 L978.374 1518.22 L961.777 1518.22 L961.777 1514.29 Z\" fill=\"#000000\" fill-rule=\"nonzero\" fill-opacity=\"1\" /><path clip-path=\"url(#clip300)\" d=\"M993.165 1514.29 L1011.52 1514.29 L1011.52 1518.22 L997.448 1518.22 L997.448 1526.7 Q998.466 1526.35 999.485 1526.19 Q1000.5 1526 1001.52 1526 Q1007.31 1526 1010.69 1529.17 Q1014.07 1532.34 1014.07 1537.76 Q1014.07 1543.34 1010.6 1546.44 Q1007.12 1549.52 1000.8 1549.52 Q998.628 1549.52 996.36 1549.15 Q994.114 1548.78 991.707 1548.04 L991.707 1543.34 Q993.79 1544.47 996.012 1545.03 Q998.235 1545.58 1000.71 1545.58 Q1004.72 1545.58 1007.05 1543.48 Q1009.39 1541.37 1009.39 1537.76 Q1009.39 1534.15 1007.05 1532.04 Q1004.72 1529.94 1000.71 1529.94 Q998.837 1529.94 996.962 1530.35 Q995.11 1530.77 993.165 1531.65 L993.165 1514.29 Z\" fill=\"#000000\" fill-rule=\"nonzero\" fill-opacity=\"1\" /><path clip-path=\"url(#clip300)\" d=\"M1257.77 1544.91 L1265.41 1544.91 L1265.41 1518.55 L1257.1 1520.21 L1257.1 1515.95 L1265.37 1514.29 L1270.04 1514.29 L1270.04 1544.91 L1277.68 1544.91 L1277.68 1548.85 L1257.77 1548.85 L1257.77 1544.91 Z\" fill=\"#000000\" fill-rule=\"nonzero\" fill-opacity=\"1\" /><path clip-path=\"url(#clip300)\" d=\"M1297.13 1517.37 Q1293.52 1517.37 1291.69 1520.93 Q1289.88 1524.47 1289.88 1531.6 Q1289.88 1538.71 1291.69 1542.27 Q1293.52 1545.82 1297.13 1545.82 Q1300.76 1545.82 1302.57 1542.27 Q1304.39 1538.71 1304.39 1531.6 Q1304.39 1524.47 1302.57 1520.93 Q1300.76 1517.37 1297.13 1517.37 M1297.13 1513.66 Q1302.94 1513.66 1305.99 1518.27 Q1309.07 1522.85 1309.07 1531.6 Q1309.07 1540.33 1305.99 1544.94 Q1302.94 1549.52 1297.13 1549.52 Q1291.32 1549.52 1288.24 1544.94 Q1285.18 1540.33 1285.18 1531.6 Q1285.18 1522.85 1288.24 1518.27 Q1291.32 1513.66 1297.13 1513.66 Z\" fill=\"#000000\" fill-rule=\"nonzero\" fill-opacity=\"1\" /><path clip-path=\"url(#clip300)\" d=\"M1327.29 1517.37 Q1323.68 1517.37 1321.85 1520.93 Q1320.04 1524.47 1320.04 1531.6 Q1320.04 1538.71 1321.85 1542.27 Q1323.68 1545.82 1327.29 1545.82 Q1330.92 1545.82 1332.73 1542.27 Q1334.56 1538.71 1334.56 1531.6 Q1334.56 1524.47 1332.73 1520.93 Q1330.92 1517.37 1327.29 1517.37 M1327.29 1513.66 Q1333.1 1513.66 1336.15 1518.27 Q1339.23 1522.85 1339.23 1531.6 Q1339.23 1540.33 1336.15 1544.94 Q1333.1 1549.52 1327.29 1549.52 Q1321.48 1549.52 1318.4 1544.94 Q1315.34 1540.33 1315.34 1531.6 Q1315.34 1522.85 1318.4 1518.27 Q1321.48 1513.66 1327.29 1513.66 Z\" fill=\"#000000\" fill-rule=\"nonzero\" fill-opacity=\"1\" /><path clip-path=\"url(#clip300)\" d=\"M1568.52 1544.91 L1576.16 1544.91 L1576.16 1518.55 L1567.85 1520.21 L1567.85 1515.95 L1576.11 1514.29 L1580.79 1514.29 L1580.79 1544.91 L1588.43 1544.91 L1588.43 1548.85 L1568.52 1548.85 L1568.52 1544.91 Z\" fill=\"#000000\" fill-rule=\"nonzero\" fill-opacity=\"1\" /><path clip-path=\"url(#clip300)\" d=\"M1601.9 1544.91 L1618.22 1544.91 L1618.22 1548.85 L1596.27 1548.85 L1596.27 1544.91 Q1598.93 1542.16 1603.52 1537.53 Q1608.12 1532.88 1609.31 1531.53 Q1611.55 1529.01 1612.43 1527.27 Q1613.33 1525.51 1613.33 1523.82 Q1613.33 1521.07 1611.39 1519.33 Q1609.47 1517.6 1606.37 1517.6 Q1604.17 1517.6 1601.71 1518.36 Q1599.28 1519.13 1596.5 1520.68 L1596.5 1515.95 Q1599.33 1514.82 1601.78 1514.24 Q1604.24 1513.66 1606.27 1513.66 Q1611.64 1513.66 1614.84 1516.35 Q1618.03 1519.03 1618.03 1523.52 Q1618.03 1525.65 1617.22 1527.57 Q1616.43 1529.47 1614.33 1532.07 Q1613.75 1532.74 1610.65 1535.95 Q1607.55 1539.15 1601.9 1544.91 Z\" fill=\"#000000\" fill-rule=\"nonzero\" fill-opacity=\"1\" /><path clip-path=\"url(#clip300)\" d=\"M1628.08 1514.29 L1646.43 1514.29 L1646.43 1518.22 L1632.36 1518.22 L1632.36 1526.7 Q1633.38 1526.35 1634.4 1526.19 Q1635.42 1526 1636.43 1526 Q1642.22 1526 1645.6 1529.17 Q1648.98 1532.34 1648.98 1537.76 Q1648.98 1543.34 1645.51 1546.44 Q1642.04 1549.52 1635.72 1549.52 Q1633.54 1549.52 1631.27 1549.15 Q1629.03 1548.78 1626.62 1548.04 L1626.62 1543.34 Q1628.7 1544.47 1630.93 1545.03 Q1633.15 1545.58 1635.62 1545.58 Q1639.63 1545.58 1641.97 1543.48 Q1644.31 1541.37 1644.31 1537.76 Q1644.31 1534.15 1641.97 1532.04 Q1639.63 1529.94 1635.62 1529.94 Q1633.75 1529.94 1631.87 1530.35 Q1630.02 1530.77 1628.08 1531.65 L1628.08 1514.29 Z\" fill=\"#000000\" fill-rule=\"nonzero\" fill-opacity=\"1\" /><path clip-path=\"url(#clip300)\" d=\"M1878.27 1544.91 L1885.91 1544.91 L1885.91 1518.55 L1877.6 1520.21 L1877.6 1515.95 L1885.86 1514.29 L1890.54 1514.29 L1890.54 1544.91 L1898.17 1544.91 L1898.17 1548.85 L1878.27 1548.85 L1878.27 1544.91 Z\" fill=\"#000000\" fill-rule=\"nonzero\" fill-opacity=\"1\" /><path clip-path=\"url(#clip300)\" d=\"M1907.66 1514.29 L1926.02 1514.29 L1926.02 1518.22 L1911.95 1518.22 L1911.95 1526.7 Q1912.97 1526.35 1913.98 1526.19 Q1915 1526 1916.02 1526 Q1921.81 1526 1925.19 1529.17 Q1928.57 1532.34 1928.57 1537.76 Q1928.57 1543.34 1925.1 1546.44 Q1921.62 1549.52 1915.3 1549.52 Q1913.13 1549.52 1910.86 1549.15 Q1908.61 1548.78 1906.21 1548.04 L1906.21 1543.34 Q1908.29 1544.47 1910.51 1545.03 Q1912.73 1545.58 1915.21 1545.58 Q1919.22 1545.58 1921.55 1543.48 Q1923.89 1541.37 1923.89 1537.76 Q1923.89 1534.15 1921.55 1532.04 Q1919.22 1529.94 1915.21 1529.94 Q1913.34 1529.94 1911.46 1530.35 Q1909.61 1530.77 1907.66 1531.65 L1907.66 1514.29 Z\" fill=\"#000000\" fill-rule=\"nonzero\" fill-opacity=\"1\" /><path clip-path=\"url(#clip300)\" d=\"M1947.78 1517.37 Q1944.17 1517.37 1942.34 1520.93 Q1940.53 1524.47 1940.53 1531.6 Q1940.53 1538.71 1942.34 1542.27 Q1944.17 1545.82 1947.78 1545.82 Q1951.41 1545.82 1953.22 1542.27 Q1955.05 1538.71 1955.05 1531.6 Q1955.05 1524.47 1953.22 1520.93 Q1951.41 1517.37 1947.78 1517.37 M1947.78 1513.66 Q1953.59 1513.66 1956.65 1518.27 Q1959.72 1522.85 1959.72 1531.6 Q1959.72 1540.33 1956.65 1544.94 Q1953.59 1549.52 1947.78 1549.52 Q1941.97 1549.52 1938.89 1544.94 Q1935.84 1540.33 1935.84 1531.6 Q1935.84 1522.85 1938.89 1518.27 Q1941.97 1513.66 1947.78 1513.66 Z\" fill=\"#000000\" fill-rule=\"nonzero\" fill-opacity=\"1\" /><path clip-path=\"url(#clip300)\" d=\"M2189.01 1544.91 L2196.65 1544.91 L2196.65 1518.55 L2188.34 1520.21 L2188.34 1515.95 L2196.6 1514.29 L2201.28 1514.29 L2201.28 1544.91 L2208.92 1544.91 L2208.92 1548.85 L2189.01 1548.85 L2189.01 1544.91 Z\" fill=\"#000000\" fill-rule=\"nonzero\" fill-opacity=\"1\" /><path clip-path=\"url(#clip300)\" d=\"M2217.18 1514.29 L2239.4 1514.29 L2239.4 1516.28 L2226.86 1548.85 L2221.97 1548.85 L2233.78 1518.22 L2217.18 1518.22 L2217.18 1514.29 Z\" fill=\"#000000\" fill-rule=\"nonzero\" fill-opacity=\"1\" /><path clip-path=\"url(#clip300)\" d=\"M2248.57 1514.29 L2266.93 1514.29 L2266.93 1518.22 L2252.85 1518.22 L2252.85 1526.7 Q2253.87 1526.35 2254.89 1526.19 Q2255.91 1526 2256.93 1526 Q2262.71 1526 2266.09 1529.17 Q2269.47 1532.34 2269.47 1537.76 Q2269.47 1543.34 2266 1546.44 Q2262.53 1549.52 2256.21 1549.52 Q2254.03 1549.52 2251.76 1549.15 Q2249.52 1548.78 2247.11 1548.04 L2247.11 1543.34 Q2249.19 1544.47 2251.42 1545.03 Q2253.64 1545.58 2256.12 1545.58 Q2260.12 1545.58 2262.46 1543.48 Q2264.8 1541.37 2264.8 1537.76 Q2264.8 1534.15 2262.46 1532.04 Q2260.12 1529.94 2256.12 1529.94 Q2254.24 1529.94 2252.37 1530.35 Q2250.51 1530.77 2248.57 1531.65 L2248.57 1514.29 Z\" fill=\"#000000\" fill-rule=\"nonzero\" fill-opacity=\"1\" /><polyline clip-path=\"url(#clip302)\" style=\"stroke:#000000; stroke-linecap:round; stroke-linejoin:round; stroke-width:2; stroke-opacity:0.1; fill:none\" points=\"169.121,1201.52 2352.76,1201.52 \"/>\n",
       "<polyline clip-path=\"url(#clip302)\" style=\"stroke:#000000; stroke-linecap:round; stroke-linejoin:round; stroke-width:2; stroke-opacity:0.1; fill:none\" points=\"169.121,908.481 2352.76,908.481 \"/>\n",
       "<polyline clip-path=\"url(#clip302)\" style=\"stroke:#000000; stroke-linecap:round; stroke-linejoin:round; stroke-width:2; stroke-opacity:0.1; fill:none\" points=\"169.121,615.443 2352.76,615.443 \"/>\n",
       "<polyline clip-path=\"url(#clip302)\" style=\"stroke:#000000; stroke-linecap:round; stroke-linejoin:round; stroke-width:2; stroke-opacity:0.1; fill:none\" points=\"169.121,322.406 2352.76,322.406 \"/>\n",
       "<polyline clip-path=\"url(#clip300)\" style=\"stroke:#000000; stroke-linecap:round; stroke-linejoin:round; stroke-width:4; stroke-opacity:1; fill:none\" points=\"169.121,1486.45 169.121,47.2441 \"/>\n",
       "<polyline clip-path=\"url(#clip300)\" style=\"stroke:#000000; stroke-linecap:round; stroke-linejoin:round; stroke-width:4; stroke-opacity:1; fill:none\" points=\"169.121,1201.52 188.019,1201.52 \"/>\n",
       "<polyline clip-path=\"url(#clip300)\" style=\"stroke:#000000; stroke-linecap:round; stroke-linejoin:round; stroke-width:4; stroke-opacity:1; fill:none\" points=\"169.121,908.481 188.019,908.481 \"/>\n",
       "<polyline clip-path=\"url(#clip300)\" style=\"stroke:#000000; stroke-linecap:round; stroke-linejoin:round; stroke-width:4; stroke-opacity:1; fill:none\" points=\"169.121,615.443 188.019,615.443 \"/>\n",
       "<polyline clip-path=\"url(#clip300)\" style=\"stroke:#000000; stroke-linecap:round; stroke-linejoin:round; stroke-width:4; stroke-opacity:1; fill:none\" points=\"169.121,322.406 188.019,322.406 \"/>\n",
       "<path clip-path=\"url(#clip300)\" d=\"M91.5938 1199.65 Q88.4456 1199.65 86.5938 1201.81 Q84.7651 1203.96 84.7651 1207.71 Q84.7651 1211.44 86.5938 1213.61 Q88.4456 1215.77 91.5938 1215.77 Q94.7419 1215.77 96.5706 1213.61 Q98.4224 1211.44 98.4224 1207.71 Q98.4224 1203.96 96.5706 1201.81 Q94.7419 1199.65 91.5938 1199.65 M100.876 1185 L100.876 1189.26 Q99.1169 1188.43 97.3113 1187.99 Q95.5289 1187.55 93.7697 1187.55 Q89.1401 1187.55 86.6864 1190.67 Q84.2558 1193.8 83.9086 1200.12 Q85.2743 1198.1 87.3345 1197.04 Q89.3947 1195.95 91.8715 1195.95 Q97.0798 1195.95 100.089 1199.12 Q103.121 1202.27 103.121 1207.71 Q103.121 1213.03 99.9733 1216.25 Q96.8252 1219.47 91.5938 1219.47 Q85.5984 1219.47 82.4271 1214.89 Q79.2559 1210.28 79.2559 1201.55 Q79.2559 1193.36 83.1447 1188.5 Q87.0336 1183.61 93.5845 1183.61 Q95.3437 1183.61 97.1261 1183.96 Q98.9317 1184.31 100.876 1185 Z\" fill=\"#000000\" fill-rule=\"nonzero\" fill-opacity=\"1\" /><path clip-path=\"url(#clip300)\" d=\"M121.177 1187.32 Q117.566 1187.32 115.737 1190.88 Q113.932 1194.42 113.932 1201.55 Q113.932 1208.66 115.737 1212.22 Q117.566 1215.77 121.177 1215.77 Q124.811 1215.77 126.617 1212.22 Q128.445 1208.66 128.445 1201.55 Q128.445 1194.42 126.617 1190.88 Q124.811 1187.32 121.177 1187.32 M121.177 1183.61 Q126.987 1183.61 130.043 1188.22 Q133.121 1192.8 133.121 1201.55 Q133.121 1210.28 130.043 1214.89 Q126.987 1219.47 121.177 1219.47 Q115.367 1219.47 112.288 1214.89 Q109.233 1210.28 109.233 1201.55 Q109.233 1192.8 112.288 1188.22 Q115.367 1183.61 121.177 1183.61 Z\" fill=\"#000000\" fill-rule=\"nonzero\" fill-opacity=\"1\" /><path clip-path=\"url(#clip300)\" d=\"M81.154 925.043 L81.154 920.784 Q82.9133 921.617 84.7188 922.057 Q86.5243 922.497 88.2604 922.497 Q92.89 922.497 95.3206 919.395 Q97.7743 916.27 98.1215 909.927 Q96.7789 911.918 94.7187 912.983 Q92.6586 914.048 90.1586 914.048 Q84.9734 914.048 81.941 910.923 Q78.9318 907.775 78.9318 902.335 Q78.9318 897.011 82.0799 893.793 Q85.2281 890.576 90.4595 890.576 Q96.4548 890.576 99.603 895.182 Q102.774 899.765 102.774 908.515 Q102.774 916.687 98.8854 921.571 Q95.0197 926.432 88.4688 926.432 Q86.7095 926.432 84.904 926.085 Q83.0984 925.738 81.154 925.043 M90.4595 910.39 Q93.6076 910.39 95.4363 908.238 Q97.2882 906.085 97.2882 902.335 Q97.2882 898.608 95.4363 896.455 Q93.6076 894.279 90.4595 894.279 Q87.3114 894.279 85.4595 896.455 Q83.6308 898.608 83.6308 902.335 Q83.6308 906.085 85.4595 908.238 Q87.3114 910.39 90.4595 910.39 Z\" fill=\"#000000\" fill-rule=\"nonzero\" fill-opacity=\"1\" /><path clip-path=\"url(#clip300)\" d=\"M121.177 894.279 Q117.566 894.279 115.737 897.844 Q113.932 901.386 113.932 908.515 Q113.932 915.622 115.737 919.187 Q117.566 922.728 121.177 922.728 Q124.811 922.728 126.617 919.187 Q128.445 915.622 128.445 908.515 Q128.445 901.386 126.617 897.844 Q124.811 894.279 121.177 894.279 M121.177 890.576 Q126.987 890.576 130.043 895.182 Q133.121 899.765 133.121 908.515 Q133.121 917.242 130.043 921.849 Q126.987 926.432 121.177 926.432 Q115.367 926.432 112.288 921.849 Q109.233 917.242 109.233 908.515 Q109.233 899.765 112.288 895.182 Q115.367 890.576 121.177 890.576 Z\" fill=\"#000000\" fill-rule=\"nonzero\" fill-opacity=\"1\" /><path clip-path=\"url(#clip300)\" d=\"M51.6634 628.788 L59.3023 628.788 L59.3023 602.423 L50.9921 604.089 L50.9921 599.83 L59.256 598.163 L63.9319 598.163 L63.9319 628.788 L71.5707 628.788 L71.5707 632.723 L51.6634 632.723 L51.6634 628.788 Z\" fill=\"#000000\" fill-rule=\"nonzero\" fill-opacity=\"1\" /><path clip-path=\"url(#clip300)\" d=\"M85.0429 628.788 L101.362 628.788 L101.362 632.723 L79.4179 632.723 L79.4179 628.788 Q82.0799 626.034 86.6632 621.404 Q91.2697 616.751 92.4502 615.409 Q94.6956 612.886 95.5752 611.149 Q96.478 609.39 96.478 607.7 Q96.478 604.946 94.5336 603.21 Q92.6123 601.474 89.5104 601.474 Q87.3114 601.474 84.8577 602.237 Q82.4271 603.001 79.6494 604.552 L79.6494 599.83 Q82.4734 598.696 84.9271 598.117 Q87.3808 597.538 89.4178 597.538 Q94.7882 597.538 97.9826 600.224 Q101.177 602.909 101.177 607.399 Q101.177 609.529 100.367 611.45 Q99.5798 613.348 97.4734 615.941 Q96.8947 616.612 93.7928 619.83 Q90.691 623.024 85.0429 628.788 Z\" fill=\"#000000\" fill-rule=\"nonzero\" fill-opacity=\"1\" /><path clip-path=\"url(#clip300)\" d=\"M121.177 601.242 Q117.566 601.242 115.737 604.807 Q113.932 608.349 113.932 615.478 Q113.932 622.585 115.737 626.149 Q117.566 629.691 121.177 629.691 Q124.811 629.691 126.617 626.149 Q128.445 622.585 128.445 615.478 Q128.445 608.349 126.617 604.807 Q124.811 601.242 121.177 601.242 M121.177 597.538 Q126.987 597.538 130.043 602.145 Q133.121 606.728 133.121 615.478 Q133.121 624.205 130.043 628.811 Q126.987 633.395 121.177 633.395 Q115.367 633.395 112.288 628.811 Q109.233 624.205 109.233 615.478 Q109.233 606.728 112.288 602.145 Q115.367 597.538 121.177 597.538 Z\" fill=\"#000000\" fill-rule=\"nonzero\" fill-opacity=\"1\" /><path clip-path=\"url(#clip300)\" d=\"M51.6634 335.751 L59.3023 335.751 L59.3023 309.385 L50.9921 311.052 L50.9921 306.793 L59.256 305.126 L63.9319 305.126 L63.9319 335.751 L71.5707 335.751 L71.5707 339.686 L51.6634 339.686 L51.6634 335.751 Z\" fill=\"#000000\" fill-rule=\"nonzero\" fill-opacity=\"1\" /><path clip-path=\"url(#clip300)\" d=\"M81.0614 305.126 L99.4178 305.126 L99.4178 309.061 L85.3438 309.061 L85.3438 317.533 Q86.3623 317.186 87.3808 317.024 Q88.3993 316.839 89.4178 316.839 Q95.2049 316.839 98.5845 320.01 Q101.964 323.182 101.964 328.598 Q101.964 334.177 98.4919 337.279 Q95.0197 340.357 88.7003 340.357 Q86.5243 340.357 84.2558 339.987 Q82.0105 339.617 79.6031 338.876 L79.6031 334.177 Q81.6864 335.311 83.9086 335.867 Q86.1308 336.422 88.6077 336.422 Q92.6123 336.422 94.9502 334.316 Q97.2882 332.209 97.2882 328.598 Q97.2882 324.987 94.9502 322.881 Q92.6123 320.774 88.6077 320.774 Q86.7327 320.774 84.8577 321.191 Q83.0058 321.607 81.0614 322.487 L81.0614 305.126 Z\" fill=\"#000000\" fill-rule=\"nonzero\" fill-opacity=\"1\" /><path clip-path=\"url(#clip300)\" d=\"M121.177 308.205 Q117.566 308.205 115.737 311.77 Q113.932 315.311 113.932 322.441 Q113.932 329.547 115.737 333.112 Q117.566 336.654 121.177 336.654 Q124.811 336.654 126.617 333.112 Q128.445 329.547 128.445 322.441 Q128.445 315.311 126.617 311.77 Q124.811 308.205 121.177 308.205 M121.177 304.501 Q126.987 304.501 130.043 309.108 Q133.121 313.691 133.121 322.441 Q133.121 331.168 130.043 335.774 Q126.987 340.357 121.177 340.357 Q115.367 340.357 112.288 335.774 Q109.233 331.168 109.233 322.441 Q109.233 313.691 112.288 309.108 Q115.367 304.501 121.177 304.501 Z\" fill=\"#000000\" fill-rule=\"nonzero\" fill-opacity=\"1\" /><circle clip-path=\"url(#clip302)\" cx=\"839.004\" cy=\"87.9763\" r=\"14.4\" fill=\"#009af9\" fill-rule=\"evenodd\" fill-opacity=\"1\" stroke=\"#000000\" stroke-opacity=\"1\" stroke-width=\"3.2\"/>\n",
       "<circle clip-path=\"url(#clip302)\" cx=\"1471.91\" cy=\"488.461\" r=\"14.4\" fill=\"#009af9\" fill-rule=\"evenodd\" fill-opacity=\"1\" stroke=\"#000000\" stroke-opacity=\"1\" stroke-width=\"3.2\"/>\n",
       "<circle clip-path=\"url(#clip302)\" cx=\"2104.81\" cy=\"1260.13\" r=\"14.4\" fill=\"#009af9\" fill-rule=\"evenodd\" fill-opacity=\"1\" stroke=\"#000000\" stroke-opacity=\"1\" stroke-width=\"3.2\"/>\n",
       "<circle clip-path=\"url(#clip302)\" cx=\"230.922\" cy=\"937.784\" r=\"14.4\" fill=\"#009af9\" fill-rule=\"evenodd\" fill-opacity=\"1\" stroke=\"#000000\" stroke-opacity=\"1\" stroke-width=\"3.2\"/>\n",
       "<circle clip-path=\"url(#clip302)\" cx=\"1794.56\" cy=\"1328.5\" r=\"14.4\" fill=\"#009af9\" fill-rule=\"evenodd\" fill-opacity=\"1\" stroke=\"#000000\" stroke-opacity=\"1\" stroke-width=\"3.2\"/>\n",
       "<circle clip-path=\"url(#clip302)\" cx=\"2290.95\" cy=\"1445.72\" r=\"14.4\" fill=\"#009af9\" fill-rule=\"evenodd\" fill-opacity=\"1\" stroke=\"#000000\" stroke-opacity=\"1\" stroke-width=\"3.2\"/>\n",
       "<polyline clip-path=\"url(#clip302)\" style=\"stroke:#0000ff; stroke-linecap:round; stroke-linejoin:round; stroke-width:8; stroke-opacity:1; fill:none\" points=\"839.004,87.9763 230.922,937.784 \"/>\n",
       "<polyline clip-path=\"url(#clip302)\" style=\"stroke:#0000ff; stroke-linecap:round; stroke-linejoin:round; stroke-width:8; stroke-opacity:1; fill:none\" points=\"1471.91,488.461 1794.56,1328.5 \"/>\n",
       "<polyline clip-path=\"url(#clip302)\" style=\"stroke:#0000ff; stroke-linecap:round; stroke-linejoin:round; stroke-width:8; stroke-opacity:1; fill:none\" points=\"2104.81,1260.13 2290.95,1445.72 \"/>\n",
       "</svg>\n"
      ]
     },
     "metadata": {},
     "output_type": "display_data"
    }
   ],
   "source": [
    "# Celda para dibujar el matching encontrado\n",
    "X = zeros(N,N)\n",
    "for i in 1:N, j in 1:N\n",
    "    if i<j\n",
    "    X[i,j]=value(modelo4[:x][[i,j]])\n",
    "    end\n",
    "end\n",
    "dibuja(a,b,X)"
   ]
  },
  {
   "cell_type": "markdown",
   "metadata": {},
   "source": [
    "## [Propuesto] P4\n",
    "\n",
    "Escriba una función **test_matching(N_MAX)** que realice lo siguiente.\n",
    "\n",
    "1. Genere una instancia aleatoria (N, coordX,coordY,w) para cada N par entre 6 y N_MAX \n",
    "   donde coordX, coordY son puntos de la grilla 1:200 por 1:200 y w es su matriz de distancia.\n",
    "   \n",
    "   _Indicación: Puede serle útil usar el comando **sample(1:200, N, replace = false)** entrega N enteros entre 1 y 200 sin repetición._\n",
    "   \n",
    "   Guarde las instancias creadas en un arreglo, durante su ejecución pues debe retornarlas al final.\n",
    "\n",
    "2. Para cada instancia (N,coordX,coordY,w) de su lista y cada modelo (num_mod), calcule y guarde los siguientes valores:\n",
    "    1. Valor de N\n",
    "    2. valor de num_mod\n",
    "    3. Numero de variables del modelo (busque el comando en la documentación de JuMP)\n",
    "    4. Numero de restricciones del modelo (busque el comando en la documentación de JuMP)\n",
    "    5. Tiempo de creación del modelo a partir de (N,coordX,coordY,w).   \n",
    "       _Indicación: Investigue el comando **@elapse**._ \n",
    "    6. Tiempo de resolución del modelo creado.\n",
    "    7. Valor objetivo encontrado (si logró terminar, si no, entregar 0).\n",
    "       _NOTA: Debe testear si el modelo termina de ejecutar usando **termination_status**._\n",
    "    8. Numero de iteraciones de simplex realizadas (**JuMP.simplex_iterations(modelo)**)\n",
    "    9. Numero de nodos BnB realizados (**JuMP.node_count(nombre_modelo)**)\n",
    "   \n",
    "   Luego elimine integralidad de las variables del modelo, resuelva nuevamente y calcule\n",
    "   \n",
    "    10. Tiempo de resolución del modelo fraccional\n",
    "    11. Valor objetivo encontrado (si logró terminar, si no, entregar 0)\n",
    "    12. Numero de iteraciones de simplex realizadas\n",
    "    \n",
    "3. Retorne un par INSTANCIAS, TABLA \n",
    "\n",
    "Parte 2. Cuando termine su función ejecute **test_matching(8)** y **test_matching(20)**, mostrando la TABLA creada.  \n",
    "\n",
    "Sugerencia: Un formato razonable de tabla es el de la siguiente celda"
   ]
  },
  {
   "cell_type": "code",
   "execution_count": null,
   "metadata": {},
   "outputs": [],
   "source": [
    "ENV[\"COLUMNS\"]=200\n",
    "df=DataFrame(\n",
    "    :N                 => Int64[],\n",
    "    :num_modelo        => Int64[],\n",
    "    :variables         => Int64[],\n",
    "    :restricciones     => Int64[],\n",
    "    :t_creacion_ent    => Float64[],\n",
    "    :t_resolucion_ent  => Float64[],\n",
    "    :valor_ent         => Float64[],\n",
    "    :simplex_ent       => Int64[],\n",
    "    :nodos_bnb         => Int64[],\n",
    "    :t_resolucion_frac => Float64[],\n",
    "    :valor_frac        => Float64[],\n",
    "    :simplex_frac      => Int64[]) \n",
    "push!(df,[6, 1, 18, 60, 0.55, 1.223, 14.4, 10, 7, 2, 0.33, 5])"
   ]
  },
  {
   "cell_type": "code",
   "execution_count": null,
   "metadata": {},
   "outputs": [],
   "source": [
    "function test_matching(N_MAX)\n",
    "    # implemente\n",
    "    return INSTANCIAS, TABLA \n",
    "end\n",
    "    "
   ]
  },
  {
   "cell_type": "code",
   "execution_count": null,
   "metadata": {},
   "outputs": [],
   "source": [
    "# Pruebe su función acá\n",
    "INSTANCIAS8, TABLA8 = test_matching(8);\n",
    "TABLA8"
   ]
  },
  {
   "cell_type": "code",
   "execution_count": null,
   "metadata": {},
   "outputs": [],
   "source": [
    "# Pruebe su función acá\n",
    "INSTANCIAS20, TABLA20 = test_matching(20);\n",
    "TABLA20"
   ]
  }
 ],
 "metadata": {
  "kernelspec": {
   "display_name": "Julia 1.8.5",
   "language": "julia",
   "name": "julia-1.8"
  },
  "language_info": {
   "file_extension": ".jl",
   "mimetype": "application/julia",
   "name": "julia",
   "version": "1.8.5"
  }
 },
 "nbformat": 4,
 "nbformat_minor": 2
}
